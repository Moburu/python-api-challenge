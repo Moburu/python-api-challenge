{
 "cells": [
  {
   "cell_type": "markdown",
   "metadata": {},
   "source": [
    "# VacationPy\n",
    "---\n",
    "\n",
    "## Starter Code to Import Libraries and Load the Weather and Coordinates Data"
   ]
  },
  {
   "cell_type": "code",
   "execution_count": 11,
   "metadata": {},
   "outputs": [],
   "source": [
    "# Dependencies and Setup\n",
    "import hvplot.pandas\n",
    "import pandas as pd\n",
    "import requests\n",
    "import logging\n",
    "\n",
    "# Import API key\n",
    "from api_keys import geoapify_key"
   ]
  },
  {
   "cell_type": "code",
   "execution_count": 2,
   "metadata": {},
   "outputs": [
    {
     "data": {
      "text/html": [
       "<div>\n",
       "<style scoped>\n",
       "    .dataframe tbody tr th:only-of-type {\n",
       "        vertical-align: middle;\n",
       "    }\n",
       "\n",
       "    .dataframe tbody tr th {\n",
       "        vertical-align: top;\n",
       "    }\n",
       "\n",
       "    .dataframe thead th {\n",
       "        text-align: right;\n",
       "    }\n",
       "</style>\n",
       "<table border=\"1\" class=\"dataframe\">\n",
       "  <thead>\n",
       "    <tr style=\"text-align: right;\">\n",
       "      <th></th>\n",
       "      <th>City_ID</th>\n",
       "      <th>City</th>\n",
       "      <th>Lat</th>\n",
       "      <th>Lng</th>\n",
       "      <th>Max Temp</th>\n",
       "      <th>Humidity</th>\n",
       "      <th>Cloudiness</th>\n",
       "      <th>Wind Speed</th>\n",
       "      <th>Country</th>\n",
       "      <th>Date</th>\n",
       "    </tr>\n",
       "  </thead>\n",
       "  <tbody>\n",
       "    <tr>\n",
       "      <th>0</th>\n",
       "      <td>0</td>\n",
       "      <td>punta arenas</td>\n",
       "      <td>-53.1500</td>\n",
       "      <td>-70.9167</td>\n",
       "      <td>274.21</td>\n",
       "      <td>86</td>\n",
       "      <td>75</td>\n",
       "      <td>4.63</td>\n",
       "      <td>CL</td>\n",
       "      <td>Mon Jul 29 00:16:53 2024</td>\n",
       "    </tr>\n",
       "    <tr>\n",
       "      <th>1</th>\n",
       "      <td>1</td>\n",
       "      <td>pyapon</td>\n",
       "      <td>16.2833</td>\n",
       "      <td>95.6833</td>\n",
       "      <td>299.72</td>\n",
       "      <td>87</td>\n",
       "      <td>100</td>\n",
       "      <td>1.22</td>\n",
       "      <td>MM</td>\n",
       "      <td>Mon Jul 29 00:16:54 2024</td>\n",
       "    </tr>\n",
       "    <tr>\n",
       "      <th>2</th>\n",
       "      <td>2</td>\n",
       "      <td>puerto deseado</td>\n",
       "      <td>-47.7503</td>\n",
       "      <td>-65.8938</td>\n",
       "      <td>275.11</td>\n",
       "      <td>68</td>\n",
       "      <td>26</td>\n",
       "      <td>6.25</td>\n",
       "      <td>AR</td>\n",
       "      <td>Mon Jul 29 00:16:55 2024</td>\n",
       "    </tr>\n",
       "    <tr>\n",
       "      <th>3</th>\n",
       "      <td>3</td>\n",
       "      <td>hithadhoo</td>\n",
       "      <td>-0.6000</td>\n",
       "      <td>73.0833</td>\n",
       "      <td>302.09</td>\n",
       "      <td>71</td>\n",
       "      <td>100</td>\n",
       "      <td>4.57</td>\n",
       "      <td>MV</td>\n",
       "      <td>Mon Jul 29 00:16:56 2024</td>\n",
       "    </tr>\n",
       "    <tr>\n",
       "      <th>4</th>\n",
       "      <td>4</td>\n",
       "      <td>grytviken</td>\n",
       "      <td>-54.2811</td>\n",
       "      <td>-36.5092</td>\n",
       "      <td>271.99</td>\n",
       "      <td>81</td>\n",
       "      <td>62</td>\n",
       "      <td>4.78</td>\n",
       "      <td>GS</td>\n",
       "      <td>Mon Jul 29 00:08:28 2024</td>\n",
       "    </tr>\n",
       "  </tbody>\n",
       "</table>\n",
       "</div>"
      ],
      "text/plain": [
       "   City_ID            City      Lat      Lng  Max Temp  Humidity  Cloudiness  \\\n",
       "0        0    punta arenas -53.1500 -70.9167    274.21        86          75   \n",
       "1        1          pyapon  16.2833  95.6833    299.72        87         100   \n",
       "2        2  puerto deseado -47.7503 -65.8938    275.11        68          26   \n",
       "3        3       hithadhoo  -0.6000  73.0833    302.09        71         100   \n",
       "4        4       grytviken -54.2811 -36.5092    271.99        81          62   \n",
       "\n",
       "   Wind Speed Country                      Date  \n",
       "0        4.63      CL  Mon Jul 29 00:16:53 2024  \n",
       "1        1.22      MM  Mon Jul 29 00:16:54 2024  \n",
       "2        6.25      AR  Mon Jul 29 00:16:55 2024  \n",
       "3        4.57      MV  Mon Jul 29 00:16:56 2024  \n",
       "4        4.78      GS  Mon Jul 29 00:08:28 2024  "
      ]
     },
     "execution_count": 2,
     "metadata": {},
     "output_type": "execute_result"
    }
   ],
   "source": [
    "# Load the CSV file created in Part 1 into a Pandas DataFrame\n",
    "city_data_df = pd.read_csv(\"output_data/cities.csv\")\n",
    "\n",
    "# Display sample data\n",
    "city_data_df.head()"
   ]
  },
  {
   "cell_type": "markdown",
   "metadata": {},
   "source": [
    "---\n",
    "\n",
    "### Step 1: Create a map that displays a point for every city in the `city_data_df` DataFrame. The size of the point should be the humidity in each city."
   ]
  },
  {
   "cell_type": "code",
   "execution_count": 4,
   "metadata": {},
   "outputs": [
    {
     "data": {},
     "metadata": {},
     "output_type": "display_data"
    },
    {
     "data": {
      "application/vnd.holoviews_exec.v0+json": "",
      "text/html": [
       "<div id='p1113'>\n",
       "  <div id=\"e8a91d73-1dfa-4423-af78-b570b5aaff7f\" data-root-id=\"p1113\" style=\"display: contents;\"></div>\n",
       "</div>\n",
       "<script type=\"application/javascript\">(function(root) {\n",
       "  var docs_json = {\"a69334db-b235-4879-9d4e-36b4cd9225f7\":{\"version\":\"3.4.2\",\"title\":\"Bokeh Application\",\"roots\":[{\"type\":\"object\",\"name\":\"Row\",\"id\":\"p1113\",\"attributes\":{\"name\":\"Row01820\",\"tags\":[\"embedded\"],\"stylesheets\":[\"\\n:host(.pn-loading):before, .pn-loading:before {\\n  background-color: #c3c3c3;\\n  mask-size: auto calc(min(50%, 400px));\\n  -webkit-mask-size: auto calc(min(50%, 400px));\\n}\",{\"type\":\"object\",\"name\":\"ImportedStyleSheet\",\"id\":\"p1116\",\"attributes\":{\"url\":\"https://cdn.holoviz.org/panel/1.4.4/dist/css/loading.css\"}},{\"type\":\"object\",\"name\":\"ImportedStyleSheet\",\"id\":\"p1215\",\"attributes\":{\"url\":\"https://cdn.holoviz.org/panel/1.4.4/dist/css/listpanel.css\"}},{\"type\":\"object\",\"name\":\"ImportedStyleSheet\",\"id\":\"p1114\",\"attributes\":{\"url\":\"https://cdn.holoviz.org/panel/1.4.4/dist/bundled/theme/default.css\"}},{\"type\":\"object\",\"name\":\"ImportedStyleSheet\",\"id\":\"p1115\",\"attributes\":{\"url\":\"https://cdn.holoviz.org/panel/1.4.4/dist/bundled/theme/native.css\"}}],\"margin\":0,\"sizing_mode\":\"stretch_width\",\"align\":\"start\",\"children\":[{\"type\":\"object\",\"name\":\"Spacer\",\"id\":\"p1117\",\"attributes\":{\"name\":\"HSpacer01826\",\"stylesheets\":[\"\\n:host(.pn-loading):before, .pn-loading:before {\\n  background-color: #c3c3c3;\\n  mask-size: auto calc(min(50%, 400px));\\n  -webkit-mask-size: auto calc(min(50%, 400px));\\n}\",{\"id\":\"p1116\"},{\"id\":\"p1114\"},{\"id\":\"p1115\"}],\"margin\":0,\"sizing_mode\":\"stretch_width\",\"align\":\"start\"}},{\"type\":\"object\",\"name\":\"Figure\",\"id\":\"p1156\",\"attributes\":{\"width\":null,\"height\":null,\"margin\":[5,10],\"sizing_mode\":\"fixed\",\"align\":\"start\",\"x_range\":{\"type\":\"object\",\"name\":\"Range1d\",\"id\":\"p1127\",\"attributes\":{\"tags\":[[[\"Longitude\",null]],[]],\"start\":-23811549.528477233,\"end\":23925930.305267327,\"reset_start\":-23811549.528477233,\"reset_end\":23925930.305267327,\"min_interval\":5}},\"y_range\":{\"type\":\"object\",\"name\":\"Range1d\",\"id\":\"p1128\",\"attributes\":{\"tags\":[[[\"Latitude\",null]],{\"type\":\"map\",\"entries\":[[\"invert_yaxis\",false],[\"autorange\",false]]}],\"start\":-8518869.205865927,\"end\":15682512.245061398,\"reset_start\":-8518869.205865927,\"reset_end\":15682512.245061398,\"min_interval\":5}},\"x_scale\":{\"type\":\"object\",\"name\":\"LinearScale\",\"id\":\"p1166\"},\"y_scale\":{\"type\":\"object\",\"name\":\"LinearScale\",\"id\":\"p1167\"},\"title\":{\"type\":\"object\",\"name\":\"Title\",\"id\":\"p1159\",\"attributes\":{\"text_color\":\"black\",\"text_font_size\":\"12pt\"}},\"renderers\":[{\"type\":\"object\",\"name\":\"TileRenderer\",\"id\":\"p1189\",\"attributes\":{\"level\":\"underlay\",\"tile_source\":{\"type\":\"object\",\"name\":\"WMTSTileSource\",\"id\":\"p1185\",\"attributes\":{\"url\":\"https://c.tile.openstreetmap.org/{Z}/{X}/{Y}.png\",\"attribution\":\"&copy; <a href=\\\"https://www.openstreetmap.org/copyright\\\">OpenStreetMap</a> contributors\"}}}},{\"type\":\"object\",\"name\":\"GlyphRenderer\",\"id\":\"p1205\",\"attributes\":{\"name\":\"color\",\"data_source\":{\"type\":\"object\",\"name\":\"ColumnDataSource\",\"id\":\"p1194\",\"attributes\":{\"selected\":{\"type\":\"object\",\"name\":\"Selection\",\"id\":\"p1195\",\"attributes\":{\"indices\":[],\"line_indices\":[]}},\"selection_policy\":{\"type\":\"object\",\"name\":\"UnionRenderers\",\"id\":\"p1196\"},\"data\":{\"type\":\"map\",\"entries\":[[\"Lng\",{\"type\":\"ndarray\",\"array\":{\"type\":\"bytes\",\"data\":\"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\"},\"shape\":[578],\"dtype\":\"float64\",\"order\":\"little\"}],[\"Lat\",{\"type\":\"ndarray\",\"array\":{\"type\":\"bytes\",\"data\":\"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\"},\"shape\":[578],\"dtype\":\"float64\",\"order\":\"little\"}],[\"City\",[\"punta arenas\",\"pyapon\",\"puerto deseado\",\"hithadhoo\",\"grytviken\",\"leh\",\"kayangel\",\"adamstown\",\"bethel\",\"broome\",\"blackmans bay\",\"hermanus\",\"isafjordur\",\"zambezi\",\"trinity\",\"uturoa\",\"vorkuta\",\"edinburgh of the seven seas\",\"caninde de sao francisco\",\"waitangi\",\"surhuisterveen\",\"lebu\",\"tiksi\",\"paoua\",\"west island\",\"ulladulla\",\"bredasdorp\",\"constantia\",\"badger\",\"remire-montjoly\",\"port-aux-francais\",\"iqaluit\",\"sitka\",\"atafu village\",\"linxia chengguanzhen\",\"berdigestyakh\",\"lihue\",\"kone\",\"la palma\",\"la passe\",\"paradip garh\",\"urangan\",\"atyashevo\",\"iskateley\",\"virginia beach\",\"puerto ayora\",\"san luis de la loma\",\"utrik\",\"abiramam\",\"sofifi\",\"ramnagar\",\"puerto natales\",\"udachny\",\"albany\",\"marsh harbour\",\"mugia\",\"bilibino\",\"nagina\",\"zhangye\",\"carnarvon\",\"yellowknife\",\"gorom-gorom\",\"kodiak\",\"nigde\",\"armidale\",\"invercargill\",\"nuuk\",\"naracoorte\",\"flying fish cove\",\"awjilah\",\"nemuro\",\"luderitz\",\"enewetak\",\"port elizabeth\",\"san antonio de pale\",\"happy valley-goose bay\",\"selfoss\",\"debre tabor\",\"hanceville\",\"anadyr\",\"lompoc\",\"saipan\",\"wauchope\",\"port mathurin\",\"pacific grove\",\"stanley\",\"susuman\",\"labrador city\",\"mount isa\",\"praia da vitoria\",\"huarmey\",\"barra de santo antonio\",\"el jadid\",\"sinabang\",\"ta`u\",\"cassilandia\",\"borogontsy\",\"kashgar\",\"thompson\",\"saudarkrokur\",\"ujae\",\"vila franca do campo\",\"papatowai\",\"waraseoni\",\"avarua\",\"miandrivazo\",\"guerrero negro\",\"margaret river\",\"nadym\",\"selty\",\"yuzhno-kurilsk\",\"yamada\",\"seorinarayan\",\"mount pearl\",\"ancud\",\"georgetown\",\"geraldton\",\"tongouson\",\"shimoda\",\"canutama\",\"broken hill\",\"tongliao\",\"klyuchi\",\"aasiaat\",\"tazacorte\",\"howard springs\",\"blackwater\",\"yangambi\",\"san patricio\",\"newman\",\"whitehorse\",\"lospalos\",\"wailua homesteads\",\"prince rupert\",\"ushuaia\",\"reggane\",\"khandyga\",\"new norfolk\",\"dudinka\",\"pazar\",\"petropavlovsk-kamchatsky\",\"hobyo\",\"ribeira grande\",\"kalispell\",\"kaitong\",\"east london\",\"shetpe\",\"ingleby greenhow\",\"aurillac\",\"saint-philippe\",\"tashir\",\"vilyuysk\",\"tolanaro\",\"nizhneudinsk\",\"longyearbyen\",\"moab\",\"zubin potok\",\"seka\",\"cabo san lucas\",\"olonkinbyen\",\"maun\",\"lazaro cardenas\",\"eraan\",\"nikolayevsk-on-amure\",\"huanren\",\"jamestown\",\"byumba\",\"laascaanood\",\"oranjemund\",\"burutu\",\"haikou\",\"n'zeto\",\"mahanoro\",\"sinaia\",\"masterton\",\"egilsstadir\",\"polyarnyy\",\"cockburn town\",\"st. john's\",\"kavieng\",\"hawaiian paradise park\",\"zaozersk\",\"lethbridge\",\"sumbawanga\",\"greifswald\",\"olinda\",\"choyr\",\"akureyri\",\"carlisle\",\"suya\",\"impfondo\",\"minas de marcona\",\"warrenton\",\"dukhovnitskoye\",\"al ghayzah\",\"ciudad lazaro cardenas\",\"coahuayana de hidalgo\",\"pisco\",\"prado\",\"port alfred\",\"gushu\",\"ditrau\",\"lubang\",\"paraiso\",\"guaiba\",\"cradock\",\"vilyuchinsk\",\"arraial do cabo\",\"talnakh\",\"natal\",\"brigantine\",\"usogorsk\",\"queenstown\",\"richards bay\",\"kismayo\",\"rikaze\",\"tura\",\"howrah\",\"bodo\",\"qamdo\",\"afaahiti\",\"konstantinovka\",\"benjamin aceval\",\"great bend\",\"kalmunai\",\"nova sintra\",\"bandarbeyla\",\"balnearia\",\"al artawiyah\",\"sidi merouane\",\"yucca valley\",\"motygino\",\"i-n-salah\",\"alice springs\",\"brisas de zicatela\",\"fort mcmurray\",\"vorgashor\",\"ibimirim\",\"holualoa\",\"cabedelo\",\"kruisfontein\",\"malanje\",\"punta cardon\",\"sol'-iletsk\",\"taroa\",\"kiunga\",\"ouallam\",\"port shepstone\",\"kailua-kona\",\"korla\",\"ndende\",\"kingston\",\"ugoofaaru\",\"chichawatni\",\"hennebont\",\"taghazout\",\"moscow\",\"puerto baquerizo moreno\",\"lesosibirsk\",\"rio grande\",\"kresttsy\",\"jinchang\",\"pimentel\",\"abaetetuba\",\"mata-utu\",\"ad dilam\",\"qaqortoq\",\"zheleznodorozhnyy\",\"aripuana\",\"ketchikan\",\"ust-nera\",\"lerwick\",\"maua\",\"rodolfo sanchez taboada\",\"brookings\",\"planaltina\",\"salta\",\"kokpekty\",\"ilhabela\",\"roi et\",\"tromso\",\"devoto\",\"bechar\",\"zakamensk\",\"an nuhud\",\"sangkhla buri\",\"kijang\",\"patong\",\"ilulissat\",\"capitao poco\",\"usinsk\",\"felipe carrillo puerto\",\"tarhuna\",\"angra do heroismo\",\"mersing\",\"progreso\",\"mont-dore\",\"svoge\",\"wynyard\",\"balakhta\",\"neryungri\",\"arno\",\"saqqez\",\"fayroz koh\",\"corry\",\"ouadda\",\"miles city\",\"choibalsan\",\"katabu\",\"island harbour\",\"santa ana\",\"new mirpur\",\"nongpoh\",\"podporozh'ye\",\"vredendal\",\"bubaque\",\"guardo\",\"port saint john's\",\"gore\",\"yerofey pavlovich\",\"magadan\",\"abalak\",\"adh dhibiyah\",\"elizabeth city\",\"sawakin\",\"chopinzinho\",\"lethem\",\"bashmakovo\",\"kerikeri\",\"gadzhiyevo\",\"urzhar\",\"alice\",\"port moresby\",\"mukalla\",\"west end\",\"veraval\",\"slave lake\",\"pathein\",\"hamilton\",\"sao jose da coroa grande\",\"guarapari\",\"ikwiriri\",\"las tablas\",\"tuy hoa\",\"mirny\",\"mantua\",\"tarawa\",\"tazovsky\",\"mulayjah\",\"villa bruzual\",\"chibougamau\",\"zholymbet\",\"tchintabaraden\",\"mil'kovo\",\"basco\",\"arkhangel'sk\",\"iringa\",\"suhbaatar\",\"nagqu\",\"niafunke\",\"mundybash\",\"songjiang\",\"lhasa\",\"san isidro de curuguaty\",\"weno\",\"thap than\",\"colonia menno\",\"fale old settlement\",\"la asuncion\",\"aykhal\",\"floro\",\"hede\",\"sarikei\",\"haiku-pauwela\",\"serhiyivka\",\"samfya\",\"tanumah\",\"rizhao\",\"alofi\",\"caleta de carquin\",\"macheng\",\"kapit\",\"san pedro pochutla\",\"qarauyl\",\"lorengau\",\"lancut\",\"saint-pierre\",\"hargeysa\",\"college\",\"peace river\",\"razole\",\"sao bento do sul\",\"cannonvale\",\"oneida\",\"mount gambier\",\"neiafu\",\"palmerston north\",\"al hufuf\",\"kushiro\",\"nishifukuma\",\"cruz del eje\",\"jayapura\",\"talara\",\"ohara\",\"alenquer\",\"alesund\",\"northam\",\"inhambane\",\"illizi\",\"waingapu\",\"tralee\",\"westport\",\"bengkulu\",\"la ronge\",\"tafresh\",\"keflavik\",\"cambria\",\"zeya\",\"sanya\",\"cove\",\"sai buri\",\"aljezur\",\"copala\",\"ash shafa\",\"ifanadiana\",\"portland\",\"mhamid\",\"rongelap\",\"vernon\",\"almeirim\",\"smithers\",\"nadi\",\"eastham\",\"ovalle\",\"jefferson city\",\"kollo\",\"forio\",\"turpan\",\"pagar alam\",\"belyy yar\",\"tidjikja\",\"port macquarie\",\"port douglas\",\"corner brook\",\"taos\",\"mary\",\"az zawr\",\"malpica\",\"uglegorsk\",\"warri\",\"demidov\",\"sa'dah\",\"kuantan\",\"cholet\",\"ndibene dahra\",\"soio\",\"ambodifotatra\",\"phalodi\",\"abepura\",\"urengoy\",\"labytnangi\",\"carauari\",\"margarita belen\",\"cidreira\",\"troitskoye\",\"kapa'a\",\"khovd\",\"okhotsk\",\"kharp\",\"tarashcha\",\"manaure\",\"nakamura\",\"bogandinskiy\",\"saint-joseph\",\"tabou\",\"esmoriz\",\"leava\",\"curanilahue\",\"mammoth lakes\",\"jacarei\",\"argos\",\"namibe\",\"menomonie\",\"quezon\",\"keelung\",\"la gi\",\"karratha\",\"crane\",\"armacao de buzios\",\"nuku'alofa\",\"sombrerete\",\"lauttasaari\",\"rufino\",\"guanica\",\"yorkton\",\"funafuti\",\"okha\",\"walvis bay\",\"chajari\",\"burang\",\"sisimiut\",\"sao paulo de olivenca\",\"ciudad del este\",\"bardai\",\"xiva\",\"xai-xai\",\"gisborne\",\"santa vitoria do palmar\",\"laojunmiao\",\"kerimaki\",\"trevelin\",\"moyynkum\",\"nisia floresta\",\"kavaratti\",\"santo antonio do ica\",\"iwanai\",\"sinop\",\"arias\",\"cartagena del chaira\",\"moose jaw\",\"kapuskasing\",\"dakhla\",\"huizhou\",\"north bend\",\"tokar\",\"canandaigua\",\"princeville\",\"caldwell\",\"lamu\",\"perols\",\"fecamp\",\"panamaram\",\"schrozberg\",\"pudasjarvi\",\"greymouth\",\"augusto correa\",\"rio preto da eva\",\"itoman\",\"firmat\",\"quellon\",\"antalaha\",\"konarka\",\"villanueva\",\"dusti\",\"stornoway\",\"tavas\",\"abaza\",\"fort st. john\",\"ivdel'\",\"grand rapids\",\"ardestan\",\"mar de espanha\",\"strelka\",\"yarmouth\",\"san jeronimo\",\"puerto armuelles\",\"el fasher\",\"xinyuan\",\"kokopo\",\"kybartai\",\"mendi\",\"sinan\",\"key west\",\"birni n konni\",\"kill devil hills\",\"karachi\",\"nogliki\",\"sao francisco\",\"guaimaro\",\"karlskrona\",\"hassi messaoud\",\"chul'man\",\"nacogdoches\",\"tobol'sk\",\"port-vila\",\"nabire\",\"wanning\",\"yardimli\"]],[\"Humidity\",{\"type\":\"ndarray\",\"array\":{\"type\":\"bytes\",\"data\":\"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\"},\"shape\":[578],\"dtype\":\"int32\",\"order\":\"little\"}],[\"color\",[\"punta arenas\",\"pyapon\",\"puerto deseado\",\"hithadhoo\",\"grytviken\",\"leh\",\"kayangel\",\"adamstown\",\"bethel\",\"broome\",\"blackmans bay\",\"hermanus\",\"isafjordur\",\"zambezi\",\"trinity\",\"uturoa\",\"vorkuta\",\"edinburgh of the seven seas\",\"caninde de sao francisco\",\"waitangi\",\"surhuisterveen\",\"lebu\",\"tiksi\",\"paoua\",\"west island\",\"ulladulla\",\"bredasdorp\",\"constantia\",\"badger\",\"remire-montjoly\",\"port-aux-francais\",\"iqaluit\",\"sitka\",\"atafu village\",\"linxia chengguanzhen\",\"berdigestyakh\",\"lihue\",\"kone\",\"la palma\",\"la passe\",\"paradip garh\",\"urangan\",\"atyashevo\",\"iskateley\",\"virginia beach\",\"puerto ayora\",\"san luis de la loma\",\"utrik\",\"abiramam\",\"sofifi\",\"ramnagar\",\"puerto natales\",\"udachny\",\"albany\",\"marsh harbour\",\"mugia\",\"bilibino\",\"nagina\",\"zhangye\",\"carnarvon\",\"yellowknife\",\"gorom-gorom\",\"kodiak\",\"nigde\",\"armidale\",\"invercargill\",\"nuuk\",\"naracoorte\",\"flying fish cove\",\"awjilah\",\"nemuro\",\"luderitz\",\"enewetak\",\"port elizabeth\",\"san antonio de pale\",\"happy valley-goose bay\",\"selfoss\",\"debre tabor\",\"hanceville\",\"anadyr\",\"lompoc\",\"saipan\",\"wauchope\",\"port mathurin\",\"pacific grove\",\"stanley\",\"susuman\",\"labrador city\",\"mount isa\",\"praia da vitoria\",\"huarmey\",\"barra de santo antonio\",\"el jadid\",\"sinabang\",\"ta`u\",\"cassilandia\",\"borogontsy\",\"kashgar\",\"thompson\",\"saudarkrokur\",\"ujae\",\"vila franca do campo\",\"papatowai\",\"waraseoni\",\"avarua\",\"miandrivazo\",\"guerrero negro\",\"margaret river\",\"nadym\",\"selty\",\"yuzhno-kurilsk\",\"yamada\",\"seorinarayan\",\"mount pearl\",\"ancud\",\"georgetown\",\"geraldton\",\"tongouson\",\"shimoda\",\"canutama\",\"broken hill\",\"tongliao\",\"klyuchi\",\"aasiaat\",\"tazacorte\",\"howard springs\",\"blackwater\",\"yangambi\",\"san patricio\",\"newman\",\"whitehorse\",\"lospalos\",\"wailua homesteads\",\"prince rupert\",\"ushuaia\",\"reggane\",\"khandyga\",\"new norfolk\",\"dudinka\",\"pazar\",\"petropavlovsk-kamchatsky\",\"hobyo\",\"ribeira grande\",\"kalispell\",\"kaitong\",\"east london\",\"shetpe\",\"ingleby greenhow\",\"aurillac\",\"saint-philippe\",\"tashir\",\"vilyuysk\",\"tolanaro\",\"nizhneudinsk\",\"longyearbyen\",\"moab\",\"zubin potok\",\"seka\",\"cabo san lucas\",\"olonkinbyen\",\"maun\",\"lazaro cardenas\",\"eraan\",\"nikolayevsk-on-amure\",\"huanren\",\"jamestown\",\"byumba\",\"laascaanood\",\"oranjemund\",\"burutu\",\"haikou\",\"n'zeto\",\"mahanoro\",\"sinaia\",\"masterton\",\"egilsstadir\",\"polyarnyy\",\"cockburn town\",\"st. john's\",\"kavieng\",\"hawaiian paradise park\",\"zaozersk\",\"lethbridge\",\"sumbawanga\",\"greifswald\",\"olinda\",\"choyr\",\"akureyri\",\"carlisle\",\"suya\",\"impfondo\",\"minas de marcona\",\"warrenton\",\"dukhovnitskoye\",\"al ghayzah\",\"ciudad lazaro cardenas\",\"coahuayana de hidalgo\",\"pisco\",\"prado\",\"port alfred\",\"gushu\",\"ditrau\",\"lubang\",\"paraiso\",\"guaiba\",\"cradock\",\"vilyuchinsk\",\"arraial do cabo\",\"talnakh\",\"natal\",\"brigantine\",\"usogorsk\",\"queenstown\",\"richards bay\",\"kismayo\",\"rikaze\",\"tura\",\"howrah\",\"bodo\",\"qamdo\",\"afaahiti\",\"konstantinovka\",\"benjamin aceval\",\"great bend\",\"kalmunai\",\"nova sintra\",\"bandarbeyla\",\"balnearia\",\"al artawiyah\",\"sidi merouane\",\"yucca valley\",\"motygino\",\"i-n-salah\",\"alice springs\",\"brisas de zicatela\",\"fort mcmurray\",\"vorgashor\",\"ibimirim\",\"holualoa\",\"cabedelo\",\"kruisfontein\",\"malanje\",\"punta cardon\",\"sol'-iletsk\",\"taroa\",\"kiunga\",\"ouallam\",\"port shepstone\",\"kailua-kona\",\"korla\",\"ndende\",\"kingston\",\"ugoofaaru\",\"chichawatni\",\"hennebont\",\"taghazout\",\"moscow\",\"puerto baquerizo moreno\",\"lesosibirsk\",\"rio grande\",\"kresttsy\",\"jinchang\",\"pimentel\",\"abaetetuba\",\"mata-utu\",\"ad dilam\",\"qaqortoq\",\"zheleznodorozhnyy\",\"aripuana\",\"ketchikan\",\"ust-nera\",\"lerwick\",\"maua\",\"rodolfo sanchez taboada\",\"brookings\",\"planaltina\",\"salta\",\"kokpekty\",\"ilhabela\",\"roi et\",\"tromso\",\"devoto\",\"bechar\",\"zakamensk\",\"an nuhud\",\"sangkhla buri\",\"kijang\",\"patong\",\"ilulissat\",\"capitao poco\",\"usinsk\",\"felipe carrillo puerto\",\"tarhuna\",\"angra do heroismo\",\"mersing\",\"progreso\",\"mont-dore\",\"svoge\",\"wynyard\",\"balakhta\",\"neryungri\",\"arno\",\"saqqez\",\"fayroz koh\",\"corry\",\"ouadda\",\"miles city\",\"choibalsan\",\"katabu\",\"island harbour\",\"santa ana\",\"new mirpur\",\"nongpoh\",\"podporozh'ye\",\"vredendal\",\"bubaque\",\"guardo\",\"port saint john's\",\"gore\",\"yerofey pavlovich\",\"magadan\",\"abalak\",\"adh dhibiyah\",\"elizabeth city\",\"sawakin\",\"chopinzinho\",\"lethem\",\"bashmakovo\",\"kerikeri\",\"gadzhiyevo\",\"urzhar\",\"alice\",\"port moresby\",\"mukalla\",\"west end\",\"veraval\",\"slave lake\",\"pathein\",\"hamilton\",\"sao jose da coroa grande\",\"guarapari\",\"ikwiriri\",\"las tablas\",\"tuy hoa\",\"mirny\",\"mantua\",\"tarawa\",\"tazovsky\",\"mulayjah\",\"villa bruzual\",\"chibougamau\",\"zholymbet\",\"tchintabaraden\",\"mil'kovo\",\"basco\",\"arkhangel'sk\",\"iringa\",\"suhbaatar\",\"nagqu\",\"niafunke\",\"mundybash\",\"songjiang\",\"lhasa\",\"san isidro de curuguaty\",\"weno\",\"thap than\",\"colonia menno\",\"fale old settlement\",\"la asuncion\",\"aykhal\",\"floro\",\"hede\",\"sarikei\",\"haiku-pauwela\",\"serhiyivka\",\"samfya\",\"tanumah\",\"rizhao\",\"alofi\",\"caleta de carquin\",\"macheng\",\"kapit\",\"san pedro pochutla\",\"qarauyl\",\"lorengau\",\"lancut\",\"saint-pierre\",\"hargeysa\",\"college\",\"peace river\",\"razole\",\"sao bento do sul\",\"cannonvale\",\"oneida\",\"mount gambier\",\"neiafu\",\"palmerston north\",\"al hufuf\",\"kushiro\",\"nishifukuma\",\"cruz del eje\",\"jayapura\",\"talara\",\"ohara\",\"alenquer\",\"alesund\",\"northam\",\"inhambane\",\"illizi\",\"waingapu\",\"tralee\",\"westport\",\"bengkulu\",\"la ronge\",\"tafresh\",\"keflavik\",\"cambria\",\"zeya\",\"sanya\",\"cove\",\"sai buri\",\"aljezur\",\"copala\",\"ash shafa\",\"ifanadiana\",\"portland\",\"mhamid\",\"rongelap\",\"vernon\",\"almeirim\",\"smithers\",\"nadi\",\"eastham\",\"ovalle\",\"jefferson city\",\"kollo\",\"forio\",\"turpan\",\"pagar alam\",\"belyy yar\",\"tidjikja\",\"port macquarie\",\"port douglas\",\"corner brook\",\"taos\",\"mary\",\"az zawr\",\"malpica\",\"uglegorsk\",\"warri\",\"demidov\",\"sa'dah\",\"kuantan\",\"cholet\",\"ndibene dahra\",\"soio\",\"ambodifotatra\",\"phalodi\",\"abepura\",\"urengoy\",\"labytnangi\",\"carauari\",\"margarita belen\",\"cidreira\",\"troitskoye\",\"kapa'a\",\"khovd\",\"okhotsk\",\"kharp\",\"tarashcha\",\"manaure\",\"nakamura\",\"bogandinskiy\",\"saint-joseph\",\"tabou\",\"esmoriz\",\"leava\",\"curanilahue\",\"mammoth lakes\",\"jacarei\",\"argos\",\"namibe\",\"menomonie\",\"quezon\",\"keelung\",\"la gi\",\"karratha\",\"crane\",\"armacao de buzios\",\"nuku'alofa\",\"sombrerete\",\"lauttasaari\",\"rufino\",\"guanica\",\"yorkton\",\"funafuti\",\"okha\",\"walvis bay\",\"chajari\",\"burang\",\"sisimiut\",\"sao paulo de olivenca\",\"ciudad del este\",\"bardai\",\"xiva\",\"xai-xai\",\"gisborne\",\"santa vitoria do palmar\",\"laojunmiao\",\"kerimaki\",\"trevelin\",\"moyynkum\",\"nisia floresta\",\"kavaratti\",\"santo antonio do ica\",\"iwanai\",\"sinop\",\"arias\",\"cartagena del chaira\",\"moose jaw\",\"kapuskasing\",\"dakhla\",\"huizhou\",\"north bend\",\"tokar\",\"canandaigua\",\"princeville\",\"caldwell\",\"lamu\",\"perols\",\"fecamp\",\"panamaram\",\"schrozberg\",\"pudasjarvi\",\"greymouth\",\"augusto correa\",\"rio preto da eva\",\"itoman\",\"firmat\",\"quellon\",\"antalaha\",\"konarka\",\"villanueva\",\"dusti\",\"stornoway\",\"tavas\",\"abaza\",\"fort st. john\",\"ivdel'\",\"grand rapids\",\"ardestan\",\"mar de espanha\",\"strelka\",\"yarmouth\",\"san jeronimo\",\"puerto armuelles\",\"el fasher\",\"xinyuan\",\"kokopo\",\"kybartai\",\"mendi\",\"sinan\",\"key west\",\"birni n konni\",\"kill devil hills\",\"karachi\",\"nogliki\",\"sao francisco\",\"guaimaro\",\"karlskrona\",\"hassi messaoud\",\"chul'man\",\"nacogdoches\",\"tobol'sk\",\"port-vila\",\"nabire\",\"wanning\",\"yardimli\"]],[\"size\",{\"type\":\"ndarray\",\"array\":{\"type\":\"bytes\",\"data\":\"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\"},\"shape\":[578],\"dtype\":\"float64\",\"order\":\"little\"}]]}}},\"view\":{\"type\":\"object\",\"name\":\"CDSView\",\"id\":\"p1206\",\"attributes\":{\"filter\":{\"type\":\"object\",\"name\":\"AllIndices\",\"id\":\"p1207\"}}},\"glyph\":{\"type\":\"object\",\"name\":\"Scatter\",\"id\":\"p1200\",\"attributes\":{\"tags\":[\"apply_ranges\"],\"x\":{\"type\":\"field\",\"field\":\"Lng\"},\"y\":{\"type\":\"field\",\"field\":\"Lat\"},\"size\":{\"type\":\"field\",\"field\":\"size\"},\"line_color\":{\"type\":\"field\",\"field\":\"color\",\"transform\":{\"type\":\"object\",\"name\":\"CategoricalColorMapper\",\"id\":\"p1193\",\"attributes\":{\"palette\":[\"#1f77b3\",\"#ff7e0e\",\"#2ba02b\",\"#d62628\",\"#9367bc\",\"#8c564b\",\"#e277c1\",\"#7e7e7e\",\"#bcbc21\",\"#16bdcf\",\"#3a0182\",\"#004201\",\"#0fffa8\",\"#5d003f\",\"#bcbcff\",\"#d8afa1\",\"#b80080\",\"#004d52\",\"#6b6400\",\"#7c0100\",\"#6026ff\",\"#ffff9a\",\"#564964\",\"#8cb893\",\"#93fbff\",\"#018267\",\"#90ff00\",\"#8200a0\",\"#ac8944\",\"#5b3400\",\"#ffbff2\",\"#ff6e75\",\"#798cff\",\"#dd00ff\",\"#505646\",\"#004489\",\"#ffbf60\",\"#ff018c\",\"#bdc8cf\",\"#af97b5\",\"#b65600\",\"#017000\",\"#cd87ff\",\"#1cd646\",\"#bfebc3\",\"#7997b5\",\"#a56089\",\"#6e8956\",\"#bc7c75\",\"#8a2844\",\"#00acff\",\"#8ed4ff\",\"#4b6d77\",\"#00d4b1\",\"#9300f2\",\"#8a9500\",\"#5d5b9e\",\"#fddfba\",\"#00939e\",\"#ffdb00\",\"#00aa79\",\"#520067\",\"#000091\",\"#0a5d3d\",\"#a5e275\",\"#623b41\",\"#c6c689\",\"#ff9eb5\",\"#cd4f6b\",\"#ff07d6\",\"#8a3a05\",\"#7e3d70\",\"#ff4901\",\"#602ba5\",\"#1c00ff\",\"#e6dfff\",\"#aa3baf\",\"#d89c00\",\"#a3a39e\",\"#3f69ff\",\"#46490c\",\"#7b6985\",\"#6b978c\",\"#ff9a75\",\"#835bff\",\"#7c6b46\",\"#80b654\",\"#bc0049\",\"#fd93ff\",\"#5d0018\",\"#89d1d1\",\"#9c8cd3\",\"#da6d42\",\"#8a5700\",\"#3b5069\",\"#4b6b3b\",\"#edcfd8\",\"#cfedff\",\"#aa1500\",\"#dfff4f\",\"#ff2a56\",\"#d1499e\",\"#707cb8\",\"#598000\",\"#00e4fd\",\"#774b95\",\"#67d48c\",\"#3d3a72\",\"#ac413f\",\"#d6a166\",\"#c169cd\",\"#69595d\",\"#87aced\",\"#a0a569\",\"#d1aae6\",\"#870062\",\"#00fddb\",\"#672818\",\"#b342ff\",\"#0e59c4\",\"#168742\",\"#90d300\",\"#cd7900\",\"#f959ff\",\"#5b7466\",\"#8eaeb3\",\"#9c7c8c\",\"#4600c6\",\"#6b4d2d\",\"#a56d46\",\"#9e8972\",\"#a8afca\",\"#cd8ca7\",\"#00fd64\",\"#917900\",\"#ff62a1\",\"#f4ffd8\",\"#018cf0\",\"#13aca0\",\"#5b2d59\",\"#89859e\",\"#cfccba\",\"#d4afc4\",\"#dbdd6d\",\"#cffff4\",\"#006485\",\"#006962\",\"#a84167\",\"#2d97c4\",\"#a874ff\",\"#26ba5d\",\"#57b600\",\"#caffa7\",\"#a379aa\",\"#ffbc93\",\"#89e2c1\",\"#0fc8ff\",\"#d400c4\",\"#626d89\",\"#69858e\",\"#4b4d52\",\"#aa6067\",\"#79b5d4\",\"#2b5916\",\"#9a0024\",\"#bdd1f2\",\"#896e67\",\"#69a56b\",\"#855467\",\"#aecdba\",\"#87997e\",\"#cadb00\",\"#9a0390\",\"#ebbc1a\",\"#eb9cd1\",\"#70006e\",\"#b1a131\",\"#ca6b93\",\"#4146a3\",\"#e48c89\",\"#d44400\",\"#c68aca\",\"#b69597\",\"#d41f75\",\"#724bcc\",\"#674d00\",\"#672138\",\"#38564f\",\"#6ebaaa\",\"#853a31\",\"#a5d397\",\"#b8af8e\",\"#d8e4df\",\"#aa00df\",\"#cac1db\",\"#ffdf8c\",\"#e2524d\",\"#66696e\",\"#ff001c\",\"#522d72\",\"#4d906b\",\"#a86d11\",\"#ff9e26\",\"#5ea3af\",\"#c88556\",\"#915997\",\"#a3a1ff\",\"#fdbaba\",\"#242a87\",\"#dbe6a8\",\"#97f2a7\",\"#6793d6\",\"#ba5b3f\",\"#3a5d91\",\"#364f2f\",\"#267c95\",\"#89959a\",\"#cfb356\",\"#004664\",\"#5e5d2f\",\"#8e8e41\",\"#ac3f13\",\"#69953b\",\"#a13d85\",\"#bfb6ba\",\"#acc667\",\"#6469cf\",\"#91af00\",\"#2be2da\",\"#016e36\",\"#ff7952\",\"#42807e\",\"#4fe800\",\"#995428\",\"#5d0a00\",\"#a30057\",\"#0c8700\",\"#5982a7\",\"#ffebfb\",\"#4b6901\",\"#8775d4\",\"#e6c6ff\",\"#a5ffda\",\"#d86e77\",\"#df014b\",\"#69675b\",\"#776ba1\",\"#7e8067\",\"#594685\",\"#0000ca\",\"#7c002a\",\"#97ff72\",\"#b5e2e1\",\"#db52c8\",\"#777734\",\"#57bd8e\",\"#1f77b3\",\"#ff7e0e\",\"#2ba02b\",\"#d62628\",\"#9367bc\",\"#8c564b\",\"#e277c1\",\"#7e7e7e\",\"#bcbc21\",\"#16bdcf\",\"#3a0182\",\"#004201\",\"#0fffa8\",\"#5d003f\",\"#bcbcff\",\"#d8afa1\",\"#b80080\",\"#004d52\",\"#6b6400\",\"#7c0100\",\"#6026ff\",\"#ffff9a\",\"#564964\",\"#8cb893\",\"#93fbff\",\"#018267\",\"#90ff00\",\"#8200a0\",\"#ac8944\",\"#5b3400\",\"#ffbff2\",\"#ff6e75\",\"#798cff\",\"#dd00ff\",\"#505646\",\"#004489\",\"#ffbf60\",\"#ff018c\",\"#bdc8cf\",\"#af97b5\",\"#b65600\",\"#017000\",\"#cd87ff\",\"#1cd646\",\"#bfebc3\",\"#7997b5\",\"#a56089\",\"#6e8956\",\"#bc7c75\",\"#8a2844\",\"#00acff\",\"#8ed4ff\",\"#4b6d77\",\"#00d4b1\",\"#9300f2\",\"#8a9500\",\"#5d5b9e\",\"#fddfba\",\"#00939e\",\"#ffdb00\",\"#00aa79\",\"#520067\",\"#000091\",\"#0a5d3d\",\"#a5e275\",\"#623b41\",\"#c6c689\",\"#ff9eb5\",\"#cd4f6b\",\"#ff07d6\",\"#8a3a05\",\"#7e3d70\",\"#ff4901\",\"#602ba5\",\"#1c00ff\",\"#e6dfff\",\"#aa3baf\",\"#d89c00\",\"#a3a39e\",\"#3f69ff\",\"#46490c\",\"#7b6985\",\"#6b978c\",\"#ff9a75\",\"#835bff\",\"#7c6b46\",\"#80b654\",\"#bc0049\",\"#fd93ff\",\"#5d0018\",\"#89d1d1\",\"#9c8cd3\",\"#da6d42\",\"#8a5700\",\"#3b5069\",\"#4b6b3b\",\"#edcfd8\",\"#cfedff\",\"#aa1500\",\"#dfff4f\",\"#ff2a56\",\"#d1499e\",\"#707cb8\",\"#598000\",\"#00e4fd\",\"#774b95\",\"#67d48c\",\"#3d3a72\",\"#ac413f\",\"#d6a166\",\"#c169cd\",\"#69595d\",\"#87aced\",\"#a0a569\",\"#d1aae6\",\"#870062\",\"#00fddb\",\"#672818\",\"#b342ff\",\"#0e59c4\",\"#168742\",\"#90d300\",\"#cd7900\",\"#f959ff\",\"#5b7466\",\"#8eaeb3\",\"#9c7c8c\",\"#4600c6\",\"#6b4d2d\",\"#a56d46\",\"#9e8972\",\"#a8afca\",\"#cd8ca7\",\"#00fd64\",\"#917900\",\"#ff62a1\",\"#f4ffd8\",\"#018cf0\",\"#13aca0\",\"#5b2d59\",\"#89859e\",\"#cfccba\",\"#d4afc4\",\"#dbdd6d\",\"#cffff4\",\"#006485\",\"#006962\",\"#a84167\",\"#2d97c4\",\"#a874ff\",\"#26ba5d\",\"#57b600\",\"#caffa7\",\"#a379aa\",\"#ffbc93\",\"#89e2c1\",\"#0fc8ff\",\"#d400c4\",\"#626d89\",\"#69858e\",\"#4b4d52\",\"#aa6067\",\"#79b5d4\",\"#2b5916\",\"#9a0024\",\"#bdd1f2\",\"#896e67\",\"#69a56b\",\"#855467\",\"#aecdba\",\"#87997e\",\"#cadb00\",\"#9a0390\",\"#ebbc1a\",\"#eb9cd1\",\"#70006e\",\"#b1a131\",\"#ca6b93\",\"#4146a3\",\"#e48c89\",\"#d44400\",\"#c68aca\",\"#b69597\",\"#d41f75\",\"#724bcc\",\"#674d00\",\"#672138\",\"#38564f\",\"#6ebaaa\",\"#853a31\",\"#a5d397\",\"#b8af8e\",\"#d8e4df\",\"#aa00df\",\"#cac1db\",\"#ffdf8c\",\"#e2524d\",\"#66696e\",\"#ff001c\",\"#522d72\",\"#4d906b\",\"#a86d11\",\"#ff9e26\",\"#5ea3af\",\"#c88556\",\"#915997\",\"#a3a1ff\",\"#fdbaba\",\"#242a87\",\"#dbe6a8\",\"#97f2a7\",\"#6793d6\",\"#ba5b3f\",\"#3a5d91\",\"#364f2f\",\"#267c95\",\"#89959a\",\"#cfb356\",\"#004664\",\"#5e5d2f\",\"#8e8e41\",\"#ac3f13\",\"#69953b\",\"#a13d85\",\"#bfb6ba\",\"#acc667\",\"#6469cf\",\"#91af00\",\"#2be2da\",\"#016e36\",\"#ff7952\",\"#42807e\",\"#4fe800\",\"#995428\",\"#5d0a00\",\"#a30057\",\"#0c8700\",\"#5982a7\",\"#ffebfb\",\"#4b6901\",\"#8775d4\",\"#e6c6ff\",\"#a5ffda\",\"#d86e77\",\"#df014b\",\"#69675b\",\"#776ba1\",\"#7e8067\",\"#594685\",\"#0000ca\",\"#7c002a\",\"#97ff72\",\"#b5e2e1\",\"#db52c8\",\"#777734\",\"#57bd8e\",\"#1f77b3\",\"#ff7e0e\",\"#2ba02b\",\"#d62628\",\"#9367bc\",\"#8c564b\",\"#e277c1\",\"#7e7e7e\",\"#bcbc21\",\"#16bdcf\",\"#3a0182\",\"#004201\",\"#0fffa8\",\"#5d003f\",\"#bcbcff\",\"#d8afa1\",\"#b80080\",\"#004d52\",\"#6b6400\",\"#7c0100\",\"#6026ff\",\"#ffff9a\",\"#564964\",\"#8cb893\",\"#93fbff\",\"#018267\",\"#90ff00\",\"#8200a0\",\"#ac8944\",\"#5b3400\",\"#ffbff2\",\"#ff6e75\",\"#798cff\",\"#dd00ff\",\"#505646\",\"#004489\",\"#ffbf60\",\"#ff018c\",\"#bdc8cf\",\"#af97b5\",\"#b65600\",\"#017000\",\"#cd87ff\",\"#1cd646\",\"#bfebc3\",\"#7997b5\",\"#a56089\",\"#6e8956\",\"#bc7c75\",\"#8a2844\",\"#00acff\",\"#8ed4ff\",\"#4b6d77\",\"#00d4b1\",\"#9300f2\",\"#8a9500\",\"#5d5b9e\",\"#fddfba\",\"#00939e\",\"#ffdb00\",\"#00aa79\",\"#520067\",\"#000091\",\"#0a5d3d\",\"#a5e275\",\"#623b41\"],\"factors\":[\"punta arenas\",\"pyapon\",\"puerto deseado\",\"hithadhoo\",\"grytviken\",\"leh\",\"kayangel\",\"adamstown\",\"bethel\",\"broome\",\"blackmans bay\",\"hermanus\",\"isafjordur\",\"zambezi\",\"trinity\",\"uturoa\",\"vorkuta\",\"edinburgh of the seven seas\",\"caninde de sao francisco\",\"waitangi\",\"surhuisterveen\",\"lebu\",\"tiksi\",\"paoua\",\"west island\",\"ulladulla\",\"bredasdorp\",\"constantia\",\"badger\",\"remire-montjoly\",\"port-aux-francais\",\"iqaluit\",\"sitka\",\"atafu village\",\"linxia chengguanzhen\",\"berdigestyakh\",\"lihue\",\"kone\",\"la palma\",\"la passe\",\"paradip garh\",\"urangan\",\"atyashevo\",\"iskateley\",\"virginia beach\",\"puerto ayora\",\"san luis de la loma\",\"utrik\",\"abiramam\",\"sofifi\",\"ramnagar\",\"puerto natales\",\"udachny\",\"albany\",\"marsh harbour\",\"mugia\",\"bilibino\",\"nagina\",\"zhangye\",\"carnarvon\",\"yellowknife\",\"gorom-gorom\",\"kodiak\",\"nigde\",\"armidale\",\"invercargill\",\"nuuk\",\"naracoorte\",\"flying fish cove\",\"awjilah\",\"nemuro\",\"luderitz\",\"enewetak\",\"port elizabeth\",\"san antonio de pale\",\"happy valley-goose bay\",\"selfoss\",\"debre tabor\",\"hanceville\",\"anadyr\",\"lompoc\",\"saipan\",\"wauchope\",\"port mathurin\",\"pacific grove\",\"stanley\",\"susuman\",\"labrador city\",\"mount isa\",\"praia da vitoria\",\"huarmey\",\"barra de santo antonio\",\"el jadid\",\"sinabang\",\"ta`u\",\"cassilandia\",\"borogontsy\",\"kashgar\",\"thompson\",\"saudarkrokur\",\"ujae\",\"vila franca do campo\",\"papatowai\",\"waraseoni\",\"avarua\",\"miandrivazo\",\"guerrero negro\",\"margaret river\",\"nadym\",\"selty\",\"yuzhno-kurilsk\",\"yamada\",\"seorinarayan\",\"mount pearl\",\"ancud\",\"georgetown\",\"geraldton\",\"tongouson\",\"shimoda\",\"canutama\",\"broken hill\",\"tongliao\",\"klyuchi\",\"aasiaat\",\"tazacorte\",\"howard springs\",\"blackwater\",\"yangambi\",\"san patricio\",\"newman\",\"whitehorse\",\"lospalos\",\"wailua homesteads\",\"prince rupert\",\"ushuaia\",\"reggane\",\"khandyga\",\"new norfolk\",\"dudinka\",\"pazar\",\"petropavlovsk-kamchatsky\",\"hobyo\",\"ribeira grande\",\"kalispell\",\"kaitong\",\"east london\",\"shetpe\",\"ingleby greenhow\",\"aurillac\",\"saint-philippe\",\"tashir\",\"vilyuysk\",\"tolanaro\",\"nizhneudinsk\",\"longyearbyen\",\"moab\",\"zubin potok\",\"seka\",\"cabo san lucas\",\"olonkinbyen\",\"maun\",\"lazaro cardenas\",\"eraan\",\"nikolayevsk-on-amure\",\"huanren\",\"jamestown\",\"byumba\",\"laascaanood\",\"oranjemund\",\"burutu\",\"haikou\",\"n'zeto\",\"mahanoro\",\"sinaia\",\"masterton\",\"egilsstadir\",\"polyarnyy\",\"cockburn town\",\"st. john's\",\"kavieng\",\"hawaiian paradise park\",\"zaozersk\",\"lethbridge\",\"sumbawanga\",\"greifswald\",\"olinda\",\"choyr\",\"akureyri\",\"carlisle\",\"suya\",\"impfondo\",\"minas de marcona\",\"warrenton\",\"dukhovnitskoye\",\"al ghayzah\",\"ciudad lazaro cardenas\",\"coahuayana de hidalgo\",\"pisco\",\"prado\",\"port alfred\",\"gushu\",\"ditrau\",\"lubang\",\"paraiso\",\"guaiba\",\"cradock\",\"vilyuchinsk\",\"arraial do cabo\",\"talnakh\",\"natal\",\"brigantine\",\"usogorsk\",\"queenstown\",\"richards bay\",\"kismayo\",\"rikaze\",\"tura\",\"howrah\",\"bodo\",\"qamdo\",\"afaahiti\",\"konstantinovka\",\"benjamin aceval\",\"great bend\",\"kalmunai\",\"nova sintra\",\"bandarbeyla\",\"balnearia\",\"al artawiyah\",\"sidi merouane\",\"yucca valley\",\"motygino\",\"i-n-salah\",\"alice springs\",\"brisas de zicatela\",\"fort mcmurray\",\"vorgashor\",\"ibimirim\",\"holualoa\",\"cabedelo\",\"kruisfontein\",\"malanje\",\"punta cardon\",\"sol'-iletsk\",\"taroa\",\"kiunga\",\"ouallam\",\"port shepstone\",\"kailua-kona\",\"korla\",\"ndende\",\"kingston\",\"ugoofaaru\",\"chichawatni\",\"hennebont\",\"taghazout\",\"moscow\",\"puerto baquerizo moreno\",\"lesosibirsk\",\"rio grande\",\"kresttsy\",\"jinchang\",\"pimentel\",\"abaetetuba\",\"mata-utu\",\"ad dilam\",\"qaqortoq\",\"zheleznodorozhnyy\",\"aripuana\",\"ketchikan\",\"ust-nera\",\"lerwick\",\"maua\",\"rodolfo sanchez taboada\",\"brookings\",\"planaltina\",\"salta\",\"kokpekty\",\"ilhabela\",\"roi et\",\"tromso\",\"devoto\",\"bechar\",\"zakamensk\",\"an nuhud\",\"sangkhla buri\",\"kijang\",\"patong\",\"ilulissat\",\"capitao poco\",\"usinsk\",\"felipe carrillo puerto\",\"tarhuna\",\"angra do heroismo\",\"mersing\",\"progreso\",\"mont-dore\",\"svoge\",\"wynyard\",\"balakhta\",\"neryungri\",\"arno\",\"saqqez\",\"fayroz koh\",\"corry\",\"ouadda\",\"miles city\",\"choibalsan\",\"katabu\",\"island harbour\",\"santa ana\",\"new mirpur\",\"nongpoh\",\"podporozh'ye\",\"vredendal\",\"bubaque\",\"guardo\",\"port saint john's\",\"gore\",\"yerofey pavlovich\",\"magadan\",\"abalak\",\"adh dhibiyah\",\"elizabeth city\",\"sawakin\",\"chopinzinho\",\"lethem\",\"bashmakovo\",\"kerikeri\",\"gadzhiyevo\",\"urzhar\",\"alice\",\"port moresby\",\"mukalla\",\"west end\",\"veraval\",\"slave lake\",\"pathein\",\"hamilton\",\"sao jose da coroa grande\",\"guarapari\",\"ikwiriri\",\"las tablas\",\"tuy hoa\",\"mirny\",\"mantua\",\"tarawa\",\"tazovsky\",\"mulayjah\",\"villa bruzual\",\"chibougamau\",\"zholymbet\",\"tchintabaraden\",\"mil'kovo\",\"basco\",\"arkhangel'sk\",\"iringa\",\"suhbaatar\",\"nagqu\",\"niafunke\",\"mundybash\",\"songjiang\",\"lhasa\",\"san isidro de curuguaty\",\"weno\",\"thap than\",\"colonia menno\",\"fale old settlement\",\"la asuncion\",\"aykhal\",\"floro\",\"hede\",\"sarikei\",\"haiku-pauwela\",\"serhiyivka\",\"samfya\",\"tanumah\",\"rizhao\",\"alofi\",\"caleta de carquin\",\"macheng\",\"kapit\",\"san pedro pochutla\",\"qarauyl\",\"lorengau\",\"lancut\",\"saint-pierre\",\"hargeysa\",\"college\",\"peace river\",\"razole\",\"sao bento do sul\",\"cannonvale\",\"oneida\",\"mount gambier\",\"neiafu\",\"palmerston north\",\"al hufuf\",\"kushiro\",\"nishifukuma\",\"cruz del eje\",\"jayapura\",\"talara\",\"ohara\",\"alenquer\",\"alesund\",\"northam\",\"inhambane\",\"illizi\",\"waingapu\",\"tralee\",\"westport\",\"bengkulu\",\"la ronge\",\"tafresh\",\"keflavik\",\"cambria\",\"zeya\",\"sanya\",\"cove\",\"sai buri\",\"aljezur\",\"copala\",\"ash shafa\",\"ifanadiana\",\"portland\",\"mhamid\",\"rongelap\",\"vernon\",\"almeirim\",\"smithers\",\"nadi\",\"eastham\",\"ovalle\",\"jefferson city\",\"kollo\",\"forio\",\"turpan\",\"pagar alam\",\"belyy yar\",\"tidjikja\",\"port macquarie\",\"port douglas\",\"corner brook\",\"taos\",\"mary\",\"az zawr\",\"malpica\",\"uglegorsk\",\"warri\",\"demidov\",\"sa'dah\",\"kuantan\",\"cholet\",\"ndibene dahra\",\"soio\",\"ambodifotatra\",\"phalodi\",\"abepura\",\"urengoy\",\"labytnangi\",\"carauari\",\"margarita belen\",\"cidreira\",\"troitskoye\",\"kapa'a\",\"khovd\",\"okhotsk\",\"kharp\",\"tarashcha\",\"manaure\",\"nakamura\",\"bogandinskiy\",\"saint-joseph\",\"tabou\",\"esmoriz\",\"leava\",\"curanilahue\",\"mammoth lakes\",\"jacarei\",\"argos\",\"namibe\",\"menomonie\",\"quezon\",\"keelung\",\"la gi\",\"karratha\",\"crane\",\"armacao de buzios\",\"nuku'alofa\",\"sombrerete\",\"lauttasaari\",\"rufino\",\"guanica\",\"yorkton\",\"funafuti\",\"okha\",\"walvis bay\",\"chajari\",\"burang\",\"sisimiut\",\"sao paulo de olivenca\",\"ciudad del este\",\"bardai\",\"xiva\",\"xai-xai\",\"gisborne\",\"santa vitoria do palmar\",\"laojunmiao\",\"kerimaki\",\"trevelin\",\"moyynkum\",\"nisia floresta\",\"kavaratti\",\"santo antonio do ica\",\"iwanai\",\"sinop\",\"arias\",\"cartagena del chaira\",\"moose jaw\",\"kapuskasing\",\"dakhla\",\"huizhou\",\"north bend\",\"tokar\",\"canandaigua\",\"princeville\",\"caldwell\",\"lamu\",\"perols\",\"fecamp\",\"panamaram\",\"schrozberg\",\"pudasjarvi\",\"greymouth\",\"augusto correa\",\"rio preto da eva\",\"itoman\",\"firmat\",\"quellon\",\"antalaha\",\"konarka\",\"villanueva\",\"dusti\",\"stornoway\",\"tavas\",\"abaza\",\"fort st. john\",\"ivdel'\",\"grand rapids\",\"ardestan\",\"mar de espanha\",\"strelka\",\"yarmouth\",\"san jeronimo\",\"puerto armuelles\",\"el fasher\",\"xinyuan\",\"kokopo\",\"kybartai\",\"mendi\",\"sinan\",\"key west\",\"birni n konni\",\"kill devil hills\",\"karachi\",\"nogliki\",\"sao francisco\",\"guaimaro\",\"karlskrona\",\"hassi messaoud\",\"chul'man\",\"nacogdoches\",\"tobol'sk\",\"port-vila\",\"nabire\",\"wanning\",\"yardimli\"]}}},\"fill_color\":{\"type\":\"field\",\"field\":\"color\",\"transform\":{\"id\":\"p1193\"}},\"hatch_color\":{\"type\":\"field\",\"field\":\"color\",\"transform\":{\"id\":\"p1193\"}}}},\"selection_glyph\":{\"type\":\"object\",\"name\":\"Scatter\",\"id\":\"p1202\",\"attributes\":{\"tags\":[\"apply_ranges\"],\"x\":{\"type\":\"field\",\"field\":\"Lng\"},\"y\":{\"type\":\"field\",\"field\":\"Lat\"},\"size\":{\"type\":\"field\",\"field\":\"size\"},\"line_color\":{\"type\":\"field\",\"field\":\"color\",\"transform\":{\"id\":\"p1193\"}},\"fill_color\":{\"type\":\"field\",\"field\":\"color\",\"transform\":{\"id\":\"p1193\"}},\"hatch_color\":{\"type\":\"field\",\"field\":\"color\",\"transform\":{\"id\":\"p1193\"}}}},\"nonselection_glyph\":{\"type\":\"object\",\"name\":\"Scatter\",\"id\":\"p1201\",\"attributes\":{\"tags\":[\"apply_ranges\"],\"x\":{\"type\":\"field\",\"field\":\"Lng\"},\"y\":{\"type\":\"field\",\"field\":\"Lat\"},\"size\":{\"type\":\"field\",\"field\":\"size\"},\"line_color\":{\"type\":\"field\",\"field\":\"color\",\"transform\":{\"id\":\"p1193\"}},\"line_alpha\":{\"type\":\"value\",\"value\":0.1},\"fill_color\":{\"type\":\"field\",\"field\":\"color\",\"transform\":{\"id\":\"p1193\"}},\"fill_alpha\":{\"type\":\"value\",\"value\":0.1},\"hatch_color\":{\"type\":\"field\",\"field\":\"color\",\"transform\":{\"id\":\"p1193\"}},\"hatch_alpha\":{\"type\":\"value\",\"value\":0.1}}},\"hover_glyph\":{\"type\":\"object\",\"name\":\"Scatter\",\"id\":\"p1203\",\"attributes\":{\"tags\":[\"apply_ranges\"],\"x\":{\"type\":\"field\",\"field\":\"Lng\"},\"y\":{\"type\":\"field\",\"field\":\"Lat\"},\"size\":{\"type\":\"field\",\"field\":\"size\"},\"line_color\":{\"type\":\"field\",\"field\":\"color\",\"transform\":{\"id\":\"p1193\"}},\"fill_color\":{\"type\":\"field\",\"field\":\"color\",\"transform\":{\"id\":\"p1193\"}},\"hatch_color\":{\"type\":\"field\",\"field\":\"color\",\"transform\":{\"id\":\"p1193\"}}}},\"muted_glyph\":{\"type\":\"object\",\"name\":\"Scatter\",\"id\":\"p1204\",\"attributes\":{\"tags\":[\"apply_ranges\"],\"x\":{\"type\":\"field\",\"field\":\"Lng\"},\"y\":{\"type\":\"field\",\"field\":\"Lat\"},\"size\":{\"type\":\"field\",\"field\":\"size\"},\"line_color\":{\"type\":\"field\",\"field\":\"color\",\"transform\":{\"id\":\"p1193\"}},\"line_alpha\":{\"type\":\"value\",\"value\":0.2},\"fill_color\":{\"type\":\"field\",\"field\":\"color\",\"transform\":{\"id\":\"p1193\"}},\"fill_alpha\":{\"type\":\"value\",\"value\":0.2},\"hatch_color\":{\"type\":\"field\",\"field\":\"color\",\"transform\":{\"id\":\"p1193\"}},\"hatch_alpha\":{\"type\":\"value\",\"value\":0.2}}}}}],\"toolbar\":{\"type\":\"object\",\"name\":\"Toolbar\",\"id\":\"p1165\",\"attributes\":{\"tools\":[{\"type\":\"object\",\"name\":\"WheelZoomTool\",\"id\":\"p1131\",\"attributes\":{\"renderers\":\"auto\",\"zoom_on_axis\":false}},{\"type\":\"object\",\"name\":\"BoxZoomTool\",\"id\":\"p1137\",\"attributes\":{\"overlay\":{\"type\":\"object\",\"name\":\"BoxAnnotation\",\"id\":\"p1132\",\"attributes\":{\"syncable\":false,\"level\":\"overlay\",\"visible\":false,\"left\":{\"type\":\"number\",\"value\":\"nan\"},\"right\":{\"type\":\"number\",\"value\":\"nan\"},\"top\":{\"type\":\"number\",\"value\":\"nan\"},\"bottom\":{\"type\":\"number\",\"value\":\"nan\"},\"left_units\":\"canvas\",\"right_units\":\"canvas\",\"top_units\":\"canvas\",\"bottom_units\":\"canvas\",\"line_color\":\"black\",\"line_alpha\":1.0,\"line_width\":2,\"line_dash\":[4,4],\"fill_color\":\"lightgrey\",\"fill_alpha\":0.5}},\"match_aspect\":true}},{\"type\":\"object\",\"name\":\"HoverTool\",\"id\":\"p1155\",\"attributes\":{\"tags\":[\"hv_created\"],\"renderers\":[{\"id\":\"p1205\"}],\"tooltips\":[[\"Lng\",\"$x{custom}\"],[\"Lat\",\"$y{custom}\"],[\"City\",\"@{City}\"],[\"Humidity\",\"@{Humidity}\"]],\"formatters\":{\"type\":\"map\",\"entries\":[[\"$x\",{\"type\":\"object\",\"name\":\"CustomJSHover\",\"id\":\"p1210\",\"attributes\":{\"code\":\"\\n        const projections = Bokeh.require(\\\"core/util/projections\\\");\\n        const {snap_x, snap_y} = special_vars\\n        const coords = projections.wgs84_mercator.invert(snap_x, snap_y)\\n        return \\\"\\\" + (coords[0]).toFixed(4)\\n    \"}}],[\"$y\",{\"type\":\"object\",\"name\":\"CustomJSHover\",\"id\":\"p1211\",\"attributes\":{\"code\":\"\\n        const projections = Bokeh.require(\\\"core/util/projections\\\");\\n        const {snap_x, snap_y} = special_vars\\n        const coords = projections.wgs84_mercator.invert(snap_x, snap_y)\\n        return \\\"\\\" + (coords[1]).toFixed(4)\\n    \"}}]]}}},{\"type\":\"object\",\"name\":\"PanTool\",\"id\":\"p1179\"},{\"type\":\"object\",\"name\":\"ResetTool\",\"id\":\"p1180\"}],\"active_drag\":{\"id\":\"p1179\"}}},\"left\":[{\"type\":\"object\",\"name\":\"LinearAxis\",\"id\":\"p1173\",\"attributes\":{\"ticker\":{\"type\":\"object\",\"name\":\"MercatorTicker\",\"id\":\"p1183\",\"attributes\":{\"mantissas\":[1,2,5],\"dimension\":\"lat\"}},\"formatter\":{\"type\":\"object\",\"name\":\"MercatorTickFormatter\",\"id\":\"p1184\",\"attributes\":{\"dimension\":\"lat\"}},\"axis_label\":\"Latitude\",\"major_label_policy\":{\"type\":\"object\",\"name\":\"AllLabels\",\"id\":\"p1176\"}}}],\"right\":[{\"type\":\"object\",\"name\":\"Legend\",\"id\":\"p1208\",\"attributes\":{\"location\":[0,0],\"click_policy\":\"mute\",\"items\":[{\"type\":\"object\",\"name\":\"LegendItem\",\"id\":\"p1209\",\"attributes\":{\"label\":{\"type\":\"field\",\"field\":\"color\"},\"renderers\":[{\"id\":\"p1205\"}]}}]}}],\"below\":[{\"type\":\"object\",\"name\":\"LinearAxis\",\"id\":\"p1168\",\"attributes\":{\"ticker\":{\"type\":\"object\",\"name\":\"MercatorTicker\",\"id\":\"p1181\",\"attributes\":{\"mantissas\":[1,2,5],\"dimension\":\"lon\"}},\"formatter\":{\"type\":\"object\",\"name\":\"MercatorTickFormatter\",\"id\":\"p1182\",\"attributes\":{\"dimension\":\"lon\"}},\"axis_label\":\"Longitude\",\"major_label_policy\":{\"type\":\"object\",\"name\":\"AllLabels\",\"id\":\"p1171\"}}}],\"center\":[{\"type\":\"object\",\"name\":\"Grid\",\"id\":\"p1172\",\"attributes\":{\"axis\":{\"id\":\"p1168\"},\"grid_line_color\":null}},{\"type\":\"object\",\"name\":\"Grid\",\"id\":\"p1177\",\"attributes\":{\"dimension\":1,\"axis\":{\"id\":\"p1173\"},\"grid_line_color\":null}}],\"frame_width\":591,\"frame_height\":300,\"min_border_top\":10,\"min_border_bottom\":10,\"min_border_left\":10,\"min_border_right\":10,\"output_backend\":\"webgl\",\"match_aspect\":true}},{\"type\":\"object\",\"name\":\"Spacer\",\"id\":\"p1213\",\"attributes\":{\"name\":\"HSpacer01827\",\"stylesheets\":[\"\\n:host(.pn-loading):before, .pn-loading:before {\\n  background-color: #c3c3c3;\\n  mask-size: auto calc(min(50%, 400px));\\n  -webkit-mask-size: auto calc(min(50%, 400px));\\n}\",{\"id\":\"p1116\"},{\"id\":\"p1114\"},{\"id\":\"p1115\"}],\"margin\":0,\"sizing_mode\":\"stretch_width\",\"align\":\"start\"}}]}}],\"defs\":[{\"type\":\"model\",\"name\":\"ReactiveHTML1\"},{\"type\":\"model\",\"name\":\"FlexBox1\",\"properties\":[{\"name\":\"align_content\",\"kind\":\"Any\",\"default\":\"flex-start\"},{\"name\":\"align_items\",\"kind\":\"Any\",\"default\":\"flex-start\"},{\"name\":\"flex_direction\",\"kind\":\"Any\",\"default\":\"row\"},{\"name\":\"flex_wrap\",\"kind\":\"Any\",\"default\":\"wrap\"},{\"name\":\"gap\",\"kind\":\"Any\",\"default\":\"\"},{\"name\":\"justify_content\",\"kind\":\"Any\",\"default\":\"flex-start\"}]},{\"type\":\"model\",\"name\":\"FloatPanel1\",\"properties\":[{\"name\":\"config\",\"kind\":\"Any\",\"default\":{\"type\":\"map\"}},{\"name\":\"contained\",\"kind\":\"Any\",\"default\":true},{\"name\":\"position\",\"kind\":\"Any\",\"default\":\"right-top\"},{\"name\":\"offsetx\",\"kind\":\"Any\",\"default\":null},{\"name\":\"offsety\",\"kind\":\"Any\",\"default\":null},{\"name\":\"theme\",\"kind\":\"Any\",\"default\":\"primary\"},{\"name\":\"status\",\"kind\":\"Any\",\"default\":\"normalized\"}]},{\"type\":\"model\",\"name\":\"GridStack1\",\"properties\":[{\"name\":\"mode\",\"kind\":\"Any\",\"default\":\"warn\"},{\"name\":\"ncols\",\"kind\":\"Any\",\"default\":null},{\"name\":\"nrows\",\"kind\":\"Any\",\"default\":null},{\"name\":\"allow_resize\",\"kind\":\"Any\",\"default\":true},{\"name\":\"allow_drag\",\"kind\":\"Any\",\"default\":true},{\"name\":\"state\",\"kind\":\"Any\",\"default\":[]}]},{\"type\":\"model\",\"name\":\"drag1\",\"properties\":[{\"name\":\"slider_width\",\"kind\":\"Any\",\"default\":5},{\"name\":\"slider_color\",\"kind\":\"Any\",\"default\":\"black\"},{\"name\":\"value\",\"kind\":\"Any\",\"default\":50}]},{\"type\":\"model\",\"name\":\"click1\",\"properties\":[{\"name\":\"terminal_output\",\"kind\":\"Any\",\"default\":\"\"},{\"name\":\"debug_name\",\"kind\":\"Any\",\"default\":\"\"},{\"name\":\"clears\",\"kind\":\"Any\",\"default\":0}]},{\"type\":\"model\",\"name\":\"FastWrapper1\",\"properties\":[{\"name\":\"object\",\"kind\":\"Any\",\"default\":null},{\"name\":\"style\",\"kind\":\"Any\",\"default\":null}]},{\"type\":\"model\",\"name\":\"NotificationAreaBase1\",\"properties\":[{\"name\":\"js_events\",\"kind\":\"Any\",\"default\":{\"type\":\"map\"}},{\"name\":\"position\",\"kind\":\"Any\",\"default\":\"bottom-right\"},{\"name\":\"_clear\",\"kind\":\"Any\",\"default\":0}]},{\"type\":\"model\",\"name\":\"NotificationArea1\",\"properties\":[{\"name\":\"js_events\",\"kind\":\"Any\",\"default\":{\"type\":\"map\"}},{\"name\":\"notifications\",\"kind\":\"Any\",\"default\":[]},{\"name\":\"position\",\"kind\":\"Any\",\"default\":\"bottom-right\"},{\"name\":\"_clear\",\"kind\":\"Any\",\"default\":0},{\"name\":\"types\",\"kind\":\"Any\",\"default\":[{\"type\":\"map\",\"entries\":[[\"type\",\"warning\"],[\"background\",\"#ffc107\"],[\"icon\",{\"type\":\"map\",\"entries\":[[\"className\",\"fas fa-exclamation-triangle\"],[\"tagName\",\"i\"],[\"color\",\"white\"]]}]]},{\"type\":\"map\",\"entries\":[[\"type\",\"info\"],[\"background\",\"#007bff\"],[\"icon\",{\"type\":\"map\",\"entries\":[[\"className\",\"fas fa-info-circle\"],[\"tagName\",\"i\"],[\"color\",\"white\"]]}]]}]}]},{\"type\":\"model\",\"name\":\"Notification\",\"properties\":[{\"name\":\"background\",\"kind\":\"Any\",\"default\":null},{\"name\":\"duration\",\"kind\":\"Any\",\"default\":3000},{\"name\":\"icon\",\"kind\":\"Any\",\"default\":null},{\"name\":\"message\",\"kind\":\"Any\",\"default\":\"\"},{\"name\":\"notification_type\",\"kind\":\"Any\",\"default\":null},{\"name\":\"_destroyed\",\"kind\":\"Any\",\"default\":false}]},{\"type\":\"model\",\"name\":\"TemplateActions1\",\"properties\":[{\"name\":\"open_modal\",\"kind\":\"Any\",\"default\":0},{\"name\":\"close_modal\",\"kind\":\"Any\",\"default\":0}]},{\"type\":\"model\",\"name\":\"BootstrapTemplateActions1\",\"properties\":[{\"name\":\"open_modal\",\"kind\":\"Any\",\"default\":0},{\"name\":\"close_modal\",\"kind\":\"Any\",\"default\":0}]},{\"type\":\"model\",\"name\":\"TemplateEditor1\",\"properties\":[{\"name\":\"layout\",\"kind\":\"Any\",\"default\":[]}]},{\"type\":\"model\",\"name\":\"MaterialTemplateActions1\",\"properties\":[{\"name\":\"open_modal\",\"kind\":\"Any\",\"default\":0},{\"name\":\"close_modal\",\"kind\":\"Any\",\"default\":0}]},{\"type\":\"model\",\"name\":\"copy_to_clipboard1\",\"properties\":[{\"name\":\"fill\",\"kind\":\"Any\",\"default\":\"none\"},{\"name\":\"value\",\"kind\":\"Any\",\"default\":null}]}]}};\n",
       "  var render_items = [{\"docid\":\"a69334db-b235-4879-9d4e-36b4cd9225f7\",\"roots\":{\"p1113\":\"e8a91d73-1dfa-4423-af78-b570b5aaff7f\"},\"root_ids\":[\"p1113\"]}];\n",
       "  var docs = Object.values(docs_json)\n",
       "  if (!docs) {\n",
       "    return\n",
       "  }\n",
       "  const py_version = docs[0].version.replace('rc', '-rc.').replace('.dev', '-dev.')\n",
       "  async function embed_document(root) {\n",
       "    var Bokeh = get_bokeh(root)\n",
       "    await Bokeh.embed.embed_items_notebook(docs_json, render_items);\n",
       "    for (const render_item of render_items) {\n",
       "      for (const root_id of render_item.root_ids) {\n",
       "\tconst id_el = document.getElementById(root_id)\n",
       "\tif (id_el.children.length && id_el.children[0].hasAttribute('data-root-id')) {\n",
       "\t  const root_el = id_el.children[0]\n",
       "\t  root_el.id = root_el.id + '-rendered'\n",
       "\t  for (const child of root_el.children) {\n",
       "            // Ensure JupyterLab does not capture keyboard shortcuts\n",
       "            // see: https://jupyterlab.readthedocs.io/en/4.1.x/extension/notebook.html#keyboard-interaction-model\n",
       "\t    child.setAttribute('data-lm-suppress-shortcuts', 'true')\n",
       "\t  }\n",
       "\t}\n",
       "      }\n",
       "    }\n",
       "  }\n",
       "  function get_bokeh(root) {\n",
       "    if (root.Bokeh === undefined) {\n",
       "      return null\n",
       "    } else if (root.Bokeh.version !== py_version) {\n",
       "      if (root.Bokeh.versions === undefined || !root.Bokeh.versions.has(py_version)) {\n",
       "\treturn null\n",
       "      }\n",
       "      return root.Bokeh.versions.get(py_version);\n",
       "    } else if (root.Bokeh.version === py_version) {\n",
       "      return root.Bokeh\n",
       "    }\n",
       "    return null\n",
       "  }\n",
       "  function is_loaded(root) {\n",
       "    var Bokeh = get_bokeh(root)\n",
       "    return (Bokeh != null && Bokeh.Panel !== undefined)\n",
       "  }\n",
       "  if (is_loaded(root)) {\n",
       "    embed_document(root);\n",
       "  } else {\n",
       "    var attempts = 0;\n",
       "    var timer = setInterval(function(root) {\n",
       "      if (is_loaded(root)) {\n",
       "        clearInterval(timer);\n",
       "        embed_document(root);\n",
       "      } else if (document.readyState == \"complete\") {\n",
       "        attempts++;\n",
       "        if (attempts > 200) {\n",
       "          clearInterval(timer);\n",
       "\t  var Bokeh = get_bokeh(root)\n",
       "\t  if (Bokeh == null || Bokeh.Panel == null) {\n",
       "            console.warn(\"Panel: ERROR: Unable to run Panel code because Bokeh or Panel library is missing\");\n",
       "\t  } else {\n",
       "\t    console.warn(\"Panel: WARNING: Attempting to render but not all required libraries could be resolved.\")\n",
       "\t    embed_document(root)\n",
       "\t  }\n",
       "        }\n",
       "      }\n",
       "    }, 25, root)\n",
       "  }\n",
       "})(window);</script>"
      ],
      "text/plain": [
       ":Overlay\n",
       "   .WMTS.I   :WMTS   [Longitude,Latitude]\n",
       "   .Points.I :Points   [Lng,Lat]   (City,Humidity)"
      ]
     },
     "execution_count": 4,
     "metadata": {
      "application/vnd.holoviews_exec.v0+json": {
       "id": "p1113"
      }
     },
     "output_type": "execute_result"
    }
   ],
   "source": [
    "%%capture --no-display\n",
    "\n",
    "# Configure the map plot\n",
    "map_plot = city_data_df.hvplot.points(\n",
    "    \"Lng\",\n",
    "    \"Lat\",\n",
    "    geo = True,\n",
    "    tiles = \"OSM\",\n",
    "    size = 'Humidity',\n",
    "    color = 'City'\n",
    ")\n",
    "\n",
    "# Display the map\n",
    "map_plot"
   ]
  },
  {
   "cell_type": "markdown",
   "metadata": {},
   "source": [
    "### Step 2: Narrow down the `city_data_df` DataFrame to find your ideal weather condition"
   ]
  },
  {
   "cell_type": "code",
   "execution_count": 6,
   "metadata": {},
   "outputs": [
    {
     "data": {
      "text/html": [
       "<div>\n",
       "<style scoped>\n",
       "    .dataframe tbody tr th:only-of-type {\n",
       "        vertical-align: middle;\n",
       "    }\n",
       "\n",
       "    .dataframe tbody tr th {\n",
       "        vertical-align: top;\n",
       "    }\n",
       "\n",
       "    .dataframe thead th {\n",
       "        text-align: right;\n",
       "    }\n",
       "</style>\n",
       "<table border=\"1\" class=\"dataframe\">\n",
       "  <thead>\n",
       "    <tr style=\"text-align: right;\">\n",
       "      <th></th>\n",
       "      <th>City_ID</th>\n",
       "      <th>City</th>\n",
       "      <th>Lat</th>\n",
       "      <th>Lng</th>\n",
       "      <th>Max Temp</th>\n",
       "      <th>Humidity</th>\n",
       "      <th>Cloudiness</th>\n",
       "      <th>Wind Speed</th>\n",
       "      <th>Country</th>\n",
       "      <th>Date</th>\n",
       "    </tr>\n",
       "  </thead>\n",
       "  <tbody>\n",
       "    <tr>\n",
       "      <th>0</th>\n",
       "      <td>0</td>\n",
       "      <td>punta arenas</td>\n",
       "      <td>-53.1500</td>\n",
       "      <td>-70.9167</td>\n",
       "      <td>274.21</td>\n",
       "      <td>86</td>\n",
       "      <td>75</td>\n",
       "      <td>4.63</td>\n",
       "      <td>CL</td>\n",
       "      <td>Mon Jul 29 00:16:53 2024</td>\n",
       "    </tr>\n",
       "    <tr>\n",
       "      <th>1</th>\n",
       "      <td>1</td>\n",
       "      <td>pyapon</td>\n",
       "      <td>16.2833</td>\n",
       "      <td>95.6833</td>\n",
       "      <td>299.72</td>\n",
       "      <td>87</td>\n",
       "      <td>100</td>\n",
       "      <td>1.22</td>\n",
       "      <td>MM</td>\n",
       "      <td>Mon Jul 29 00:16:54 2024</td>\n",
       "    </tr>\n",
       "    <tr>\n",
       "      <th>2</th>\n",
       "      <td>2</td>\n",
       "      <td>puerto deseado</td>\n",
       "      <td>-47.7503</td>\n",
       "      <td>-65.8938</td>\n",
       "      <td>275.11</td>\n",
       "      <td>68</td>\n",
       "      <td>26</td>\n",
       "      <td>6.25</td>\n",
       "      <td>AR</td>\n",
       "      <td>Mon Jul 29 00:16:55 2024</td>\n",
       "    </tr>\n",
       "    <tr>\n",
       "      <th>3</th>\n",
       "      <td>3</td>\n",
       "      <td>hithadhoo</td>\n",
       "      <td>-0.6000</td>\n",
       "      <td>73.0833</td>\n",
       "      <td>302.09</td>\n",
       "      <td>71</td>\n",
       "      <td>100</td>\n",
       "      <td>4.57</td>\n",
       "      <td>MV</td>\n",
       "      <td>Mon Jul 29 00:16:56 2024</td>\n",
       "    </tr>\n",
       "    <tr>\n",
       "      <th>4</th>\n",
       "      <td>4</td>\n",
       "      <td>grytviken</td>\n",
       "      <td>-54.2811</td>\n",
       "      <td>-36.5092</td>\n",
       "      <td>271.99</td>\n",
       "      <td>81</td>\n",
       "      <td>62</td>\n",
       "      <td>4.78</td>\n",
       "      <td>GS</td>\n",
       "      <td>Mon Jul 29 00:08:28 2024</td>\n",
       "    </tr>\n",
       "  </tbody>\n",
       "</table>\n",
       "</div>"
      ],
      "text/plain": [
       "   City_ID            City      Lat      Lng  Max Temp  Humidity  Cloudiness  \\\n",
       "0        0    punta arenas -53.1500 -70.9167    274.21        86          75   \n",
       "1        1          pyapon  16.2833  95.6833    299.72        87         100   \n",
       "2        2  puerto deseado -47.7503 -65.8938    275.11        68          26   \n",
       "3        3       hithadhoo  -0.6000  73.0833    302.09        71         100   \n",
       "4        4       grytviken -54.2811 -36.5092    271.99        81          62   \n",
       "\n",
       "   Wind Speed Country                      Date  \n",
       "0        4.63      CL  Mon Jul 29 00:16:53 2024  \n",
       "1        1.22      MM  Mon Jul 29 00:16:54 2024  \n",
       "2        6.25      AR  Mon Jul 29 00:16:55 2024  \n",
       "3        4.57      MV  Mon Jul 29 00:16:56 2024  \n",
       "4        4.78      GS  Mon Jul 29 00:08:28 2024  "
      ]
     },
     "execution_count": 6,
     "metadata": {},
     "output_type": "execute_result"
    }
   ],
   "source": [
    "# Narrow down cities that fit criteria and drop any results with null values\n",
    "df_narrow = city_data_df.loc[21 < city_data_df['Max Temp']]\n",
    "\n",
    "# Drop any rows with null values\n",
    "df_narrow.dropna\n",
    "\n",
    "# Display sample data\n",
    "df_narrow.head()"
   ]
  },
  {
   "cell_type": "markdown",
   "metadata": {},
   "source": [
    "### Step 3: Create a new DataFrame called `hotel_df`."
   ]
  },
  {
   "cell_type": "code",
   "execution_count": 8,
   "metadata": {},
   "outputs": [
    {
     "name": "stderr",
     "output_type": "stream",
     "text": [
      "C:\\Users\\Moburu\\AppData\\Local\\Temp\\ipykernel_26060\\1510133662.py:5: SettingWithCopyWarning: \n",
      "A value is trying to be set on a copy of a slice from a DataFrame.\n",
      "Try using .loc[row_indexer,col_indexer] = value instead\n",
      "\n",
      "See the caveats in the documentation: https://pandas.pydata.org/pandas-docs/stable/user_guide/indexing.html#returning-a-view-versus-a-copy\n",
      "  hotel_df['Hotel Name'] = \"\"\n"
     ]
    },
    {
     "data": {
      "text/html": [
       "<div>\n",
       "<style scoped>\n",
       "    .dataframe tbody tr th:only-of-type {\n",
       "        vertical-align: middle;\n",
       "    }\n",
       "\n",
       "    .dataframe tbody tr th {\n",
       "        vertical-align: top;\n",
       "    }\n",
       "\n",
       "    .dataframe thead th {\n",
       "        text-align: right;\n",
       "    }\n",
       "</style>\n",
       "<table border=\"1\" class=\"dataframe\">\n",
       "  <thead>\n",
       "    <tr style=\"text-align: right;\">\n",
       "      <th></th>\n",
       "      <th>City</th>\n",
       "      <th>Country</th>\n",
       "      <th>Lat</th>\n",
       "      <th>Lng</th>\n",
       "      <th>Humidity</th>\n",
       "      <th>Hotel Name</th>\n",
       "    </tr>\n",
       "  </thead>\n",
       "  <tbody>\n",
       "    <tr>\n",
       "      <th>0</th>\n",
       "      <td>punta arenas</td>\n",
       "      <td>CL</td>\n",
       "      <td>-53.1500</td>\n",
       "      <td>-70.9167</td>\n",
       "      <td>86</td>\n",
       "      <td></td>\n",
       "    </tr>\n",
       "    <tr>\n",
       "      <th>1</th>\n",
       "      <td>pyapon</td>\n",
       "      <td>MM</td>\n",
       "      <td>16.2833</td>\n",
       "      <td>95.6833</td>\n",
       "      <td>87</td>\n",
       "      <td></td>\n",
       "    </tr>\n",
       "    <tr>\n",
       "      <th>2</th>\n",
       "      <td>puerto deseado</td>\n",
       "      <td>AR</td>\n",
       "      <td>-47.7503</td>\n",
       "      <td>-65.8938</td>\n",
       "      <td>68</td>\n",
       "      <td></td>\n",
       "    </tr>\n",
       "    <tr>\n",
       "      <th>3</th>\n",
       "      <td>hithadhoo</td>\n",
       "      <td>MV</td>\n",
       "      <td>-0.6000</td>\n",
       "      <td>73.0833</td>\n",
       "      <td>71</td>\n",
       "      <td></td>\n",
       "    </tr>\n",
       "    <tr>\n",
       "      <th>4</th>\n",
       "      <td>grytviken</td>\n",
       "      <td>GS</td>\n",
       "      <td>-54.2811</td>\n",
       "      <td>-36.5092</td>\n",
       "      <td>81</td>\n",
       "      <td></td>\n",
       "    </tr>\n",
       "  </tbody>\n",
       "</table>\n",
       "</div>"
      ],
      "text/plain": [
       "             City Country      Lat      Lng  Humidity Hotel Name\n",
       "0    punta arenas      CL -53.1500 -70.9167        86           \n",
       "1          pyapon      MM  16.2833  95.6833        87           \n",
       "2  puerto deseado      AR -47.7503 -65.8938        68           \n",
       "3       hithadhoo      MV  -0.6000  73.0833        71           \n",
       "4       grytviken      GS -54.2811 -36.5092        81           "
      ]
     },
     "execution_count": 8,
     "metadata": {},
     "output_type": "execute_result"
    }
   ],
   "source": [
    "# Use the Pandas copy function to create DataFrame called hotel_df to store the city, country, coordinates, and humidity\n",
    "hotel_df = df_narrow[['City', 'Country', 'Lat', 'Lng', 'Humidity']]\n",
    "\n",
    "# Add an empty column, \"Hotel Name,\" to the DataFrame so you can store the hotel found using the Geoapify API\n",
    "hotel_df['Hotel Name'] = \"\"\n",
    "\n",
    "# Display sample data\n",
    "hotel_df.head()"
   ]
  },
  {
   "cell_type": "markdown",
   "metadata": {},
   "source": [
    "### Step 4: For each city, use the Geoapify API to find the first hotel located within 10,000 metres of your coordinates."
   ]
  },
  {
   "cell_type": "code",
   "execution_count": 15,
   "metadata": {},
   "outputs": [
    {
     "name": "stdout",
     "output_type": "stream",
     "text": [
      "Starting hotel search\n",
      "{'type': 'FeatureCollection', 'features': [{'type': 'Feature', 'properties': {'name': 'Hotel Lacolet', 'country': 'Chile', 'country_code': 'cl', 'state': 'Region of Magallanes and Chilean Antarctica', 'county': 'Provincia de Magallanes', 'city': 'Punta Arenas', 'postcode': '6200729', 'district': 'Cerro de la Cruz', 'street': 'Avenida Cristobal Colón', 'lon': -70.9144173, 'lat': -53.1566042, 'formatted': 'Hotel Lacolet, Avenida Cristobal Colón, 620 0729 Punta Arenas, Chile', 'address_line1': 'Hotel Lacolet', 'address_line2': 'Avenida Cristobal Colón, 620 0729 Punta Arenas, Chile', 'categories': ['accommodation', 'accommodation.hotel'], 'details': [], 'datasource': {'sourcename': 'openstreetmap', 'attribution': '© OpenStreetMap contributors', 'license': 'Open Database License', 'url': 'https://www.openstreetmap.org/copyright', 'raw': {'name': 'Hotel Lacolet', 'osm_id': 5351299530, 'tourism': 'hotel', 'osm_type': 'n'}}, 'distance': 751, 'place_id': '51619923d085ba51c05983753b9b0b944ac0f00103f901ca59f63e0100000092030d486f74656c204c61636f6c6574'}, 'geometry': {'type': 'Point', 'coordinates': [-70.91441729999998, -53.156604198487024]}}]}\n",
      "punta arenas - nearest hotel: Hotel Lacolet\n"
     ]
    },
    {
     "name": "stderr",
     "output_type": "stream",
     "text": [
      "ERROR:root:Error message:\n",
      "Traceback (most recent call last):\n",
      "  File \"C:\\Users\\Moburu\\AppData\\Local\\Temp\\ipykernel_26060\\1195407018.py\", line 36, in <module>\n",
      "    hotel_df.loc[index, \"Hotel Name\"] = name_address[\"features\"][0][\"properties\"][\"name\"]\n",
      "                                        ~~~~~~~~~~~~~~~~~~~~~~~~^^^\n",
      "IndexError: list index out of range\n"
     ]
    },
    {
     "name": "stdout",
     "output_type": "stream",
     "text": [
      "{'type': 'FeatureCollection', 'features': []}\n",
      "pyapon - nearest hotel: No hotel found\n",
      "{'type': 'FeatureCollection', 'features': [{'type': 'Feature', 'properties': {'name': 'Los Olmos', 'country': 'Argentina', 'country_code': 'ar', 'state': 'Santa Cruz Province', 'county': 'Deseado', 'city': 'Puerto Deseado', 'postcode': '9050', 'district': 'Quinta Cadario', 'street': 'Gobernador Gregores', 'lon': -65.8909923, 'lat': -47.7522432, 'formatted': 'Los Olmos, Gobernador Gregores, Quinta Cadario, 9050 Puerto Deseado, Argentina', 'address_line1': 'Los Olmos', 'address_line2': 'Gobernador Gregores, Quinta Cadario, 9050 Puerto Deseado, Argentina', 'categories': ['accommodation', 'accommodation.hotel'], 'details': [], 'datasource': {'sourcename': 'openstreetmap', 'attribution': '© OpenStreetMap contributors', 'license': 'Open Database License', 'url': 'https://www.openstreetmap.org/copyright', 'raw': {'name': 'Los Olmos', 'osm_id': 1882650503, 'tourism': 'hotel', 'osm_type': 'n'}}, 'distance': 302, 'place_id': '51375f9104067950c0598d25528149e047c0f00103f90187f73670000000009203094c6f73204f6c6d6f73'}, 'geometry': {'type': 'Point', 'coordinates': [-65.89099229999998, -47.75224319945401]}}]}\n",
      "puerto deseado - nearest hotel: Los Olmos\n",
      "{'type': 'FeatureCollection', 'features': [{'type': 'Feature', 'properties': {'name': 'Pebbles Inn', 'country': 'Maldives', 'country_code': 'mv', 'state': 'Addu Atoll', 'city': 'Hithadhoo', 'postcode': '19020', 'street': \"Shabnam hin'gun\", 'lon': 73.0865138, 'lat': -0.6002215, 'formatted': \"Pebbles Inn, Shabnam hin'gun, Hithadhoo 19020, Maldives\", 'address_line1': 'Pebbles Inn', 'address_line2': \"Shabnam hin'gun, Hithadhoo 19020, Maldives\", 'categories': ['accommodation', 'accommodation.hotel'], 'details': ['details', 'details.contact'], 'datasource': {'sourcename': 'openstreetmap', 'attribution': '© OpenStreetMap contributors', 'license': 'Open Database License', 'url': 'https://www.openstreetmap.org/copyright', 'raw': {'name': 'Pebbles Inn', 'email': 'stay@pebblesinn.com', 'phone': 6880660, 'osm_id': 5156483845, 'tourism': 'hotel', 'website': 'https://www.pebblesinn.com/', 'osm_type': 'n'}}, 'website': 'https://www.pebblesinn.com/', 'contact': {'phone': 6880660, 'email': 'stay@pebblesinn.com'}, 'distance': 359, 'place_id': '51c6692d718945524059fa2813b80335e3bff00103f90105b359330100000092030b506562626c657320496e6e'}, 'geometry': {'type': 'Point', 'coordinates': [73.0865138, -0.6002214999400899]}}]}\n",
      "hithadhoo - nearest hotel: Pebbles Inn\n"
     ]
    },
    {
     "name": "stderr",
     "output_type": "stream",
     "text": [
      "ERROR:root:Error message:\n",
      "Traceback (most recent call last):\n",
      "  File \"C:\\Users\\Moburu\\AppData\\Local\\Temp\\ipykernel_26060\\1195407018.py\", line 36, in <module>\n",
      "    hotel_df.loc[index, \"Hotel Name\"] = name_address[\"features\"][0][\"properties\"][\"name\"]\n",
      "                                        ~~~~~~~~~~~~~~~~~~~~~~~~^^^\n",
      "IndexError: list index out of range\n"
     ]
    },
    {
     "name": "stdout",
     "output_type": "stream",
     "text": [
      "{'type': 'FeatureCollection', 'features': []}\n",
      "grytviken - nearest hotel: No hotel found\n",
      "{'type': 'FeatureCollection', 'features': [{'type': 'Feature', 'properties': {'name': 'Kang Lha Chen', 'country': 'India', 'country_code': 'in', 'state': 'Ladakh', 'state_district': 'Leh District', 'county': 'Leh Tehsil', 'city': 'Leh', 'suburb': 'Zangsti', 'street': 'Changspa Road', 'lon': 77.58363618701208, 'lat': 34.1667552, 'formatted': 'Kang Lha Chen, Changspa Road, Zangsti, Leh -, Ladakh, India', 'address_line1': 'Kang Lha Chen', 'address_line2': 'Changspa Road, Zangsti, Leh -, Ladakh, India', 'categories': ['accommodation', 'accommodation.hotel', 'building', 'building.accommodation'], 'details': [], 'datasource': {'sourcename': 'openstreetmap', 'attribution': '© OpenStreetMap contributors', 'license': 'Open Database License', 'url': 'https://www.openstreetmap.org/copyright', 'raw': {'name': 'Kang Lha Chen', 'osm_id': 344057387, 'tourism': 'hotel', 'building': 'yes', 'osm_type': 'w'}}, 'place_id': '51a8fe974b5a655340595060003c58154140f00102f9012be681140000000092030d4b616e67204c6861204368656e'}, 'geometry': {'type': 'Point', 'coordinates': [77.58363618701208, 34.166755199607564]}}]}\n",
      "leh - nearest hotel: Kang Lha Chen\n"
     ]
    },
    {
     "name": "stderr",
     "output_type": "stream",
     "text": [
      "ERROR:root:Error message:\n",
      "Traceback (most recent call last):\n",
      "  File \"C:\\Users\\Moburu\\AppData\\Local\\Temp\\ipykernel_26060\\1195407018.py\", line 36, in <module>\n",
      "    hotel_df.loc[index, \"Hotel Name\"] = name_address[\"features\"][0][\"properties\"][\"name\"]\n",
      "                                        ~~~~~~~~~~~~~~~~~~~~~~~~^^^\n",
      "IndexError: list index out of range\n"
     ]
    },
    {
     "name": "stdout",
     "output_type": "stream",
     "text": [
      "{'type': 'FeatureCollection', 'features': []}\n",
      "kayangel - nearest hotel: No hotel found\n"
     ]
    },
    {
     "name": "stderr",
     "output_type": "stream",
     "text": [
      "ERROR:root:Error message:\n",
      "Traceback (most recent call last):\n",
      "  File \"C:\\Users\\Moburu\\AppData\\Local\\Temp\\ipykernel_26060\\1195407018.py\", line 36, in <module>\n",
      "    hotel_df.loc[index, \"Hotel Name\"] = name_address[\"features\"][0][\"properties\"][\"name\"]\n",
      "                                        ~~~~~~~~~~~~~~~~~~~~~~~~^^^\n",
      "IndexError: list index out of range\n"
     ]
    },
    {
     "name": "stdout",
     "output_type": "stream",
     "text": [
      "{'type': 'FeatureCollection', 'features': []}\n",
      "adamstown - nearest hotel: No hotel found\n",
      "{'type': 'FeatureCollection', 'features': [{'type': 'Feature', 'properties': {'name': 'Hampton Inn Danbury', 'ref': 'DXRCTHX', 'country': 'United States', 'country_code': 'us', 'state': 'Connecticut', 'county': 'Western Connecticut Planning Region', 'city': 'Danbury', 'hamlet': 'Beaverbrook', 'postcode': '06810', 'street': 'Newtown Road', 'housenumber': '81', 'lon': -73.41135845863734, 'lat': 41.409656749999996, 'state_code': 'CT', 'formatted': 'Hampton Inn Danbury, 81 Newtown Road, Danbury, CT 06810, United States of America', 'address_line1': 'Hampton Inn Danbury', 'address_line2': '81 Newtown Road, Danbury, CT 06810, United States of America', 'categories': ['accommodation', 'accommodation.hotel', 'building', 'building.accommodation'], 'details': ['details', 'details.contact'], 'datasource': {'sourcename': 'openstreetmap', 'attribution': '© OpenStreetMap contributors', 'license': 'Open Database License', 'url': 'https://www.openstreetmap.org/copyright', 'raw': {'ref': 'DXRCTHX', 'name': 'Hampton Inn Danbury', 'brand': 'Hampton', 'phone': '+1 203-748-6677', 'branch': 'Danbury', 'osm_id': 204970268, 'tourism': 'hotel', 'website': 'https://www.hilton.com/en/hotels/dxrcthx-hampton-danbury/', 'alt_name': 'Hampton Inn', 'building': 'yes', 'osm_type': 'w', 'addr:city': 'Danbury', 'addr:state': 'CT', 'addr:street': 'Newtown Road', 'addr:postcode': '06810', 'official_name': 'Hampton Inn & Suites by Hilton', 'brand:wikidata': 'Q5646230', 'addr:housenumber': 81}}, 'website': 'https://www.hilton.com/en/hotels/dxrcthx-hampton-danbury/', 'brand': 'Hampton', 'brand_details': {'wikidata': 'Q5646230'}, 'branch': 'Danbury', 'name_other': {'alt_name': 'Hampton Inn', 'official_name': 'Hampton Inn & Suites by Hilton'}, 'contact': {'phone': '+1 203-748-6677'}, 'distance': 4237, 'place_id': '51f0b16db2535a52c05936dae4a16fb44440f00102f9011c99370c0000000092031348616d70746f6e20496e6e2044616e62757279'}, 'geometry': {'type': 'Point', 'coordinates': [-73.41135845863732, 41.40965675043519]}}]}\n",
      "bethel - nearest hotel: Hampton Inn Danbury\n"
     ]
    },
    {
     "name": "stderr",
     "output_type": "stream",
     "text": [
      "ERROR:root:Error message:\n",
      "Traceback (most recent call last):\n",
      "  File \"C:\\Users\\Moburu\\AppData\\Local\\Temp\\ipykernel_26060\\1195407018.py\", line 36, in <module>\n",
      "    hotel_df.loc[index, \"Hotel Name\"] = name_address[\"features\"][0][\"properties\"][\"name\"]\n",
      "                                        ~~~~~~~~~~~~~~~~~~~~~~~~^^^\n",
      "IndexError: list index out of range\n"
     ]
    },
    {
     "name": "stdout",
     "output_type": "stream",
     "text": [
      "{'type': 'FeatureCollection', 'features': []}\n",
      "broome - nearest hotel: No hotel found\n",
      "{'type': 'FeatureCollection', 'features': [{'type': 'Feature', 'properties': {'name': 'Villa Howden', 'country': 'Australia', 'country_code': 'au', 'state': 'Tasmania', 'city': 'Hobart', 'village': 'Howden', 'municipality': 'Kingborough', 'postcode': '7054', 'street': 'Howden Road', 'lon': 147.27947946462487, 'lat': -43.0097946, 'state_code': 'TAS', 'formatted': 'Villa Howden, Howden Road, Hobart TAS 7054, Australia', 'address_line1': 'Villa Howden', 'address_line2': 'Howden Road, Hobart TAS 7054, Australia', 'categories': ['accommodation', 'accommodation.hotel', 'building', 'building.accommodation'], 'details': ['details', 'details.contact'], 'datasource': {'sourcename': 'openstreetmap', 'attribution': '© OpenStreetMap contributors', 'license': 'Open Database License', 'url': 'https://www.openstreetmap.org/copyright', 'raw': {'fax': '+61 3 6267 1533', 'name': 'Villa Howden', 'email': 'stay@villahowden.com.au', 'phone': '+61 3 6267 1161', 'osm_id': 618783944, 'tourism': 'hotel', 'website': 'https://www.villahowden.com.au/', 'building': 'hotel', 'osm_type': 'w'}}, 'website': 'https://www.villahowden.com.au/', 'contact': {'phone': '+61 3 6267 1161', 'email': 'stay@villahowden.com.au', 'fax': '+61 3 6267 1533'}, 'building': {'type': 'hotel'}, 'distance': 3112, 'place_id': '51f40eeb7ef1686240596e5d11f3408145c0f00102f901c8e4e1240000000092030c56696c6c6120486f7764656e'}, 'geometry': {'type': 'Point', 'coordinates': [147.27947946462484, -43.00979460094355]}}]}\n",
      "blackmans bay - nearest hotel: Villa Howden\n",
      "{'type': 'FeatureCollection', 'features': [{'type': 'Feature', 'properties': {'name': 'Aloe guest house', 'country': 'South Africa', 'country_code': 'za', 'state': 'Western Cape', 'county': 'Overberg District Municipality', 'city': 'Overstrand Local Municipality', 'town': 'Hermanus', 'postcode': '7200', 'suburb': 'Overstrand Ward 3', 'street': 'Main Road', 'lon': 19.2345494, 'lat': -34.4192217, 'state_code': 'WC', 'formatted': 'Aloe guest house, Main Road, Overstrand Ward 3, Overstrand Local Municipality, 7200, South Africa', 'address_line1': 'Aloe guest house', 'address_line2': 'Main Road, Overstrand Ward 3, Overstrand Local Municipality, 7200, South Africa', 'categories': ['accommodation', 'accommodation.hotel'], 'details': [], 'datasource': {'sourcename': 'openstreetmap', 'attribution': '© OpenStreetMap contributors', 'license': 'Open Database License', 'url': 'https://www.openstreetmap.org/copyright', 'raw': {'name': 'Aloe guest house', 'osm_id': 6617795687, 'tourism': 'hotel', 'osm_type': 'n'}}, 'distance': 58, 'place_id': '51e24bf26d0b3c3340596f24810ea93541c0f00103f901678c738a01000000920310416c6f6520677565737420686f757365'}, 'geometry': {'type': 'Point', 'coordinates': [19.2345494, -34.41922169976976]}}]}\n",
      "hermanus - nearest hotel: Aloe guest house\n",
      "{'type': 'FeatureCollection', 'features': [{'type': 'Feature', 'properties': {'name': 'Hótel Horn', 'country': 'Iceland', 'country_code': 'is', 'state_district': 'Westfjords', 'county': 'Ísafjarðarbær', 'city': 'Ísafjörður', 'postcode': '400', 'street': 'Austurvegur', 'housenumber': '2', 'lon': -23.1194455, 'lat': 66.0734835, 'formatted': 'Hótel Horn, Austurvegur 2, 400 Ísafjörður, Iceland', 'address_line1': 'Hótel Horn', 'address_line2': 'Austurvegur 2, 400 Ísafjörður, Iceland', 'categories': ['accommodation', 'accommodation.hotel', 'internet_access', 'internet_access.free'], 'details': ['details.facilities'], 'datasource': {'sourcename': 'openstreetmap', 'attribution': '© OpenStreetMap contributors', 'license': 'Open Database License', 'url': 'https://www.openstreetmap.org/copyright', 'raw': {'name': 'Hótel Horn', 'osm_id': 3621849092, 'tourism': 'hotel', 'osm_type': 'n', 'internet_access': 'wlan', 'internet_access:fee': 'no'}}, 'facilities': {'internet_access': True}, 'distance': 305, 'place_id': '518527f4fa931e37c0591cd520f4b3845040f00103f9010408e1d70000000092030b48c3b374656c20486f726e'}, 'geometry': {'type': 'Point', 'coordinates': [-23.1194455, 66.07348349767966]}}]}\n",
      "isafjordur - nearest hotel: Hótel Horn\n"
     ]
    },
    {
     "name": "stderr",
     "output_type": "stream",
     "text": [
      "ERROR:root:Error message:\n",
      "Traceback (most recent call last):\n",
      "  File \"C:\\Users\\Moburu\\AppData\\Local\\Temp\\ipykernel_26060\\1195407018.py\", line 36, in <module>\n",
      "    hotel_df.loc[index, \"Hotel Name\"] = name_address[\"features\"][0][\"properties\"][\"name\"]\n",
      "                                        ~~~~~~~~~~~~~~~~~~~~~~~~^^^\n",
      "IndexError: list index out of range\n"
     ]
    },
    {
     "name": "stdout",
     "output_type": "stream",
     "text": [
      "{'type': 'FeatureCollection', 'features': []}\n",
      "zambezi - nearest hotel: No hotel found\n",
      "{'type': 'FeatureCollection', 'features': [{'type': 'Feature', 'properties': {'name': 'Holiday Inn Express & Suites Trinity', 'ref': 'TNREX', 'country': 'United States', 'country_code': 'us', 'state': 'Florida', 'county': 'Pasco County', 'city': 'Starkey Ranch', 'postcode': '34655', 'suburb': 'Trinity Corporate Center', 'street': 'Corporate Center Drive', 'housenumber': '2125', 'lon': -82.62838380721371, 'lat': 28.18948615, 'state_code': 'FL', 'formatted': 'Holiday Inn Express & Suites Trinity, 2125 Corporate Center Drive, Starkey Ranch, FL 34655, United States of America', 'address_line1': 'Holiday Inn Express & Suites Trinity', 'address_line2': '2125 Corporate Center Drive, Starkey Ranch, FL 34655, United States of America', 'categories': ['accommodation', 'accommodation.hotel', 'building', 'building.accommodation'], 'details': ['details', 'details.contact'], 'datasource': {'sourcename': 'openstreetmap', 'attribution': '© OpenStreetMap contributors', 'license': 'Open Database License', 'url': 'https://www.openstreetmap.org/copyright', 'raw': {'ref': 'TNREX', 'name': 'Holiday Inn Express & Suites Trinity', 'brand': 'Holiday Inn Express', 'phone': '+1 727-835-7820', 'branch': 'Trinity', 'osm_id': 775146520, 'tourism': 'hotel', 'website': 'https://www.ihg.com/holidayinnexpress/hotels/us/en/trinity/tnrex/hoteldetail', 'building': 'yes', 'osm_type': 'w', 'addr:city': 'Trinity', 'addr:state': 'FL', 'addr:street': 'Corporate Center Drive', 'addr:postcode': 34655, 'brand:wikidata': 'Q5880423', 'addr:housenumber': 2125}}, 'website': 'https://www.ihg.com/holidayinnexpress/hotels/us/en/trinity/tnrex/hoteldetail', 'brand': 'Holiday Inn Express', 'brand_details': {'wikidata': 'Q5880423'}, 'branch': 'Trinity', 'contact': {'phone': '+1 727-835-7820'}, 'distance': 5309, 'place_id': '516654b77037a854c05938f9102a82303c40f00102f90118cc332e00000000920324486f6c6964617920496e6e2045787072657373202620537569746573205472696e697479'}, 'geometry': {'type': 'Point', 'coordinates': [-82.62838380721368, 28.18948614992516]}}]}\n",
      "trinity - nearest hotel: Holiday Inn Express & Suites Trinity\n",
      "{'type': 'FeatureCollection', 'features': [{'type': 'Feature', 'properties': {'name': 'Hawaiki Nui hotel', 'country': 'France', 'country_code': 'fr', 'state': 'French Polynesia', 'county': 'Leeward Islands', 'city': 'Uturoa', 'postcode': '98735', 'street': 'Route Côtière', 'lon': -151.4362013, 'lat': -16.7401613, 'formatted': 'Hawaiki Nui hotel, Route Côtière, 98735 Uturoa, France', 'address_line1': 'Hawaiki Nui hotel', 'address_line2': 'Route Côtière, 98735 Uturoa, France', 'categories': ['accommodation', 'accommodation.hotel'], 'details': [], 'datasource': {'sourcename': 'openstreetmap', 'attribution': '© OpenStreetMap contributors', 'license': 'Open Database License', 'url': 'https://www.openstreetmap.org/copyright', 'raw': {'name': 'Hawaiki Nui hotel', 'osm_id': 8131849996, 'tourism': 'hotel', 'osm_type': 'n'}}, 'distance': 820, 'place_id': '5120bf6d5cf5ed62c0594e4103367bbd30c0f00103f9010c2fb2e40100000092031148617761696b69204e756920686f74656c'}, 'geometry': {'type': 'Point', 'coordinates': [-151.4362013, -16.74016130046339]}}]}\n",
      "uturoa - nearest hotel: Hawaiki Nui hotel\n",
      "{'type': 'FeatureCollection', 'features': [{'type': 'Feature', 'properties': {'name': '\"Мегаполис\"', 'country': 'Russia', 'country_code': 'ru', 'region': 'Northwestern Federal District', 'state': 'Komi Republic', 'county': 'Vorkuta Urban Okrug', 'city': 'Vorkuta', 'postcode': '169900', 'street': 'Парковая улица', 'housenumber': '34А', 'lon': 64.0497672, 'lat': 67.4957903, 'formatted': '\"Мегаполис\", Парковая улица 34А, Vorkuta, Komi Republic, Russia, 169900', 'address_line1': '\"Мегаполис\"', 'address_line2': 'Парковая улица 34А, Vorkuta, Komi Republic, Russia, 169900', 'categories': ['accommodation', 'accommodation.hotel'], 'details': ['details.contact'], 'datasource': {'sourcename': 'openstreetmap', 'attribution': '© OpenStreetMap contributors', 'license': 'Open Database License', 'url': 'https://www.openstreetmap.org/copyright', 'raw': {'name': '\"Мегаполис\"', 'osm_id': 4858699874, 'tourism': 'hotel', 'osm_type': 'n', 'contact:phone': '+7-82151-7-35-37'}}, 'contact': {'phone': '+7-82151-7-35-37'}, 'distance': 2178, 'place_id': '51771ac4622f035040598d883907bbdf5040f00103f90162e099210100000092031422d09cd0b5d0b3d0b0d0bfd0bed0bbd0b8d18122'}, 'geometry': {'type': 'Point', 'coordinates': [64.0497672, 67.49579029673096]}}]}\n",
      "vorkuta - nearest hotel: \"Мегаполис\"\n"
     ]
    },
    {
     "name": "stderr",
     "output_type": "stream",
     "text": [
      "ERROR:root:Error message:\n",
      "Traceback (most recent call last):\n",
      "  File \"C:\\Users\\Moburu\\AppData\\Local\\Temp\\ipykernel_26060\\1195407018.py\", line 36, in <module>\n",
      "    hotel_df.loc[index, \"Hotel Name\"] = name_address[\"features\"][0][\"properties\"][\"name\"]\n",
      "                                        ~~~~~~~~~~~~~~~~~~~~~~~~^^^\n",
      "IndexError: list index out of range\n"
     ]
    },
    {
     "name": "stdout",
     "output_type": "stream",
     "text": [
      "{'type': 'FeatureCollection', 'features': []}\n",
      "edinburgh of the seven seas - nearest hotel: No hotel found\n",
      "{'type': 'FeatureCollection', 'features': [{'type': 'Feature', 'properties': {'name': 'Hotel do China', 'country': 'Brazil', 'country_code': 'br', 'region': 'Northeast Region', 'state': 'Sergipe', 'county': 'Região Geográfica Intermediária de Itabaiana', 'city': 'Canindé de São Francisco', 'municipality': 'Região Geográfica Imediata de Nossa Senhora da Glória', 'district': 'Canindé de São Francisco', 'street': 'Rua Rui Barbosa', 'lon': -37.788425849999996, 'lat': -9.66265145, 'state_code': 'SE', 'formatted': 'Hotel do China, Rua Rui Barbosa, Canindé de São Francisco - SE, Brazil', 'address_line1': 'Hotel do China', 'address_line2': 'Rua Rui Barbosa, Canindé de São Francisco - SE, Brazil', 'categories': ['accommodation', 'accommodation.hotel'], 'details': [], 'datasource': {'sourcename': 'openstreetmap', 'attribution': '© OpenStreetMap contributors', 'license': 'Open Database License', 'url': 'https://www.openstreetmap.org/copyright', 'raw': {'name': 'Hotel do China', 'osm_id': 293769304, 'tourism': 'hotel', 'osm_type': 'w'}}, 'distance': 298, 'place_id': '5116896423ebe442c059c0ce030d475323c0f00102f901589082110000000092030e486f74656c20646f204368696e61'}, 'geometry': {'type': 'Point', 'coordinates': [-37.788425849999996, -9.662651449885175]}}]}\n",
      "caninde de sao francisco - nearest hotel: Hotel do China\n",
      "{'type': 'FeatureCollection', 'features': [{'type': 'Feature', 'properties': {'name': 'Hotel Chathams', 'country': 'New Zealand', 'country_code': 'nz', 'state': 'Chatham Islands', 'city': 'Waitangi', 'postcode': '8942', 'street': 'Waitangi Wharf Owenga Road', 'housenumber': '1', 'lon': -176.5607157, 'lat': -43.9509492, 'formatted': 'Hotel Chathams, 1 Waitangi Wharf Owenga Road, Waitangi 8942, New Zealand', 'address_line1': 'Hotel Chathams', 'address_line2': '1 Waitangi Wharf Owenga Road, Waitangi 8942, New Zealand', 'categories': ['accommodation', 'accommodation.hotel'], 'details': ['details', 'details.contact'], 'datasource': {'sourcename': 'openstreetmap', 'attribution': '© OpenStreetMap contributors', 'license': 'Open Database License', 'url': 'https://www.openstreetmap.org/copyright', 'raw': {'name': 'Hotel Chathams', 'email': 'hotelchatham@xtra.co.nz', 'phone': '+64 3 305 0048', 'osm_id': 5316984925, 'tourism': 'hotel', 'website': 'https://www.hotelchatham.co.nz/', 'alt_name': 'Hotel Chatham', 'osm_type': 'n', 'addr:city': 'Waitangi', 'addr:street': 'Waterfront Road', 'addr:postcode': 8942, 'addr:housenumber': 1, 'internet_access:fee': 'yes'}}, 'website': 'https://www.hotelchatham.co.nz/', 'name_other': {'alt_name': 'Hotel Chatham'}, 'contact': {'phone': '+64 3 305 0048', 'email': 'hotelchatham@xtra.co.nz'}, 'distance': 295, 'place_id': '51513b0d62f11166c059cec112b4b8f945c0f00103f9015dc0ea3c0100000092030e486f74656c204368617468616d73'}, 'geometry': {'type': 'Point', 'coordinates': [-176.56071569999997, -43.95094920078155]}}]}\n",
      "waitangi - nearest hotel: Hotel Chathams\n",
      "{'type': 'FeatureCollection', 'features': [{'type': 'Feature', 'properties': {'name': 'Herberg van Smallingerland', 'country': 'Netherlands', 'country_code': 'nl', 'state': 'Frisia', 'city': 'Rottevalle', 'municipality': 'Smallingerland', 'postcode': '9221 SP', 'street': 'Efterwei', 'lon': 6.1022067, 'lat': 53.1454542, 'formatted': 'Herberg van Smallingerland, Efterwei, 9221 SP Rottevalle, Netherlands', 'address_line1': 'Herberg van Smallingerland', 'address_line2': 'Efterwei, 9221 SP Rottevalle, Netherlands', 'categories': ['accommodation', 'accommodation.hotel'], 'details': ['details'], 'datasource': {'sourcename': 'openstreetmap', 'attribution': '© OpenStreetMap contributors', 'license': 'Open Database License', 'url': 'https://www.openstreetmap.org/copyright', 'raw': {'name': 'Herberg van Smallingerland', 'osm_id': 4535327489, 'name:nl': 'Herberg van Smallingerland', 'tourism': 'hotel', 'osm_type': 'n'}}, 'name_international': {'nl': 'Herberg van Smallingerland'}, 'distance': 6318, 'place_id': '5174ba87dfa8681840592816423e9e924a40f00103f901019b530e0100000092031a486572626572672076616e20536d616c6c696e6765726c616e64'}, 'geometry': {'type': 'Point', 'coordinates': [6.1022067, 53.14545419909365]}}]}\n",
      "surhuisterveen - nearest hotel: Herberg van Smallingerland\n"
     ]
    },
    {
     "name": "stderr",
     "output_type": "stream",
     "text": [
      "ERROR:root:Error message:\n",
      "Traceback (most recent call last):\n",
      "  File \"C:\\Users\\Moburu\\AppData\\Local\\Temp\\ipykernel_26060\\1195407018.py\", line 36, in <module>\n",
      "    hotel_df.loc[index, \"Hotel Name\"] = name_address[\"features\"][0][\"properties\"][\"name\"]\n",
      "                                        ~~~~~~~~~~~~~~~~~~~~~~~~^^^\n",
      "IndexError: list index out of range\n"
     ]
    },
    {
     "name": "stdout",
     "output_type": "stream",
     "text": [
      "{'type': 'FeatureCollection', 'features': []}\n",
      "lebu - nearest hotel: No hotel found\n",
      "{'type': 'FeatureCollection', 'features': [{'type': 'Feature', 'properties': {'name': 'Арктика', 'country': 'Russia', 'country_code': 'ru', 'region': 'Far Eastern Federal District', 'state': 'Sakha Republic', 'county': 'Bulunsky Ulus', 'city': 'Tiksi', 'suburb': 'Tiksi-3', 'street': 'Polyarnoi aviatsii street', 'lon': 128.87147940836854, 'lat': 71.6922024, 'formatted': 'Арктика, Polyarnoi aviatsii street, Tiksi-3, Tiksi, Sakha Republic, Russia', 'address_line1': 'Арктика', 'address_line2': 'Polyarnoi aviatsii street, Tiksi-3, Tiksi, Sakha Republic, Russia', 'categories': ['accommodation', 'accommodation.hotel', 'building', 'building.accommodation'], 'details': ['details.accommodation', 'details.building'], 'datasource': {'sourcename': 'openstreetmap', 'attribution': '© OpenStreetMap contributors', 'license': 'Open Database License', 'url': 'https://www.openstreetmap.org/copyright', 'raw': {'name': 'Арктика', 'stars': 2, 'osm_id': 141488442, 'tourism': 'hotel', 'building': 'yes', 'osm_type': 'w', 'building:levels': 4}}, 'accommodation': {'stars': 2}, 'building': {'levels': 4}, 'distance': 548, 'place_id': '5192c2c828e31b60405952c94f0b4dec5140f00102f9013af16e080000000092030ed090d180d0bad182d0b8d0bad0b0'}, 'geometry': {'type': 'Point', 'coordinates': [128.87147940836854, 71.6922024039425]}}]}\n",
      "tiksi - nearest hotel: Арктика\n"
     ]
    },
    {
     "name": "stderr",
     "output_type": "stream",
     "text": [
      "ERROR:root:Error message:\n",
      "Traceback (most recent call last):\n",
      "  File \"C:\\Users\\Moburu\\AppData\\Local\\Temp\\ipykernel_26060\\1195407018.py\", line 36, in <module>\n",
      "    hotel_df.loc[index, \"Hotel Name\"] = name_address[\"features\"][0][\"properties\"][\"name\"]\n",
      "                                        ~~~~~~~~~~~~~~~~~~~~~~~~^^^\n",
      "IndexError: list index out of range\n"
     ]
    },
    {
     "name": "stdout",
     "output_type": "stream",
     "text": [
      "{'type': 'FeatureCollection', 'features': []}\n",
      "paoua - nearest hotel: No hotel found\n",
      "{'type': 'FeatureCollection', 'features': [{'type': 'Feature', 'properties': {'name': 'Cocos Village Bungalows', 'country': 'Australia', 'country_code': 'au', 'city': 'West Island', 'municipality': 'Shire of Cocos (Keeling) Islands', 'postcode': '6799', 'district': 'West Island', 'street': 'Clunies Ross Avenue', 'lon': 96.8297169, 'lat': -12.1889548, 'formatted': 'Cocos Village Bungalows, Clunies Ross Avenue, West Island 6799, Australia', 'address_line1': 'Cocos Village Bungalows', 'address_line2': 'Clunies Ross Avenue, West Island 6799, Australia', 'categories': ['accommodation', 'accommodation.hotel'], 'details': ['details.accommodation'], 'datasource': {'sourcename': 'openstreetmap', 'attribution': '© OpenStreetMap contributors', 'license': 'Open Database License', 'url': 'https://www.openstreetmap.org/copyright', 'raw': {'name': 'Cocos Village Bungalows', 'rooms': 10, 'osm_id': 6514668935, 'tourism': 'hotel', 'osm_type': 'n', 'addr:state': 'WA', 'addr:street': 'Clunies Ross Avenue', 'addr:postcode': 6799}}, 'accommodation': {'rooms': 10}, 'distance': 3643, 'place_id': '51109ce9141a35584059e5f8fdaebe6028c0f00103f90187f54d8401000000920317436f636f732056696c6c6167652042756e67616c6f7773'}, 'geometry': {'type': 'Point', 'coordinates': [96.8297169, -12.188954800131294]}}]}\n",
      "west island - nearest hotel: Cocos Village Bungalows\n",
      "{'type': 'FeatureCollection', 'features': [{'type': 'Feature', 'properties': {'name': 'Hotel Marlin', 'country': 'Australia', 'country_code': 'au', 'state': 'New South Wales', 'city': 'Ulladulla', 'municipality': 'Shoalhaven City Council', 'postcode': '2539', 'street': 'Princes Highway', 'lon': 150.47446129088587, 'lat': -35.358737000000005, 'state_code': 'NSW', 'formatted': 'Hotel Marlin, Princes Highway, Ulladulla NSW 2539, Australia', 'address_line1': 'Hotel Marlin', 'address_line2': 'Princes Highway, Ulladulla NSW 2539, Australia', 'categories': ['accommodation', 'accommodation.hotel', 'building', 'building.accommodation'], 'details': [], 'datasource': {'sourcename': 'openstreetmap', 'attribution': '© OpenStreetMap contributors', 'license': 'Open Database License', 'url': 'https://www.openstreetmap.org/copyright', 'raw': {'name': 'Hotel Marlin', 'osm_id': 280043452, 'tourism': 'hotel', 'building': 'yes', 'osm_type': 'w'}}, 'distance': 1177, 'place_id': '51acb0fd582fcf624059be271c02ecad41c0f00102f901bc1fb1100000000092030c486f74656c204d61726c696e'}, 'geometry': {'type': 'Point', 'coordinates': [150.4745297388921, -35.358764899966886]}}]}\n",
      "ulladulla - nearest hotel: Hotel Marlin\n",
      "{'type': 'FeatureCollection', 'features': [{'type': 'Feature', 'properties': {'name': 'Victoria Hotel', 'country': 'South Africa', 'country_code': 'za', 'state': 'Western Cape', 'county': 'Overberg District Municipality', 'city': 'Cape Agulhas Local Municipality', 'town': 'Bredasdorp', 'postcode': '7280', 'suburb': 'Cape Agulhas Ward 4', 'street': 'Church Street', 'housenumber': '10', 'lon': 20.0395361, 'lat': -34.5339684, 'state_code': 'WC', 'formatted': 'Victoria Hotel, 10 Church Street, Cape Agulhas Ward 4, Cape Agulhas Local Municipality, 7280, South Africa', 'address_line1': 'Victoria Hotel', 'address_line2': '10 Church Street, Cape Agulhas Ward 4, Cape Agulhas Local Municipality, 7280, South Africa', 'categories': ['accommodation', 'accommodation.hotel'], 'details': ['details', 'details.contact'], 'datasource': {'sourcename': 'openstreetmap', 'attribution': '© OpenStreetMap contributors', 'license': 'Open Database License', 'url': 'https://www.openstreetmap.org/copyright', 'raw': {'name': 'Victoria Hotel', 'email': 'victoriahotelbdorp@telkomsa.net', 'phone': '+27 28 4241159', 'osm_id': 1483524735, 'tourism': 'hotel', 'website': 'http://www.victoriahotelbdorp.co.za/', 'osm_type': 'n', 'addr:street': 'Church Street', 'addr:postcode': 7280, 'addr:housenumber': 10}}, 'website': 'http://www.victoriahotelbdorp.co.za/', 'contact': {'phone': '+27 28 4241159', 'email': 'victoriahotelbdorp@telkomsa.net'}, 'distance': 208, 'place_id': '51e982b0091f0a344059691a9713594441c0f00103f9017fca6c580000000092030e566963746f72696120486f74656c'}, 'geometry': {'type': 'Point', 'coordinates': [20.039536099999996, -34.53396839979252]}}]}\n",
      "bredasdorp - nearest hotel: Victoria Hotel\n",
      "{'type': 'FeatureCollection', 'features': [{'type': 'Feature', 'properties': {'name': 'Hotel Dali', 'country': 'Romania', 'country_code': 'ro', 'county': 'Constanța', 'city': 'Constanța', 'municipality': 'Constanta Metropolitan Area', 'postcode': '900657', 'suburb': 'Zona Centrală', 'street': 'Strada Smârdan', 'lon': 28.65235171617647, 'lat': 44.182495, 'formatted': 'Hotel Dali, Strada Smârdan, 900657 Constanța, Romania', 'address_line1': 'Hotel Dali', 'address_line2': 'Strada Smârdan, 900657 Constanța, Romania', 'categories': ['accommodation', 'accommodation.hotel', 'building', 'building.accommodation'], 'details': ['details.building'], 'datasource': {'sourcename': 'openstreetmap', 'attribution': '© OpenStreetMap contributors', 'license': 'Open Database License', 'url': 'https://www.openstreetmap.org/copyright', 'raw': {'name': 'Hotel Dali', 'osm_id': 1257409680, 'tourism': 'hotel', 'building': 'yes', 'osm_type': 'w', 'building:levels': 5}}, 'building': {'levels': 5}, 'distance': 196, 'place_id': '51a577a68500a73c4059687805ff5b174640f00102f901908cf24a0000000092030a486f74656c2044616c69'}, 'geometry': {'type': 'Point', 'coordinates': [28.652351716176458, 44.182495000525535]}}]}\n",
      "constantia - nearest hotel: Hotel Dali\n",
      "{'type': 'FeatureCollection', 'features': [{'type': 'Feature', 'properties': {'name': 'Clarion Hotel & Suites', 'country': 'United States', 'country_code': 'us', 'state': 'Alaska', 'county': 'Fairbanks North Star', 'city': 'Fairbanks', 'postcode': '99701', 'suburb': 'South Fairbanks', 'street': '10th Avenue', 'housenumber': '95', 'lon': -147.70712279421548, 'lat': 64.83932615, 'state_code': 'AK', 'formatted': 'Clarion Hotel & Suites, 95 10th Avenue, Fairbanks, AK 99701, United States of America', 'address_line1': 'Clarion Hotel & Suites', 'address_line2': '95 10th Avenue, Fairbanks, AK 99701, United States of America', 'categories': ['accommodation', 'accommodation.hotel', 'building', 'building.accommodation'], 'details': ['details'], 'datasource': {'sourcename': 'openstreetmap', 'attribution': '© OpenStreetMap contributors', 'license': 'Open Database License', 'url': 'https://www.openstreetmap.org/copyright', 'raw': {'name': 'Clarion Hotel & Suites', 'brand': 'Clarion', 'osm_id': 1227707003, 'tourism': 'hotel', 'building': 'yes', 'osm_type': 'w', 'addr:city': 'Fairbanks', 'addr:state': 'AK', 'addr:street': '10th Avenue', 'addr:postcode': 99701, 'brand:wikidata': 'Q10454567', 'addr:housenumber': 95}}, 'brand': 'Clarion', 'brand_details': {'wikidata': 'Q10454567'}, 'distance': 9303, 'place_id': '512c6dfbbfa07662c059f8470685b7355040f00102f9017b522d4900000000920316436c6172696f6e20486f74656c202620537569746573'}, 'geometry': {'type': 'Point', 'coordinates': [-147.70712279421548, 64.83932614911453]}}]}\n",
      "badger - nearest hotel: Clarion Hotel & Suites\n",
      "{'type': 'FeatureCollection', 'features': [{'type': 'Feature', 'properties': {'name': 'Complexe Belova', 'country': 'France', 'country_code': 'fr', 'state': 'French Guiana', 'city': 'Remire-Montjoly', 'municipality': 'Cayenne', 'postcode': '97354', 'district': 'Résidence du Clos Samana', 'street': 'Route de Rémire', 'housenumber': '1074', 'lon': -52.273825, 'lat': 4.895963, 'formatted': 'Complexe Belova, 1074 Route de Rémire, 97354 Remire-Montjoly, France', 'address_line1': 'Complexe Belova', 'address_line2': '1074 Route de Rémire, 97354 Remire-Montjoly, France', 'categories': ['accommodation', 'accommodation.hotel'], 'details': ['details', 'details.contact'], 'datasource': {'sourcename': 'openstreetmap', 'attribution': '© OpenStreetMap contributors', 'license': 'Open Database License', 'url': 'https://www.openstreetmap.org/copyright', 'raw': {'name': 'Complexe Belova', 'osm_id': 5181581360, 'tourism': 'hotel', 'alt_name': 'Cric-Crac', 'osm_type': 'n', 'addr:street': 'Route de Rémire', 'contact:phone': '+594 594 35 41 00', 'addr:housenumber': 1074}}, 'name_other': {'alt_name': 'Cric-Crac'}, 'contact': {'phone': '+594 594 35 41 00'}, 'distance': 2425, 'place_id': '51e1e995b20c234ac0594b5c155377951340f00103f90130a8d8340100000092030f436f6d706c6578652042656c6f7661'}, 'geometry': {'type': 'Point', 'coordinates': [-52.273824999999995, 4.895962999514334]}}]}\n",
      "remire-montjoly - nearest hotel: Complexe Belova\n",
      "{'type': 'FeatureCollection', 'features': [{'type': 'Feature', 'properties': {'name': 'Keravel', 'country': 'France', 'country_code': 'fr', 'state': 'French Southern and Antarctic Lands', 'city': 'Port-aux-Français', 'municipality': 'Kerguelen Archipelago', 'street': 'Chemin de Keravel', 'lon': 70.21991619089022, 'lat': -49.34887615, 'formatted': 'Chemin de Keravel, Port-aux-Français, France', 'address_line1': 'Chemin de Keravel', 'address_line2': 'Port-aux-Français, France', 'categories': ['accommodation', 'accommodation.hotel', 'building', 'building.accommodation'], 'details': [], 'datasource': {'sourcename': 'openstreetmap', 'attribution': '© OpenStreetMap contributors', 'license': 'Open Database License', 'url': 'https://www.openstreetmap.org/copyright', 'raw': {'name': 'Keravel', 'osm_id': 187212461, 'tourism': 'hotel', 'building': 'yes', 'osm_type': 'w', 'addr:city': 'Port-aux-Français', 'addr:street': 'Chemin de Keravel', 'addr:district': 'Îles Kerguelen', 'addr:territoire': 'TAAF'}}, 'distance': 243, 'place_id': '5100ef5b1b138e51405966c640f9a7ac48c0f00102f901ada2280b000000009203074b65726176656c'}, 'geometry': {'type': 'Point', 'coordinates': [70.21991619089022, -49.34887614882318]}}]}\n",
      "port-aux-francais - nearest hotel: Keravel\n",
      "{'type': 'FeatureCollection', 'features': [{'type': 'Feature', 'properties': {'name': 'Frobisher Inn', 'country': 'Canada', 'country_code': 'ca', 'state': 'Nunavut', 'county': 'ᐃᖃᓗᐃᑦ', 'city': 'Ikaluit', 'postcode': 'X0A 0H0', 'district': 'Iqaluit', 'street': 'Astro Hill', 'lon': -68.5110822, 'lat': 63.7476175, 'state_code': 'NU', 'formatted': 'Frobisher Inn, Astro Hill, Ikaluit, NU X0A 0H0, Canada', 'address_line1': 'Frobisher Inn', 'address_line2': 'Astro Hill, Ikaluit, NU X0A 0H0, Canada', 'categories': ['accommodation', 'accommodation.hotel'], 'details': ['details', 'details.contact'], 'datasource': {'sourcename': 'openstreetmap', 'attribution': '© OpenStreetMap contributors', 'license': 'Open Database License', 'url': 'https://www.openstreetmap.org/copyright', 'raw': {'name': 'Frobisher Inn', 'phone': '+1-877-422-9422', 'osm_id': 4057267216, 'tourism': 'hotel', 'website': 'https://www.frobisherinn.com/', 'osm_type': 'n', 'addr:city': 'Iqaluit', 'addr:postcode': 'X0A 0H0'}}, 'website': 'https://www.frobisherinn.com/', 'contact': {'phone': '+1-877-422-9422'}, 'distance': 373, 'place_id': '5156a41d92b52051c05905ee24eeb1df4f40f00103f90110fcd4f10000000092030d46726f62697368657220496e6e'}, 'geometry': {'type': 'Point', 'coordinates': [-68.5110822, 63.7476175003358]}}]}\n",
      "iqaluit - nearest hotel: Frobisher Inn\n",
      "{'type': 'FeatureCollection', 'features': [{'type': 'Feature', 'properties': {'name': 'Aspen Suites Hotel', 'country': 'United States', 'country_code': 'us', 'state': 'Alaska', 'county': 'Sitka', 'city': 'Sitka', 'postcode': '99835', 'street': 'Lake Street', 'housenumber': '210', 'lon': -135.33358280613317, 'lat': 57.0521849, 'state_code': 'AK', 'formatted': 'Aspen Suites Hotel, 210 Lake Street, Sitka, AK 99835, United States of America', 'address_line1': 'Aspen Suites Hotel', 'address_line2': '210 Lake Street, Sitka, AK 99835, United States of America', 'categories': ['accommodation', 'accommodation.hotel', 'building', 'building.accommodation'], 'details': ['details', 'details.building'], 'datasource': {'sourcename': 'openstreetmap', 'attribution': '© OpenStreetMap contributors', 'license': 'Open Database License', 'url': 'https://www.openstreetmap.org/copyright', 'raw': {'ele': 10, 'name': 'Aspen Suites Hotel', 'height': 14.9, 'osm_id': 507432199, 'tourism': 'hotel', 'building': 'hotel', 'osm_type': 'w', 'addr:city': 'Sitka', 'addr:state': 'AK', 'addr:street': 'Lake Street', 'addr:postcode': 99835, 'building:levels': 4, 'addr:housenumber': 210}}, 'ele': 10, 'building': {'levels': 4, 'type': 'hotel', 'height': 14.9}, 'distance': 225, 'place_id': '51325bd9b5acea60c0599408acfead864c40f00102f90107cd3e1e00000000920312417370656e2053756974657320486f74656c'}, 'geometry': {'type': 'Point', 'coordinates': [-135.33358280613317, 57.052184900284516]}}]}\n",
      "sitka - nearest hotel: Aspen Suites Hotel\n"
     ]
    },
    {
     "name": "stderr",
     "output_type": "stream",
     "text": [
      "ERROR:root:Error message:\n",
      "Traceback (most recent call last):\n",
      "  File \"C:\\Users\\Moburu\\AppData\\Local\\Temp\\ipykernel_26060\\1195407018.py\", line 36, in <module>\n",
      "    hotel_df.loc[index, \"Hotel Name\"] = name_address[\"features\"][0][\"properties\"][\"name\"]\n",
      "                                        ~~~~~~~~~~~~~~~~~~~~~~~~^^^\n",
      "IndexError: list index out of range\n"
     ]
    },
    {
     "name": "stdout",
     "output_type": "stream",
     "text": [
      "{'type': 'FeatureCollection', 'features': []}\n",
      "atafu village - nearest hotel: No hotel found\n",
      "{'type': 'FeatureCollection', 'features': [{'type': 'Feature', 'properties': {'name': '如家酒店', 'country': 'China', 'country_code': 'cn', 'region': 'Linxia', 'state': 'Gansu', 'county': 'Linxia', 'city': 'Maojiayuan', 'suburb': 'Chengbei Subdistrict', 'street': 'Tuanjie Road', 'lon': 103.2097043, 'lat': 35.6016859, 'formatted': 'HomeInns Hotel, Tuanjie Road, Chengbei Subdistrict, Linxia, Gansu, China', 'address_line1': 'HomeInns Hotel', 'address_line2': 'Tuanjie Road, Chengbei Subdistrict, Linxia, Gansu, China', 'categories': ['accommodation', 'accommodation.hotel'], 'details': ['details'], 'datasource': {'sourcename': 'openstreetmap', 'attribution': '© OpenStreetMap contributors', 'license': 'Open Database License', 'url': 'https://www.openstreetmap.org/copyright', 'raw': {'name': '如家酒店', 'branch': '（中心广场店）', 'osm_id': 8920873117, 'name:en': 'HomeInns Hotel', 'tourism': 'hotel', 'osm_type': 'n', 'brand:wikidata': 'Q4980954'}}, 'brand_details': {'wikidata': 'Q4980954'}, 'branch': '（中心广场店）', 'name_international': {'en': 'HomeInns Hotel'}, 'distance': 337, 'place_id': '51289595cb6bcd59405994d5260b04cd4140f00103f9019db8b9130200000092030ce5a682e5aeb6e98592e5ba97'}, 'geometry': {'type': 'Point', 'coordinates': [103.2097043, 35.60168589969831]}}]}\n",
      "linxia chengguanzhen - nearest hotel: 如家酒店\n"
     ]
    },
    {
     "name": "stderr",
     "output_type": "stream",
     "text": [
      "ERROR:root:Error message:\n",
      "Traceback (most recent call last):\n",
      "  File \"C:\\Users\\Moburu\\AppData\\Local\\Temp\\ipykernel_26060\\1195407018.py\", line 36, in <module>\n",
      "    hotel_df.loc[index, \"Hotel Name\"] = name_address[\"features\"][0][\"properties\"][\"name\"]\n",
      "                                        ~~~~~~~~~~~~~~~~~~~~~~~~~~~~~~~~~~~~~~~~~^^^^^^^^\n",
      "KeyError: 'name'\n"
     ]
    },
    {
     "name": "stdout",
     "output_type": "stream",
     "text": [
      "{'type': 'FeatureCollection', 'features': [{'type': 'Feature', 'properties': {'country': 'Russia', 'country_code': 'ru', 'region': 'Far Eastern Federal District', 'state': 'Sakha Republic', 'county': 'Gorny Ulus', 'city': 'Berdigestyakh', 'municipality': 'Бердигестяхский наслег', 'street': 'улица Фёдорова', 'lon': 126.704392, 'lat': 62.0952219, 'formatted': 'улица Фёдорова, Berdigestyakh, Sakha Republic, Russia', 'address_line1': 'улица Фёдорова', 'address_line2': 'Berdigestyakh, Sakha Republic, Russia', 'categories': ['accommodation', 'accommodation.hotel'], 'details': [], 'datasource': {'sourcename': 'openstreetmap', 'attribution': '© OpenStreetMap contributors', 'license': 'Open Database License', 'url': 'https://www.openstreetmap.org/copyright', 'raw': {'osm_id': 895554851, 'tourism': 'hotel', 'osm_type': 'n'}}, 'distance': 491, 'place_id': '5117e42ec214ad5f4059cd71343b300c4f40f00103f9012315613500000000'}, 'geometry': {'type': 'Point', 'coordinates': [126.70439199999997, 62.09522190151947]}}]}\n",
      "berdigestyakh - nearest hotel: No hotel found\n",
      "{'type': 'FeatureCollection', 'features': [{'type': 'Feature', 'properties': {'name': 'Kauai Palms', 'country': 'United States', 'country_code': 'us', 'state': 'Hawaii', 'county': 'Kauaʻi County', 'city': 'Lihue', 'postcode': '96766', 'district': 'Pua Loke', 'street': 'Kalena Street', 'lon': -159.36573837827916, 'lat': 21.9713232, 'state_code': 'HI', 'formatted': 'Kauai Palms, Kalena Street, Lihue, HI 96766, United States of America', 'address_line1': 'Kauai Palms', 'address_line2': 'Kalena Street, Lihue, HI 96766, United States of America', 'categories': ['accommodation', 'accommodation.hotel'], 'details': [], 'datasource': {'sourcename': 'openstreetmap', 'attribution': '© OpenStreetMap contributors', 'license': 'Open Database License', 'url': 'https://www.openstreetmap.org/copyright', 'raw': {'name': 'Kauai Palms', 'osm_id': 675025215, 'tourism': 'hotel', 'osm_type': 'w'}}, 'distance': 839, 'place_id': '513cb3f820b4eb63c059de9923a3a8f83540f00102f9013f113c280000000092030b4b617561692050616c6d73'}, 'geometry': {'type': 'Point', 'coordinates': [-159.36573837827916, 21.971323200408612]}}]}\n",
      "lihue - nearest hotel: Kauai Palms\n",
      "{'type': 'FeatureCollection', 'features': [{'type': 'Feature', 'properties': {'name': 'Pacifik Appartels', 'country': 'France', 'country_code': 'fr', 'county': 'North Province', 'city': 'Koné', 'postcode': '98859', 'street': 'Rue Auguste Henriot', 'housenumber': '213', 'lon': 164.8625102423532, 'lat': -21.0620125, 'formatted': 'Pacifik Appartels, 213 Rue Auguste Henriot, 98859 Koné, France', 'address_line1': 'Pacifik Appartels', 'address_line2': '213 Rue Auguste Henriot, 98859 Koné, France', 'categories': ['accommodation', 'accommodation.hotel', 'building', 'building.accommodation', 'internet_access'], 'details': ['details', 'details.accommodation', 'details.contact', 'details.facilities'], 'datasource': {'sourcename': 'openstreetmap', 'attribution': '© OpenStreetMap contributors', 'license': 'Open Database License', 'url': 'https://www.openstreetmap.org/copyright', 'raw': {'name': 'Pacifik Appartels', 'email': 'resa@pacifikappartels.nc', 'phone': '+687 46 00 46', 'rooms': 'Appartement 2 Ch et 1CH', 'osm_id': 668388751, 'tourism': 'hotel', 'website': 'https://www.pacifikappartels.nc/fr/index.html', 'building': 'yes', 'osm_type': 'w', 'addr:city': 'Koné', 'addr:street': 'Rue Auguste Henriot', 'addr:postcode': 98859, 'internet_access': 'wlan', 'addr:housenumber': 213}}, 'website': 'https://www.pacifikappartels.nc/fr/index.html', 'contact': {'phone': '+687 46 00 46', 'email': 'resa@pacifikappartels.nc'}, 'facilities': {'internet_access': True}, 'accommodation': {'rooms': 'Appartement 2 Ch et 1CH'}, 'distance': 411, 'place_id': '51e86b14af999b64405998bb1c0de00f35c0f00102f9018fcdd627000000009203115061636966696b20417070617274656c73'}, 'geometry': {'type': 'Point', 'coordinates': [164.8625102423532, -21.062012500300256]}}]}\n",
      "kone - nearest hotel: Pacifik Appartels\n",
      "{'type': 'FeatureCollection', 'features': [{'type': 'Feature', 'properties': {'name': 'La Quinta Inn & Suites Buena Park', 'ref': 52807, 'country': 'United States', 'country_code': 'us', 'state': 'California', 'county': 'Orange County', 'city': 'La Palma', 'postcode': '90623', 'street': 'Centerpointe Drive', 'housenumber': '3', 'lon': -118.03156330175648, 'lat': 33.86042945, 'state_code': 'CA', 'formatted': 'La Quinta Inn & Suites Buena Park, 3 Centerpointe Drive, La Palma, CA 90623, United States of America', 'address_line1': 'La Quinta Inn & Suites Buena Park', 'address_line2': '3 Centerpointe Drive, La Palma, CA 90623, United States of America', 'categories': ['accommodation', 'accommodation.hotel', 'building', 'building.accommodation'], 'details': ['details', 'details.contact'], 'datasource': {'sourcename': 'openstreetmap', 'attribution': '© OpenStreetMap contributors', 'license': 'Open Database License', 'url': 'https://www.openstreetmap.org/copyright', 'raw': {'ref': 52807, 'name': 'La Quinta Inn & Suites Buena Park', 'brand': 'La Quinta Inn & Suites', 'phone': '+1 714-670-1400', 'branch': 'Buena Park', 'osm_id': 932788748, 'tourism': 'hotel', 'website': 'https://www.wyndhamhotels.com/laquinta/la-palma-california/la-quinta-buena-park/overview', 'building': 'hotel', 'osm_type': 'w', 'addr:city': 'La Palma', 'addr:state': 'CA', 'addr:street': 'Centerpointe Drive', 'addr:postcode': 90623, 'brand:wikidata': 'Q6464734', 'addr:housenumber': 3}}, 'website': 'https://www.wyndhamhotels.com/laquinta/la-palma-california/la-quinta-buena-park/overview', 'brand': 'La Quinta Inn & Suites', 'brand_details': {'wikidata': 'Q6464734'}, 'branch': 'Buena Park', 'contact': {'phone': '+1 714-670-1400'}, 'building': {'type': 'hotel'}, 'distance': 2060, 'place_id': '511033152205825dc059ba445d8d22ee4040f00102f9010c3a9937000000009203214c61205175696e746120496e6e202620537569746573204275656e61205061726b'}, 'geometry': {'type': 'Point', 'coordinates': [-118.03156330175648, 33.86042944959759]}}]}\n",
      "la palma - nearest hotel: La Quinta Inn & Suites Buena Park\n",
      "{'type': 'FeatureCollection', 'features': [{'type': 'Feature', 'properties': {'name': \"L'Estuaire\", 'country': 'France', 'country_code': 'fr', 'region': 'Metropolitan France', 'state': 'Nouvelle-Aquitaine', 'county': 'Charente-Maritime', 'city': 'Talmont-sur-Gironde', 'hamlet': 'Le Caillaud', 'municipality': 'Saintes', 'postcode': '17120', 'street': \"Avenue de l'Estuaire\", 'lon': -0.9023612472091644, 'lat': 45.53497625, 'state_code': 'NAQ', 'state_COG': '75', 'formatted': \"L'Estuaire, Avenue de l'Estuaire, 17120 Talmont-sur-Gironde, France\", 'address_line1': \"L'Estuaire\", 'address_line2': \"Avenue de l'Estuaire, 17120 Talmont-sur-Gironde, France\", 'categories': ['accommodation', 'accommodation.hotel', 'building', 'building.accommodation', 'building.catering', 'catering', 'catering.restaurant'], 'details': [], 'datasource': {'sourcename': 'openstreetmap', 'attribution': '© OpenStreetMap contributors', 'license': 'Open Database License', 'url': 'https://www.openstreetmap.org/copyright', 'raw': {'name': \"L'Estuaire\", 'osm_id': 78132511, 'amenity': 'restaurant', 'tourism': 'hotel', 'building': 'yes', 'osm_type': 'w'}}, 'distance': 2254, 'place_id': '51bb1dbeb124e0ecbf5904d20d1a7ac44640f00102f9011f35a8040000000092030a4c274573747561697265'}, 'geometry': {'type': 'Point', 'coordinates': [-0.9023612472091637, 45.53497625040839]}}]}\n",
      "la passe - nearest hotel: L'Estuaire\n",
      "{'type': 'FeatureCollection', 'features': [{'type': 'Feature', 'properties': {'name': 'Hotel Sea Pearl', 'country': 'India', 'country_code': 'in', 'state': 'Odisha', 'state_district': 'Jagatsinghapur District', 'county': 'Paradeep Lock', 'city': 'Paradip', 'postcode': '754142', 'street': 'Paradip Port Expressway', 'lon': 86.6241252, 'lat': 20.308814, 'state_code': 'OR', 'formatted': 'Hotel Sea Pearl, Paradip Port Expressway, Paradip - 754142, Odisha, India', 'address_line1': 'Hotel Sea Pearl', 'address_line2': 'Paradip Port Expressway, Paradip - 754142, Odisha, India', 'categories': ['accommodation', 'accommodation.hotel'], 'details': [], 'datasource': {'sourcename': 'openstreetmap', 'attribution': '© OpenStreetMap contributors', 'license': 'Open Database License', 'url': 'https://www.openstreetmap.org/copyright', 'raw': {'name': 'Hotel Sea Pearl', 'osm_id': 4700551493, 'tourism': 'hotel', 'osm_type': 'n'}}, 'distance': 1168, 'place_id': '5101a7d2aaf1a75540598333306f0e4f3440f00103f90145b92c180100000092030f486f74656c2053656120506561726c'}, 'geometry': {'type': 'Point', 'coordinates': [86.6241252, 20.308814000385166]}}]}\n",
      "paradip garh - nearest hotel: Hotel Sea Pearl\n",
      "{'type': 'FeatureCollection', 'features': [{'type': 'Feature', 'properties': {'name': 'Ramada', 'country': 'Australia', 'country_code': 'au', 'state': 'Queensland', 'city': 'Hervey Bay', 'municipality': 'Fraser Coast Regional', 'postcode': '4655', 'district': 'Urangan', 'suburb': 'Urangan', 'street': 'Charlton Street', 'housenumber': '627', 'lon': 152.9064193, 'lat': -25.2943058, 'state_code': 'QLD', 'formatted': 'Ramada, 627 Charlton Street, Urangan QLD 4655, Australia', 'address_line1': 'Ramada', 'address_line2': '627 Charlton Street, Urangan QLD 4655, Australia', 'categories': ['accommodation', 'accommodation.hotel'], 'details': ['details', 'details.contact'], 'datasource': {'sourcename': 'openstreetmap', 'attribution': '© OpenStreetMap contributors', 'license': 'Open Database License', 'url': 'https://www.openstreetmap.org/copyright', 'raw': {'name': 'Ramada', 'brand': 'Ramada', 'email': 'stay@ramadaherveybay.com.au', 'osm_id': 5369137048, 'tourism': 'hotel', 'website': 'https://ramadaherveybay.com.au/', 'osm_type': 'n', 'phone:AU': '1300 886 202', 'addr:city': 'Urangan', 'addr:street': 'Charlton Street', 'addr:postcode': 4655, 'addr:province': 'Queensland', 'brand:wikidata': 'Q1502859', 'brand:wikipedia': 'en:Ramada', 'addr:housenumber': 627}}, 'website': 'https://ramadaherveybay.com.au/', 'brand': 'Ramada', 'brand_details': {'wikidata': 'Q1502859', 'wikipedia': 'en:Ramada'}, 'contact': {'phone_international': {'au': '1300 886 202'}, 'email': 'stay@ramadaherveybay.com.au'}, 'distance': 903, 'place_id': '51d23e0c63011d6340598be4f89f574b39c0f00103f901988706400100000092030652616d616461'}, 'geometry': {'type': 'Point', 'coordinates': [152.90641929999998, -25.294305799736815]}}]}\n",
      "urangan - nearest hotel: Ramada\n",
      "{'type': 'FeatureCollection', 'features': [{'type': 'Feature', 'properties': {'name': 'Гостиница Дружба', 'country': 'Russia', 'country_code': 'ru', 'region': 'Volga Federal District', 'state': 'Republic of Mordovia', 'county': 'Atyashevsky District', 'city': 'Атяшевское городское поселение', 'district': '1-й микрорайон', 'housenumber': '10', 'lon': 46.0818533, 'lat': 54.5911475, 'formatted': 'Гостиница Дружба, 10, Атяшевское городское поселение, Atyashevsky District, Russia', 'address_line1': 'Гостиница Дружба', 'address_line2': '10, Атяшевское городское поселение, Atyashevsky District, Russia', 'categories': ['accommodation', 'accommodation.hotel'], 'details': ['details', 'details.contact'], 'datasource': {'sourcename': 'openstreetmap', 'attribution': '© OpenStreetMap contributors', 'license': 'Open Database License', 'url': 'https://www.openstreetmap.org/copyright', 'raw': {'name': 'Гостиница Дружба', 'phone': '+7 (83434) 2-13-05', 'osm_id': 2928863853, 'tourism': 'hotel', 'osm_type': 'n', 'description': '5 номеров, 8 мест'}}, 'description': '5 номеров, 8 мест', 'contact': {'phone': '+7 (83434) 2-13-05'}, 'distance': 3090, 'place_id': '51eb483f2b7a0a474059a551a4b8aa4b4b40f00103f9016dea92ae0000000092031fd093d0bed181d182d0b8d0bdd0b8d186d0b020d094d180d183d0b6d0b1d0b0'}, 'geometry': {'type': 'Point', 'coordinates': [46.0818533, 54.59114749930749]}}]}\n",
      "atyashevo - nearest hotel: Гостиница Дружба\n",
      "{'type': 'FeatureCollection', 'features': [{'type': 'Feature', 'properties': {'name': 'Авантаж', 'country': 'Russia', 'country_code': 'ru', 'region': 'Northwestern Federal District', 'state': 'Nenets Autonomous Okrug', 'county': 'Zapolyarny District', 'city': 'Iskateley', 'postcode': '166000', 'street': 'улица Строителей', 'housenumber': '8', 'lon': 53.13198111290046, 'lat': 67.6746287, 'formatted': 'Авантаж, улица Строителей 8, Iskateley, Nenets Autonomous Okrug, Russia, 166000', 'address_line1': 'Авантаж', 'address_line2': 'улица Строителей 8, Iskateley, Nenets Autonomous Okrug, Russia, 166000', 'categories': ['accommodation', 'accommodation.hotel', 'building', 'building.accommodation'], 'details': ['details.building'], 'datasource': {'sourcename': 'openstreetmap', 'attribution': '© OpenStreetMap contributors', 'license': 'Open Database License', 'url': 'https://www.openstreetmap.org/copyright', 'raw': {'name': 'Авантаж', 'osm_id': 86292218, 'tourism': 'hotel', 'building': 'yes', 'osm_type': 'w', 'addr:city': 'Искателей', 'addr:street': 'улица Строителей', 'addr:postcode': 166000, 'building:levels': 1, 'addr:housenumber': 8}}, 'building': {'levels': 1}, 'distance': 1023, 'place_id': '516dccd1c1e4904a4059b055d71d2deb5040f00102f901fab624050000000092030ed090d0b2d0b0d0bdd182d0b0d0b6'}, 'geometry': {'type': 'Point', 'coordinates': [53.13198111290044, 67.67462869671613]}}]}\n",
      "iskateley - nearest hotel: Авантаж\n",
      "{'type': 'FeatureCollection', 'features': [{'type': 'Feature', 'properties': {'name': 'Beach Spa Bed & Breakfast', 'country': 'United States', 'country_code': 'us', 'state': 'Virginia', 'city': 'Virginia Beach', 'postcode': '23451', 'street': 'Arctic Avenue', 'housenumber': '2420', 'lon': -75.97994831375686, 'lat': 36.8526476, 'state_code': 'VA', 'formatted': 'Beach Spa Bed & Breakfast, 2420 Arctic Avenue, Virginia Beach, VA 23451, United States of America', 'address_line1': 'Beach Spa Bed & Breakfast', 'address_line2': '2420 Arctic Avenue, Virginia Beach, VA 23451, United States of America', 'categories': ['accommodation', 'accommodation.hotel', 'building', 'building.accommodation', 'internet_access'], 'details': ['details', 'details.accommodation', 'details.building', 'details.facilities'], 'datasource': {'sourcename': 'openstreetmap', 'attribution': '© OpenStreetMap contributors', 'license': 'Open Database License', 'url': 'https://www.openstreetmap.org/copyright', 'raw': {'name': 'Beach Spa Bed & Breakfast', 'rooms': 8, 'osm_id': 402406981, 'smoking': 'outside', 'tourism': 'hotel', 'building': 'yes', 'operator': 'Beach Spa B&B Company', 'osm_type': 'w', 'addr:city': 'Virginia Beach', 'addr:state': 'VA', 'start_date': 2007, 'addr:street': 'Arctic Avenue', 'addr:postcode': 23451, 'internet_access': 'wlan', 'addr:housenumber': 2420}}, 'operator': 'Beach Spa B&B Company', 'facilities': {'internet_access': True, 'smoking': True}, 'accommodation': {'rooms': 8}, 'building': {'start_date': 2007}, 'distance': 153, 'place_id': '51c9d62179b7fe52c05946247a8e236d4240f00102f901453efc170000000092031942656163682053706120426564202620427265616b66617374'}, 'geometry': {'type': 'Point', 'coordinates': [-75.97994831375685, 36.85264759983015]}}]}\n",
      "virginia beach - nearest hotel: Beach Spa Bed & Breakfast\n",
      "{'type': 'FeatureCollection', 'features': [{'type': 'Feature', 'properties': {'name': 'Hostal La Mirada De Solitario George', 'country': 'Ecuador', 'country_code': 'ec', 'state': 'Galápagos', 'county': 'Cantón Santa Cruz', 'city': 'Puerto Ayora', 'municipality': 'Parroquia Bella Vista', 'postcode': '200102', 'district': 'Pampas Coloradas', 'street': 'Petrel', 'lon': -90.3178804, 'lat': -0.7396457, 'state_code': 'W', 'formatted': 'Hostal Mirada Del Solitario George Hostel, Petrel, 200102, Puerto Ayora, Ecuador', 'address_line1': 'Hostal Mirada Del Solitario George Hostel', 'address_line2': 'Petrel, 200102, Puerto Ayora, Ecuador', 'categories': ['accommodation', 'accommodation.hotel', 'internet_access', 'internet_access.free'], 'details': ['details', 'details.facilities'], 'datasource': {'sourcename': 'openstreetmap', 'attribution': '© OpenStreetMap contributors', 'license': 'Open Database License', 'url': 'https://www.openstreetmap.org/copyright', 'raw': {'name': 'Hostal La Mirada De Solitario George', 'osm_id': 5251338021, 'name:en': 'Hostal Mirada Del Solitario George Hostel', 'name:zh': '米拉达索力塔乔治旅社', 'tourism': 'hotel', 'osm_type': 'n', 'addr:street': 'Calle Petrel', 'internet_access': 'wlan', 'internet_access:fee': 'no'}}, 'name_international': {'en': 'Hostal Mirada Del Solitario George Hostel', 'zh': '米拉达索力塔乔治旅社'}, 'facilities': {'internet_access': True}, 'distance': 3776, 'place_id': '5186820827589456c059cafd79752dabe7bff00103f901250f013901000000920324486f7374616c204c61204d697261646120446520536f6c69746172696f2047656f726765'}, 'geometry': {'type': 'Point', 'coordinates': [-90.3178804, -0.7396456999267056]}}]}\n",
      "puerto ayora - nearest hotel: Hostal La Mirada De Solitario George\n"
     ]
    },
    {
     "name": "stderr",
     "output_type": "stream",
     "text": [
      "ERROR:root:Error message:\n",
      "Traceback (most recent call last):\n",
      "  File \"C:\\Users\\Moburu\\AppData\\Local\\Temp\\ipykernel_26060\\1195407018.py\", line 36, in <module>\n",
      "    hotel_df.loc[index, \"Hotel Name\"] = name_address[\"features\"][0][\"properties\"][\"name\"]\n",
      "                                        ~~~~~~~~~~~~~~~~~~~~~~~~^^^\n",
      "IndexError: list index out of range\n"
     ]
    },
    {
     "name": "stdout",
     "output_type": "stream",
     "text": [
      "{'type': 'FeatureCollection', 'features': []}\n",
      "san luis de la loma - nearest hotel: No hotel found\n"
     ]
    },
    {
     "name": "stderr",
     "output_type": "stream",
     "text": [
      "ERROR:root:Error message:\n",
      "Traceback (most recent call last):\n",
      "  File \"C:\\Users\\Moburu\\AppData\\Local\\Temp\\ipykernel_26060\\1195407018.py\", line 36, in <module>\n",
      "    hotel_df.loc[index, \"Hotel Name\"] = name_address[\"features\"][0][\"properties\"][\"name\"]\n",
      "                                        ~~~~~~~~~~~~~~~~~~~~~~~~^^^\n",
      "IndexError: list index out of range\n"
     ]
    },
    {
     "name": "stdout",
     "output_type": "stream",
     "text": [
      "{'type': 'FeatureCollection', 'features': []}\n",
      "utrik - nearest hotel: No hotel found\n"
     ]
    },
    {
     "name": "stderr",
     "output_type": "stream",
     "text": [
      "ERROR:root:Error message:\n",
      "Traceback (most recent call last):\n",
      "  File \"C:\\Users\\Moburu\\AppData\\Local\\Temp\\ipykernel_26060\\1195407018.py\", line 36, in <module>\n",
      "    hotel_df.loc[index, \"Hotel Name\"] = name_address[\"features\"][0][\"properties\"][\"name\"]\n",
      "                                        ~~~~~~~~~~~~~~~~~~~~~~~~^^^\n",
      "IndexError: list index out of range\n"
     ]
    },
    {
     "name": "stdout",
     "output_type": "stream",
     "text": [
      "{'type': 'FeatureCollection', 'features': []}\n",
      "abiramam - nearest hotel: No hotel found\n"
     ]
    },
    {
     "name": "stderr",
     "output_type": "stream",
     "text": [
      "ERROR:root:Error message:\n",
      "Traceback (most recent call last):\n",
      "  File \"C:\\Users\\Moburu\\AppData\\Local\\Temp\\ipykernel_26060\\1195407018.py\", line 36, in <module>\n",
      "    hotel_df.loc[index, \"Hotel Name\"] = name_address[\"features\"][0][\"properties\"][\"name\"]\n",
      "                                        ~~~~~~~~~~~~~~~~~~~~~~~~^^^\n",
      "IndexError: list index out of range\n"
     ]
    },
    {
     "name": "stdout",
     "output_type": "stream",
     "text": [
      "{'type': 'FeatureCollection', 'features': []}\n",
      "sofifi - nearest hotel: No hotel found\n",
      "{'type': 'FeatureCollection', 'features': [{'type': 'Feature', 'properties': {'name': 'Hotel Corbett Kingdom', 'country': 'India', 'country_code': 'in', 'state': 'Uttarakhand', 'state_district': 'Nainital District', 'county': 'Ramnagar', 'city': 'Rāmnagar', 'postcode': '244715', 'street': 'NH309', 'lon': 79.1282279, 'lat': 29.3906436, 'state_code': 'UT', 'formatted': 'Hotel Corbett Kingdom, NH309, Rāmnagar - 244715, Uttarakhand, India', 'address_line1': 'Hotel Corbett Kingdom', 'address_line2': 'NH309, Rāmnagar - 244715, Uttarakhand, India', 'categories': ['accommodation', 'accommodation.hotel'], 'details': ['details'], 'datasource': {'sourcename': 'openstreetmap', 'attribution': '© OpenStreetMap contributors', 'license': 'Open Database License', 'url': 'https://www.openstreetmap.org/copyright', 'raw': {'name': 'Hotel Corbett Kingdom', 'osm_id': 4800977430, 'name:en': 'Hotel Corbett Kingdom', 'tourism': 'hotel', 'osm_type': 'n'}}, 'name_international': {'en': 'Hotel Corbett Kingdom'}, 'distance': 1526, 'place_id': '51d23bcbe234c85340599d850d3801643d40f00103f901161a291e01000000920315486f74656c20436f7262657474204b696e67646f6d'}, 'geometry': {'type': 'Point', 'coordinates': [79.12822789999998, 29.39064359979749]}}]}\n",
      "ramnagar - nearest hotel: Hotel Corbett Kingdom\n",
      "{'type': 'FeatureCollection', 'features': [{'type': 'Feature', 'properties': {'name': 'Dorotea Patagonia Hostel', 'country': 'Chile', 'country_code': 'cl', 'state': 'Region of Magallanes and Chilean Antarctica', 'county': 'Provincia de Última Esperanza', 'city': 'Puerto Natales', 'postcode': '6160000', 'district': 'Natales Antiguo', 'street': 'Andrés Bello', 'housenumber': '449', 'lon': -72.4890407, 'lat': -51.7266312, 'formatted': 'Dorotea Patagonia Hostel, Andrés Bello 449, 616 0000 Puerto Natales, Chile', 'address_line1': 'Dorotea Patagonia Hostel', 'address_line2': 'Andrés Bello 449, 616 0000 Puerto Natales, Chile', 'categories': ['accommodation', 'accommodation.hotel', 'internet_access'], 'details': ['details', 'details.contact', 'details.facilities'], 'datasource': {'sourcename': 'openstreetmap', 'attribution': '© OpenStreetMap contributors', 'license': 'Open Database License', 'url': 'https://www.openstreetmap.org/copyright', 'raw': {'name': 'Dorotea Patagonia Hostel', 'phone': 52335591, 'osm_id': 4787401822, 'name:fr': 'Dorodtea Patagonia Hostel', 'tourism': 'hotel', 'osm_type': 'n', 'addr:street': 'Andrés Bello', 'addr:postcode': 6160000, 'opening_hours': '24/7', 'internet_access': 'wlan', 'addr:housenumber': 449}}, 'opening_hours': '24/7', 'name_international': {'fr': 'Dorodtea Patagonia Hostel'}, 'contact': {'phone': 52335591}, 'facilities': {'internet_access': True}, 'distance': 354, 'place_id': '516d3a5d714c1f52c0590d87484002dd49c0f00103f9015ef4591d01000000920318446f726f7465612050617461676f6e696120486f7374656c'}, 'geometry': {'type': 'Point', 'coordinates': [-72.48904069999999, -51.72663119832405]}}]}\n",
      "puerto natales - nearest hotel: Dorotea Patagonia Hostel\n",
      "{'type': 'FeatureCollection', 'features': [{'type': 'Feature', 'properties': {'name': 'Вилюй', 'country': 'Russia', 'country_code': 'ru', 'region': 'Far Eastern Federal District', 'state': 'Sakha Republic', 'county': 'Mirninsky Ulus', 'city': 'Udachny', 'municipality': 'городское поселение Удачный', 'postcode': '678188', 'suburb': 'Надёжный', 'street': 'Anabar Road', 'lon': 112.3072698, 'lat': 66.4026128, 'formatted': 'Вилюй, Anabar Road, Надёжный, Udachny, Sakha Republic, Russia, 678188', 'address_line1': 'Вилюй', 'address_line2': 'Anabar Road, Надёжный, Udachny, Sakha Republic, Russia, 678188', 'categories': ['accommodation', 'accommodation.hotel'], 'details': ['details'], 'datasource': {'sourcename': 'openstreetmap', 'attribution': '© OpenStreetMap contributors', 'license': 'Open Database License', 'url': 'https://www.openstreetmap.org/copyright', 'raw': {'name': 'Вилюй', 'osm_id': 4700652393, 'name:ru': 'Вилюй', 'tourism': 'hotel', 'osm_type': 'n'}}, 'name_international': {'ru': 'Вилюй'}, 'distance': 4431, 'place_id': '511a83f34eaa135c405990667768c4995040f00103f90169432e180100000092030ad092d0b8d0bbd18ed0b9'}, 'geometry': {'type': 'Point', 'coordinates': [112.3072698, 66.40261279735773]}}]}\n",
      "udachny - nearest hotel: Вилюй\n"
     ]
    },
    {
     "name": "stderr",
     "output_type": "stream",
     "text": [
      "ERROR:root:Error message:\n",
      "Traceback (most recent call last):\n",
      "  File \"C:\\Users\\Moburu\\AppData\\Local\\Temp\\ipykernel_26060\\1195407018.py\", line 36, in <module>\n",
      "    hotel_df.loc[index, \"Hotel Name\"] = name_address[\"features\"][0][\"properties\"][\"name\"]\n",
      "                                        ~~~~~~~~~~~~~~~~~~~~~~~~^^^\n",
      "IndexError: list index out of range\n"
     ]
    },
    {
     "name": "stdout",
     "output_type": "stream",
     "text": [
      "{'type': 'FeatureCollection', 'features': []}\n",
      "albany - nearest hotel: No hotel found\n",
      "{'type': 'FeatureCollection', 'features': [{'type': 'Feature', 'properties': {'name': 'Lofty Fig Villas', 'country': 'Bahamas', 'country_code': 'bs', 'city': 'Central Abaco', 'town': 'Marsh Harbour', 'street': 'East Bay Street', 'lon': -77.05231128604126, 'lat': 26.5459436, 'formatted': 'Lofty Fig Villas, East Bay Street, Central Abaco, Bahamas', 'address_line1': 'Lofty Fig Villas', 'address_line2': 'East Bay Street, Central Abaco, Bahamas', 'categories': ['accommodation', 'accommodation.hotel'], 'details': [], 'datasource': {'sourcename': 'openstreetmap', 'attribution': '© OpenStreetMap contributors', 'license': 'Open Database License', 'url': 'https://www.openstreetmap.org/copyright', 'raw': {'name': 'Lofty Fig Villas', 'osm_id': 410331125, 'tourism': 'hotel', 'osm_type': 'w', 'addr:street': 'East Bay Street'}}, 'distance': 1214, 'place_id': '5192b06f11594353c059daebb3f5c28b3a40f00102f901f5277518000000009203104c6f667479204669672056696c6c6173'}, 'geometry': {'type': 'Point', 'coordinates': [-77.05231128604126, 26.545943600107286]}}]}\n",
      "marsh harbour - nearest hotel: Lofty Fig Villas\n",
      "{'type': 'FeatureCollection', 'features': [{'type': 'Feature', 'properties': {'name': 'Solpor do Coído', 'country': 'Spain', 'country_code': 'es', 'state': 'Galicia', 'county': 'Fisterra', 'province': 'A Coruña', 'city': 'Muxía', 'postcode': '15215', 'district': 'A Gurita', 'street': 'Rúa Condes de Maceda', 'lon': -9.2171088, 'lat': 43.1034602, 'state_code': 'GA', 'formatted': 'Solpor do Coído, Rúa Condes de Maceda, 15215 Muxía, Spain', 'address_line1': 'Solpor do Coído', 'address_line2': 'Rúa Condes de Maceda, 15215 Muxía, Spain', 'categories': ['accommodation', 'accommodation.hotel'], 'details': [], 'datasource': {'sourcename': 'openstreetmap', 'attribution': '© OpenStreetMap contributors', 'license': 'Open Database License', 'url': 'https://www.openstreetmap.org/copyright', 'raw': {'name': 'Solpor do Coído', 'osm_id': 7782910451, 'tourism': 'hotel', 'osm_type': 'n'}}, 'distance': 96, 'place_id': '51fd5877e2286f22c0593ae0102f3e8d4540f00103f901f3c9e5cf01000000920310536f6c706f7220646f20436fc3ad646f'}, 'geometry': {'type': 'Point', 'coordinates': [-9.2171088, 43.103460200538805]}}]}\n",
      "mugia - nearest hotel: Solpor do Coído\n"
     ]
    },
    {
     "name": "stderr",
     "output_type": "stream",
     "text": [
      "ERROR:root:Error message:\n",
      "Traceback (most recent call last):\n",
      "  File \"C:\\Users\\Moburu\\AppData\\Local\\Temp\\ipykernel_26060\\1195407018.py\", line 36, in <module>\n",
      "    hotel_df.loc[index, \"Hotel Name\"] = name_address[\"features\"][0][\"properties\"][\"name\"]\n",
      "                                        ~~~~~~~~~~~~~~~~~~~~~~~~^^^\n",
      "IndexError: list index out of range\n"
     ]
    },
    {
     "name": "stdout",
     "output_type": "stream",
     "text": [
      "{'type': 'FeatureCollection', 'features': []}\n",
      "bilibino - nearest hotel: No hotel found\n"
     ]
    },
    {
     "name": "stderr",
     "output_type": "stream",
     "text": [
      "ERROR:root:Error message:\n",
      "Traceback (most recent call last):\n",
      "  File \"C:\\Users\\Moburu\\AppData\\Local\\Temp\\ipykernel_26060\\1195407018.py\", line 36, in <module>\n",
      "    hotel_df.loc[index, \"Hotel Name\"] = name_address[\"features\"][0][\"properties\"][\"name\"]\n",
      "                                        ~~~~~~~~~~~~~~~~~~~~~~~~^^^\n",
      "IndexError: list index out of range\n"
     ]
    },
    {
     "name": "stdout",
     "output_type": "stream",
     "text": [
      "{'type': 'FeatureCollection', 'features': []}\n",
      "nagina - nearest hotel: No hotel found\n",
      "{'type': 'FeatureCollection', 'features': [{'type': 'Feature', 'properties': {'name': 'Zhangye Hotel 张掖饭店', 'country': 'China', 'country_code': 'cn', 'region': 'Zhangye', 'state': 'Gansu', 'city': 'Zhangye', 'postcode': '734000', 'district': 'Ganzhou District', 'suburb': 'Nanjie Subdistrict', 'street': '青年街', 'lon': 100.4506205, 'lat': 38.9341971, 'formatted': 'Zhangye Hotel 张掖饭店, 青年街, Nanjie Subdistrict, 734000 Gansu, China', 'address_line1': 'Zhangye Hotel 张掖饭店', 'address_line2': '青年街, Nanjie Subdistrict, 734000 Gansu, China', 'categories': ['accommodation', 'accommodation.hotel'], 'details': [], 'datasource': {'sourcename': 'openstreetmap', 'attribution': '© OpenStreetMap contributors', 'license': 'Open Database License', 'url': 'https://www.openstreetmap.org/copyright', 'raw': {'name': 'Zhangye Hotel 张掖饭店', 'osm_id': 4337230689, 'tourism': 'hotel', 'osm_type': 'n'}}, 'distance': 94, 'place_id': '510f9a5df7d61c594059488244c593774340f00103f90161e384020100000092031a5a68616e67796520486f74656c20e5bca0e68e96e9a5ade5ba97'}, 'geometry': {'type': 'Point', 'coordinates': [100.4506205, 38.934197100116364]}}]}\n",
      "zhangye - nearest hotel: Zhangye Hotel 张掖饭店\n"
     ]
    },
    {
     "name": "stderr",
     "output_type": "stream",
     "text": [
      "ERROR:root:Error message:\n",
      "Traceback (most recent call last):\n",
      "  File \"C:\\Users\\Moburu\\AppData\\Local\\Temp\\ipykernel_26060\\1195407018.py\", line 36, in <module>\n",
      "    hotel_df.loc[index, \"Hotel Name\"] = name_address[\"features\"][0][\"properties\"][\"name\"]\n",
      "                                        ~~~~~~~~~~~~~~~~~~~~~~~~^^^\n",
      "IndexError: list index out of range\n"
     ]
    },
    {
     "name": "stdout",
     "output_type": "stream",
     "text": [
      "{'type': 'FeatureCollection', 'features': []}\n",
      "carnarvon - nearest hotel: No hotel found\n"
     ]
    },
    {
     "name": "stderr",
     "output_type": "stream",
     "text": [
      "ERROR:root:Error message:\n",
      "Traceback (most recent call last):\n",
      "  File \"C:\\Users\\Moburu\\AppData\\Local\\Temp\\ipykernel_26060\\1195407018.py\", line 36, in <module>\n",
      "    hotel_df.loc[index, \"Hotel Name\"] = name_address[\"features\"][0][\"properties\"][\"name\"]\n",
      "                                        ~~~~~~~~~~~~~~~~~~~~~~~~~~~~~~~~~~~~~~~~~^^^^^^^^\n",
      "KeyError: 'name'\n"
     ]
    },
    {
     "name": "stdout",
     "output_type": "stream",
     "text": [
      "{'type': 'FeatureCollection', 'features': [{'type': 'Feature', 'properties': {'country': 'Canada', 'country_code': 'ca', 'state': 'Northwest Territories', 'county': 'North Slave Region', 'city': 'Yellowknife', 'postcode': 'X1A 1K8', 'district': 'Tin Can Hill', 'suburb': 'School Draw', 'street': '45 Street', 'housenumber': '5505', 'lon': -114.35421233984707, 'lat': 62.452729500000004, 'state_code': 'NT', 'formatted': '5505 45 Str eet, Yellowknife, NT X1A 1K8, Canada', 'address_line1': '5505 45 Str eet', 'address_line2': 'Yellowknife, NT X1A 1K8, Canada', 'categories': ['accommodation', 'accommodation.hotel', 'building', 'building.accommodation'], 'details': [], 'datasource': {'sourcename': 'openstreetmap', 'attribution': '© OpenStreetMap contributors', 'license': 'Open Database License', 'url': 'https://www.openstreetmap.org/copyright', 'raw': {'osm_id': 504401915, 'tourism': 'hotel', 'building': 'hotel', 'osm_type': 'w', 'addr:street': '45 Street', 'addr:housenumber': 5505}}, 'building': {'type': 'hotel'}, 'distance': 364, 'place_id': '51e5de3b6aab965cc059cf1c510af3394f40f00102f901fb8f101e00000000'}, 'geometry': {'type': 'Point', 'coordinates': [-114.35421233984705, 62.45272950134824]}}]}\n",
      "yellowknife - nearest hotel: No hotel found\n"
     ]
    },
    {
     "name": "stderr",
     "output_type": "stream",
     "text": [
      "ERROR:root:Error message:\n",
      "Traceback (most recent call last):\n",
      "  File \"C:\\Users\\Moburu\\AppData\\Local\\Temp\\ipykernel_26060\\1195407018.py\", line 36, in <module>\n",
      "    hotel_df.loc[index, \"Hotel Name\"] = name_address[\"features\"][0][\"properties\"][\"name\"]\n",
      "                                        ~~~~~~~~~~~~~~~~~~~~~~~~^^^\n",
      "IndexError: list index out of range\n"
     ]
    },
    {
     "name": "stdout",
     "output_type": "stream",
     "text": [
      "{'type': 'FeatureCollection', 'features': []}\n",
      "gorom-gorom - nearest hotel: No hotel found\n"
     ]
    },
    {
     "name": "stderr",
     "output_type": "stream",
     "text": [
      "ERROR:root:Error message:\n",
      "Traceback (most recent call last):\n",
      "  File \"C:\\Users\\Moburu\\AppData\\Local\\Temp\\ipykernel_26060\\1195407018.py\", line 36, in <module>\n",
      "    hotel_df.loc[index, \"Hotel Name\"] = name_address[\"features\"][0][\"properties\"][\"name\"]\n",
      "                                        ~~~~~~~~~~~~~~~~~~~~~~~~~~~~~~~~~~~~~~~~~^^^^^^^^\n",
      "KeyError: 'name'\n"
     ]
    },
    {
     "name": "stdout",
     "output_type": "stream",
     "text": [
      "{'type': 'FeatureCollection', 'features': [{'type': 'Feature', 'properties': {'country': 'United States', 'country_code': 'us', 'state': 'Alaska', 'county': 'Kodiak Island', 'city': 'Kodiak', 'street': 'Yukon Street', 'lon': -152.407890657915, 'lat': 57.790495050000004, 'state_code': 'AK', 'formatted': 'Yukon Street, Kodiak, AK, United States of America', 'address_line1': 'Yukon Street', 'address_line2': 'Kodiak, AK, United States of America', 'categories': ['accommodation', 'accommodation.hotel', 'building', 'building.accommodation'], 'details': [], 'datasource': {'sourcename': 'openstreetmap', 'attribution': '© OpenStreetMap contributors', 'license': 'Open Database License', 'url': 'https://www.openstreetmap.org/copyright', 'raw': {'osm_id': 1238712260, 'tourism': 'hotel', 'building': 'yes', 'osm_type': 'w'}}, 'distance': 57, 'place_id': '51d682b5700d0d63c059f4211bf12ee54c40f00102f901c43fd54900000000'}, 'geometry': {'type': 'Point', 'coordinates': [-152.40789065791495, 57.79049505066715]}}]}\n",
      "kodiak - nearest hotel: No hotel found\n"
     ]
    },
    {
     "name": "stderr",
     "output_type": "stream",
     "text": [
      "ERROR:root:Error message:\n",
      "Traceback (most recent call last):\n",
      "  File \"C:\\Users\\Moburu\\AppData\\Local\\Temp\\ipykernel_26060\\1195407018.py\", line 36, in <module>\n",
      "    hotel_df.loc[index, \"Hotel Name\"] = name_address[\"features\"][0][\"properties\"][\"name\"]\n",
      "                                        ~~~~~~~~~~~~~~~~~~~~~~~~^^^\n",
      "IndexError: list index out of range\n"
     ]
    },
    {
     "name": "stdout",
     "output_type": "stream",
     "text": [
      "{'type': 'FeatureCollection', 'features': []}\n",
      "nigde - nearest hotel: No hotel found\n",
      "{'type': 'FeatureCollection', 'features': [{'type': 'Feature', 'properties': {'name': 'Lindsay House', 'country': 'Australia', 'country_code': 'au', 'state': 'New South Wales', 'city': 'Armidale', 'municipality': 'Armidale Regional Council', 'postcode': '2350', 'suburb': 'South Hill', 'street': 'Faulkner Street', 'housenumber': '128', 'lon': 151.66555041267475, 'lat': -30.517230050000002, 'state_code': 'NSW', 'formatted': 'Lindsay House, 128 Faulkner Street, South Hill NSW 2350, Australia', 'address_line1': 'Lindsay House', 'address_line2': '128 Faulkner Street, South Hill NSW 2350, Australia', 'categories': ['accommodation', 'accommodation.hotel', 'building', 'building.accommodation', 'building.residential', 'internet_access'], 'details': ['details.building', 'details.facilities'], 'datasource': {'sourcename': 'openstreetmap', 'attribution': '© OpenStreetMap contributors', 'license': 'Open Database License', 'url': 'https://www.openstreetmap.org/copyright', 'raw': {'name': 'Lindsay House', 'osm_id': 558409130, 'tourism': 'hotel', 'building': 'detached', 'osm_type': 'w', 'roof:shape': 'hipped', 'wheelchair': 'no', 'addr:street': 'Faulkner Street', 'roof:levels': 0, 'building:levels': 2, 'internet_access': 'wlan', 'addr:housenumber': 128, 'check_date:internet_access': '2020-10-19'}}, 'facilities': {'internet_access': True, 'wheelchair': False}, 'building': {'levels': 2, 'type': 'detached', 'roof': {'shape': 'hipped', 'levels': 0}}, 'distance': 1480, 'place_id': '51e00861304cf56240594d5b423069843ec0f00102f901aaa548210000000092030d4c696e6473617920486f757365'}, 'geometry': {'type': 'Point', 'coordinates': [151.66555041267475, -30.517230049324372]}}]}\n",
      "armidale - nearest hotel: Lindsay House\n",
      "{'type': 'FeatureCollection', 'features': [{'type': 'Feature', 'properties': {'name': 'The Grand', 'country': 'New Zealand', 'country_code': 'nz', 'state': 'Southland', 'city': 'Invercargill City', 'postcode': '9810', 'suburb': 'Avenal', 'retail': 'Invercargill CBD', 'street': 'Dee Street', 'housenumber': '76', 'lon': 168.3469528, 'lat': -46.4105337, 'state_code': 'STL', 'formatted': 'The Grand, 76 Dee Street, Avenal, Invercargill City 9810, New Zealand', 'address_line1': 'The Grand', 'address_line2': '76 Dee Street, Avenal, Invercargill City 9810, New Zealand', 'categories': ['accommodation', 'accommodation.hotel'], 'details': ['details', 'details.contact'], 'datasource': {'sourcename': 'openstreetmap', 'attribution': '© OpenStreetMap contributors', 'license': 'Open Database License', 'url': 'https://www.openstreetmap.org/copyright', 'raw': {'name': 'The Grand', 'phone': '+64 22 123 4276', 'osm_id': 3076152837, 'tourism': 'hotel', 'website': 'http://www.thegrandinvercargill.co.nz', 'osm_type': 'n', 'addr:city': 'Invercargill', 'addr:street': 'Dee Street', 'addr:postcode': 9810, 'contact:email': 'grandinvercargill@gmail.com', 'addr:housenumber': 76}}, 'website': 'http://www.thegrandinvercargill.co.nz', 'contact': {'phone': '+64 22 123 4276', 'email': 'grandinvercargill@gmail.com'}, 'distance': 1194, 'place_id': '512e28c23c1a0b654059f0b7475e8c3447c0f00103f901055e5ab700000000920309546865204772616e64'}, 'geometry': {'type': 'Point', 'coordinates': [168.3469528, -46.41053370000725]}}]}\n",
      "invercargill - nearest hotel: The Grand\n",
      "{'type': 'FeatureCollection', 'features': [{'type': 'Feature', 'properties': {'name': 'Nordbo', 'country': 'Greenland', 'country_code': 'gl', 'city': 'Nuuk', 'municipality': 'Sermersooq', 'postcode': '3900', 'district': 'Tuujuk', 'suburb': 'Nuuk Centrum', 'street': 'Børnehjemsvej', 'housenumber': '13A', 'lon': -51.7302795, 'lat': 64.1792397, 'formatted': 'Nordbo, Børnehjemsvej 13A, 3900 Nuuk, Greenland', 'address_line1': 'Nordbo', 'address_line2': 'Børnehjemsvej 13A, 3900 Nuuk, Greenland', 'categories': ['accommodation', 'accommodation.hotel'], 'details': ['details'], 'datasource': {'sourcename': 'openstreetmap', 'attribution': '© OpenStreetMap contributors', 'license': 'Open Database License', 'url': 'https://www.openstreetmap.org/copyright', 'raw': {'osm_id': 5110920728, 'name:en': 'Nordbo', 'tourism': 'hotel', 'osm_type': 'n'}}, 'name_international': {'en': 'Nordbo'}, 'distance': 635, 'place_id': '5139b874cc79dd49c0599048caa9780b5040f00103f9011876a23001000000'}, 'geometry': {'type': 'Point', 'coordinates': [-51.7302795, 64.17923969988101]}}]}\n",
      "nuuk - nearest hotel: Nordbo\n",
      "{'type': 'FeatureCollection', 'features': [{'type': 'Feature', 'properties': {'name': 'Kincraig Hotel /Smith & Jones Cafe', 'country': 'Australia', 'country_code': 'au', 'state': 'South Australia', 'county': 'Naracoorte Lucindale Council', 'city': 'Naracoorte', 'postcode': '5271', 'street': 'Smith Street', 'lon': 140.74431656121993, 'lat': -36.95553535, 'state_code': 'SA', 'formatted': 'Kincraig Hotel /Smith & Jones Cafe, Smith Street, Naracoorte SA 5271, Australia', 'address_line1': 'Kincraig Hotel /Smith & Jones Cafe', 'address_line2': 'Smith Street, Naracoorte SA 5271, Australia', 'categories': ['accommodation', 'accommodation.hotel', 'building', 'building.accommodation'], 'details': [], 'datasource': {'sourcename': 'openstreetmap', 'attribution': '© OpenStreetMap contributors', 'license': 'Open Database License', 'url': 'https://www.openstreetmap.org/copyright', 'raw': {'name': 'Kincraig Hotel /Smith & Jones Cafe', 'osm_id': 1030846718, 'tourism': 'hotel', 'building': 'yes', 'osm_type': 'w'}}, 'distance': 585, 'place_id': '51f209f770d19761405949ee7bfb4e7a42c0f00102f901fe78713d000000009203224b696e637261696720486f74656c202f536d6974682026204a6f6e65732043616665'}, 'geometry': {'type': 'Point', 'coordinates': [140.74431656121993, -36.955535350335204]}}]}\n",
      "naracoorte - nearest hotel: Kincraig Hotel /Smith & Jones Cafe\n",
      "{'type': 'FeatureCollection', 'features': [{'type': 'Feature', 'properties': {'name': 'Christmas Island Lodge', 'country': 'Australia', 'country_code': 'au', 'city': 'Flying Fish Cove', 'municipality': 'Shire of Christmas Island', 'postcode': '6798', 'district': 'Christmas Island', 'neighbourhood': 'Poon Saan', 'street': 'Poon Saan Road', 'lon': 105.6815479, 'lat': -10.4222269, 'formatted': 'Christmas Island Lodge, Poon Saan Road, Flying Fish Cove 6798, Australia', 'address_line1': 'Christmas Island Lodge', 'address_line2': 'Poon Saan Road, Flying Fish Cove 6798, Australia', 'categories': ['accommodation', 'accommodation.hotel'], 'details': ['details'], 'datasource': {'sourcename': 'openstreetmap', 'attribution': '© OpenStreetMap contributors', 'license': 'Open Database License', 'url': 'https://www.openstreetmap.org/copyright', 'raw': {'name': 'Christmas Island Lodge', 'osm_id': 4512198591, 'name:en': 'Christmas Island Lodge', 'tourism': 'hotel', 'osm_type': 'n'}}, 'name_international': {'en': 'Christmas Island Lodge'}, 'distance': 274, 'place_id': '51134a157b9e6b5a40599a98cd1f2ed824c0f00103f901bfaff20c010000009203164368726973746d61732049736c616e64204c6f646765'}, 'geometry': {'type': 'Point', 'coordinates': [105.68154789999998, -10.422226899954968]}}]}\n",
      "flying fish cove - nearest hotel: Christmas Island Lodge\n"
     ]
    },
    {
     "name": "stderr",
     "output_type": "stream",
     "text": [
      "ERROR:root:Error message:\n",
      "Traceback (most recent call last):\n",
      "  File \"C:\\Users\\Moburu\\AppData\\Local\\Temp\\ipykernel_26060\\1195407018.py\", line 36, in <module>\n",
      "    hotel_df.loc[index, \"Hotel Name\"] = name_address[\"features\"][0][\"properties\"][\"name\"]\n",
      "                                        ~~~~~~~~~~~~~~~~~~~~~~~~~~~~~~~~~~~~~~~~~^^^^^^^^\n",
      "KeyError: 'name'\n"
     ]
    },
    {
     "name": "stdout",
     "output_type": "stream",
     "text": [
      "{'type': 'FeatureCollection', 'features': [{'type': 'Feature', 'properties': {'country': 'Libya', 'country_code': 'ly', 'state': 'Al Wahat', 'city': 'Ajdabiya', 'hamlet': 'Al ganan Ajdabiya', 'street': 'Awjilah Ajdabyia Road', 'lon': 21.29256831860046, 'lat': 29.168295200000003, 'formatted': 'Awjilah Ajdabyia Road, Ajdabiya, Libya', 'address_line1': 'Awjilah Ajdabyia Road', 'address_line2': 'Ajdabiya, Libya', 'categories': ['accommodation', 'accommodation.hotel', 'building', 'building.accommodation'], 'details': [], 'datasource': {'sourcename': 'openstreetmap', 'attribution': '© OpenStreetMap contributors', 'license': 'Open Database License', 'url': 'https://www.openstreetmap.org/copyright', 'raw': {'osm_id': 998801507, 'tourism': 'hotel', 'building': 'yes', 'osm_type': 'w'}}, 'distance': 6665, 'place_id': '51133ce0c1e54a354059f84ceb64152b3d40f00102f9016380883b00000000'}, 'geometry': {'type': 'Point', 'coordinates': [21.292568318600456, 29.168295199819994]}}]}\n",
      "awjilah - nearest hotel: No hotel found\n",
      "{'type': 'FeatureCollection', 'features': [{'type': 'Feature', 'properties': {'name': 'お宿エクハシ', 'country': 'Japan', 'country_code': 'jp', 'state': 'Nemuro Subprefecture', 'county': 'Hokkaido Prefecture', 'city': 'Nemuro', 'postcode': '087-0027', 'district': '清隆町三丁目', 'street': 'National Highway Route 44', 'lon': 145.57695584490423, 'lat': 43.32493335, 'formatted': 'お宿エクハシ, National Highway Route 44, Nemuro, Nemuro Subprefecture 087-0027, Japan', 'address_line1': 'お宿エクハシ', 'address_line2': 'National Highway Route 44, Nemuro, Nemuro Subprefecture 087-0027, Japan', 'categories': ['accommodation', 'accommodation.hotel', 'building', 'building.accommodation'], 'details': [], 'datasource': {'sourcename': 'openstreetmap', 'attribution': '© OpenStreetMap contributors', 'license': 'Open Database License', 'url': 'https://www.openstreetmap.org/copyright', 'raw': {'name': 'お宿エクハシ', 'osm_id': 248023912, 'tourism': 'hotel', 'building': 'hotel', 'osm_type': 'w'}}, 'building': {'type': 'hotel'}, 'distance': 209, 'place_id': '5131a31a6c763262405960fa806a97a94540f00102f901688bc80e00000000920312e3818ae5aebfe382a8e382afe3838fe382b7'}, 'geometry': {'type': 'Point', 'coordinates': [145.57695584490423, 43.32493335054164]}}]}\n",
      "nemuro - nearest hotel: お宿エクハシ\n",
      "{'type': 'FeatureCollection', 'features': [{'type': 'Feature', 'properties': {'name': 'Seaview Hotel Zum Sperrgebiet', 'country': 'Namibia', 'country_code': 'na', 'state': 'Karas', 'city': 'Lüderitz', 'postcode': '23016', 'street': 'Woermann Street', 'lon': 15.158203, 'lat': -26.6452054, 'state_code': 'KA', 'formatted': 'Seaview Hotel Zum Sperrgebiet, Woermann Street, Lüderitz 23016, Namibia', 'address_line1': 'Seaview Hotel Zum Sperrgebiet', 'address_line2': 'Woermann Street, Lüderitz 23016, Namibia', 'categories': ['accommodation', 'accommodation.hotel'], 'details': [], 'datasource': {'sourcename': 'openstreetmap', 'attribution': '© OpenStreetMap contributors', 'license': 'Open Database License', 'url': 'https://www.openstreetmap.org/copyright', 'raw': {'name': 'Seaview Hotel Zum Sperrgebiet', 'osm_id': 1252300556, 'tourism': 'hotel', 'osm_type': 'n'}}, 'distance': 342, 'place_id': '511942cefbff502e4059d94a5a2e2ca53ac0f00103f9010c97a44a0000000092031d5365617669657720486f74656c205a756d205370657272676562696574'}, 'geometry': {'type': 'Point', 'coordinates': [15.158203000000002, -26.64520539955524]}}]}\n",
      "luderitz - nearest hotel: Seaview Hotel Zum Sperrgebiet\n"
     ]
    },
    {
     "name": "stderr",
     "output_type": "stream",
     "text": [
      "ERROR:root:Error message:\n",
      "Traceback (most recent call last):\n",
      "  File \"C:\\Users\\Moburu\\AppData\\Local\\Temp\\ipykernel_26060\\1195407018.py\", line 36, in <module>\n",
      "    hotel_df.loc[index, \"Hotel Name\"] = name_address[\"features\"][0][\"properties\"][\"name\"]\n",
      "                                        ~~~~~~~~~~~~~~~~~~~~~~~~^^^\n",
      "IndexError: list index out of range\n"
     ]
    },
    {
     "name": "stdout",
     "output_type": "stream",
     "text": [
      "{'type': 'FeatureCollection', 'features': []}\n",
      "enewetak - nearest hotel: No hotel found\n",
      "{'type': 'FeatureCollection', 'features': [{'type': 'Feature', 'properties': {'name': 'Waterford Hotel', 'country': 'South Africa', 'country_code': 'za', 'state': 'Eastern Cape', 'county': 'Nelson Mandela Bay Metropolitan Municipality', 'city': 'Gqeberha', 'postcode': '6020', 'district': 'Steytler', 'suburb': 'Nelson Mandela Bay Ward 11', 'street': 'Durban Road', 'lon': 25.5777512, 'lat': -33.9320089, 'state_code': 'EC', 'formatted': 'Waterford Hotel, Durban Road, Nelson Mandela Bay Ward 11, Gqeberha, 6020, South Africa', 'address_line1': 'Waterford Hotel', 'address_line2': 'Durban Road, Nelson Mandela Bay Ward 11, Gqeberha, 6020, South Africa', 'categories': ['accommodation', 'accommodation.hotel'], 'details': [], 'datasource': {'sourcename': 'openstreetmap', 'attribution': '© OpenStreetMap contributors', 'license': 'Open Database License', 'url': 'https://www.openstreetmap.org/copyright', 'raw': {'name': 'Waterford Hotel', 'osm_id': 1292374697, 'tourism': 'hotel', 'addr:erf': 1441, 'osm_type': 'n', 'addr:ward': 11, 'addr:subdistrict': 'Korsten'}}, 'distance': 1707, 'place_id': '518939ad80e7933940595fd94f114cf740c0f00103f901a912084d0000000092030f5761746572666f726420486f74656c'}, 'geometry': {'type': 'Point', 'coordinates': [25.577751199999998, -33.93200889967806]}}]}\n",
      "port elizabeth - nearest hotel: Waterford Hotel\n"
     ]
    },
    {
     "name": "stderr",
     "output_type": "stream",
     "text": [
      "ERROR:root:Error message:\n",
      "Traceback (most recent call last):\n",
      "  File \"C:\\Users\\Moburu\\AppData\\Local\\Temp\\ipykernel_26060\\1195407018.py\", line 36, in <module>\n",
      "    hotel_df.loc[index, \"Hotel Name\"] = name_address[\"features\"][0][\"properties\"][\"name\"]\n",
      "                                        ~~~~~~~~~~~~~~~~~~~~~~~~~~~~~~~~~~~~~~~~~^^^^^^^^\n",
      "KeyError: 'name'\n"
     ]
    },
    {
     "name": "stdout",
     "output_type": "stream",
     "text": [
      "{'type': 'FeatureCollection', 'features': [{'type': 'Feature', 'properties': {'country': 'Equatorial Guinea', 'country_code': 'gq', 'region': 'Región Insular', 'state': 'Annobón', 'city': 'Aual', 'street': 'Sendero Aual - Palé', 'lon': 5.621356934655281, 'lat': -1.4159844499999998, 'state_code': 'AN', 'formatted': 'Sendero Aual - Palé, Aual, Equatorial Guinea', 'address_line1': 'Sendero Aual - Palé', 'address_line2': 'Aual, Equatorial Guinea', 'categories': ['accommodation', 'accommodation.hotel', 'building', 'building.accommodation'], 'details': [], 'datasource': {'sourcename': 'openstreetmap', 'attribution': '© OpenStreetMap contributors', 'license': 'Open Database License', 'url': 'https://www.openstreetmap.org/copyright', 'raw': {'osm_id': 872270541, 'tourism': 'hotel', 'building': 'yes', 'osm_type': 'w'}}, 'distance': 2011, 'place_id': '51eff205fe447c1640590c0e7d4fdfa7f6bff00102f901cdcafd3300000000'}, 'geometry': {'type': 'Point', 'coordinates': [5.621356934655281, -1.41598444986528]}}]}\n",
      "san antonio de pale - nearest hotel: No hotel found\n",
      "{'type': 'FeatureCollection', 'features': [{'type': 'Feature', 'properties': {'name': 'Hotel North Two', 'country': 'Canada', 'country_code': 'ca', 'state': 'Newfoundland and Labrador', 'county': 'Labrador', 'city': 'Happy Valley-Goose Bay', 'postcode': 'A0P 1C0', 'street': 'Loring Drive', 'lon': -60.381411286794574, 'lat': 53.306822600000004, 'state_code': 'NL', 'formatted': 'Hotel North Two, Loring Drive, Happy Valley-Goose Bay, NL A0P 1C0, Canada', 'address_line1': 'Hotel North Two', 'address_line2': 'Loring Drive, Happy Valley-Goose Bay, NL A0P 1C0, Canada', 'categories': ['accommodation', 'accommodation.hotel', 'building', 'building.accommodation'], 'details': [], 'datasource': {'sourcename': 'openstreetmap', 'attribution': '© OpenStreetMap contributors', 'license': 'Open Database License', 'url': 'https://www.openstreetmap.org/copyright', 'raw': {'name': 'Hotel North Two', 'osm_id': 1083597935, 'tourism': 'hotel', 'building': 'yes', 'osm_type': 'w'}}, 'distance': 3485, 'place_id': '51ce8dc515d2304ec059486982f645a74a40f00102f9016f6496400000000092030f486f74656c204e6f7274682054776f'}, 'geometry': {'type': 'Point', 'coordinates': [-60.381411286794545, 53.30682259910333]}}]}\n",
      "happy valley-goose bay - nearest hotel: Hotel North Two\n",
      "{'type': 'FeatureCollection', 'features': [{'type': 'Feature', 'properties': {'name': 'Miðgarður', 'country': 'Iceland', 'country_code': 'is', 'state_district': 'Southern Region', 'county': 'Sveitarfélagið Árborg', 'city': 'Selfoss', 'postcode': '800', 'street': 'Austurvegur', 'housenumber': '4', 'lon': -21.0012027, 'lat': 63.9370521, 'formatted': 'Miðgarður, Austurvegur 4, 800 Selfoss, Iceland', 'address_line1': 'Miðgarður', 'address_line2': 'Austurvegur 4, 800 Selfoss, Iceland', 'categories': ['accommodation', 'accommodation.hotel', 'building', 'building.accommodation'], 'details': ['details'], 'datasource': {'sourcename': 'openstreetmap', 'attribution': '© OpenStreetMap contributors', 'license': 'Open Database License', 'url': 'https://www.openstreetmap.org/copyright', 'raw': {'name': 'Miðgarður', 'osm_id': 242331314, 'tourism': 'hotel', 'building': 'yes', 'osm_type': 'w', 'addr:street': 'Austurvegur', 'ref:HNITNUM': 10054190, 'addr:postcode': 800, 'addr:housenumber': 4}}, 'ref_other': {'hnitnum': 10054190}, 'distance': 469, 'place_id': '51ba2af5d14e0035c0590861be52f1f74f40f00102f901b2ae710e0000000092030b4d69c3b0676172c3b07572'}, 'geometry': {'type': 'Point', 'coordinates': [-21.0012027, 63.93705210014201]}}]}\n",
      "selfoss - nearest hotel: Miðgarður\n",
      "{'type': 'FeatureCollection', 'features': [{'type': 'Feature', 'properties': {'name': 'Kise alemayehu', 'country': 'Ethiopia', 'country_code': 'et', 'state': 'Amhara Region', 'county': 'South Gonder', 'city': 'Debre Tabor', 'street': 'TAH 6', 'lon': 38.0229696, 'lat': 11.8555207, 'formatted': 'Kise alemayehu, TAH 6, Debre Tabor, Ethiopia', 'address_line1': 'Kise alemayehu', 'address_line2': 'TAH 6, Debre Tabor, Ethiopia', 'categories': ['accommodation', 'accommodation.hotel'], 'details': ['details'], 'datasource': {'sourcename': 'openstreetmap', 'attribution': '© OpenStreetMap contributors', 'license': 'Open Database License', 'url': 'https://www.openstreetmap.org/copyright', 'raw': {'osm_id': 7772849585, 'name:en': 'Kise alemayehu', 'tourism': 'hotel', 'osm_type': 'n', 'addr:street': 'In front of Neged bank of gafat branch'}}, 'name_international': {'en': 'Kise alemayehu'}, 'distance': 916, 'place_id': '51af66f8aaf002434059d46223cf06b62740f00103f901b1454ccf01000000'}, 'geometry': {'type': 'Point', 'coordinates': [38.0229696, 11.8555206995674]}}]}\n",
      "debre tabor - nearest hotel: Kise alemayehu\n"
     ]
    },
    {
     "name": "stderr",
     "output_type": "stream",
     "text": [
      "ERROR:root:Error message:\n",
      "Traceback (most recent call last):\n",
      "  File \"C:\\Users\\Moburu\\AppData\\Local\\Temp\\ipykernel_26060\\1195407018.py\", line 36, in <module>\n",
      "    hotel_df.loc[index, \"Hotel Name\"] = name_address[\"features\"][0][\"properties\"][\"name\"]\n",
      "                                        ~~~~~~~~~~~~~~~~~~~~~~~~^^^\n",
      "IndexError: list index out of range\n"
     ]
    },
    {
     "name": "stdout",
     "output_type": "stream",
     "text": [
      "{'type': 'FeatureCollection', 'features': []}\n",
      "hanceville - nearest hotel: No hotel found\n",
      "{'type': 'FeatureCollection', 'features': [{'type': 'Feature', 'properties': {'name': 'Гостевой дом', 'country': 'Russia', 'country_code': 'ru', 'region': 'Far Eastern Federal District', 'state': 'Chukotka Autonomous Okrug', 'county': 'Anadyr Urban Okrug', 'city': 'Anadyr', 'postcode': '689000', 'street': 'улица Отке', 'housenumber': '22', 'lon': 177.5129759, 'lat': 64.734802, 'formatted': 'Гостевой дом, улица Отке 22, Anadyr, Chukotka Autonomous Okrug, Russia, 689000', 'address_line1': 'Гостевой дом', 'address_line2': 'улица Отке 22, Anadyr, Chukotka Autonomous Okrug, Russia, 689000', 'categories': ['accommodation', 'accommodation.hotel'], 'details': [], 'datasource': {'sourcename': 'openstreetmap', 'attribution': '© OpenStreetMap contributors', 'license': 'Open Database License', 'url': 'https://www.openstreetmap.org/copyright', 'raw': {'name': 'Гостевой дом', 'osm_id': 4172612500, 'tourism': 'hotel', 'osm_type': 'n', 'addr:street': 'улица Отке', 'addr:housenumber': 22}}, 'distance': 2207, 'place_id': '515b446f4c6a3066405940f1f6fe062f5040f00103f9019403b5f800000000920317d093d0bed181d182d0b5d0b2d0bed0b920d0b4d0bed0bc'}, 'geometry': {'type': 'Point', 'coordinates': [177.5129759, 64.73480199923961]}}]}\n",
      "anadyr - nearest hotel: Гостевой дом\n",
      "{'type': 'FeatureCollection', 'features': [{'type': 'Feature', 'properties': {'name': 'Red Roof Inn Lompoc', 'country': 'United States', 'country_code': 'us', 'state': 'California', 'county': 'Santa Barbara County', 'city': 'Lompoc', 'postcode': '93436', 'street': 'East Ocean Avenue', 'housenumber': '1020', 'lon': -120.44577384983191, 'lat': 34.638603599999996, 'state_code': 'CA', 'formatted': 'Red Roof Inn Lompoc, 1020 East Ocean Avenue, Lompoc, CA 93436, United States of America', 'address_line1': 'Red Roof Inn Lompoc', 'address_line2': '1020 East Ocean Avenue, Lompoc, CA 93436, United States of America', 'categories': ['accommodation', 'accommodation.hotel', 'building', 'building.accommodation'], 'details': [], 'datasource': {'sourcename': 'openstreetmap', 'attribution': '© OpenStreetMap contributors', 'license': 'Open Database License', 'url': 'https://www.openstreetmap.org/copyright', 'raw': {'name': 'Red Roof Inn Lompoc', 'osm_id': 1227204801, 'tourism': 'hotel', 'building': 'yes', 'osm_type': 'w', 'addr:city': 'Lompoc', 'addr:state': 'CA', 'addr:street': 'East Ocean Avenue', 'addr:postcode': 93436, 'addr:housenumber': 1020}}, 'distance': 1081, 'place_id': '512a9c0a8f871c5ec05924c243c3bd514140f00102f901c1a825490000000092031352656420526f6f6620496e6e204c6f6d706f63'}, 'geometry': {'type': 'Point', 'coordinates': [-120.44577384983191, 34.63860359962953]}}]}\n",
      "lompoc - nearest hotel: Red Roof Inn Lompoc\n",
      "{'type': 'FeatureCollection', 'features': [{'type': 'Feature', 'properties': {'name': 'Chalan Kanoa Beach Hotel', 'country': 'United States', 'country_code': 'us', 'state': 'Northern Mariana Islands', 'county': 'Saipan Municipality', 'city': 'Chalan Piao', 'postcode': '96950', 'suburb': 'Afetna', 'street': 'Atuhong Place', 'lon': 145.6996811, 'lat': 15.1432999, 'state_code': 'MP', 'formatted': 'Chalan Kanoa Beach Hotel, Atuhong Place, Chalan Piao, MP 96950, United States of America', 'address_line1': 'Chalan Kanoa Beach Hotel', 'address_line2': 'Atuhong Place, Chalan Piao, MP 96950, United States of America', 'categories': ['accommodation', 'accommodation.hotel'], 'details': ['details', 'details.contact'], 'datasource': {'sourcename': 'openstreetmap', 'attribution': '© OpenStreetMap contributors', 'license': 'Open Database License', 'url': 'https://www.openstreetmap.org/copyright', 'raw': {'name': 'Chalan Kanoa Beach Hotel', 'phone': '+16702347829', 'osm_id': 2465182705, 'tourism': 'hotel', 'website': 'https://ckbeachhotel.com/', 'osm_type': 'n'}}, 'website': 'https://ckbeachhotel.com/', 'contact': {'phone': '+16702347829'}, 'distance': 875, 'place_id': '5123449ec96336624059a463bf9a5e492e40f00103f901f1b3ef92000000009203184368616c616e204b616e6f6120426561636820486f74656c'}, 'geometry': {'type': 'Point', 'coordinates': [145.6996811, 15.143299899924223]}}]}\n",
      "saipan - nearest hotel: Chalan Kanoa Beach Hotel\n"
     ]
    },
    {
     "name": "stderr",
     "output_type": "stream",
     "text": [
      "ERROR:root:Error message:\n",
      "Traceback (most recent call last):\n",
      "  File \"C:\\Users\\Moburu\\AppData\\Local\\Temp\\ipykernel_26060\\1195407018.py\", line 36, in <module>\n",
      "    hotel_df.loc[index, \"Hotel Name\"] = name_address[\"features\"][0][\"properties\"][\"name\"]\n",
      "                                        ~~~~~~~~~~~~~~~~~~~~~~~~^^^\n",
      "IndexError: list index out of range\n"
     ]
    },
    {
     "name": "stdout",
     "output_type": "stream",
     "text": [
      "{'type': 'FeatureCollection', 'features': []}\n",
      "wauchope - nearest hotel: No hotel found\n",
      "{'type': 'FeatureCollection', 'features': [{'type': 'Feature', 'properties': {'name': 'Escale Vacances', 'country': 'Mauritius', 'country_code': 'mu', 'city': 'Port Mathurin', 'street': 'Johnston street', 'lon': 63.42580929580323, 'lat': -19.6833629, 'formatted': 'Escale Vacances, Johnston street, Port Mathurin, Mauritius', 'address_line1': 'Escale Vacances', 'address_line2': 'Johnston street, Port Mathurin, Mauritius', 'categories': ['accommodation', 'accommodation.hotel', 'building', 'building.accommodation'], 'details': ['details'], 'datasource': {'sourcename': 'openstreetmap', 'attribution': '© OpenStreetMap contributors', 'license': 'Open Database License', 'url': 'https://www.openstreetmap.org/copyright', 'raw': {'name': 'Escale Vacances', 'brand': 'Escale Vacances', 'osm_id': 973249571, 'tourism': 'hotel', 'building': 'yes', 'osm_type': 'w'}}, 'brand': 'Escale Vacances', 'distance': 939, 'place_id': '5162e743eb80b64f40590292fcdef0ae33c0f00102f901239c023a0000000092030f457363616c6520566163616e636573'}, 'geometry': {'type': 'Point', 'coordinates': [63.425809295803234, -19.683362900412256]}}]}\n",
      "port mathurin - nearest hotel: Escale Vacances\n",
      "{'type': 'FeatureCollection', 'features': [{'type': 'Feature', 'properties': {'name': 'Pacific Grove Inn', 'country': 'United States', 'country_code': 'us', 'state': 'California', 'county': 'Monterey County', 'city': 'Pacific Grove', 'postcode': '93950', 'suburb': 'Pacific Grove Acres', 'commercial': 'Civic Center', 'street': 'Pine Avenue', 'housenumber': '581', 'lon': -121.9190762460031, 'lat': 36.6186726, 'state_code': 'CA', 'formatted': 'Pacific Grove Inn, 581 Pine Avenue, Pacific Grove, CA 93950, United States of America', 'address_line1': 'Pacific Grove Inn', 'address_line2': '581 Pine Avenue, Pacific Grove, CA 93950, United States of America', 'categories': ['accommodation', 'accommodation.hotel', 'building', 'building.accommodation', 'internet_access'], 'details': ['details', 'details.building', 'details.contact', 'details.facilities'], 'datasource': {'sourcename': 'openstreetmap', 'attribution': '© OpenStreetMap contributors', 'license': 'Open Database License', 'url': 'https://www.openstreetmap.org/copyright', 'raw': {'name': 'Pacific Grove Inn', 'osm_id': 628859661, 'tourism': 'hotel', 'website': 'https://www.pacificgrovesuites.com/', 'building': 'yes', 'osm_type': 'w', 'roof:shape': 'gabled', 'addr:street': 'Pine Avenue', 'roof:levels': 1, 'contact:email': 'pacificgroveinnat581pine@gmail.com', 'contact:phone': '831-324-5631', 'building:levels': 3, 'internet_access': 'wlan', 'addr:housenumber': 581}}, 'website': 'https://www.pacificgrovesuites.com/', 'contact': {'phone': '831-324-5631', 'email': 'pacificgroveinnat581pine@gmail.com'}, 'facilities': {'internet_access': True}, 'building': {'levels': 3, 'roof': {'shape': 'gabled', 'levels': 1}}, 'distance': 238, 'place_id': '5148c72c25d27a5ec059888aeba9304f4240f00102f9010da37b2500000000920311506163696669632047726f766520496e6e'}, 'geometry': {'type': 'Point', 'coordinates': [-121.9190762460031, 36.61867259980232]}}]}\n",
      "pacific grove - nearest hotel: Pacific Grove Inn\n",
      "{'type': 'FeatureCollection', 'features': [{'type': 'Feature', 'properties': {'name': 'Hotel 52', 'country': 'United Kingdom', 'country_code': 'gb', 'state': 'England', 'state_district': 'North East', 'county': 'County Durham', 'city': 'Stanley', 'village': 'Tanfield Lea', 'hamlet': 'West Shield Row Villas', 'postcode': 'DH9 0PG', 'street': 'Cemetery Road', 'lon': -1.694563255467638, 'lat': 54.87283945, 'state_code': 'ENG', 'formatted': 'Hotel 52, Cemetery Road, Stanley, DH9 0PG, United Kingdom', 'address_line1': 'Hotel 52', 'address_line2': 'Cemetery Road, Stanley, DH9 0PG, United Kingdom', 'categories': ['accommodation', 'accommodation.hotel', 'building', 'building.accommodation'], 'details': ['details'], 'datasource': {'sourcename': 'openstreetmap', 'attribution': '© OpenStreetMap contributors', 'license': 'Open Database License', 'url': 'https://www.openstreetmap.org/copyright', 'raw': {'name': 'Hotel 52', 'osm_id': 512846974, 'fhrs:id': 1030044, 'tourism': 'hotel', 'website': 'https://www.hotel52.co.uk/stanley/', 'building': 'hotel', 'osm_type': 'w', 'addr:city': 'Stanley', 'addr:postcode': 'DH9 0PG'}}, 'website': 'https://www.hotel52.co.uk/stanley/', 'building': {'type': 'hotel'}, 'distance': 568, 'place_id': '51ecc9335cee1cfbbf5914e1fc33b96f4b40f00102f9017e6c911e00000000920308486f74656c203532'}, 'geometry': {'type': 'Point', 'coordinates': [-1.6945632554676378, 54.87283944938295]}}]}\n",
      "stanley - nearest hotel: Hotel 52\n"
     ]
    },
    {
     "name": "stderr",
     "output_type": "stream",
     "text": [
      "ERROR:root:Error message:\n",
      "Traceback (most recent call last):\n",
      "  File \"C:\\Users\\Moburu\\AppData\\Local\\Temp\\ipykernel_26060\\1195407018.py\", line 36, in <module>\n",
      "    hotel_df.loc[index, \"Hotel Name\"] = name_address[\"features\"][0][\"properties\"][\"name\"]\n",
      "                                        ~~~~~~~~~~~~~~~~~~~~~~~~~~~~~~~~~~~~~~~~~^^^^^^^^\n",
      "KeyError: 'name'\n"
     ]
    },
    {
     "name": "stdout",
     "output_type": "stream",
     "text": [
      "{'type': 'FeatureCollection', 'features': [{'type': 'Feature', 'properties': {'country': 'Russia', 'country_code': 'ru', 'region': 'Far Eastern Federal District', 'state': 'Magadan Oblast', 'county': 'Susumansky Urban District', 'city': 'Susuman', 'postcode': '686310', 'street': 'улица Билибина', 'lon': 148.1511226, 'lat': 62.7767388, 'formatted': 'улица Билибина, Susuman, Magadan Oblast, Russia, 686310', 'address_line1': 'улица Билибина', 'address_line2': 'Susuman, Magadan Oblast, Russia, 686310', 'categories': ['accommodation', 'accommodation.hotel'], 'details': [], 'datasource': {'sourcename': 'openstreetmap', 'attribution': '© OpenStreetMap contributors', 'license': 'Open Database License', 'url': 'https://www.openstreetmap.org/copyright', 'raw': {'osm_id': 644293626, 'tourism': 'hotel', 'osm_type': 'n'}}, 'distance': 1080, 'place_id': '51f81510ffd584624059403d522d6c634f40f00103f901fa23672600000000'}, 'geometry': {'type': 'Point', 'coordinates': [148.1511226, 62.77673880115117]}}]}\n",
      "susuman - nearest hotel: No hotel found\n",
      "{'type': 'FeatureCollection', 'features': [{'type': 'Feature', 'properties': {'name': 'Carol Inn', 'country': 'Canada', 'country_code': 'ca', 'state': 'Newfoundland and Labrador', 'county': 'Labrador', 'city': 'Labrador City', 'postcode': 'A2V 2B6', 'street': 'Drake Avenue', 'housenumber': '215', 'lon': -66.90511051725072, 'lat': 52.94502685, 'state_code': 'NL', 'formatted': 'Carol Inn, 215 Drake Avenue, Labrador City, NL A2V 2B6, Canada', 'address_line1': 'Carol Inn', 'address_line2': '215 Drake Avenue, Labrador City, NL A2V 2B6, Canada', 'categories': ['accommodation', 'accommodation.hotel', 'building', 'building.accommodation'], 'details': ['details.contact'], 'datasource': {'sourcename': 'openstreetmap', 'attribution': '© OpenStreetMap contributors', 'license': 'Open Database License', 'url': 'https://www.openstreetmap.org/copyright', 'raw': {'name': 'Carol Inn', 'phone': '+1-709-944-7736', 'osm_id': 368225058, 'tourism': 'hotel', 'building': 'yes', 'osm_type': 'w', 'addr:city': 'Labrador City', 'addr:street': 'Drake Avenue', 'addr:postcode': 'A2V 2B6', 'addr:housenumber': 215}}, 'contact': {'phone': '+1-709-944-7736'}, 'distance': 427, 'place_id': '51e2b6a954edb950c0597c55c9a3f6784a40f00102f90122abf215000000009203094361726f6c20496e6e'}, 'geometry': {'type': 'Point', 'coordinates': [-66.90511051725073, 52.94502684908636]}}]}\n",
      "labrador city - nearest hotel: Carol Inn\n",
      "{'type': 'FeatureCollection', 'features': [{'type': 'Feature', 'properties': {'name': 'Ibis Styles', 'country': 'Australia', 'country_code': 'au', 'state': 'Queensland', 'city': 'Mount Isa', 'municipality': 'Mount Isa City', 'postcode': '4825', 'district': 'Mount Isa City', 'suburb': 'Mount Isa City', 'street': 'Camooweal Street', 'lon': 139.49265077497304, 'lat': -20.7259515, 'state_code': 'QLD', 'formatted': 'Ibis Styles, Camooweal Street, Mount Isa City QLD 4825, Australia', 'address_line1': 'Ibis Styles', 'address_line2': 'Camooweal Street, Mount Isa City QLD 4825, Australia', 'categories': ['accommodation', 'accommodation.hotel', 'building', 'building.accommodation'], 'details': ['details'], 'datasource': {'sourcename': 'openstreetmap', 'attribution': '© OpenStreetMap contributors', 'license': 'Open Database License', 'url': 'https://www.openstreetmap.org/copyright', 'raw': {'name': 'Ibis Styles', 'brand': 'Ibis Styles', 'osm_id': 273043502, 'tourism': 'hotel', 'building': 'yes', 'osm_type': 'w', 'brand:wikidata': 'Q3147425', 'brand:wikipedia': 'en:Ibis Styles'}}, 'brand': 'Ibis Styles', 'brand_details': {'wikidata': 'Q3147425', 'wikipedia': 'en:Ibis Styles'}, 'distance': 1085, 'place_id': '5177db8ecbc36f614059ce6820f5d7b934c0f00102f9012e5046100000000092030b49626973205374796c6573'}, 'geometry': {'type': 'Point', 'coordinates': [139.49265077497304, -20.725951500332307]}}]}\n",
      "mount isa - nearest hotel: Ibis Styles\n",
      "{'type': 'FeatureCollection', 'features': [{'type': 'Feature', 'properties': {'name': 'Salles', 'country': 'Portugal', 'country_code': 'pt', 'city': 'Praia da Vitória', 'village': 'Praia da Vitória (Santa Cruz)', 'postcode': '9760-411', 'street': 'Travessa do Quartel', 'lon': -27.0603219, 'lat': 38.7313735, 'formatted': \"Salle's, Travessa do Quartel, 9760-411 Praia da Vitória, Portugal\", 'address_line1': \"Salle's\", 'address_line2': 'Travessa do Quartel, 9760-411 Praia da Vitória, Portugal', 'categories': ['accommodation', 'accommodation.hotel'], 'details': ['details'], 'datasource': {'sourcename': 'openstreetmap', 'attribution': '© OpenStreetMap contributors', 'license': 'Open Database License', 'url': 'https://www.openstreetmap.org/copyright', 'raw': {'name': 'Salles', 'osm_id': 6258956385, 'name:en': \"Salle's\", 'tourism': 'hotel', 'osm_type': 'n'}}, 'name_international': {'en': \"Salle's\"}, 'distance': 594, 'place_id': '518bbb8b41710f3bc059670498a59d5d4340f00103f901611810750100000092030653616c6c6573'}, 'geometry': {'type': 'Point', 'coordinates': [-27.0603219, 38.731373500086924]}}]}\n",
      "praia da vitoria - nearest hotel: Salles\n",
      "{'type': 'FeatureCollection', 'features': [{'type': 'Feature', 'properties': {'name': 'Hostal Santa Rosa', 'country': 'Peru', 'country_code': 'pe', 'region': 'Province of Huarmey', 'state': 'Ancash', 'city': 'Huarmey', 'village': 'La Victoria', 'street': 'Avenida Aija', 'lon': -78.1519613, 'lat': -10.0681349, 'state_code': 'ANC', 'formatted': 'Hostal Santa Rosa, Avenida Aija, Huarmey, Peru', 'address_line1': 'Hostal Santa Rosa', 'address_line2': 'Avenida Aija, Huarmey, Peru', 'categories': ['accommodation', 'accommodation.hotel'], 'details': [], 'datasource': {'sourcename': 'openstreetmap', 'attribution': '© OpenStreetMap contributors', 'license': 'Open Database License', 'url': 'https://www.openstreetmap.org/copyright', 'raw': {'name': 'Hostal Santa Rosa', 'osm_id': 3946468713, 'tourism': 'hotel', 'osm_type': 'n', 'addr:city': 'Huarmey'}}, 'distance': 26, 'place_id': '517d70e3bbb98953c0597fc2dd93e22224c0f00103f90169553aeb00000000920311486f7374616c2053616e746120526f7361'}, 'geometry': {'type': 'Point', 'coordinates': [-78.1519613, -10.068134899921686]}}]}\n",
      "huarmey - nearest hotel: Hostal Santa Rosa\n",
      "{'type': 'FeatureCollection', 'features': [{'type': 'Feature', 'properties': {'name': 'Resort Fazenda Fiore', 'country': 'Brazil', 'country_code': 'br', 'region': 'Northeast Region', 'state': 'Alagoas', 'county': 'Região Geográfica Intermediária de Maceió', 'city': 'Paripueira', 'municipality': 'Região Geográfica Imediata de Maceió', 'postcode': '57940-000', 'district': 'Paripueira', 'street': 'Rodovia AL 101 Norte', 'lon': -35.5331635, 'lat': -9.4491552, 'state_code': 'AL', 'formatted': 'Resort Fazenda Fiore, Rodovia AL 101 Norte, Paripueira - AL, 57940-000, Brazil', 'address_line1': 'Resort Fazenda Fiore', 'address_line2': 'Rodovia AL 101 Norte, Paripueira - AL, 57940-000, Brazil', 'categories': ['accommodation', 'accommodation.hotel', 'internet_access', 'internet_access.free'], 'details': ['details.facilities'], 'datasource': {'sourcename': 'openstreetmap', 'attribution': '© OpenStreetMap contributors', 'license': 'Open Database License', 'url': 'https://www.openstreetmap.org/copyright', 'raw': {'name': 'Resort Fazenda Fiore', 'osm_id': 6530463046, 'tourism': 'hotel', 'osm_type': 'n', 'internet_access': 'yes', 'internet_access:fee': 'no'}}, 'facilities': {'internet_access': True}, 'distance': 5684, 'place_id': '51dff599b33ec441c05923839cabf7e522c0f00103f90146f53e85010000009203145265736f72742046617a656e64612046696f7265'}, 'geometry': {'type': 'Point', 'coordinates': [-35.53316349999999, -9.449155199866771]}}]}\n",
      "barra de santo antonio - nearest hotel: Resort Fazenda Fiore\n",
      "{'type': 'FeatureCollection', 'features': [{'type': 'Feature', 'properties': {'name': 'Hotel El Jadida', 'country': 'Morocco', 'country_code': 'ma', 'state': 'Casablanca-Settat', 'county': 'El Jadida Province', 'city': 'El Jadida', 'postcode': '24010', 'suburb': 'Souk Lakdim (El Kalaa)', 'street': 'Derb Ahmed Tahiri', 'lon': -8.505663261350296, 'lat': 33.2549197, 'formatted': 'Hotel El Jadida, Derb Ahmed Tahiri, 24010 El Jadida, Morocco', 'address_line1': 'Hotel El Jadida', 'address_line2': 'Derb Ahmed Tahiri, 24010 El Jadida, Morocco', 'categories': ['accommodation', 'accommodation.hotel', 'building', 'building.accommodation'], 'details': [], 'datasource': {'sourcename': 'openstreetmap', 'attribution': '© OpenStreetMap contributors', 'license': 'Open Database License', 'url': 'https://www.openstreetmap.org/copyright', 'raw': {'name': 'Hotel El Jadida', 'osm_id': 1272396574, 'tourism': 'hotel', 'building': 'yes', 'osm_type': 'w'}}, 'distance': 23, 'place_id': '519093844be60221c059fd6a6e35a1a04040f00102f9011e3bd74b0000000092030f486f74656c20456c204a6164696461'}, 'geometry': {'type': 'Point', 'coordinates': [-8.505663261350293, 33.25491969958782]}}]}\n",
      "el jadid - nearest hotel: Hotel El Jadida\n"
     ]
    },
    {
     "name": "stderr",
     "output_type": "stream",
     "text": [
      "ERROR:root:Error message:\n",
      "Traceback (most recent call last):\n",
      "  File \"C:\\Users\\Moburu\\AppData\\Local\\Temp\\ipykernel_26060\\1195407018.py\", line 36, in <module>\n",
      "    hotel_df.loc[index, \"Hotel Name\"] = name_address[\"features\"][0][\"properties\"][\"name\"]\n",
      "                                        ~~~~~~~~~~~~~~~~~~~~~~~~^^^\n",
      "IndexError: list index out of range\n"
     ]
    },
    {
     "name": "stdout",
     "output_type": "stream",
     "text": [
      "{'type': 'FeatureCollection', 'features': []}\n",
      "sinabang - nearest hotel: No hotel found\n"
     ]
    },
    {
     "name": "stderr",
     "output_type": "stream",
     "text": [
      "ERROR:root:Error message:\n",
      "Traceback (most recent call last):\n",
      "  File \"C:\\Users\\Moburu\\AppData\\Local\\Temp\\ipykernel_26060\\1195407018.py\", line 36, in <module>\n",
      "    hotel_df.loc[index, \"Hotel Name\"] = name_address[\"features\"][0][\"properties\"][\"name\"]\n",
      "                                        ~~~~~~~~~~~~~~~~~~~~~~~~^^^\n",
      "IndexError: list index out of range\n"
     ]
    },
    {
     "name": "stdout",
     "output_type": "stream",
     "text": [
      "{'type': 'FeatureCollection', 'features': []}\n",
      "ta`u - nearest hotel: No hotel found\n"
     ]
    },
    {
     "name": "stderr",
     "output_type": "stream",
     "text": [
      "ERROR:root:Error message:\n",
      "Traceback (most recent call last):\n",
      "  File \"C:\\Users\\Moburu\\AppData\\Local\\Temp\\ipykernel_26060\\1195407018.py\", line 36, in <module>\n",
      "    hotel_df.loc[index, \"Hotel Name\"] = name_address[\"features\"][0][\"properties\"][\"name\"]\n",
      "                                        ~~~~~~~~~~~~~~~~~~~~~~~~^^^\n",
      "IndexError: list index out of range\n"
     ]
    },
    {
     "name": "stdout",
     "output_type": "stream",
     "text": [
      "{'type': 'FeatureCollection', 'features': []}\n",
      "cassilandia - nearest hotel: No hotel found\n"
     ]
    },
    {
     "name": "stderr",
     "output_type": "stream",
     "text": [
      "ERROR:root:Error message:\n",
      "Traceback (most recent call last):\n",
      "  File \"C:\\Users\\Moburu\\AppData\\Local\\Temp\\ipykernel_26060\\1195407018.py\", line 36, in <module>\n",
      "    hotel_df.loc[index, \"Hotel Name\"] = name_address[\"features\"][0][\"properties\"][\"name\"]\n",
      "                                        ~~~~~~~~~~~~~~~~~~~~~~~~^^^\n",
      "IndexError: list index out of range\n"
     ]
    },
    {
     "name": "stdout",
     "output_type": "stream",
     "text": [
      "{'type': 'FeatureCollection', 'features': []}\n",
      "borogontsy - nearest hotel: No hotel found\n",
      "{'type': 'FeatureCollection', 'features': [{'type': 'Feature', 'properties': {'name': '深航国际酒店', 'country': 'China', 'country_code': 'cn', 'region': 'Kachgar', 'state': 'Xinjiang', 'city': 'Kashgar City', 'town': 'Pahataikeli', 'postcode': '844000', 'suburb': 'Xiyudadao Subdistrict', 'street': '克孜勒都维路', 'lon': 75.9908448, 'lat': 39.4560201, 'formatted': '深航国际酒店, 克孜勒都维路, Xiyudadao Subdistrict, 844000 Xinjiang, China', 'address_line1': '深航国际酒店', 'address_line2': '克孜勒都维路, Xiyudadao Subdistrict, 844000 Xinjiang, China', 'categories': ['accommodation', 'accommodation.hotel'], 'details': ['details'], 'datasource': {'sourcename': 'openstreetmap', 'attribution': '© OpenStreetMap contributors', 'license': 'Open Database License', 'url': 'https://www.openstreetmap.org/copyright', 'raw': {'name': '深航国际酒店', 'osm_id': 4642211013, 'name:ug': 'شېنخاڭ خەلقئارا مىھمانخانىسى', 'name:zh': '深航国际酒店', 'tourism': 'hotel', 'osm_type': 'n'}}, 'name_international': {'ug': 'شېنخاڭ خەلقئارا مىھمانخانىسى', 'zh': '深航国际酒店'}, 'distance': 970, 'place_id': '5159da4e006aff5240591552dcdd5eba4340f00103f901c584b21401000000920312e6b7b1e888aae59bbde99985e98592e5ba97'}, 'geometry': {'type': 'Point', 'coordinates': [75.9908448, 39.45602010019153]}}]}\n",
      "kashgar - nearest hotel: 深航国际酒店\n",
      "{'type': 'FeatureCollection', 'features': [{'type': 'Feature', 'properties': {'name': 'Thompson Inn', 'country': 'Canada', 'country_code': 'ca', 'state': 'Manitoba', 'county': 'Division No. 22', 'city': 'Thompson', 'postcode': 'R8N 0M9', 'street': 'Churchill Drive', 'lon': -97.85454892406887, 'lat': 55.74394045, 'state_code': 'MB', 'formatted': 'Thompson Inn, Churchill Drive, Thompson, MB R8N 0M9, Canada', 'address_line1': 'Thompson Inn', 'address_line2': 'Churchill Drive, Thompson, MB R8N 0M9, Canada', 'categories': ['accommodation', 'accommodation.hotel', 'building', 'building.accommodation'], 'details': [], 'datasource': {'sourcename': 'openstreetmap', 'attribution': '© OpenStreetMap contributors', 'license': 'Open Database License', 'url': 'https://www.openstreetmap.org/copyright', 'raw': {'name': 'Thompson Inn', 'osm_id': 594839918, 'tourism': 'hotel', 'building': 'yes', 'osm_type': 'w'}}, 'distance': 70, 'place_id': '514c6df8edb07658c05970c7ce7039df4b40f00102f9016e8974230000000092030c54686f6d70736f6e20496e6e'}, 'geometry': {'type': 'Point', 'coordinates': [-97.85454892406887, 55.743940449682555]}}]}\n",
      "thompson - nearest hotel: Thompson Inn\n",
      "{'type': 'FeatureCollection', 'features': [{'type': 'Feature', 'properties': {'name': 'Mikligarður', 'country': 'Iceland', 'country_code': 'is', 'state_district': 'Northwestern Region', 'county': 'Skagafjörður', 'city': 'Sauðárkrókur', 'postcode': '550', 'street': 'Skagfirðingabraut', 'housenumber': '24', 'lon': -19.644327527600858, 'lat': 65.74204075, 'formatted': 'Mikligarður, Skagfirðingabraut 24, 550 Sauðárkrókur, Iceland', 'address_line1': 'Mikligarður', 'address_line2': 'Skagfirðingabraut 24, 550 Sauðárkrókur, Iceland', 'categories': ['accommodation', 'accommodation.hotel', 'building', 'building.accommodation', 'internet_access', 'internet_access.free'], 'details': ['details', 'details.facilities'], 'datasource': {'sourcename': 'openstreetmap', 'attribution': '© OpenStreetMap contributors', 'license': 'Open Database License', 'url': 'https://www.openstreetmap.org/copyright', 'raw': {'name': 'Mikligarður', 'osm_id': 219454162, 'tourism': 'hotel', 'building': 'yes', 'osm_type': 'w', 'addr:city': 'Sauðárkrókur', 'addr:street': 'Skagfirðingabraut', 'ref:HNITNUM': 10041968, 'addr:postcode': 550, 'internet_access': 'wlan', 'addr:housenumber': 24, 'internet_access:fee': 'no'}}, 'ref_other': {'hnitnum': 10041968}, 'facilities': {'internet_access': True}, 'distance': 483, 'place_id': '5156f51aa6f2a433c059c9487a987d6f5040f00102f901d29a140d0000000092030c4d696b6c69676172c3b07572'}, 'geometry': {'type': 'Point', 'coordinates': [-19.644327527600886, 65.74204074804142]}}]}\n",
      "saudarkrokur - nearest hotel: Mikligarður\n"
     ]
    },
    {
     "name": "stderr",
     "output_type": "stream",
     "text": [
      "ERROR:root:Error message:\n",
      "Traceback (most recent call last):\n",
      "  File \"C:\\Users\\Moburu\\AppData\\Local\\Temp\\ipykernel_26060\\1195407018.py\", line 36, in <module>\n",
      "    hotel_df.loc[index, \"Hotel Name\"] = name_address[\"features\"][0][\"properties\"][\"name\"]\n",
      "                                        ~~~~~~~~~~~~~~~~~~~~~~~~^^^\n",
      "IndexError: list index out of range\n"
     ]
    },
    {
     "name": "stdout",
     "output_type": "stream",
     "text": [
      "{'type': 'FeatureCollection', 'features': []}\n",
      "ujae - nearest hotel: No hotel found\n",
      "{'type': 'FeatureCollection', 'features': [{'type': 'Feature', 'properties': {'name': \"Vinha d'Areia Beach Hotel\", 'old_name': 'Hotel Marina', 'country': 'Portugal', 'country_code': 'pt', 'city': 'Vila Franca do Campo', 'village': 'Ribeira Seca', 'postcode': '9680-146', 'street': 'Rua da Marina', 'lon': -25.428800758531874, 'lat': 37.716414, 'formatted': \"Vinha d'Areia Beach Hotel, Rua da Marina, 9680-146 Vila Franca do Campo, Portugal\", 'address_line1': \"Vinha d'Areia Beach Hotel\", 'address_line2': 'Rua da Marina, 9680-146 Vila Franca do Campo, Portugal', 'categories': ['accommodation', 'accommodation.hotel', 'building', 'building.accommodation'], 'details': ['details', 'details.contact'], 'datasource': {'sourcename': 'openstreetmap', 'attribution': '© OpenStreetMap contributors', 'license': 'Open Database License', 'url': 'https://www.openstreetmap.org/copyright', 'raw': {'name': \"Vinha d'Areia Beach Hotel\", 'email': 'beachhotel@vinhadareia.com', 'phone': '+351 296 539 200', 'osm_id': 306691732, 'tourism': 'hotel', 'building': 'yes', 'old_name': 'Hotel Marina', 'osm_type': 'w'}}, 'name_other': {'old_name': 'Hotel Marina'}, 'contact': {'phone': '+351 296 539 200', 'email': 'beachhotel@vinhadareia.com'}, 'distance': 342, 'place_id': '51fa64f2e2c56d39c05928133674b3db4240f00102f90194be47120000000092031956696e6861206427417265696120426561636820486f74656c'}, 'geometry': {'type': 'Point', 'coordinates': [-25.428800758531885, 37.71641399994252]}}]}\n",
      "vila franca do campo - nearest hotel: Vinha d'Areia Beach Hotel\n"
     ]
    },
    {
     "name": "stderr",
     "output_type": "stream",
     "text": [
      "ERROR:root:Error message:\n",
      "Traceback (most recent call last):\n",
      "  File \"C:\\Users\\Moburu\\AppData\\Local\\Temp\\ipykernel_26060\\1195407018.py\", line 36, in <module>\n",
      "    hotel_df.loc[index, \"Hotel Name\"] = name_address[\"features\"][0][\"properties\"][\"name\"]\n",
      "                                        ~~~~~~~~~~~~~~~~~~~~~~~~^^^\n",
      "IndexError: list index out of range\n"
     ]
    },
    {
     "name": "stdout",
     "output_type": "stream",
     "text": [
      "{'type': 'FeatureCollection', 'features': []}\n",
      "papatowai - nearest hotel: No hotel found\n"
     ]
    },
    {
     "name": "stderr",
     "output_type": "stream",
     "text": [
      "ERROR:root:Error message:\n",
      "Traceback (most recent call last):\n",
      "  File \"C:\\Users\\Moburu\\AppData\\Local\\Temp\\ipykernel_26060\\1195407018.py\", line 36, in <module>\n",
      "    hotel_df.loc[index, \"Hotel Name\"] = name_address[\"features\"][0][\"properties\"][\"name\"]\n",
      "                                        ~~~~~~~~~~~~~~~~~~~~~~~~^^^\n",
      "IndexError: list index out of range\n"
     ]
    },
    {
     "name": "stdout",
     "output_type": "stream",
     "text": [
      "{'type': 'FeatureCollection', 'features': []}\n",
      "waraseoni - nearest hotel: No hotel found\n",
      "{'type': 'FeatureCollection', 'features': [{'type': 'Feature', 'properties': {'name': 'Paradise Inn', 'country': 'Cook Islands', 'country_code': 'ck', 'state': 'Rarotonga', 'city': 'Avarua', 'suburb': 'Pue', 'street': 'Ara Tapu', 'lon': -159.76973499504317, 'lat': -21.20506505, 'formatted': 'Paradise Inn, Ara Tapu, Avarua, Cook Islands', 'address_line1': 'Paradise Inn', 'address_line2': 'Ara Tapu, Avarua, Cook Islands', 'categories': ['accommodation', 'accommodation.hotel', 'building', 'building.accommodation'], 'details': ['details.accommodation'], 'datasource': {'sourcename': 'openstreetmap', 'attribution': '© OpenStreetMap contributors', 'license': 'Open Database License', 'url': 'https://www.openstreetmap.org/copyright', 'raw': {'name': 'Paradise Inn', 'stars': 3, 'osm_id': 298277330, 'tourism': 'hotel', 'building': 'yes', 'osm_type': 'w'}}, 'accommodation': {'stars': 3}, 'distance': 610, 'place_id': '5181c948aba1f863c059a687a4247f3435c0f00102f901d259c7110000000092030c506172616469736520496e6e'}, 'geometry': {'type': 'Point', 'coordinates': [-159.76973499504314, -21.205065050285747]}}]}\n",
      "avarua - nearest hotel: Paradise Inn\n",
      "{'type': 'FeatureCollection', 'features': [{'type': 'Feature', 'properties': {'name': 'Baobab', 'country': 'Madagascar', 'country_code': 'mg', 'region': 'Province de Toliara', 'state': 'Menabe', 'city': 'Miandrivazo', 'street': 'rue de la paix', 'lon': 45.4579946, 'lat': -19.5221931, 'formatted': 'Baobab, rue de la paix, Miandrivazo, Madagascar', 'address_line1': 'Baobab', 'address_line2': 'rue de la paix, Miandrivazo, Madagascar', 'categories': ['accommodation', 'accommodation.hotel'], 'details': [], 'datasource': {'sourcename': 'openstreetmap', 'attribution': '© OpenStreetMap contributors', 'license': 'Open Database License', 'url': 'https://www.openstreetmap.org/copyright', 'raw': {'name': 'Baobab', 'osm_id': 893144601, 'tourism': 'hotel', 'osm_type': 'n'}}, 'distance': 1098, 'place_id': '514f5f2a919fba46405930827072ae8533c0f00103f901194e3c350000000092030642616f626162'}, 'geometry': {'type': 'Point', 'coordinates': [45.4579946, -19.522193100421816]}}]}\n",
      "miandrivazo - nearest hotel: Baobab\n",
      "{'type': 'FeatureCollection', 'features': [{'type': 'Feature', 'properties': {'name': 'Plaza sal paraiso', 'country': 'Mexico', 'country_code': 'mx', 'state': 'Baja California Sur', 'county': 'Municipio de Mulegé', 'city': 'Guerrero Negro', 'postcode': '23940', 'street': 'Calle Sergio Noyola N.', 'lon': -114.0459381, 'lat': 27.9705567, 'state_code': 'BCS', 'formatted': 'Plaza sal paraiso, Calle Sergio Noyola N., 23940 Guerrero Negro, BCS, Mexico', 'address_line1': 'Plaza sal paraiso', 'address_line2': 'Calle Sergio Noyola N., 23940 Guerrero Negro, BCS, Mexico', 'categories': ['accommodation', 'accommodation.hotel'], 'details': ['details'], 'datasource': {'sourcename': 'openstreetmap', 'attribution': '© OpenStreetMap contributors', 'license': 'Open Database License', 'url': 'https://www.openstreetmap.org/copyright', 'raw': {'name': 'Plaza sal paraiso', 'osm_id': 4562814990, 'name:es': 'Plaza sal paraiso', 'tourism': 'hotel', 'osm_type': 'n'}}, 'name_international': {'es': 'Plaza sal paraiso'}, 'distance': 1649, 'place_id': '51fb485ba6f0825cc0596932656776f83b40f00103f9010e08f70f01000000920311506c617a612073616c207061726169736f'}, 'geometry': {'type': 'Point', 'coordinates': [-114.04593809999999, 27.97055669994953]}}]}\n",
      "guerrero negro - nearest hotel: Plaza sal paraiso\n",
      "{'type': 'FeatureCollection', 'features': [{'type': 'Feature', 'properties': {'name': 'Margaret River Hotel', 'country': 'Australia', 'country_code': 'au', 'state': 'Western Australia', 'city': 'Margaret River', 'municipality': 'Shire Of Augusta Margaret River', 'postcode': '6285', 'street': 'Bussell Highway', 'housenumber': '125', 'lon': 115.07406977212311, 'lat': -33.951423899999995, 'state_code': 'WA', 'formatted': 'Margaret River Hotel, 125 Bussell Highway, Margaret River WA 6285, Australia', 'address_line1': 'Margaret River Hotel', 'address_line2': '125 Bussell Highway, Margaret River WA 6285, Australia', 'categories': ['accommodation', 'accommodation.hotel', 'building', 'building.accommodation'], 'details': ['details', 'details.contact'], 'datasource': {'sourcename': 'openstreetmap', 'attribution': '© OpenStreetMap contributors', 'license': 'Open Database License', 'url': 'https://www.openstreetmap.org/copyright', 'raw': {'fax': '+61 8 9757 2994', 'name': 'Margaret River Hotel', 'email': 'bookings@margaretriverhotel.com.au', 'phone': '+61 8 9757 2655', 'osm_id': 1269006937, 'tourism': 'hotel', 'website': 'https://margaretriverhotel.com.au/', 'building': 'yes', 'osm_type': 'w', 'addr:city': 'Margaret River', 'addr:street': 'Bussell Highway', 'addr:country': 'AU', 'addr:postcode': 6285, 'addr:housenumber': 125}}, 'website': 'https://margaretriverhotel.com.au/', 'contact': {'phone': '+61 8 9757 2655', 'email': 'bookings@margaretriverhotel.com.au', 'fax': '+61 8 9757 2994'}, 'distance': 681, 'place_id': '510639248fbdc45c4059ece12242c8f940c0f00102f9015982a34b000000009203144d6172676172657420526976657220486f74656c'}, 'geometry': {'type': 'Point', 'coordinates': [115.07406977212312, -33.951423899681544]}}]}\n",
      "margaret river - nearest hotel: Margaret River Hotel\n",
      "{'type': 'FeatureCollection', 'features': [{'type': 'Feature', 'properties': {'name': 'Янтарная', 'country': 'Russia', 'country_code': 'ru', 'region': 'Ural Federal District', 'state': 'Yamalo-Nenets Autonomous Okrug', 'county': 'Nadymsky Rayon', 'city': 'Nadym', 'postcode': '626710', 'street': 'Спортивная улица', 'housenumber': '1', 'lon': 72.5146756, 'lat': 65.5284587, 'formatted': 'Янтарная, Спортивная улица 1, Nadym, Yamalo-Nenets Autonomous Okrug, Russia, 626710', 'address_line1': 'Янтарная', 'address_line2': 'Спортивная улица 1, Nadym, Yamalo-Nenets Autonomous Okrug, Russia, 626710', 'categories': ['accommodation', 'accommodation.hotel'], 'details': [], 'datasource': {'sourcename': 'openstreetmap', 'attribution': '© OpenStreetMap contributors', 'license': 'Open Database License', 'url': 'https://www.openstreetmap.org/copyright', 'raw': {'name': 'Янтарная', 'osm_id': 5477382410, 'tourism': 'hotel', 'osm_type': 'n'}}, 'distance': 548, 'place_id': '512583ed71f020524059d19b6e44d2615040f00103f9010a397a4601000000920310d0afd0bdd182d0b0d180d0bdd0b0d18f'}, 'geometry': {'type': 'Point', 'coordinates': [72.51467559999999, 65.52845869828822]}}]}\n",
      "nadym - nearest hotel: Янтарная\n"
     ]
    },
    {
     "name": "stderr",
     "output_type": "stream",
     "text": [
      "ERROR:root:Error message:\n",
      "Traceback (most recent call last):\n",
      "  File \"C:\\Users\\Moburu\\AppData\\Local\\Temp\\ipykernel_26060\\1195407018.py\", line 36, in <module>\n",
      "    hotel_df.loc[index, \"Hotel Name\"] = name_address[\"features\"][0][\"properties\"][\"name\"]\n",
      "                                        ~~~~~~~~~~~~~~~~~~~~~~~~^^^\n",
      "IndexError: list index out of range\n"
     ]
    },
    {
     "name": "stdout",
     "output_type": "stream",
     "text": [
      "{'type': 'FeatureCollection', 'features': []}\n",
      "selty - nearest hotel: No hotel found\n",
      "{'type': 'FeatureCollection', 'features': [{'type': 'Feature', 'properties': {'name': 'Айсберг', 'country': 'Russia', 'country_code': 'ru', 'region': 'Far Eastern Federal District', 'state': 'Sakhalin Oblast', 'county': 'Yuzhno-Kurilsky District', 'city': 'Yuzhno-Kurilsk', 'postcode': '694500', 'street': 'Океанская улица', 'housenumber': '5', 'lon': 145.86315470926638, 'lat': 44.0300114, 'formatted': 'Айсберг, Океанская улица 5, Yuzhno-Kurilsk, Sakhalin Oblast, Russia, 694500', 'address_line1': 'Айсберг', 'address_line2': 'Океанская улица 5, Yuzhno-Kurilsk, Sakhalin Oblast, Russia, 694500', 'categories': ['accommodation', 'accommodation.hotel', 'building', 'building.accommodation', 'internet_access', 'internet_access.for_customers'], 'details': ['details', 'details.facilities'], 'datasource': {'sourcename': 'openstreetmap', 'attribution': '© OpenStreetMap contributors', 'license': 'Open Database License', 'url': 'https://www.openstreetmap.org/copyright', 'raw': {'name': 'Айсберг', 'osm_id': 219579253, 'tourism': 'hotel', 'website': 'https://kunashirotel.ru/', 'building': 'yes', 'osm_type': 'w', 'addr:city': 'Южно-Курильск', 'addr:street': 'Океанская улица', 'addr:postcode': 694500, 'internet_access': 'wlan', 'addr:housenumber': 5, 'internet_access:fee': 'customers'}}, 'website': 'https://kunashirotel.ru/', 'facilities': {'internet_access': True}, 'distance': 599, 'place_id': '51fff59ff69e3b6240592ee5df69d7034640f00102f9017583160d0000000092030ed090d0b9d181d0b1d0b5d180d0b3'}, 'geometry': {'type': 'Point', 'coordinates': [145.86315470926635, 44.03001140053162]}}]}\n",
      "yuzhno-kurilsk - nearest hotel: Айсберг\n"
     ]
    },
    {
     "name": "stderr",
     "output_type": "stream",
     "text": [
      "ERROR:root:Error message:\n",
      "Traceback (most recent call last):\n",
      "  File \"C:\\Users\\Moburu\\AppData\\Local\\Temp\\ipykernel_26060\\1195407018.py\", line 36, in <module>\n",
      "    hotel_df.loc[index, \"Hotel Name\"] = name_address[\"features\"][0][\"properties\"][\"name\"]\n",
      "                                        ~~~~~~~~~~~~~~~~~~~~~~~~~~~~~~~~~~~~~~~~~^^^^^^^^\n",
      "KeyError: 'name'\n"
     ]
    },
    {
     "name": "stdout",
     "output_type": "stream",
     "text": [
      "{'type': 'FeatureCollection', 'features': [{'type': 'Feature', 'properties': {'country': 'Japan', 'country_code': 'jp', 'county': 'Kamihei County', 'province': 'Iwate Prefecture', 'city': 'Otsuchi', 'postcode': '028-1101', 'district': 'Kirikiri 3-chome', 'street': 'National Highway Route 45', 'lon': 141.9386700088068, 'lat': 39.38111635, 'formatted': 'National Highway Route 45, Otsuchi, Kirikiri 3-chome 028-1101, Japan', 'address_line1': 'National Highway Route 45', 'address_line2': 'Otsuchi, Kirikiri 3-chome 028-1101, Japan', 'categories': ['accommodation', 'accommodation.hotel', 'building', 'building.accommodation'], 'details': [], 'datasource': {'sourcename': 'openstreetmap', 'attribution': '© OpenStreetMap contributors', 'license': 'Open Database License', 'url': 'https://www.openstreetmap.org/copyright', 'raw': {'osm_id': 239696638, 'tourism': 'hotel', 'building': 'yes', 'osm_type': 'w'}}, 'distance': 9506, 'place_id': '51f6b1af9509be614059b1ffa96bc8b04340f00102f901fe7a490e00000000'}, 'geometry': {'type': 'Point', 'coordinates': [141.9386700088068, 39.38111635018084]}}]}\n",
      "yamada - nearest hotel: No hotel found\n"
     ]
    },
    {
     "name": "stderr",
     "output_type": "stream",
     "text": [
      "ERROR:root:Error message:\n",
      "Traceback (most recent call last):\n",
      "  File \"C:\\Users\\Moburu\\AppData\\Local\\Temp\\ipykernel_26060\\1195407018.py\", line 36, in <module>\n",
      "    hotel_df.loc[index, \"Hotel Name\"] = name_address[\"features\"][0][\"properties\"][\"name\"]\n",
      "                                        ~~~~~~~~~~~~~~~~~~~~~~~~^^^\n",
      "IndexError: list index out of range\n"
     ]
    },
    {
     "name": "stdout",
     "output_type": "stream",
     "text": [
      "{'type': 'FeatureCollection', 'features': []}\n",
      "seorinarayan - nearest hotel: No hotel found\n",
      "{'type': 'FeatureCollection', 'features': [{'type': 'Feature', 'properties': {'name': \"Sandman Signature St. John's Hotel\", 'country': 'Canada', 'country_code': 'ca', 'state': 'Newfoundland and Labrador', 'county': 'Newfoundland', 'city': \"St. John's\", 'postcode': 'A1B 3P9', 'street': 'Kenmount Road', 'housenumber': '227', 'lon': -52.77338018737129, 'lat': 47.551482750000005, 'state_code': 'NL', 'formatted': \"Sandman Signature St. John's Hotel, 227 Kenmount Road, St. John's, NL A1B 3P9, Canada\", 'address_line1': \"Sandman Signature St. John's Hotel\", 'address_line2': \"227 Kenmount Road, St. John's, NL A1B 3P9, Canada\", 'categories': ['accommodation', 'accommodation.hotel', 'building', 'building.accommodation'], 'details': ['details', 'details.contact'], 'datasource': {'sourcename': 'openstreetmap', 'attribution': '© OpenStreetMap contributors', 'license': 'Open Database License', 'url': 'https://www.openstreetmap.org/copyright', 'raw': {'name': \"Sandman Signature St. John's Hotel\", 'brand': 'Sandman Hotels', 'phone': '+1-709-701-0048', 'osm_id': 1227032013, 'tourism': 'hotel', 'website': 'https://www.sandmanhotels.com/', 'building': 'yes', 'osm_type': 'w', 'addr:city': \"St. John's\", 'addr:street': 'Kenmount Road', 'addr:postcode': 'A1B 3P9', 'addr:province': 'NL', 'addr:housenumber': 227}}, 'website': 'https://www.sandmanhotels.com/', 'brand': 'Sandman Hotels', 'contact': {'phone': '+1-709-701-0048'}, 'distance': 3884, 'place_id': '5127113a1ffe624ac0598fde9bfc96c64740f00102f901cd0523490000000092032253616e646d616e205369676e61747572652053742e204a6f686e277320486f74656c'}, 'geometry': {'type': 'Point', 'coordinates': [-52.77338018737128, 47.55148275004205]}}]}\n",
      "mount pearl - nearest hotel: Sandman Signature St. John's Hotel\n",
      "{'type': 'FeatureCollection', 'features': [{'type': 'Feature', 'properties': {'name': 'Cabañas', 'country': 'Chile', 'country_code': 'cl', 'state': 'Los Lagos Region', 'county': 'Provincia de Chiloé', 'city': 'Ancud', 'postcode': '1300000', 'district': 'Villa Tantauco', 'street': 'Federico Errázuriz', 'lon': -73.82567887114084, 'lat': -41.87020295, 'formatted': 'Cabañas, Federico Errázuriz, 130 0000 Ancud, Chile', 'address_line1': 'Cabañas', 'address_line2': 'Federico Errázuriz, 130 0000 Ancud, Chile', 'categories': ['accommodation', 'accommodation.hotel'], 'details': [], 'datasource': {'sourcename': 'openstreetmap', 'attribution': '© OpenStreetMap contributors', 'license': 'Open Database License', 'url': 'https://www.openstreetmap.org/copyright', 'raw': {'name': 'Cabañas', 'osm_id': 223231543, 'tourism': 'hotel', 'osm_type': 'w'}}, 'distance': 434, 'place_id': '51142331ecd77452c05932c66fcf62ef44c0f00102f901373e4e0d0000000092030843616261c3b16173'}, 'geometry': {'type': 'Point', 'coordinates': [-73.82567887114084, -41.870202951028105]}}]}\n",
      "ancud - nearest hotel: Cabañas\n",
      "{'type': 'FeatureCollection', 'features': [{'type': 'Feature', 'properties': {'name': 'Page 63 hostel', 'country': 'Malaysia', 'country_code': 'my', 'state': 'Penang', 'county': 'Central George Town', 'city': 'George Town', 'postcode': '10300', 'district': 'North-East', 'neighbourhood': 'New Jetty', 'street': 'Beach Street', 'lon': 100.3348405, 'lat': 5.4123233, 'formatted': 'Page 63 hostel, Beach Street, 10300 George Town, Penang, Malaysia', 'address_line1': 'Page 63 hostel', 'address_line2': 'Beach Street, 10300 George Town, Penang, Malaysia', 'categories': ['accommodation', 'accommodation.hotel'], 'details': [], 'datasource': {'sourcename': 'openstreetmap', 'attribution': '© OpenStreetMap contributors', 'license': 'Open Database License', 'url': 'https://www.openstreetmap.org/copyright', 'raw': {'name': 'Page 63 hostel', 'osm_id': 1787922322, 'tourism': 'hotel', 'osm_type': 'n'}}, 'distance': 139, 'place_id': '511438d9066e15594059468f3a1438a61540f00103f9019287916a0000000092030e5061676520363320686f7374656c'}, 'geometry': {'type': 'Point', 'coordinates': [100.33484049999998, 5.41232329947872]}}]}\n",
      "georgetown - nearest hotel: Page 63 hostel\n",
      "{'type': 'FeatureCollection', 'features': [{'type': 'Feature', 'properties': {'name': 'Ocean Centre Hotel', 'country': 'Australia', 'country_code': 'au', 'state': 'Western Australia', 'city': 'Geraldton', 'municipality': 'City Of Greater Geraldton', 'postcode': '6530', 'district': 'Geraldton', 'street': 'Foreshore Drive', 'lon': 114.6082363681642, 'lat': -28.7738729, 'state_code': 'WA', 'formatted': 'Ocean Centre Hotel, Foreshore Drive, Geraldton WA 6530, Australia', 'address_line1': 'Ocean Centre Hotel', 'address_line2': 'Foreshore Drive, Geraldton WA 6530, Australia', 'categories': ['accommodation', 'accommodation.hotel', 'building', 'building.accommodation'], 'details': ['details', 'details.accommodation', 'details.contact'], 'datasource': {'sourcename': 'openstreetmap', 'attribution': '© OpenStreetMap contributors', 'license': 'Open Database License', 'url': 'https://www.openstreetmap.org/copyright', 'raw': {'name': 'Ocean Centre Hotel', 'rooms': 92, 'stars': 4, 'osm_id': 415383214, 'tourism': 'hotel', 'website': 'https://oceancentrehotel.com.au', 'building': 'hotel', 'osm_type': 'w', 'addr:state': 'WA', 'addr:suburb': 'Geraldton', 'addr:postcode': 6530, 'contact:email': 'stay@oceancentrehotel.com.au', 'contact:phone': '+61 8 9921 7777'}}, 'website': 'https://oceancentrehotel.com.au', 'contact': {'phone': '+61 8 9921 7777', 'email': 'stay@oceancentrehotel.com.au'}, 'accommodation': {'stars': 4, 'rooms': 92}, 'building': {'type': 'hotel'}, 'distance': 1116, 'place_id': '5132603b58eda65c40591000ca881cc63cc0f00102f901ae3ec218000000009203124f6365616e2043656e74726520486f74656c'}, 'geometry': {'type': 'Point', 'coordinates': [114.6082363681642, -28.773872899357286]}}]}\n",
      "geraldton - nearest hotel: Ocean Centre Hotel\n"
     ]
    },
    {
     "name": "stderr",
     "output_type": "stream",
     "text": [
      "ERROR:root:Error message:\n",
      "Traceback (most recent call last):\n",
      "  File \"C:\\Users\\Moburu\\AppData\\Local\\Temp\\ipykernel_26060\\1195407018.py\", line 36, in <module>\n",
      "    hotel_df.loc[index, \"Hotel Name\"] = name_address[\"features\"][0][\"properties\"][\"name\"]\n",
      "                                        ~~~~~~~~~~~~~~~~~~~~~~~~^^^\n",
      "IndexError: list index out of range\n"
     ]
    },
    {
     "name": "stdout",
     "output_type": "stream",
     "text": [
      "{'type': 'FeatureCollection', 'features': []}\n",
      "tongouson - nearest hotel: No hotel found\n",
      "{'type': 'FeatureCollection', 'features': [{'type': 'Feature', 'properties': {'name': 'ホテルウラガ', 'country': 'Japan', 'country_code': 'jp', 'county': 'Shizuoka Prefecture', 'city': 'Shimoda', 'postcode': '415-8501', 'district': '2-chome', 'street': '大横町通り', 'lon': 138.9434364, 'lat': 34.6726378, 'formatted': 'ホテルウラガ, 大横町通り, Shimoda, 2-chome 415-8501, Japan', 'address_line1': 'ホテルウラガ', 'address_line2': '大横町通り, Shimoda, 2-chome 415-8501, Japan', 'categories': ['accommodation', 'accommodation.hotel'], 'details': [], 'datasource': {'sourcename': 'openstreetmap', 'attribution': '© OpenStreetMap contributors', 'license': 'Open Database License', 'url': 'https://www.openstreetmap.org/copyright', 'raw': {'name': 'ホテルウラガ', 'osm_id': 5537803035, 'tourism': 'hotel', 'osm_type': 'n'}}, 'distance': 892, 'place_id': '51647b88a1305e61405935bcd3fe18564140f00103f9011b2b144a01000000920312e3839be38386e383abe382a6e383a9e382ac'}, 'geometry': {'type': 'Point', 'coordinates': [138.9434364, 34.672637799631424]}}]}\n",
      "shimoda - nearest hotel: ホテルウラガ\n"
     ]
    },
    {
     "name": "stderr",
     "output_type": "stream",
     "text": [
      "ERROR:root:Error message:\n",
      "Traceback (most recent call last):\n",
      "  File \"C:\\Users\\Moburu\\AppData\\Local\\Temp\\ipykernel_26060\\1195407018.py\", line 36, in <module>\n",
      "    hotel_df.loc[index, \"Hotel Name\"] = name_address[\"features\"][0][\"properties\"][\"name\"]\n",
      "                                        ~~~~~~~~~~~~~~~~~~~~~~~~^^^\n",
      "IndexError: list index out of range\n"
     ]
    },
    {
     "name": "stdout",
     "output_type": "stream",
     "text": [
      "{'type': 'FeatureCollection', 'features': []}\n",
      "canutama - nearest hotel: No hotel found\n",
      "{'type': 'FeatureCollection', 'features': [{'type': 'Feature', 'properties': {'name': 'Ibis Styles', 'country': 'Australia', 'country_code': 'au', 'state': 'New South Wales', 'county': 'Broken Hill City Council', 'city': 'Broken Hill', 'postcode': '2880', 'district': 'Central Broken Hill', 'street': 'Argent Street', 'lon': 141.4612013, 'lat': -31.9607044, 'state_code': 'NSW', 'formatted': 'Ibis Styles, Argent Street, Broken Hill NSW 2880, Australia', 'address_line1': 'Ibis Styles', 'address_line2': 'Argent Street, Broken Hill NSW 2880, Australia', 'categories': ['accommodation', 'accommodation.hotel'], 'details': ['details'], 'datasource': {'sourcename': 'openstreetmap', 'attribution': '© OpenStreetMap contributors', 'license': 'Open Database License', 'url': 'https://www.openstreetmap.org/copyright', 'raw': {'name': 'Ibis Styles', 'brand': 'Ibis Styles', 'osm_id': 4894704551, 'tourism': 'hotel', 'osm_type': 'n', 'brand:wikidata': 'Q3147425', 'brand:wikipedia': 'en:Ibis Styles'}}, 'brand': 'Ibis Styles', 'brand_details': {'wikidata': 'Q3147425', 'wikipedia': 'en:Ibis Styles'}, 'distance': 2893, 'place_id': '51ec8b3a29c2ae614059df9238b9f0f53fc0f00103f901a743bf230100000092030b49626973205374796c6573'}, 'geometry': {'type': 'Point', 'coordinates': [141.46120129999997, -31.960704399406378]}}]}\n",
      "broken hill - nearest hotel: Ibis Styles\n"
     ]
    },
    {
     "name": "stderr",
     "output_type": "stream",
     "text": [
      "ERROR:root:Error message:\n",
      "Traceback (most recent call last):\n",
      "  File \"C:\\Users\\Moburu\\AppData\\Local\\Temp\\ipykernel_26060\\1195407018.py\", line 36, in <module>\n",
      "    hotel_df.loc[index, \"Hotel Name\"] = name_address[\"features\"][0][\"properties\"][\"name\"]\n",
      "                                        ~~~~~~~~~~~~~~~~~~~~~~~~^^^\n",
      "IndexError: list index out of range\n"
     ]
    },
    {
     "name": "stdout",
     "output_type": "stream",
     "text": [
      "{'type': 'FeatureCollection', 'features': []}\n",
      "tongliao - nearest hotel: No hotel found\n"
     ]
    },
    {
     "name": "stderr",
     "output_type": "stream",
     "text": [
      "ERROR:root:Error message:\n",
      "Traceback (most recent call last):\n",
      "  File \"C:\\Users\\Moburu\\AppData\\Local\\Temp\\ipykernel_26060\\1195407018.py\", line 36, in <module>\n",
      "    hotel_df.loc[index, \"Hotel Name\"] = name_address[\"features\"][0][\"properties\"][\"name\"]\n",
      "                                        ~~~~~~~~~~~~~~~~~~~~~~~~^^^\n",
      "IndexError: list index out of range\n"
     ]
    },
    {
     "name": "stdout",
     "output_type": "stream",
     "text": [
      "{'type': 'FeatureCollection', 'features': []}\n",
      "klyuchi - nearest hotel: No hotel found\n",
      "{'type': 'FeatureCollection', 'features': [{'type': 'Feature', 'properties': {'name': 'SØMA', 'country': 'Greenland', 'country_code': 'gl', 'state': 'Qeqertalik', 'city': 'Aasiaat', 'postcode': '3950', 'street': 'Katsiaap Aqquserna', 'lon': -52.8797412249141, 'lat': 68.7067777, 'formatted': 'SØMA, Katsiaap Aqquserna, 3950 Aasiaat, Greenland', 'address_line1': 'SØMA', 'address_line2': 'Katsiaap Aqquserna, 3950 Aasiaat, Greenland', 'categories': ['accommodation', 'accommodation.hotel', 'building', 'building.accommodation', 'building.catering', 'internet_access'], 'details': ['details.accommodation', 'details.contact', 'details.facilities'], 'datasource': {'sourcename': 'openstreetmap', 'attribution': '© OpenStreetMap contributors', 'license': 'Open Database License', 'url': 'https://www.openstreetmap.org/copyright', 'raw': {'name': 'SØMA', 'email': 'aasiaat@soemandshjem.gl', 'level': 2, 'phone': '+299892711', 'rooms': 52, 'osm_id': 437469227, 'cuisine': 'fast_food;dagens_ret', 'smoking': 'no', 'tourism': 'hotel', 'building': 'yes', 'osm_type': 'w', 'addr:city': 'Aasiaat', 'addr:street': 'SØMA', 'addr:postcode': 3950, 'internet_access': 'yes', 'internet_access:fee': 'yes'}}, 'contact': {'phone': '+299892711', 'email': 'aasiaat@soemandshjem.gl'}, 'facilities': {'internet_access': True, 'smoking': False}, 'accommodation': {'rooms': 52}, 'distance': 508, 'place_id': '517bf9465c9b704ac0592ed285d83b2d5140f00102f9012b40131a0000000092030553c3984d41'}, 'geometry': {'type': 'Point', 'coordinates': [-52.879741224914106, 68.70677769726237]}}]}\n",
      "aasiaat - nearest hotel: SØMA\n",
      "{'type': 'FeatureCollection', 'features': [{'type': 'Feature', 'properties': {'name': 'App Leyma', 'country': 'Spain', 'country_code': 'es', 'county': 'Santa Cruz de Tenerife', 'city': 'Tazacorte', 'hamlet': 'Cardón', 'postcode': '38770', 'district': 'Marina', 'street': 'Avenida Felipe Lorenzo', 'housenumber': '8', 'lon': -17.9318466, 'lat': 28.6400523, 'formatted': 'App Leyma, Avenida Felipe Lorenzo, 8, 38770 Tazacorte, Spain', 'address_line1': 'App Leyma', 'address_line2': 'Avenida Felipe Lorenzo, 8, 38770 Tazacorte, Spain', 'categories': ['accommodation', 'accommodation.hotel'], 'details': ['details.contact'], 'datasource': {'sourcename': 'openstreetmap', 'attribution': '© OpenStreetMap contributors', 'license': 'Open Database License', 'url': 'https://www.openstreetmap.org/copyright', 'raw': {'name': 'App Leyma', 'phone': '+34 636 95 90 64', 'osm_id': 1193597818, 'tourism': 'hotel', 'osm_type': 'n', 'addr:city': 'Tazacorte', 'addr:street': 'Avenida Felipe Lorenzo', 'addr:postcode': 38770, 'addr:housenumber': 8, 'contact:facebook': 'https://www.facebook.com/Apartamentos-LEYMA-847906645282575/'}}, 'contact': {'phone': '+34 636 95 90 64'}, 'distance': 1250, 'place_id': '5188e3af7f8dee31c05929b2af77daa33c40f00103f9017adb244700000000920309417070204c65796d61'}, 'geometry': {'type': 'Point', 'coordinates': [-17.9318466, 28.64005229987575]}}]}\n",
      "tazacorte - nearest hotel: App Leyma\n",
      "{'type': 'FeatureCollection', 'features': [{'type': 'Feature', 'properties': {'name': 'Rydges Palmerston', 'country': 'Australia', 'country_code': 'au', 'county': 'City of Palmerston', 'city': 'Palmerston', 'postcode': '0830', 'district': 'Palmerston City', 'suburb': 'Palmerston City', 'street': 'Maluka Drive', 'lon': 130.9881829, 'lat': -12.4812282, 'formatted': 'Rydges Palmerston, Maluka Drive, Palmerston City 0830, Australia', 'address_line1': 'Rydges Palmerston', 'address_line2': 'Maluka Drive, Palmerston City 0830, Australia', 'categories': ['accommodation', 'accommodation.hotel'], 'details': [], 'datasource': {'sourcename': 'openstreetmap', 'attribution': '© OpenStreetMap contributors', 'license': 'Open Database License', 'url': 'https://www.openstreetmap.org/copyright', 'raw': {'name': 'Rydges Palmerston', 'osm_id': 11270701974, 'tourism': 'hotel', 'osm_type': 'n'}}, 'distance': 6627, 'place_id': '51eebebe319f5f6040599634eb8a63f628c0f00103f9019643c99f020000009203115279646765732050616c6d657273746f6e'}, 'geometry': {'type': 'Point', 'coordinates': [130.98818290000003, -12.481228200160597]}}]}\n",
      "howard springs - nearest hotel: Rydges Palmerston\n"
     ]
    },
    {
     "name": "stderr",
     "output_type": "stream",
     "text": [
      "ERROR:root:Error message:\n",
      "Traceback (most recent call last):\n",
      "  File \"C:\\Users\\Moburu\\AppData\\Local\\Temp\\ipykernel_26060\\1195407018.py\", line 36, in <module>\n",
      "    hotel_df.loc[index, \"Hotel Name\"] = name_address[\"features\"][0][\"properties\"][\"name\"]\n",
      "                                        ~~~~~~~~~~~~~~~~~~~~~~~~^^^\n",
      "IndexError: list index out of range\n"
     ]
    },
    {
     "name": "stdout",
     "output_type": "stream",
     "text": [
      "{'type': 'FeatureCollection', 'features': []}\n",
      "blackwater - nearest hotel: No hotel found\n"
     ]
    },
    {
     "name": "stderr",
     "output_type": "stream",
     "text": [
      "ERROR:root:Error message:\n",
      "Traceback (most recent call last):\n",
      "  File \"C:\\Users\\Moburu\\AppData\\Local\\Temp\\ipykernel_26060\\1195407018.py\", line 36, in <module>\n",
      "    hotel_df.loc[index, \"Hotel Name\"] = name_address[\"features\"][0][\"properties\"][\"name\"]\n",
      "                                        ~~~~~~~~~~~~~~~~~~~~~~~~^^^\n",
      "IndexError: list index out of range\n"
     ]
    },
    {
     "name": "stdout",
     "output_type": "stream",
     "text": [
      "{'type': 'FeatureCollection', 'features': []}\n",
      "yangambi - nearest hotel: No hotel found\n"
     ]
    },
    {
     "name": "stderr",
     "output_type": "stream",
     "text": [
      "ERROR:root:Error message:\n",
      "Traceback (most recent call last):\n",
      "  File \"C:\\Users\\Moburu\\AppData\\Local\\Temp\\ipykernel_26060\\1195407018.py\", line 36, in <module>\n",
      "    hotel_df.loc[index, \"Hotel Name\"] = name_address[\"features\"][0][\"properties\"][\"name\"]\n",
      "                                        ~~~~~~~~~~~~~~~~~~~~~~~~^^^\n",
      "IndexError: list index out of range\n"
     ]
    },
    {
     "name": "stdout",
     "output_type": "stream",
     "text": [
      "{'type': 'FeatureCollection', 'features': []}\n",
      "san patricio - nearest hotel: No hotel found\n"
     ]
    },
    {
     "name": "stderr",
     "output_type": "stream",
     "text": [
      "ERROR:root:Error message:\n",
      "Traceback (most recent call last):\n",
      "  File \"C:\\Users\\Moburu\\AppData\\Local\\Temp\\ipykernel_26060\\1195407018.py\", line 36, in <module>\n",
      "    hotel_df.loc[index, \"Hotel Name\"] = name_address[\"features\"][0][\"properties\"][\"name\"]\n",
      "                                        ~~~~~~~~~~~~~~~~~~~~~~~~^^^\n",
      "IndexError: list index out of range\n"
     ]
    },
    {
     "name": "stdout",
     "output_type": "stream",
     "text": [
      "{'type': 'FeatureCollection', 'features': []}\n",
      "newman - nearest hotel: No hotel found\n",
      "{'type': 'FeatureCollection', 'features': [{'type': 'Feature', 'properties': {'name': 'Town & Mountain Hotel', 'country': 'Canada', 'country_code': 'ca', 'state': 'Yukon', 'city': 'Whitehorse', 'postcode': 'Y1A 2B6', 'district': 'Downtown Whitehorse', 'street': 'Main Street', 'housenumber': '401', 'lon': -135.0565665897871, 'lat': 60.718626650000004, 'state_code': 'YT', 'formatted': 'Town & Mountain Hotel, 401 Main Street, Whitehorse, YT Y1A 2B6, Canada', 'address_line1': 'Town & Mountain Hotel', 'address_line2': '401 Main Street, Whitehorse, YT Y1A 2B6, Canada', 'categories': ['accommodation', 'accommodation.hotel', 'building', 'building.accommodation'], 'details': ['details', 'details.accommodation', 'details.building', 'details.contact'], 'datasource': {'sourcename': 'openstreetmap', 'attribution': '© OpenStreetMap contributors', 'license': 'Open Database License', 'url': 'https://www.openstreetmap.org/copyright', 'raw': {'bar': 'yes', 'fax': '+1 867 668 5822', 'name': 'Town & Mountain Hotel', 'email': 'info@townmountain.com', 'phone': '+1 867 668 7644', 'osm_id': 289835379, 'tourism': 'hotel', 'website': 'http://townmountain.com/', 'building': 'yes', 'osm_type': 'w', 'addr:city': 'Whitehorse', 'addr:street': 'Main Street', 'reservation': 'yes', 'addr:postcode': 'Y1A 2B6', 'addr:province': 'YT', 'building:levels': 3, 'addr:housenumber': 401}}, 'website': 'http://townmountain.com/', 'contact': {'phone': '+1 867 668 7644', 'email': 'info@townmountain.com', 'fax': '+1 867 668 5822'}, 'accommodation': {'reservation': 'required'}, 'building': {'levels': 3}, 'distance': 306, 'place_id': '51d2a5bc64cfe160c059a4a247f5fb5b4e40f00102f9017389461100000000920315546f776e2026204d6f756e7461696e20486f74656c'}, 'geometry': {'type': 'Point', 'coordinates': [-135.0565665897871, 60.71862665174311]}}]}\n",
      "whitehorse - nearest hotel: Town & Mountain Hotel\n",
      "{'type': 'FeatureCollection', 'features': [{'type': 'Feature', 'properties': {'name': 'Hotel Roberto Carlos', 'country': 'East Timor', 'country_code': 'tl', 'state': 'Lautém', 'county': 'Lospalos', 'city': 'Kampungcina', 'street': 'Estrada Lospalos - Mehara - Tutuala', 'lon': 127.0046, 'lat': -8.51398, 'formatted': 'Hotel Roberto Carlos, Estrada Lospalos - Mehara - Tutuala, Kampungcina, East Timor', 'address_line1': 'Hotel Roberto Carlos', 'address_line2': 'Estrada Lospalos - Mehara - Tutuala, Kampungcina, East Timor', 'categories': ['accommodation', 'accommodation.hotel'], 'details': [], 'datasource': {'sourcename': 'openstreetmap', 'attribution': '© OpenStreetMap contributors', 'license': 'Open Database License', 'url': 'https://www.openstreetmap.org/copyright', 'raw': {'name': 'Hotel Roberto Carlos', 'osm_id': 493345635, 'tourism': 'hotel', 'osm_type': 'n', 'PFM:garmin_type': '0x2b01'}}, 'distance': 561, 'place_id': '51f263cc5d4bc05f4059e2d3f362280721c0f00103f90163db671d00000000920314486f74656c20526f626572746f204361726c6f73'}, 'geometry': {'type': 'Point', 'coordinates': [127.00460000000001, -8.51397999979412]}}]}\n",
      "lospalos - nearest hotel: Hotel Roberto Carlos\n",
      "{'type': 'FeatureCollection', 'features': [{'type': 'Feature', 'properties': {'name': 'Hilton Garden Inn Kauai Wailua Bay', 'country': 'United States', 'country_code': 'us', 'state': 'Hawaii', 'county': 'Kauaʻi County', 'postcode': '96746', 'street': 'Kuhio Highway', 'lon': -159.33680904961915, 'lat': 22.04212485, 'state_code': 'HI', 'formatted': 'Hilton Garden Inn Kauai Wailua Bay, Kuhio Highway, Kauaʻi County, HI 96746, United States of America', 'address_line1': 'Hilton Garden Inn Kauai Wailua Bay', 'address_line2': 'Kuhio Highway, Kauaʻi County, HI 96746, United States of America', 'categories': ['accommodation', 'accommodation.hotel', 'internet_access'], 'details': ['details.facilities'], 'datasource': {'sourcename': 'openstreetmap', 'attribution': '© OpenStreetMap contributors', 'license': 'Open Database License', 'url': 'https://www.openstreetmap.org/copyright', 'raw': {'name': 'Hilton Garden Inn Kauai Wailua Bay', 'osm_id': 100102164, 'tourism': 'hotel', 'osm_type': 'w', 'internet_access': 'wlan'}}, 'facilities': {'internet_access': True}, 'distance': 4923, 'place_id': '518ea3c523c7ea63c059c6d9b6b1c80a3640f00102f9011470f7050000000092032248696c746f6e2047617264656e20496e6e204b61756169205761696c756120426179'}, 'geometry': {'type': 'Point', 'coordinates': [-159.33680904961915, 22.042124850407866]}}]}\n",
      "wailua homesteads - nearest hotel: Hilton Garden Inn Kauai Wailua Bay\n",
      "{'type': 'FeatureCollection', 'features': [{'type': 'Feature', 'properties': {'name': 'Crest Hotel', 'country': 'Canada', 'country_code': 'ca', 'state': 'British Columbia', 'county': 'North Coast Regional District', 'city': 'Prince Rupert', 'postcode': 'V8J 3E8', 'street': '1st Avenue West', 'housenumber': '222', 'lon': -130.3249272, 'lat': 54.3160945, 'state_code': 'BC', 'formatted': 'Crest Hotel, 222 1st Avenue West, Prince Rupert, BC V8J 3E8, Canada', 'address_line1': 'Crest Hotel', 'address_line2': '222 1st Avenue West, Prince Rupert, BC V8J 3E8, Canada', 'categories': ['accommodation', 'accommodation.hotel', 'internet_access'], 'details': ['details', 'details.contact', 'details.facilities'], 'datasource': {'sourcename': 'openstreetmap', 'attribution': '© OpenStreetMap contributors', 'license': 'Open Database License', 'url': 'https://www.openstreetmap.org/copyright', 'raw': {'name': 'Crest Hotel', 'email': 'info@cresthotel.bc.ca', 'phone': '+1-250-624-6771', 'osm_id': 5175856807, 'tourism': 'hotel', 'website': 'https://www.cresthotel.bc.ca/', 'osm_type': 'n', 'addr:street': '1st Avenue West', 'internet_access': 'wlan', 'addr:housenumber': 222}}, 'website': 'https://www.cresthotel.bc.ca/', 'contact': {'phone': '+1-250-624-6771', 'email': 'info@cresthotel.bc.ca'}, 'facilities': {'internet_access': True}, 'distance': 314, 'place_id': '519532bacd654a60c059a059d8c875284b40f00103f901a74e81340100000092030b437265737420486f74656c'}, 'geometry': {'type': 'Point', 'coordinates': [-130.32492719999996, 54.3160944992444]}}]}\n",
      "prince rupert - nearest hotel: Crest Hotel\n",
      "{'type': 'FeatureCollection', 'features': [{'type': 'Feature', 'properties': {'name': 'Apart Hotel Aires del Beagle', 'country': 'Argentina', 'country_code': 'ar', 'state': 'Tierra del Fuego Province', 'county': 'Departamento Ushuaia', 'city': 'Ushuaia', 'postcode': 'V9410IEA', 'district': 'Ushuaia', 'neighbourhood': 'ARA General Belgrano', 'suburb': 'Perón', 'street': '17 de Mayo', 'lon': -68.3027317, 'lat': -54.8009415, 'formatted': 'Apart Hotel Aires del Beagle, 17 de Mayo, Perón, V9410 IEA Ushuaia, Argentina', 'address_line1': 'Apart Hotel Aires del Beagle', 'address_line2': '17 de Mayo, Perón, V9410 IEA Ushuaia, Argentina', 'categories': ['accommodation', 'accommodation.hotel', 'wheelchair', 'wheelchair.yes'], 'details': ['details.facilities'], 'datasource': {'sourcename': 'openstreetmap', 'attribution': '© OpenStreetMap contributors', 'license': 'Open Database License', 'url': 'https://www.openstreetmap.org/copyright', 'raw': {'name': 'Apart Hotel Aires del Beagle', 'osm_id': 1393107576, 'tourism': 'hotel', 'osm_type': 'n', 'wheelchair': 'yes'}}, 'facilities': {'wheelchair': True}, 'distance': 205, 'place_id': '5199bdc7f45f1351c059b38a444085664bc0f00103f901782209530000000092031c417061727420486f74656c2041697265732064656c20426561676c65'}, 'geometry': {'type': 'Point', 'coordinates': [-68.3027317, -54.800941499202416]}}]}\n",
      "ushuaia - nearest hotel: Apart Hotel Aires del Beagle\n"
     ]
    },
    {
     "name": "stderr",
     "output_type": "stream",
     "text": [
      "ERROR:root:Error message:\n",
      "Traceback (most recent call last):\n",
      "  File \"C:\\Users\\Moburu\\AppData\\Local\\Temp\\ipykernel_26060\\1195407018.py\", line 36, in <module>\n",
      "    hotel_df.loc[index, \"Hotel Name\"] = name_address[\"features\"][0][\"properties\"][\"name\"]\n",
      "                                        ~~~~~~~~~~~~~~~~~~~~~~~~^^^\n",
      "IndexError: list index out of range\n"
     ]
    },
    {
     "name": "stdout",
     "output_type": "stream",
     "text": [
      "{'type': 'FeatureCollection', 'features': []}\n",
      "reggane - nearest hotel: No hotel found\n",
      "{'type': 'FeatureCollection', 'features': [{'type': 'Feature', 'properties': {'name': 'Апельсин', 'country': 'Russia', 'country_code': 'ru', 'region': 'Far Eastern Federal District', 'state': 'Sakha Republic', 'county': 'Tomponsky Ulus', 'city': 'Khandyga', 'municipality': 'городское поселение Хандыга', 'postcode': '678720', 'street': 'Арктическая улица', 'housenumber': '6', 'lon': 135.5874789, 'lat': 62.6516937, 'formatted': 'Апельсин, Арктическая улица 6, Khandyga, Sakha Republic, Russia, 678720', 'address_line1': 'Апельсин', 'address_line2': 'Арктическая улица 6, Khandyga, Sakha Republic, Russia, 678720', 'categories': ['accommodation', 'accommodation.hotel'], 'details': [], 'datasource': {'sourcename': 'openstreetmap', 'attribution': '© OpenStreetMap contributors', 'license': 'Open Database License', 'url': 'https://www.openstreetmap.org/copyright', 'raw': {'name': 'Апельсин', 'osm_id': 9857195769, 'tourism': 'hotel', 'osm_type': 'n', 'addr:flats': 12, 'addr:street': 'Арктическая улица', 'addr:housenumber': 6}}, 'distance': 1791, 'place_id': '51e2d28ca0ccf26040596ae6feb26a534f40f00103f901f9de884b02000000920310d090d0bfd0b5d0bbd18cd181d0b8d0bd'}, 'geometry': {'type': 'Point', 'coordinates': [135.5874789, 62.65169370123188]}}]}\n",
      "khandyga - nearest hotel: Апельсин\n",
      "{'type': 'FeatureCollection', 'features': [{'type': 'Feature', 'properties': {'name': 'Woodbridge on the Derwent', 'country': 'Australia', 'country_code': 'au', 'state': 'Tasmania', 'city': 'New Norfolk', 'municipality': 'Derwent Valley', 'postcode': '7140', 'street': 'Lyell Highway', 'lon': 147.0575608, 'lat': -42.7795192, 'state_code': 'TAS', 'formatted': 'Woodbridge on the Derwent, Lyell Highway, New Norfolk TAS 7140, Australia', 'address_line1': 'Woodbridge on the Derwent', 'address_line2': 'Lyell Highway, New Norfolk TAS 7140, Australia', 'categories': ['accommodation', 'accommodation.hotel'], 'details': [], 'datasource': {'sourcename': 'openstreetmap', 'attribution': '© OpenStreetMap contributors', 'license': 'Open Database License', 'url': 'https://www.openstreetmap.org/copyright', 'raw': {'name': 'Woodbridge on the Derwent', 'osm_id': 2542744173, 'tourism': 'hotel', 'osm_type': 'n'}}, 'distance': 355, 'place_id': '510331bf89d761624059d4620149c76345c0f00103f9016d328f9700000000920319576f6f64627269646765206f6e207468652044657277656e74'}, 'geometry': {'type': 'Point', 'coordinates': [147.0575608, -42.77951920097044]}}]}\n",
      "new norfolk - nearest hotel: Woodbridge on the Derwent\n",
      "{'type': 'FeatureCollection', 'features': [{'type': 'Feature', 'properties': {'name': 'Виктория', 'country': 'Russia', 'country_code': 'ru', 'region': 'Siberian Federal District', 'state': 'Krasnoyarsk Krai', 'county': 'Taymyrsky Dolgano-Nenetsky District', 'city': 'Dudinka', 'municipality': 'городское поселение Дудинка', 'postcode': '647000', 'suburb': 'Район Электрических сетей', 'street': 'улица Матросова', 'housenumber': '14А', 'lon': 86.18235881201565, 'lat': 69.40389925, 'formatted': 'Виктория, улица Матросова 14А, Район Электрических сетей, Dudinka, Krasnoyarsk Krai, Russia, 647000', 'address_line1': 'Виктория', 'address_line2': 'улица Матросова 14А, Район Электрических сетей, Dudinka, Krasnoyarsk Krai, Russia, 647000', 'categories': ['accommodation', 'accommodation.hotel', 'building', 'building.accommodation'], 'details': ['details.building'], 'datasource': {'sourcename': 'openstreetmap', 'attribution': '© OpenStreetMap contributors', 'license': 'Open Database License', 'url': 'https://www.openstreetmap.org/copyright', 'raw': {'name': 'Виктория', 'osm_id': 195711600, 'tourism': 'hotel', 'building': 'yes', 'osm_type': 'w', 'addr:city': 'Дудинка', 'addr:region': 'Красноярский край', 'addr:street': 'улица Матросова', 'addr:country': 'RU', 'building:levels': 3, 'addr:housenumber': '14А'}}, 'building': {'levels': 3}, 'distance': 265, 'place_id': '51a86f4bc4ab8b55405992933b7cd9595140f00102f9017052aa0b00000000920310d092d0b8d0bad182d0bed180d0b8d18f'}, 'geometry': {'type': 'Point', 'coordinates': [86.18235881201565, 69.40389924829495]}}]}\n",
      "dudinka - nearest hotel: Виктория\n"
     ]
    },
    {
     "name": "stderr",
     "output_type": "stream",
     "text": [
      "ERROR:root:Error message:\n",
      "Traceback (most recent call last):\n",
      "  File \"C:\\Users\\Moburu\\AppData\\Local\\Temp\\ipykernel_26060\\1195407018.py\", line 36, in <module>\n",
      "    hotel_df.loc[index, \"Hotel Name\"] = name_address[\"features\"][0][\"properties\"][\"name\"]\n",
      "                                        ~~~~~~~~~~~~~~~~~~~~~~~~^^^\n",
      "IndexError: list index out of range\n"
     ]
    },
    {
     "name": "stdout",
     "output_type": "stream",
     "text": [
      "{'type': 'FeatureCollection', 'features': []}\n",
      "pazar - nearest hotel: No hotel found\n",
      "{'type': 'FeatureCollection', 'features': [{'type': 'Feature', 'properties': {'name': 'ООО Постоялый двор', 'country': 'Russia', 'country_code': 'ru', 'region': 'Far Eastern Federal District', 'state': 'Kamchatka Krai', 'county': 'городской округ Петропавловск-Камчатский', 'city': 'Petropavlovsk-Kamchatsky', 'postcode': '683000', 'suburb': '6 км', 'street': 'Vatutina street', 'housenumber': '1', 'lon': 158.6357542, 'lat': 53.049295, 'formatted': 'ООО Постоялый двор, Vatutina street 1, 6 км, Petropavlovsk-Kamchatsky, Kamchatka Krai, Russia, 683000', 'address_line1': 'ООО Постоялый двор', 'address_line2': 'Vatutina street 1, 6 км, Petropavlovsk-Kamchatsky, Kamchatka Krai, Russia, 683000', 'categories': ['accommodation', 'accommodation.hotel'], 'details': ['details', 'details.contact'], 'datasource': {'sourcename': 'openstreetmap', 'attribution': '© OpenStreetMap contributors', 'license': 'Open Database License', 'url': 'https://www.openstreetmap.org/copyright', 'raw': {'name': 'ООО Постоялый двор', 'phone': 84152234044, 'osm_id': 9913736859, 'tourism': 'hotel', 'website': 'https://dvordv.ru/', 'osm_type': 'n', 'addr:city': 'Петропавловск-Камчатский', 'addr:street': 'улица Ватутина', 'addr:housenumber': 1}}, 'website': 'https://dvordv.ru/', 'contact': {'phone': 84152234044}, 'distance': 957, 'place_id': '516d29311958d463405912796c4c4f864a40f00103f9019b9ee74e02000000920322d09ed09ed09e20d09fd0bed181d182d0bed18fd0bbd18bd0b920d0b4d0b2d0bed180'}, 'geometry': {'type': 'Point', 'coordinates': [158.63575419999998, 53.049294999089526]}}]}\n",
      "petropavlovsk-kamchatsky - nearest hotel: ООО Постоялый двор\n",
      "{'type': 'FeatureCollection', 'features': [{'type': 'Feature', 'properties': {'name': 'Iftin Hotel Hobyo', 'country': 'Somalia', 'country_code': 'so', 'state': 'Mudug', 'county': 'Hobyo District', 'city': 'Hobyo', 'street': 'Airport road', 'lon': 48.5224013, 'lat': 5.35615645, 'state_code': 'MU', 'formatted': 'Iftin Hotel Hobyo, Airport road, Hobyo, Somalia', 'address_line1': 'Iftin Hotel Hobyo', 'address_line2': 'Airport road, Hobyo, Somalia', 'categories': ['accommodation', 'accommodation.hotel', 'building', 'building.accommodation'], 'details': ['details.contact'], 'datasource': {'sourcename': 'openstreetmap', 'attribution': '© OpenStreetMap contributors', 'license': 'Open Database License', 'url': 'https://www.openstreetmap.org/copyright', 'raw': {'name': 'Iftin Hotel Hobyo', 'phone': '0611089380', 'osm_id': 1210985580, 'tourism': 'hotel', 'building': 'yes', 'osm_type': 'w'}}, 'contact': {'phone': '0611089380'}, 'distance': 768, 'place_id': '51a671b90bde42484059fc24bb46b46c1540f00102f9016c2c2e4800000000920311496674696e20486f74656c20486f62796f'}, 'geometry': {'type': 'Point', 'coordinates': [48.5224013, 5.356156449482338]}}]}\n",
      "hobyo - nearest hotel: Iftin Hotel Hobyo\n",
      "{'type': 'FeatureCollection', 'features': [{'type': 'Feature', 'properties': {'name': 'Hospedaria JSF', 'country': 'Portugal', 'country_code': 'pt', 'city': 'Horta', 'postcode': '9900-038', 'district': 'Horta (Angústias)', 'suburb': 'Matriz', 'street': 'Rua Antiga Canada do Porto Pim', 'lon': -28.632987399999998, 'lat': 38.5301319, 'formatted': 'Hospedaria JSF, Rua Antiga Canada do Porto Pim, 9900-038 Horta, Portugal', 'address_line1': 'Hospedaria JSF', 'address_line2': 'Rua Antiga Canada do Porto Pim, 9900-038 Horta, Portugal', 'categories': ['accommodation', 'accommodation.hotel', 'building', 'building.accommodation'], 'details': ['details.accommodation', 'details.facilities'], 'datasource': {'sourcename': 'openstreetmap', 'attribution': '© OpenStreetMap contributors', 'license': 'Open Database License', 'url': 'https://www.openstreetmap.org/copyright', 'raw': {'name': 'Hospedaria JSF', 'stars': 3, 'animal': 'no', 'osm_id': 343450297, 'smoking': 'outside', 'tourism': 'hotel', 'building': 'yes', 'osm_type': 'w', 'addr:city': 'Horta (Angústias)', 'addr:street': 'Rua Antiga Canada do Porto Pim', 'addr:postcode': '9900-038'}}, 'facilities': {'smoking': True}, 'accommodation': {'stars': 3}, 'distance': 6014, 'place_id': '51b2c755760ba23cc05942a8b25cdb434340f00102f901b9a278140000000092030e486f7370656461726961204a5346'}, 'geometry': {'type': 'Point', 'coordinates': [-28.632987399999998, 38.53013190005778]}}]}\n",
      "ribeira grande - nearest hotel: Hospedaria JSF\n",
      "{'type': 'FeatureCollection', 'features': [{'type': 'Feature', 'properties': {'name': 'Kalispell Grand Hotel', 'country': 'United States', 'country_code': 'us', 'state': 'Montana', 'county': 'Flathead County', 'city': 'Kalispell', 'postcode': '59901', 'district': 'Downtown', 'street': 'South Main Street', 'housenumber': '100', 'lon': -114.31388940751499, 'lat': 48.197551250000004, 'state_code': 'MT', 'formatted': 'Kalispell Grand Hotel, 100 South Main Street, Kalispell, MT 59901, United States of America', 'address_line1': 'Kalispell Grand Hotel', 'address_line2': '100 South Main Street, Kalispell, MT 59901, United States of America', 'categories': ['accommodation', 'accommodation.hotel', 'building', 'building.accommodation', 'internet_access', 'internet_access.free'], 'details': ['details', 'details.building', 'details.contact', 'details.facilities'], 'datasource': {'sourcename': 'openstreetmap', 'attribution': '© OpenStreetMap contributors', 'license': 'Open Database License', 'url': 'https://www.openstreetmap.org/copyright', 'raw': {'name': 'Kalispell Grand Hotel', 'phone': '406 755 8100', 'height': 12, 'osm_id': 291866120, 'tourism': 'hotel', 'website': 'https://kalispellgrand.com/', 'building': 'yes', 'osm_type': 'w', 'addr:state': 'MT', 'addr:street': 'South Main Street', 'building:levels': 3, 'internet_access': 'wlan', 'addr:housenumber': 100, 'internet_access:fee': 'no'}}, 'website': 'https://kalispellgrand.com/', 'contact': {'phone': '406 755 8100'}, 'facilities': {'internet_access': True}, 'building': {'levels': 3, 'height': 12}, 'distance': 199, 'place_id': '519cf598c316945cc059f9c7fe5b49194840f00102f90108866511000000009203154b616c697370656c6c204772616e6420486f74656c'}, 'geometry': {'type': 'Point', 'coordinates': [-114.31388940751498, 48.19755124989019]}}]}\n",
      "kalispell - nearest hotel: Kalispell Grand Hotel\n"
     ]
    },
    {
     "name": "stderr",
     "output_type": "stream",
     "text": [
      "ERROR:root:Error message:\n",
      "Traceback (most recent call last):\n",
      "  File \"C:\\Users\\Moburu\\AppData\\Local\\Temp\\ipykernel_26060\\1195407018.py\", line 36, in <module>\n",
      "    hotel_df.loc[index, \"Hotel Name\"] = name_address[\"features\"][0][\"properties\"][\"name\"]\n",
      "                                        ~~~~~~~~~~~~~~~~~~~~~~~~^^^\n",
      "IndexError: list index out of range\n"
     ]
    },
    {
     "name": "stdout",
     "output_type": "stream",
     "text": [
      "{'type': 'FeatureCollection', 'features': []}\n",
      "kaitong - nearest hotel: No hotel found\n"
     ]
    },
    {
     "name": "stderr",
     "output_type": "stream",
     "text": [
      "ERROR:root:Error message:\n",
      "Traceback (most recent call last):\n",
      "  File \"C:\\Users\\Moburu\\AppData\\Local\\Temp\\ipykernel_26060\\1195407018.py\", line 36, in <module>\n",
      "    hotel_df.loc[index, \"Hotel Name\"] = name_address[\"features\"][0][\"properties\"][\"name\"]\n",
      "                                        ~~~~~~~~~~~~~~~~~~~~~~~~~~~~~~~~~~~~~~~~~^^^^^^^^\n",
      "KeyError: 'name'\n"
     ]
    },
    {
     "name": "stdout",
     "output_type": "stream",
     "text": [
      "{'type': 'FeatureCollection', 'features': [{'type': 'Feature', 'properties': {'country': 'South Africa', 'country_code': 'za', 'state': 'Eastern Cape', 'county': 'Buffalo City Metropolitan Municipality', 'city': 'East London', 'postcode': '5201', 'suburb': 'Quigney', 'street': 'Inverleith Terrace', 'lon': 27.9137962, 'lat': -33.0185052, 'state_code': 'EC', 'formatted': 'Inverleith Terrace, Quigney, East London, 5201, South Africa', 'address_line1': 'Inverleith Terrace', 'address_line2': 'Quigney, East London, 5201, South Africa', 'categories': ['accommodation', 'accommodation.hotel'], 'details': [], 'datasource': {'sourcename': 'openstreetmap', 'attribution': '© OpenStreetMap contributors', 'license': 'Open Database License', 'url': 'https://www.openstreetmap.org/copyright', 'raw': {'osm_id': 3797952968, 'tourism': 'hotel', 'osm_type': 'n'}}, 'distance': 410, 'place_id': '5185353a8ceee93b40592965dd605e8240c0f00103f901c82960e200000000'}, 'geometry': {'type': 'Point', 'coordinates': [27.913796199999997, -33.0185051995307]}}]}\n",
      "east london - nearest hotel: No hotel found\n",
      "{'type': 'FeatureCollection', 'features': [{'type': 'Feature', 'properties': {'name': 'Балумит', 'country': 'Kazakhstan', 'country_code': 'kz', 'state': 'Mangystau Region', 'county': 'Mangystau District', 'city': 'Shetpe', 'postcode': '130400', 'suburb': 'микрорайон Орталык', 'street': 'микрорайон Орталык', 'housenumber': '22/1', 'lon': 52.1649574, 'lat': 44.1403697, 'formatted': 'Балумит, Kazakhstan, Mangystau Region, 130400 Shetpe, микрорайон Орталык, микрорайон Орталык, 22/1', 'address_line1': 'Балумит', 'address_line2': 'Kazakhstan, Mangystau Region, 130400 Shetpe, микрорайон Орталык, микрорайон Орталык, 22/1', 'categories': ['accommodation', 'accommodation.hotel'], 'details': [], 'datasource': {'sourcename': 'openstreetmap', 'attribution': '© OpenStreetMap contributors', 'license': 'Open Database License', 'url': 'https://www.openstreetmap.org/copyright', 'raw': {'name': 'Балумит', 'osm_id': 9901181251, 'tourism': 'hotel', 'osm_type': 'n'}}, 'distance': 4844, 'place_id': '51d81df7521d154a40599f8e64a2f7114640f00103f9014309284e0200000092030ed091d0b0d0bbd183d0bcd0b8d182'}, 'geometry': {'type': 'Point', 'coordinates': [52.16495739999999, 44.14036970052734]}}]}\n",
      "shetpe - nearest hotel: Балумит\n",
      "{'type': 'FeatureCollection', 'features': [{'type': 'Feature', 'properties': {'name': 'The Wainstones Hotel', 'country': 'United Kingdom', 'country_code': 'gb', 'state': 'England', 'county': 'North Yorkshire', 'city': 'Great Broughton', 'postcode': 'TS9 7EW', 'suburb': 'Great and Little Broughton', 'street': 'High Street', 'lon': -1.1581682044651047, 'lat': 54.4509799, 'state_code': 'ENG', 'formatted': 'The Wainstones Hotel, High Street, Great Broughton, TS9 7EW, United Kingdom', 'address_line1': 'The Wainstones Hotel', 'address_line2': 'High Street, Great Broughton, TS9 7EW, United Kingdom', 'categories': ['accommodation', 'accommodation.hotel'], 'details': ['details.contact'], 'datasource': {'sourcename': 'openstreetmap', 'attribution': '© OpenStreetMap contributors', 'license': 'Open Database License', 'url': 'https://www.openstreetmap.org/copyright', 'raw': {'name': 'The Wainstones Hotel', 'phone': '+44 1642 712268', 'osm_id': 225123760, 'tourism': 'hotel', 'osm_type': 'w'}}, 'contact': {'phone': '+44 1642 712268'}, 'distance': 3320, 'place_id': '51661d1762db87f2bf59854497b5b9394b40f00102f901b01d6b0d00000000920314546865205761696e73746f6e657320486f74656c'}, 'geometry': {'type': 'Point', 'coordinates': [-1.1581682044651074, 54.450979899274024]}}]}\n",
      "ingleby greenhow - nearest hotel: The Wainstones Hotel\n",
      "{'type': 'FeatureCollection', 'features': [{'type': 'Feature', 'properties': {'name': 'Campanile', 'country': 'France', 'country_code': 'fr', 'region': 'Metropolitan France', 'state': 'Auvergne-Rhône-Alpes', 'county': 'Cantal', 'city': 'Aurillac', 'municipality': 'Aurillac', 'postcode': '15000', 'suburb': 'Marmiers', 'street': 'Rue Louise Michel', 'housenumber': '3', 'lon': 2.444341339528205, 'lat': 44.9139323, 'state_code': 'ARA', 'state_COG': '84', 'formatted': 'Campanile, 3 Rue Louise Michel, 15000 Aurillac, France', 'address_line1': 'Campanile', 'address_line2': '3 Rue Louise Michel, 15000 Aurillac, France', 'categories': ['accommodation', 'accommodation.hotel', 'building', 'building.accommodation', 'internet_access', 'internet_access.for_customers'], 'details': ['details', 'details.accommodation', 'details.building', 'details.contact', 'details.facilities'], 'datasource': {'sourcename': 'openstreetmap', 'attribution': '© OpenStreetMap contributors', 'license': 'Open Database License', 'url': 'https://www.openstreetmap.org/copyright', 'raw': {'bar': 'yes', 'name': 'Campanile', 'brand': 'Campanile', 'phone': '+33 4 71 64 64 84', 'stars': 3, 'osm_id': 45460638, 'tourism': 'hotel', 'website': 'https://aurillac.campanile.com/fr-fr/', 'building': 'yes', 'osm_type': 'w', 'addr:city': 'Aurillac', 'addr:street': 'Rue Louise Michel', 'addr:postcode': 15000, 'brand:wikidata': 'Q2412064', 'brand:wikipedia': \"fr:Campanile (chaîne d'hôtels)\", 'building:levels': 1, 'internet_access': 'wlan', 'addr:housenumber': 3, 'internet_access:fee': 'customers'}}, 'website': 'https://aurillac.campanile.com/fr-fr/', 'brand': 'Campanile', 'brand_details': {'wikidata': 'Q2412064', 'wikipedia': \"fr:Campanile (chaîne d'hôtels)\"}, 'contact': {'phone': '+33 4 71 64 64 84'}, 'facilities': {'internet_access': True}, 'accommodation': {'stars': 3}, 'building': {'levels': 1}, 'distance': 531, 'place_id': '519b460cd5028e034059d8a6cebbfb744640f00102f9019eacb5020000000092030943616d70616e696c65'}, 'geometry': {'type': 'Point', 'coordinates': [2.4443413395282056, 44.91393230047623]}}]}\n",
      "aurillac - nearest hotel: Campanile\n",
      "{'type': 'FeatureCollection', 'features': [{'type': 'Feature', 'properties': {'name': 'Le Baril', 'country': 'France', 'country_code': 'fr', 'state': 'Réunion', 'city': 'Saint-Philippe', 'village': 'Le Baril', 'municipality': 'Saint-Pierre', 'postcode': '97442', 'street': 'Route Nationale 2 Baril', 'lon': 55.7279685, 'lat': -21.3692458, 'state_code': 'RE', 'state_COG': '04', 'formatted': 'Le Baril, Route Nationale 2 Baril, 97442 Saint-Philippe, France', 'address_line1': 'Le Baril', 'address_line2': 'Route Nationale 2 Baril, 97442 Saint-Philippe, France', 'categories': ['accommodation', 'accommodation.hotel'], 'details': ['details.accommodation'], 'datasource': {'sourcename': 'openstreetmap', 'attribution': '© OpenStreetMap contributors', 'license': 'Open Database License', 'url': 'https://www.openstreetmap.org/copyright', 'raw': {'name': 'Le Baril', 'stars': 2, 'osm_id': 1863975384, 'tourism': 'hotel', 'osm_type': 'n'}}, 'accommodation': {'stars': 2}, 'distance': 4309, 'place_id': '51530262122edd4b4059a7568ce4865e35c0f00103f901d8011a6f000000009203084c6520426172696c'}, 'geometry': {'type': 'Point', 'coordinates': [55.727968499999996, -21.369245800268484]}}]}\n",
      "saint-philippe - nearest hotel: Le Baril\n",
      "{'type': 'FeatureCollection', 'features': [{'type': 'Feature', 'properties': {'name': 'Voroncovk', 'country': 'Armenia', 'country_code': 'am', 'state': 'Lori Province', 'county': 'Tashir community', 'city': 'Tashir', 'postcode': '2101', 'street': 'Highway T-5-54', 'lon': 44.2955486, 'lat': 41.1263724, 'formatted': 'Voroncovk, Highway T-5-54, 2101, Tashir, Lori Province, Armenia', 'address_line1': 'Voroncovk', 'address_line2': 'Highway T-5-54, 2101, Tashir, Lori Province, Armenia', 'categories': ['accommodation', 'accommodation.hotel', 'internet_access'], 'details': ['details.facilities'], 'datasource': {'sourcename': 'openstreetmap', 'attribution': '© OpenStreetMap contributors', 'license': 'Open Database License', 'url': 'https://www.openstreetmap.org/copyright', 'raw': {'name': 'Voroncovk', 'osm_id': 10574427681, 'tourism': 'hotel', 'osm_type': 'n', 'internet_access': 'yes'}}, 'facilities': {'internet_access': True}, 'distance': 1115, 'place_id': '5175b05989d425464059316e87f82c904440f00103f90121f6487602000000920309566f726f6e636f766b'}, 'geometry': {'type': 'Point', 'coordinates': [44.2955486, 41.12637240040602]}}]}\n",
      "tashir - nearest hotel: Voroncovk\n",
      "{'type': 'FeatureCollection', 'features': [{'type': 'Feature', 'properties': {'name': 'Мария', 'country': 'Russia', 'country_code': 'ru', 'region': 'Far Eastern Federal District', 'state': 'Sakha Republic', 'county': 'Vilyuysky Ulus', 'city': 'Vilyuysk', 'municipality': 'городское поселение Вилюйск', 'postcode': '678200', 'street': 'улица 50 лет Обороны', 'housenumber': '14', 'lon': 121.6362547, 'lat': 63.7576381, 'formatted': 'Mareya, улица 50 лет Обороны 14, Vilyuysk, Sakha Republic, Russia, 678200', 'address_line1': 'Mareya', 'address_line2': 'улица 50 лет Обороны 14, Vilyuysk, Sakha Republic, Russia, 678200', 'categories': ['accommodation', 'accommodation.hotel', 'internet_access'], 'details': ['details', 'details.contact', 'details.facilities'], 'datasource': {'sourcename': 'openstreetmap', 'attribution': '© OpenStreetMap contributors', 'license': 'Open Database License', 'url': 'https://www.openstreetmap.org/copyright', 'raw': {'name': 'Мария', 'phone': '+79148236856', 'osm_id': 4934871622, 'name:en': 'Mareya', 'name:ru': 'Мария', 'tourism': 'hotel', 'operator': 'ИП Маёрова Д.А.', 'osm_type': 'n', 'addr:street': '50 лет обороны города', 'internet_access': 'wlan', 'addr:housenumber': 14}}, 'operator': 'ИП Маёрова Д.А.', 'name_international': {'en': 'Mareya', 'ru': 'Мария'}, 'contact': {'phone': '+79148236856'}, 'facilities': {'internet_access': True}, 'distance': 627, 'place_id': '51481ba265b8685e4059268d0749fae04f40f00103f901462a24260100000092030ad09cd0b0d180d0b8d18f'}, 'geometry': {'type': 'Point', 'coordinates': [121.6362547, 63.757638100325764]}}]}\n",
      "vilyuysk - nearest hotel: Мария\n",
      "{'type': 'FeatureCollection', 'features': [{'type': 'Feature', 'properties': {'name': 'Hôtel Mahavokey', 'country': 'Madagascar', 'country_code': 'mg', 'region': 'Province de Toliara', 'state': 'Anosy', 'city': 'Tolanaro', 'district': 'District de Tôlanaro', 'neighbourhood': 'Bazarikely', 'suburb': 'Bazaribe', 'street': 'Rue Maréchal Joffre', 'lon': 46.99525104021347, 'lat': -25.0298916, 'formatted': 'Hôtel Mahavokey, Rue Maréchal Joffre, Bazaribe, Tolanaro, Madagascar', 'address_line1': 'Hôtel Mahavokey', 'address_line2': 'Rue Maréchal Joffre, Bazaribe, Tolanaro, Madagascar', 'categories': ['accommodation', 'accommodation.hotel', 'building', 'building.accommodation'], 'details': [], 'datasource': {'sourcename': 'openstreetmap', 'attribution': '© OpenStreetMap contributors', 'license': 'Open Database License', 'url': 'https://www.openstreetmap.org/copyright', 'raw': {'name': 'Hôtel Mahavokey', 'osm_id': 230343447, 'tourism': 'hotel', 'building': 'yes', 'osm_type': 'w'}}, 'distance': 395, 'place_id': '516e83d662647f4740594a75d3f9a60739c0f00102f90117c3ba0d0000000092031048c3b474656c204d616861766f6b6579'}, 'geometry': {'type': 'Point', 'coordinates': [46.99525104021346, -25.029891599774864]}}]}\n",
      "tolanaro - nearest hotel: Hôtel Mahavokey\n",
      "{'type': 'FeatureCollection', 'features': [{'type': 'Feature', 'properties': {'name': 'Полюс', 'country': 'Russia', 'country_code': 'ru', 'region': 'Siberian Federal District', 'state': 'Irkutsk Oblast', 'county': 'Nizhneudinsky Rayon', 'city': 'Nizhneudinsk', 'municipality': 'Нижнеудинское городское поселение', 'postcode': '665106', 'street': 'Краснопартизанская улица', 'housenumber': '62А', 'lon': 99.0324092, 'lat': 54.9048217, 'formatted': 'Полюс, Краснопартизанская улица 62А, Nizhneudinsk, Irkutsk Oblast, Russia, 665106', 'address_line1': 'Полюс', 'address_line2': 'Краснопартизанская улица 62А, Nizhneudinsk, Irkutsk Oblast, Russia, 665106', 'categories': ['accommodation', 'accommodation.hotel'], 'details': ['details.contact'], 'datasource': {'sourcename': 'openstreetmap', 'attribution': '© OpenStreetMap contributors', 'license': 'Open Database License', 'url': 'https://www.openstreetmap.org/copyright', 'raw': {'name': 'Полюс', 'phone': '+7 39557 70145', 'osm_id': 5779631780, 'tourism': 'hotel', 'osm_type': 'n'}}, 'contact': {'phone': '+7 39557 70145'}, 'distance': 437, 'place_id': '51bb8509fe12c2584059e4cc8b32d1734b40f00103f901a42e7e580100000092030ad09fd0bed0bbd18ed181'}, 'geometry': {'type': 'Point', 'coordinates': [99.0324092, 54.904821699392215]}}]}\n",
      "nizhneudinsk - nearest hotel: Полюс\n",
      "{'type': 'FeatureCollection', 'features': [{'type': 'Feature', 'properties': {'name': 'The Vault', 'country': 'Norway', 'country_code': 'no', 'state': 'Svalbard', 'city': 'Longyearbyen', 'postcode': '9170', 'street': 'Vei 507', 'lon': 15.633927104667066, 'lat': 78.2186398, 'formatted': 'The Vault, Vei 507, 9170 Longyearbyen, Norway', 'address_line1': 'The Vault', 'address_line2': 'Vei 507, 9170 Longyearbyen, Norway', 'categories': ['accommodation', 'accommodation.hotel', 'building', 'building.accommodation', 'internet_access', 'internet_access.free'], 'details': ['details.accommodation', 'details.contact', 'details.facilities'], 'datasource': {'sourcename': 'openstreetmap', 'attribution': '© OpenStreetMap contributors', 'license': 'Open Database License', 'url': 'https://www.openstreetmap.org/copyright', 'raw': {'name': 'The Vault', 'phone': '+47 79025 001', 'rooms': 35, 'osm_id': 615838908, 'smoking': 'no', 'tourism': 'hotel', 'building': 'hotel', 'osm_type': 'w', 'internet_access': 'wlan', 'internet_access:fee': 'no'}}, 'contact': {'phone': '+47 79025 001'}, 'facilities': {'internet_access': True, 'smoking': False}, 'accommodation': {'rooms': 35}, 'building': {'type': 'hotel'}, 'distance': 126, 'place_id': '51a82fed1792442f4059a7a6c931fe8d5340f00102f901bcf4b42400000000920309546865205661756c74'}, 'geometry': {'type': 'Point', 'coordinates': [15.63392710466708, 78.21863979999999]}}]}\n",
      "longyearbyen - nearest hotel: The Vault\n",
      "{'type': 'FeatureCollection', 'features': [{'type': 'Feature', 'properties': {'name': 'Kokopelli Inn', 'country': 'United States', 'country_code': 'us', 'state': 'Utah', 'county': 'Grand County', 'city': 'Moab', 'postcode': '84532', 'street': 'South 100 East', 'housenumber': '72', 'lon': -109.549167, 'lat': 38.5722825, 'state_code': 'UT', 'formatted': 'Kokopelli Inn, 72 South 100 East, Moab, UT 84532, United States of America', 'address_line1': 'Kokopelli Inn', 'address_line2': '72 South 100 East, Moab, UT 84532, United States of America', 'categories': ['accommodation', 'accommodation.hotel'], 'details': ['details', 'details.contact'], 'datasource': {'sourcename': 'openstreetmap', 'attribution': '© OpenStreetMap contributors', 'license': 'Open Database License', 'url': 'https://www.openstreetmap.org/copyright', 'raw': {'name': 'Kokopelli Inn', 'phone': '+1 435 2597615', 'osm_id': 921319359, 'tourism': 'hotel', 'website': 'http://kokopellilodge.com', 'alt_name': 'Kokopelli Lodge', 'osm_type': 'n', 'addr:city': 'Moab', 'addr:state': 'UT', 'addr:street': 'South 100 East', 'addr:postcode': 84532, 'addr:housenumber': 72}}, 'website': 'http://kokopellilodge.com', 'name_other': {'alt_name': 'Kokopelli Lodge'}, 'contact': {'phone': '+1 435 2597615'}, 'distance': 126, 'place_id': '51b642588d25635bc0597aec8e8d40494340f00103f901bf37ea360000000092030d4b6f6b6f70656c6c6920496e6e'}, 'geometry': {'type': 'Point', 'coordinates': [-109.54916699999998, 38.57228250006388]}}]}\n",
      "moab - nearest hotel: Kokopelli Inn\n"
     ]
    },
    {
     "name": "stderr",
     "output_type": "stream",
     "text": [
      "ERROR:root:Error message:\n",
      "Traceback (most recent call last):\n",
      "  File \"C:\\Users\\Moburu\\AppData\\Local\\Temp\\ipykernel_26060\\1195407018.py\", line 36, in <module>\n",
      "    hotel_df.loc[index, \"Hotel Name\"] = name_address[\"features\"][0][\"properties\"][\"name\"]\n",
      "                                        ~~~~~~~~~~~~~~~~~~~~~~~~~~~~~~~~~~~~~~~~~^^^^^^^^\n",
      "KeyError: 'name'\n"
     ]
    },
    {
     "name": "stdout",
     "output_type": "stream",
     "text": [
      "{'type': 'FeatureCollection', 'features': [{'type': 'Feature', 'properties': {'country': 'Kosovo', 'country_code': 'xk', 'city': 'Donje Varage', 'municipality': 'Municipality of Zubin Potok', 'postcode': '40650', 'district': 'District of Mitrovica', 'street': 'M-2', 'lon': 20.703485, 'lat': 42.9080424, 'formatted': 'M-2, 40650 Donje Varage, Kosovo', 'address_line1': 'M-2', 'address_line2': '40650 Donje Varage, Kosovo', 'categories': ['accommodation', 'accommodation.hotel'], 'details': [], 'datasource': {'sourcename': 'openstreetmap', 'attribution': '© OpenStreetMap contributors', 'license': 'Open Database License', 'url': 'https://www.openstreetmap.org/copyright', 'raw': {'osm_id': 2328220674, 'tourism': 'hotel', 'osm_type': 'n'}}, 'distance': 1329, 'place_id': '51003acc9717b434405969d6bebb3a744540f00103f90102d4c58a00000000'}, 'geometry': {'type': 'Point', 'coordinates': [20.703485, 42.90804240053405]}}]}\n",
      "zubin potok - nearest hotel: No hotel found\n"
     ]
    },
    {
     "name": "stderr",
     "output_type": "stream",
     "text": [
      "ERROR:root:Error message:\n",
      "Traceback (most recent call last):\n",
      "  File \"C:\\Users\\Moburu\\AppData\\Local\\Temp\\ipykernel_26060\\1195407018.py\", line 36, in <module>\n",
      "    hotel_df.loc[index, \"Hotel Name\"] = name_address[\"features\"][0][\"properties\"][\"name\"]\n",
      "                                        ~~~~~~~~~~~~~~~~~~~~~~~~^^^\n",
      "IndexError: list index out of range\n"
     ]
    },
    {
     "name": "stdout",
     "output_type": "stream",
     "text": [
      "{'type': 'FeatureCollection', 'features': []}\n",
      "seka - nearest hotel: No hotel found\n",
      "{'type': 'FeatureCollection', 'features': [{'type': 'Feature', 'properties': {'name': 'Comfort Rooms', 'country': 'Mexico', 'country_code': 'mx', 'state': 'Baja California Sur', 'county': 'Los Cabos Municipality', 'city': 'Cabo San Lucas', 'postcode': '23469', 'suburb': 'Juárez', 'street': 'Calle Revolución de 1910', 'lon': -109.9119612, 'lat': 22.8904798, 'state_code': 'BCS', 'formatted': 'Comfort Rooms, Calle Revolución de 1910, Juárez, 23469 Cabo San Lucas, BCS, Mexico', 'address_line1': 'Comfort Rooms', 'address_line2': 'Calle Revolución de 1910, Juárez, 23469 Cabo San Lucas, BCS, Mexico', 'categories': ['accommodation', 'accommodation.hotel'], 'details': [], 'datasource': {'sourcename': 'openstreetmap', 'attribution': '© OpenStreetMap contributors', 'license': 'Open Database License', 'url': 'https://www.openstreetmap.org/copyright', 'raw': {'name': 'Comfort Rooms', 'osm_id': 1683615044, 'tourism': 'hotel', 'osm_type': 'n'}}, 'distance': 65, 'place_id': '51234e82925d7a5bc059486af47bf6e33640f00103f90144ed59640000000092030d436f6d666f727420526f6f6d73'}, 'geometry': {'type': 'Point', 'coordinates': [-109.9119612, 22.89047980038802]}}]}\n",
      "cabo san lucas - nearest hotel: Comfort Rooms\n"
     ]
    },
    {
     "name": "stderr",
     "output_type": "stream",
     "text": [
      "ERROR:root:Error message:\n",
      "Traceback (most recent call last):\n",
      "  File \"C:\\Users\\Moburu\\AppData\\Local\\Temp\\ipykernel_26060\\1195407018.py\", line 36, in <module>\n",
      "    hotel_df.loc[index, \"Hotel Name\"] = name_address[\"features\"][0][\"properties\"][\"name\"]\n",
      "                                        ~~~~~~~~~~~~~~~~~~~~~~~~^^^\n",
      "IndexError: list index out of range\n"
     ]
    },
    {
     "name": "stdout",
     "output_type": "stream",
     "text": [
      "{'type': 'FeatureCollection', 'features': []}\n",
      "olonkinbyen - nearest hotel: No hotel found\n",
      "{'type': 'FeatureCollection', 'features': [{'type': 'Feature', 'properties': {'name': 'Center Lodge Conference Center', 'country': 'Botswana', 'country_code': 'bw', 'state': 'North-West District', 'city': 'Maun', 'street': 'Tsheko Tsheko Road', 'lon': 23.42500345, 'lat': -19.9877265, 'formatted': 'Center Lodge Conference Center, Tsheko Tsheko Road, Maun, Botswana', 'address_line1': 'Center Lodge Conference Center', 'address_line2': 'Tsheko Tsheko Road, Maun, Botswana', 'categories': ['accommodation', 'accommodation.hotel', 'building', 'building.accommodation'], 'details': [], 'datasource': {'sourcename': 'openstreetmap', 'attribution': '© OpenStreetMap contributors', 'license': 'Open Database License', 'url': 'https://www.openstreetmap.org/copyright', 'raw': {'name': 'Center Lodge Conference Center', 'osm_id': 192489379, 'tourism': 'hotel', 'building': 'yes', 'osm_type': 'w'}}, 'distance': 980, 'place_id': '51ea6fae06cd6c3740599c93d8a4dbfc33c0f00102f901a327790b0000000092031e43656e746572204c6f64676520436f6e666572656e63652043656e746572'}, 'geometry': {'type': 'Point', 'coordinates': [23.42500345, -19.9877265003921]}}]}\n",
      "maun - nearest hotel: Center Lodge Conference Center\n",
      "{'type': 'FeatureCollection', 'features': [{'type': 'Feature', 'properties': {'name': 'Hotel Sol del Pacífico', 'country': 'Mexico', 'country_code': 'mx', 'state': 'Michoacán', 'county': 'Lázaro Cárdenas', 'city': 'Lázaro Cárdenas', 'postcode': '60950', 'district': 'Centro', 'street': 'Calle Leona Vicario', 'housenumber': '178', 'lon': -102.19710236243941, 'lat': 17.9577081, 'formatted': 'Hotel Sol del Pacífico, Calle Leona Vicario 178, 60950 Lázaro Cárdenas, MIC, Mexico', 'address_line1': 'Hotel Sol del Pacífico', 'address_line2': 'Calle Leona Vicario 178, 60950 Lázaro Cárdenas, MIC, Mexico', 'categories': ['accommodation', 'accommodation.hotel', 'building', 'building.accommodation'], 'details': ['details.contact'], 'datasource': {'sourcename': 'openstreetmap', 'attribution': '© OpenStreetMap contributors', 'license': 'Open Database License', 'url': 'https://www.openstreetmap.org/copyright', 'raw': {'name': 'Hotel Sol del Pacífico', 'phone': 7535320660, 'osm_id': 276439645, 'tourism': 'hotel', 'building': 'yes', 'osm_type': 'w', 'addr:street': 'Francisco Javier Mina', 'addr:housenumber': 178}}, 'contact': {'phone': 7535320660}, 'distance': 282, 'place_id': '510f293a539d8c59c0593a9aa95b2cf53140f00102f9015d227a1000000000920317486f74656c20536f6c2064656c20506163c3ad6669636f'}, 'geometry': {'type': 'Point', 'coordinates': [-102.1971023624394, 17.95770810023007]}}]}\n",
      "lazaro cardenas - nearest hotel: Hotel Sol del Pacífico\n",
      "{'type': 'FeatureCollection', 'features': [{'type': 'Feature', 'properties': {'name': 'Trucut Travellers Inn', 'country': 'Philippines', 'country_code': 'ph', 'region': 'Mimaropa', 'state': 'Palawan', 'city': 'Rizal', 'postcode': '5304', 'street': '490', 'lon': 117.6428248, 'lat': 9.0340675, 'formatted': 'Trucut Travellers Inn, 490, Rizal, 5304 Palawan, Philippines', 'address_line1': 'Trucut Travellers Inn', 'address_line2': '490, Rizal, 5304 Palawan, Philippines', 'categories': ['accommodation', 'accommodation.hotel'], 'details': ['details'], 'datasource': {'sourcename': 'openstreetmap', 'attribution': '© OpenStreetMap contributors', 'license': 'Open Database License', 'url': 'https://www.openstreetmap.org/copyright', 'raw': {'name': 'Trucut Travellers Inn', 'osm_id': 4755703154, 'name:en': 'Trucut Travellers Inn', 'tourism': 'hotel', 'osm_type': 'n'}}, 'name_international': {'en': 'Trucut Travellers Inn'}, 'distance': 7206, 'place_id': '51b143a10a24695d40590494974b71112240f00103f9017245761b010000009203155472756375742054726176656c6c65727320496e6e'}, 'geometry': {'type': 'Point', 'coordinates': [117.64282479999999, 9.034067499402234]}}]}\n",
      "eraan - nearest hotel: Trucut Travellers Inn\n",
      "{'type': 'FeatureCollection', 'features': [{'type': 'Feature', 'properties': {'name': 'Север', 'country': 'Russia', 'country_code': 'ru', 'region': 'Far Eastern Federal District', 'state': 'Khabarovsk Krai', 'county': 'Nikolayevsky District', 'city': 'Nikolayevsk-on-Amur', 'municipality': 'городское поселение Николаевск-на-Амуре', 'postcode': '682460', 'street': 'Сибирская улица', 'housenumber': '117', 'lon': 140.7125641, 'lat': 53.1403378, 'formatted': 'Север, Сибирская улица 117, Nikolayevsk-on-Amur, Khabarovsk Krai, Russia, 682460', 'address_line1': 'Север', 'address_line2': 'Сибирская улица 117, Nikolayevsk-on-Amur, Khabarovsk Krai, Russia, 682460', 'categories': ['accommodation', 'accommodation.hotel'], 'details': [], 'datasource': {'sourcename': 'openstreetmap', 'attribution': '© OpenStreetMap contributors', 'license': 'Open Database License', 'url': 'https://www.openstreetmap.org/copyright', 'raw': {'name': 'Север', 'osm_id': 1143276604, 'tourism': 'hotel', 'osm_type': 'n'}}, 'distance': 1167, 'place_id': '51b8393a53cd96614059d9bfc896f6914a40f00103f9013c0425440000000092030ad0a1d0b5d0b2d0b5d180'}, 'geometry': {'type': 'Point', 'coordinates': [140.7125641, 53.14033779909341]}}]}\n",
      "nikolayevsk-on-amure - nearest hotel: Север\n"
     ]
    },
    {
     "name": "stderr",
     "output_type": "stream",
     "text": [
      "ERROR:root:Error message:\n",
      "Traceback (most recent call last):\n",
      "  File \"C:\\Users\\Moburu\\AppData\\Local\\Temp\\ipykernel_26060\\1195407018.py\", line 36, in <module>\n",
      "    hotel_df.loc[index, \"Hotel Name\"] = name_address[\"features\"][0][\"properties\"][\"name\"]\n",
      "                                        ~~~~~~~~~~~~~~~~~~~~~~~~^^^\n",
      "IndexError: list index out of range\n"
     ]
    },
    {
     "name": "stdout",
     "output_type": "stream",
     "text": [
      "{'type': 'FeatureCollection', 'features': []}\n",
      "huanren - nearest hotel: No hotel found\n",
      "{'type': 'FeatureCollection', 'features': [{'type': 'Feature', 'properties': {'name': 'DoubleTree Jamestown', 'ref': 'JHWDTDT', 'country': 'United States', 'country_code': 'us', 'state': 'New York', 'county': 'Chautauqua County', 'city': 'Jamestown', 'postcode': '14701', 'district': 'Downtown Jamestown', 'street': 'West 4th Street', 'housenumber': '150', 'lon': -79.24356553560622, 'lat': 42.097220699999994, 'state_code': 'NY', 'formatted': 'DoubleTree Jamestown, 150 West 4th Street, Jamestown, NY 14701, United States of America', 'address_line1': 'DoubleTree Jamestown', 'address_line2': '150 West 4th Street, Jamestown, NY 14701, United States of America', 'categories': ['accommodation', 'accommodation.hotel', 'building', 'building.accommodation'], 'details': ['details'], 'datasource': {'sourcename': 'openstreetmap', 'attribution': '© OpenStreetMap contributors', 'license': 'Open Database License', 'url': 'https://www.openstreetmap.org/copyright', 'raw': {'ref': 'JHWDTDT', 'name': 'DoubleTree Jamestown', 'brand': 'DoubleTree', 'branch': 'Jamestown', 'osm_id': 820284217, 'tourism': 'hotel', 'website': 'https://www.hilton.com/en/hotels/jhwdtdt-doubletree-jamestown/', 'building': 'yes', 'osm_type': 'w', 'addr:city': 'Jamestown', 'addr:state': 'NY', 'addr:street': 'West 4th Street', 'addr:postcode': 14701, 'official_name': 'DoubleTree by Hilton', 'brand:wikidata': 'Q2504643', 'addr:housenumber': 150, 'nysgissam:nysaddresspointid': 'CHAU019869'}}, 'website': 'https://www.hilton.com/en/hotels/jhwdtdt-doubletree-jamestown/', 'brand': 'DoubleTree', 'brand_details': {'wikidata': 'Q2504643'}, 'branch': 'Jamestown', 'name_other': {'official_name': 'DoubleTree by Hilton'}, 'distance': 642, 'place_id': '512277e69396cf53c0596e8e58ba710c4540f00102f901398be43000000000920314446f75626c6554726565204a616d6573746f776e'}, 'geometry': {'type': 'Point', 'coordinates': [-79.24356553560622, 42.09722070049325]}}]}\n",
      "jamestown - nearest hotel: DoubleTree Jamestown\n"
     ]
    },
    {
     "name": "stderr",
     "output_type": "stream",
     "text": [
      "ERROR:root:Error message:\n",
      "Traceback (most recent call last):\n",
      "  File \"C:\\Users\\Moburu\\AppData\\Local\\Temp\\ipykernel_26060\\1195407018.py\", line 36, in <module>\n",
      "    hotel_df.loc[index, \"Hotel Name\"] = name_address[\"features\"][0][\"properties\"][\"name\"]\n",
      "                                        ~~~~~~~~~~~~~~~~~~~~~~~~^^^\n",
      "IndexError: list index out of range\n"
     ]
    },
    {
     "name": "stdout",
     "output_type": "stream",
     "text": [
      "{'type': 'FeatureCollection', 'features': []}\n",
      "byumba - nearest hotel: No hotel found\n",
      "{'type': 'FeatureCollection', 'features': [{'type': 'Feature', 'properties': {'name': 'Warsame Hotel mnesta', 'country': 'Somalia', 'country_code': 'so', 'state': 'Sool', 'county': 'Las Anod District', 'city': 'Las Anod', 'suburb': 'Gol-Khatumo', 'street': 'Las Anod-Garowe Highway', 'lon': 47.3589156, 'lat': 8.4768299, 'state_code': 'SO', 'formatted': 'Warsame Hotel mnesta, Las Anod-Garowe Highway, Gol-Khatumo, Las Anod, Somalia', 'address_line1': 'Warsame Hotel mnesta', 'address_line2': 'Las Anod-Garowe Highway, Gol-Khatumo, Las Anod, Somalia', 'categories': ['accommodation', 'accommodation.hotel'], 'details': ['details'], 'datasource': {'sourcename': 'openstreetmap', 'attribution': '© OpenStreetMap contributors', 'license': 'Open Database License', 'url': 'https://www.openstreetmap.org/copyright', 'raw': {'osm_id': 4819855521, 'name:en': 'Warsame Hotel mnesta', 'tourism': 'hotel', 'osm_type': 'n'}}, 'name_international': {'en': 'Warsame Hotel mnesta'}, 'distance': 107, 'place_id': '511a0346f2f0ad474059734a6f0c23f42040f00103f901a128491f01000000'}, 'geometry': {'type': 'Point', 'coordinates': [47.3589156, 8.476829899392419]}}]}\n",
      "laascaanood - nearest hotel: Warsame Hotel mnesta\n",
      "{'type': 'FeatureCollection', 'features': [{'type': 'Feature', 'properties': {'name': 'Op My Stoep', 'country': 'Namibia', 'country_code': 'na', 'state': 'Karas', 'street': 'MR118', 'lon': 16.489403, 'lat': -28.560156, 'state_code': 'KA', 'formatted': 'Op My Stoep, MR118, Namibia', 'address_line1': 'Op My Stoep', 'address_line2': 'MR118, Namibia', 'categories': ['accommodation', 'accommodation.hotel'], 'details': [], 'datasource': {'sourcename': 'openstreetmap', 'attribution': '© OpenStreetMap contributors', 'license': 'Open Database License', 'url': 'https://www.openstreetmap.org/copyright', 'raw': {'name': 'Op My Stoep', 'osm_id': 2119487367, 'tourism': 'hotel', 'osm_type': 'n'}}, 'distance': 5604, 'place_id': '517590d783497d3040591ef43162668f3cc0f00103f90187cf547e0000000092030b4f70204d792053746f6570'}, 'geometry': {'type': 'Point', 'coordinates': [16.489403, -28.560155999370288]}}]}\n",
      "oranjemund - nearest hotel: Op My Stoep\n"
     ]
    },
    {
     "name": "stderr",
     "output_type": "stream",
     "text": [
      "ERROR:root:Error message:\n",
      "Traceback (most recent call last):\n",
      "  File \"C:\\Users\\Moburu\\AppData\\Local\\Temp\\ipykernel_26060\\1195407018.py\", line 36, in <module>\n",
      "    hotel_df.loc[index, \"Hotel Name\"] = name_address[\"features\"][0][\"properties\"][\"name\"]\n",
      "                                        ~~~~~~~~~~~~~~~~~~~~~~~~^^^\n",
      "IndexError: list index out of range\n"
     ]
    },
    {
     "name": "stdout",
     "output_type": "stream",
     "text": [
      "{'type': 'FeatureCollection', 'features': []}\n",
      "burutu - nearest hotel: No hotel found\n",
      "{'type': 'FeatureCollection', 'features': [{'type': 'Feature', 'properties': {'name': '海口行青年旅', 'country': 'China', 'country_code': 'cn', 'state': 'Hainan Province', 'city': 'Meilan District', 'postcode': '570208', 'district': 'Remin Road Subdistrict', 'street': 'Haidian 1st East Road', 'lon': 110.3423635, 'lat': 20.0504869, 'formatted': '海口行青年旅, Haidian 1st East Road, 570208 Hainan Province, China', 'address_line1': '海口行青年旅', 'address_line2': 'Haidian 1st East Road, 570208 Hainan Province, China', 'categories': ['accommodation', 'accommodation.hotel'], 'details': ['details'], 'datasource': {'sourcename': 'openstreetmap', 'attribution': '© OpenStreetMap contributors', 'license': 'Open Database License', 'url': 'https://www.openstreetmap.org/copyright', 'raw': {'name': '海口行青年旅', 'osm_id': 8245056718, 'name:zh': '海口行青年旅舍', 'tourism': 'hotel', 'osm_type': 'n'}}, 'name_international': {'zh': '海口行青年旅舍'}, 'distance': 523, 'place_id': '5105f69848e9955b40594ffca1b5ec0c3440f00103f901ce9471eb01000000920312e6b5b7e58fa3e8a18ce99d92e5b9b4e69785'}, 'geometry': {'type': 'Point', 'coordinates': [110.34236349999999, 20.05048690037466]}}]}\n",
      "haikou - nearest hotel: 海口行青年旅\n",
      "{'type': 'FeatureCollection', 'features': [{'type': 'Feature', 'properties': {'name': 'Longe LUVUVAMO', 'country': 'Angola', 'country_code': 'ao', 'state': 'Zaire Province', 'city': \"N'zeto\", 'street': 'Nzeto/Soyo', 'lon': 12.861249, 'lat': -7.2285355, 'formatted': \"Longe LUVUVAMO, Nzeto/Soyo, N'zeto, Angola\", 'address_line1': 'Longe LUVUVAMO', 'address_line2': \"Nzeto/Soyo, N'zeto, Angola\", 'categories': ['accommodation', 'accommodation.hotel'], 'details': ['details.contact'], 'datasource': {'sourcename': 'openstreetmap', 'attribution': '© OpenStreetMap contributors', 'license': 'Open Database License', 'url': 'https://www.openstreetmap.org/copyright', 'raw': {'name': 'Longe LUVUVAMO', 'phone': '+244 923469567', 'osm_id': 11586106169, 'tourism': 'hotel', 'osm_type': 'n'}}, 'contact': {'phone': '+244 923469567'}, 'distance': 660, 'place_id': '51e86c01a1f5b82940596e19c53505ea1cc0f00103f90139f395b20200000092030e4c6f6e6765204c55565556414d4f'}, 'geometry': {'type': 'Point', 'coordinates': [12.861249, -7.228535499720563]}}]}\n",
      "n'zeto - nearest hotel: Longe LUVUVAMO\n",
      "{'type': 'FeatureCollection', 'features': [{'type': 'Feature', 'properties': {'name': 'Vanilla Bungalow', 'country': 'Madagascar', 'country_code': 'mg', 'state': 'Atsinanana', 'county': 'District de Mahanoro', 'city': 'Mahanoro', 'suburb': 'Antanambao II', 'street': 'N 11a', 'lon': 48.803137, 'lat': -19.8918153, 'formatted': 'Vanilla Bungalow, N 11a, Antanambao II, Mahanoro, Madagascar', 'address_line1': 'Vanilla Bungalow', 'address_line2': 'N 11a, Antanambao II, Mahanoro, Madagascar', 'categories': ['accommodation', 'accommodation.hotel'], 'details': ['details'], 'datasource': {'sourcename': 'openstreetmap', 'attribution': '© OpenStreetMap contributors', 'license': 'Open Database License', 'url': 'https://www.openstreetmap.org/copyright', 'raw': {'osm_id': 5326612721, 'name:en': 'Vanilla Bungalow', 'tourism': 'hotel', 'osm_type': 'n'}}, 'name_international': {'en': 'Vanilla Bungalow'}, 'distance': 964, 'place_id': '51909a7631cd66484059f748ed014ee433c0f00103f901f1a87d3d01000000'}, 'geometry': {'type': 'Point', 'coordinates': [48.80313699999999, -19.891815300398743]}}]}\n",
      "mahanoro - nearest hotel: Vanilla Bungalow\n",
      "{'type': 'FeatureCollection', 'features': [{'type': 'Feature', 'properties': {'name': 'Hotel Bucegi', 'country': 'Romania', 'country_code': 'ro', 'county': 'Prahova', 'city': 'Sinaia', 'postcode': '106100', 'street': 'Bulevardul Carol I', 'housenumber': '22', 'lon': 25.54851063926325, 'lat': 45.3499135, 'formatted': 'Hotel Bucegi, Bulevardul Carol I 22, 106100 Sinaia, Romania', 'address_line1': 'Hotel Bucegi', 'address_line2': 'Bulevardul Carol I 22, 106100 Sinaia, Romania', 'categories': ['accommodation', 'accommodation.hotel', 'building', 'building.accommodation', 'internet_access', 'internet_access.for_customers'], 'details': ['details.contact', 'details.facilities'], 'datasource': {'sourcename': 'openstreetmap', 'attribution': '© OpenStreetMap contributors', 'license': 'Open Database License', 'url': 'https://www.openstreetmap.org/copyright', 'raw': {'name': 'Hotel Bucegi', 'phone': '0244 312 217', 'osm_id': 232930946, 'tourism': 'hotel', 'building': 'yes', 'osm_type': 'w', 'addr:city': 'Sinaia', 'check_date': '2023-07-22', 'addr:street': 'Bulevardul Carol I', 'addr:postcode': 106100, 'internet_access': 'yes', 'addr:housenumber': 22, 'internet_access:fee': 'customers', 'addr:postcode:source': 'Date de la Poșta Română, publicate sub Licența pentru Guvernare Deschisă v1.0 la http://date.gov.ro/organization/posta-romana'}}, 'contact': {'phone': '0244 312 217'}, 'facilities': {'internet_access': True}, 'distance': 88, 'place_id': '51ca2479316b8c394059e26330f7c9ac4640f00102f901823ee20d0000000092030c486f74656c20427563656769'}, 'geometry': {'type': 'Point', 'coordinates': [25.54851063926325, 45.34991350043107]}}]}\n",
      "sinaia - nearest hotel: Hotel Bucegi\n",
      "{'type': 'FeatureCollection', 'features': [{'type': 'Feature', 'properties': {'name': 'Copthorne Hotel Solway Park', 'country': 'New Zealand', 'country_code': 'nz', 'state': 'Wellington', 'city': 'Masterton', 'postcode': '5810', 'suburb': 'Solway', 'street': 'Driving Range Road', 'lon': 175.62115183428006, 'lat': -40.96078835, 'state_code': 'WGN', 'formatted': 'Copthorne Hotel Solway Park, Driving Range Road, Solway, Masterton 5810, New Zealand', 'address_line1': 'Copthorne Hotel Solway Park', 'address_line2': 'Driving Range Road, Solway, Masterton 5810, New Zealand', 'categories': ['accommodation', 'accommodation.hotel', 'building', 'building.accommodation'], 'details': [], 'datasource': {'sourcename': 'openstreetmap', 'attribution': '© OpenStreetMap contributors', 'license': 'Open Database License', 'url': 'https://www.openstreetmap.org/copyright', 'raw': {'name': 'Copthorne Hotel Solway Park', 'layer': 1, 'osm_id': -14319734, 'tourism': 'hotel', 'building': 'yes', 'osm_type': 'r'}}, 'distance': 2908, 'place_id': '51aac2cf79e0f3654059ccfcd81cfb7a44c0f00101f9017680da000000000092031b436f7074686f726e6520486f74656c20536f6c776179205061726b'}, 'geometry': {'type': 'Point', 'coordinates': [175.62115183428006, -40.960788351012155]}}]}\n",
      "masterton - nearest hotel: Copthorne Hotel Solway Park\n",
      "{'type': 'FeatureCollection', 'features': [{'type': 'Feature', 'properties': {'name': 'Valaskjálf', 'country': 'Iceland', 'country_code': 'is', 'state_district': 'Eastern Region', 'county': 'Múlaþing', 'city': 'Egilsstaðir', 'postcode': '700', 'street': 'Skógarlönd', 'housenumber': '3', 'lon': -14.3942635, 'lat': 65.2628888, 'formatted': 'Valaskjálf, Skógarlönd 3, 700 Egilsstaðir, Iceland', 'address_line1': 'Valaskjálf', 'address_line2': 'Skógarlönd 3, 700 Egilsstaðir, Iceland', 'categories': ['accommodation', 'accommodation.hotel'], 'details': [], 'datasource': {'sourcename': 'openstreetmap', 'attribution': '© OpenStreetMap contributors', 'license': 'Open Database License', 'url': 'https://www.openstreetmap.org/copyright', 'raw': {'name': 'Valaskjálf', 'osm_id': 289059265, 'tourism': 'hotel', 'osm_type': 'n', 'addr:city': 'Egilsstaðir', 'addr:street': 'Skógarlönd', 'addr:postcode': 700, 'addr:housenumber': 3}}, 'distance': 270, 'place_id': '515303cde7dcc92cc059541f8a2bd3505040f00103f901c1b13a110000000092030b56616c61736b6ac3a16c66'}, 'geometry': {'type': 'Point', 'coordinates': [-14.3942635, 65.26288879860414]}}]}\n",
      "egilsstadir - nearest hotel: Valaskjálf\n"
     ]
    },
    {
     "name": "stderr",
     "output_type": "stream",
     "text": [
      "ERROR:root:Error message:\n",
      "Traceback (most recent call last):\n",
      "  File \"C:\\Users\\Moburu\\AppData\\Local\\Temp\\ipykernel_26060\\1195407018.py\", line 36, in <module>\n",
      "    hotel_df.loc[index, \"Hotel Name\"] = name_address[\"features\"][0][\"properties\"][\"name\"]\n",
      "                                        ~~~~~~~~~~~~~~~~~~~~~~~~~~~~~~~~~~~~~~~~~^^^^^^^^\n",
      "KeyError: 'name'\n"
     ]
    },
    {
     "name": "stdout",
     "output_type": "stream",
     "text": [
      "{'type': 'FeatureCollection', 'features': [{'type': 'Feature', 'properties': {'country': 'Russia', 'country_code': 'ru', 'region': 'Northwestern Federal District', 'state': 'Murmansk Oblast', 'county': 'Alexandrovsk, Murmansk Oblast', 'city': 'Polyarny', 'postcode': '184652', 'street': 'улица Героев Тумана', 'housenumber': '5', 'lon': 33.43691, 'lat': 69.2007481, 'formatted': 'улица Героев Тумана 5, Polyarny, Murmansk Oblast, Russia, 184652', 'address_line1': 'улица Героев Тумана 5', 'address_line2': 'Polyarny, Murmansk Oblast, Russia, 184652', 'categories': ['accommodation', 'accommodation.hotel'], 'details': [], 'datasource': {'sourcename': 'openstreetmap', 'attribution': '© OpenStreetMap contributors', 'license': 'Open Database License', 'url': 'https://www.openstreetmap.org/copyright', 'raw': {'osm_id': 7785124188, 'tourism': 'hotel', 'osm_type': 'n'}}, 'distance': 478, 'place_id': '51cea5b8aaecb740405971d88c0ed94c5140f00103f9015c9107d001000000'}, 'geometry': {'type': 'Point', 'coordinates': [33.43691, 69.20074809793893]}}]}\n",
      "polyarnyy - nearest hotel: No hotel found\n",
      "{'type': 'FeatureCollection', 'features': [{'type': 'Feature', 'properties': {'name': 'The Salt Raker Inn', 'country': 'Turks and Caicos Islands', 'country_code': 'tc', 'county': 'Grand Turk', 'city': 'Cockburn Town', 'street': 'Duke Street', 'housenumber': '12', 'lon': -71.146770533275, 'lat': 21.461224700000002, 'formatted': 'The Salt Raker Inn, 12 Duke Street, Cockburn Town, Turks and Caicos Islands', 'address_line1': 'The Salt Raker Inn', 'address_line2': '12 Duke Street, Cockburn Town, Turks and Caicos Islands', 'categories': ['accommodation', 'accommodation.hotel', 'building', 'building.accommodation'], 'details': ['details.contact'], 'datasource': {'sourcename': 'openstreetmap', 'attribution': '© OpenStreetMap contributors', 'license': 'Open Database License', 'url': 'https://www.openstreetmap.org/copyright', 'raw': {'name': 'The Salt Raker Inn', 'phone': '946 2260', 'osm_id': 411762337, 'tourism': 'hotel', 'building': 'yes', 'osm_type': 'w', 'addr:street': 'Duke Street', 'addr:housenumber': 12}}, 'contact': {'phone': '946 2260'}, 'distance': 498, 'place_id': '51af1b3cb064c951c059fc5d6cd212763540f00102f901a1fe8a18000000009203125468652053616c742052616b657220496e6e'}, 'geometry': {'type': 'Point', 'coordinates': [-71.14677053327499, 21.461224700409716]}}]}\n",
      "cockburn town - nearest hotel: The Salt Raker Inn\n",
      "{'type': 'FeatureCollection', 'features': [{'type': 'Feature', 'properties': {'name': 'Alt Hotel', 'country': 'Canada', 'country_code': 'ca', 'state': 'Newfoundland and Labrador', 'county': 'Newfoundland', 'city': \"St. John's\", 'postcode': 'A1C 5X4', 'suburb': 'Downtown', 'street': 'Water Street', 'housenumber': '125', 'lon': -52.7043774, 'lat': 47.5661062, 'state_code': 'NL', 'formatted': \"Alt Hotel, 125 Water Street, St. John's, NL A1C 5X4, Canada\", 'address_line1': 'Alt Hotel', 'address_line2': \"125 Water Street, St. John's, NL A1C 5X4, Canada\", 'categories': ['accommodation', 'accommodation.hotel', 'internet_access'], 'details': ['details', 'details.contact', 'details.facilities'], 'datasource': {'sourcename': 'openstreetmap', 'attribution': '© OpenStreetMap contributors', 'license': 'Open Database License', 'url': 'https://www.openstreetmap.org/copyright', 'raw': {'name': 'Alt Hotel', 'email': 'reservations.altstjohns@germainhotels.com', 'phone': '+1-709-383-2125', 'osm_id': 9962746817, 'tourism': 'hotel', 'website': 'https://www.germainhotels.com/en/alt-hotel/st-johns', 'osm_type': 'n', 'addr:street': 'Water Street', 'addr:postcode': 'A1C 5X4', 'internet_access': 'wlan', 'addr:housenumber': 125, 'contact:instagram': 'althotel'}}, 'website': 'https://www.germainhotels.com/en/alt-hotel/st-johns', 'contact': {'phone': '+1-709-383-2125', 'email': 'reservations.altstjohns@germainhotels.com'}, 'facilities': {'internet_access': True}, 'distance': 394, 'place_id': '515085e409295a4ac059589dff2a76c84740f00103f901c173d35102000000920309416c7420486f74656c'}, 'geometry': {'type': 'Point', 'coordinates': [-52.7043774, 47.566106200038746]}}]}\n",
      "st. john's - nearest hotel: Alt Hotel\n",
      "{'type': 'FeatureCollection', 'features': [{'type': 'Feature', 'properties': {'name': 'Kavieng Hotel', 'country': 'Papua New Guinea', 'country_code': 'pg', 'region': 'Islands Region', 'state': 'New Ireland', 'city': 'Kavieng', 'district': 'Ulas Camp', 'street': 'Coronation Road', 'lon': 150.7952926, 'lat': -2.5753716, 'state_code': 'NIK', 'formatted': 'Kavieng Hotel, Coronation Road, Kavieng New Ireland, Papua New Guinea', 'address_line1': 'Kavieng Hotel', 'address_line2': 'Coronation Road, Kavieng New Ireland, Papua New Guinea', 'categories': ['accommodation', 'accommodation.hotel', 'internet_access'], 'details': ['details', 'details.accommodation', 'details.facilities'], 'datasource': {'sourcename': 'openstreetmap', 'attribution': '© OpenStreetMap contributors', 'license': 'Open Database License', 'url': 'https://www.openstreetmap.org/copyright', 'raw': {'name': 'Kavieng Hotel', 'brand': 'Hotel Services', 'stars': 2, 'osm_id': 5992078040, 'smoking': 'outside', 'tourism': 'hotel', 'osm_type': 'n', 'internet_access': 'yes', 'internet_access:fee': 'yes'}}, 'brand': 'Hotel Services', 'facilities': {'internet_access': True, 'smoking': True}, 'accommodation': {'stars': 2}, 'distance': 190, 'place_id': '510778770973d9624059e5b4e06c5c9a04c0f00103f901d8da27650100000092030d4b617669656e6720486f74656c'}, 'geometry': {'type': 'Point', 'coordinates': [150.7952926, -2.5753715997767466]}}]}\n",
      "kavieng - nearest hotel: Kavieng Hotel\n"
     ]
    },
    {
     "name": "stderr",
     "output_type": "stream",
     "text": [
      "ERROR:root:Error message:\n",
      "Traceback (most recent call last):\n",
      "  File \"C:\\Users\\Moburu\\AppData\\Local\\Temp\\ipykernel_26060\\1195407018.py\", line 36, in <module>\n",
      "    hotel_df.loc[index, \"Hotel Name\"] = name_address[\"features\"][0][\"properties\"][\"name\"]\n",
      "                                        ~~~~~~~~~~~~~~~~~~~~~~~~^^^\n",
      "IndexError: list index out of range\n"
     ]
    },
    {
     "name": "stdout",
     "output_type": "stream",
     "text": [
      "{'type': 'FeatureCollection', 'features': []}\n",
      "hawaiian paradise park - nearest hotel: No hotel found\n",
      "{'type': 'FeatureCollection', 'features': [{'type': 'Feature', 'properties': {'name': 'Северное сияние', 'country': 'Russia', 'country_code': 'ru', 'region': 'Northwestern Federal District', 'state': 'Murmansk Oblast', 'county': 'Zaozyorsk Urban Okrug', 'city': 'Zaozersk', 'postcode': '184310', 'street': 'улица Колышкина', 'housenumber': '2', 'lon': 32.446426132931585, 'lat': 69.3978104, 'formatted': 'Северное сияние, улица Колышкина 2, Zaozersk, Murmansk Oblast, Russia, 184310', 'address_line1': 'Северное сияние', 'address_line2': 'улица Колышкина 2, Zaozersk, Murmansk Oblast, Russia, 184310', 'categories': ['accommodation', 'accommodation.hotel', 'building', 'building.accommodation'], 'details': ['details', 'details.contact'], 'datasource': {'sourcename': 'openstreetmap', 'attribution': '© OpenStreetMap contributors', 'license': 'Open Database License', 'url': 'https://www.openstreetmap.org/copyright', 'raw': {'name': 'Северное сияние', 'phone': '+78155632444', 'osm_id': 85820178, 'tourism': 'hotel', 'building': 'yes', 'osm_type': 'w', 'addr:city': 'Заозерск', 'addr:street': 'улица Колышкина', 'addr:postcode': 184310, 'opening_hours': '24/7', 'addr:housenumber': 2}}, 'opening_hours': '24/7', 'contact': {'phone': '+78155632444'}, 'distance': 274, 'place_id': '51b882d47d2439404059c7a8beb975595140f00102f90112831d050000000092031dd0a1d0b5d0b2d0b5d180d0bdd0bed0b520d181d0b8d18fd0bdd0b8d0b5'}, 'geometry': {'type': 'Point', 'coordinates': [32.44642613293166, 69.39781039828368]}}]}\n",
      "zaozersk - nearest hotel: Северное сияние\n",
      "{'type': 'FeatureCollection', 'features': [{'type': 'Feature', 'properties': {'name': 'Sandman Hotel', 'country': 'Canada', 'country_code': 'ca', 'state': 'Alberta', 'city': 'Lethbridge', 'postcode': 'T1J 4E3', 'street': 'Mayor Magrath Drive South', 'lon': -112.80998894050633, 'lat': 49.69463745, 'state_code': 'AB', 'formatted': 'Sandman Hotel, Mayor Magrath Drive South, Lethbridge, AB T1J 4E3, Canada', 'address_line1': 'Sandman Hotel', 'address_line2': 'Mayor Magrath Drive South, Lethbridge, AB T1J 4E3, Canada', 'categories': ['accommodation', 'accommodation.hotel', 'building', 'building.accommodation', 'building.commercial'], 'details': [], 'datasource': {'sourcename': 'openstreetmap', 'attribution': '© OpenStreetMap contributors', 'license': 'Open Database License', 'url': 'https://www.openstreetmap.org/copyright', 'raw': {'name': 'Sandman Hotel', 'osm_id': 439028105, 'tourism': 'hotel', 'building': 'commercial', 'osm_type': 'w'}}, 'building': {'type': 'commercial'}, 'distance': 820, 'place_id': '512a66dadbd6335cc059b42344e1e9d84840f00102f90189092b1a0000000092030d53616e646d616e20486f74656c'}, 'geometry': {'type': 'Point', 'coordinates': [-112.80998894050632, 49.694637449523185]}}]}\n",
      "lethbridge - nearest hotel: Sandman Hotel\n",
      "{'type': 'FeatureCollection', 'features': [{'type': 'Feature', 'properties': {'name': 'Moravian Conference Centre', 'country': 'Tanzania', 'country_code': 'tz', 'region': 'Southern Highlands Zone', 'state': 'Rukwa Region', 'county': 'Sumbawanga Urban', 'city': 'Sumbawanga', 'street': 'T9', 'lon': 31.620196, 'lat': -7.9611716, 'formatted': 'Moravian Conference Centre, T9, Sumbawanga, Rukwa Region, Tanzania', 'address_line1': 'Moravian Conference Centre', 'address_line2': 'T9, Sumbawanga, Rukwa Region, Tanzania', 'categories': ['accommodation', 'accommodation.hotel', 'internet_access'], 'details': ['details.facilities'], 'datasource': {'sourcename': 'openstreetmap', 'attribution': '© OpenStreetMap contributors', 'license': 'Open Database License', 'url': 'https://www.openstreetmap.org/copyright', 'raw': {'name': 'Moravian Conference Centre', 'osm_id': 6066352086, 'tourism': 'hotel', 'osm_type': 'n', 'internet_access': 'wlan'}}, 'facilities': {'internet_access': True}, 'distance': 723, 'place_id': '51291c412ac59e3f405989392b5e3dd81fc0f00103f901d62f95690100000092031a4d6f72617669616e20436f6e666572656e63652043656e747265'}, 'geometry': {'type': 'Point', 'coordinates': [31.620195999999996, -7.961171599758367]}}]}\n",
      "sumbawanga - nearest hotel: Moravian Conference Centre\n",
      "{'type': 'FeatureCollection', 'features': [{'type': 'Feature', 'properties': {'name': 'Alter Speicher', 'country': 'Germany', 'country_code': 'de', 'state': 'Mecklenburg-Vorpommern', 'county': 'Vorpommern-Greifswald', 'city': 'Greifswald', 'postcode': '17489', 'suburb': 'Innenstadt', 'street': 'Roßmühlenstraße', 'housenumber': '25', 'lon': 13.379406, 'lat': 54.0984372, 'state_code': 'MV', 'formatted': 'Alter Speicher, Roßmühlenstraße 25, 17489 Greifswald, Germany', 'address_line1': 'Alter Speicher', 'address_line2': 'Roßmühlenstraße 25, 17489 Greifswald, Germany', 'categories': ['accommodation', 'accommodation.hotel', 'catering', 'catering.restaurant', 'wheelchair', 'wheelchair.yes'], 'details': ['details', 'details.contact', 'details.facilities'], 'datasource': {'sourcename': 'openstreetmap', 'attribution': '© OpenStreetMap contributors', 'license': 'Open Database License', 'url': 'https://www.openstreetmap.org/copyright', 'raw': {'fax': '+493834777077', 'name': 'Alter Speicher', 'email': 'info@alter-speicher.de', 'phone': '+49383477700', 'osm_id': 333752671, 'amenity': 'restaurant', 'tourism': 'hotel', 'website': 'https://www.alter-speicher.de/', 'osm_type': 'n', 'addr:city': 'Greifswald', 'wheelchair': 'yes', 'addr:street': 'Roßmühlenstraße', 'addr:country': 'DE', 'addr:postcode': 17489, 'addr:housenumber': 25, 'toilets:wheelchair': 'no'}}, 'website': 'https://www.alter-speicher.de/', 'contact': {'phone': '+49383477700', 'email': 'info@alter-speicher.de', 'fax': '+493834777077'}, 'facilities': {'wheelchair': True, 'toilets': False}, 'distance': 308, 'place_id': '51f6cfd38041c22a405924a41397990c4b40f00103f9015fa9e4130000000092030e416c746572205370656963686572'}, 'geometry': {'type': 'Point', 'coordinates': [13.379406, 54.09843719920198]}}]}\n",
      "greifswald - nearest hotel: Alter Speicher\n",
      "{'type': 'FeatureCollection', 'features': [{'type': 'Feature', 'properties': {'name': 'Fidji Motel', 'country': 'Brazil', 'country_code': 'br', 'region': 'Northeast Region', 'state': 'Pernambuco', 'state_district': 'Região Geográfica Intermediária do Recife', 'county': 'Região Metropolitana do Recife', 'city': 'Olinda', 'municipality': 'Região Geográfica Imediata do Recife', 'postcode': '53240-150', 'district': 'Olinda', 'neighbourhood': '7º/RO', 'suburb': 'Vila Popular', 'street': 'Avenida Pan Nordestina', 'lon': -34.859085333885375, 'lat': -8.009332950000001, 'state_code': 'PE', 'formatted': 'Fidji Motel, Avenida Pan Nordestina, Vila Popular, Olinda - PE, 53240-150, Brazil', 'address_line1': 'Fidji Motel', 'address_line2': 'Avenida Pan Nordestina, Vila Popular, Olinda - PE, 53240-150, Brazil', 'categories': ['accommodation', 'accommodation.hotel', 'building', 'building.accommodation', 'internet_access'], 'details': ['details.facilities'], 'datasource': {'sourcename': 'openstreetmap', 'attribution': '© OpenStreetMap contributors', 'license': 'Open Database License', 'url': 'https://www.openstreetmap.org/copyright', 'raw': {'name': 'Fidji Motel', 'layer': 1, 'osm_id': 543798765, 'tourism': 'hotel', 'building': 'yes', 'osm_type': 'w', 'addr:city': 'Olinda', 'addr:street': 'Avenida Pan Nordestina', 'addr:suburb': 'Vila Popular', 'internet_access': 'yes'}}, 'facilities': {'internet_access': True}, 'distance': 375, 'place_id': '5166c11a82f66d41c059e3ffd349c70420c0f00102f901edb569200000000092030b4669646a69204d6f74656c'}, 'geometry': {'type': 'Point', 'coordinates': [-34.859085333885375, -8.00933294976125]}}]}\n",
      "olinda - nearest hotel: Fidji Motel\n",
      "{'type': 'FeatureCollection', 'features': [{'type': 'Feature', 'properties': {'name': 'Сансар Хайрхан зочид буудал', 'country': 'Mongolia', 'country_code': 'mn', 'state': 'Govisumber', 'county': 'Sumber', 'city': 'Choir', 'street': 'Цагаан усны 3-р гудамж', 'lon': 108.3664782, 'lat': 46.3561052, 'formatted': 'Сансар Хайрхан зочид буудал, Цагаан усны 3-р гудамж, Choir, Mongolia', 'address_line1': 'Сансар Хайрхан зочид буудал', 'address_line2': 'Цагаан усны 3-р гудамж, Choir, Mongolia', 'categories': ['accommodation', 'accommodation.hotel'], 'details': [], 'datasource': {'sourcename': 'openstreetmap', 'attribution': '© OpenStreetMap contributors', 'license': 'Open Database License', 'url': 'https://www.openstreetmap.org/copyright', 'raw': {'name': 'Сансар Хайрхан зочид буудал', 'osm_id': 3910677829, 'tourism': 'hotel', 'osm_type': 'n'}}, 'distance': 693, 'place_id': '519becfa6074175b4059c693eeda942d4740f00103f901453518e900000000920333d0a1d0b0d0bdd181d0b0d18020d0a5d0b0d0b9d180d185d0b0d0bd20d0b7d0bed187d0b8d0b420d0b1d183d183d0b4d0b0d0bb'}, 'geometry': {'type': 'Point', 'coordinates': [108.3664782, 46.35610520028381]}}]}\n",
      "choyr - nearest hotel: Сансар Хайрхан зочид буудал\n",
      "{'type': 'FeatureCollection', 'features': [{'type': 'Feature', 'properties': {'name': 'Hótel Norðurland', 'country': 'Iceland', 'country_code': 'is', 'county': 'Northeastern Region', 'city': 'Akureyrarbær', 'postcode': '600', 'suburb': 'Miðbær', 'street': 'Geislagata', 'housenumber': '7', 'lon': -18.0917752, 'lat': 65.6838713, 'formatted': 'Hotel Nordurland, Geislagata 7, 600 Akureyrarbær, Iceland', 'address_line1': 'Hotel Nordurland', 'address_line2': 'Geislagata 7, 600 Akureyrarbær, Iceland', 'categories': ['accommodation', 'accommodation.hotel'], 'details': ['details', 'details.contact', 'details.facilities'], 'datasource': {'sourcename': 'openstreetmap', 'attribution': '© OpenStreetMap contributors', 'license': 'Open Database License', 'url': 'https://www.openstreetmap.org/copyright', 'raw': {'name': 'Hótel Norðurland', 'phone': '+354 462 2600', 'osm_id': 3029358577, 'name:en': 'Hotel Nordurland', 'name:is': 'Hótel Norðurland', 'smoking': 'outside', 'tourism': 'hotel', 'website': 'https://www.keahotels.is/Hotel-Nordurland', 'operator': 'Keahotels', 'osm_type': 'n', 'addr:city': 'Akureyri', 'addr:street': 'Geislagata', 'addr:country': 'IS', 'addr:postcode': 600, 'addr:housenumber': 7}}, 'website': 'https://www.keahotels.is/Hotel-Nordurland', 'operator': 'Keahotels', 'name_international': {'en': 'Hotel Nordurland', 'is': 'Hótel Norðurland'}, 'contact': {'phone': '+354 462 2600'}, 'facilities': {'smoking': True}, 'distance': 187, 'place_id': '5178955a947e1732c059f2021f8cc46b5040f00103f901f15790b40000000092031248c3b374656c204e6f72c3b075726c616e64'}, 'geometry': {'type': 'Point', 'coordinates': [-18.0917752, 65.68387129810779]}}]}\n",
      "akureyri - nearest hotel: Hótel Norðurland\n",
      "{'type': 'FeatureCollection', 'features': [{'type': 'Feature', 'properties': {'name': 'Comfort Suites Hotel', 'ref': 'PA266', 'country': 'United States', 'country_code': 'us', 'state': 'Pennsylvania', 'county': 'Cumberland County', 'city': 'Carlisle', 'postcode': '17013', 'street': 'South Hanover Street', 'housenumber': '8', 'lon': -77.18976955, 'lat': 40.20054865, 'state_code': 'PA', 'formatted': 'Comfort Suites Hotel, 8 South Hanover Street, Carlisle, PA 17013, United States of America', 'address_line1': 'Comfort Suites Hotel', 'address_line2': '8 South Hanover Street, Carlisle, PA 17013, United States of America', 'categories': ['accommodation', 'accommodation.hotel', 'building', 'building.accommodation'], 'details': ['details', 'details.contact'], 'datasource': {'sourcename': 'openstreetmap', 'attribution': '© OpenStreetMap contributors', 'license': 'Open Database License', 'url': 'https://www.openstreetmap.org/copyright', 'raw': {'ref': 'PA266', 'name': 'Comfort Suites Hotel', 'brand': 'Comfort Suites', 'phone': '+1 717-960-1000', 'branch': 'Downtown Carlisle', 'osm_id': 448286029, 'tourism': 'hotel', 'website': 'https://www.choicehotels.com/pennsylvania/wormleysburg/rodeway-inn-hotels', 'building': 'hotel', 'osm_type': 'w', 'addr:city': 'Carlisle', 'addr:state': 'PA', 'addr:street': 'South Hanover Street', 'addr:postcode': 17013, 'brand:wikidata': 'Q55525150', 'addr:housenumber': 8}}, 'website': 'https://www.choicehotels.com/pennsylvania/wormleysburg/rodeway-inn-hotels', 'brand': 'Comfort Suites', 'brand_details': {'wikidata': 'Q55525150'}, 'branch': 'Downtown Carlisle', 'contact': {'phone': '+1 717-960-1000'}, 'building': {'type': 'hotel'}, 'distance': 109, 'place_id': '51b4c12e2f254c53c05996220394ab194440f00102f9014d4db81a00000000920314436f6d666f72742053756974657320486f74656c'}, 'geometry': {'type': 'Point', 'coordinates': [-77.18976955, 40.200548650294124]}}]}\n",
      "carlisle - nearest hotel: Comfort Suites Hotel\n"
     ]
    },
    {
     "name": "stderr",
     "output_type": "stream",
     "text": [
      "ERROR:root:Error message:\n",
      "Traceback (most recent call last):\n",
      "  File \"C:\\Users\\Moburu\\AppData\\Local\\Temp\\ipykernel_26060\\1195407018.py\", line 36, in <module>\n",
      "    hotel_df.loc[index, \"Hotel Name\"] = name_address[\"features\"][0][\"properties\"][\"name\"]\n",
      "                                        ~~~~~~~~~~~~~~~~~~~~~~~~^^^\n",
      "IndexError: list index out of range\n"
     ]
    },
    {
     "name": "stdout",
     "output_type": "stream",
     "text": [
      "{'type': 'FeatureCollection', 'features': []}\n",
      "suya - nearest hotel: No hotel found\n",
      "{'type': 'FeatureCollection', 'features': [{'type': 'Feature', 'properties': {'name': 'Tropicana', 'country': 'Congo-Brazzaville', 'country_code': 'cg', 'state': 'Likouala', 'county': 'Impfondo', 'city': 'Impfondo', 'street': 'P45', 'lon': 18.0647569, 'lat': 1.6154069, 'formatted': 'Tropicana, P45, Impfondo, Congo-Brazzaville', 'address_line1': 'Tropicana', 'address_line2': 'P45, Impfondo, Congo-Brazzaville', 'categories': ['accommodation', 'accommodation.hotel'], 'details': ['details'], 'datasource': {'sourcename': 'openstreetmap', 'attribution': '© OpenStreetMap contributors', 'license': 'Open Database License', 'url': 'https://www.openstreetmap.org/copyright', 'raw': {'name': 'Tropicana', 'osm_id': 4801528222, 'name:fr': 'Tropicana', 'tourism': 'hotel', 'osm_type': 'n'}}, 'name_international': {'fr': 'Tropicana'}, 'distance': 2519, 'place_id': '51bab07fe8931032405972e8c7e7b4d8f93ff00103f9019e81311e0100000092030954726f706963616e61'}, 'geometry': {'type': 'Point', 'coordinates': [18.0647569, 1.6154068998280562]}}]}\n",
      "impfondo - nearest hotel: Tropicana\n"
     ]
    },
    {
     "name": "stderr",
     "output_type": "stream",
     "text": [
      "ERROR:root:Error message:\n",
      "Traceback (most recent call last):\n",
      "  File \"C:\\Users\\Moburu\\AppData\\Local\\Temp\\ipykernel_26060\\1195407018.py\", line 36, in <module>\n",
      "    hotel_df.loc[index, \"Hotel Name\"] = name_address[\"features\"][0][\"properties\"][\"name\"]\n",
      "                                        ~~~~~~~~~~~~~~~~~~~~~~~~^^^\n",
      "IndexError: list index out of range\n"
     ]
    },
    {
     "name": "stdout",
     "output_type": "stream",
     "text": [
      "{'type': 'FeatureCollection', 'features': []}\n",
      "minas de marcona - nearest hotel: No hotel found\n"
     ]
    },
    {
     "name": "stderr",
     "output_type": "stream",
     "text": [
      "ERROR:root:Error message:\n",
      "Traceback (most recent call last):\n",
      "  File \"C:\\Users\\Moburu\\AppData\\Local\\Temp\\ipykernel_26060\\1195407018.py\", line 36, in <module>\n",
      "    hotel_df.loc[index, \"Hotel Name\"] = name_address[\"features\"][0][\"properties\"][\"name\"]\n",
      "                                        ~~~~~~~~~~~~~~~~~~~~~~~~^^^\n",
      "IndexError: list index out of range\n"
     ]
    },
    {
     "name": "stdout",
     "output_type": "stream",
     "text": [
      "{'type': 'FeatureCollection', 'features': []}\n",
      "warrenton - nearest hotel: No hotel found\n",
      "{'type': 'FeatureCollection', 'features': [{'type': 'Feature', 'properties': {'name': 'Волга', 'country': 'Russia', 'country_code': 'ru', 'region': 'Volga Federal District', 'state': 'Saratov Oblast', 'county': 'Khvalynsky District', 'city': 'Khvalynsk', 'municipality': 'городское поселение Хвалынск', 'street': 'Sovetskaya Street', 'housenumber': '89', 'lon': 48.1118883, 'lat': 52.4909828, 'formatted': 'Волга, Sovetskaya Street 89, Khvalynsk, Saratov Oblast, Russia', 'address_line1': 'Волга', 'address_line2': 'Sovetskaya Street 89, Khvalynsk, Saratov Oblast, Russia', 'categories': ['accommodation', 'accommodation.hotel'], 'details': [], 'datasource': {'sourcename': 'openstreetmap', 'attribution': '© OpenStreetMap contributors', 'license': 'Open Database License', 'url': 'https://www.openstreetmap.org/copyright', 'raw': {'name': 'Волга', 'osm_id': 885683621, 'tourism': 'hotel', 'osm_type': 'n', 'addr:street': 'Советская улица', 'addr:housenumber': 89}}, 'distance': 6976, 'place_id': '510ba7165b520e484059d67d3c86d83e4a40f00103f901a575ca340000000092030ad092d0bed0bbd0b3d0b0'}, 'geometry': {'type': 'Point', 'coordinates': [48.1118883, 52.49098279908837]}}]}\n",
      "dukhovnitskoye - nearest hotel: Волга\n",
      "{'type': 'FeatureCollection', 'features': [{'type': 'Feature', 'properties': {'name': 'فندق تاج العرب', 'country': 'Yemen', 'country_code': 'ye', 'state': 'Al Mahrah Governorate', 'city': 'Al Ghaydah', 'district': 'Al Ghaydah District', 'suburb': 'Bin Hajlah', 'street': 'Airport Street', 'lon': 52.1785504, 'lat': 16.2077714, 'formatted': 'فندق تاج العرب, Airport Street, Al Ghaydah, Yemen', 'address_line1': 'فندق تاج العرب', 'address_line2': 'Airport Street, Al Ghaydah, Yemen', 'categories': ['accommodation', 'accommodation.hotel'], 'details': [], 'datasource': {'sourcename': 'openstreetmap', 'attribution': '© OpenStreetMap contributors', 'license': 'Open Database License', 'url': 'https://www.openstreetmap.org/copyright', 'raw': {'name': 'فندق تاج العرب', 'osm_id': 4329448852, 'tourism': 'hotel', 'osm_type': 'n'}}, 'distance': 273, 'place_id': '51075850bdda164a40595c40a88130353040f00103f90194250e020100000092031ad981d986d8afd98220d8aad8a7d8ac20d8a7d984d8b9d8b1d8a8'}, 'geometry': {'type': 'Point', 'coordinates': [52.1785504, 16.20777140004826]}}]}\n",
      "al ghayzah - nearest hotel: فندق تاج العرب\n",
      "{'type': 'FeatureCollection', 'features': [{'type': 'Feature', 'properties': {'name': 'Hotel Sol del Pacífico', 'country': 'Mexico', 'country_code': 'mx', 'state': 'Michoacán', 'county': 'Lázaro Cárdenas', 'city': 'Lázaro Cárdenas', 'postcode': '60950', 'district': 'Centro', 'street': 'Calle Leona Vicario', 'housenumber': '178', 'lon': -102.19710236243941, 'lat': 17.9577081, 'formatted': 'Hotel Sol del Pacífico, Calle Leona Vicario 178, 60950 Lázaro Cárdenas, MIC, Mexico', 'address_line1': 'Hotel Sol del Pacífico', 'address_line2': 'Calle Leona Vicario 178, 60950 Lázaro Cárdenas, MIC, Mexico', 'categories': ['accommodation', 'accommodation.hotel', 'building', 'building.accommodation'], 'details': ['details.contact'], 'datasource': {'sourcename': 'openstreetmap', 'attribution': '© OpenStreetMap contributors', 'license': 'Open Database License', 'url': 'https://www.openstreetmap.org/copyright', 'raw': {'name': 'Hotel Sol del Pacífico', 'phone': 7535320660, 'osm_id': 276439645, 'tourism': 'hotel', 'building': 'yes', 'osm_type': 'w', 'addr:street': 'Francisco Javier Mina', 'addr:housenumber': 178}}, 'contact': {'phone': 7535320660}, 'distance': 282, 'place_id': '510f293a539d8c59c0593a9aa95b2cf53140f00102f9015d227a1000000000920317486f74656c20536f6c2064656c20506163c3ad6669636f'}, 'geometry': {'type': 'Point', 'coordinates': [-102.1971023624394, 17.95770810023007]}}]}\n",
      "ciudad lazaro cardenas - nearest hotel: Hotel Sol del Pacífico\n"
     ]
    },
    {
     "name": "stderr",
     "output_type": "stream",
     "text": [
      "ERROR:root:Error message:\n",
      "Traceback (most recent call last):\n",
      "  File \"C:\\Users\\Moburu\\AppData\\Local\\Temp\\ipykernel_26060\\1195407018.py\", line 36, in <module>\n",
      "    hotel_df.loc[index, \"Hotel Name\"] = name_address[\"features\"][0][\"properties\"][\"name\"]\n",
      "                                        ~~~~~~~~~~~~~~~~~~~~~~~~^^^\n",
      "IndexError: list index out of range\n"
     ]
    },
    {
     "name": "stdout",
     "output_type": "stream",
     "text": [
      "{'type': 'FeatureCollection', 'features': []}\n",
      "coahuayana de hidalgo - nearest hotel: No hotel found\n",
      "{'type': 'FeatureCollection', 'features': [{'type': 'Feature', 'properties': {'name': 'La Portada', 'country': 'Peru', 'country_code': 'pe', 'region': 'Province of Pisco', 'state': 'Ica', 'city': 'Pisco', 'postcode': '11601', 'district': 'Hacienda Gallinazo', 'street': 'Calle Alipio Ponce Vasques', 'lon': -76.2052654, 'lat': -13.707727, 'state_code': 'ICA', 'formatted': 'La Portada, Calle Alipio Ponce Vasques, Pisco 11601, Peru', 'address_line1': 'La Portada', 'address_line2': 'Calle Alipio Ponce Vasques, Pisco 11601, Peru', 'categories': ['accommodation', 'accommodation.hotel'], 'details': [], 'datasource': {'sourcename': 'openstreetmap', 'attribution': '© OpenStreetMap contributors', 'license': 'Open Database License', 'url': 'https://www.openstreetmap.org/copyright', 'raw': {'name': 'La Portada', 'osm_id': 563951845, 'tourism': 'hotel', 'osm_type': 'n'}}, 'distance': 1504, 'place_id': '5105007d11230d53c059de5f81315b6a2bc0f00103f901e5389d210000000092030a4c6120506f7274616461'}, 'geometry': {'type': 'Point', 'coordinates': [-76.20526539999999, -13.707727000277313]}}]}\n",
      "pisco - nearest hotel: La Portada\n",
      "{'type': 'FeatureCollection', 'features': [{'type': 'Feature', 'properties': {'name': 'Pousada Recanto do Prado', 'country': 'Brazil', 'country_code': 'br', 'region': 'Northeast Region', 'state': 'Bahia', 'county': 'Região Geográfica Intermediária de Ilhéus-Itabuna', 'city': 'Prado', 'municipality': 'Região Geográfica Imediata de Teixeira de Freitas', 'postcode': '45980-000', 'district': 'Prado', 'suburb': 'Expedito Cordeiro', 'street': 'Rua Isaura Sulz de Almeida', 'lon': -39.22207252793443, 'lat': -17.33776305, 'state_code': 'BA', 'formatted': 'Pousada Recanto do Prado, Rua Isaura Sulz de Almeida, Expedito Cordeiro, Prado - BA, 45980-000, Brazil', 'address_line1': 'Pousada Recanto do Prado', 'address_line2': 'Rua Isaura Sulz de Almeida, Expedito Cordeiro, Prado - BA, 45980-000, Brazil', 'categories': ['accommodation', 'accommodation.hotel', 'building', 'building.accommodation'], 'details': [], 'datasource': {'sourcename': 'openstreetmap', 'attribution': '© OpenStreetMap contributors', 'license': 'Open Database License', 'url': 'https://www.openstreetmap.org/copyright', 'raw': {'name': 'Pousada Recanto do Prado', 'osm_id': 568390528, 'tourism': 'hotel', 'building': 'yes', 'osm_type': 'w'}}, 'distance': 342, 'place_id': '51c26862df6c9c43c0592495a7a3775631c0f00102f90180f3e02100000000920318506f757361646120526563616e746f20646f20507261646f'}, 'geometry': {'type': 'Point', 'coordinates': [-39.22207252793443, -17.337763050473896]}}]}\n",
      "prado - nearest hotel: Pousada Recanto do Prado\n"
     ]
    },
    {
     "name": "stderr",
     "output_type": "stream",
     "text": [
      "ERROR:root:Error message:\n",
      "Traceback (most recent call last):\n",
      "  File \"C:\\Users\\Moburu\\AppData\\Local\\Temp\\ipykernel_26060\\1195407018.py\", line 36, in <module>\n",
      "    hotel_df.loc[index, \"Hotel Name\"] = name_address[\"features\"][0][\"properties\"][\"name\"]\n",
      "                                        ~~~~~~~~~~~~~~~~~~~~~~~~~~~~~~~~~~~~~~~~~^^^^^^^^\n",
      "KeyError: 'name'\n"
     ]
    },
    {
     "name": "stdout",
     "output_type": "stream",
     "text": [
      "{'type': 'FeatureCollection', 'features': [{'type': 'Feature', 'properties': {'country': 'South Africa', 'country_code': 'za', 'state': 'Eastern Cape', 'county': 'Sarah Baartman District Municipality', 'city': 'Ndlambe Local Municipality', 'town': 'Port Alfred', 'postcode': '6170', 'suburb': 'Royal Alfred Marina', 'street': \"Dogs O'Devon\", 'lon': 26.8936287, 'lat': -33.5939104, 'state_code': 'EC', 'formatted': \"Dogs O'Devon, Royal Alfred Marina, Ndlambe Local Municipality, 6170, South Africa\", 'address_line1': \"Dogs O'Devon\", 'address_line2': 'Royal Alfred Marina, Ndlambe Local Municipality, 6170, South Africa', 'categories': ['accommodation', 'accommodation.hotel'], 'details': [], 'datasource': {'sourcename': 'openstreetmap', 'attribution': '© OpenStreetMap contributors', 'license': 'Open Database License', 'url': 'https://www.openstreetmap.org/copyright', 'raw': {'osm_id': 5498447298, 'tourism': 'hotel', 'osm_type': 'n'}}, 'distance': 441, 'place_id': '515a44b9d9c4e43a4059628f874105cc40c0f00103f901c2a5bb4701000000'}, 'geometry': {'type': 'Point', 'coordinates': [26.8936287, -33.59391039961953]}}]}\n",
      "port alfred - nearest hotel: No hotel found\n"
     ]
    },
    {
     "name": "stderr",
     "output_type": "stream",
     "text": [
      "ERROR:root:Error message:\n",
      "Traceback (most recent call last):\n",
      "  File \"C:\\Users\\Moburu\\AppData\\Local\\Temp\\ipykernel_26060\\1195407018.py\", line 36, in <module>\n",
      "    hotel_df.loc[index, \"Hotel Name\"] = name_address[\"features\"][0][\"properties\"][\"name\"]\n",
      "                                        ~~~~~~~~~~~~~~~~~~~~~~~~~~~~~~~~~~~~~~~~~^^^^^^^^\n",
      "KeyError: 'name'\n"
     ]
    },
    {
     "name": "stdout",
     "output_type": "stream",
     "text": [
      "{'type': 'FeatureCollection', 'features': [{'type': 'Feature', 'properties': {'country': 'China', 'country_code': 'cn', 'state': 'Anhui', 'county': 'Dangtu County', 'city': \"Ma'anshan\", 'town': 'Gushu', 'postcode': '243100', 'street': '振兴中路', 'lon': 118.4955664, 'lat': 31.5658182, 'formatted': '振兴中路, Dangtu County, 243100 Anhui, China', 'address_line1': '振兴中路', 'address_line2': 'Dangtu County, 243100 Anhui, China', 'categories': ['accommodation', 'accommodation.hotel'], 'details': [], 'datasource': {'sourcename': 'openstreetmap', 'attribution': '© OpenStreetMap contributors', 'license': 'Open Database License', 'url': 'https://www.openstreetmap.org/copyright', 'raw': {'osm_id': 5513787030, 'tourism': 'hotel', 'osm_type': 'n'}}, 'distance': 1375, 'place_id': '51c63f225cb79f5d40590ae22676d9903f40f00103f90196b6a54801000000'}, 'geometry': {'type': 'Point', 'coordinates': [118.4955664, 31.565818199627792]}}]}\n",
      "gushu - nearest hotel: No hotel found\n",
      "{'type': 'FeatureCollection', 'features': [{'type': 'Feature', 'properties': {'name': 'Erdős Panzió', 'country': 'Romania', 'country_code': 'ro', 'county': 'Harghita', 'city': 'Ditrău', 'postcode': '537090', 'street': 'DJ127', 'housenumber': '233', 'lon': 25.5314419, 'lat': 46.8233374, 'formatted': 'Erdős Panzió, DJ127 233, 537090 Ditrău, Romania', 'address_line1': 'Erdős Panzió', 'address_line2': 'DJ127 233, 537090 Ditrău, Romania', 'categories': ['accommodation', 'accommodation.hotel'], 'details': ['details', 'details.contact'], 'datasource': {'sourcename': 'openstreetmap', 'attribution': '© OpenStreetMap contributors', 'license': 'Open Database License', 'url': 'https://www.openstreetmap.org/copyright', 'raw': {'name': 'Erdős Panzió', 'phone': '+4 0749 172 084', 'osm_id': 3225391357, 'tourism': 'hotel', 'website': 'http://www.erdospanzio.ro/', 'osm_type': 'n', 'addr:city': 'Ditrău', 'addr:street': 'Strada Nicolae Bălcescu', 'addr:postcode': 537090, 'addr:housenumber': 233, 'addr:postcode:source': 'Date de la Poșta Română, publicate sub Licența pentru Guvernare Deschisă v1.0 la http://date.gov.ro/organization/posta-romana'}}, 'website': 'http://www.erdospanzio.ro/', 'contact': {'phone': '+4 0749 172 084'}, 'distance': 1345, 'place_id': '515f398c930c88394059a4b5b31e63694740f00103f901fd903fc00000000092030e457264c591732050616e7a69c3b3'}, 'geometry': {'type': 'Point', 'coordinates': [25.5314419, 46.823337400196834]}}]}\n",
      "ditrau - nearest hotel: Erdős Panzió\n"
     ]
    },
    {
     "name": "stderr",
     "output_type": "stream",
     "text": [
      "ERROR:root:Error message:\n",
      "Traceback (most recent call last):\n",
      "  File \"C:\\Users\\Moburu\\AppData\\Local\\Temp\\ipykernel_26060\\1195407018.py\", line 36, in <module>\n",
      "    hotel_df.loc[index, \"Hotel Name\"] = name_address[\"features\"][0][\"properties\"][\"name\"]\n",
      "                                        ~~~~~~~~~~~~~~~~~~~~~~~~^^^\n",
      "IndexError: list index out of range\n"
     ]
    },
    {
     "name": "stdout",
     "output_type": "stream",
     "text": [
      "{'type': 'FeatureCollection', 'features': []}\n",
      "lubang - nearest hotel: No hotel found\n",
      "{'type': 'FeatureCollection', 'features': [{'type': 'Feature', 'properties': {'name': 'Cabinas', 'country': 'Costa Rica', 'country_code': 'cr', 'county': 'Cantón Paraíso', 'province': 'Cartago Province', 'city': 'Paraíso', 'postcode': '30201', 'district': 'San Esteban', 'street': 'Vía 10', 'lon': -83.8630989, 'lat': 9.8452428, 'formatted': 'Cabinas, Vía 10, Paraíso, San Esteban, 30201 Costa Rica', 'address_line1': 'Cabinas', 'address_line2': 'Vía 10, Paraíso, San Esteban, 30201 Costa Rica', 'categories': ['accommodation', 'accommodation.hotel'], 'details': [], 'datasource': {'sourcename': 'openstreetmap', 'attribution': '© OpenStreetMap contributors', 'license': 'Open Database License', 'url': 'https://www.openstreetmap.org/copyright', 'raw': {'name': 'Cabinas', 'osm_id': 3882675599, 'tourism': 'hotel', 'osm_type': 'n'}}, 'distance': 815, 'place_id': '51ab2d2b033df754c059057809aac3b02340f00103f9018fed6ce700000000920307436162696e6173'}, 'geometry': {'type': 'Point', 'coordinates': [-83.8630989, 9.845242799430716]}}]}\n",
      "paraiso - nearest hotel: Cabinas\n",
      "{'type': 'FeatureCollection', 'features': [{'type': 'Feature', 'properties': {'name': 'Ibis Guaíba', 'country': 'Brazil', 'country_code': 'br', 'region': 'South Region', 'state': 'Rio Grande do Sul', 'state_district': 'Região Geográfica Intermediária de Porto Alegre', 'county': 'Metropolitan Region of Porto Alegre', 'city': 'Guaíba', 'municipality': 'Região Geográfica Imediata de Porto Alegre', 'postcode': '92500-000', 'district': 'Guaíba', 'neighbourhood': 'Recanto Solar', 'suburb': 'Coronel Nassuca', 'street': 'Avenida Dona Frutuosa', 'lon': -51.3266719611329, 'lat': -30.1219662, 'state_code': 'RS', 'formatted': 'Ibis Guaíba, Avenida Dona Frutuosa, Coronel Nassuca, Guaíba - RS, 92500-000, Brazil', 'address_line1': 'Ibis Guaíba', 'address_line2': 'Avenida Dona Frutuosa, Coronel Nassuca, Guaíba - RS, 92500-000, Brazil', 'categories': ['accommodation', 'accommodation.hotel', 'building', 'building.accommodation'], 'details': [], 'datasource': {'sourcename': 'openstreetmap', 'attribution': '© OpenStreetMap contributors', 'license': 'Open Database License', 'url': 'https://www.openstreetmap.org/copyright', 'raw': {'name': 'Ibis Guaíba', 'osm_id': 546876861, 'tourism': 'hotel', 'building': 'yes', 'osm_type': 'w', 'addr:street': 'Avenida Dona Frutuosa'}}, 'distance': 889, 'place_id': '5100cb0663d0a949c059a44b452d391f3ec0f00102f901bdad98200000000092030c4962697320477561c3ad6261'}, 'geometry': {'type': 'Point', 'coordinates': [-51.32667196113289, -30.121966199319687]}}]}\n",
      "guaiba - nearest hotel: Ibis Guaíba\n",
      "{'type': 'FeatureCollection', 'features': [{'type': 'Feature', 'properties': {'name': 'Die Tuishuise and Victoria Manor', 'country': 'South Africa', 'country_code': 'za', 'state': 'Eastern Cape', 'county': 'Chris Hani District Municipality', 'city': 'Inxuba Yethemba Local Municipality', 'town': 'Cradock', 'postcode': '5880', 'suburb': 'Inxuba Yethemba Ward 5', 'street': 'Market Street', 'housenumber': '36', 'lon': 25.6186638, 'lat': -32.1706536, 'state_code': 'EC', 'formatted': 'Die Tuishuise and Victoria Manor, 36 Market Street, Inxuba Yethemba Ward 5, Inxuba Yethemba Local Municipality, 5880, South Africa', 'address_line1': 'Die Tuishuise and Victoria Manor', 'address_line2': '36 Market Street, Inxuba Yethemba Ward 5, Inxuba Yethemba Local Municipality, 5880, South Africa', 'categories': ['accommodation', 'accommodation.hotel', 'internet_access', 'internet_access.free'], 'details': ['details.contact', 'details.facilities'], 'datasource': {'sourcename': 'openstreetmap', 'attribution': '© OpenStreetMap contributors', 'license': 'Open Database License', 'url': 'https://www.openstreetmap.org/copyright', 'raw': {'bar': 'yes', 'name': 'Die Tuishuise and Victoria Manor', 'phone': '+27 48 881 1322', 'osm_id': 6960393650, 'tourism': 'hotel', 'osm_type': 'n', 'addr:city': 'Cradock', 'addr:street': 'Market Street', 'addr:postcode': 5880, 'internet_access': 'wlan', 'addr:housenumber': 36, 'internet_access:fee': 'no'}}, 'contact': {'phone': '+27 48 881 1322'}, 'facilities': {'internet_access': True}, 'distance': 717, 'place_id': '51163834c0609e394059cf3d26fad71540c0f00103f901b22ddf9e010000009203204469652054756973687569736520616e6420566963746f726961204d616e6f72'}, 'geometry': {'type': 'Point', 'coordinates': [25.6186638, -32.17065359942682]}}]}\n",
      "cradock - nearest hotel: Die Tuishuise and Victoria Manor\n",
      "{'type': 'FeatureCollection', 'features': [{'type': 'Feature', 'properties': {'name': 'Победа', 'country': 'Russia', 'country_code': 'ru', 'region': 'Far Eastern Federal District', 'state': 'Kamchatka Krai', 'county': 'Vilyuchinsk', 'city': 'Vilyuchinsk', 'postcode': '684090', 'street': 'Приморская улица', 'housenumber': '9', 'lon': 158.404204, 'lat': 52.9267124, 'formatted': 'Победа, Приморская улица 9, Vilyuchinsk, Kamchatka Krai, Russia, 684090', 'address_line1': 'Победа', 'address_line2': 'Приморская улица 9, Vilyuchinsk, Kamchatka Krai, Russia, 684090', 'categories': ['accommodation', 'accommodation.hotel'], 'details': [], 'datasource': {'sourcename': 'openstreetmap', 'attribution': '© OpenStreetMap contributors', 'license': 'Open Database License', 'url': 'https://www.openstreetmap.org/copyright', 'raw': {'name': 'Победа', 'level': 5, 'osm_id': 9255204780, 'tourism': 'hotel', 'osm_type': 'n'}}, 'distance': 443, 'place_id': '51311d3a3defcc634059996f0b839e764a40f00103f901ac37a7270200000092030cd09fd0bed0b1d0b5d0b4d0b0'}, 'geometry': {'type': 'Point', 'coordinates': [158.40420399999996, 52.92671239908595]}}]}\n",
      "vilyuchinsk - nearest hotel: Победа\n"
     ]
    },
    {
     "name": "stderr",
     "output_type": "stream",
     "text": [
      "ERROR:root:Error message:\n",
      "Traceback (most recent call last):\n",
      "  File \"C:\\Users\\Moburu\\AppData\\Local\\Temp\\ipykernel_26060\\1195407018.py\", line 36, in <module>\n",
      "    hotel_df.loc[index, \"Hotel Name\"] = name_address[\"features\"][0][\"properties\"][\"name\"]\n",
      "                                        ~~~~~~~~~~~~~~~~~~~~~~~~~~~~~~~~~~~~~~~~~^^^^^^^^\n",
      "KeyError: 'name'\n"
     ]
    },
    {
     "name": "stdout",
     "output_type": "stream",
     "text": [
      "{'type': 'FeatureCollection', 'features': [{'type': 'Feature', 'properties': {'country': 'Brazil', 'country_code': 'br', 'region': 'Southeast Region', 'state': 'Rio de Janeiro', 'county': 'Região Geográfica Intermediária de Macaé-Rio das Ostras-Cabo Frio', 'city': 'Arraial do Cabo', 'municipality': 'Região Geográfica Imediata de Cabo Frio', 'postcode': '28930-000', 'street': 'Rua Rodrigues Alves', 'lon': -42.022586888741984, 'lat': -22.967543550000002, 'state_code': 'RJ', 'formatted': 'Rua Rodrigues Alves, Arraial do Cabo - RJ, 28930-000, Brazil', 'address_line1': 'Rua Rodrigues Alves', 'address_line2': 'Arraial do Cabo - RJ, 28930-000, Brazil', 'categories': ['accommodation', 'accommodation.hotel', 'building', 'building.accommodation'], 'details': [], 'datasource': {'sourcename': 'openstreetmap', 'attribution': '© OpenStreetMap contributors', 'license': 'Open Database License', 'url': 'https://www.openstreetmap.org/copyright', 'raw': {'osm_id': 486922209, 'tourism': 'hotel', 'building': 'yes', 'osm_type': 'w'}}, 'distance': 546, 'place_id': '518c3b8e20e40245c059520321efb0f736c0f00102f901e1d7051d00000000'}, 'geometry': {'type': 'Point', 'coordinates': [-42.022586888741984, -22.967543550071532]}}]}\n",
      "arraial do cabo - nearest hotel: No hotel found\n",
      "{'type': 'FeatureCollection', 'features': [{'type': 'Feature', 'properties': {'name': 'Талнах', 'country': 'Russia', 'country_code': 'ru', 'region': 'Siberian Federal District', 'state': 'Krasnoyarsk Krai', 'county': 'городской округ Норильск', 'city': 'Norilsk', 'postcode': '663333', 'suburb': 'Talnakh', 'quarter': '5-й микрорайон', 'street': 'улица Первопроходцев', 'housenumber': '15', 'lon': 88.39927035, 'lat': 69.49766844999999, 'formatted': 'Talnakh Hotel, улица Первопроходцев 15, Talnakh, Norilsk, Krasnoyarsk Krai, Russia, 663333', 'address_line1': 'Talnakh Hotel', 'address_line2': 'улица Первопроходцев 15, Talnakh, Norilsk, Krasnoyarsk Krai, Russia, 663333', 'categories': ['accommodation', 'accommodation.hotel', 'building', 'building.accommodation'], 'details': ['details', 'details.accommodation', 'details.building', 'details.contact'], 'datasource': {'sourcename': 'openstreetmap', 'attribution': '© OpenStreetMap contributors', 'license': 'Open Database License', 'url': 'https://www.openstreetmap.org/copyright', 'raw': {'name': 'Талнах', 'phone': '+7 3919 448001', 'stars': 3, 'osm_id': 93389836, 'name:en': 'Talnakh Hotel', 'name:ja': 'タルナフ', 'name:ru': 'Талнах', 'tourism': 'hotel', 'website': 'https://hoteltalnakh.ru/', 'building': 'hotel', 'int_name': 'Talnakh', 'osm_type': 'w', 'addr:street': 'улица Первопроходцев', 'addr:country': 'RU', 'addr:postcode': 663333, 'building:levels': 3, 'addr:housenumber': 15}}, 'website': 'https://hoteltalnakh.ru/', 'name_international': {'en': 'Talnakh Hotel', 'ja': 'タルナフ', 'ru': 'Талнах'}, 'contact': {'phone': '+7 3919 448001'}, 'accommodation': {'stars': 3}, 'building': {'levels': 3, 'type': 'hotel'}, 'distance': 1231, 'place_id': '51cce039a58d195640598b9cc3ccd95f5140f00102f9010c0491050000000092030cd0a2d0b0d0bbd0bdd0b0d185'}, 'geometry': {'type': 'Point', 'coordinates': [88.39927035, 69.49766844847379]}}]}\n",
      "talnakh - nearest hotel: Талнах\n",
      "{'type': 'FeatureCollection', 'features': [{'type': 'Feature', 'properties': {'name': 'Natal Palace Hotel', 'country': 'Brazil', 'country_code': 'br', 'region': 'Northeast Region', 'state': 'Rio Grande do Norte', 'county': 'Região Geográfica Intermediária de Natal', 'city': 'Natal', 'municipality': 'Região Geográfica Imediata de Natal', 'postcode': '59040-200', 'district': 'Região Leste', 'suburb': 'Alecrim', 'street': 'Rua Amaro Barreto', 'lon': -35.21617694207326, 'lat': -5.793941500000001, 'state_code': 'RN', 'formatted': 'Natal Palace Hotel, Rua Amaro Barreto, Alecrim, Natal - RN, 59040-200, Brazil', 'address_line1': 'Natal Palace Hotel', 'address_line2': 'Rua Amaro Barreto, Alecrim, Natal - RN, 59040-200, Brazil', 'categories': ['accommodation', 'accommodation.hotel', 'building', 'building.accommodation'], 'details': [], 'datasource': {'sourcename': 'openstreetmap', 'attribution': '© OpenStreetMap contributors', 'license': 'Open Database License', 'url': 'https://www.openstreetmap.org/copyright', 'raw': {'name': 'Natal Palace Hotel', 'osm_id': 636946409, 'tourism': 'hotel', 'building': 'yes', 'osm_type': 'w'}}, 'distance': 751, 'place_id': '514e2da0afab9b41c0592c492000ff2c17c0f00102f901e907f725000000009203124e6174616c2050616c61636520486f74656c'}, 'geometry': {'type': 'Point', 'coordinates': [-35.21617694207326, -5.793941499682017]}}]}\n",
      "natal - nearest hotel: Natal Palace Hotel\n",
      "{'type': 'FeatureCollection', 'features': [{'type': 'Feature', 'properties': {'name': 'La Sammana', 'country': 'United States', 'country_code': 'us', 'state': 'New Jersey', 'county': 'Atlantic County', 'city': 'Brigantine', 'postcode': '08203', 'street': 'West Brigantine Avenue', 'lon': -74.373018628242, 'lat': 39.401483799999994, 'state_code': 'NJ', 'formatted': 'La Sammana, West Brigantine Avenue, Brigantine, NJ 08203, United States of America', 'address_line1': 'La Sammana', 'address_line2': 'West Brigantine Avenue, Brigantine, NJ 08203, United States of America', 'categories': ['accommodation', 'accommodation.hotel', 'building', 'building.accommodation'], 'details': [], 'datasource': {'sourcename': 'openstreetmap', 'attribution': '© OpenStreetMap contributors', 'license': 'Open Database License', 'url': 'https://www.openstreetmap.org/copyright', 'raw': {'name': 'La Sammana', 'osm_id': 48570921, 'tourism': 'hotel', 'building': 'yes', 'osm_type': 'w'}}, 'distance': 1170, 'place_id': '5148468689df9752c059dcd437d263b34340f00102f9012922e5020000000092030a4c612053616d6d616e61'}, 'geometry': {'type': 'Point', 'coordinates': [-74.373018628242, 39.40148380018374]}}]}\n",
      "brigantine - nearest hotel: La Sammana\n",
      "{'type': 'FeatureCollection', 'features': [{'type': 'Feature', 'properties': {'name': 'Единственная', 'country': 'Russia', 'country_code': 'ru', 'region': 'Northwestern Federal District', 'state': 'Komi Republic', 'county': 'Udorsky District', 'city': 'Usogorsk', 'municipality': 'городское поселение Усогорск', 'postcode': '169270', 'street': 'улица Дружбы', 'housenumber': '3А', 'lon': 48.70095163807578, 'lat': 63.4340476, 'formatted': 'Единственная, улица Дружбы 3А, Usogorsk, Komi Republic, Russia, 169270', 'address_line1': 'Единственная', 'address_line2': 'улица Дружбы 3А, Usogorsk, Komi Republic, Russia, 169270', 'categories': ['accommodation', 'accommodation.hotel', 'building', 'building.accommodation'], 'details': ['details.building', 'details.facilities'], 'datasource': {'sourcename': 'openstreetmap', 'attribution': '© OpenStreetMap contributors', 'license': 'Open Database License', 'url': 'https://www.openstreetmap.org/copyright', 'raw': {'name': 'Единственная', 'osm_id': 159383763, 'smoking': 'no', 'tourism': 'hotel', 'building': 'hotel', 'osm_type': 'w', 'addr:city': 'Усогорск', 'addr:street': 'улица Дружбы', 'building:levels': 1, 'addr:housenumber': '3А'}}, 'facilities': {'smoking': False}, 'building': {'levels': 1, 'type': 'hotel'}, 'distance': 2691, 'place_id': '517bce84c8b85948405970d02cdf8eb74f40f00102f901d300800900000000920318d095d0b4d0b8d0bdd181d182d0b2d0b5d0bdd0bdd0b0d18f'}, 'geometry': {'type': 'Point', 'coordinates': [48.700951638075786, 63.43404760063356]}}]}\n",
      "usogorsk - nearest hotel: Единственная\n",
      "{'type': 'FeatureCollection', 'features': [{'type': 'Feature', 'properties': {'name': 'Queens Hotel', 'country': 'South Africa', 'country_code': 'za', 'state': 'Eastern Cape', 'county': 'Chris Hani District Municipality', 'city': 'Lukhanji Local Municipality', 'town': 'Komani', 'postcode': '5319', 'suburb': 'South Bourne', 'street': 'Ebden Street', 'lon': 26.8810973, 'lat': -31.8983005, 'state_code': 'EC', 'formatted': 'Queens Hotel, Ebden Street, South Bourne, Lukhanji Local Municipality, 5319, South Africa', 'address_line1': 'Queens Hotel', 'address_line2': 'Ebden Street, South Bourne, Lukhanji Local Municipality, 5319, South Africa', 'categories': ['accommodation', 'accommodation.hotel'], 'details': [], 'datasource': {'sourcename': 'openstreetmap', 'attribution': '© OpenStreetMap contributors', 'license': 'Open Database License', 'url': 'https://www.openstreetmap.org/copyright', 'raw': {'name': 'Queens Hotel', 'osm_id': 707580194, 'tourism': 'hotel', 'osm_type': 'n'}}, 'distance': 554, 'place_id': '510918b8978fe13a40590de88205f7e53fc0f00103f90122d12c2a0000000092030c517565656e7320486f74656c'}, 'geometry': {'type': 'Point', 'coordinates': [26.881097299999997, -31.898300499400694]}}]}\n",
      "queenstown - nearest hotel: Queens Hotel\n",
      "{'type': 'FeatureCollection', 'features': [{'type': 'Feature', 'properties': {'name': 'SUN1 Richards Bay', 'country': 'South Africa', 'country_code': 'za', 'state': 'KwaZulu-Natal', 'county': 'King Cetswayo District Municipality', 'city': 'Richards Bay', 'postcode': '3900', 'suburb': 'Veldenvlei', 'street': 'South East Central', 'housenumber': '6', 'lon': 32.05550557288396, 'lat': -28.7521816, 'state_code': 'NL', 'formatted': 'SUN1 Richards Bay, 6 South East Central, Veldenvlei, Richards Bay, 3900, South Africa', 'address_line1': 'SUN1 Richards Bay', 'address_line2': '6 South East Central, Veldenvlei, Richards Bay, 3900, South Africa', 'categories': ['accommodation', 'accommodation.hotel', 'building', 'building.accommodation', 'internet_access', 'internet_access.for_customers'], 'details': ['details', 'details.accommodation', 'details.contact', 'details.facilities'], 'datasource': {'sourcename': 'openstreetmap', 'attribution': '© OpenStreetMap contributors', 'license': 'Open Database License', 'url': 'https://www.openstreetmap.org/copyright', 'raw': {'name': 'SUN1 Richards Bay', 'brand': 'Southern Sun', 'email': 'SUN1.Richardsbay@southernsun.com', 'phone': '+27 35 789 1001', 'rooms': 64, 'osm_id': 791846064, 'tourism': 'hotel', 'website': 'https://www.southernsun.com/sun1-richards-bay?utm_source=openstreetmaps&utm_medium=businesslisting&utm_campaign=hotel_sun1-richards-bay', 'building': 'hotel', 'osm_type': 'w', 'addr:city': 'Richards Bay', 'addr:street': 'White Pear, Arboretum', 'addr:postcode': 3900, 'internet_access': 'yes', 'addr:housenumber': 6, 'internet_access:fee': 'customers'}}, 'website': 'https://www.southernsun.com/sun1-richards-bay?utm_source=openstreetmaps&utm_medium=businesslisting&utm_campaign=hotel_sun1-richards-bay', 'brand': 'Southern Sun', 'contact': {'phone': '+27 35 789 1001', 'email': 'SUN1.Richardsbay@southernsun.com'}, 'facilities': {'internet_access': True}, 'accommodation': {'rooms': 64}, 'building': {'type': 'hotel'}, 'distance': 3814, 'place_id': '5124247ece1a07404059dce529f98ec03cc0f00102f901b09c322f0000000092031153554e3120526963686172647320426179'}, 'geometry': {'type': 'Point', 'coordinates': [32.05550557288396, -28.752181599358536]}}]}\n",
      "richards bay - nearest hotel: SUN1 Richards Bay\n",
      "{'type': 'FeatureCollection', 'features': [{'type': 'Feature', 'properties': {'name': 'Kismayo Hotel', 'country': 'Somalia', 'country_code': 'so', 'state': 'Lower Juba', 'county': 'Kismayo District', 'city': 'Kismayo', 'suburb': 'Fanoole', 'street': 'wadada Dakadda', 'lon': 42.5459077, 'lat': -0.36447989999999997, 'formatted': 'Kismayo Hotel, wadada Dakadda, Fanoole, Kismayo, Somalia', 'address_line1': 'Kismayo Hotel', 'address_line2': 'wadada Dakadda, Fanoole, Kismayo, Somalia', 'categories': ['accommodation', 'accommodation.hotel', 'building', 'building.accommodation', 'internet_access'], 'details': ['details.facilities'], 'datasource': {'sourcename': 'openstreetmap', 'attribution': '© OpenStreetMap contributors', 'license': 'Open Database License', 'url': 'https://www.openstreetmap.org/copyright', 'raw': {'name': 'Kismayo Hotel', 'osm_id': 431585829, 'tourism': 'hotel', 'building': 'yes', 'osm_type': 'w', 'internet_access': 'yes'}}, 'facilities': {'internet_access': True}, 'distance': 681, 'place_id': '513911b34de045454059c00b9980a353d7bff00102f901257ab9190000000092030d4b69736d61796f20486f74656c'}, 'geometry': {'type': 'Point', 'coordinates': [42.545907699999994, -0.36447989996321084]}}]}\n",
      "kismayo - nearest hotel: Kismayo Hotel\n",
      "{'type': 'FeatureCollection', 'features': [{'type': 'Feature', 'properties': {'name': 'Gesar Hotel', 'country': 'China', 'country_code': 'cn', 'region': 'Shigatse Prefecture', 'state': 'Tibet', 'city': 'Samzhubzê', 'district': 'Samzhubzê District', 'neighbourhood': '吉培社区', 'suburb': 'Chengnan Subdistrict', 'street': 'Longjiang Central Road', 'lon': 88.8935213, 'lat': 29.2569337, 'formatted': 'Gesar Hotel, Longjiang Central Road, Chengnan Subdistrict, Tibet, China', 'address_line1': 'Gesar Hotel', 'address_line2': 'Longjiang Central Road, Chengnan Subdistrict, Tibet, China', 'categories': ['accommodation', 'accommodation.hotel', 'internet_access'], 'details': ['details.facilities'], 'datasource': {'sourcename': 'openstreetmap', 'attribution': '© OpenStreetMap contributors', 'license': 'Open Database License', 'url': 'https://www.openstreetmap.org/copyright', 'raw': {'name': 'Gesar Hotel', 'osm_id': 2444306193, 'tourism': 'hotel', 'osm_type': 'n', 'internet_access': 'wlan'}}, 'facilities': {'internet_access': True}, 'distance': 1256, 'place_id': '51e271f6732f39564059a4ed2d68c6413d40f00103f9011127b1910000000092030b476573617220486f74656c'}, 'geometry': {'type': 'Point', 'coordinates': [88.8935213, 29.256933699810943]}}]}\n",
      "rikaze - nearest hotel: Gesar Hotel\n",
      "{'type': 'FeatureCollection', 'features': [{'type': 'Feature', 'properties': {'name': 'Hotel Polo Orchid', 'country': 'India', 'country_code': 'in', 'state': 'Meghalaya', 'state_district': 'West Garo Hills District', 'county': 'Rongram', 'postcode': '794101', 'street': 'NH 127B', 'lon': 90.1922126, 'lat': 25.5143722, 'state_code': 'ML', 'formatted': 'Hotel Polo Orchid, NH 127B, - 794101, Meghalaya, India', 'address_line1': 'Hotel Polo Orchid', 'address_line2': 'NH 127B, - 794101, Meghalaya, India', 'categories': ['accommodation', 'accommodation.hotel'], 'details': [], 'datasource': {'sourcename': 'openstreetmap', 'attribution': '© OpenStreetMap contributors', 'license': 'Open Database License', 'url': 'https://www.openstreetmap.org/copyright', 'raw': {'name': 'Hotel Polo Orchid', 'osm_id': 11350592321, 'tourism': 'hotel', 'osm_type': 'n'}}, 'distance': 2867, 'place_id': '5143b813364d8c5640598de181e5ad833940f00103f901414b8ca402000000920311486f74656c20506f6c6f204f7263686964'}, 'geometry': {'type': 'Point', 'coordinates': [90.19221259999999, 25.514372200211756]}}]}\n",
      "tura - nearest hotel: Hotel Polo Orchid\n",
      "{'type': 'FeatureCollection', 'features': [{'type': 'Feature', 'properties': {'name': 'Sun India Guest House', 'country': 'India', 'country_code': 'in', 'state': 'West Bengal', 'county': 'Howrah District', 'city': 'Howrah', 'postcode': '711106', 'suburb': 'Howrah Maidan', 'street': 'Grand Trunk Road', 'lon': 88.3392277, 'lat': 22.593296, 'state_code': 'WB', 'formatted': 'Sun India Guest House, Grand Trunk Road, Howrah Maidan, Howrah - 711106, West Bengal, India', 'address_line1': 'Sun India Guest House', 'address_line2': 'Grand Trunk Road, Howrah Maidan, Howrah - 711106, West Bengal, India', 'categories': ['accommodation', 'accommodation.hotel'], 'details': [], 'datasource': {'sourcename': 'openstreetmap', 'attribution': '© OpenStreetMap contributors', 'license': 'Open Database License', 'url': 'https://www.openstreetmap.org/copyright', 'raw': {'name': 'Sun India Guest House', 'osm_id': 10294718911, 'tourism': 'hotel', 'osm_type': 'n'}}, 'distance': 3009, 'place_id': '516d5919e8b515564059c98d263fe2973640f00103f901bff19c650200000092031553756e20496e64696120477565737420486f757365'}, 'geometry': {'type': 'Point', 'coordinates': [88.3392277, 22.593296000397263]}}]}\n",
      "howrah - nearest hotel: Sun India Guest House\n",
      "{'type': 'FeatureCollection', 'features': [{'type': 'Feature', 'properties': {'name': 'Zefyr hotell', 'country': 'Norway', 'country_code': 'no', 'county': 'Nordland', 'city': 'Bodø - Bådåddjo', 'municipality': 'Bodø', 'postcode': '8006', 'district': 'Bodø sentrum', 'street': 'Biskop Kroghs gate', 'lon': 14.3945217, 'lat': 67.2824971, 'formatted': 'Zefyr hotell, Biskop Kroghs gate, 8006 Bodø - Bådåddjo, Norway', 'address_line1': 'Zefyr hotell', 'address_line2': 'Biskop Kroghs gate, 8006 Bodø - Bådåddjo, Norway', 'categories': ['accommodation', 'accommodation.hotel'], 'details': [], 'datasource': {'sourcename': 'openstreetmap', 'attribution': '© OpenStreetMap contributors', 'license': 'Open Database License', 'url': 'https://www.openstreetmap.org/copyright', 'raw': {'name': 'Zefyr hotell', 'osm_id': 6796303276, 'tourism': 'hotel', 'osm_type': 'n'}}, 'distance': 531, 'place_id': '51e81f8ebffec92c40591afab36e14d25040f00103f901ac5b17950100000092030c5a6566797220686f74656c6c'}, 'geometry': {'type': 'Point', 'coordinates': [14.394521699999999, 67.2824970967853]}}]}\n",
      "bodo - nearest hotel: Zefyr hotell\n",
      "{'type': 'FeatureCollection', 'features': [{'type': 'Feature', 'properties': {'name': '银杏商务宾馆', 'country': 'China', 'country_code': 'cn', 'state': 'Tibet', 'city': 'Karuo District', 'town': 'Chengguan', 'street': '夏通路', 'lon': 97.17986732913043, 'lat': 31.1467094, 'formatted': '银杏商务宾馆, 夏通路, Tibet, China', 'address_line1': '银杏商务宾馆', 'address_line2': '夏通路, Tibet, China', 'categories': ['accommodation', 'accommodation.hotel', 'building', 'building.accommodation'], 'details': [], 'datasource': {'sourcename': 'openstreetmap', 'attribution': '© OpenStreetMap contributors', 'license': 'Open Database License', 'url': 'https://www.openstreetmap.org/copyright', 'raw': {'name': '银杏商务宾馆', 'osm_id': 529009772, 'tourism': 'hotel', 'building': 'yes', 'osm_type': 'w'}}, 'distance': 5547, 'place_id': '51fb0e42f2824b584059028549bf8e253f40f00102f9016c0c881f00000000920312e993b6e69d8fe59586e58aa1e5aebee9a686'}, 'geometry': {'type': 'Point', 'coordinates': [97.17986732913043, 31.146709399651634]}}]}\n",
      "qamdo - nearest hotel: 银杏商务宾馆\n",
      "{'type': 'FeatureCollection', 'features': [{'type': 'Feature', 'properties': {'name': 'Omati Lodge', 'country': 'France', 'country_code': 'fr', 'state': 'French Polynesia', 'county': 'Windward Islands', 'city': 'Taiarapu-Est', 'postcode': '98719', 'district': 'Afaahiti', 'neighbourhood': 'Lotissement Oliver', 'street': 'RT 32', 'lon': -149.289802, 'lat': -17.7410921, 'formatted': 'Omati Lodge, RT 32, 98719 Taiarapu-Est, France', 'address_line1': 'Omati Lodge', 'address_line2': 'RT 32, 98719 Taiarapu-Est, France', 'categories': ['accommodation', 'accommodation.hotel'], 'details': ['details.contact'], 'datasource': {'sourcename': 'openstreetmap', 'attribution': '© OpenStreetMap contributors', 'license': 'Open Database License', 'url': 'https://www.openstreetmap.org/copyright', 'raw': {'name': 'Omati Lodge', 'phone': '+689 87 73 03 49', 'osm_id': 7349045713, 'tourism': 'hotel', 'osm_type': 'n'}}, 'contact': {'phone': '+689 87 73 03 49'}, 'distance': 1203, 'place_id': '51170ad80e46a962c0595cdd3e36b8bd31c0f00103f901d18909b60100000092030b4f6d617469204c6f646765'}, 'geometry': {'type': 'Point', 'coordinates': [-149.28980199999998, -17.741092100475143]}}]}\n",
      "afaahiti - nearest hotel: Omati Lodge\n"
     ]
    },
    {
     "name": "stderr",
     "output_type": "stream",
     "text": [
      "ERROR:root:Error message:\n",
      "Traceback (most recent call last):\n",
      "  File \"C:\\Users\\Moburu\\AppData\\Local\\Temp\\ipykernel_26060\\1195407018.py\", line 36, in <module>\n",
      "    hotel_df.loc[index, \"Hotel Name\"] = name_address[\"features\"][0][\"properties\"][\"name\"]\n",
      "                                        ~~~~~~~~~~~~~~~~~~~~~~~~^^^\n",
      "IndexError: list index out of range\n"
     ]
    },
    {
     "name": "stdout",
     "output_type": "stream",
     "text": [
      "{'type': 'FeatureCollection', 'features': []}\n",
      "konstantinovka - nearest hotel: No hotel found\n"
     ]
    },
    {
     "name": "stderr",
     "output_type": "stream",
     "text": [
      "ERROR:root:Error message:\n",
      "Traceback (most recent call last):\n",
      "  File \"C:\\Users\\Moburu\\AppData\\Local\\Temp\\ipykernel_26060\\1195407018.py\", line 36, in <module>\n",
      "    hotel_df.loc[index, \"Hotel Name\"] = name_address[\"features\"][0][\"properties\"][\"name\"]\n",
      "                                        ~~~~~~~~~~~~~~~~~~~~~~~~~~~~~~~~~~~~~~~~~^^^^^^^^\n",
      "KeyError: 'name'\n"
     ]
    },
    {
     "name": "stdout",
     "output_type": "stream",
     "text": [
      "{'type': 'FeatureCollection', 'features': [{'type': 'Feature', 'properties': {'country': 'Paraguay', 'country_code': 'py', 'region': 'Región Occidental', 'state': 'Presidente Hayes', 'city': 'Benjamín Aceval', 'village': 'Zona Cerrito', 'suburb': 'Cerrito', 'street': 'Ruta Nacional Presidente Carlos Antonio López', 'lon': -57.561662159410474, 'lat': -24.9672675, 'formatted': 'Ruta Nacional Presidente Carlos Antonio López, Benjamín Aceval, Paraguay', 'address_line1': 'Ruta Nacional Presidente Carlos Antonio López', 'address_line2': 'Benjamín Aceval, Paraguay', 'categories': ['accommodation', 'accommodation.hotel', 'building', 'building.accommodation'], 'details': [], 'datasource': {'sourcename': 'openstreetmap', 'attribution': '© OpenStreetMap contributors', 'license': 'Open Database License', 'url': 'https://www.openstreetmap.org/copyright', 'raw': {'osm_id': 901266123, 'tourism': 'hotel', 'building': 'yes', 'osm_type': 'w'}}, 'distance': 499, 'place_id': '51ce08af8be4c74cc059410ec6d79ef738c0f00102f901cb3ab83500000000'}, 'geometry': {'type': 'Point', 'coordinates': [-57.56166215941049, -24.967267499783933]}}]}\n",
      "benjamin aceval - nearest hotel: No hotel found\n",
      "{'type': 'FeatureCollection', 'features': [{'type': 'Feature', 'properties': {'name': 'Best Western', 'ref': 17080, 'country': 'United States', 'country_code': 'us', 'state': 'Kansas', 'county': 'Barton County', 'city': 'Great Bend', 'postcode': '67530', 'street': '10th Street', 'housenumber': '2920', 'lon': -98.7785968, 'lat': 38.3625566, 'state_code': 'KS', 'formatted': 'Best Western, 2920 10th Street, Great Bend, KS 67530, United States of America', 'address_line1': 'Best Western', 'address_line2': '2920 10th Street, Great Bend, KS 67530, United States of America', 'categories': ['accommodation', 'accommodation.hotel'], 'details': ['details', 'details.contact'], 'datasource': {'sourcename': 'openstreetmap', 'attribution': '© OpenStreetMap contributors', 'license': 'Open Database License', 'url': 'https://www.openstreetmap.org/copyright', 'raw': {'ref': 17080, 'name': 'Best Western', 'brand': 'Best Western', 'phone': '+1 620-792-3541', 'branch': 'Angus Inn', 'osm_id': 4727106436, 'tourism': 'hotel', 'website': 'https://www.bestwestern.com/en_US/book/hotels-in-great-bend/best-western-angus-inn/propertyCode.17080.html', 'osm_type': 'n', 'addr:city': 'Great Bend', 'addr:street': '10th Street', 'addr:postcode': 67530, 'brand:wikidata': 'Q830334', 'addr:housenumber': 2920}}, 'website': 'https://www.bestwestern.com/en_US/book/hotels-in-great-bend/best-western-angus-inn/propertyCode.17080.html', 'brand': 'Best Western', 'brand_details': {'wikidata': 'Q830334'}, 'branch': 'Angus Inn', 'contact': {'phone': '+1 620-792-3541'}, 'distance': 1225, 'place_id': '514b31ac87d4b158c059f20b3241682e4340f00103f90184ebc1190100000092030c42657374205765737465726e'}, 'geometry': {'type': 'Point', 'coordinates': [-98.77859679999999, 38.362556600033614]}}]}\n",
      "great bend - nearest hotel: Best Western\n",
      "{'type': 'FeatureCollection', 'features': [{'type': 'Feature', 'properties': {'name': 'Saji new food', 'country': 'Sri Lanka', 'country_code': 'lk', 'state': 'Eastern Province', 'county': 'Ampara District', 'city': 'Karaitivu', 'hamlet': 'Sainthamaruthu', 'postcode': '32280', 'street': 'Colombo-Ratnapura-Wellawaya-Batticaloa Road', 'lon': 81.830522, 'lat': 7.4072879, 'formatted': 'Saji new food, Colombo-Ratnapura-Wellawaya-Batticaloa Road, Karaitivu 32280, Sri Lanka', 'address_line1': 'Saji new food', 'address_line2': 'Colombo-Ratnapura-Wellawaya-Batticaloa Road, Karaitivu 32280, Sri Lanka', 'categories': ['accommodation', 'accommodation.hotel'], 'details': ['details'], 'datasource': {'sourcename': 'openstreetmap', 'attribution': '© OpenStreetMap contributors', 'license': 'Open Database License', 'url': 'https://www.openstreetmap.org/copyright', 'raw': {'osm_id': 6397685785, 'name:en': 'Saji new food', 'tourism': 'hotel', 'osm_type': 'n'}}, 'name_international': {'en': 'Saji new food'}, 'distance': 1847, 'place_id': '51f126bf45277554405921da3f1410a11d40f00103f90119f0547d01000000'}, 'geometry': {'type': 'Point', 'coordinates': [81.83052199999999, 7.407287899396153]}}]}\n",
      "kalmunai - nearest hotel: Saji new food\n",
      "{'type': 'FeatureCollection', 'features': [{'type': 'Feature', 'properties': {'name': 'Residência Ka Dencho', 'country': 'Cape Verde', 'country_code': 'cv', 'county': 'Brava', 'city': 'Cova Rodela', 'hamlet': \"João d'Nole\", 'postcode': '9110', 'street': 'Nova Sintra -Nossa Senhora do Monte - Cachaço', 'lon': -24.6987549, 'lat': 14.8731745, 'formatted': 'Residência Ka Dencho, Nova Sintra -Nossa Senhora do Monte - Cachaço, 9110-Cova Rodela, Cape Verde', 'address_line1': 'Residência Ka Dencho', 'address_line2': 'Nova Sintra -Nossa Senhora do Monte - Cachaço, 9110-Cova Rodela, Cape Verde', 'categories': ['accommodation', 'accommodation.hotel'], 'details': [], 'datasource': {'sourcename': 'openstreetmap', 'attribution': '© OpenStreetMap contributors', 'license': 'Open Database License', 'url': 'https://www.openstreetmap.org/copyright', 'raw': {'name': 'Residência Ka Dencho', 'osm_id': 6340398143, 'tourism': 'hotel', 'osm_type': 'n'}}, 'distance': 2060, 'place_id': '51756be399e1b238c059247a61ba10bf2d40f00103f9013fccea79010000009203155265736964c3aa6e636961204b612044656e63686f'}, 'geometry': {'type': 'Point', 'coordinates': [-24.6987549, 14.873174499892293]}}]}\n",
      "nova sintra - nearest hotel: Residência Ka Dencho\n"
     ]
    },
    {
     "name": "stderr",
     "output_type": "stream",
     "text": [
      "ERROR:root:Error message:\n",
      "Traceback (most recent call last):\n",
      "  File \"C:\\Users\\Moburu\\AppData\\Local\\Temp\\ipykernel_26060\\1195407018.py\", line 36, in <module>\n",
      "    hotel_df.loc[index, \"Hotel Name\"] = name_address[\"features\"][0][\"properties\"][\"name\"]\n",
      "                                        ~~~~~~~~~~~~~~~~~~~~~~~~^^^\n",
      "IndexError: list index out of range\n"
     ]
    },
    {
     "name": "stdout",
     "output_type": "stream",
     "text": [
      "{'type': 'FeatureCollection', 'features': []}\n",
      "bandarbeyla - nearest hotel: No hotel found\n"
     ]
    },
    {
     "name": "stderr",
     "output_type": "stream",
     "text": [
      "ERROR:root:Error message:\n",
      "Traceback (most recent call last):\n",
      "  File \"C:\\Users\\Moburu\\AppData\\Local\\Temp\\ipykernel_26060\\1195407018.py\", line 36, in <module>\n",
      "    hotel_df.loc[index, \"Hotel Name\"] = name_address[\"features\"][0][\"properties\"][\"name\"]\n",
      "                                        ~~~~~~~~~~~~~~~~~~~~~~~~^^^\n",
      "IndexError: list index out of range\n"
     ]
    },
    {
     "name": "stdout",
     "output_type": "stream",
     "text": [
      "{'type': 'FeatureCollection', 'features': []}\n",
      "balnearia - nearest hotel: No hotel found\n"
     ]
    },
    {
     "name": "stderr",
     "output_type": "stream",
     "text": [
      "ERROR:root:Error message:\n",
      "Traceback (most recent call last):\n",
      "  File \"C:\\Users\\Moburu\\AppData\\Local\\Temp\\ipykernel_26060\\1195407018.py\", line 36, in <module>\n",
      "    hotel_df.loc[index, \"Hotel Name\"] = name_address[\"features\"][0][\"properties\"][\"name\"]\n",
      "                                        ~~~~~~~~~~~~~~~~~~~~~~~~^^^\n",
      "IndexError: list index out of range\n"
     ]
    },
    {
     "name": "stdout",
     "output_type": "stream",
     "text": [
      "{'type': 'FeatureCollection', 'features': []}\n",
      "al artawiyah - nearest hotel: No hotel found\n",
      "{'type': 'FeatureCollection', 'features': [{'type': 'Feature', 'properties': {'name': 'Hôtel Salam', 'country': 'Algeria', 'country_code': 'dz', 'state': 'Mila', 'city': 'Mila District', 'postcode': '43000', 'district': 'Mila', 'neighbourhood': \"Cité Larbi Ben R'djem 500 logements\", 'street': 'Rue Zerouki Houssine', 'lon': 6.2592404288097185, 'lat': 36.45499795, 'formatted': 'Hôtel Salam, Rue Zerouki Houssine, 43000 Mila District, Algeria', 'address_line1': 'Hôtel Salam', 'address_line2': 'Rue Zerouki Houssine, 43000 Mila District, Algeria', 'categories': ['accommodation', 'accommodation.hotel'], 'details': [], 'datasource': {'sourcename': 'openstreetmap', 'attribution': '© OpenStreetMap contributors', 'license': 'Open Database License', 'url': 'https://www.openstreetmap.org/copyright', 'raw': {'name': 'Hôtel Salam', 'osm_id': 380869514, 'tourism': 'hotel', 'osm_type': 'w', 'designation': '3 ETOILES'}}, 'distance': 7263, 'place_id': '51b127ae527609194059b108715f3d3a4240f00102f9018a9bb3160000000092030c48c3b474656c2053616c616d'}, 'geometry': {'type': 'Point', 'coordinates': [6.259240428809719, 36.45499794978367]}}]}\n",
      "sidi merouane - nearest hotel: Hôtel Salam\n",
      "{'type': 'FeatureCollection', 'features': [{'type': 'Feature', 'properties': {'name': 'Travelodge Inn and Suites Yucca Valley/Joshua Tree National Park', 'country': 'United States', 'country_code': 'us', 'state': 'California', 'county': 'San Bernardino County', 'city': 'Yucca Valley', 'postcode': '92284', 'street': '29 Palms Highway', 'housenumber': '54850', 'lon': -116.46717724341569, 'lat': 34.115260750000004, 'state_code': 'CA', 'formatted': 'Travelodge Inn and Suites Yucca Valley/Joshua Tree National Park, 54850 29 Palms Highway, Yucca Valley, CA 92284, United States of America', 'address_line1': 'Travelodge Inn and Suites Yucca Valley/Joshua Tree National Park', 'address_line2': '54850 29 Palms Highway, Yucca Valley, CA 92284, United States of America', 'categories': ['accommodation', 'accommodation.hotel', 'building', 'building.accommodation'], 'details': ['details'], 'datasource': {'sourcename': 'openstreetmap', 'attribution': '© OpenStreetMap contributors', 'license': 'Open Database License', 'url': 'https://www.openstreetmap.org/copyright', 'raw': {'name': 'Travelodge Inn and Suites Yucca Valley/Joshua Tree National Park', 'brand': 'Travelodge', 'osm_id': 931345570, 'tourism': 'hotel', 'building': 'yes', 'osm_type': 'w', 'addr:city': 'Yucca Valley', 'addr:state': 'CA', 'addr:street': '29 Palms Highway', 'addr:postcode': 92284, 'brand:wikidata': 'Q7836087', 'addr:housenumber': 54850}}, 'brand': 'Travelodge', 'brand_details': {'wikidata': 'Q7836087'}, 'distance': 3204, 'place_id': '51f879613be61d5dc059ca083fddc00e4140f00102f901a23483370000000092034054726176656c6f64676520496e6e20616e64205375697465732059756363612056616c6c65792f4a6f736875612054726565204e6174696f6e616c205061726b'}, 'geometry': {'type': 'Point', 'coordinates': [-116.46717724341568, 34.11526074960564]}}]}\n",
      "yucca valley - nearest hotel: Travelodge Inn and Suites Yucca Valley/Joshua Tree National Park\n"
     ]
    },
    {
     "name": "stderr",
     "output_type": "stream",
     "text": [
      "ERROR:root:Error message:\n",
      "Traceback (most recent call last):\n",
      "  File \"C:\\Users\\Moburu\\AppData\\Local\\Temp\\ipykernel_26060\\1195407018.py\", line 36, in <module>\n",
      "    hotel_df.loc[index, \"Hotel Name\"] = name_address[\"features\"][0][\"properties\"][\"name\"]\n",
      "                                        ~~~~~~~~~~~~~~~~~~~~~~~~^^^\n",
      "IndexError: list index out of range\n"
     ]
    },
    {
     "name": "stdout",
     "output_type": "stream",
     "text": [
      "{'type': 'FeatureCollection', 'features': []}\n",
      "motygino - nearest hotel: No hotel found\n",
      "{'type': 'FeatureCollection', 'features': [{'type': 'Feature', 'properties': {'name': 'باجودة', 'country': 'Algeria', 'country_code': 'dz', 'state': 'In Salah', 'county': \"d'In Salah District\", 'city': 'In Salah', 'street': 'RN 52', 'lon': 2.4751193, 'lat': 27.1980732, 'formatted': 'Badjouda hotel, RN 52, In Salah, Algeria', 'address_line1': 'Badjouda hotel', 'address_line2': 'RN 52, In Salah, Algeria', 'categories': ['accommodation', 'accommodation.hotel', 'internet_access'], 'details': ['details', 'details.facilities'], 'datasource': {'sourcename': 'openstreetmap', 'attribution': '© OpenStreetMap contributors', 'license': 'Open Database License', 'url': 'https://www.openstreetmap.org/copyright', 'raw': {'name': 'باجودة', 'osm_id': 4973576222, 'name:ar': 'باجودة', 'name:en': 'Badjouda hotel', 'name:fr': 'Hôtel Badjouda', 'tourism': 'hotel', 'osm_type': 'n', 'internet_access': 'wlan'}}, 'name_international': {'ar': 'باجودة', 'en': 'Badjouda hotel', 'fr': 'Hôtel Badjouda'}, 'facilities': {'internet_access': True}, 'distance': 1516, 'place_id': '515a96f9580bcd0340594d5edcecb4323b40f00103f9011ec072280100000092030cd8a8d8a7d8acd988d8afd8a9'}, 'geometry': {'type': 'Point', 'coordinates': [2.4751193000000002, 27.198073200035925]}}]}\n",
      "i-n-salah - nearest hotel: باجودة\n",
      "{'type': 'FeatureCollection', 'features': [{'type': 'Feature', 'properties': {'name': 'Aurora Alice Springs', 'country': 'Australia', 'country_code': 'au', 'county': 'Town of Alice Springs', 'city': 'Alice Springs', 'postcode': '4992', 'street': 'Leichhardt Terrace', 'housenumber': '11', 'lon': 133.8837714, 'lat': -23.7000116, 'formatted': 'Aurora Alice Springs, 11 Leichhardt Terrace, Alice Springs 4992, Australia', 'address_line1': 'Aurora Alice Springs', 'address_line2': '11 Leichhardt Terrace, Alice Springs 4992, Australia', 'categories': ['accommodation', 'accommodation.hotel'], 'details': ['details', 'details.accommodation', 'details.contact'], 'datasource': {'sourcename': 'openstreetmap', 'attribution': '© OpenStreetMap contributors', 'license': 'Open Database License', 'url': 'https://www.openstreetmap.org/copyright', 'raw': {'fax': '+61 8 8952 7829', 'name': 'Aurora Alice Springs', 'rooms': 109, 'stars': 4, 'osm_id': 1989885098, 'tourism': 'hotel', 'alt_name': 'Alice Springs Hotel', 'osm_type': 'n', 'addr:street': 'Leichhardt Terrace', 'contact:email': 'asp@aas.auroraresorts.com.au', 'contact:website': 'www.auroraresorts.com.au', 'addr:housenumber': 11}}, 'website': 'www.auroraresorts.com.au', 'name_other': {'alt_name': 'Alice Springs Hotel'}, 'contact': {'email': 'asp@aas.auroraresorts.com.au', 'fax': '+61 8 8952 7829'}, 'accommodation': {'stars': 4, 'rooms': 109}, 'distance': 48, 'place_id': '517c84f5da47bc60405986afd0f533b337c0f00103f901aa3c9b76000000009203144175726f726120416c69636520537072696e6773'}, 'geometry': {'type': 'Point', 'coordinates': [133.8837714, -23.70001159996857]}}]}\n",
      "alice springs - nearest hotel: Aurora Alice Springs\n",
      "{'type': 'FeatureCollection', 'features': [{'type': 'Feature', 'properties': {'name': 'Casa de Olas', 'country': 'Mexico', 'country_code': 'mx', 'state': 'Oaxaca', 'county': 'Santa María Colotepec', 'city': 'Puerto Escondido', 'hamlet': 'Punta de Zicatela', 'postcode': '70934', 'street': 'Calle Michoacán', 'lon': -97.0432512, 'lat': 15.8361476, 'state_code': 'OAX', 'formatted': 'Casa de Olas, Calle Michoacán, 70934 Puerto Escondido, OAX, Mexico', 'address_line1': 'Casa de Olas', 'address_line2': 'Calle Michoacán, 70934 Puerto Escondido, OAX, Mexico', 'categories': ['accommodation', 'accommodation.hotel', 'internet_access', 'internet_access.free'], 'details': ['details', 'details.accommodation', 'details.contact', 'details.facilities'], 'datasource': {'sourcename': 'openstreetmap', 'attribution': '© OpenStreetMap contributors', 'license': 'Open Database License', 'url': 'https://www.openstreetmap.org/copyright', 'raw': {'name': 'Casa de Olas', 'email': 'admin@casadeolashotel.com', 'phone': '+52 954 688 4813', 'rooms': 8, 'osm_id': 9809673462, 'smoking': 'designated', 'tourism': 'hotel', 'website': 'https://www.casadeolashotel.com/', 'osm_type': 'n', 'addr:city': 'Puerto Escondido', 'addr:street': 'Calle Michoacán', 'addr:postcode': 70934, 'swimming_pool': 'outdoor', 'internet_access': 'wlan', 'contact:facebook': 'https://www.facebook.com/casadeolaspuerto/', 'internet_access:fee': 'no'}}, 'website': 'https://www.casadeolashotel.com/', 'contact': {'phone': '+52 954 688 4813', 'email': 'admin@casadeolashotel.com'}, 'facilities': {'internet_access': True, 'smoking': True, 'swimming_pool': True}, 'accommodation': {'rooms': 8}, 'distance': 167, 'place_id': '51d160aea0c44258c059314ec9891bac2f40f00103f901f6bcb3480200000092030c43617361206465204f6c6173'}, 'geometry': {'type': 'Point', 'coordinates': [-97.0432512, 15.836147600005548]}}]}\n",
      "brisas de zicatela - nearest hotel: Casa de Olas\n",
      "{'type': 'FeatureCollection', 'features': [{'type': 'Feature', 'properties': {'name': 'Nomad Hotel and Suites', 'country': 'Canada', 'country_code': 'ca', 'state': 'Alberta', 'county': 'Division No. 16', 'city': 'Fort McMurray', 'postcode': 'T9H 1S8', 'suburb': 'Abasand', 'street': 'MacDonald Avenue', 'housenumber': '10006', 'lon': -111.38277169752345, 'lat': 56.72714755, 'state_code': 'AB', 'formatted': 'Nomad Hotel and Suites, 10006 MacDonald Avenue, Fort McMurray, AB T9H 1S8, Canada', 'address_line1': 'Nomad Hotel and Suites', 'address_line2': '10006 MacDonald Avenue, Fort McMurray, AB T9H 1S8, Canada', 'categories': ['accommodation', 'accommodation.hotel', 'building', 'building.accommodation'], 'details': ['details', 'details.contact'], 'datasource': {'sourcename': 'openstreetmap', 'attribution': '© OpenStreetMap contributors', 'license': 'Open Database License', 'url': 'https://www.openstreetmap.org/copyright', 'raw': {'name': 'Nomad Hotel and Suites', 'phone': '+1-780-791-4770', 'osm_id': 409367112, 'tourism': 'hotel', 'website': 'https://www.nomadfortmcmurray.com/', 'building': 'yes', 'osm_type': 'w', 'addr:city': 'Fort McMurray', 'addr:street': 'MacDonald Avenue', 'addr:postcode': 'T9H 1S8', 'addr:housenumber': 10006}}, 'website': 'https://www.nomadfortmcmurray.com/', 'contact': {'phone': '+1-780-791-4770'}, 'distance': 97, 'place_id': '51a5acdc547fd85bc0592792c12b135d4c40f00102f90148726618000000009203164e6f6d616420486f74656c20616e6420537569746573'}, 'geometry': {'type': 'Point', 'coordinates': [-111.38277169752344, 56.727147550122304]}}]}\n",
      "fort mcmurray - nearest hotel: Nomad Hotel and Suites\n",
      "{'type': 'FeatureCollection', 'features': [{'type': 'Feature', 'properties': {'name': 'София', 'country': 'Russia', 'country_code': 'ru', 'region': 'Northwestern Federal District', 'state': 'Komi Republic', 'county': 'Vorkuta Urban Okrug', 'city': 'Vorkuta', 'postcode': '169915', 'street': 'Suvorov Street', 'housenumber': '8', 'lon': 64.08195630000002, 'lat': 67.51977074999999, 'formatted': 'София, Suvorov Street 8, Vorkuta, Komi Republic, Russia, 169915', 'address_line1': 'София', 'address_line2': 'Suvorov Street 8, Vorkuta, Komi Republic, Russia, 169915', 'categories': ['accommodation', 'accommodation.hotel', 'building', 'building.accommodation'], 'details': [], 'datasource': {'sourcename': 'openstreetmap', 'attribution': '© OpenStreetMap contributors', 'license': 'Open Database License', 'url': 'https://www.openstreetmap.org/copyright', 'raw': {'name': 'София', 'osm_id': 31838753, 'tourism': 'hotel', 'building': 'yes', 'osm_type': 'w', 'addr:street': 'улица Суворова', 'addr:housenumber': 8}}, 'distance': 9028, 'place_id': '51de0ca3c53e055040591fa785ec43e15040f00102f90121d2e5010000000092030ad0a1d0bed184d0b8d18f'}, 'geometry': {'type': 'Point', 'coordinates': [64.08195629999997, 67.5197707467273]}}]}\n",
      "vorgashor - nearest hotel: София\n"
     ]
    },
    {
     "name": "stderr",
     "output_type": "stream",
     "text": [
      "ERROR:root:Error message:\n",
      "Traceback (most recent call last):\n",
      "  File \"C:\\Users\\Moburu\\AppData\\Local\\Temp\\ipykernel_26060\\1195407018.py\", line 36, in <module>\n",
      "    hotel_df.loc[index, \"Hotel Name\"] = name_address[\"features\"][0][\"properties\"][\"name\"]\n",
      "                                        ~~~~~~~~~~~~~~~~~~~~~~~~^^^\n",
      "IndexError: list index out of range\n"
     ]
    },
    {
     "name": "stdout",
     "output_type": "stream",
     "text": [
      "{'type': 'FeatureCollection', 'features': []}\n",
      "ibimirim - nearest hotel: No hotel found\n",
      "{'type': 'FeatureCollection', 'features': [{'type': 'Feature', 'properties': {'name': 'Kona Hotel', 'country': 'United States', 'country_code': 'us', 'state': 'Hawaii', 'county': 'Hawaiʻi County', 'postcode': '96725', 'suburb': 'Holualoa', 'street': 'Mamalahoa Highway', 'lon': -155.9492669, 'lat': 19.6202624, 'state_code': 'HI', 'formatted': 'Kona Hotel, Mamalahoa Highway, Holualoa, HI 96725, United States of America', 'address_line1': 'Kona Hotel', 'address_line2': 'Mamalahoa Highway, Holualoa, HI 96725, United States of America', 'categories': ['accommodation', 'accommodation.hotel'], 'details': ['details'], 'datasource': {'sourcename': 'openstreetmap', 'attribution': '© OpenStreetMap contributors', 'license': 'Open Database License', 'url': 'https://www.openstreetmap.org/copyright', 'raw': {'name': 'Kona Hotel', 'osm_id': 4786898521, 'name:en': 'Kona Hotel', 'tourism': 'hotel', 'osm_type': 'n'}}, 'name_international': {'en': 'Kona Hotel'}, 'distance': 417, 'place_id': '519b55fa64607e63c059b7744484c99e3340f00103f9015946521d0100000092030a4b6f6e6120486f74656c'}, 'geometry': {'type': 'Point', 'coordinates': [-155.94926689999997, 19.620262400353308]}}]}\n",
      "holualoa - nearest hotel: Kona Hotel\n"
     ]
    },
    {
     "name": "stderr",
     "output_type": "stream",
     "text": [
      "ERROR:root:Error message:\n",
      "Traceback (most recent call last):\n",
      "  File \"C:\\Users\\Moburu\\AppData\\Local\\Temp\\ipykernel_26060\\1195407018.py\", line 36, in <module>\n",
      "    hotel_df.loc[index, \"Hotel Name\"] = name_address[\"features\"][0][\"properties\"][\"name\"]\n",
      "                                        ~~~~~~~~~~~~~~~~~~~~~~~~~~~~~~~~~~~~~~~~~^^^^^^^^\n",
      "KeyError: 'name'\n"
     ]
    },
    {
     "name": "stdout",
     "output_type": "stream",
     "text": [
      "{'type': 'FeatureCollection', 'features': [{'type': 'Feature', 'properties': {'country': 'Brazil', 'country_code': 'br', 'region': 'Northeast Region', 'state': 'Paraíba', 'state_district': 'Região Geográfica Intermediária de João Pessoa', 'county': 'Região Metropolitana de João Pessoa', 'city': 'Cabedelo', 'municipality': 'Região Geográfica Imediata de João Pessoa', 'postcode': '58105-126', 'district': 'Cabedelo', 'suburb': 'Camboinha', 'street': 'Rua Aurélio Guedes Cavalcante', 'lon': -34.827364377219084, 'lat': -7.0039427, 'state_code': 'PB', 'formatted': 'Rua Aurélio Guedes Cavalcante, Camboinha, Cabedelo - PB, 58105-126, Brazil', 'address_line1': 'Rua Aurélio Guedes Cavalcante', 'address_line2': 'Camboinha, Cabedelo - PB, 58105-126, Brazil', 'categories': ['accommodation', 'accommodation.hotel', 'building', 'building.accommodation'], 'details': [], 'datasource': {'sourcename': 'openstreetmap', 'attribution': '© OpenStreetMap contributors', 'license': 'Open Database License', 'url': 'https://www.openstreetmap.org/copyright', 'raw': {'osm_id': 1053700118, 'tourism': 'hotel', 'building': 'yes', 'osm_type': 'w'}}, 'distance': 2613, 'place_id': '5103046f13e76941c059b045198e09041cc0f00102f9011630ce3e00000000'}, 'geometry': {'type': 'Point', 'coordinates': [-34.82736437721908, -7.003942699711317]}}]}\n",
      "cabedelo - nearest hotel: No hotel found\n"
     ]
    },
    {
     "name": "stderr",
     "output_type": "stream",
     "text": [
      "ERROR:root:Error message:\n",
      "Traceback (most recent call last):\n",
      "  File \"C:\\Users\\Moburu\\AppData\\Local\\Temp\\ipykernel_26060\\1195407018.py\", line 36, in <module>\n",
      "    hotel_df.loc[index, \"Hotel Name\"] = name_address[\"features\"][0][\"properties\"][\"name\"]\n",
      "                                        ~~~~~~~~~~~~~~~~~~~~~~~~^^^\n",
      "IndexError: list index out of range\n"
     ]
    },
    {
     "name": "stdout",
     "output_type": "stream",
     "text": [
      "{'type': 'FeatureCollection', 'features': []}\n",
      "kruisfontein - nearest hotel: No hotel found\n",
      "{'type': 'FeatureCollection', 'features': [{'type': 'Feature', 'properties': {'name': 'Hotel PORTVGALIA', 'country': 'Angola', 'country_code': 'ao', 'state': 'Malanje Province', 'county': 'Malanje - Malange', 'city': 'Malanje', 'street': 'EN230', 'lon': 16.3419677, 'lat': -9.5470665, 'formatted': 'PORTVGALIA Hotel, EN230, Malanje, Angola', 'address_line1': 'PORTVGALIA Hotel', 'address_line2': 'EN230, Malanje, Angola', 'categories': ['accommodation', 'accommodation.hotel', 'internet_access'], 'details': ['details', 'details.contact', 'details.facilities'], 'datasource': {'sourcename': 'openstreetmap', 'attribution': '© OpenStreetMap contributors', 'license': 'Open Database License', 'url': 'https://www.openstreetmap.org/copyright', 'raw': {'name': 'Hotel PORTVGALIA', 'email': 'info@hotelportugalia.com', 'phone': '+244935714668', 'osm_id': 10229585217, 'name:en': 'PORTVGALIA Hotel', 'tourism': 'hotel', 'website': 'https://www.hotelportugalia.com/', 'osm_type': 'n', 'internet_access': 'wlan'}}, 'website': 'https://www.hotelportugalia.com/', 'name_international': {'en': 'PORTVGALIA Hotel'}, 'contact': {'phone': '+244935714668', 'email': 'info@hotelportugalia.com'}, 'facilities': {'internet_access': True}, 'distance': 767, 'place_id': '51d1c9f7318b57304059d666ab19191823c0f00103f9014115bb6102000000920310486f74656c20504f52545647414c4941'}, 'geometry': {'type': 'Point', 'coordinates': [16.3419677, -9.547066499875125]}}]}\n",
      "malanje - nearest hotel: Hotel PORTVGALIA\n",
      "{'type': 'FeatureCollection', 'features': [{'type': 'Feature', 'properties': {'name': 'Hotel Bijou Amethyste Punto Fijo Paraguana', 'country': 'Venezuela', 'country_code': 've', 'state': 'Falcon State', 'county': 'Municipio Carirubana', 'city': 'Parroquia Cardón', 'postcode': '4154', 'suburb': 'Puerta Maraven', 'street': 'Avenida General Pelayo', 'lon': -70.2009149756995, 'lat': 11.651328750000001, 'formatted': 'Hotel Bijou Amethyste Punto Fijo Paraguana, Avenida General Pelayo, Parroquia Cardón 4154, Falcon State, Venezuela', 'address_line1': 'Hotel Bijou Amethyste Punto Fijo Paraguana', 'address_line2': 'Avenida General Pelayo, Parroquia Cardón 4154, Falcon State, Venezuela', 'categories': ['accommodation', 'accommodation.hotel', 'building', 'building.accommodation'], 'details': [], 'datasource': {'sourcename': 'openstreetmap', 'attribution': '© OpenStreetMap contributors', 'license': 'Open Database License', 'url': 'https://www.openstreetmap.org/copyright', 'raw': {'name': 'Hotel Bijou Amethyste Punto Fijo Paraguana', 'osm_id': 701679631, 'tourism': 'hotel', 'building': 'yes', 'osm_type': 'w', 'addr:street': 'Avenida General Pelayo'}}, 'distance': 1665, 'place_id': '51fc797ccadb8c51c05967853cf67a4d2740f00102f9010fc8d2290000000092032a486f74656c2042696a6f7520416d657468797374652050756e746f2046696a6f20506172616775616e61'}, 'geometry': {'type': 'Point', 'coordinates': [-70.2009149756995, 11.651328749549704]}}]}\n",
      "punta cardon - nearest hotel: Hotel Bijou Amethyste Punto Fijo Paraguana\n",
      "{'type': 'FeatureCollection', 'features': [{'type': 'Feature', 'properties': {'name': 'Konnov hotel', 'country': 'Russia', 'country_code': 'ru', 'region': 'Volga Federal District', 'state': 'Orenburg Oblast', 'county': 'Sol-Iletsky District', 'city': 'Sol-Iletsk', 'postcode': '461500', 'street': 'улица Володарского', 'housenumber': '1', 'lon': 55.0009782758692, 'lat': 51.159862849999996, 'formatted': 'Konnov hotel, улица Володарского 1, Sol-Iletsk, Orenburg Oblast, Russia, 461500', 'address_line1': 'Konnov hotel', 'address_line2': 'улица Володарского 1, Sol-Iletsk, Orenburg Oblast, Russia, 461500', 'categories': ['accommodation', 'accommodation.hotel', 'building', 'building.accommodation'], 'details': [], 'datasource': {'sourcename': 'openstreetmap', 'attribution': '© OpenStreetMap contributors', 'license': 'Open Database License', 'url': 'https://www.openstreetmap.org/copyright', 'raw': {'name': 'Konnov hotel', 'osm_id': 169143867, 'tourism': 'hotel', 'building': 'yes', 'osm_type': 'w', 'addr:street': 'улица Володарского', 'addr:housenumber': 1}}, 'distance': 729, 'place_id': '51ae6e5f0e20804b4059e4a0c66276944940f00102f9013bee140a0000000092030c4b6f6e6e6f7620686f74656c'}, 'geometry': {'type': 'Point', 'coordinates': [55.0009782758692, 51.15986284922272]}}]}\n",
      "sol'-iletsk - nearest hotel: Konnov hotel\n"
     ]
    },
    {
     "name": "stderr",
     "output_type": "stream",
     "text": [
      "ERROR:root:Error message:\n",
      "Traceback (most recent call last):\n",
      "  File \"C:\\Users\\Moburu\\AppData\\Local\\Temp\\ipykernel_26060\\1195407018.py\", line 36, in <module>\n",
      "    hotel_df.loc[index, \"Hotel Name\"] = name_address[\"features\"][0][\"properties\"][\"name\"]\n",
      "                                        ~~~~~~~~~~~~~~~~~~~~~~~~^^^\n",
      "IndexError: list index out of range\n"
     ]
    },
    {
     "name": "stdout",
     "output_type": "stream",
     "text": [
      "{'type': 'FeatureCollection', 'features': []}\n",
      "taroa - nearest hotel: No hotel found\n"
     ]
    },
    {
     "name": "stderr",
     "output_type": "stream",
     "text": [
      "ERROR:root:Error message:\n",
      "Traceback (most recent call last):\n",
      "  File \"C:\\Users\\Moburu\\AppData\\Local\\Temp\\ipykernel_26060\\1195407018.py\", line 36, in <module>\n",
      "    hotel_df.loc[index, \"Hotel Name\"] = name_address[\"features\"][0][\"properties\"][\"name\"]\n",
      "                                        ~~~~~~~~~~~~~~~~~~~~~~~~^^^\n",
      "IndexError: list index out of range\n"
     ]
    },
    {
     "name": "stdout",
     "output_type": "stream",
     "text": [
      "{'type': 'FeatureCollection', 'features': []}\n",
      "kiunga - nearest hotel: No hotel found\n"
     ]
    },
    {
     "name": "stderr",
     "output_type": "stream",
     "text": [
      "ERROR:root:Error message:\n",
      "Traceback (most recent call last):\n",
      "  File \"C:\\Users\\Moburu\\AppData\\Local\\Temp\\ipykernel_26060\\1195407018.py\", line 36, in <module>\n",
      "    hotel_df.loc[index, \"Hotel Name\"] = name_address[\"features\"][0][\"properties\"][\"name\"]\n",
      "                                        ~~~~~~~~~~~~~~~~~~~~~~~~^^^\n",
      "IndexError: list index out of range\n"
     ]
    },
    {
     "name": "stdout",
     "output_type": "stream",
     "text": [
      "{'type': 'FeatureCollection', 'features': []}\n",
      "ouallam - nearest hotel: No hotel found\n",
      "{'type': 'FeatureCollection', 'features': [{'type': 'Feature', 'properties': {'name': \"The Spot Backpackers'\", 'country': 'South Africa', 'country_code': 'za', 'state': 'KwaZulu-Natal', 'county': 'Ugu District Municipality', 'city': 'Hibiscus Coast Local Municipality', 'village': 'Umtentweni', 'postcode': '4241', 'suburb': 'Hibiscus Coast Ward 12', 'street': 'Ambleside Road', 'lon': 30.4795553, 'lat': -30.7112998, 'state_code': 'NL', 'formatted': \"The Spot Backpackers', Ambleside Road, Hibiscus Coast Ward 12, Hibiscus Coast Local Municipality, 4241, South Africa\", 'address_line1': \"The Spot Backpackers'\", 'address_line2': 'Ambleside Road, Hibiscus Coast Ward 12, Hibiscus Coast Local Municipality, 4241, South Africa', 'categories': ['accommodation', 'accommodation.hotel'], 'details': [], 'datasource': {'sourcename': 'openstreetmap', 'attribution': '© OpenStreetMap contributors', 'license': 'Open Database License', 'url': 'https://www.openstreetmap.org/copyright', 'raw': {'name': \"The Spot Backpackers'\", 'osm_id': 3268723951, 'tourism': 'hotel', 'osm_type': 'n'}}, 'distance': 4083, 'place_id': '519a1fda22c47a3e405974c55fbe17b63ec0f00103f901efc4d4c2000000009203155468652053706f74204261636b7061636b65727327'}, 'geometry': {'type': 'Point', 'coordinates': [30.479555299999994, -30.71129979932944]}}]}\n",
      "port shepstone - nearest hotel: The Spot Backpackers'\n",
      "{'type': 'FeatureCollection', 'features': [{'type': 'Feature', 'properties': {'name': 'Kona Seaside Hotel', 'country': 'United States', 'country_code': 'us', 'state': 'Hawaii', 'county': 'Hawaiʻi County', 'city': 'Kailua', 'postcode': '96740', 'suburb': 'Hillcrest', 'street': 'Likana Lane', 'housenumber': '75-5652', 'lon': -155.995942, 'lat': 19.64098885, 'state_code': 'HI', 'formatted': 'Kona Seaside Hotel, 75-5652 Likana Lane, Kailua, HI 96740, United States of America', 'address_line1': 'Kona Seaside Hotel', 'address_line2': '75-5652 Likana Lane, Kailua, HI 96740, United States of America', 'categories': ['accommodation', 'accommodation.hotel', 'internet_access'], 'details': ['details', 'details.contact', 'details.facilities'], 'datasource': {'sourcename': 'openstreetmap', 'attribution': '© OpenStreetMap contributors', 'license': 'Open Database License', 'url': 'https://www.openstreetmap.org/copyright', 'raw': {'name': 'Kona Seaside Hotel', 'brand': 'Seaside Hotels', 'phone': '+1 808 329 2455', 'osm_id': 89180821, 'tourism': 'hotel', 'website': 'https://www.konaseasidehotel.com/', 'osm_type': 'w', 'addr:city': 'Kailua Kona', 'addr:state': 'HI', 'addr:street': 'Likana Lane', 'addr:postcode': 96740, 'internet_access': 'yes', 'addr:housenumber': '75-5652'}}, 'website': 'https://www.konaseasidehotel.com/', 'brand': 'Seaside Hotels', 'contact': {'phone': '+1 808 329 2455'}, 'facilities': {'internet_access': True}, 'distance': 49, 'place_id': '51d0d6c1c1de7f63c0597b5f65d817a43340f00102f90195ca5005000000009203124b6f6e61205365617369646520486f74656c'}, 'geometry': {'type': 'Point', 'coordinates': [-155.995942, 19.640988850354443]}}]}\n",
      "kailua-kona - nearest hotel: Kona Seaside Hotel\n",
      "{'type': 'FeatureCollection', 'features': [{'type': 'Feature', 'properties': {'name': 'Silver Star Hotel', 'country': 'China', 'country_code': 'cn', 'region': 'Bayingolin', 'state': 'Xinjiang', 'county': 'Korla City', 'city': 'Korla', 'postcode': '841000', 'suburb': 'Sayibage Subdistrict', 'street': '人民东路', 'lon': 86.15030915799298, 'lat': 41.7621635, 'formatted': 'Silver Star Hotel, 人民东路, Sayibage Subdistrict, Korla City, 841000 Xinjiang, China', 'address_line1': 'Silver Star Hotel', 'address_line2': '人民东路, Sayibage Subdistrict, Korla City, 841000 Xinjiang, China', 'categories': ['accommodation', 'accommodation.hotel'], 'details': [], 'datasource': {'sourcename': 'openstreetmap', 'attribution': '© OpenStreetMap contributors', 'license': 'Open Database License', 'url': 'https://www.openstreetmap.org/copyright', 'raw': {'name': 'Silver Star Hotel', 'osm_id': 380337334, 'tourism': 'hotel', 'osm_type': 'w'}}, 'distance': 344, 'place_id': '51a0774daa9e895540592a5bd6928ee14440f00102f901b67cab160000000092031153696c766572205374617220486f74656c'}, 'geometry': {'type': 'Point', 'coordinates': [86.15030915799298, 41.762163500467366]}}]}\n",
      "korla - nearest hotel: Silver Star Hotel\n",
      "{'type': 'FeatureCollection', 'features': [{'type': 'Feature', 'properties': {'name': 'Divive', 'country': 'Gabon', 'country_code': 'ga', 'state': 'Ngounié Province', 'city': 'Ndendé', 'street': 'RN1', 'lon': 11.35882, 'lat': -2.4010999, 'formatted': 'Divive, RN1, Ndendé, Gabon', 'address_line1': 'Divive', 'address_line2': 'RN1, Ndendé, Gabon', 'categories': ['accommodation', 'accommodation.hotel'], 'details': [], 'datasource': {'sourcename': 'openstreetmap', 'attribution': '© OpenStreetMap contributors', 'license': 'Open Database License', 'url': 'https://www.openstreetmap.org/copyright', 'raw': {'name': 'Divive', 'osm_id': 11688562039, 'tourism': 'hotel', 'osm_type': 'n'}}, 'distance': 87, 'place_id': '512a4d4a41b7b7264059ed2940dd733503c0f00103f901774db1b802000000920306446976697665'}, 'geometry': {'type': 'Point', 'coordinates': [11.358819999999998, -2.401099899788497]}}]}\n",
      "ndende - nearest hotel: Divive\n",
      "{'type': 'FeatureCollection', 'features': [{'type': 'Feature', 'properties': {'name': 'Aphrodite Hotel', 'country': 'Jamaica', 'country_code': 'jm', 'state_district': 'Surrey County', 'county': 'Saint Andrew', 'city': 'Kingston', 'district': 'Collins Green', 'suburb': 'Cross Roads', 'street': 'Beechwood Avenue', 'housenumber': '37', 'lon': -76.79791922357445, 'lat': 17.996573650000002, 'formatted': 'Aphrodite Hotel, 37 Beechwood Avenue, Cross Roads, Kingston, Jamaica', 'address_line1': 'Aphrodite Hotel', 'address_line2': '37 Beechwood Avenue, Cross Roads, Kingston, Jamaica', 'categories': ['accommodation', 'accommodation.hotel', 'building', 'building.accommodation'], 'details': [], 'datasource': {'sourcename': 'openstreetmap', 'attribution': '© OpenStreetMap contributors', 'license': 'Open Database License', 'url': 'https://www.openstreetmap.org/copyright', 'raw': {'name': 'Aphrodite Hotel', 'osm_id': 375996124, 'tourism': 'hotel', 'building': 'hotel', 'osm_type': 'w', 'addr:city': 'Kingston', 'addr:street': 'Beechwood Avenue', 'addr:housenumber': 37}}, 'building': {'type': 'hotel'}, 'distance': 444, 'place_id': '518786ca1b113353c05903cf63731fff3140f00102f901dc3e69160000000092030f417068726f6469746520486f74656c'}, 'geometry': {'type': 'Point', 'coordinates': [-76.79791922357445, 17.996573650233596]}}]}\n",
      "kingston - nearest hotel: Aphrodite Hotel\n"
     ]
    },
    {
     "name": "stderr",
     "output_type": "stream",
     "text": [
      "ERROR:root:Error message:\n",
      "Traceback (most recent call last):\n",
      "  File \"C:\\Users\\Moburu\\AppData\\Local\\Temp\\ipykernel_26060\\1195407018.py\", line 36, in <module>\n",
      "    hotel_df.loc[index, \"Hotel Name\"] = name_address[\"features\"][0][\"properties\"][\"name\"]\n",
      "                                        ~~~~~~~~~~~~~~~~~~~~~~~~^^^\n",
      "IndexError: list index out of range\n"
     ]
    },
    {
     "name": "stdout",
     "output_type": "stream",
     "text": [
      "{'type': 'FeatureCollection', 'features': []}\n",
      "ugoofaaru - nearest hotel: No hotel found\n"
     ]
    },
    {
     "name": "stderr",
     "output_type": "stream",
     "text": [
      "ERROR:root:Error message:\n",
      "Traceback (most recent call last):\n",
      "  File \"C:\\Users\\Moburu\\AppData\\Local\\Temp\\ipykernel_26060\\1195407018.py\", line 36, in <module>\n",
      "    hotel_df.loc[index, \"Hotel Name\"] = name_address[\"features\"][0][\"properties\"][\"name\"]\n",
      "                                        ~~~~~~~~~~~~~~~~~~~~~~~~^^^\n",
      "IndexError: list index out of range\n"
     ]
    },
    {
     "name": "stdout",
     "output_type": "stream",
     "text": [
      "{'type': 'FeatureCollection', 'features': []}\n",
      "chichawatni - nearest hotel: No hotel found\n",
      "{'type': 'FeatureCollection', 'features': [{'type': 'Feature', 'properties': {'name': 'Ibis Budget', 'old_name': 'Etap Hotel', 'country': 'France', 'country_code': 'fr', 'region': 'Metropolitan France', 'state': 'Brittany', 'county': 'Morbihan', 'city': 'Hennebont', 'hamlet': 'La Villeneuve', 'municipality': 'Lorient', 'postcode': '56700', 'street': 'Rue Albert Jacquard', 'lon': -3.2757034, 'lat': 47.7895518, 'state_code': 'BRE', 'state_COG': '53', 'formatted': 'Ibis Budget, Rue Albert Jacquard, 56700 Hennebont, France', 'address_line1': 'Ibis Budget', 'address_line2': 'Rue Albert Jacquard, 56700 Hennebont, France', 'categories': ['accommodation', 'accommodation.hotel'], 'details': ['details'], 'datasource': {'sourcename': 'openstreetmap', 'attribution': '© OpenStreetMap contributors', 'license': 'Open Database License', 'url': 'https://www.openstreetmap.org/copyright', 'raw': {'name': 'Ibis Budget', 'brand': 'Ibis Budget', 'osm_id': 289579745, 'tourism': 'hotel', 'old_name': 'Etap Hotel', 'operator': 'Ibis Budget', 'osm_type': 'n', 'brand:wikidata': 'Q1458135', 'brand:wikipedia': 'fr:Ibis budget'}}, 'brand': 'Ibis Budget', 'brand_details': {'wikidata': 'Q1458135', 'wikipedia': 'fr:Ibis budget'}, 'operator': 'Ibis Budget', 'name_other': {'old_name': 'Etap Hotel'}, 'distance': 1737, 'place_id': '51052bf3fba3340ac059c7b88b0810e54740f00103f901e1a242110000000092030b4962697320427564676574'}, 'geometry': {'type': 'Point', 'coordinates': [-3.2757034, 47.78955179998734]}}]}\n",
      "hennebont - nearest hotel: Ibis Budget\n",
      "{'type': 'FeatureCollection', 'features': [{'type': 'Feature', 'properties': {'name': 'Riad Taghazout', 'country': 'Morocco', 'country_code': 'ma', 'state': 'Souss-Massa', 'state_district': 'Agadir Ida-Outanane Prefecture', 'county': \"cercle d'Agadir-Atlantique\", 'city': 'Taghazout', 'village': 'Ifraden', 'municipality': 'caïdat de Taghazout', 'postcode': '80022', 'street': 'Skatepark path', 'lon': -9.711480786184211, 'lat': 30.54532295, 'formatted': 'Riad Taghazout, Skatepark path, 80022 Taghazout, Morocco', 'address_line1': 'Riad Taghazout', 'address_line2': 'Skatepark path, 80022 Taghazout, Morocco', 'categories': ['accommodation', 'accommodation.hotel', 'building', 'building.accommodation'], 'details': [], 'datasource': {'sourcename': 'openstreetmap', 'attribution': '© OpenStreetMap contributors', 'license': 'Open Database License', 'url': 'https://www.openstreetmap.org/copyright', 'raw': {'name': 'Riad Taghazout', 'osm_id': 406462343, 'tourism': 'hotel', 'building': 'yes', 'osm_type': 'w'}}, 'distance': 285, 'place_id': '5180c9a835476c23c059b2b1ea489a8b3e40f00102f901871f3a180000000092030e526961642054616768617a6f7574'}, 'geometry': {'type': 'Point', 'coordinates': [-9.711480786184211, 30.545322949694032]}}]}\n",
      "taghazout - nearest hotel: Riad Taghazout\n",
      "{'type': 'FeatureCollection', 'features': [{'type': 'Feature', 'properties': {'name': 'МИРРОС — Москва Кремль', 'country': 'Russia', 'country_code': 'ru', 'region': 'Central Federal District', 'state': 'Moscow', 'city': 'Moscow', 'postcode': '121019', 'suburb': 'Tverskoy District', 'quarter': '39', 'street': 'Mokhovaya Street', 'housenumber': '10', 'lon': 37.6104176, 'lat': 55.7510161, 'formatted': 'MIRROS – Moscow Kremlin, Mokhovaya Street 10, Tverskoy District, Moscow, Russia, 121019', 'address_line1': 'MIRROS – Moscow Kremlin', 'address_line2': 'Mokhovaya Street 10, Tverskoy District, Moscow, Russia, 121019', 'categories': ['accommodation', 'accommodation.hotel'], 'details': ['details', 'details.contact'], 'datasource': {'sourcename': 'openstreetmap', 'attribution': '© OpenStreetMap contributors', 'license': 'Open Database License', 'url': 'https://www.openstreetmap.org/copyright', 'raw': {'name': 'МИРРОС — Москва Кремль', 'osm_id': 5143746662, 'name:en': 'MIRROS – Moscow Kremlin', 'name:ru': 'МИРРОС — Москва Кремль', 'tourism': 'hotel', 'osm_type': 'n', 'contact:phone': '+7 495 1907580', 'contact:website': 'https://mirros-hotels.com/'}}, 'website': 'https://mirros-hotels.com/', 'name_international': {'en': 'MIRROS – Moscow Kremlin', 'ru': 'МИРРОС — Москва Кремль'}, 'contact': {'phone': '+7 495 1907580'}, 'distance': 351, 'place_id': '518f73f62922ce4240598875a94b21e04b40f00103f901665897320100000092032ad09cd098d0a0d0a0d09ed0a120e2809420d09cd0bed181d0bad0b2d0b020d09ad180d0b5d0bcd0bbd18c'}, 'geometry': {'type': 'Point', 'coordinates': [37.6104176, 55.75101609968539]}}]}\n",
      "moscow - nearest hotel: МИРРОС — Москва Кремль\n",
      "{'type': 'FeatureCollection', 'features': [{'type': 'Feature', 'properties': {'name': \"Dory's House\", 'country': 'Ecuador', 'country_code': 'ec', 'state': 'Galápagos', 'county': 'Cantón San Cristóbal', 'city': 'Parroquia Puerto Baquerizo Moreno', 'street': 'Roberto Koch', 'lon': -89.6061302, 'lat': -0.9007611, 'state_code': 'W', 'formatted': \"Dory's House, Roberto Koch, Parroquia Puerto Baquerizo Moreno, Ecuador\", 'address_line1': \"Dory's House\", 'address_line2': 'Roberto Koch, Parroquia Puerto Baquerizo Moreno, Ecuador', 'categories': ['accommodation', 'accommodation.hotel'], 'details': [], 'datasource': {'sourcename': 'openstreetmap', 'attribution': '© OpenStreetMap contributors', 'license': 'Open Database License', 'url': 'https://www.openstreetmap.org/copyright', 'raw': {'name': \"Dory's House\", 'osm_id': 3077654083, 'tourism': 'hotel', 'osm_type': 'n'}}, 'distance': 687, 'place_id': '518c8752d6ca6656c0595e2034f108d3ecbff00103f901434671b70000000092030c446f7279277320486f757365'}, 'geometry': {'type': 'Point', 'coordinates': [-89.6061302, -0.9007610999115163]}}]}\n",
      "puerto baquerizo moreno - nearest hotel: Dory's House\n"
     ]
    },
    {
     "name": "stderr",
     "output_type": "stream",
     "text": [
      "ERROR:root:Error message:\n",
      "Traceback (most recent call last):\n",
      "  File \"C:\\Users\\Moburu\\AppData\\Local\\Temp\\ipykernel_26060\\1195407018.py\", line 36, in <module>\n",
      "    hotel_df.loc[index, \"Hotel Name\"] = name_address[\"features\"][0][\"properties\"][\"name\"]\n",
      "                                        ~~~~~~~~~~~~~~~~~~~~~~~~^^^\n",
      "IndexError: list index out of range\n"
     ]
    },
    {
     "name": "stdout",
     "output_type": "stream",
     "text": [
      "{'type': 'FeatureCollection', 'features': []}\n",
      "lesosibirsk - nearest hotel: No hotel found\n",
      "{'type': 'FeatureCollection', 'features': [{'type': 'Feature', 'properties': {'name': 'Hotel Vila Moura Executivo', 'country': 'Brazil', 'country_code': 'br', 'region': 'South Region', 'state': 'Rio Grande do Sul', 'state_district': 'Região Geográfica Intermediária de Pelotas', 'county': 'Aglomeração Urbana do Sul', 'city': 'Rio Grande', 'municipality': 'Região Geográfica Imediata de Pelotas', 'postcode': '96200-320', 'district': 'Rio Grande', 'street': 'Rua General Netto', 'lon': -52.098297268138424, 'lat': -32.0347743, 'state_code': 'RS', 'formatted': 'Hotel Vila Moura Executivo, Rua General Netto, Rio Grande - RS, 96200-320, Brazil', 'address_line1': 'Hotel Vila Moura Executivo', 'address_line2': 'Rua General Netto, Rio Grande - RS, 96200-320, Brazil', 'categories': ['accommodation', 'accommodation.hotel'], 'details': [], 'datasource': {'sourcename': 'openstreetmap', 'attribution': '© OpenStreetMap contributors', 'license': 'Open Database License', 'url': 'https://www.openstreetmap.org/copyright', 'raw': {'name': 'Hotel Vila Moura Executivo', 'osm_id': 203110346, 'tourism': 'hotel', 'osm_type': 'w'}}, 'distance': 18, 'place_id': '5168f83f01950c4ac0595f5cf77b730440c0f00102f901ca371b0c0000000092031a486f74656c2056696c61204d6f7572612045786563757469766f'}, 'geometry': {'type': 'Point', 'coordinates': [-52.098297268138424, -32.03477429941335]}}]}\n",
      "rio grande - nearest hotel: Hotel Vila Moura Executivo\n"
     ]
    },
    {
     "name": "stderr",
     "output_type": "stream",
     "text": [
      "ERROR:root:Error message:\n",
      "Traceback (most recent call last):\n",
      "  File \"C:\\Users\\Moburu\\AppData\\Local\\Temp\\ipykernel_26060\\1195407018.py\", line 36, in <module>\n",
      "    hotel_df.loc[index, \"Hotel Name\"] = name_address[\"features\"][0][\"properties\"][\"name\"]\n",
      "                                        ~~~~~~~~~~~~~~~~~~~~~~~~^^^\n",
      "IndexError: list index out of range\n"
     ]
    },
    {
     "name": "stdout",
     "output_type": "stream",
     "text": [
      "{'type': 'FeatureCollection', 'features': []}\n",
      "kresttsy - nearest hotel: No hotel found\n"
     ]
    },
    {
     "name": "stderr",
     "output_type": "stream",
     "text": [
      "ERROR:root:Error message:\n",
      "Traceback (most recent call last):\n",
      "  File \"C:\\Users\\Moburu\\AppData\\Local\\Temp\\ipykernel_26060\\1195407018.py\", line 36, in <module>\n",
      "    hotel_df.loc[index, \"Hotel Name\"] = name_address[\"features\"][0][\"properties\"][\"name\"]\n",
      "                                        ~~~~~~~~~~~~~~~~~~~~~~~~^^^\n",
      "IndexError: list index out of range\n"
     ]
    },
    {
     "name": "stdout",
     "output_type": "stream",
     "text": [
      "{'type': 'FeatureCollection', 'features': []}\n",
      "jinchang - nearest hotel: No hotel found\n",
      "{'type': 'FeatureCollection', 'features': [{'type': 'Feature', 'properties': {'name': 'Hospedaje Calle del Sol', 'country': 'Peru', 'country_code': 'pe', 'region': 'Province of Chiclayo', 'state': 'Lambayeque', 'city': 'Pimentel', 'district': 'Costa Dorada', 'street': 'Calle Miguel Grau', 'lon': -79.9353713, 'lat': -6.8357197, 'state_code': 'LAM', 'formatted': 'Hospedaje Calle del Sol, Calle Miguel Grau, Pimentel, Peru', 'address_line1': 'Hospedaje Calle del Sol', 'address_line2': 'Calle Miguel Grau, Pimentel, Peru', 'categories': ['accommodation', 'accommodation.hotel'], 'details': [], 'datasource': {'sourcename': 'openstreetmap', 'attribution': '© OpenStreetMap contributors', 'license': 'Open Database License', 'url': 'https://www.openstreetmap.org/copyright', 'raw': {'name': 'Hospedaje Calle del Sol', 'osm_id': 4337635290, 'tourism': 'hotel', 'osm_type': 'n'}}, 'distance': 169, 'place_id': '517dc7951fddfb53c0591c6dabe7c6571bc0f00103f901da0f8b0201000000920317486f73706564616a652043616c6c652064656c20536f6c'}, 'geometry': {'type': 'Point', 'coordinates': [-79.9353713, -6.835719699705148]}}]}\n",
      "pimentel - nearest hotel: Hospedaje Calle del Sol\n",
      "{'type': 'FeatureCollection', 'features': [{'type': 'Feature', 'properties': {'name': 'Hotel Jarumã', 'country': 'Brazil', 'country_code': 'br', 'region': 'North Region', 'state': 'Pará', 'county': 'Região Geográfica Intermediária de Belém', 'city': 'Abaetetuba', 'municipality': 'Região Geográfica Imediata de Abaetetuba', 'postcode': '68440-000', 'district': 'Abaetetuba', 'suburb': 'Cafezal', 'street': 'Rua Primeiro de Maio', 'lon': -48.88268516429337, 'lat': -1.7241695, 'state_code': 'PA', 'formatted': 'Hotel Jarumã, Rua Primeiro de Maio, Cafezal, Abaetetuba - PA, 68440-000, Brazil', 'address_line1': 'Hotel Jarumã', 'address_line2': 'Rua Primeiro de Maio, Cafezal, Abaetetuba - PA, 68440-000, Brazil', 'categories': ['accommodation', 'accommodation.hotel', 'building', 'building.accommodation'], 'details': [], 'datasource': {'sourcename': 'openstreetmap', 'attribution': '© OpenStreetMap contributors', 'license': 'Open Database License', 'url': 'https://www.openstreetmap.org/copyright', 'raw': {'name': 'Hotel Jarumã', 'osm_id': 1128105864, 'tourism': 'hotel', 'building': 'yes', 'osm_type': 'w'}}, 'distance': 655, 'place_id': '51f7a6d4d3fb7048c059df23e9c13296fbbff00102f90188873d430000000092030d486f74656c204a6172756dc3a3'}, 'geometry': {'type': 'Point', 'coordinates': [-48.88268516429337, -1.7241694998394832]}}]}\n",
      "abaetetuba - nearest hotel: Hotel Jarumã\n",
      "{'type': 'FeatureCollection', 'features': [{'type': 'Feature', 'properties': {'name': 'Gîte Oceania', 'country': 'France', 'country_code': 'fr', 'state': 'Wallis and Futuna', 'city': 'Uvea', 'town': 'Mata Utu', 'postcode': '98600', 'street': 'RT 1', 'lon': -176.1723539, 'lat': -13.2828456, 'formatted': 'Gîte Oceania, RT 1, 98600 Uvea, France', 'address_line1': 'Gîte Oceania', 'address_line2': 'RT 1, 98600 Uvea, France', 'categories': ['accommodation', 'accommodation.hotel', 'internet_access'], 'details': ['details.contact', 'details.facilities'], 'datasource': {'sourcename': 'openstreetmap', 'attribution': '© OpenStreetMap contributors', 'license': 'Open Database License', 'url': 'https://www.openstreetmap.org/copyright', 'raw': {'name': 'Gîte Oceania', 'phone': '00681821628', 'osm_id': 8169143217, 'tourism': 'hotel', 'osm_type': 'n', 'addr:street': 'Rue du palais', 'internet_access': 'wlan'}}, 'contact': {'phone': '00681821628'}, 'facilities': {'internet_access': True}, 'distance': 270, 'place_id': '51d27a53ec830566c059e0ae7523d1902ac0f00103f901b13bebe60100000092030d47c3ae7465204f6365616e6961'}, 'geometry': {'type': 'Point', 'coordinates': [-176.17235390000002, -13.282845600238431]}}]}\n",
      "mata-utu - nearest hotel: Gîte Oceania\n"
     ]
    },
    {
     "name": "stderr",
     "output_type": "stream",
     "text": [
      "ERROR:root:Error message:\n",
      "Traceback (most recent call last):\n",
      "  File \"C:\\Users\\Moburu\\AppData\\Local\\Temp\\ipykernel_26060\\1195407018.py\", line 36, in <module>\n",
      "    hotel_df.loc[index, \"Hotel Name\"] = name_address[\"features\"][0][\"properties\"][\"name\"]\n",
      "                                        ~~~~~~~~~~~~~~~~~~~~~~~~^^^\n",
      "IndexError: list index out of range\n"
     ]
    },
    {
     "name": "stdout",
     "output_type": "stream",
     "text": [
      "{'type': 'FeatureCollection', 'features': []}\n",
      "ad dilam - nearest hotel: No hotel found\n",
      "{'type': 'FeatureCollection', 'features': [{'type': 'Feature', 'properties': {'name': 'Hotel Qaqortoq', 'country': 'Greenland', 'country_code': 'gl', 'city': 'Qaqortoq', 'municipality': 'Kujalleq', 'postcode': '3920', 'suburb': 'Bygning', 'street': 'Anders Olsensvej', 'housenumber': 'B-1254', 'lon': -46.035838299999995, 'lat': 60.71890495, 'formatted': 'Hotel Qaqortoq, Anders Olsensvej B-1254, 3920 Qaqortoq, Greenland', 'address_line1': 'Hotel Qaqortoq', 'address_line2': 'Anders Olsensvej B-1254, 3920 Qaqortoq, Greenland', 'categories': ['accommodation', 'accommodation.hotel', 'building', 'building.accommodation'], 'details': [], 'datasource': {'sourcename': 'openstreetmap', 'attribution': '© OpenStreetMap contributors', 'license': 'Open Database License', 'url': 'https://www.openstreetmap.org/copyright', 'raw': {'name': 'Hotel Qaqortoq', 'osm_id': 299654517, 'tourism': 'hotel', 'building': 'yes', 'osm_type': 'w', 'addr:city': 'Qaqortoq', 'addr:street': 'Anders Olsensvej', 'addr:postcode': 3920, 'addr:housenumber': 'B-1254'}}, 'distance': 259, 'place_id': '51dc387359960447c059a655d413055c4e40f00102f901755ddc110000000092030e486f74656c205161716f72746f71'}, 'geometry': {'type': 'Point', 'coordinates': [-46.035838299999995, 60.71890495174311]}}]}\n",
      "qaqortoq - nearest hotel: Hotel Qaqortoq\n"
     ]
    },
    {
     "name": "stderr",
     "output_type": "stream",
     "text": [
      "ERROR:root:Error message:\n",
      "Traceback (most recent call last):\n",
      "  File \"C:\\Users\\Moburu\\AppData\\Local\\Temp\\ipykernel_26060\\1195407018.py\", line 36, in <module>\n",
      "    hotel_df.loc[index, \"Hotel Name\"] = name_address[\"features\"][0][\"properties\"][\"name\"]\n",
      "                                        ~~~~~~~~~~~~~~~~~~~~~~~~~~~~~~~~~~~~~~~~~^^^^^^^^\n",
      "KeyError: 'name'\n"
     ]
    },
    {
     "name": "stdout",
     "output_type": "stream",
     "text": [
      "{'type': 'FeatureCollection', 'features': [{'type': 'Feature', 'properties': {'country': 'Russia', 'country_code': 'ru', 'region': 'Central Federal District', 'state': 'Moscow Oblast', 'county': 'Balashikhinsky District', 'city': 'Balashikha', 'postcode': '143983', 'suburb': 'Ольгино', 'street': 'Граничная улица', 'housenumber': '4 с2', 'lon': 37.9843906, 'lat': 55.7505418, 'formatted': 'Граничная улица 4 с2, Ольгино, Balashikha, Moscow Oblast, Russia, 143983', 'address_line1': 'Граничная улица 4 с2', 'address_line2': 'Ольгино, Balashikha, Moscow Oblast, Russia, 143983', 'categories': ['accommodation', 'accommodation.hotel'], 'details': [], 'datasource': {'sourcename': 'openstreetmap', 'attribution': '© OpenStreetMap contributors', 'license': 'Open Database License', 'url': 'https://www.openstreetmap.org/copyright', 'raw': {'osm_id': 3642918799, 'tourism': 'hotel', 'osm_type': 'n'}}, 'distance': 1244, 'place_id': '51b1bedc8200fe424059e6f6f1c011e04b40f00103f9018f8722d900000000'}, 'geometry': {'type': 'Point', 'coordinates': [37.98439059999999, 55.750541799685195]}}]}\n",
      "zheleznodorozhnyy - nearest hotel: No hotel found\n"
     ]
    },
    {
     "name": "stderr",
     "output_type": "stream",
     "text": [
      "ERROR:root:Error message:\n",
      "Traceback (most recent call last):\n",
      "  File \"C:\\Users\\Moburu\\AppData\\Local\\Temp\\ipykernel_26060\\1195407018.py\", line 36, in <module>\n",
      "    hotel_df.loc[index, \"Hotel Name\"] = name_address[\"features\"][0][\"properties\"][\"name\"]\n",
      "                                        ~~~~~~~~~~~~~~~~~~~~~~~~^^^\n",
      "IndexError: list index out of range\n"
     ]
    },
    {
     "name": "stdout",
     "output_type": "stream",
     "text": [
      "{'type': 'FeatureCollection', 'features': []}\n",
      "aripuana - nearest hotel: No hotel found\n",
      "{'type': 'FeatureCollection', 'features': [{'type': 'Feature', 'properties': {'name': 'Cape Fox Lodge', 'country': 'United States', 'country_code': 'us', 'state': 'Alaska', 'county': 'Ketchikan Gateway', 'city': 'Ketchikan', 'postcode': '99901', 'street': \"Married Man's Trail\", 'housenumber': '80', 'lon': -131.6408723, 'lat': 55.3425234, 'state_code': 'AK', 'formatted': \"Cape Fox Lodge, 80 Married Man's Trail, Ketchikan, AK 99901, United States of America\", 'address_line1': 'Cape Fox Lodge', 'address_line2': \"80 Married Man's Trail, Ketchikan, AK 99901, United States of America\", 'categories': ['accommodation', 'accommodation.hotel'], 'details': ['details'], 'datasource': {'sourcename': 'openstreetmap', 'attribution': '© OpenStreetMap contributors', 'license': 'Open Database License', 'url': 'https://www.openstreetmap.org/copyright', 'raw': {'name': 'Cape Fox Lodge', 'osm_id': 4331609268, 'tourism': 'hotel', 'website': 'https://capefoxlodge.com/', 'osm_type': 'n', 'addr:city': 'Ketchikan', 'addr:street': 'Venetia Wat', 'addr:housenumber': 80}}, 'website': 'https://capefoxlodge.com/', 'distance': 334, 'place_id': '51312da006827460c059b28d87ced7ab4b40f00103f901b41c2f020100000092030e4361706520466f78204c6f646765'}, 'geometry': {'type': 'Point', 'coordinates': [-131.64087229999998, 55.34252339953254]}}]}\n",
      "ketchikan - nearest hotel: Cape Fox Lodge\n",
      "{'type': 'FeatureCollection', 'features': [{'type': 'Feature', 'properties': {'name': 'гостиница \"Солнечная\"', 'country': 'Russia', 'country_code': 'ru', 'region': 'Far Eastern Federal District', 'state': 'Sakha Republic', 'county': 'Oymyakonsky Ulus', 'city': 'Ust-Nera', 'municipality': 'городское поселение Усть-Нера', 'postcode': '678730', 'street': 'улица Ленина', 'housenumber': '16', 'lon': 143.2378477, 'lat': 64.5650144, 'formatted': 'гостиница \"Солнечная\", улица Ленина 16, Ust-Nera, Sakha Republic, Russia, 678730', 'address_line1': 'гостиница \"Солнечная\"', 'address_line2': 'улица Ленина 16, Ust-Nera, Sakha Republic, Russia, 678730', 'categories': ['accommodation', 'accommodation.hotel'], 'details': ['details'], 'datasource': {'sourcename': 'openstreetmap', 'attribution': '© OpenStreetMap contributors', 'license': 'Open Database License', 'url': 'https://www.openstreetmap.org/copyright', 'raw': {'name': 'гостиница \"Солнечная\"', 'osm_id': 644137641, 'tourism': 'hotel', 'osm_type': 'n', 'addr:street': 'улица Ленина', 'addr:postcode': 678730, 'opening_hours': '24/7', 'addr:housenumber': 16}}, 'opening_hours': '24/7', 'distance': 1824, 'place_id': '51b99dc7729ce76140596ad7273229245040f00103f901a9c2642600000000920327d0b3d0bed181d182d0b8d0bdd0b8d186d0b02022d0a1d0bed0bbd0bdd0b5d187d0bdd0b0d18f22'}, 'geometry': {'type': 'Point', 'coordinates': [143.2378477, 64.56501439944046]}}]}\n",
      "ust-nera - nearest hotel: гостиница \"Солнечная\"\n",
      "{'type': 'FeatureCollection', 'features': [{'type': 'Feature', 'properties': {'name': 'Grand Hotel', 'country': 'United Kingdom', 'country_code': 'gb', 'state': 'Scotland', 'county': 'Shetland', 'city': 'Lerwick', 'postcode': 'ZE1 0EX', 'suburb': 'Freefield', 'street': 'Commercial Street', 'housenumber': '149', 'lon': -1.1439192, 'lat': 60.1539465, 'state_code': 'SCT', 'formatted': 'Grand Hotel, 149 Commercial Street, Lerwick, ZE1 0EX, United Kingdom', 'address_line1': 'Grand Hotel', 'address_line2': '149 Commercial Street, Lerwick, ZE1 0EX, United Kingdom', 'categories': ['accommodation', 'accommodation.hotel'], 'details': ['details', 'details.contact'], 'datasource': {'sourcename': 'openstreetmap', 'attribution': '© OpenStreetMap contributors', 'license': 'Open Database License', 'url': 'https://www.openstreetmap.org/copyright', 'raw': {'name': 'Grand Hotel', 'phone': '+44 1595 692826', 'osm_id': 2288713200, 'fhrs:id': 1348768, 'tourism': 'hotel', 'website': 'https://www.grandhotelshetland.co.uk/', 'osm_type': 'n', 'addr:city': 'Shetland', 'addr:street': 'Commercial Street', 'addr:suburb': 'Lerwick', 'addr:postcode': 'ZE1 0EX', 'addr:housenumber': 149}}, 'website': 'https://www.grandhotelshetland.co.uk/', 'contact': {'phone': '+44 1595 692826'}, 'distance': 311, 'place_id': '51834314387e4df2bf5904fbda84b4134e40f00103f901f0fd6a880000000092030b4772616e6420486f74656c'}, 'geometry': {'type': 'Point', 'coordinates': [-1.1439191999999998, 60.153946501659476]}}]}\n",
      "lerwick - nearest hotel: Grand Hotel\n",
      "{'type': 'FeatureCollection', 'features': [{'type': 'Feature', 'properties': {'name': 'Go Inn Santo André', 'country': 'Brazil', 'country_code': 'br', 'region': 'Southeast Region', 'state': 'São Paulo', 'state_district': 'Região Geográfica Intermediária de São Paulo', 'county': 'Região Metropolitana de São Paulo', 'city': 'Santo André', 'municipality': 'Região Imediata de São Paulo', 'postcode': '09110-971', 'district': 'Santo André', 'suburb': 'Novo Homero Thon', 'street': 'Rua Giovanni Battista Pirelli', 'housenumber': '279', 'lon': -46.5062838, 'lat': -23.6638225, 'state_code': 'SP', 'formatted': 'Go Inn Santo André, Rua Giovanni Battista Pirelli 279, Novo Homero Thon, Santo André - SP, 09110-971, Brazil', 'address_line1': 'Go Inn Santo André', 'address_line2': 'Rua Giovanni Battista Pirelli 279, Novo Homero Thon, Santo André - SP, 09110-971, Brazil', 'categories': ['accommodation', 'accommodation.hotel'], 'details': ['details', 'details.wiki_and_media'], 'datasource': {'sourcename': 'openstreetmap', 'attribution': '© OpenStreetMap contributors', 'license': 'Open Database License', 'url': 'https://www.openstreetmap.org/copyright', 'raw': {'name': 'Go Inn Santo André', 'osm_id': 7090191975, 'tourism': 'hotel', 'operator': 'Atlantica Hotels', 'osm_type': 'n', 'wikidata': 'Q111414220', 'addr:city': 'Santo André', 'addr:street': 'Rua Giovanni Battista Pirelli', 'addr:housenumber': 279}}, 'operator': 'Atlantica Hotels', 'wiki_and_media': {'wikidata': 'Q111414220'}, 'distance': 4600, 'place_id': '514fbf55e8cd4047c0597fbc7745f0a937c0f00103f90167be9ba601000000920313476f20496e6e2053616e746f20416e6472c3a9'}, 'geometry': {'type': 'Point', 'coordinates': [-46.5062838, -23.663822499973772]}}]}\n",
      "maua - nearest hotel: Go Inn Santo André\n",
      "{'type': 'FeatureCollection', 'features': [{'type': 'Feature', 'properties': {'name': 'Estero Beach Resort', 'country': 'Mexico', 'country_code': 'mx', 'state': 'Baja California', 'county': 'Municipio de Ensenada', 'city': 'Ensenada', 'postcode': '22785', 'street': 'California', 'lon': -116.60759471430293, 'lat': 31.7762992, 'state_code': 'BCN', 'formatted': 'Estero Beach Resort, California, 22785 Ensenada, BCN, Mexico', 'address_line1': 'Estero Beach Resort', 'address_line2': 'California, 22785 Ensenada, BCN, Mexico', 'categories': ['accommodation', 'accommodation.hotel'], 'details': [], 'datasource': {'sourcename': 'openstreetmap', 'attribution': '© OpenStreetMap contributors', 'license': 'Open Database License', 'url': 'https://www.openstreetmap.org/copyright', 'raw': {'name': 'Estero Beach Resort', 'osm_id': 291332260, 'tourism': 'hotel', 'osm_type': 'w'}}, 'distance': 7275, 'place_id': '51d4c9f0d4e2265dc059ee445a8bbbc63f40f00102f901a4605d110000000092031345737465726f204265616368205265736f7274'}, 'geometry': {'type': 'Point', 'coordinates': [-116.60759471430293, 31.77629919961776]}}]}\n",
      "rodolfo sanchez taboada - nearest hotel: Estero Beach Resort\n",
      "{'type': 'FeatureCollection', 'features': [{'type': 'Feature', 'properties': {'name': 'Quality Inn', 'country': 'United States', 'country_code': 'us', 'state': 'South Dakota', 'county': 'Brookings County', 'city': 'Brookings', 'municipality': 'Aurora Township', 'postcode': '57007', 'street': 'Sunrise Ridge Road', 'lon': -96.76382885000001, 'lat': 44.31020075, 'state_code': 'SD', 'formatted': 'Quality Inn, Sunrise Ridge Road, Brookings, SD 57007, United States of America', 'address_line1': 'Quality Inn', 'address_line2': 'Sunrise Ridge Road, Brookings, SD 57007, United States of America', 'categories': ['accommodation', 'accommodation.hotel', 'building', 'building.accommodation'], 'details': ['details'], 'datasource': {'sourcename': 'openstreetmap', 'attribution': '© OpenStreetMap contributors', 'license': 'Open Database License', 'url': 'https://www.openstreetmap.org/copyright', 'raw': {'name': 'Quality Inn', 'brand': 'Quality Inn', 'osm_id': 258506274, 'tourism': 'hotel', 'building': 'yes', 'osm_type': 'w', 'brand:wikidata': 'Q1075788'}}, 'brand': 'Quality Inn', 'brand_details': {'wikidata': 'Q1075788'}, 'distance': 2750, 'place_id': '51719f6692e23058c0596a567fa8b4274640f00102f901227e680f0000000092030b5175616c69747920496e6e'}, 'geometry': {'type': 'Point', 'coordinates': [-96.76382885, 44.310200750519314]}}]}\n",
      "brookings - nearest hotel: Quality Inn\n",
      "{'type': 'FeatureCollection', 'features': [{'type': 'Feature', 'properties': {'name': 'Condomínio Residencial Sonho Real', 'country': 'Brazil', 'country_code': 'br', 'region': 'Central-West Region', 'state': 'Goiás', 'state_district': 'Região Geográfica Intermediária de Luziânia-Águas Lindas de Goiás', 'county': 'Região Integrada de Desenvolvimento do Distrito Federal e Entorno', 'city': 'Planaltina', 'municipality': 'Região Geográfica Imediata de Águas Lindas de Goiás', 'postcode': '73751-047', 'street': 'Avenida 29', 'lon': -47.6052471, 'lat': -15.4363707, 'state_code': 'GO', 'formatted': 'Condomínio Residencial Sonho Real, Avenida 29, Planaltina - GO, 73751-047, Brazil', 'address_line1': 'Condomínio Residencial Sonho Real', 'address_line2': 'Avenida 29, Planaltina - GO, 73751-047, Brazil', 'categories': ['accommodation', 'accommodation.hotel'], 'details': [], 'datasource': {'sourcename': 'openstreetmap', 'attribution': '© OpenStreetMap contributors', 'license': 'Open Database License', 'url': 'https://www.openstreetmap.org/copyright', 'raw': {'name': 'Condomínio Residencial Sonho Real', 'osm_id': 4355868228, 'tourism': 'hotel', 'osm_type': 'n'}}, 'distance': 2056, 'place_id': '51da3faabc78cd47c059835dfefa6bdf2ec0f00103f9014446a10301000000920322436f6e646f6dc3ad6e696f205265736964656e6369616c20536f6e686f205265616c'}, 'geometry': {'type': 'Point', 'coordinates': [-47.6052471, -15.436370700407457]}}]}\n",
      "planaltina - nearest hotel: Condomínio Residencial Sonho Real\n",
      "{'type': 'FeatureCollection', 'features': [{'type': 'Feature', 'properties': {'name': 'Ayres de Salta Hotel', 'country': 'Argentina', 'country_code': 'ar', 'state': 'Salta', 'county': 'Rosario de Lerma', 'city': 'Salta', 'postcode': 'A4400ABL', 'street': 'General Martín Miguel de Güemes', 'lon': -65.41129, 'lat': -24.7864217, 'state_code': 'A', 'formatted': 'Ayres de Salta Hotel, General Martín Miguel de Güemes, A4400 ABL Salta, Argentina', 'address_line1': 'Ayres de Salta Hotel', 'address_line2': 'General Martín Miguel de Güemes, A4400 ABL Salta, Argentina', 'categories': ['accommodation', 'accommodation.hotel', 'building', 'building.accommodation'], 'details': ['details.building'], 'datasource': {'sourcename': 'openstreetmap', 'attribution': '© OpenStreetMap contributors', 'license': 'Open Database License', 'url': 'https://www.openstreetmap.org/copyright', 'raw': {'name': 'Ayres de Salta Hotel', 'osm_id': 2124643824, 'tourism': 'hotel', 'building': 'hotel', 'osm_type': 'n', 'building:levels': 5}}, 'building': {'levels': 5, 'type': 'hotel'}, 'distance': 71, 'place_id': '51ffca4a93525a50c059bd8cb9ee52c938c0f00103f901f07da37e0000000092031441797265732064652053616c746120486f74656c'}, 'geometry': {'type': 'Point', 'coordinates': [-65.41129, -24.78642169981025]}}]}\n",
      "salta - nearest hotel: Ayres de Salta Hotel\n"
     ]
    },
    {
     "name": "stderr",
     "output_type": "stream",
     "text": [
      "ERROR:root:Error message:\n",
      "Traceback (most recent call last):\n",
      "  File \"C:\\Users\\Moburu\\AppData\\Local\\Temp\\ipykernel_26060\\1195407018.py\", line 36, in <module>\n",
      "    hotel_df.loc[index, \"Hotel Name\"] = name_address[\"features\"][0][\"properties\"][\"name\"]\n",
      "                                        ~~~~~~~~~~~~~~~~~~~~~~~~^^^\n",
      "IndexError: list index out of range\n"
     ]
    },
    {
     "name": "stdout",
     "output_type": "stream",
     "text": [
      "{'type': 'FeatureCollection', 'features': []}\n",
      "kokpekty - nearest hotel: No hotel found\n",
      "{'type': 'FeatureCollection', 'features': [{'type': 'Feature', 'properties': {'name': 'Vila Kebaya', 'country': 'Brazil', 'country_code': 'br', 'region': 'Southeast Region', 'state': 'São Paulo', 'state_district': 'Região Geográfica Intermediária de São José dos Campos', 'county': 'Região Metropolitana do Vale do Paraíba e Litoral Norte', 'city': 'Ilhabela', 'municipality': 'Região Imediata de Caraguatatuba-Ubatuba-São Sebastião', 'postcode': '11630-000', 'district': 'Ilhabela', 'neighbourhood': 'Centro', 'suburb': 'Vila', 'street': 'Rua Antônio Lisboa Alves', 'lon': -45.3568162, 'lat': -23.779334, 'state_code': 'SP', 'formatted': 'Vila Kebaya, Rua Antônio Lisboa Alves, Vila, Ilhabela - SP, 11630-000, Brazil', 'address_line1': 'Vila Kebaya', 'address_line2': 'Rua Antônio Lisboa Alves, Vila, Ilhabela - SP, 11630-000, Brazil', 'categories': ['accommodation', 'accommodation.hotel', 'internet_access'], 'details': ['details.facilities'], 'datasource': {'sourcename': 'openstreetmap', 'attribution': '© OpenStreetMap contributors', 'license': 'Open Database License', 'url': 'https://www.openstreetmap.org/copyright', 'raw': {'name': 'Vila Kebaya', 'osm_id': 6589994569, 'tourism': 'hotel', 'osm_type': 'n', 'wheelchair': 'no', 'internet_access': 'wlan'}}, 'facilities': {'internet_access': True, 'wheelchair': False}, 'distance': 189, 'place_id': '516bd73a27acad46c059117ada6e82c737c0f00103f9014956cb880100000092030b56696c61204b6562617961'}, 'geometry': {'type': 'Point', 'coordinates': [-45.35681619999999, -23.77933399995715]}}]}\n",
      "ilhabela - nearest hotel: Vila Kebaya\n"
     ]
    },
    {
     "name": "stderr",
     "output_type": "stream",
     "text": [
      "ERROR:root:Error message:\n",
      "Traceback (most recent call last):\n",
      "  File \"C:\\Users\\Moburu\\AppData\\Local\\Temp\\ipykernel_26060\\1195407018.py\", line 36, in <module>\n",
      "    hotel_df.loc[index, \"Hotel Name\"] = name_address[\"features\"][0][\"properties\"][\"name\"]\n",
      "                                        ~~~~~~~~~~~~~~~~~~~~~~~~^^^\n",
      "IndexError: list index out of range\n"
     ]
    },
    {
     "name": "stdout",
     "output_type": "stream",
     "text": [
      "{'type': 'FeatureCollection', 'features': []}\n",
      "roi et - nearest hotel: No hotel found\n",
      "{'type': 'FeatureCollection', 'features': [{'type': 'Feature', 'properties': {'name': 'Clarion Collection Hotel Aurora', 'country': 'Norway', 'country_code': 'no', 'county': 'Troms', 'city': 'Tromsø', 'postcode': '9008', 'district': 'Prostneset', 'suburb': 'Nordbyen', 'street': 'Sjøgata', 'lon': 18.9593983, 'lat': 69.6501333, 'formatted': 'Clarion Collection Hotel Aurora, Sjøgata, 9008 Tromsø, Norway', 'address_line1': 'Clarion Collection Hotel Aurora', 'address_line2': 'Sjøgata, 9008 Tromsø, Norway', 'categories': ['accommodation', 'accommodation.hotel'], 'details': ['details', 'details.facilities'], 'datasource': {'sourcename': 'openstreetmap', 'attribution': '© OpenStreetMap contributors', 'license': 'Open Database License', 'url': 'https://www.openstreetmap.org/copyright', 'raw': {'name': 'Clarion Collection Hotel Aurora', 'brand': 'Clarion', 'osm_id': 310983198, 'smoking': 'no', 'tourism': 'hotel', 'website': 'https://www.nordicchoicehotels.com/clarion-collection/clarion-collection-hotel-aurora/', 'osm_type': 'n', 'smokefree': 'yes', 'brand:wikidata': 'Q10454567'}}, 'website': 'https://www.nordicchoicehotels.com/clarion-collection/clarion-collection-hotel-aurora/', 'brand': 'Clarion', 'brand_details': {'wikidata': 'Q10454567'}, 'facilities': {'smoking': False}, 'distance': 111, 'place_id': '51875682209bf53240592314b2c89b695140f00103f9011e3a89120000000092031f436c6172696f6e20436f6c6c656374696f6e20486f74656c204175726f7261'}, 'geometry': {'type': 'Point', 'coordinates': [18.9593983, 69.65013329878325]}}]}\n",
      "tromso - nearest hotel: Clarion Collection Hotel Aurora\n",
      "{'type': 'FeatureCollection', 'features': [{'type': 'Feature', 'properties': {'name': 'Devoto Gran Hotel', 'country': 'Argentina', 'country_code': 'ar', 'state': 'Córdoba', 'state_district': 'Departamento San Justo', 'county': 'Pedanía Juárez Celman', 'city': 'Devoto', 'municipality': 'Municipio de Devoto', 'postcode': 'X2400', 'street': 'Boulevard 9 de Julio', 'lon': -62.3021908, 'lat': -31.4079126, 'state_code': 'X', 'formatted': 'Devoto Gran Hotel, Boulevard 9 de Julio, X2400 Devoto, Argentina', 'address_line1': 'Devoto Gran Hotel', 'address_line2': 'Boulevard 9 de Julio, X2400 Devoto, Argentina', 'categories': ['accommodation', 'accommodation.hotel'], 'details': [], 'datasource': {'sourcename': 'openstreetmap', 'attribution': '© OpenStreetMap contributors', 'license': 'Open Database License', 'url': 'https://www.openstreetmap.org/copyright', 'raw': {'name': 'Devoto Gran Hotel', 'osm_id': 3226582462, 'tourism': 'hotel', 'osm_type': 'n'}}, 'distance': 560, 'place_id': '5175932930ae264fc059c3e3c9f56c683fc0f00103f901bebd51c0000000009203114465766f746f204772616e20486f74656c'}, 'geometry': {'type': 'Point', 'coordinates': [-62.302190799999984, -31.407912599362827]}}]}\n",
      "devoto - nearest hotel: Devoto Gran Hotel\n",
      "{'type': 'FeatureCollection', 'features': [{'type': 'Feature', 'properties': {'name': 'Hôtel Madania', 'country': 'Algeria', 'country_code': 'dz', 'state': 'Bashar', 'county': \"Da'ira Bashar\", 'city': 'Bashar', 'postcode': '08000', 'street': 'Rue Brahim ben mohamed', 'lon': -2.2154591, 'lat': 31.6143788, 'formatted': 'Madania, Rue Brahim ben mohamed, 08000 Bashar, Algeria', 'address_line1': 'Madania', 'address_line2': 'Rue Brahim ben mohamed, 08000 Bashar, Algeria', 'categories': ['accommodation', 'accommodation.hotel'], 'details': ['details'], 'datasource': {'sourcename': 'openstreetmap', 'attribution': '© OpenStreetMap contributors', 'license': 'Open Database License', 'url': 'https://www.openstreetmap.org/copyright', 'raw': {'name': 'Hôtel Madania', 'osm_id': 2852024744, 'name:ar': 'مدنية', 'name:en': 'Madania', 'name:fr': 'Madania', 'tourism': 'hotel', 'alt_name': 'Madaniya', 'name:kab': 'Madania', 'osm_type': 'n'}}, 'name_other': {'alt_name': 'Madaniya'}, 'name_international': {'ar': 'مدنية', 'en': 'Madania', 'fr': 'Madania'}, 'distance': 283, 'place_id': '513601e19e42b901c05927bfd3ed479d3f40f00103f901a871fea90000000092030e48c3b474656c204d6164616e6961'}, 'geometry': {'type': 'Point', 'coordinates': [-2.2154590999999995, 31.614378799625367]}}]}\n",
      "bechar - nearest hotel: Hôtel Madania\n",
      "{'type': 'FeatureCollection', 'features': [{'type': 'Feature', 'properties': {'name': 'Сона', 'country': 'Russia', 'country_code': 'ru', 'region': 'Far Eastern Federal District', 'state': 'Buryatia', 'county': 'Zakamensky Rayon', 'city': 'Zakamensk', 'municipality': 'городское поселение Закаменск', 'postcode': '671950', 'street': 'улица Ленина', 'housenumber': '19', 'lon': 103.29176987543927, 'lat': 50.37734465, 'formatted': 'Сона, улица Ленина 19, Zakamensk, Buryatia, Russia, 671950', 'address_line1': 'Сона', 'address_line2': 'улица Ленина 19, Zakamensk, Buryatia, Russia, 671950', 'categories': ['accommodation', 'accommodation.hotel', 'building', 'building.accommodation'], 'details': ['details.contact'], 'datasource': {'sourcename': 'openstreetmap', 'attribution': '© OpenStreetMap contributors', 'license': 'Open Database License', 'url': 'https://www.openstreetmap.org/copyright', 'raw': {'name': 'Сона', 'phone': '+7 30137 43013', 'osm_id': 323496033, 'tourism': 'hotel', 'building': 'yes', 'osm_type': 'w', 'addr:street': 'улица Ленина', 'addr:housenumber': 19}}, 'contact': {'phone': '+7 30137 43013'}, 'distance': 514, 'place_id': '510e3e8e5bacd2594059742e58d44c304940f00102f9016128481300000000920308d0a1d0bed0bdd0b0'}, 'geometry': {'type': 'Point', 'coordinates': [103.29176987543926, 50.377344649369576]}}]}\n",
      "zakamensk - nearest hotel: Сона\n"
     ]
    },
    {
     "name": "stderr",
     "output_type": "stream",
     "text": [
      "ERROR:root:Error message:\n",
      "Traceback (most recent call last):\n",
      "  File \"C:\\Users\\Moburu\\AppData\\Local\\Temp\\ipykernel_26060\\1195407018.py\", line 36, in <module>\n",
      "    hotel_df.loc[index, \"Hotel Name\"] = name_address[\"features\"][0][\"properties\"][\"name\"]\n",
      "                                        ~~~~~~~~~~~~~~~~~~~~~~~~^^^\n",
      "IndexError: list index out of range\n"
     ]
    },
    {
     "name": "stdout",
     "output_type": "stream",
     "text": [
      "{'type': 'FeatureCollection', 'features': []}\n",
      "an nuhud - nearest hotel: No hotel found\n",
      "{'type': 'FeatureCollection', 'features': [{'type': 'Feature', 'properties': {'name': 'ศรีแดง โฮเต็ล', 'country': 'Thailand', 'country_code': 'th', 'county': 'Kanchanaburi Province', 'city': 'Sangkhla Buri', 'postcode': '71240', 'street': 'Thanon Sangkhla Buri', 'lon': 98.451951, 'lat': 15.156493, 'formatted': 'Si Daeng Hotel, Thanon Sangkhla Buri, Sangkhla Buri, 71240, Thailand', 'address_line1': 'Si Daeng Hotel', 'address_line2': 'Thanon Sangkhla Buri, Sangkhla Buri, 71240, Thailand', 'categories': ['accommodation', 'accommodation.hotel'], 'details': ['details'], 'datasource': {'sourcename': 'openstreetmap', 'attribution': '© OpenStreetMap contributors', 'license': 'Open Database License', 'url': 'https://www.openstreetmap.org/copyright', 'raw': {'name': 'ศรีแดง โฮเต็ล', 'osm_id': 961887444, 'name:en': 'Si Daeng Hotel', 'name:th': 'ศรีแดง โฮเต็ล', 'tourism': 'hotel', 'osm_type': 'n'}}, 'name_international': {'en': 'Si Daeng Hotel', 'th': 'ศรีแดง โฮเต็ล'}, 'distance': 209, 'place_id': '513f19e3c3ec9c584059e977b9d91f502e40f00103f901d43c553900000000920325e0b8a8e0b8a3e0b8b5e0b981e0b894e0b88720e0b982e0b8aee0b980e0b895e0b987e0b8a5'}, 'geometry': {'type': 'Point', 'coordinates': [98.451951, 15.15649299992579]}}]}\n",
      "sangkhla buri - nearest hotel: ศรีแดง โฮเต็ล\n",
      "{'type': 'FeatureCollection', 'features': [{'type': 'Feature', 'properties': {'name': '힐튼호텔 부산', 'country': 'South Korea', 'country_code': 'kr', 'county': 'Gijang-gun', 'city': 'Busan', 'town': 'Gijang-eup', 'postcode': '46083', 'street': '갈맷길', 'housenumber': '268-32', 'lon': 129.228264971677, 'lat': 35.1978611, 'formatted': '힐튼호텔 부산, 268-32 갈맷길, Busan, 46083, South Korea', 'address_line1': '힐튼호텔 부산', 'address_line2': '268-32 갈맷길, Busan, 46083, South Korea', 'categories': ['accommodation', 'accommodation.hotel', 'building', 'building.accommodation', 'internet_access', 'wheelchair', 'wheelchair.yes'], 'details': ['details', 'details.accommodation', 'details.building', 'details.contact', 'details.facilities', 'details.payment'], 'datasource': {'sourcename': 'openstreetmap', 'attribution': '© OpenStreetMap contributors', 'license': 'Open Database License', 'url': 'https://www.openstreetmap.org/copyright', 'raw': {'fax': '+82-51-5092600', 'name': '힐튼호텔 부산', 'brand': 'Hilton', 'email': 'pushi_hotel@hilton.com', 'rooms': 310, 'stars': 5, 'osm_id': 627153064, 'tourism': 'hotel', 'website': 'https://www.hilton.com/en/hotels/pushihi-hilton-busan/?WT.mc_id=zDA0KR1HI2DMH3LocalSearch4DGGeneric_Apr56PUSHIHI7EN8i1', 'building': 'yes', 'osm_type': 'w', 'addr:city': '기장읍', 'wheelchair': 'yes', 'addr:street': '갈맷길', 'payment:jcb': 'yes', 'payment:cash': 'yes', 'payment:visa': 'yes', 'addr:postcode': 46083, 'brand:wikidata': 'Q598884', 'building:levels': 10, 'internet_access': 'wlan', 'payment:maestro': 'yes', 'addr:housenumber': '268-32', 'contact:facebook': 'https://www.facebook.com/hiltonbusan', 'payment:unionpay': 'yes', 'contact:instagram': 'https://www.instagram.com/hiltonbusan/', 'payment:mastercard': 'yes', 'internet_access:fee': 'yes', 'payment:american_express': 'yes'}}, 'website': 'https://www.hilton.com/en/hotels/pushihi-hilton-busan/?WT.mc_id=zDA0KR1HI2DMH3LocalSearch4DGGeneric_Apr56PUSHIHI7EN8i1', 'brand': 'Hilton', 'brand_details': {'wikidata': 'Q598884'}, 'contact': {'email': 'pushi_hotel@hilton.com', 'fax': '+82-51-5092600'}, 'facilities': {'internet_access': True, 'wheelchair': True}, 'payment_options': {'jcb': True, 'cash': True, 'visa': True, 'maestro': True, 'unionpay': True, 'mastercard': True, 'american_express': True}, 'accommodation': {'stars': 5, 'rooms': 310}, 'building': {'levels': 10}, 'distance': 5220, 'place_id': '51998557f24d276040597a1b348353994140f00102f901a898612500000000920313ed9e90ed8abced98b8ed859420ebb680ec82b0'}, 'geometry': {'type': 'Point', 'coordinates': [129.22826497167696, 35.19786109966567]}}]}\n",
      "kijang - nearest hotel: 힐튼호텔 부산\n",
      "{'type': 'FeatureCollection', 'features': [{'type': 'Feature', 'properties': {'name': 'Thara Patong Beach Resort & Spa', 'country': 'Thailand', 'country_code': 'th', 'county': 'Kathu', 'province': 'Phuket Province', 'city': 'Patong', 'town': 'Pa Tong', 'postcode': '83150', 'street': 'Thaweewong Road', 'lon': 98.2966531, 'lat': 7.8968065, 'formatted': 'Thara Patong Beach Resort & Spa, Thaweewong Road, Patong, 83150, Thailand', 'address_line1': 'Thara Patong Beach Resort & Spa', 'address_line2': 'Thaweewong Road, Patong, 83150, Thailand', 'categories': ['accommodation', 'accommodation.hotel'], 'details': [], 'datasource': {'sourcename': 'openstreetmap', 'attribution': '© OpenStreetMap contributors', 'license': 'Open Database License', 'url': 'https://www.openstreetmap.org/copyright', 'raw': {'name': 'Thara Patong Beach Resort & Spa', 'osm_id': 4685673937, 'tourism': 'hotel', 'osm_type': 'n'}}, 'distance': 78, 'place_id': '5172b0485dfc92584059f7e4667154961f40f00103f901d1b549170100000092031f5468617261205061746f6e67204265616368205265736f7274202620537061'}, 'geometry': {'type': 'Point', 'coordinates': [98.29665309999999, 7.896806499390769]}}]}\n",
      "patong - nearest hotel: Thara Patong Beach Resort & Spa\n",
      "{'type': 'FeatureCollection', 'features': [{'type': 'Feature', 'properties': {'name': 'Best Western Plus Hotel Ilulissat', 'country': 'Greenland', 'country_code': 'gl', 'state': 'Avannaata', 'city': 'Ilulissat', 'postcode': '3952', 'street': 'Kaaleeraq Poulsenip Aqq.', 'housenumber': '6', 'lon': -51.1004477009848, 'lat': 69.21788835000001, 'formatted': 'Best Western Plus Hotel Ilulissat, Kaaleeraq Poulsenip Aqq. 6, 3952 Ilulissat, Greenland', 'address_line1': 'Best Western Plus Hotel Ilulissat', 'address_line2': 'Kaaleeraq Poulsenip Aqq. 6, 3952 Ilulissat, Greenland', 'categories': ['accommodation', 'accommodation.hotel', 'building', 'building.accommodation', 'internet_access', 'internet_access.free', 'wheelchair', 'wheelchair.yes'], 'details': ['details', 'details.accommodation', 'details.contact', 'details.facilities', 'details.payment'], 'datasource': {'sourcename': 'openstreetmap', 'attribution': '© OpenStreetMap contributors', 'license': 'Open Database License', 'url': 'https://www.openstreetmap.org/copyright', 'raw': {'bar': 'yes', 'name': 'Best Western Plus Hotel Ilulissat', 'brand': 'Best Western Plus', 'email': 'booking@hotel-ilulissat.gl', 'phone': '+299 58 86 00', 'stars': 3, 'osm_id': 504459335, 'smoking': 'no', 'tourism': 'hotel', 'website': 'https://hotel-ilulissat.gl', 'building': 'yes', 'osm_type': 'w', 'addr:city': 'Ilulissat', 'check_date': '2023-03-19', 'wheelchair': 'yes', 'addr:street': 'Kaaleeraq Poulsenip Aqq.', 'reservation': 'yes', 'addr:postcode': 3952, 'opening_hours': '24/7', 'brand:wikidata': 'Q830334', 'brand:wikipedia': 'en:Best Western', 'internet_access': 'wlan', 'addr:housenumber': 6, 'internet_access:fee': 'no', 'payment:credit_cards': 'yes'}}, 'website': 'https://hotel-ilulissat.gl', 'opening_hours': '24/7', 'brand': 'Best Western Plus', 'brand_details': {'wikidata': 'Q830334', 'wikipedia': 'en:Best Western'}, 'contact': {'phone': '+299 58 86 00', 'email': 'booking@hotel-ilulissat.gl'}, 'facilities': {'internet_access': True, 'wheelchair': True, 'smoking': False}, 'payment_options': {'credit_cards': True}, 'accommodation': {'stars': 3, 'reservation': 'required'}, 'distance': 121, 'place_id': '5113586378db8c49c059bc2cf8e1f14d5140f00102f9014770111e0000000092032142657374205765737465726e20506c757320486f74656c20496c756c6973736174'}, 'geometry': {'type': 'Point', 'coordinates': [-51.100447700984795, 69.21788834796729]}}]}\n",
      "ilulissat - nearest hotel: Best Western Plus Hotel Ilulissat\n"
     ]
    },
    {
     "name": "stderr",
     "output_type": "stream",
     "text": [
      "ERROR:root:Error message:\n",
      "Traceback (most recent call last):\n",
      "  File \"C:\\Users\\Moburu\\AppData\\Local\\Temp\\ipykernel_26060\\1195407018.py\", line 36, in <module>\n",
      "    hotel_df.loc[index, \"Hotel Name\"] = name_address[\"features\"][0][\"properties\"][\"name\"]\n",
      "                                        ~~~~~~~~~~~~~~~~~~~~~~~~^^^\n",
      "IndexError: list index out of range\n"
     ]
    },
    {
     "name": "stdout",
     "output_type": "stream",
     "text": [
      "{'type': 'FeatureCollection', 'features': []}\n",
      "capitao poco - nearest hotel: No hotel found\n",
      "{'type': 'FeatureCollection', 'features': [{'type': 'Feature', 'properties': {'name': 'общежитие Лукойл-Коми', 'country': 'Russia', 'country_code': 'ru', 'region': 'Northwestern Federal District', 'state': 'Komi Republic', 'county': 'Usinsk Urban Okrug', 'city': 'Usinsk', 'postcode': '129711', 'street': 'Промышленная улица', 'housenumber': '23', 'lon': 57.5431543, 'lat': 65.9973329, 'formatted': 'общежитие Лукойл-Коми, Промышленная улица 23, Usinsk, Komi Republic, Russia, 129711', 'address_line1': 'общежитие Лукойл-Коми', 'address_line2': 'Промышленная улица 23, Usinsk, Komi Republic, Russia, 129711', 'categories': ['accommodation', 'accommodation.hotel'], 'details': ['details'], 'datasource': {'sourcename': 'openstreetmap', 'attribution': '© OpenStreetMap contributors', 'license': 'Open Database License', 'url': 'https://www.openstreetmap.org/copyright', 'raw': {'name': 'общежитие Лукойл-Коми', 'osm_id': 1637470780, 'tourism': 'hotel', 'alt_name': 'Зелёная Крыша', 'osm_type': 'n', 'addr:city': 'Усинск', 'addr:street': 'Промышленная улица', 'addr:country': 'RU', 'addr:housenumber': 23}}, 'name_other': {'alt_name': 'Зелёная Крыша'}, 'distance': 784, 'place_id': '514197811486c54c4059a7c65c4dd47f5040f00103f9013cd2996100000000920328d0bed0b1d189d0b5d0b6d0b8d182d0b8d0b520d09bd183d0bad0bed0b9d0bb2dd09ad0bed0bcd0b8'}, 'geometry': {'type': 'Point', 'coordinates': [57.543154299999976, 65.99733289775996]}}]}\n",
      "usinsk - nearest hotel: общежитие Лукойл-Коми\n",
      "{'type': 'FeatureCollection', 'features': [{'type': 'Feature', 'properties': {'name': 'Hotel María José', 'country': 'Mexico', 'country_code': 'mx', 'state': 'Quintana Roo', 'county': 'Felipe Carrillo Puerto', 'city': 'Felipe Carrillo Puerto', 'postcode': '77200', 'street': 'Calle 66', 'lon': -88.0463336, 'lat': 19.5789616, 'state_code': 'ROO', 'formatted': 'Hotel María José, Calle 66, 77200 Felipe Carrillo Puerto, ROO, Mexico', 'address_line1': 'Hotel María José', 'address_line2': 'Calle 66, 77200 Felipe Carrillo Puerto, ROO, Mexico', 'categories': ['accommodation', 'accommodation.hotel'], 'details': [], 'datasource': {'sourcename': 'openstreetmap', 'attribution': '© OpenStreetMap contributors', 'license': 'Open Database License', 'url': 'https://www.openstreetmap.org/copyright', 'raw': {'name': 'Hotel María José', 'osm_id': 2580440395, 'tourism': 'hotel', 'osm_type': 'n'}}, 'distance': 615, 'place_id': '512d2d3421f70256c059bd25d3d336943340f00103f9014b65ce9900000000920312486f74656c204d6172c3ad61204a6f73c3a9'}, 'geometry': {'type': 'Point', 'coordinates': [-88.04633359999998, 19.57896160035101]}}]}\n",
      "felipe carrillo puerto - nearest hotel: Hotel María José\n",
      "{'type': 'FeatureCollection', 'features': [{'type': 'Feature', 'properties': {'name': 'فندق ترهونة البلدي', 'country': 'Libya', 'country_code': 'ly', 'state': 'Murqub', 'city': 'Tarhuna', 'street': 'Hospital Road', 'lon': 13.63176158596632, 'lat': 32.43898595, 'formatted': 'Tarhuna Hotel, Hospital Road, Tarhuna, Libya', 'address_line1': 'Tarhuna Hotel', 'address_line2': 'Hospital Road, Tarhuna, Libya', 'categories': ['accommodation', 'accommodation.hotel', 'building', 'building.accommodation'], 'details': ['details'], 'datasource': {'sourcename': 'openstreetmap', 'attribution': '© OpenStreetMap contributors', 'license': 'Open Database License', 'url': 'https://www.openstreetmap.org/copyright', 'raw': {'name': 'فندق ترهونة البلدي', 'osm_id': 892440904, 'name:en': 'Tarhuna Hotel', 'tourism': 'hotel', 'building': 'yes', 'osm_type': 'w'}}, 'name_international': {'en': 'Tarhuna Hotel'}, 'distance': 443, 'place_id': '515a302d4176432b405922750cb130384040f00102f9014891313500000000920322d981d986d8afd98220d8aad8b1d987d988d986d8a920d8a7d984d8a8d984d8afd98a'}, 'geometry': {'type': 'Point', 'coordinates': [13.63176158596632, 32.43898594959525]}}]}\n",
      "tarhuna - nearest hotel: فندق ترهونة البلدي\n",
      "{'type': 'FeatureCollection', 'features': [{'type': 'Feature', 'properties': {'name': 'Angra Marina Hotel & Spa 5*', 'country': 'Portugal', 'country_code': 'pt', 'city': 'Angra do Heroísmo', 'postcode': '9700-053', 'district': 'Angra (Nossa Senhora da Conceição)', 'street': 'Estrada Pêro de Barcelos', 'lon': -27.215201352960854, 'lat': 38.65290255, 'formatted': 'Angra Marina Hotel & Spa 5*, Estrada Pêro de Barcelos, 9700-053 Angra do Heroísmo, Portugal', 'address_line1': 'Angra Marina Hotel & Spa 5*', 'address_line2': 'Estrada Pêro de Barcelos, 9700-053 Angra do Heroísmo, Portugal', 'categories': ['accommodation', 'accommodation.hotel', 'building', 'building.accommodation', 'internet_access', 'internet_access.free'], 'details': ['details', 'details.accommodation', 'details.building', 'details.contact', 'details.facilities'], 'datasource': {'sourcename': 'openstreetmap', 'attribution': '© OpenStreetMap contributors', 'license': 'Open Database License', 'url': 'https://www.openstreetmap.org/copyright', 'raw': {'name': 'Angra Marina Hotel & Spa 5*', 'phone': '+351 295204700', 'stars': 5, 'osm_id': 234733173, 'smoking': 'outside', 'tourism': 'hotel', 'website': 'https://www.angramarinahotel.pt', 'building': 'hotel', 'osm_type': 'w', 'addr:city': 'Angra do Heroismo', 'addr:street': 'Estrada Pêro de Barcelos', 'addr:postcode': '9700-053', 'addr:housename': 'Angra Marina Hotel & Spa 5*', 'building:levels': 10, 'internet_access': 'wlan', 'internet_access:fee': 'no'}}, 'website': 'https://www.angramarinahotel.pt', 'contact': {'phone': '+351 295204700'}, 'facilities': {'internet_access': True, 'smoking': True}, 'accommodation': {'stars': 5}, 'building': {'levels': 10, 'type': 'hotel'}, 'distance': 328, 'place_id': '519505956f17373bc05956068e4f92534340f00102f90175befd0d0000000092031b416e677261204d6172696e6120486f74656c20262053706120352a'}, 'geometry': {'type': 'Point', 'coordinates': [-27.21520135296085, 38.65290255007555]}}]}\n",
      "angra do heroismo - nearest hotel: Angra Marina Hotel & Spa 5*\n",
      "{'type': 'FeatureCollection', 'features': [{'type': 'Feature', 'properties': {'name': 'Mersing Inn Hotel', 'country': 'Malaysia', 'country_code': 'my', 'state': 'Johor', 'city': 'Mersing', 'postcode': '86807', 'district': 'Mersing', 'neighbourhood': 'Mersing Kecil', 'street': 'Jalan Ismail', 'lon': 103.8389016, 'lat': 2.430088, 'formatted': 'Mersing Inn Hotel, Jalan Ismail, 86807 Mersing, Johor, Malaysia', 'address_line1': 'Mersing Inn Hotel', 'address_line2': 'Jalan Ismail, 86807 Mersing, Johor, Malaysia', 'categories': ['accommodation', 'accommodation.hotel'], 'details': ['details'], 'datasource': {'sourcename': 'openstreetmap', 'attribution': '© OpenStreetMap contributors', 'license': 'Open Database License', 'url': 'https://www.openstreetmap.org/copyright', 'raw': {'name': 'Mersing Inn Hotel', 'osm_id': 4934049388, 'name:zh': '马星酒店', 'tourism': 'hotel', 'osm_type': 'n'}}, 'name_international': {'zh': '马星酒店'}, 'distance': 216, 'place_id': '51f8235690b0f559405946522afad1700340f00103f9016c9e1726010000009203114d657273696e6720496e6e20486f74656c'}, 'geometry': {'type': 'Point', 'coordinates': [103.83890159999999, 2.4300879997411213]}}]}\n",
      "mersing - nearest hotel: Mersing Inn Hotel\n",
      "{'type': 'FeatureCollection', 'features': [{'type': 'Feature', 'properties': {'name': 'Centro Vacacional Obrero CTM', 'country': 'Mexico', 'country_code': 'mx', 'state': 'Yucatán', 'county': 'Progreso', 'city': 'Progreso', 'postcode': '97329', 'street': 'Calle 25', 'lon': -89.6682603, 'lat': 21.285348, 'state_code': 'YUC', 'formatted': 'Centro Vacacional Obrero CTM, Calle 25, 97329 Progreso, YUC, Mexico', 'address_line1': 'Centro Vacacional Obrero CTM', 'address_line2': 'Calle 25, 97329 Progreso, YUC, Mexico', 'categories': ['accommodation', 'accommodation.hotel'], 'details': ['details'], 'datasource': {'sourcename': 'openstreetmap', 'attribution': '© OpenStreetMap contributors', 'license': 'Open Database License', 'url': 'https://www.openstreetmap.org/copyright', 'raw': {'name': 'Centro Vacacional Obrero CTM', 'osm_id': 4881023824, 'name:es': 'Centro Vacacional Obrero CTM', 'tourism': 'hotel', 'osm_type': 'n', 'addr:street': 'Calle 25'}}, 'name_international': {'es': 'Centro Vacacional Obrero CTM'}, 'distance': 279, 'place_id': '51c56dd9c6c46a56c059a6bb09910c493540f00103f9015083ee220100000092031c43656e74726f205661636163696f6e616c204f627265726f2043544d'}, 'geometry': {'type': 'Point', 'coordinates': [-89.6682603, 21.285348000408383]}}]}\n",
      "progreso - nearest hotel: Centro Vacacional Obrero CTM\n",
      "{'type': 'FeatureCollection', 'features': [{'type': 'Feature', 'properties': {'name': 'Les Cases de Plum', 'country': 'France', 'country_code': 'fr', 'county': 'South Province', 'city': 'Mont Dore', 'postcode': '98809', 'street': 'Route du Sud', 'housenumber': '5133', 'lon': 166.660991, 'lat': -22.2963075, 'formatted': 'Les Cases de Plum, 5133 Route du Sud, 98809 Mont Dore, France', 'address_line1': 'Les Cases de Plum', 'address_line2': '5133 Route du Sud, 98809 Mont Dore, France', 'categories': ['accommodation', 'accommodation.hotel', 'internet_access'], 'details': ['details.contact', 'details.facilities'], 'datasource': {'sourcename': 'openstreetmap', 'attribution': '© OpenStreetMap contributors', 'license': 'Open Database License', 'url': 'https://www.openstreetmap.org/copyright', 'raw': {'name': 'Les Cases de Plum', 'phone': '+687 438307', 'osm_id': 4437405301, 'tourism': 'hotel', 'osm_type': 'n', 'addr:street': 'Route du Sud', 'addr:postcode': 98809, 'internet_access': 'wlan', 'addr:housenumber': 5133}}, 'contact': {'phone': '+687 438307'}, 'facilities': {'internet_access': True}, 'distance': 8135, 'place_id': '5169fe98d626d564405917bfeeceda4b36c0f00103f901756e7d08010000009203114c657320436173657320646520506c756d'}, 'geometry': {'type': 'Point', 'coordinates': [166.660991, -22.296307500159937]}}]}\n",
      "mont-dore - nearest hotel: Les Cases de Plum\n",
      "{'type': 'FeatureCollection', 'features': [{'type': 'Feature', 'properties': {'name': 'Kolos', 'country': 'Bulgaria', 'country_code': 'bg', 'county': 'Sofia', 'city': 'Svoge', 'municipality': 'Svoge', 'postcode': '2260', 'suburb': 'Своге-Център', 'street': 'Искър', 'lon': 23.3435591, 'lat': 42.9634407, 'formatted': 'Kolos, Искър, Своге-Център, 2260 Svoge, Bulgaria', 'address_line1': 'Kolos', 'address_line2': 'Искър, Своге-Център, 2260 Svoge, Bulgaria', 'categories': ['accommodation', 'accommodation.hotel', 'internet_access'], 'details': ['details', 'details.facilities'], 'datasource': {'sourcename': 'openstreetmap', 'attribution': '© OpenStreetMap contributors', 'license': 'Open Database License', 'url': 'https://www.openstreetmap.org/copyright', 'raw': {'osm_id': 4955245122, 'name:en': 'Kolos', 'tourism': 'hotel', 'osm_type': 'n', 'internet_access': 'wlan'}}, 'name_international': {'en': 'Kolos'}, 'facilities': {'internet_access': True}, 'distance': 638, 'place_id': '5142be3a7df357374059c8375e06527b4540f00103f901420a5b2701000000'}, 'geometry': {'type': 'Point', 'coordinates': [23.3435591, 42.963440700535614]}}]}\n",
      "svoge - nearest hotel: Kolos\n",
      "{'type': 'FeatureCollection', 'features': [{'type': 'Feature', 'properties': {'name': 'Wynyard Hotel', 'country': 'Australia', 'country_code': 'au', 'state': 'Tasmania', 'city': 'Wynyard', 'municipality': 'Waratah-Wynyard', 'postcode': '7325', 'street': 'Inglis Street', 'lon': 145.725178, 'lat': -40.9896379, 'state_code': 'TAS', 'formatted': 'Wynyard Hotel, Inglis Street, Wynyard TAS 7325, Australia', 'address_line1': 'Wynyard Hotel', 'address_line2': 'Inglis Street, Wynyard TAS 7325, Australia', 'categories': ['accommodation', 'accommodation.hotel'], 'details': [], 'datasource': {'sourcename': 'openstreetmap', 'attribution': '© OpenStreetMap contributors', 'license': 'Open Database License', 'url': 'https://www.openstreetmap.org/copyright', 'raw': {'name': 'Wynyard Hotel', 'osm_id': 3148788196, 'tourism': 'hotel', 'osm_type': 'n'}}, 'distance': 1354, 'place_id': '51eb387ea8343762405932de6974ac7e44c0f00103f901e4b1aebb0000000092030d57796e7961726420486f74656c'}, 'geometry': {'type': 'Point', 'coordinates': [145.725178, -40.989637901013694]}}]}\n",
      "wynyard - nearest hotel: Wynyard Hotel\n",
      "{'type': 'FeatureCollection', 'features': [{'type': 'Feature', 'properties': {'name': 'Мираж', 'country': 'Russia', 'country_code': 'ru', 'region': 'Siberian Federal District', 'state': 'Krasnoyarsk Krai', 'county': 'Balakhtinsky Rayon', 'city': 'Огурский сельсовет', 'street': '«Енисей»', 'lon': 91.72832812303065, 'lat': 55.327709600000006, 'formatted': 'Мираж, «Енисей», Огурский сельсовет, Krasnoyarsk Krai, Russia', 'address_line1': 'Мираж', 'address_line2': '«Енисей», Огурский сельсовет, Krasnoyarsk Krai, Russia', 'categories': ['accommodation', 'accommodation.hotel', 'building', 'building.accommodation'], 'details': [], 'datasource': {'sourcename': 'openstreetmap', 'attribution': '© OpenStreetMap contributors', 'license': 'Open Database License', 'url': 'https://www.openstreetmap.org/copyright', 'raw': {'name': 'Мираж', 'osm_id': 292712811, 'tourism': 'hotel', 'building': 'yes', 'osm_type': 'w'}}, 'distance': 9996, 'place_id': '511e4b8fed9cee56405918475e63f2a94b40f00102f9016b7172110000000092030ad09cd0b8d180d0b0d0b6'}, 'geometry': {'type': 'Point', 'coordinates': [91.72832812303065, 55.327709599527395]}}]}\n",
      "balakhta - nearest hotel: Мираж\n",
      "{'type': 'FeatureCollection', 'features': [{'type': 'Feature', 'properties': {'name': 'DeLuxe', 'country': 'Russia', 'country_code': 'ru', 'region': 'Far Eastern Federal District', 'state': 'Sakha Republic', 'county': 'Neryungrinsky Municipal District', 'city': 'Neryungri', 'municipality': 'городское поселение Нерюнгри', 'postcode': '678960', 'suburb': 'Квартал \"М\"', 'street': 'проспект Дружбы Народов', 'housenumber': '10', 'lon': 124.7093115, 'lat': 56.6571221, 'formatted': 'DeLuxe, проспект Дружбы Народов 10, Квартал \"М\", Neryungri, Sakha Republic, Russia, 678960', 'address_line1': 'DeLuxe', 'address_line2': 'проспект Дружбы Народов 10, Квартал \"М\", Neryungri, Sakha Republic, Russia, 678960', 'categories': ['accommodation', 'accommodation.hotel'], 'details': ['details.contact'], 'datasource': {'sourcename': 'openstreetmap', 'attribution': '© OpenStreetMap contributors', 'license': 'Open Database License', 'url': 'https://www.openstreetmap.org/copyright', 'raw': {'name': 'DeLuxe', 'osm_id': 6124922128, 'tourism': 'hotel', 'osm_type': 'n', 'contact:phone': '+7 41147 67000'}}, 'contact': {'phone': '+7 41147 67000'}, 'distance': 3998, 'place_id': '514dcb0f5c652d5f4059cdadb4931c544c40f00103f90110e5126d0100000092030644654c757865'}, 'geometry': {'type': 'Point', 'coordinates': [124.70931149999997, 56.65712210008824]}}]}\n",
      "neryungri - nearest hotel: DeLuxe\n",
      "{'type': 'FeatureCollection', 'features': [{'type': 'Feature', 'properties': {'name': 'Pensionat Grisslehamns', 'country': 'Sweden', 'country_code': 'se', 'county': 'Stockholm County', 'city': 'Grisslehamn', 'municipality': 'Norrtälje kommun', 'postcode': '760 45', 'street': 'Grisslehamnsvägen', 'lon': 18.8076609, 'lat': 60.1010025, 'formatted': 'Pensionat Grisslehamns, Grisslehamnsvägen, 760 45 Grisslehamn, Sweden', 'address_line1': 'Pensionat Grisslehamns', 'address_line2': 'Grisslehamnsvägen, 760 45 Grisslehamn, Sweden', 'categories': ['accommodation', 'accommodation.hotel'], 'details': ['details'], 'datasource': {'sourcename': 'openstreetmap', 'attribution': '© OpenStreetMap contributors', 'license': 'Open Database License', 'url': 'https://www.openstreetmap.org/copyright', 'raw': {'name': 'Pensionat Grisslehamns', 'osm_id': 457110944, 'tourism': 'hotel', 'website': 'https://www.pensionatgrisslehamn.se/', 'osm_type': 'n'}}, 'website': 'https://www.pensionatgrisslehamn.se/', 'distance': 9854, 'place_id': '5107c25fddc2ce324059d3b164a6ed0c4e40f00103f901a0f53e1b0000000092031650656e73696f6e61742047726973736c6568616d6e73'}, 'geometry': {'type': 'Point', 'coordinates': [18.8076609, 60.10100250164728]}}]}\n",
      "arno - nearest hotel: Pensionat Grisslehamns\n",
      "{'type': 'FeatureCollection', 'features': [{'type': 'Feature', 'properties': {'name': 'هتل سقز', 'country': 'Iran', 'country_code': 'ir', 'state': 'Kurdistan Province', 'county': 'Saqqez County', 'city': 'Saqqez', 'district': 'بخش مرکزی شهرستان سقز', 'street': 'بلوارکردستان', 'lon': 46.2755005, 'lat': 36.2451669, 'formatted': 'Saqqez Hotel, Saqqez, بلوارکردستان, Kurdistan Province, Iran', 'address_line1': 'Saqqez Hotel', 'address_line2': 'Saqqez, بلوارکردستان, Kurdistan Province, Iran', 'categories': ['accommodation', 'accommodation.hotel', 'wheelchair', 'wheelchair.limited'], 'details': ['details', 'details.facilities'], 'datasource': {'sourcename': 'openstreetmap', 'attribution': '© OpenStreetMap contributors', 'license': 'Open Database License', 'url': 'https://www.openstreetmap.org/copyright', 'raw': {'name': 'هتل سقز', 'osm_id': 5480920221, 'name:en': 'Saqqez Hotel', 'tourism': 'hotel', 'osm_type': 'n', 'wheelchair': 'limited'}}, 'name_international': {'en': 'Saqqez Hotel'}, 'facilities': {'wheelchair': True, 'wheelchair_details': {'condition': 'limited'}}, 'distance': 555, 'place_id': '510cc4b2994323474059614404a1611f4240f00103f9019d34b0460100000092030dd987d8aad98420d8b3d982d8b2'}, 'geometry': {'type': 'Point', 'coordinates': [46.27550049999999, 36.24516689976077]}}]}\n",
      "saqqez - nearest hotel: هتل سقز\n"
     ]
    },
    {
     "name": "stderr",
     "output_type": "stream",
     "text": [
      "ERROR:root:Error message:\n",
      "Traceback (most recent call last):\n",
      "  File \"C:\\Users\\Moburu\\AppData\\Local\\Temp\\ipykernel_26060\\1195407018.py\", line 36, in <module>\n",
      "    hotel_df.loc[index, \"Hotel Name\"] = name_address[\"features\"][0][\"properties\"][\"name\"]\n",
      "                                        ~~~~~~~~~~~~~~~~~~~~~~~~^^^\n",
      "IndexError: list index out of range\n"
     ]
    },
    {
     "name": "stdout",
     "output_type": "stream",
     "text": [
      "{'type': 'FeatureCollection', 'features': []}\n",
      "fayroz koh - nearest hotel: No hotel found\n",
      "{'type': 'FeatureCollection', 'features': [{'type': 'Feature', 'properties': {'name': 'The Victoria on Main', 'country': 'United States', 'country_code': 'us', 'state': 'Pennsylvania', 'county': 'Erie County', 'city': 'Corry', 'postcode': '16407', 'street': 'East Main Street', 'housenumber': '12140', 'lon': -79.61111945308988, 'lat': 41.9175894, 'state_code': 'PA', 'formatted': 'The Victoria on Main, 12140 East Main Street, Corry, PA 16407, United States of America', 'address_line1': 'The Victoria on Main', 'address_line2': '12140 East Main Street, Corry, PA 16407, United States of America', 'categories': ['accommodation', 'accommodation.hotel', 'building', 'building.accommodation'], 'details': [], 'datasource': {'sourcename': 'openstreetmap', 'attribution': '© OpenStreetMap contributors', 'license': 'Open Database License', 'url': 'https://www.openstreetmap.org/copyright', 'raw': {'name': 'The Victoria on Main', 'osm_id': 1082972566, 'tourism': 'hotel', 'building': 'yes', 'osm_type': 'w', 'addr:city': 'Corry', 'addr:state': 'PA', 'addr:street': 'PA-426', 'addr:postcode': 16407, 'addr:housenumber': 12140}}, 'distance': 2426, 'place_id': '511c3ec4941ce753c059e01bc99173f54440f00102f90196d98c400000000092031454686520566963746f726961206f6e204d61696e'}, 'geometry': {'type': 'Point', 'coordinates': [-79.61111945308988, 41.91758940047998]}}]}\n",
      "corry - nearest hotel: The Victoria on Main\n"
     ]
    },
    {
     "name": "stderr",
     "output_type": "stream",
     "text": [
      "ERROR:root:Error message:\n",
      "Traceback (most recent call last):\n",
      "  File \"C:\\Users\\Moburu\\AppData\\Local\\Temp\\ipykernel_26060\\1195407018.py\", line 36, in <module>\n",
      "    hotel_df.loc[index, \"Hotel Name\"] = name_address[\"features\"][0][\"properties\"][\"name\"]\n",
      "                                        ~~~~~~~~~~~~~~~~~~~~~~~~^^^\n",
      "IndexError: list index out of range\n"
     ]
    },
    {
     "name": "stdout",
     "output_type": "stream",
     "text": [
      "{'type': 'FeatureCollection', 'features': []}\n",
      "ouadda - nearest hotel: No hotel found\n",
      "{'type': 'FeatureCollection', 'features': [{'type': 'Feature', 'properties': {'name': 'Historic Olive Hotel', 'country': 'United States', 'country_code': 'us', 'state': 'Montana', 'county': 'Custer County', 'city': 'Miles City', 'hamlet': 'Smiths Trailer Court', 'postcode': '59301', 'street': 'Main Street', 'housenumber': '501', 'lon': -105.8515000337404, 'lat': 46.4060329, 'state_code': 'MT', 'formatted': 'Historic Olive Hotel, 501 Main Street, Miles City, MT 59301, United States of America', 'address_line1': 'Historic Olive Hotel', 'address_line2': '501 Main Street, Miles City, MT 59301, United States of America', 'categories': ['accommodation', 'accommodation.hotel', 'building', 'building.accommodation'], 'details': ['details.wiki_and_media'], 'datasource': {'sourcename': 'openstreetmap', 'attribution': '© OpenStreetMap contributors', 'license': 'Open Database License', 'url': 'https://www.openstreetmap.org/copyright', 'raw': {'name': 'Historic Olive Hotel', 'osm_id': 334337784, 'tourism': 'hotel', 'building': 'yes', 'osm_type': 'w', 'wikidata': 'Q7087164', 'addr:city': 'Miles City', 'addr:state': 'MT', 'addr:street': 'Main Street', 'addr:postcode': 59301, 'addr:housenumber': 501}}, 'wiki_and_media': {'wikidata': 'Q7087164'}, 'distance': 860, 'place_id': '514e5dfff97e765ac059ffe3d5e2f8334740f00102f901f896ed1300000000920314486973746f726963204f6c69766520486f74656c'}, 'geometry': {'type': 'Point', 'coordinates': [-105.8515000337404, 46.406032900275015]}}]}\n",
      "miles city - nearest hotel: Historic Olive Hotel\n",
      "{'type': 'FeatureCollection', 'features': [{'type': 'Feature', 'properties': {'name': 'Зүүн Ордон Зочид Буудал', 'country': 'Mongolia', 'country_code': 'mn', 'state': 'Dornod', 'county': 'Kherlen', 'city': 'Choibalsan', 'postcode': '21065', 'suburb': 'Бумбат', 'street': 'Choibalsan St', 'lon': 114.51522971085899, 'lat': 48.0661011, 'formatted': 'East Palace Hotel, Бумбат, Choibalsan St, 21065, Choibalsan, Mongolia', 'address_line1': 'East Palace Hotel', 'address_line2': 'Бумбат, Choibalsan St, 21065, Choibalsan, Mongolia', 'categories': ['accommodation', 'accommodation.hotel', 'building', 'building.accommodation'], 'details': ['details'], 'datasource': {'sourcename': 'openstreetmap', 'attribution': '© OpenStreetMap contributors', 'license': 'Open Database License', 'url': 'https://www.openstreetmap.org/copyright', 'raw': {'name': 'Зүүн Ордон Зочид Буудал', 'level': 3, 'osm_id': 223358445, 'name:en': 'East Palace Hotel', 'tourism': 'hotel', 'building': 'yes', 'osm_type': 'w'}}, 'name_international': {'en': 'East Palace Hotel'}, 'distance': 1099, 'place_id': '5146840986f9a05c40597232370076084840f00102f901ed2d500d0000000092032bd097d2afd2afd0bd20d09ed180d0b4d0bed0bd20d097d0bed187d0b8d0b420d091d183d183d0b4d0b0d0bb'}, 'geometry': {'type': 'Point', 'coordinates': [114.51522971085896, 48.06610109992188]}}]}\n",
      "choibalsan - nearest hotel: Зүүн Ордон Зочид Буудал\n"
     ]
    },
    {
     "name": "stderr",
     "output_type": "stream",
     "text": [
      "ERROR:root:Error message:\n",
      "Traceback (most recent call last):\n",
      "  File \"C:\\Users\\Moburu\\AppData\\Local\\Temp\\ipykernel_26060\\1195407018.py\", line 36, in <module>\n",
      "    hotel_df.loc[index, \"Hotel Name\"] = name_address[\"features\"][0][\"properties\"][\"name\"]\n",
      "                                        ~~~~~~~~~~~~~~~~~~~~~~~~^^^\n",
      "IndexError: list index out of range\n"
     ]
    },
    {
     "name": "stdout",
     "output_type": "stream",
     "text": [
      "{'type': 'FeatureCollection', 'features': []}\n",
      "katabu - nearest hotel: No hotel found\n",
      "{'type': 'FeatureCollection', 'features': [{'type': 'Feature', 'properties': {'name': 'Premier Inn', 'country': 'United Kingdom', 'country_code': 'gb', 'state': 'England', 'county': 'Isle of Wight', 'city': 'Newport', 'postcode': 'PO30 2EF', 'suburb': 'Little London', 'street': 'The Quay', 'lon': -1.2909340407972896, 'lat': 50.70650175, 'state_code': 'ENG', 'formatted': 'Premier Inn, The Quay, Newport, PO30 2EF, United Kingdom', 'address_line1': 'Premier Inn', 'address_line2': 'The Quay, Newport, PO30 2EF, United Kingdom', 'categories': ['accommodation', 'accommodation.hotel', 'building', 'building.accommodation', 'internet_access', 'internet_access.for_customers'], 'details': ['details', 'details.facilities'], 'datasource': {'sourcename': 'openstreetmap', 'attribution': '© OpenStreetMap contributors', 'license': 'Open Database License', 'url': 'https://www.openstreetmap.org/copyright', 'raw': {'name': 'Premier Inn', 'brand': 'Premier Inn', 'osm_id': 82461324, 'tourism': 'hotel', 'building': 'hotel', 'osm_type': 'w', 'swimming_pool': 'no', 'brand:wikidata': 'Q2108626', 'brand:wikipedia': 'en:Premier Inn', 'contact:website': 'https://www.premierinn.com/gb/en/hotels/england/isle-of-wight/newport/isle-of-wight-newport.html', 'internet_access': 'wlan', 'internet_access:fee': 'customers', 'internet_access:ssid': 'Premier Inn Free Wi-Fi', 'internet_access:operator': 'Virgin Media'}}, 'website': 'https://www.premierinn.com/gb/en/hotels/england/isle-of-wight/newport/isle-of-wight-newport.html', 'brand': 'Premier Inn', 'brand_details': {'wikidata': 'Q2108626', 'wikipedia': 'en:Premier Inn'}, 'facilities': {'internet_access': True, 'internet_access_details': {'ssid': 'Premier Inn Free Wi-Fi'}, 'swimming_pool': False}, 'building': {'type': 'hotel'}, 'distance': 2193, 'place_id': '51a047e873aaa7f4bf5971e939a66e5a4940f00102f9018c42ea040000000092030b5072656d69657220496e6e'}, 'geometry': {'type': 'Point', 'coordinates': [-1.2909340407972891, 50.706501749303136]}}]}\n",
      "island harbour - nearest hotel: Premier Inn\n",
      "{'type': 'FeatureCollection', 'features': [{'type': 'Feature', 'properties': {'name': 'Holiday Inn Express', 'country': 'United States', 'country_code': 'us', 'state': 'California', 'county': 'Orange County', 'city': 'Santa Ana', 'postcode': '92701', 'suburb': 'Lyon Street', 'street': 'East 1st Street', 'housenumber': '1600', 'lon': -117.846780790287, 'lat': 33.7448148, 'state_code': 'CA', 'formatted': 'Holiday Inn Express, 1600 East 1st Street, Santa Ana, CA 92701, United States of America', 'address_line1': 'Holiday Inn Express', 'address_line2': '1600 East 1st Street, Santa Ana, CA 92701, United States of America', 'categories': ['accommodation', 'accommodation.hotel', 'building', 'building.accommodation'], 'details': ['details'], 'datasource': {'sourcename': 'openstreetmap', 'attribution': '© OpenStreetMap contributors', 'license': 'Open Database License', 'url': 'https://www.openstreetmap.org/copyright', 'raw': {'name': 'Holiday Inn Express', 'brand': 'Holiday Inn Express', 'osm_id': 992333312, 'tourism': 'hotel', 'building': 'yes', 'osm_type': 'w', 'addr:city': 'Santa Ana', 'addr:state': 'CA', 'addr:street': 'East 1st Street', 'addr:postcode': 92701, 'brand:wikidata': 'Q5880423', 'addr:housenumber': 1600}}, 'brand': 'Holiday Inn Express', 'brand_details': {'wikidata': 'Q5880423'}, 'distance': 1925, 'place_id': '517a4a0ea831765dc05902eb621756df4040f00102f90100ce253b00000000920313486f6c6964617920496e6e2045787072657373'}, 'geometry': {'type': 'Point', 'coordinates': [-117.846780790287, 33.74481479959469]}}]}\n",
      "santa ana - nearest hotel: Holiday Inn Express\n",
      "{'type': 'FeatureCollection', 'features': [{'type': 'Feature', 'properties': {'name': 'Al-Janat Hotel', 'country': 'Pakistan', 'country_code': 'pk', 'state': 'Azad Kashmir', 'state_district': 'Mirpur Division', 'county': 'Mirpur District', 'city': 'Mirpur', 'municipality': 'Mirpur Tehsil', 'postcode': '10250', 'suburb': 'C-2', 'street': 'Haul Road', 'lon': 73.752385, 'lat': 33.1445889, 'formatted': 'Al-Janat Hotel, Haul Road, C-2, Mirpur 10250, Pakistan', 'address_line1': 'Al-Janat Hotel', 'address_line2': 'Haul Road, C-2, Mirpur 10250, Pakistan', 'categories': ['accommodation', 'accommodation.hotel'], 'details': [], 'datasource': {'sourcename': 'openstreetmap', 'attribution': '© OpenStreetMap contributors', 'license': 'Open Database License', 'url': 'https://www.openstreetmap.org/copyright', 'raw': {'name': 'Al-Janat Hotel', 'osm_id': 2242344713, 'tourism': 'hotel', 'osm_type': 'n'}}, 'distance': 1435, 'place_id': '5110406a132770524059e08b99e381924040f00103f9010977a7850000000092030e416c2d4a616e617420486f74656c'}, 'geometry': {'type': 'Point', 'coordinates': [73.752385, 33.14458889958746]}}]}\n",
      "new mirpur - nearest hotel: Al-Janat Hotel\n"
     ]
    },
    {
     "name": "stderr",
     "output_type": "stream",
     "text": [
      "ERROR:root:Error message:\n",
      "Traceback (most recent call last):\n",
      "  File \"C:\\Users\\Moburu\\AppData\\Local\\Temp\\ipykernel_26060\\1195407018.py\", line 36, in <module>\n",
      "    hotel_df.loc[index, \"Hotel Name\"] = name_address[\"features\"][0][\"properties\"][\"name\"]\n",
      "                                        ~~~~~~~~~~~~~~~~~~~~~~~~^^^\n",
      "IndexError: list index out of range\n"
     ]
    },
    {
     "name": "stdout",
     "output_type": "stream",
     "text": [
      "{'type': 'FeatureCollection', 'features': []}\n",
      "nongpoh - nearest hotel: No hotel found\n"
     ]
    },
    {
     "name": "stderr",
     "output_type": "stream",
     "text": [
      "ERROR:root:Error message:\n",
      "Traceback (most recent call last):\n",
      "  File \"C:\\Users\\Moburu\\AppData\\Local\\Temp\\ipykernel_26060\\1195407018.py\", line 36, in <module>\n",
      "    hotel_df.loc[index, \"Hotel Name\"] = name_address[\"features\"][0][\"properties\"][\"name\"]\n",
      "                                        ~~~~~~~~~~~~~~~~~~~~~~~~~~~~~~~~~~~~~~~~~^^^^^^^^\n",
      "KeyError: 'name'\n"
     ]
    },
    {
     "name": "stdout",
     "output_type": "stream",
     "text": [
      "{'type': 'FeatureCollection', 'features': [{'type': 'Feature', 'properties': {'country': 'Russia', 'country_code': 'ru', 'region': 'Northwestern Federal District', 'state': 'Leningrad oblast', 'county': 'Koskenala District', 'city': 'Podporozhye', 'municipality': 'Подпорожское городское поселение', 'postcode': '187782', 'street': 'Свирская улица', 'housenumber': '56', 'lon': 34.163934, 'lat': 60.9101039, 'formatted': 'Свирская улица 56, Podporozhye, Leningrad oblast, Russia, 187782', 'address_line1': 'Свирская улица 56', 'address_line2': 'Podporozhye, Leningrad oblast, Russia, 187782', 'categories': ['accommodation', 'accommodation.hotel'], 'details': [], 'datasource': {'sourcename': 'openstreetmap', 'attribution': '© OpenStreetMap contributors', 'license': 'Open Database License', 'url': 'https://www.openstreetmap.org/copyright', 'raw': {'osm_id': 1907147165, 'tourism': 'hotel', 'osm_type': 'n'}}, 'distance': 382, 'place_id': '51ea5910cafb144140597bfdde487e744e40f00103f9019dc1ac7100000000'}, 'geometry': {'type': 'Point', 'coordinates': [34.163934, 60.91010390175048]}}]}\n",
      "podporozh'ye - nearest hotel: No hotel found\n"
     ]
    },
    {
     "name": "stderr",
     "output_type": "stream",
     "text": [
      "ERROR:root:Error message:\n",
      "Traceback (most recent call last):\n",
      "  File \"C:\\Users\\Moburu\\AppData\\Local\\Temp\\ipykernel_26060\\1195407018.py\", line 36, in <module>\n",
      "    hotel_df.loc[index, \"Hotel Name\"] = name_address[\"features\"][0][\"properties\"][\"name\"]\n",
      "                                        ~~~~~~~~~~~~~~~~~~~~~~~~^^^\n",
      "IndexError: list index out of range\n"
     ]
    },
    {
     "name": "stdout",
     "output_type": "stream",
     "text": [
      "{'type': 'FeatureCollection', 'features': []}\n",
      "vredendal - nearest hotel: No hotel found\n",
      "{'type': 'FeatureCollection', 'features': [{'type': 'Feature', 'properties': {'name': 'Chez Julio', 'country': 'Guinea-Bissau', 'country_code': 'gw', 'region': 'South', 'state': 'Bolama Region', 'county': 'Sector de Bubaque', 'city': 'Bubaque', 'district': 'Luanda', 'lon': -15.82635437219529, 'lat': 11.297328199999999, 'formatted': 'Chez Julio, Bubaque, Sector de Bubaque, Guinea-Bissau', 'address_line1': 'Chez Julio', 'address_line2': 'Bubaque, Sector de Bubaque, Guinea-Bissau', 'categories': ['accommodation', 'accommodation.hotel', 'building', 'building.accommodation'], 'details': [], 'datasource': {'sourcename': 'openstreetmap', 'attribution': '© OpenStreetMap contributors', 'license': 'Open Database License', 'url': 'https://www.openstreetmap.org/copyright', 'raw': {'name': 'Chez Julio', 'osm_id': 493738577, 'tourism': 'hotel', 'building': 'yes', 'osm_type': 'w'}}, 'distance': 1712, 'place_id': '5184f896eb17a72fc059d23dda663b982640f00102f90151da6d1d0000000092030a4368657a204a756c696f'}, 'geometry': {'type': 'Point', 'coordinates': [-15.82635437219529, 11.29732819952088]}}]}\n",
      "bubaque - nearest hotel: Chez Julio\n",
      "{'type': 'FeatureCollection', 'features': [{'type': 'Feature', 'properties': {'name': 'Hotel Don Edmundo', 'country': 'Spain', 'country_code': 'es', 'state': 'Castile and León', 'county': 'Palencia', 'city': 'Guardo', 'postcode': '34880', 'street': 'Calle Iglesia', 'housenumber': '29', 'lon': -4.8396522, 'lat': 42.7892732, 'formatted': 'Hotel Don Edmundo, Calle Iglesia, 29, 34880 Guardo, Spain', 'address_line1': 'Hotel Don Edmundo', 'address_line2': 'Calle Iglesia, 29, 34880 Guardo, Spain', 'categories': ['accommodation', 'accommodation.hotel', 'internet_access', 'internet_access.free'], 'details': ['details', 'details.accommodation', 'details.contact', 'details.facilities', 'details.wiki_and_media'], 'datasource': {'sourcename': 'openstreetmap', 'attribution': '© OpenStreetMap contributors', 'license': 'Open Database License', 'url': 'https://www.openstreetmap.org/copyright', 'raw': {'name': 'Hotel Don Edmundo', 'phone': '+34 979 86 10 10', 'rooms': 8, 'osm_id': 6486641328, 'tourism': 'hotel', 'website': 'https://www.casamauro.es/hotelguardo.htm', 'osm_type': 'n', 'addr:city': 'Guardo', 'addr:street': 'Calle Iglesia', 'addr:postcode': 34880, 'internet_access': 'wlan', 'addr:housenumber': 29, 'wikimedia_commons': 'File:Guardo - Arquitectura 04.jpg', 'internet_access:fee': 'no'}}, 'website': 'https://www.casamauro.es/hotelguardo.htm', 'contact': {'phone': '+34 979 86 10 10'}, 'facilities': {'internet_access': True}, 'wiki_and_media': {'wikimedia_commons': 'File:Guardo - Arquitectura 04.jpg'}, 'accommodation': {'rooms': 8}, 'distance': 701, 'place_id': '51cc0e4cc9cd5b13c05972f17be706654540f00103f901b04aa28201000000920311486f74656c20446f6e2045646d756e646f'}, 'geometry': {'type': 'Point', 'coordinates': [-4.8396522, 42.78927320053016]}}]}\n",
      "guardo - nearest hotel: Hotel Don Edmundo\n",
      "{'type': 'FeatureCollection', 'features': [{'type': 'Feature', 'properties': {'name': 'Outback Inn', 'country': 'South Africa', 'country_code': 'za', 'state': 'Eastern Cape', 'county': 'O.R. Tambo District Municipality', 'city': 'Port St Johns Local Municipality', 'town': 'Port St Johns', 'suburb': 'Port St Johns Ward 6', 'street': 'Main Street', 'lon': 29.5464363, 'lat': -31.623005, 'state_code': 'EC', 'formatted': 'Outback Inn, Main Street, Port St Johns Ward 6, Port St Johns Local Municipality, South Africa', 'address_line1': 'Outback Inn', 'address_line2': 'Main Street, Port St Johns Ward 6, Port St Johns Local Municipality, South Africa', 'categories': ['accommodation', 'accommodation.hotel'], 'details': [], 'datasource': {'sourcename': 'openstreetmap', 'attribution': '© OpenStreetMap contributors', 'license': 'Open Database License', 'url': 'https://www.openstreetmap.org/copyright', 'raw': {'name': 'Outback Inn', 'is_in': 'Port St. Johns, South Africa', 'osm_id': 662322363, 'tourism': 'hotel', 'osm_type': 'n'}}, 'distance': 156, 'place_id': '51e3d8d53fe38b3d4059aa9271417d9f3fc0f00103f901bb3c7a270000000092030b4f75746261636b20496e6e'}, 'geometry': {'type': 'Point', 'coordinates': [29.546436299999993, -31.623004999377976]}}]}\n",
      "port saint john's - nearest hotel: Outback Inn\n"
     ]
    },
    {
     "name": "stderr",
     "output_type": "stream",
     "text": [
      "ERROR:root:Error message:\n",
      "Traceback (most recent call last):\n",
      "  File \"C:\\Users\\Moburu\\AppData\\Local\\Temp\\ipykernel_26060\\1195407018.py\", line 36, in <module>\n",
      "    hotel_df.loc[index, \"Hotel Name\"] = name_address[\"features\"][0][\"properties\"][\"name\"]\n",
      "                                        ~~~~~~~~~~~~~~~~~~~~~~~~^^^\n",
      "IndexError: list index out of range\n"
     ]
    },
    {
     "name": "stdout",
     "output_type": "stream",
     "text": [
      "{'type': 'FeatureCollection', 'features': []}\n",
      "gore - nearest hotel: No hotel found\n"
     ]
    },
    {
     "name": "stderr",
     "output_type": "stream",
     "text": [
      "ERROR:root:Error message:\n",
      "Traceback (most recent call last):\n",
      "  File \"C:\\Users\\Moburu\\AppData\\Local\\Temp\\ipykernel_26060\\1195407018.py\", line 36, in <module>\n",
      "    hotel_df.loc[index, \"Hotel Name\"] = name_address[\"features\"][0][\"properties\"][\"name\"]\n",
      "                                        ~~~~~~~~~~~~~~~~~~~~~~~~~~~~~~~~~~~~~~~~~^^^^^^^^\n",
      "KeyError: 'name'\n"
     ]
    },
    {
     "name": "stdout",
     "output_type": "stream",
     "text": [
      "{'type': 'FeatureCollection', 'features': [{'type': 'Feature', 'properties': {'country': 'Russia', 'country_code': 'ru', 'region': 'Far Eastern Federal District', 'state': 'Amur Oblast', 'county': 'Skovorodinsky District', 'city': 'Ерофей Павлович', 'postcode': '676000', 'street': 'Октябрьская улица', 'housenumber': '26', 'lon': 121.95303610702419, 'lat': 53.9559776, 'formatted': 'Октябрьская улица 26, Ерофей Павлович, Amur Oblast, Russia, 676000', 'address_line1': 'Октябрьская улица 26', 'address_line2': 'Ерофей Павлович, Amur Oblast, Russia, 676000', 'categories': ['accommodation', 'accommodation.hotel', 'building', 'building.accommodation'], 'details': [], 'datasource': {'sourcename': 'openstreetmap', 'attribution': '© OpenStreetMap contributors', 'license': 'Open Database License', 'url': 'https://www.openstreetmap.org/copyright', 'raw': {'osm_id': 275728140, 'tourism': 'hotel', 'building': 'yes', 'osm_type': 'w', 'addr:street': 'Октябрьская улица', 'addr:housenumber': 26}}, 'distance': 1483, 'place_id': '51dde4278bfe7c5e4059b61656795dfa4a40f00102f9010c476f1000000000'}, 'geometry': {'type': 'Point', 'coordinates': [121.95303610702418, 53.95597759917784]}}]}\n",
      "yerofey pavlovich - nearest hotel: No hotel found\n",
      "{'type': 'FeatureCollection', 'features': [{'type': 'Feature', 'properties': {'name': 'Гостиница «ВМ-Центр»', 'country': 'Russia', 'country_code': 'ru', 'region': 'Far Eastern Federal District', 'state': 'Magadan Oblast', 'county': 'Magadan Urban District', 'city': 'Magadan', 'postcode': '685000', 'district': 'Восход', 'street': 'Lenin Avenue', 'lon': 150.8050603, 'lat': 59.5651097, 'formatted': 'Гостиница «ВМ-Центр», Lenin Avenue, Magadan, Magadan Oblast, Russia, 685000', 'address_line1': 'Гостиница «ВМ-Центр»', 'address_line2': 'Lenin Avenue, Magadan, Magadan Oblast, Russia, 685000', 'categories': ['accommodation', 'accommodation.hotel'], 'details': [], 'datasource': {'sourcename': 'openstreetmap', 'attribution': '© OpenStreetMap contributors', 'license': 'Open Database License', 'url': 'https://www.openstreetmap.org/copyright', 'raw': {'name': 'Гостиница «ВМ-Центр»', 'osm_id': 2060422037, 'tourism': 'hotel', 'osm_type': 'n'}}, 'distance': 336, 'place_id': '51db79d10dc3d9624059d045c38355c84d40f00103f901958bcf7a00000000920326d093d0bed181d182d0b8d0bdd0b8d186d0b020c2abd092d09c2dd0a6d0b5d0bdd182d180c2bb'}, 'geometry': {'type': 'Point', 'coordinates': [150.8050603, 59.565109701488495]}}]}\n",
      "magadan - nearest hotel: Гостиница «ВМ-Центр»\n"
     ]
    },
    {
     "name": "stderr",
     "output_type": "stream",
     "text": [
      "ERROR:root:Error message:\n",
      "Traceback (most recent call last):\n",
      "  File \"C:\\Users\\Moburu\\AppData\\Local\\Temp\\ipykernel_26060\\1195407018.py\", line 36, in <module>\n",
      "    hotel_df.loc[index, \"Hotel Name\"] = name_address[\"features\"][0][\"properties\"][\"name\"]\n",
      "                                        ~~~~~~~~~~~~~~~~~~~~~~~~~~~~~~~~~~~~~~~~~^^^^^^^^\n",
      "KeyError: 'name'\n"
     ]
    },
    {
     "name": "stdout",
     "output_type": "stream",
     "text": [
      "{'type': 'FeatureCollection', 'features': [{'type': 'Feature', 'properties': {'country': 'Russia', 'country_code': 'ru', 'region': 'Ural Federal District', 'state': 'Tyumen Oblast', 'county': 'Tobolsky District', 'city': 'Абалак', 'municipality': 'Абалакское сельское поселение', 'street': 'Советская улица', 'housenumber': '34', 'lon': 68.5917315, 'lat': 58.1279305, 'formatted': 'Советская улица 34, Абалак, Tyumen Oblast, Russia', 'address_line1': 'Советская улица 34', 'address_line2': 'Абалак, Tyumen Oblast, Russia', 'categories': ['accommodation', 'accommodation.hotel'], 'details': [], 'datasource': {'sourcename': 'openstreetmap', 'attribution': '© OpenStreetMap contributors', 'license': 'Open Database License', 'url': 'https://www.openstreetmap.org/copyright', 'raw': {'osm_id': 3824066161, 'tourism': 'hotel', 'osm_type': 'n'}}, 'distance': 174, 'place_id': '51d420ccedde2551405982a3d20660104d40f00103f901719eeee300000000'}, 'geometry': {'type': 'Point', 'coordinates': [68.59173149999998, 58.12793050084203]}}]}\n",
      "abalak - nearest hotel: No hotel found\n"
     ]
    },
    {
     "name": "stderr",
     "output_type": "stream",
     "text": [
      "ERROR:root:Error message:\n",
      "Traceback (most recent call last):\n",
      "  File \"C:\\Users\\Moburu\\AppData\\Local\\Temp\\ipykernel_26060\\1195407018.py\", line 36, in <module>\n",
      "    hotel_df.loc[index, \"Hotel Name\"] = name_address[\"features\"][0][\"properties\"][\"name\"]\n",
      "                                        ~~~~~~~~~~~~~~~~~~~~~~~~^^^\n",
      "IndexError: list index out of range\n"
     ]
    },
    {
     "name": "stdout",
     "output_type": "stream",
     "text": [
      "{'type': 'FeatureCollection', 'features': []}\n",
      "adh dhibiyah - nearest hotel: No hotel found\n",
      "{'type': 'FeatureCollection', 'features': [{'type': 'Feature', 'properties': {'name': 'Quality Inn', 'country': 'United States', 'country_code': 'us', 'state': 'North Carolina', 'county': 'Pasquotank County', 'city': 'Elizabeth City', 'postcode': '27909', 'district': 'Chapell Gardens', 'street': 'South Hughes Boulevard', 'housenumber': '522', 'lon': -76.24759514159388, 'lat': 36.2931258, 'state_code': 'NC', 'formatted': 'Quality Inn, 522 South Hughes Boulevard, Elizabeth City, NC 27909, United States of America', 'address_line1': 'Quality Inn', 'address_line2': '522 South Hughes Boulevard, Elizabeth City, NC 27909, United States of America', 'categories': ['accommodation', 'accommodation.hotel', 'building', 'building.accommodation'], 'details': ['details'], 'datasource': {'sourcename': 'openstreetmap', 'attribution': '© OpenStreetMap contributors', 'license': 'Open Database License', 'url': 'https://www.openstreetmap.org/copyright', 'raw': {'name': 'Quality Inn', 'brand': 'Quality Inn', 'osm_id': 445304433, 'tourism': 'hotel', 'building': 'yes', 'osm_type': 'w', 'addr:city': 'Elizabeth City', 'addr:state': 'NC', 'addr:street': 'South Hughes Boulevard', 'addr:postcode': 27909, 'brand:wikidata': 'Q113152195', 'addr:housenumber': 522}}, 'brand': 'Quality Inn', 'brand_details': {'wikidata': 'Q113152195'}, 'distance': 281, 'place_id': '51d3f24a99d80f53c059decd6d2585254240f00102f90171ce8a1a0000000092030b5175616c69747920496e6e'}, 'geometry': {'type': 'Point', 'coordinates': [-76.24759514159386, 36.29312579976589]}}]}\n",
      "elizabeth city - nearest hotel: Quality Inn\n",
      "{'type': 'FeatureCollection', 'features': [{'type': 'Feature', 'properties': {'name': 'Hotel Halfa', 'country': 'Sudan', 'country_code': 'sd', 'state': 'Red Sea State', 'city': 'Port Sudan', 'district': 'Port Sudan', 'street': 'Atbara-Port Sudan Highway', 'lon': 37.3127266, 'lat': 19.1096986, 'formatted': 'Hotel Halfa, Atbara-Port Sudan Highway, Port Sudan, Sudan', 'address_line1': 'Hotel Halfa', 'address_line2': 'Atbara-Port Sudan Highway, Port Sudan, Sudan', 'categories': ['accommodation', 'accommodation.hotel'], 'details': [], 'datasource': {'sourcename': 'openstreetmap', 'attribution': '© OpenStreetMap contributors', 'license': 'Open Database License', 'url': 'https://www.openstreetmap.org/copyright', 'raw': {'name': 'Hotel Halfa', 'osm_id': 5336072222, 'tourism': 'hotel', 'osm_type': 'n'}}, 'distance': 2081, 'place_id': '516dcbdb6c07a8424059c6cc1c35151c3340f00103f9011e000e3e0100000092030b486f74656c2048616c6661'}, 'geometry': {'type': 'Point', 'coordinates': [37.3127266, 19.109698600321984]}}]}\n",
      "sawakin - nearest hotel: Hotel Halfa\n"
     ]
    },
    {
     "name": "stderr",
     "output_type": "stream",
     "text": [
      "ERROR:root:Error message:\n",
      "Traceback (most recent call last):\n",
      "  File \"C:\\Users\\Moburu\\AppData\\Local\\Temp\\ipykernel_26060\\1195407018.py\", line 36, in <module>\n",
      "    hotel_df.loc[index, \"Hotel Name\"] = name_address[\"features\"][0][\"properties\"][\"name\"]\n",
      "                                        ~~~~~~~~~~~~~~~~~~~~~~~~^^^\n",
      "IndexError: list index out of range\n"
     ]
    },
    {
     "name": "stdout",
     "output_type": "stream",
     "text": [
      "{'type': 'FeatureCollection', 'features': []}\n",
      "chopinzinho - nearest hotel: No hotel found\n",
      "{'type': 'FeatureCollection', 'features': [{'type': 'Feature', 'properties': {'name': 'Hotel Amazonas', 'country': 'Guyana', 'country_code': 'gy', 'state': 'Upper Takutu-Upper Essequibo', 'county': 'Ireng - Sawariwau', 'city': 'Lethem', 'hamlet': 'Culvert City', 'street': 'Airport Road', 'lon': -59.7929621, 'lat': 3.3751485, 'state_code': 'UT', 'formatted': 'Hotel Amazonas, Airport Road, Lethem, Guyana', 'address_line1': 'Hotel Amazonas', 'address_line2': 'Airport Road, Lethem, Guyana', 'categories': ['accommodation', 'accommodation.hotel'], 'details': ['details', 'details.contact'], 'datasource': {'sourcename': 'openstreetmap', 'attribution': '© OpenStreetMap contributors', 'license': 'Open Database License', 'url': 'https://www.openstreetmap.org/copyright', 'raw': {'name': 'Hotel Amazonas', 'phone': '+5927722325', 'osm_id': 4782852421, 'name:en': 'Hotel Amazonas', 'tourism': 'hotel', 'osm_type': 'n'}}, 'name_international': {'en': 'Hotel Amazonas'}, 'contact': {'phone': '+5927722325'}, 'distance': 712, 'place_id': '51d73b37c87fe54dc05964f748db4d000b40f00103f9014589141d0100000092030e486f74656c20416d617a6f6e6173'}, 'geometry': {'type': 'Point', 'coordinates': [-59.792962100000004, 3.375148499645478]}}]}\n",
      "lethem - nearest hotel: Hotel Amazonas\n",
      "{'type': 'FeatureCollection', 'features': [{'type': 'Feature', 'properties': {'name': 'ИП Макаров В. В.', 'country': 'Russia', 'country_code': 'ru', 'region': 'Volga Federal District', 'state': 'Penza Oblast', 'county': 'Bashmakovsky District', 'city': 'Bashmakovo', 'municipality': 'городское поселение Башмаково', 'postcode': '442060', 'street': 'Советская улица', 'housenumber': '7', 'lon': 43.0378521, 'lat': 53.2092525, 'formatted': 'ИП Макаров В. В., Советская улица 7, Bashmakovo, Penza Oblast, Russia, 442060', 'address_line1': 'ИП Макаров В. В.', 'address_line2': 'Советская улица 7, Bashmakovo, Penza Oblast, Russia, 442060', 'categories': ['accommodation', 'accommodation.hotel'], 'details': [], 'datasource': {'sourcename': 'openstreetmap', 'attribution': '© OpenStreetMap contributors', 'license': 'Open Database License', 'url': 'https://www.openstreetmap.org/copyright', 'raw': {'name': 'ИП Макаров В. В.', 'osm_id': 1863896782, 'tourism': 'hotel', 'osm_type': 'n'}}, 'distance': 512, 'place_id': '51dfca6d56d884454059381d30c9c89a4a40f00103f901cece186f0000000092031bd098d09f20d09cd0b0d0bad0b0d180d0bed0b220d0922e20d0922e'}, 'geometry': {'type': 'Point', 'coordinates': [43.0378521, 53.20925249909709]}}]}\n",
      "bashmakovo - nearest hotel: ИП Макаров В. В.\n",
      "{'type': 'FeatureCollection', 'features': [{'type': 'Feature', 'properties': {'name': 'Avalon Resort', 'country': 'New Zealand', 'country_code': 'nz', 'state': 'Northland', 'county': 'Far North District', 'city': 'Bay of Islands-Whangaroa Community', 'town': 'Kerikeri', 'postcode': '0293', 'street': 'Kerikeri Road', 'lon': 173.9434104, 'lat': -35.2334431, 'state_code': 'NTL', 'formatted': 'Avalon Resort, Kerikeri Road, Bay of Islands-Whangaroa Community 0293, New Zealand', 'address_line1': 'Avalon Resort', 'address_line2': 'Kerikeri Road, Bay of Islands-Whangaroa Community 0293, New Zealand', 'categories': ['accommodation', 'accommodation.hotel'], 'details': [], 'datasource': {'sourcename': 'openstreetmap', 'attribution': '© OpenStreetMap contributors', 'license': 'Open Database License', 'url': 'https://www.openstreetmap.org/copyright', 'raw': {'name': 'Avalon Resort', 'osm_id': 9843642822, 'tourism': 'hotel', 'osm_type': 'n'}}, 'distance': 822, 'place_id': '5199d6016b30be654059b0dba776e19d41c0f00103f901c611ba4a0200000092030d4176616c6f6e205265736f7274'}, 'geometry': {'type': 'Point', 'coordinates': [173.94341039999998, -35.233443099939336]}}]}\n",
      "kerikeri - nearest hotel: Avalon Resort\n",
      "{'type': 'FeatureCollection', 'features': [{'type': 'Feature', 'properties': {'name': 'Оазис', 'country': 'Russia', 'country_code': 'ru', 'region': 'Northwestern Federal District', 'state': 'Murmansk Oblast', 'county': 'Alexandrovsk, Murmansk Oblast', 'city': 'Gadzhiyevo', 'postcode': '184670', 'street': 'улица Колышкина', 'housenumber': '55', 'lon': 33.3168161, 'lat': 69.2488739, 'formatted': 'Оазис, улица Колышкина 55, Gadzhiyevo, Murmansk Oblast, Russia, 184670', 'address_line1': 'Оазис', 'address_line2': 'улица Колышкина 55, Gadzhiyevo, Murmansk Oblast, Russia, 184670', 'categories': ['accommodation', 'accommodation.hotel'], 'details': [], 'datasource': {'sourcename': 'openstreetmap', 'attribution': '© OpenStreetMap contributors', 'license': 'Open Database License', 'url': 'https://www.openstreetmap.org/copyright', 'raw': {'name': 'Оазис', 'osm_id': 8344665788, 'tourism': 'hotel', 'osm_type': 'n'}}, 'distance': 1034, 'place_id': '51522c126e8da84040598a34c98ced4f5140f00103f901bc7e61f10100000092030ad09ed0b0d0b7d0b8d181'}, 'geometry': {'type': 'Point', 'coordinates': [33.3168161, 69.2488738980193]}}]}\n",
      "gadzhiyevo - nearest hotel: Оазис\n",
      "{'type': 'FeatureCollection', 'features': [{'type': 'Feature', 'properties': {'name': 'Гостиница Шанырак', 'country': 'Kazakhstan', 'country_code': 'kz', 'state': 'Abay Region', 'county': 'Urzhar District', 'city': 'Ürjar', 'postcode': '071700', 'street': 'улица Игембаева', 'lon': 81.628444, 'lat': 47.0871943, 'formatted': 'Гостиница Шанырак, Kazakhstan, Abay Region, 071700 Ürjar, улица Игембаева', 'address_line1': 'Гостиница Шанырак', 'address_line2': 'Kazakhstan, Abay Region, 071700 Ürjar, улица Игембаева', 'categories': ['accommodation', 'accommodation.hotel', 'catering', 'catering.cafe'], 'details': ['details.facilities'], 'datasource': {'sourcename': 'openstreetmap', 'attribution': '© OpenStreetMap contributors', 'license': 'Open Database License', 'url': 'https://www.openstreetmap.org/copyright', 'raw': {'name': 'Гостиница Шанырак', 'osm_id': 9965247425, 'amenity': 'cafe', 'tourism': 'hotel', 'osm_type': 'n', 'addr:city': 'Уржар', 'addr:street': 'улица Игембаева', 'internet_access': 'no'}}, 'facilities': {'internet_access': False}, 'distance': 650, 'place_id': '5184d72e6d38685440599ec1cd2e298b4740f00103f901c19bf95102000000920321d093d0bed181d182d0b8d0bdd0b8d186d0b020d0a8d0b0d0bdd18bd180d0b0d0ba'}, 'geometry': {'type': 'Point', 'coordinates': [81.628444, 47.087194300143196]}}]}\n",
      "urzhar - nearest hotel: Гостиница Шанырак\n",
      "{'type': 'FeatureCollection', 'features': [{'type': 'Feature', 'properties': {'name': 'La Quinta Inn & Suites', 'ref': 53146, 'country': 'United States', 'country_code': 'us', 'state': 'Texas', 'county': 'Jim Wells County', 'city': 'Alice', 'postcode': '78332', 'street': 'East Main Street', 'housenumber': '2400', 'lon': -98.04342496454146, 'lat': 27.764020549999998, 'state_code': 'TX', 'formatted': 'La Quinta Inn & Suites, 2400 East Main Street, Alice, TX 78332, United States of America', 'address_line1': 'La Quinta Inn & Suites', 'address_line2': '2400 East Main Street, Alice, TX 78332, United States of America', 'categories': ['accommodation', 'accommodation.hotel', 'building', 'building.accommodation'], 'details': ['details', 'details.contact'], 'datasource': {'sourcename': 'openstreetmap', 'attribution': '© OpenStreetMap contributors', 'license': 'Open Database License', 'url': 'https://www.openstreetmap.org/copyright', 'raw': {'ref': 53146, 'name': 'La Quinta Inn & Suites', 'brand': 'La Quinta Inn & Suites', 'phone': '+1 361-661-1777', 'branch': 'Alice', 'osm_id': 817653891, 'tourism': 'hotel', 'website': 'https://www.wyndhamhotels.com/laquinta/alice-texas/la-quinta-alice/overview', 'building': 'yes', 'osm_type': 'w', 'addr:city': 'Alice', 'addr:state': 'TX', 'addr:street': 'East Main Street', 'addr:postcode': 78332, 'official_name': 'La Quinta Inn & Suites by Wyndham', 'brand:wikidata': 'Q6464734', 'addr:housenumber': 2400}}, 'website': 'https://www.wyndhamhotels.com/laquinta/alice-texas/la-quinta-alice/overview', 'brand': 'La Quinta Inn & Suites', 'brand_details': {'wikidata': 'Q6464734'}, 'branch': 'Alice', 'name_other': {'official_name': 'La Quinta Inn & Suites by Wyndham'}, 'contact': {'phone': '+1 361-661-1777'}, 'distance': 2877, 'place_id': '5146a28079c78258c059ba9acbd996c33b40f00102f9018368bc30000000009203164c61205175696e746120496e6e202620537569746573'}, 'geometry': {'type': 'Point', 'coordinates': [-98.04342496454146, 27.764020549972635]}}]}\n",
      "alice - nearest hotel: La Quinta Inn & Suites\n",
      "{'type': 'FeatureCollection', 'features': [{'type': 'Feature', 'properties': {'name': 'The Sanctuary Hotel and Spa', 'country': 'Papua New Guinea', 'country_code': 'pg', 'region': 'Southern Region', 'state': 'National Capital District', 'county': 'National Capital District', 'city': 'Port Moresby', 'postcode': '000', 'suburb': 'Gordons', 'street': 'Waigani Drive', 'lon': 147.17986139504913, 'lat': -9.4432805, 'state_code': 'NCD', 'formatted': 'The Sanctuary Hotel and Spa, Waigani Drive, Port Moresby 000 National Capital District, Papua New Guinea', 'address_line1': 'The Sanctuary Hotel and Spa', 'address_line2': 'Waigani Drive, Port Moresby 000 National Capital District, Papua New Guinea', 'categories': ['accommodation', 'accommodation.hotel', 'building', 'building.accommodation'], 'details': ['details.building'], 'datasource': {'sourcename': 'openstreetmap', 'attribution': '© OpenStreetMap contributors', 'license': 'Open Database License', 'url': 'https://www.openstreetmap.org/copyright', 'raw': {'name': 'The Sanctuary Hotel and Spa', 'height': 12, 'osm_id': 982984274, 'tourism': 'hotel', 'building': 'yes', 'osm_type': 'w', 'addr:city': 'Port Moresby', 'addr:street': 'Waigani Drive', 'roof:colour': 'grey', 'building:facade:colour': 'grey', 'building:facade:material': 'glass'}}, 'building': {'color': 'grey', 'height': 12, 'roof': {'color': 'grey'}}, 'distance': 16, 'place_id': '519231af6cc165624059a0c263a9f5e222c0f00102f9015226973a0000000092031b5468652053616e63747561727920486f74656c20616e6420537061'}, 'geometry': {'type': 'Point', 'coordinates': [147.17986139504916, -9.443280499866262]}}]}\n",
      "port moresby - nearest hotel: The Sanctuary Hotel and Spa\n",
      "{'type': 'FeatureCollection', 'features': [{'type': 'Feature', 'properties': {'name': 'فندق الجابري', 'country': 'Yemen', 'country_code': 'ye', 'state': 'Hadramaut Governorate', 'city': 'Mukalla', 'district': 'Mukalla City District', 'suburb': 'Al Mutadarririn', 'street': 'Fuah Road', 'lon': 49.124465, 'lat': 14.543409, 'formatted': 'Al-Jabri Hotel, Fuah Road, Mukalla, Yemen', 'address_line1': 'Al-Jabri Hotel', 'address_line2': 'Fuah Road, Mukalla, Yemen', 'categories': ['accommodation', 'accommodation.hotel'], 'details': ['details'], 'datasource': {'sourcename': 'openstreetmap', 'attribution': '© OpenStreetMap contributors', 'license': 'Open Database License', 'url': 'https://www.openstreetmap.org/copyright', 'raw': {'name': 'فندق الجابري', 'osm_id': 4298021689, 'name:en': 'Al-Jabri Hotel', 'tourism': 'hotel', 'osm_type': 'n'}}, 'name_international': {'en': 'Al-Jabri Hotel'}, 'distance': 105, 'place_id': '51913f1878ee8f484059e57155b439162d40f00103f901399b2e0001000000920317d981d986d8afd98220d8a7d984d8acd8a7d8a8d8b1d98a'}, 'geometry': {'type': 'Point', 'coordinates': [49.124464999999994, 14.543408999853407]}}]}\n",
      "mukalla - nearest hotel: فندق الجابري\n",
      "{'type': 'FeatureCollection', 'features': [{'type': 'Feature', 'properties': {'name': 'The Inn at Old Bahama Bay', 'country': 'Bahamas', 'country_code': 'bs', 'city': 'West Grand Bahama', 'town': 'West End', 'street': 'Allamanda Drive', 'lon': -78.9913673, 'lat': 26.7002815, 'formatted': 'The Inn at Old Bahama Bay, Allamanda Drive, West Grand Bahama, Bahamas', 'address_line1': 'The Inn at Old Bahama Bay', 'address_line2': 'Allamanda Drive, West Grand Bahama, Bahamas', 'categories': ['accommodation', 'accommodation.hotel'], 'details': [], 'datasource': {'sourcename': 'openstreetmap', 'attribution': '© OpenStreetMap contributors', 'license': 'Open Database License', 'url': 'https://www.openstreetmap.org/copyright', 'raw': {'name': 'The Inn at Old Bahama Bay', 'osm_id': 9272496469, 'tourism': 'hotel', 'osm_type': 'n'}}, 'distance': 3093, 'place_id': '51b9f4d48f72bf53c05919e2fca545b33a40f00103f9015511af280200000092031954686520496e6e206174204f6c6420426168616d6120426179'}, 'geometry': {'type': 'Point', 'coordinates': [-78.9913673, 26.700281500090657]}}]}\n",
      "west end - nearest hotel: The Inn at Old Bahama Bay\n",
      "{'type': 'FeatureCollection', 'features': [{'type': 'Feature', 'properties': {'name': 'Shyam', 'country': 'India', 'country_code': 'in', 'state': 'Gujarat', 'state_district': 'Gir Somnath District', 'county': 'Patan Veraval Taluka', 'city': 'Veraval', 'postcode': '362200', 'street': 'ST Bus Stand Road', 'lon': 70.3621212, 'lat': 20.9119895, 'state_code': 'GJ', 'formatted': 'Shyam, ST Bus Stand Road, Veraval - 362200, Gujarat, India', 'address_line1': 'Shyam', 'address_line2': 'ST Bus Stand Road, Veraval - 362200, Gujarat, India', 'categories': ['accommodation', 'accommodation.hotel'], 'details': [], 'datasource': {'sourcename': 'openstreetmap', 'attribution': '© OpenStreetMap contributors', 'license': 'Open Database License', 'url': 'https://www.openstreetmap.org/copyright', 'raw': {'name': 'Shyam', 'osm_id': 3294481247, 'tourism': 'hotel', 'osm_type': 'n'}}, 'distance': 1410, 'place_id': '510dcc65fe2c975140595686d62478e93440f00103f9015fcb5dc400000000920305536879616d'}, 'geometry': {'type': 'Point', 'coordinates': [70.3621212, 20.911989500402647]}}]}\n",
      "veraval - nearest hotel: Shyam\n",
      "{'type': 'FeatureCollection', 'features': [{'type': 'Feature', 'properties': {'name': 'Northwest Inn', 'country': 'Canada', 'country_code': 'ca', 'state': 'Alberta', 'county': 'Division No. 17', 'city': 'Town of Slave Lake', 'postcode': 'T0G 2A4', 'street': 'Main Street South', 'lon': -114.77311804822091, 'lat': 55.27680395, 'state_code': 'AB', 'formatted': 'Northwest Inn, Main Street South, Town of Slave Lake, AB T0G 2A4, Canada', 'address_line1': 'Northwest Inn', 'address_line2': 'Main Street South, Town of Slave Lake, AB T0G 2A4, Canada', 'categories': ['accommodation', 'accommodation.hotel', 'building', 'building.accommodation', 'building.commercial'], 'details': [], 'datasource': {'sourcename': 'openstreetmap', 'attribution': '© OpenStreetMap contributors', 'license': 'Open Database License', 'url': 'https://www.openstreetmap.org/copyright', 'raw': {'name': 'Northwest Inn', 'osm_id': 207125284, 'tourism': 'hotel', 'building': 'commercial', 'osm_type': 'w'}}, 'building': {'type': 'commercial'}, 'distance': 689, 'place_id': '5197431fc47ab15cc0593646d34f6ea34b40f00102f901247b580c0000000092030d4e6f7274687765737420496e6e'}, 'geometry': {'type': 'Point', 'coordinates': [-114.7731180482209, 55.27680394950987]}}]}\n",
      "slave lake - nearest hotel: Northwest Inn\n",
      "{'type': 'FeatureCollection', 'features': [{'type': 'Feature', 'properties': {'name': 'Taan Taan Ta', 'country': 'Myanmar', 'country_code': 'mm', 'state': 'Ayeyarwady', 'city': 'Pathein', 'postcode': '10011', 'street': 'Merchant Street', 'lon': 94.7328684, 'lat': 16.7803239, 'formatted': 'Taan Taan Ta, Merchant Street, Pathein, 10011, Myanmar', 'address_line1': 'Taan Taan Ta', 'address_line2': 'Merchant Street, Pathein, 10011, Myanmar', 'categories': ['accommodation', 'accommodation.hotel'], 'details': ['details'], 'datasource': {'sourcename': 'openstreetmap', 'attribution': '© OpenStreetMap contributors', 'license': 'Open Database License', 'url': 'https://www.openstreetmap.org/copyright', 'raw': {'osm_id': 648753308, 'name:en': 'Taan Taan Ta', 'tourism': 'hotel', 'osm_type': 'n'}}, 'name_international': {'en': 'Taan Taan Ta'}, 'distance': 333, 'place_id': '516691dc50e7ae5740598a449f4ec3c73040f00103f9019c30ab2600000000'}, 'geometry': {'type': 'Point', 'coordinates': [94.7328684, 16.78032390011189]}}]}\n",
      "pathein - nearest hotel: Taan Taan Ta\n",
      "{'type': 'FeatureCollection', 'features': [{'type': 'Feature', 'properties': {'name': 'North Vista Manor', 'country': 'United States', 'country_code': 'us', 'state': 'Ohio', 'county': 'Hamilton County', 'city': 'Springfield Township', 'hamlet': 'Finneytown', 'postcode': '45224', 'street': 'West North Bend Road', 'lon': -84.52326643764499, 'lat': 39.2006545, 'state_code': 'OH', 'formatted': 'North Vista Manor, West North Bend Road, Springfield Township, OH 45224, United States of America', 'address_line1': 'North Vista Manor', 'address_line2': 'West North Bend Road, Springfield Township, OH 45224, United States of America', 'categories': ['accommodation', 'accommodation.hotel', 'building', 'building.accommodation', 'building.residential'], 'details': ['details.building'], 'datasource': {'sourcename': 'openstreetmap', 'attribution': '© OpenStreetMap contributors', 'license': 'Open Database License', 'url': 'https://www.openstreetmap.org/copyright', 'raw': {'name': 'North Vista Manor', 'osm_id': 40946483, 'tourism': 'hotel', 'building': 'apartments', 'osm_type': 'w', 'building:use': 'residential', 'building:levels': 2, 'building:material': 'brick'}}, 'building': {'levels': 2, 'type': 'apartments', 'use': 'residential', 'material': 'brick'}, 'distance': 2024, 'place_id': '51e73183327d2155c059f4faf10baf994340f00102f90133cb7002000000009203114e6f727468205669737461204d616e6f72'}, 'geometry': {'type': 'Point', 'coordinates': [-84.523266437645, 39.20065450015491]}}]}\n",
      "hamilton - nearest hotel: North Vista Manor\n",
      "{'type': 'FeatureCollection', 'features': [{'type': 'Feature', 'properties': {'name': 'Hotel do Sol', 'country': 'Brazil', 'country_code': 'br', 'region': 'Northeast Region', 'state': 'Pernambuco', 'county': 'Região Geográfica Intermediária do Recife', 'city': 'São José da Coroa Grande', 'municipality': 'Região Geográfica Imediata de Barreiros-Sirinhaém', 'postcode': '55565-000', 'district': 'São José da Coroa Grande', 'suburb': 'Centro', 'street': 'Rua José Maria Belo', 'lon': -35.150767070323326, 'lat': -8.9009174, 'state_code': 'PE', 'formatted': 'Hotel do Sol, Rua José Maria Belo, Centro, São José da Coroa Grande - PE, 55565-000, Brazil', 'address_line1': 'Hotel do Sol', 'address_line2': 'Rua José Maria Belo, Centro, São José da Coroa Grande - PE, 55565-000, Brazil', 'categories': ['accommodation', 'accommodation.hotel'], 'details': [], 'datasource': {'sourcename': 'openstreetmap', 'attribution': '© OpenStreetMap contributors', 'license': 'Open Database License', 'url': 'https://www.openstreetmap.org/copyright', 'raw': {'name': 'Hotel do Sol', 'osm_id': 672687307, 'tourism': 'hotel', 'osm_type': 'w', 'addr:street': 'Rua José Maria Belo'}}, 'distance': 454, 'place_id': '511c2dda554c9341c0590e45a10b45cd21c0f00102f901cb6418280000000092030c486f74656c20646f20536f6c'}, 'geometry': {'type': 'Point', 'coordinates': [-35.150767070323326, -8.900917399822472]}}]}\n",
      "sao jose da coroa grande - nearest hotel: Hotel do Sol\n",
      "{'type': 'FeatureCollection', 'features': [{'type': 'Feature', 'properties': {'name': 'Osmar Hotel', 'country': 'Brazil', 'country_code': 'br', 'region': 'Southeast Region', 'state': 'Espírito Santo', 'state_district': 'Região Geográfica Intermediária de Vitória', 'county': 'Greater Vitória', 'city': 'Guarapari', 'municipality': 'Região Geográfica Imediata de Vitória', 'postcode': '29200-180', 'district': 'Guarapari', 'suburb': 'Parque Areia Preta', 'street': 'Rua José R Ribeiro', 'housenumber': '200', 'lon': -40.49773148133164, 'lat': -20.66798155, 'state_code': 'ES', 'formatted': 'Osmar Hotel, Rua José R Ribeiro 200, Parque Areia Preta, Guarapari - ES, 29200-180, Brazil', 'address_line1': 'Osmar Hotel', 'address_line2': 'Rua José R Ribeiro 200, Parque Areia Preta, Guarapari - ES, 29200-180, Brazil', 'categories': ['accommodation', 'accommodation.hotel', 'building', 'building.accommodation'], 'details': [], 'datasource': {'sourcename': 'openstreetmap', 'attribution': '© OpenStreetMap contributors', 'license': 'Open Database License', 'url': 'https://www.openstreetmap.org/copyright', 'raw': {'name': 'Osmar Hotel', 'osm_id': 116726570, 'tourism': 'hotel', 'building': 'yes', 'osm_type': 'w', 'roof:colour': 'brown', 'addr:housenumber': 200}}, 'building': {'roof': {'color': 'brown'}}, 'distance': 130, 'place_id': '51274149aab53f44c059fa07c1d600ab34c0f00102f9012a1bf5060000000092030b4f736d617220486f74656c'}, 'geometry': {'type': 'Point', 'coordinates': [-40.497731481331634, -20.66798155033755]}}]}\n",
      "guarapari - nearest hotel: Osmar Hotel\n"
     ]
    },
    {
     "name": "stderr",
     "output_type": "stream",
     "text": [
      "ERROR:root:Error message:\n",
      "Traceback (most recent call last):\n",
      "  File \"C:\\Users\\Moburu\\AppData\\Local\\Temp\\ipykernel_26060\\1195407018.py\", line 36, in <module>\n",
      "    hotel_df.loc[index, \"Hotel Name\"] = name_address[\"features\"][0][\"properties\"][\"name\"]\n",
      "                                        ~~~~~~~~~~~~~~~~~~~~~~~~^^^\n",
      "IndexError: list index out of range\n"
     ]
    },
    {
     "name": "stdout",
     "output_type": "stream",
     "text": [
      "{'type': 'FeatureCollection', 'features': []}\n",
      "ikwiriri - nearest hotel: No hotel found\n",
      "{'type': 'FeatureCollection', 'features': [{'type': 'Feature', 'properties': {'name': 'Hotel Don Jesus', 'country': 'Panama', 'country_code': 'pa', 'state': 'Los Santos', 'county': 'Distrito Las Tablas', 'city': 'Las Tablas', 'street': 'Calle Ramón Mora', 'lon': -80.2787240055005, 'lat': 7.7701254, 'formatted': 'Hotel Don Jesus, Calle Ramón Mora, Las Tablas, Los Santos, Panama', 'address_line1': 'Hotel Don Jesus', 'address_line2': 'Calle Ramón Mora, Las Tablas, Los Santos, Panama', 'categories': ['accommodation', 'accommodation.hotel', 'building', 'building.accommodation'], 'details': [], 'datasource': {'sourcename': 'openstreetmap', 'attribution': '© OpenStreetMap contributors', 'license': 'Open Database License', 'url': 'https://www.openstreetmap.org/copyright', 'raw': {'name': 'Hotel Don Jesus', 'osm_id': 471296330, 'tourism': 'hotel', 'building': 'yes', 'osm_type': 'w'}}, 'distance': 611, 'place_id': '51060f369dd61154c059a2d2b0c09b141f40f00102f9014a69171c0000000092030f486f74656c20446f6e204a65737573'}, 'geometry': {'type': 'Point', 'coordinates': [-80.2787240055005, 7.770125399391562]}}]}\n",
      "las tablas - nearest hotel: Hotel Don Jesus\n",
      "{'type': 'FeatureCollection', 'features': [{'type': 'Feature', 'properties': {'name': 'Nhu Y Hotel', 'country': 'Vietnam', 'country_code': 'vn', 'state': 'Phú Yên Province', 'city': 'Tuy Hòa', 'street': 'Nguyễn Công Trứ', 'housenumber': '7', 'lon': 109.3026122, 'lat': 13.084677, 'formatted': 'Nhu Y Hotel, 7, Nguyễn Công Trứ, Tuy Hòa, Phú Yên Province, Vietnam', 'address_line1': 'Nhu Y Hotel', 'address_line2': '7, Nguyễn Công Trứ, Tuy Hòa, Phú Yên Province, Vietnam', 'categories': ['accommodation', 'accommodation.hotel'], 'details': ['details.contact'], 'datasource': {'sourcename': 'openstreetmap', 'attribution': '© OpenStreetMap contributors', 'license': 'Open Database License', 'url': 'https://www.openstreetmap.org/copyright', 'raw': {'name': 'Nhu Y Hotel', 'phone': '+84 935234201', 'osm_id': 11394244182, 'tourism': 'hotel', 'osm_type': 'n', 'addr:street': 'Nguyen Cong Tru', 'addr:housenumber': 7}}, 'contact': {'phone': '+84 935234201'}, 'distance': 322, 'place_id': '51b7978fff5d535b4059c7c4a0c85a2b2a40f00103f901565e26a70200000092030b4e6875205920486f74656c'}, 'geometry': {'type': 'Point', 'coordinates': [109.30261219999998, 13.084676999688226]}}]}\n",
      "tuy hoa - nearest hotel: Nhu Y Hotel\n",
      "{'type': 'FeatureCollection', 'features': [{'type': 'Feature', 'properties': {'name': 'Зарница', 'country': 'Russia', 'country_code': 'ru', 'region': 'Far Eastern Federal District', 'state': 'Sakha Republic', 'county': 'Mirninsky Ulus', 'city': 'Mirny', 'municipality': 'городское поселение Мирный', 'postcode': '678175', 'street': 'улица Ленина', 'housenumber': '11А', 'lon': 113.97772469879274, 'lat': 62.54122595, 'formatted': 'Зарница, улица Ленина 11А, Mirny, Sakha Republic, Russia, 678175', 'address_line1': 'Зарница', 'address_line2': 'улица Ленина 11А, Mirny, Sakha Republic, Russia, 678175', 'categories': ['accommodation', 'accommodation.hotel', 'building', 'building.accommodation'], 'details': ['details', 'details.building', 'details.contact'], 'datasource': {'sourcename': 'openstreetmap', 'attribution': '© OpenStreetMap contributors', 'license': 'Open Database License', 'url': 'https://www.openstreetmap.org/copyright', 'raw': {'fax': '+7 (41136) 3-68-53', 'name': 'Зарница', 'email': 'razm-mirny@alrosa-hotels.ru', 'phone': '+7 (41136) 4-64-09', 'osm_id': -9304705, 'tourism': 'hotel', 'building': 'hotel', 'operator': 'Alrosa', 'osm_type': 'r', 'addr:city': 'Мирный', 'addr:street': 'улица Ленина', 'addr:country': 'RU', 'addr:province': 'Республика Саха-Якутия', 'building:levels': 6, 'addr:housenumber': '11А'}}, 'operator': 'Alrosa', 'contact': {'phone': '+7 (41136) 4-64-09', 'email': 'razm-mirny@alrosa-hotels.ru', 'fax': '+7 (41136) 3-68-53'}, 'building': {'levels': 6, 'type': 'hotel'}, 'distance': 1053, 'place_id': '519a739d0a937e5c4059524958e446454f40f00101f90181fa8d000000000092030ed097d0b0d180d0bdd0b8d186d0b0'}, 'geometry': {'type': 'Point', 'coordinates': [113.97772469879274, 62.54122595129833]}}]}\n",
      "mirny - nearest hotel: Зарница\n"
     ]
    },
    {
     "name": "stderr",
     "output_type": "stream",
     "text": [
      "ERROR:root:Error message:\n",
      "Traceback (most recent call last):\n",
      "  File \"C:\\Users\\Moburu\\AppData\\Local\\Temp\\ipykernel_26060\\1195407018.py\", line 36, in <module>\n",
      "    hotel_df.loc[index, \"Hotel Name\"] = name_address[\"features\"][0][\"properties\"][\"name\"]\n",
      "                                        ~~~~~~~~~~~~~~~~~~~~~~~~~~~~~~~~~~~~~~~~~^^^^^^^^\n",
      "KeyError: 'name'\n"
     ]
    },
    {
     "name": "stdout",
     "output_type": "stream",
     "text": [
      "{'type': 'FeatureCollection', 'features': [{'type': 'Feature', 'properties': {'country': 'Italy', 'country_code': 'it', 'state': 'Lombardy', 'county': 'Mantua', 'city': 'Mantua', 'postcode': '46100', 'suburb': 'Cittadella', 'street': 'Piazza Porta Giulia', 'lon': 10.7875774, 'lat': 45.1727493, 'formatted': 'Piazza Porta Giulia, 46100 Mantua Mantua, Italy', 'address_line1': 'Piazza Porta Giulia', 'address_line2': '46100 Mantua Mantua, Italy', 'categories': ['accommodation', 'accommodation.hotel'], 'details': [], 'datasource': {'sourcename': 'openstreetmap', 'attribution': '© OpenStreetMap contributors', 'license': 'Open Database License', 'url': 'https://www.openstreetmap.org/copyright', 'raw': {'osm_id': 1474534449, 'tourism': 'hotel', 'osm_type': 'n'}}, 'distance': 752, 'place_id': '512d2350583d93254059edeb29a61c964640f00103f901319ce35700000000'}, 'geometry': {'type': 'Point', 'coordinates': [10.787577399999998, 45.172749300450825]}}]}\n",
      "mantua - nearest hotel: No hotel found\n",
      "{'type': 'FeatureCollection', 'features': [{'type': 'Feature', 'properties': {'name': 'Betio Lodge', 'country': 'Kiribati', 'country_code': 'ki', 'state': 'Gilbert Islands', 'city': 'Betio', 'street': 'Main Road', 'lon': 172.93703405, 'lat': 1.3553237, 'state_code': 'G', 'formatted': 'Betio Lodge, Main Road, Betio, Kiribati', 'address_line1': 'Betio Lodge', 'address_line2': 'Main Road, Betio, Kiribati', 'categories': ['accommodation', 'accommodation.hotel', 'building', 'building.accommodation'], 'details': ['details'], 'datasource': {'sourcename': 'openstreetmap', 'attribution': '© OpenStreetMap contributors', 'license': 'Open Database License', 'url': 'https://www.openstreetmap.org/copyright', 'raw': {'name': 'Betio Lodge', 'osm_id': 472777022, 'name:zh': '貝壽住宿旅舍', 'tourism': 'hotel', 'building': 'yes', 'osm_type': 'w'}}, 'name_international': {'zh': '貝壽住宿旅舍'}, 'distance': 8763, 'place_id': '51a1ffd42efc9d6540596a0366e767aff53ff00102f9013e012e1c0000000092030b426574696f204c6f646765'}, 'geometry': {'type': 'Point', 'coordinates': [172.93703405, 1.3553236998561382]}}]}\n",
      "tarawa - nearest hotel: Betio Lodge\n",
      "{'type': 'FeatureCollection', 'features': [{'type': 'Feature', 'properties': {'name': 'Тазовчанка', 'country': 'Russia', 'country_code': 'ru', 'region': 'Ural Federal District', 'state': 'Yamalo-Nenets Autonomous Okrug', 'county': 'Tazovsky Rayon', 'city': 'Tazovsky', 'postcode': '629350', 'street': 'Колхозная улица', 'housenumber': '24', 'lon': 78.70332677757732, 'lat': 67.47159005, 'formatted': 'Тазовчанка, Колхозная улица 24, Tazovsky, Yamalo-Nenets Autonomous Okrug, Russia, 629350', 'address_line1': 'Тазовчанка', 'address_line2': 'Колхозная улица 24, Tazovsky, Yamalo-Nenets Autonomous Okrug, Russia, 629350', 'categories': ['accommodation', 'accommodation.hotel', 'building', 'building.accommodation'], 'details': [], 'datasource': {'sourcename': 'openstreetmap', 'attribution': '© OpenStreetMap contributors', 'license': 'Open Database License', 'url': 'https://www.openstreetmap.org/copyright', 'raw': {'name': 'Тазовчанка', 'osm_id': 176122768, 'tourism': 'hotel', 'building': 'hotel', 'osm_type': 'w', 'addr:city': 'Тазовский', 'addr:street': 'Колхозная улица', 'addr:housenumber': 24}}, 'building': {'type': 'hotel'}, 'distance': 540, 'place_id': '511f06514e03ad5340592ef604882ede5040f00102f901906b7f0a00000000920314d0a2d0b0d0b7d0bed0b2d187d0b0d0bdd0bad0b0'}, 'geometry': {'type': 'Point', 'coordinates': [78.70332677757732, 67.47159004673514]}}]}\n",
      "tazovsky - nearest hotel: Тазовчанка\n"
     ]
    },
    {
     "name": "stderr",
     "output_type": "stream",
     "text": [
      "ERROR:root:Error message:\n",
      "Traceback (most recent call last):\n",
      "  File \"C:\\Users\\Moburu\\AppData\\Local\\Temp\\ipykernel_26060\\1195407018.py\", line 36, in <module>\n",
      "    hotel_df.loc[index, \"Hotel Name\"] = name_address[\"features\"][0][\"properties\"][\"name\"]\n",
      "                                        ~~~~~~~~~~~~~~~~~~~~~~~~^^^\n",
      "IndexError: list index out of range\n"
     ]
    },
    {
     "name": "stdout",
     "output_type": "stream",
     "text": [
      "{'type': 'FeatureCollection', 'features': []}\n",
      "mulayjah - nearest hotel: No hotel found\n",
      "{'type': 'FeatureCollection', 'features': [{'type': 'Feature', 'properties': {'name': 'Hotel Turístico Sol de Arichuna', 'country': 'Venezuela', 'country_code': 've', 'state': 'Portuguesa State', 'city': 'Municipio Turén', 'district': 'Parroquia Capital Turén', 'street': 'T-4', 'lon': -69.1204782, 'lat': 9.3287567, 'formatted': 'Hotel Turístico Sol de Arichuna, T-4, Municipio Turén, Portuguesa State, Venezuela', 'address_line1': 'Hotel Turístico Sol de Arichuna', 'address_line2': 'T-4, Municipio Turén, Portuguesa State, Venezuela', 'categories': ['accommodation', 'accommodation.hotel'], 'details': [], 'datasource': {'sourcename': 'openstreetmap', 'attribution': '© OpenStreetMap contributors', 'license': 'Open Database License', 'url': 'https://www.openstreetmap.org/copyright', 'raw': {'name': 'Hotel Turístico Sol de Arichuna', 'osm_id': 5218429022, 'tourism': 'hotel', 'osm_type': 'n', 'addr:street': 'Av. Ricardo Perez Zambrano Frente a la Plazoleta el Saman'}}, 'distance': 449, 'place_id': '51613832eab54751c059919e50cc52a82240f00103f9015ee80a3701000000920320486f74656c20547572c3ad737469636f20536f6c206465204172696368756e61'}, 'geometry': {'type': 'Point', 'coordinates': [-69.1204782, 9.328756699410663]}}]}\n",
      "villa bruzual - nearest hotel: Hotel Turístico Sol de Arichuna\n"
     ]
    },
    {
     "name": "stderr",
     "output_type": "stream",
     "text": [
      "ERROR:root:Error message:\n",
      "Traceback (most recent call last):\n",
      "  File \"C:\\Users\\Moburu\\AppData\\Local\\Temp\\ipykernel_26060\\1195407018.py\", line 36, in <module>\n",
      "    hotel_df.loc[index, \"Hotel Name\"] = name_address[\"features\"][0][\"properties\"][\"name\"]\n",
      "                                        ~~~~~~~~~~~~~~~~~~~~~~~~^^^\n",
      "IndexError: list index out of range\n"
     ]
    },
    {
     "name": "stdout",
     "output_type": "stream",
     "text": [
      "{'type': 'FeatureCollection', 'features': []}\n",
      "chibougamau - nearest hotel: No hotel found\n"
     ]
    },
    {
     "name": "stderr",
     "output_type": "stream",
     "text": [
      "ERROR:root:Error message:\n",
      "Traceback (most recent call last):\n",
      "  File \"C:\\Users\\Moburu\\AppData\\Local\\Temp\\ipykernel_26060\\1195407018.py\", line 36, in <module>\n",
      "    hotel_df.loc[index, \"Hotel Name\"] = name_address[\"features\"][0][\"properties\"][\"name\"]\n",
      "                                        ~~~~~~~~~~~~~~~~~~~~~~~~^^^\n",
      "IndexError: list index out of range\n"
     ]
    },
    {
     "name": "stdout",
     "output_type": "stream",
     "text": [
      "{'type': 'FeatureCollection', 'features': []}\n",
      "zholymbet - nearest hotel: No hotel found\n"
     ]
    },
    {
     "name": "stderr",
     "output_type": "stream",
     "text": [
      "ERROR:root:Error message:\n",
      "Traceback (most recent call last):\n",
      "  File \"C:\\Users\\Moburu\\AppData\\Local\\Temp\\ipykernel_26060\\1195407018.py\", line 36, in <module>\n",
      "    hotel_df.loc[index, \"Hotel Name\"] = name_address[\"features\"][0][\"properties\"][\"name\"]\n",
      "                                        ~~~~~~~~~~~~~~~~~~~~~~~~^^^\n",
      "IndexError: list index out of range\n"
     ]
    },
    {
     "name": "stdout",
     "output_type": "stream",
     "text": [
      "{'type': 'FeatureCollection', 'features': []}\n",
      "tchintabaraden - nearest hotel: No hotel found\n",
      "{'type': 'FeatureCollection', 'features': [{'type': 'Feature', 'properties': {'name': 'Дрозды', 'country': 'Russia', 'country_code': 'ru', 'region': 'Central Federal District', 'state': 'Moscow Oblast', 'county': 'Leninsky District', 'city': 'Дроздово', 'postcode': '142717', 'street': 'Яблоневая улица', 'housenumber': '1', 'lon': 37.7976631, 'lat': 55.6012889, 'formatted': 'Дрозды, Яблоневая улица 1, Дроздово, Moscow Oblast, Russia, 142717', 'address_line1': 'Дрозды', 'address_line2': 'Яблоневая улица 1, Дроздово, Moscow Oblast, Russia, 142717', 'categories': ['accommodation', 'accommodation.hotel'], 'details': [], 'datasource': {'sourcename': 'openstreetmap', 'attribution': '© OpenStreetMap contributors', 'license': 'Open Database License', 'url': 'https://www.openstreetmap.org/copyright', 'raw': {'name': 'Дрозды', 'osm_id': 6101142653, 'tourism': 'hotel', 'osm_type': 'n'}}, 'distance': 736, 'place_id': '51eddc0fd319e642405948acdf08f7cc4b40f00103f9017d0ca86b0100000092030cd094d180d0bed0b7d0b4d18b'}, 'geometry': {'type': 'Point', 'coordinates': [37.7976631, 55.601288899627036]}}]}\n",
      "mil'kovo - nearest hotel: Дрозды\n",
      "{'type': 'FeatureCollection', 'features': [{'type': 'Feature', 'properties': {'name': 'Tawsen Hotel', 'country': 'Philippines', 'country_code': 'ph', 'region': 'Cagayan Valley', 'state': 'Batanes', 'city': 'Basco', 'village': 'Kayvaluganan', 'postcode': '3900', 'street': 'Amboy Street', 'lon': 121.9708858, 'lat': 20.4470011, 'formatted': 'Tawsen Hotel, Amboy Street, Basco, 3900 Batanes, Philippines', 'address_line1': 'Tawsen Hotel', 'address_line2': 'Amboy Street, Basco, 3900 Batanes, Philippines', 'categories': ['accommodation', 'accommodation.hotel'], 'details': ['details'], 'datasource': {'sourcename': 'openstreetmap', 'attribution': '© OpenStreetMap contributors', 'license': 'Open Database License', 'url': 'https://www.openstreetmap.org/copyright', 'raw': {'name': 'Tawsen Hotel', 'osm_id': 4914653324, 'name:en': 'Tawsen Hotel', 'tourism': 'hotel', 'osm_type': 'n'}}, 'name_international': {'en': 'Tawsen Hotel'}, 'distance': 201, 'place_id': '51a8c931fe227e5e40598a7303aa6e723440f00103f9018ca8ef240100000092030c54617773656e20486f74656c'}, 'geometry': {'type': 'Point', 'coordinates': [121.97088580000002, 20.44700110039006]}}]}\n",
      "basco - nearest hotel: Tawsen Hotel\n",
      "{'type': 'FeatureCollection', 'features': [{'type': 'Feature', 'properties': {'name': 'Серафима', 'country': 'Russia', 'country_code': 'ru', 'region': 'Northwestern Federal District', 'state': 'Arkhangelsk Oblast', 'county': 'Arkhangelsk Urban Okrug', 'city': 'Arkhangelsk', 'postcode': '163069', 'district': 'Ломоносовский округ', 'street': 'улица Серафимовича', 'housenumber': '34', 'lon': 40.5381186, 'lat': 64.5364036, 'formatted': 'Серафима, улица Серафимовича 34, Arkhangelsk, Arkhangelsk Oblast, Russia, 163069', 'address_line1': 'Серафима', 'address_line2': 'улица Серафимовича 34, Arkhangelsk, Arkhangelsk Oblast, Russia, 163069', 'categories': ['accommodation', 'accommodation.hotel', 'internet_access', 'internet_access.free'], 'details': ['details', 'details.accommodation', 'details.contact', 'details.facilities'], 'datasource': {'sourcename': 'openstreetmap', 'attribution': '© OpenStreetMap contributors', 'license': 'Open Database License', 'url': 'https://www.openstreetmap.org/copyright', 'raw': {'beds': 21, 'name': 'Серафима', 'email': 'serafima29.17@mail.ru', 'phone': '+7 8182 441314', 'rooms': 21, 'osm_id': 5336806321, 'tourism': 'hotel', 'website': 'https://serafima29.ru/', 'osm_type': 'n', 'wheelchair': 'no', 'internet_access': 'wlan', 'internet_access:fee': 'no'}}, 'website': 'https://serafima29.ru/', 'contact': {'phone': '+7 8182 441314', 'email': 'serafima29.17@mail.ru'}, 'facilities': {'internet_access': True, 'wheelchair': False}, 'accommodation': {'rooms': 21, 'beds': 21}, 'distance': 481, 'place_id': '51442ffe11e144444059a34cc36f54225040f00103f901b133193e01000000920310d0a1d0b5d180d0b0d184d0b8d0bcd0b0'}, 'geometry': {'type': 'Point', 'coordinates': [40.53811859999999, 64.53640359947399]}}]}\n",
      "arkhangel'sk - nearest hotel: Серафима\n",
      "{'type': 'FeatureCollection', 'features': [{'type': 'Feature', 'properties': {'name': 'Zakinn', 'country': 'Tanzania', 'country_code': 'tz', 'region': 'Southern Highlands Zone', 'state': 'Iringa Region', 'county': 'Iringa Municipal', 'city': 'Iringa', 'postcode': '00025', 'suburb': 'Gangilonga', 'street': 'Kawawa Road', 'lon': 35.70258704354592, 'lat': -7.77607585, 'formatted': 'Zakinn, Kawawa Road, 00025 Iringa, Iringa Region, Tanzania', 'address_line1': 'Zakinn', 'address_line2': 'Kawawa Road, 00025 Iringa, Iringa Region, Tanzania', 'categories': ['accommodation', 'accommodation.hotel', 'building', 'building.accommodation'], 'details': [], 'datasource': {'sourcename': 'openstreetmap', 'attribution': '© OpenStreetMap contributors', 'license': 'Open Database License', 'url': 'https://www.openstreetmap.org/copyright', 'raw': {'name': 'Zakinn', 'osm_id': 396137012, 'tourism': 'hotel', 'building': 'yes', 'osm_type': 'w'}}, 'distance': 1048, 'place_id': '51c04f4b5feed94140591787a7a0b31a1fc0f00102f90134929c17000000009203065a616b696e6e'}, 'geometry': {'type': 'Point', 'coordinates': [35.70258704354592, -7.776075849747733]}}]}\n",
      "iringa - nearest hotel: Zakinn\n",
      "{'type': 'FeatureCollection', 'features': [{'type': 'Feature', 'properties': {'name': 'Selenge Hotel', 'country': 'Mongolia', 'country_code': 'mn', 'state': 'Selenge', 'county': 'Sukhbaatar', 'city': 'Sükhbaatar', 'street': 'Сэлэнгэ - Дархан', 'lon': 106.1973261, 'lat': 50.2388773, 'formatted': 'Selenge Hotel, Сэлэнгэ - Дархан, Sükhbaatar, Mongolia', 'address_line1': 'Selenge Hotel', 'address_line2': 'Сэлэнгэ - Дархан, Sükhbaatar, Mongolia', 'categories': ['accommodation', 'accommodation.hotel'], 'details': ['details'], 'datasource': {'sourcename': 'openstreetmap', 'attribution': '© OpenStreetMap contributors', 'license': 'Open Database License', 'url': 'https://www.openstreetmap.org/copyright', 'raw': {'osm_id': 4993579024, 'name:en': 'Selenge Hotel', 'tourism': 'hotel', 'osm_type': 'n'}}, 'name_international': {'en': 'Selenge Hotel'}, 'distance': 1118, 'place_id': '516b89a6fda08c5a405993560688931e4940f00103f90110f8a32901000000'}, 'geometry': {'type': 'Point', 'coordinates': [106.19732609999998, 50.2388772993992]}}]}\n",
      "suhbaatar - nearest hotel: Selenge Hotel\n",
      "{'type': 'FeatureCollection', 'features': [{'type': 'Feature', 'properties': {'name': 'Naqu Hotel', 'country': 'China', 'country_code': 'cn', 'region': 'Nagqu City', 'state': 'Tibet', 'city': 'Seni', 'town': 'Nagqu', 'district': 'Seni District', 'street': '辽宁北路', 'lon': 92.0599945, 'lat': 31.4821296, 'formatted': 'Naqu Hotel, 辽宁北路, Tibet, China', 'address_line1': 'Naqu Hotel', 'address_line2': '辽宁北路, Tibet, China', 'categories': ['accommodation', 'accommodation.hotel'], 'details': ['details'], 'datasource': {'sourcename': 'openstreetmap', 'attribution': '© OpenStreetMap contributors', 'license': 'Open Database License', 'url': 'https://www.openstreetmap.org/copyright', 'raw': {'osm_id': 5029763322, 'name:en': 'Naqu Hotel', 'tourism': 'hotel', 'osm_type': 'n'}}, 'name_international': {'en': 'Naqu Hotel'}, 'distance': 6035, 'place_id': '5126dc2bf3d6035740598cda6ed86c7b3f40f00103f901fa18cc2b01000000'}, 'geometry': {'type': 'Point', 'coordinates': [92.05999449999999, 31.48212959963216]}}]}\n",
      "nagqu - nearest hotel: Naqu Hotel\n"
     ]
    },
    {
     "name": "stderr",
     "output_type": "stream",
     "text": [
      "ERROR:root:Error message:\n",
      "Traceback (most recent call last):\n",
      "  File \"C:\\Users\\Moburu\\AppData\\Local\\Temp\\ipykernel_26060\\1195407018.py\", line 36, in <module>\n",
      "    hotel_df.loc[index, \"Hotel Name\"] = name_address[\"features\"][0][\"properties\"][\"name\"]\n",
      "                                        ~~~~~~~~~~~~~~~~~~~~~~~~^^^\n",
      "IndexError: list index out of range\n"
     ]
    },
    {
     "name": "stdout",
     "output_type": "stream",
     "text": [
      "{'type': 'FeatureCollection', 'features': []}\n",
      "niafunke - nearest hotel: No hotel found\n"
     ]
    },
    {
     "name": "stderr",
     "output_type": "stream",
     "text": [
      "ERROR:root:Error message:\n",
      "Traceback (most recent call last):\n",
      "  File \"C:\\Users\\Moburu\\AppData\\Local\\Temp\\ipykernel_26060\\1195407018.py\", line 36, in <module>\n",
      "    hotel_df.loc[index, \"Hotel Name\"] = name_address[\"features\"][0][\"properties\"][\"name\"]\n",
      "                                        ~~~~~~~~~~~~~~~~~~~~~~~~^^^\n",
      "IndexError: list index out of range\n"
     ]
    },
    {
     "name": "stdout",
     "output_type": "stream",
     "text": [
      "{'type': 'FeatureCollection', 'features': []}\n",
      "mundybash - nearest hotel: No hotel found\n",
      "{'type': 'FeatureCollection', 'features': [{'type': 'Feature', 'properties': {'name': '上海松江开元名都大酒店', 'country': 'China', 'country_code': 'cn', 'state': 'Shanghai', 'city': 'Songjiang District', 'postcode': '201600', 'district': 'Fangsong', 'street': 'North Renmin Road', 'housenumber': '1799', 'lon': 121.2165115, 'lat': 31.039701, 'formatted': '上海松江开元名都大酒店, 1799 North Renmin Road, 201600 Shanghai, China', 'address_line1': '上海松江开元名都大酒店', 'address_line2': '1799 North Renmin Road, 201600 Shanghai, China', 'categories': ['accommodation', 'accommodation.hotel'], 'details': [], 'datasource': {'sourcename': 'openstreetmap', 'attribution': '© OpenStreetMap contributors', 'license': 'Open Database License', 'url': 'https://www.openstreetmap.org/copyright', 'raw': {'name': '上海松江开元名都大酒店', 'osm_id': 3499082943, 'tourism': 'hotel', 'osm_type': 'n', 'addr:city': '松江区', 'addr:street': '人民北路', 'addr:housenumber': 1799}}, 'distance': 449, 'place_id': '514eed0c53db4d5e4059d7263fd8290a3f40f00103f901bfc48fd000000000920321e4b88ae6b5b7e69dbee6b19fe5bc80e58583e5908de983bde5a4a7e98592e5ba97'}, 'geometry': {'type': 'Point', 'coordinates': [121.2165115, 31.03970099965849]}}]}\n",
      "songjiang - nearest hotel: 上海松江开元名都大酒店\n",
      "{'type': 'FeatureCollection', 'features': [{'type': 'Feature', 'properties': {'name': 'Shangri-la Hotel Lhasa', 'country': 'China', 'country_code': 'cn', 'state': 'Tibet', 'city': 'Chengguan District', 'postcode': '850000', 'district': '加措社区', 'suburb': 'Gündêling Subdistrict', 'street': '罗布林卡路', 'lon': 91.1007084, 'lat': 29.6526701, 'formatted': 'Shangri-la Hotel Lhasa, 罗布林卡路, Gündêling Subdistrict, 850000 Tibet, China', 'address_line1': 'Shangri-la Hotel Lhasa', 'address_line2': '罗布林卡路, Gündêling Subdistrict, 850000 Tibet, China', 'categories': ['accommodation', 'accommodation.hotel'], 'details': [], 'datasource': {'sourcename': 'openstreetmap', 'attribution': '© OpenStreetMap contributors', 'license': 'Open Database License', 'url': 'https://www.openstreetmap.org/copyright', 'raw': {'name': 'Shangri-la Hotel Lhasa', 'osm_id': 5965431274, 'tourism': 'hotel', 'osm_type': 'n'}}, 'distance': 304, 'place_id': '51ae1ba50172c6564059ed983d6315a73d40f00103f901ea419163010000009203165368616e6772692d6c6120486f74656c204c68617361'}, 'geometry': {'type': 'Point', 'coordinates': [91.1007084, 29.6526700997719]}}]}\n",
      "lhasa - nearest hotel: Shangri-la Hotel Lhasa\n",
      "{'type': 'FeatureCollection', 'features': [{'type': 'Feature', 'properties': {'name': 'Hospedaje El Sol', 'country': 'Paraguay', 'country_code': 'py', 'region': 'Región Oriental', 'state': 'Canindeyú', 'city': 'Curuguaty', 'hamlet': 'NF Fátima', 'district': 'Fatima', 'street': 'Nanawa', 'lon': -55.6984004, 'lat': -24.4738773, 'formatted': 'Hospedaje El Sol, Nanawa, Curuguaty, Paraguay', 'address_line1': 'Hospedaje El Sol', 'address_line2': 'Nanawa, Curuguaty, Paraguay', 'categories': ['accommodation', 'accommodation.hotel'], 'details': [], 'datasource': {'sourcename': 'openstreetmap', 'attribution': '© OpenStreetMap contributors', 'license': 'Open Database License', 'url': 'https://www.openstreetmap.org/copyright', 'raw': {'name': 'Hospedaje El Sol', 'osm_id': 6696046733, 'tourism': 'hotel', 'osm_type': 'n'}}, 'distance': 4746, 'place_id': '51b4c12e2f65d94bc059b432d105507938c0f00103f9018d901d8f01000000920310486f73706564616a6520456c20536f6c'}, 'geometry': {'type': 'Point', 'coordinates': [-55.6984004, -24.473877299855943]}}]}\n",
      "san isidro de curuguaty - nearest hotel: Hospedaje El Sol\n",
      "{'type': 'FeatureCollection', 'features': [{'type': 'Feature', 'properties': {'name': 'High Tide Hotel', 'country': 'Federated States of Micronesia', 'country_code': 'fm', 'state': 'Chuuk', 'city': 'Weno', 'village': 'Iras', 'lon': 151.84148540463303, 'lat': 7.4561422, 'state_code': 'TRK', 'formatted': 'High Tide Hotel, Weno, Micronesia, United States of America', 'address_line1': 'High Tide Hotel', 'address_line2': 'Weno, Micronesia, United States of America', 'categories': ['accommodation', 'accommodation.hotel', 'building', 'building.accommodation'], 'details': [], 'datasource': {'sourcename': 'openstreetmap', 'attribution': '© OpenStreetMap contributors', 'license': 'Open Database License', 'url': 'https://www.openstreetmap.org/copyright', 'raw': {'name': 'High Tide Hotel', 'osm_id': 140381682, 'tourism': 'hotel', 'building': 'yes', 'osm_type': 'w'}}, 'distance': 762, 'place_id': '51ba9ecc72edfa624059f4e9d2f016d31d40f00102f901f20d5e080000000092030f48696768205469646520486f74656c'}, 'geometry': {'type': 'Point', 'coordinates': [151.84148540463303, 7.456142199395334]}}]}\n",
      "weno - nearest hotel: High Tide Hotel\n",
      "{'type': 'FeatureCollection', 'features': [{'type': 'Feature', 'properties': {'name': 'Cheang Resort Sweet Hotel', 'country': 'Thailand', 'country_code': 'th', 'county': 'Uthai Thani Province', 'city': 'Nong Chang', 'municipality': 'Nong Sa', 'postcode': '61110', 'street': '3013', 'lon': 99.8488595, 'lat': 15.3952877, 'formatted': 'Cheang Resort Sweet Hotel, 3013, Nong Chang, 61110, Thailand', 'address_line1': 'Cheang Resort Sweet Hotel', 'address_line2': '3013, Nong Chang, 61110, Thailand', 'categories': ['accommodation', 'accommodation.hotel'], 'details': ['details.contact'], 'datasource': {'sourcename': 'openstreetmap', 'attribution': '© OpenStreetMap contributors', 'license': 'Open Database License', 'url': 'https://www.openstreetmap.org/copyright', 'raw': {'name': 'Cheang Resort Sweet Hotel', 'phone': '+66 817459552', 'osm_id': 2684557365, 'tourism': 'hotel', 'osm_type': 'n'}}, 'contact': {'phone': '+66 817459552'}, 'distance': 8566, 'place_id': '5187d9cbb653f658405970a03f2663ca2e40f00103f901351803a000000000920319436865616e67205265736f727420537765657420486f74656c'}, 'geometry': {'type': 'Point', 'coordinates': [99.84885949999999, 15.395287699953968]}}]}\n",
      "thap than - nearest hotel: Cheang Resort Sweet Hotel\n",
      "{'type': 'FeatureCollection', 'features': [{'type': 'Feature', 'properties': {'name': 'Hotel Mora', 'country': 'Paraguay', 'country_code': 'py', 'region': 'Región Occidental', 'state': 'Boquerón', 'city': 'Colonia Menno', 'street': 'Sand Strasse', 'housenumber': '803', 'lon': -59.8259179, 'lat': -22.3760913, 'formatted': 'Hotel Mora, Sand Strasse 803, Colonia Menno, Paraguay', 'address_line1': 'Hotel Mora', 'address_line2': 'Sand Strasse 803, Colonia Menno, Paraguay', 'categories': ['accommodation', 'accommodation.hotel', 'internet_access'], 'details': ['details', 'details.contact', 'details.facilities'], 'datasource': {'sourcename': 'openstreetmap', 'attribution': '© OpenStreetMap contributors', 'license': 'Open Database License', 'url': 'https://www.openstreetmap.org/copyright', 'raw': {'name': 'Hotel Mora', 'phone': '+595981213040', 'osm_id': 6005207385, 'tourism': 'hotel', 'osm_type': 'n', 'opening_hours': '24/7', 'internet_access': 'wlan'}}, 'opening_hours': '24/7', 'contact': {'phone': '+595981213040'}, 'facilities': {'internet_access': True}, 'distance': 1408, 'place_id': '5129d780adb7e94dc0591774fa84476036c0f00103f9015931f0650100000092030a486f74656c204d6f7261'}, 'geometry': {'type': 'Point', 'coordinates': [-59.825917899999986, -22.376091300149792]}}]}\n",
      "colonia menno - nearest hotel: Hotel Mora\n"
     ]
    },
    {
     "name": "stderr",
     "output_type": "stream",
     "text": [
      "ERROR:root:Error message:\n",
      "Traceback (most recent call last):\n",
      "  File \"C:\\Users\\Moburu\\AppData\\Local\\Temp\\ipykernel_26060\\1195407018.py\", line 36, in <module>\n",
      "    hotel_df.loc[index, \"Hotel Name\"] = name_address[\"features\"][0][\"properties\"][\"name\"]\n",
      "                                        ~~~~~~~~~~~~~~~~~~~~~~~~^^^\n",
      "IndexError: list index out of range\n"
     ]
    },
    {
     "name": "stdout",
     "output_type": "stream",
     "text": [
      "{'type': 'FeatureCollection', 'features': []}\n",
      "fale old settlement - nearest hotel: No hotel found\n",
      "{'type': 'FeatureCollection', 'features': [{'type': 'Feature', 'properties': {'name': 'Hotel La Ciudad', 'country': 'Venezuela', 'country_code': 've', 'state': 'Nueva Esparta State', 'county': 'Municipio Arismendi', 'city': 'La Asuncion', 'municipality': 'Parroquia Arismendi', 'postcode': '6311', 'suburb': 'Camoruco', 'quarter': 'El Mamey', 'street': 'Calle Nuria', 'lon': -63.8604115, 'lat': 11.0314427, 'formatted': 'Hotel La Ciudad, Calle Nuria, La Asuncion 6311, Nueva Esparta State, Venezuela', 'address_line1': 'Hotel La Ciudad', 'address_line2': 'Calle Nuria, La Asuncion 6311, Nueva Esparta State, Venezuela', 'categories': ['accommodation', 'accommodation.hotel'], 'details': [], 'datasource': {'sourcename': 'openstreetmap', 'attribution': '© OpenStreetMap contributors', 'license': 'Open Database License', 'url': 'https://www.openstreetmap.org/copyright', 'raw': {'name': 'Hotel La Ciudad', 'osm_id': 1157114091, 'tourism': 'hotel', 'osm_type': 'n'}}, 'distance': 332, 'place_id': '5118cdcaf621ee4fc059c61bec4119102640f00103f901eb28f8440000000092030f486f74656c204c6120436975646164'}, 'geometry': {'type': 'Point', 'coordinates': [-63.8604115, 11.031442699500882]}}]}\n",
      "la asuncion - nearest hotel: Hotel La Ciudad\n",
      "{'type': 'FeatureCollection', 'features': [{'type': 'Feature', 'properties': {'name': 'Уют', 'country': 'Russia', 'country_code': 'ru', 'region': 'Far Eastern Federal District', 'state': 'Sakha Republic', 'county': 'Mirninsky Ulus', 'city': 'Aykhal', 'municipality': 'городское поселение Айхал', 'postcode': '678190', 'street': 'улица Бойко', 'housenumber': '1', 'lon': 111.4844001, 'lat': 65.9515582, 'formatted': 'Уют, улица Бойко 1, Aykhal, Sakha Republic, Russia, 678190', 'address_line1': 'Уют', 'address_line2': 'улица Бойко 1, Aykhal, Sakha Republic, Russia, 678190', 'categories': ['accommodation', 'accommodation.hotel'], 'details': ['details.contact'], 'datasource': {'sourcename': 'openstreetmap', 'attribution': '© OpenStreetMap contributors', 'license': 'Open Database License', 'url': 'https://www.openstreetmap.org/copyright', 'raw': {'name': 'Уют', 'phone': '+7 924 1729294; +7 924 4661050', 'osm_id': 6401789253, 'tourism': 'hotel', 'osm_type': 'n'}}, 'contact': {'phone': '+7 924 1729294; +7 924 4661050'}, 'distance': 5448, 'place_id': '5176eb466900df5b405929f55a54e67c5040f00103f901458d937d01000000920306d0a3d18ed182'}, 'geometry': {'type': 'Point', 'coordinates': [111.48440009999999, 65.95155819780906]}}]}\n",
      "aykhal - nearest hotel: Уют\n",
      "{'type': 'FeatureCollection', 'features': [{'type': 'Feature', 'properties': {'name': 'Comfort Hotel Victoria Florø', 'country': 'Norway', 'country_code': 'no', 'county': 'Vestland', 'city': 'Florø', 'municipality': 'Kinn', 'postcode': '6906', 'street': 'Markegata', 'lon': 5.0355648, 'lat': 61.5997658, 'formatted': 'Comfort Hotel Victoria Florø, Markegata, 6906 Florø, Norway', 'address_line1': 'Comfort Hotel Victoria Florø', 'address_line2': 'Markegata, 6906 Florø, Norway', 'categories': ['accommodation', 'accommodation.hotel'], 'details': [], 'datasource': {'sourcename': 'openstreetmap', 'attribution': '© OpenStreetMap contributors', 'license': 'Open Database License', 'url': 'https://www.openstreetmap.org/copyright', 'raw': {'name': 'Comfort Hotel Victoria Florø', 'osm_id': 948857665, 'tourism': 'hotel', 'osm_type': 'n'}}, 'distance': 148, 'place_id': '511d8e53196b2414405938bb3320c5cc4e40f00103f901416b8e380000000092031d436f6d666f727420486f74656c20566963746f72696120466c6f72c3b8'}, 'geometry': {'type': 'Point', 'coordinates': [5.0355648, 61.599765801677165]}}]}\n",
      "floro - nearest hotel: Comfort Hotel Victoria Florø\n"
     ]
    },
    {
     "name": "stderr",
     "output_type": "stream",
     "text": [
      "ERROR:root:Error message:\n",
      "Traceback (most recent call last):\n",
      "  File \"C:\\Users\\Moburu\\AppData\\Local\\Temp\\ipykernel_26060\\1195407018.py\", line 36, in <module>\n",
      "    hotel_df.loc[index, \"Hotel Name\"] = name_address[\"features\"][0][\"properties\"][\"name\"]\n",
      "                                        ~~~~~~~~~~~~~~~~~~~~~~~~^^^\n",
      "IndexError: list index out of range\n"
     ]
    },
    {
     "name": "stdout",
     "output_type": "stream",
     "text": [
      "{'type': 'FeatureCollection', 'features': []}\n",
      "hede - nearest hotel: No hotel found\n"
     ]
    },
    {
     "name": "stderr",
     "output_type": "stream",
     "text": [
      "ERROR:root:Error message:\n",
      "Traceback (most recent call last):\n",
      "  File \"C:\\Users\\Moburu\\AppData\\Local\\Temp\\ipykernel_26060\\1195407018.py\", line 36, in <module>\n",
      "    hotel_df.loc[index, \"Hotel Name\"] = name_address[\"features\"][0][\"properties\"][\"name\"]\n",
      "                                        ~~~~~~~~~~~~~~~~~~~~~~~~~~~~~~~~~~~~~~~~~^^^^^^^^\n",
      "KeyError: 'name'\n"
     ]
    },
    {
     "name": "stdout",
     "output_type": "stream",
     "text": [
      "{'type': 'FeatureCollection', 'features': [{'type': 'Feature', 'properties': {'country': 'Malaysia', 'country_code': 'my', 'region': 'Sarikei Division', 'state': 'Sarawak', 'city': 'Sarikei', 'postcode': '96100', 'street': 'Jalan Berek', 'lon': 111.52424005332428, 'lat': 2.12873135, 'formatted': 'Jalan Berek, 96100 Sarikei, Sarawak, Malaysia', 'address_line1': 'Jalan Berek', 'address_line2': '96100 Sarikei, Sarawak, Malaysia', 'categories': ['accommodation', 'accommodation.hotel', 'building', 'building.accommodation'], 'details': [], 'datasource': {'sourcename': 'openstreetmap', 'attribution': '© OpenStreetMap contributors', 'license': 'Open Database License', 'url': 'https://www.openstreetmap.org/copyright', 'raw': {'osm_id': 631742120, 'tourism': 'hotel', 'building': 'yes', 'osm_type': 'w'}}, 'distance': 1523, 'place_id': '51fd1127268de15b405994f5494da4070140f00102f901a89ea72500000000'}, 'geometry': {'type': 'Point', 'coordinates': [111.52424005332428, 2.128731349772986]}}]}\n",
      "sarikei - nearest hotel: No hotel found\n",
      "{'type': 'FeatureCollection', 'features': [{'type': 'Feature', 'properties': {'name': \"Inn At Mama's Fish House\", 'country': 'United States', 'country_code': 'us', 'state': 'Hawaii', 'county': 'Maui County', 'city': 'Paia', 'postcode': '96779', 'suburb': 'Kuau', 'street': 'Poho Place', 'housenumber': '799', 'lon': -156.36697838944605, 'lat': 20.9290567, 'state_code': 'HI', 'formatted': \"Inn At Mama's Fish House, 799 Poho Place, Paia, HI 96779, United States of America\", 'address_line1': \"Inn At Mama's Fish House\", 'address_line2': '799 Poho Place, Paia, HI 96779, United States of America', 'categories': ['accommodation', 'accommodation.hotel', 'building', 'building.accommodation'], 'details': [], 'datasource': {'sourcename': 'openstreetmap', 'attribution': '© OpenStreetMap contributors', 'license': 'Open Database License', 'url': 'https://www.openstreetmap.org/copyright', 'raw': {'name': \"Inn At Mama's Fish House\", 'osm_id': 334807511, 'tourism': 'hotel', 'building': 'yes', 'osm_type': 'w', 'addr:city': 'Paia', 'addr:state': 'HI', 'addr:street': 'Poho Place', 'microbrewery': 'no', 'addr:postcode': 96779, 'addr:housenumber': 799}}, 'distance': 6460, 'place_id': '514da07649be8b63c0594b5cf0a8d6ed3440f00102f901d7c1f41300000000920318496e6e204174204d616d612773204669736820486f757365'}, 'geometry': {'type': 'Point', 'coordinates': [-156.36697838944602, 20.92905670040299]}}]}\n",
      "haiku-pauwela - nearest hotel: Inn At Mama's Fish House\n",
      "{'type': 'FeatureCollection', 'features': [{'type': 'Feature', 'properties': {'name': 'Пансіонат \"Калина\"', 'country': 'Ukraine', 'country_code': 'ua', 'state': 'Odesa Oblast', 'city': 'Serhiivka', 'municipality': 'Сергіївська селищна громада', 'postcode': '67785', 'district': 'Bilhorod-Dnistrovskyi Raion', 'street': 'Pirohova Street', 'housenumber': '3', 'lon': 30.36809119415911, 'lat': 46.02220155, 'formatted': 'Пансіонат \"Калина\", Pirohova Street, 3, Bilhorod-Dnistrovskyi Raion, Serhiivka, 67785, Ukraine', 'address_line1': 'Пансіонат \"Калина\"', 'address_line2': 'Pirohova Street, 3, Bilhorod-Dnistrovskyi Raion, Serhiivka, 67785, Ukraine', 'categories': ['accommodation', 'accommodation.hotel', 'internet_access'], 'details': ['details', 'details.accommodation', 'details.contact', 'details.facilities'], 'datasource': {'sourcename': 'openstreetmap', 'attribution': '© OpenStreetMap contributors', 'license': 'Open Database License', 'url': 'https://www.openstreetmap.org/copyright', 'raw': {'beds': 200, 'name': 'Пансіонат \"Калина\"', 'phone': '+380 67 473 5205', 'rooms': 79, 'osm_id': 968114188, 'name:ru': 'Пансионат \"Калина\"', 'name:uk': 'Пансіонат \"Калина\"', 'tourism': 'hotel', 'website': 'https://kalina-hotel.com.ua/', 'osm_type': 'w', 'internet_access': 'yes', 'addr:housenumber': 3}}, 'website': 'https://kalina-hotel.com.ua/', 'name_international': {'ru': 'Пансионат \"Калина\"', 'uk': 'Пансіонат \"Калина\"'}, 'contact': {'phone': '+380 67 473 5205'}, 'facilities': {'internet_access': True}, 'accommodation': {'rooms': 79, 'beds': 200}, 'distance': 819, 'place_id': '51e6db78393b5e3e405937501a80d7024740f00102f9010c40b43900000000920321d09fd0b0d0bdd181d196d0bed0bdd0b0d1822022d09ad0b0d0bbd0b8d0bdd0b022'}, 'geometry': {'type': 'Point', 'coordinates': [30.368091194159113, 46.02220155033904]}}]}\n",
      "serhiyivka - nearest hotel: Пансіонат \"Калина\"\n",
      "{'type': 'FeatureCollection', 'features': [{'type': 'Feature', 'properties': {'name': 'Twemu Guest house', 'country': 'Zambia', 'country_code': 'zm', 'state': 'Luapula Province', 'county': 'Samfya District', 'city': 'Samfya', 'street': 'Mansa - Samfya Road', 'lon': 29.558513, 'lat': -11.3561478, 'formatted': 'Twemu Guest house, Mansa - Samfya Road, Samfya, Zambia', 'address_line1': 'Twemu Guest house', 'address_line2': 'Mansa - Samfya Road, Samfya, Zambia', 'categories': ['accommodation', 'accommodation.hotel'], 'details': [], 'datasource': {'sourcename': 'openstreetmap', 'attribution': '© OpenStreetMap contributors', 'license': 'Open Database License', 'url': 'https://www.openstreetmap.org/copyright', 'raw': {'name': 'Twemu Guest house', 'osm_id': 5690927537, 'tourism': 'hotel', 'osm_type': 'n'}}, 'distance': 993, 'place_id': '5110643db5fa8e3d4059367d230159b626c0f00103f901b1a93453010000009203115477656d7520477565737420686f757365'}, 'geometry': {'type': 'Point', 'coordinates': [29.558513000000005, -11.35614780004708]}}]}\n",
      "samfya - nearest hotel: Twemu Guest house\n"
     ]
    },
    {
     "name": "stderr",
     "output_type": "stream",
     "text": [
      "ERROR:root:Error message:\n",
      "Traceback (most recent call last):\n",
      "  File \"C:\\Users\\Moburu\\AppData\\Local\\Temp\\ipykernel_26060\\1195407018.py\", line 36, in <module>\n",
      "    hotel_df.loc[index, \"Hotel Name\"] = name_address[\"features\"][0][\"properties\"][\"name\"]\n",
      "                                        ~~~~~~~~~~~~~~~~~~~~~~~~^^^\n",
      "IndexError: list index out of range\n"
     ]
    },
    {
     "name": "stdout",
     "output_type": "stream",
     "text": [
      "{'type': 'FeatureCollection', 'features': []}\n",
      "tanumah - nearest hotel: No hotel found\n",
      "{'type': 'FeatureCollection', 'features': [{'type': 'Feature', 'properties': {'name': '苏宁诺富特酒店', 'country': 'China', 'country_code': 'cn', 'state': 'Shandong', 'city': 'Donggang District', 'postcode': '276800', 'street': '正阳路', 'lon': 119.45350710325438, 'lat': 35.424694900000006, 'formatted': '苏宁诺富特酒店, 正阳路, 276800 Shandong, China', 'address_line1': '苏宁诺富特酒店', 'address_line2': '正阳路, 276800 Shandong, China', 'categories': ['accommodation', 'accommodation.hotel', 'building', 'building.accommodation'], 'details': [], 'datasource': {'sourcename': 'openstreetmap', 'attribution': '© OpenStreetMap contributors', 'license': 'Open Database License', 'url': 'https://www.openstreetmap.org/copyright', 'raw': {'name': '苏宁诺富特酒店', 'osm_id': 1034723984, 'tourism': 'hotel', 'building': 'yes', 'osm_type': 'w'}}, 'distance': 314, 'place_id': '51ce3ea84206dd5d4059827508675cb64140f00102f90190a2ac3d00000000920315e88b8fe5ae81e8afbae5af8ce789b9e98592e5ba97'}, 'geometry': {'type': 'Point', 'coordinates': [119.4535071032544, 35.42469489968336]}}]}\n",
      "rizhao - nearest hotel: 苏宁诺富特酒店\n",
      "{'type': 'FeatureCollection', 'features': [{'type': 'Feature', 'properties': {'name': 'Matavai Resort', 'country': 'Niue', 'country_code': 'nu', 'city': 'Tamakautoga', 'street': 'Alofi - Tamakautoga Road', 'lon': -169.91368345921595, 'lat': -19.110966599999998, 'formatted': 'Matavai Resort, Alofi - Tamakautoga Road, Tamakautoga, Niue', 'address_line1': 'Matavai Resort', 'address_line2': 'Alofi - Tamakautoga Road, Tamakautoga, Niue', 'categories': ['accommodation', 'accommodation.hotel', 'building', 'building.accommodation'], 'details': ['details', 'details.contact'], 'datasource': {'sourcename': 'openstreetmap', 'attribution': '© OpenStreetMap contributors', 'license': 'Open Database License', 'url': 'https://www.openstreetmap.org/copyright', 'raw': {'name': 'Matavai Resort', 'phone': '+683 4360', 'osm_id': 309023456, 'tourism': 'hotel', 'website': 'http://www.matavainiue.com/', 'building': 'yes', 'osm_type': 'w', 'ref:linz:topo50_id': 'pacific_1kn58t9'}}, 'website': 'http://www.matavainiue.com/', 'contact': {'phone': '+683 4360'}, 'distance': 5688, 'place_id': '51500718e53c3d65c05987d99f4e681c33c0f00102f901e0526b120000000092030e4d617461766169205265736f7274'}, 'geometry': {'type': 'Point', 'coordinates': [-169.91368345921592, -19.110966600442705]}}]}\n",
      "alofi - nearest hotel: Matavai Resort\n",
      "{'type': 'FeatureCollection', 'features': [{'type': 'Feature', 'properties': {'name': 'Hotel Mi Choacan', 'country': 'Peru', 'country_code': 'pe', 'region': 'Province of Huaura', 'state': 'Lima', 'city': 'Caleta de Carquín', 'postcode': '15136', 'street': 'Mariátegui', 'lon': -77.62528035, 'lat': -11.095405, 'state_code': 'LIM', 'formatted': 'Hotel Mi Choacan, Mariátegui, Caleta de Carquín 15136, Peru', 'address_line1': 'Hotel Mi Choacan', 'address_line2': 'Mariátegui, Caleta de Carquín 15136, Peru', 'categories': ['accommodation', 'accommodation.hotel'], 'details': ['details.contact'], 'datasource': {'sourcename': 'openstreetmap', 'attribution': '© OpenStreetMap contributors', 'license': 'Open Database License', 'url': 'https://www.openstreetmap.org/copyright', 'raw': {'name': 'Hotel Mi Choacan', 'phone': '+51 1 2323294', 'osm_id': 511837372, 'tourism': 'hotel', 'osm_type': 'w', 'addr:street': 'Pasaje Pedro Cuenca', 'contact:facebook': 'https://www.facebook.com/HotelMiChoacan/'}}, 'contact': {'phone': '+51 1 2323294'}, 'distance': 342, 'place_id': '513585df97046853c059efed95ecd83026c0f00102f901bc04821e00000000920310486f74656c204d692043686f6163616e'}, 'geometry': {'type': 'Point', 'coordinates': [-77.62528034999998, -11.095405000020916]}}]}\n",
      "caleta de carquin - nearest hotel: Hotel Mi Choacan\n"
     ]
    },
    {
     "name": "stderr",
     "output_type": "stream",
     "text": [
      "ERROR:root:Error message:\n",
      "Traceback (most recent call last):\n",
      "  File \"C:\\Users\\Moburu\\AppData\\Local\\Temp\\ipykernel_26060\\1195407018.py\", line 36, in <module>\n",
      "    hotel_df.loc[index, \"Hotel Name\"] = name_address[\"features\"][0][\"properties\"][\"name\"]\n",
      "                                        ~~~~~~~~~~~~~~~~~~~~~~~~^^^\n",
      "IndexError: list index out of range\n"
     ]
    },
    {
     "name": "stdout",
     "output_type": "stream",
     "text": [
      "{'type': 'FeatureCollection', 'features': []}\n",
      "macheng - nearest hotel: No hotel found\n",
      "{'type': 'FeatureCollection', 'features': [{'type': 'Feature', 'properties': {'name': 'Hotel Haip Choing', 'country': 'Malaysia', 'country_code': 'my', 'region': 'Kapit Division', 'state': 'Sarawak', 'county': 'Kapit', 'city': 'Kapit', 'postcode': '96800', 'street': 'Jalan Temenggong Koh', 'housenumber': '33', 'lon': 112.937848, 'lat': 2.0170152, 'formatted': 'Haip Choing Hotel, 33 Jalan Temenggong Koh, 96800 Kapit, Sarawak, Malaysia', 'address_line1': 'Haip Choing Hotel', 'address_line2': '33 Jalan Temenggong Koh, 96800 Kapit, Sarawak, Malaysia', 'categories': ['accommodation', 'accommodation.hotel'], 'details': ['details', 'details.contact'], 'datasource': {'sourcename': 'openstreetmap', 'attribution': '© OpenStreetMap contributors', 'license': 'Open Database License', 'url': 'https://www.openstreetmap.org/copyright', 'raw': {'name': 'Hotel Haip Choing', 'phone': '+60847963314', 'osm_id': 5698322924, 'name:en': 'Haip Choing Hotel', 'name:ms': 'Hotel Haip Choing', 'tourism': 'hotel', 'osm_type': 'n', 'addr:street': 'Jalan Temenggong Koh', 'addr:postcode': 96800, 'addr:housenumber': 33}}, 'name_international': {'en': 'Haip Choing Hotel', 'ms': 'Hotel Haip Choing'}, 'contact': {'phone': '+60847963314'}, 'distance': 507, 'place_id': '519e279eb3053c5c405961e374ddd8220040f00103f901ec81a55301000000920311486f74656c20486169702043686f696e67'}, 'geometry': {'type': 'Point', 'coordinates': [112.937848, 2.0170151997848937]}}]}\n",
      "kapit - nearest hotel: Hotel Haip Choing\n",
      "{'type': 'FeatureCollection', 'features': [{'type': 'Feature', 'properties': {'name': 'Olimpia', 'country': 'Mexico', 'country_code': 'mx', 'state': 'Oaxaca', 'county': 'San Pedro Pochutla', 'city': 'San Pedro Pochutla', 'hamlet': 'Fraccionamiento la Guayabita', 'postcode': '70900', 'street': 'Avenida Lázaro Cárdenas', 'lon': -96.4686157, 'lat': 15.7406015, 'state_code': 'OAX', 'formatted': 'Olimpia, Avenida Lázaro Cárdenas, 70900 San Pedro Pochutla, OAX, Mexico', 'address_line1': 'Olimpia', 'address_line2': 'Avenida Lázaro Cárdenas, 70900 San Pedro Pochutla, OAX, Mexico', 'categories': ['accommodation', 'accommodation.hotel'], 'details': [], 'datasource': {'sourcename': 'openstreetmap', 'attribution': '© OpenStreetMap contributors', 'license': 'Open Database License', 'url': 'https://www.openstreetmap.org/copyright', 'raw': {'name': 'Olimpia', 'osm_id': 2421413092, 'tourism': 'hotel', 'osm_type': 'n'}}, 'distance': 834, 'place_id': '511879b4ccfd1d58c05978b0ab1e307b2f40f00103f901e4d45390000000009203074f6c696d706961'}, 'geometry': {'type': 'Point', 'coordinates': [-96.46861569999999, 15.74060149999444]}}]}\n",
      "san pedro pochutla - nearest hotel: Olimpia\n"
     ]
    },
    {
     "name": "stderr",
     "output_type": "stream",
     "text": [
      "ERROR:root:Error message:\n",
      "Traceback (most recent call last):\n",
      "  File \"C:\\Users\\Moburu\\AppData\\Local\\Temp\\ipykernel_26060\\1195407018.py\", line 36, in <module>\n",
      "    hotel_df.loc[index, \"Hotel Name\"] = name_address[\"features\"][0][\"properties\"][\"name\"]\n",
      "                                        ~~~~~~~~~~~~~~~~~~~~~~~~^^^\n",
      "IndexError: list index out of range\n"
     ]
    },
    {
     "name": "stdout",
     "output_type": "stream",
     "text": [
      "{'type': 'FeatureCollection', 'features': []}\n",
      "qarauyl - nearest hotel: No hotel found\n",
      "{'type': 'FeatureCollection', 'features': [{'type': 'Feature', 'properties': {'name': 'Seeadler Bay Hotel', 'country': 'Papua New Guinea', 'country_code': 'pg', 'region': 'Islands Region', 'state': 'Manus', 'city': 'Lorengau', 'street': 'Lorengau Market', 'lon': 147.2609559, 'lat': -2.0181005, 'state_code': 'MRL', 'formatted': 'Seeadler Bay Hotel, Lorengau Market, Lorengau Manus, Papua New Guinea', 'address_line1': 'Seeadler Bay Hotel', 'address_line2': 'Lorengau Market, Lorengau Manus, Papua New Guinea', 'categories': ['accommodation', 'accommodation.hotel'], 'details': [], 'datasource': {'sourcename': 'openstreetmap', 'attribution': '© OpenStreetMap contributors', 'license': 'Open Database License', 'url': 'https://www.openstreetmap.org/copyright', 'raw': {'name': 'Seeadler Bay Hotel', 'osm_id': 4159466398, 'tourism': 'hotel', 'osm_type': 'n'}}, 'distance': 1244, 'place_id': '51580630c059686240591705f6df112500c0f00103f9019e6becf70000000092031253656561646c65722042617920486f74656c'}, 'geometry': {'type': 'Point', 'coordinates': [147.2609559, -2.018100499816352]}}]}\n",
      "lorengau - nearest hotel: Seeadler Bay Hotel\n",
      "{'type': 'FeatureCollection', 'features': [{'type': 'Feature', 'properties': {'name': 'Alfred Palace', 'country': 'Poland', 'country_code': 'pl', 'state': 'Subcarpathian Voivodeship', 'county': 'Łańcut County', 'city': 'Łańcut', 'postcode': '37-100', 'district': 'Osiedle Generała Stanisława Maczka', 'street': 'Plac Jana III Sobieskiego', 'lon': 22.2314215, 'lat': 50.0678557, 'formatted': 'Alfred Palace, Plac Jana III Sobieskiego, 37-100 Łańcut, Poland', 'address_line1': 'Alfred Palace', 'address_line2': 'Plac Jana III Sobieskiego, 37-100 Łańcut, Poland', 'categories': ['accommodation', 'accommodation.hotel'], 'details': [], 'datasource': {'sourcename': 'openstreetmap', 'attribution': '© OpenStreetMap contributors', 'license': 'Open Database License', 'url': 'https://www.openstreetmap.org/copyright', 'raw': {'name': 'Alfred Palace', 'osm_id': 1861708136, 'tourism': 'hotel', 'osm_type': 'n'}}, 'distance': 191, 'place_id': '515d177e703e3b364059ebf6dc7eaf084940f00103f9016869f76e0000000092030d416c667265642050616c616365'}, 'geometry': {'type': 'Point', 'coordinates': [22.2314215, 50.06785569943698]}}]}\n",
      "lancut - nearest hotel: Alfred Palace\n",
      "{'type': 'FeatureCollection', 'features': [{'type': 'Feature', 'properties': {'name': 'Tropic Hotel', 'country': 'France', 'country_code': 'fr', 'state': 'Réunion', 'city': 'Saint-Pierre', 'village': 'Terre Sainte', 'municipality': 'Saint-Pierre', 'postcode': '97410', 'street': 'Rue Auguste Babet', 'lon': 55.4785199, 'lat': -21.341993, 'state_code': 'RE', 'state_COG': '04', 'formatted': 'Tropic Hotel, Rue Auguste Babet, 97410 Saint-Pierre, France', 'address_line1': 'Tropic Hotel', 'address_line2': 'Rue Auguste Babet, 97410 Saint-Pierre, France', 'categories': ['accommodation', 'accommodation.hotel'], 'details': [], 'datasource': {'sourcename': 'openstreetmap', 'attribution': '© OpenStreetMap contributors', 'license': 'Open Database License', 'url': 'https://www.openstreetmap.org/copyright', 'raw': {'name': 'Tropic Hotel', 'osm_id': 4985697576, 'tourism': 'hotel', 'osm_type': 'n', 'addr:street': 'Rue Auguste Babet'}}, 'distance': 301, 'place_id': '511c7edc2340bd4b405965a06fda8c5735c0f00103f90128b52b290100000092030c54726f70696320486f74656c'}, 'geometry': {'type': 'Point', 'coordinates': [55.47851990000001, -21.34199300027139]}}]}\n",
      "saint-pierre - nearest hotel: Tropic Hotel\n"
     ]
    },
    {
     "name": "stderr",
     "output_type": "stream",
     "text": [
      "ERROR:root:Error message:\n",
      "Traceback (most recent call last):\n",
      "  File \"C:\\Users\\Moburu\\AppData\\Local\\Temp\\ipykernel_26060\\1195407018.py\", line 36, in <module>\n",
      "    hotel_df.loc[index, \"Hotel Name\"] = name_address[\"features\"][0][\"properties\"][\"name\"]\n",
      "                                        ~~~~~~~~~~~~~~~~~~~~~~~~~~~~~~~~~~~~~~~~~^^^^^^^^\n",
      "KeyError: 'name'\n"
     ]
    },
    {
     "name": "stdout",
     "output_type": "stream",
     "text": [
      "{'type': 'FeatureCollection', 'features': [{'type': 'Feature', 'properties': {'country': 'Somalia', 'country_code': 'so', 'state': 'Woqooyi Galbeed', 'county': 'Hargeisa District', 'city': 'Hargeisa', 'suburb': 'Sheekh Madar', 'street': 'Freedom Park Road', 'lon': 44.0632185, 'lat': 9.5609367, 'state_code': 'WO', 'formatted': 'Freedom Park Road, Sheekh Madar, Hargeisa, Somalia', 'address_line1': 'Freedom Park Road', 'address_line2': 'Sheekh Madar, Hargeisa, Somalia', 'categories': ['accommodation', 'accommodation.hotel'], 'details': [], 'datasource': {'sourcename': 'openstreetmap', 'attribution': '© OpenStreetMap contributors', 'license': 'Open Database License', 'url': 'https://www.openstreetmap.org/copyright', 'raw': {'osm_id': 4463118452, 'tourism': 'hotel', 'osm_type': 'n'}}, 'distance': 221, 'place_id': '514700378b1708464059a1425618331f2340f00103f90174c8050a01000000'}, 'geometry': {'type': 'Point', 'coordinates': [44.0632185, 9.560936699418848]}}]}\n",
      "hargeysa - nearest hotel: No hotel found\n",
      "{'type': 'FeatureCollection', 'features': [{'type': 'Feature', 'properties': {'name': 'BEST WESTERN PLUS Pioneer Park Inn', 'country': 'United States', 'country_code': 'us', 'state': 'Alaska', 'county': 'Fairbanks North Star', 'city': 'Fairbanks', 'postcode': '99701', 'street': 'Chena Landings Loop Road', 'lon': -147.76978766219594, 'lat': 64.84285455, 'state_code': 'AK', 'formatted': 'BEST WESTERN PLUS Pioneer Park Inn, Chena Landings Loop Road, Fairbanks, AK 99701, United States of America', 'address_line1': 'BEST WESTERN PLUS Pioneer Park Inn', 'address_line2': 'Chena Landings Loop Road, Fairbanks, AK 99701, United States of America', 'categories': ['accommodation', 'accommodation.hotel'], 'details': ['details'], 'datasource': {'sourcename': 'openstreetmap', 'attribution': '© OpenStreetMap contributors', 'license': 'Open Database License', 'url': 'https://www.openstreetmap.org/copyright', 'raw': {'name': 'BEST WESTERN PLUS Pioneer Park Inn', 'brand': 'Best Western Plus', 'osm_id': 153138521, 'tourism': 'hotel', 'osm_type': 'w', 'brand:wikidata': 'Q830334'}}, 'brand': 'Best Western Plus', 'brand_details': {'wikidata': 'Q830334'}, 'distance': 2198, 'place_id': '51de3fbc19a27862c059aced3454f1355040f00102f90159b520090000000092032242455354205745535445524e20504c55532050696f6e656572205061726b20496e6e'}, 'geometry': {'type': 'Point', 'coordinates': [-147.76978766219594, 64.84285454911031]}}]}\n",
      "college - nearest hotel: BEST WESTERN PLUS Pioneer Park Inn\n",
      "{'type': 'FeatureCollection', 'features': [{'type': 'Feature', 'properties': {'name': 'New Ridge Inn', 'country': 'Canada', 'country_code': 'ca', 'state': 'Alberta', 'county': 'Division No. 19', 'city': 'Peace River', 'postcode': 'T8S 1J3', 'suburb': 'Downtown', 'street': '100 Street', 'lon': -117.29118207489063, 'lat': 56.2376417, 'state_code': 'AB', 'formatted': 'New Ridge Inn, 100 Street, Peace River, AB T8S 1J3, Canada', 'address_line1': 'New Ridge Inn', 'address_line2': '100 Street, Peace River, AB T8S 1J3, Canada', 'categories': ['accommodation', 'accommodation.hotel', 'building', 'building.accommodation'], 'details': [], 'datasource': {'sourcename': 'openstreetmap', 'attribution': '© OpenStreetMap contributors', 'license': 'Open Database License', 'url': 'https://www.openstreetmap.org/copyright', 'raw': {'name': 'New Ridge Inn', 'osm_id': 438613826, 'tourism': 'hotel', 'building': 'yes', 'osm_type': 'w'}}, 'distance': 1386, 'place_id': '518c3524baa2525dc059e299100b6b1e4c40f00102f90142b7241a0000000092030d4e657720526964676520496e6e'}, 'geometry': {'type': 'Point', 'coordinates': [-117.29118207489063, 56.23764169989205]}}]}\n",
      "peace river - nearest hotel: New Ridge Inn\n"
     ]
    },
    {
     "name": "stderr",
     "output_type": "stream",
     "text": [
      "ERROR:root:Error message:\n",
      "Traceback (most recent call last):\n",
      "  File \"C:\\Users\\Moburu\\AppData\\Local\\Temp\\ipykernel_26060\\1195407018.py\", line 36, in <module>\n",
      "    hotel_df.loc[index, \"Hotel Name\"] = name_address[\"features\"][0][\"properties\"][\"name\"]\n",
      "                                        ~~~~~~~~~~~~~~~~~~~~~~~~^^^\n",
      "IndexError: list index out of range\n"
     ]
    },
    {
     "name": "stdout",
     "output_type": "stream",
     "text": [
      "{'type': 'FeatureCollection', 'features': []}\n",
      "razole - nearest hotel: No hotel found\n",
      "{'type': 'FeatureCollection', 'features': [{'type': 'Feature', 'properties': {'name': 'Araucária Hostel', 'country': 'Brazil', 'country_code': 'br', 'region': 'Região Geográfica Intermediária de Joinville', 'state': 'Santa Catarina', 'city': 'São Bento do Sul', 'municipality': 'Região Geográfica Imediata de São Bento do Sul-Rio Negrinho', 'postcode': '89280-177', 'suburb': 'Centro', 'street': 'Avenida Nereu Ramos', 'housenumber': '154', 'lon': -49.38372263427787, 'lat': -26.250639, 'state_code': 'SC', 'formatted': 'Araucária Hostel, Avenida Nereu Ramos 154, Centro, São Bento do Sul - SC, 89280-177, Brazil', 'address_line1': 'Araucária Hostel', 'address_line2': 'Avenida Nereu Ramos 154, Centro, São Bento do Sul - SC, 89280-177, Brazil', 'categories': ['accommodation', 'accommodation.hotel', 'building', 'building.accommodation'], 'details': [], 'datasource': {'sourcename': 'openstreetmap', 'attribution': '© OpenStreetMap contributors', 'license': 'Open Database License', 'url': 'https://www.openstreetmap.org/copyright', 'raw': {'name': 'Araucária Hostel', 'osm_id': 794520356, 'tourism': 'hotel', 'building': 'yes', 'osm_type': 'w', 'addr:city': 'São Bento do Sul', 'addr:street': 'Avenida Nereu Ramos', 'addr:housenumber': 154}}, 'distance': 499, 'place_id': '51ae7ac2d21db148c0592b68a2e029403ac0f00102f901246b5b2f000000009203114172617563c3a172696120486f7374656c'}, 'geometry': {'type': 'Point', 'coordinates': [-49.38372263427787, -26.250638999605297]}}]}\n",
      "sao bento do sul - nearest hotel: Araucária Hostel\n",
      "{'type': 'FeatureCollection', 'features': [{'type': 'Feature', 'properties': {'name': 'Whitsundays Rainforest Retreat', 'country': 'Australia', 'country_code': 'au', 'state': 'Queensland', 'city': 'Cannonvale', 'municipality': 'Whitsunday Regional', 'district': 'Cannonvale', 'neighbourhood': 'Yachtsmans Paradise', 'street': 'Yachtman Parade', 'lon': 148.7000922, 'lat': -20.2840845, 'state_code': 'QLD', 'formatted': 'Whitsundays Rainforest Retreat, Yachtman Parade, Cannonvale QLD, Australia', 'address_line1': 'Whitsundays Rainforest Retreat', 'address_line2': 'Yachtman Parade, Cannonvale QLD, Australia', 'categories': ['accommodation', 'accommodation.hotel'], 'details': [], 'datasource': {'sourcename': 'openstreetmap', 'attribution': '© OpenStreetMap contributors', 'license': 'Open Database License', 'url': 'https://www.openstreetmap.org/copyright', 'raw': {'name': 'Whitsundays Rainforest Retreat', 'osm_id': 3056939750, 'tourism': 'hotel', 'osm_type': 'n'}}, 'distance': 87, 'place_id': '51eae5c1276796624059a86306c3b94834c0f00103f901e63235b60000000092031e5768697473756e64617973205261696e666f726573742052657472656174'}, 'geometry': {'type': 'Point', 'coordinates': [148.70009220000003, -20.284084500369914]}}]}\n",
      "cannonvale - nearest hotel: Whitsundays Rainforest Retreat\n",
      "{'type': 'FeatureCollection', 'features': [{'type': 'Feature', 'properties': {'name': 'Wingate by Wyndham Rome', 'country': 'United States', 'country_code': 'us', 'state': 'New York', 'county': 'Oneida County', 'city': 'City of Rome', 'postcode': '13441', 'street': 'Dart Circle', 'housenumber': '90', 'lon': -75.41299817479356, 'lat': 43.20918, 'state_code': 'NY', 'formatted': 'Wingate by Wyndham Rome, 90 Dart Circle, City of Rome, NY 13441, United States of America', 'address_line1': 'Wingate by Wyndham Rome', 'address_line2': '90 Dart Circle, City of Rome, NY 13441, United States of America', 'categories': ['accommodation', 'accommodation.hotel'], 'details': ['details', 'details.contact'], 'datasource': {'sourcename': 'openstreetmap', 'attribution': '© OpenStreetMap contributors', 'license': 'Open Database License', 'url': 'https://www.openstreetmap.org/copyright', 'raw': {'name': 'Wingate by Wyndham Rome', 'phone': '+1-888-595-3511', 'osm_id': 956534218, 'tourism': 'hotel', 'website': 'https://www.wyndhamhotels.com/wingate/rome-new-york/wingate-by-wyndham-rome/overview', 'osm_type': 'w', 'addr:city': 'Rome', 'addr:state': 'NY', 'addr:street': 'Dart Circle', 'addr:postcode': 13441, 'opening_hours': '24/7', 'addr:housenumber': 90, 'nysgissam:nysaddresspointid': 'ONEI019628'}}, 'website': 'https://www.wyndhamhotels.com/wingate/rome-new-york/wingate-by-wyndham-rome/overview', 'opening_hours': '24/7', 'contact': {'phone': '+1-888-595-3511'}, 'distance': 4432, 'place_id': '51f182e58f6eda52c0593ca60669c69a4540f00102f901ca8d03390000000092031757696e676174652062792057796e6468616d20526f6d65'}, 'geometry': {'type': 'Point', 'coordinates': [-75.41299817479354, 43.2091800005405]}}]}\n",
      "oneida - nearest hotel: Wingate by Wyndham Rome\n",
      "{'type': 'FeatureCollection', 'features': [{'type': 'Feature', 'properties': {'name': 'The Old Mount Gambier Gaol', 'country': 'Australia', 'country_code': 'au', 'state': 'South Australia', 'city': 'Mount Gambier', 'municipality': 'City of Mount Gambier', 'postcode': '5290', 'street': 'Langlois Place', 'lon': 140.7731926, 'lat': -37.8324414, 'state_code': 'SA', 'formatted': 'The Old Mount Gambier Gaol, Langlois Place, Mount Gambier SA 5290, Australia', 'address_line1': 'The Old Mount Gambier Gaol', 'address_line2': 'Langlois Place, Mount Gambier SA 5290, Australia', 'categories': ['accommodation', 'accommodation.hotel'], 'details': [], 'datasource': {'sourcename': 'openstreetmap', 'attribution': '© OpenStreetMap contributors', 'license': 'Open Database License', 'url': 'https://www.openstreetmap.org/copyright', 'raw': {'name': 'The Old Mount Gambier Gaol', 'osm_id': 3549049786, 'tourism': 'hotel', 'osm_type': 'n'}}, 'distance': 579, 'place_id': '514b5068febd98614059269197708dea42c0f00103f901ba338ad30000000092031a546865204f6c64204d6f756e742047616d626965722047616f6c'}, 'geometry': {'type': 'Point', 'coordinates': [140.7731926, -37.83244140053493]}}]}\n",
      "mount gambier - nearest hotel: The Old Mount Gambier Gaol\n",
      "{'type': 'FeatureCollection', 'features': [{'type': 'Feature', 'properties': {'name': 'Port Wine Guest House', 'country': 'Tonga', 'country_code': 'to', 'state': 'Vavaʻu', 'county': 'Vahe Neiafu', 'city': 'Neiafu', 'hamlet': 'Sailoame', 'street': \"Ha'amea Road\", 'lon': -173.983521, 'lat': -18.6494292, 'formatted': \"Port Wine Guest House, Ha'amea Road, Neiafu, Tonga\", 'address_line1': 'Port Wine Guest House', 'address_line2': \"Ha'amea Road, Neiafu, Tonga\", 'categories': ['accommodation', 'accommodation.hotel'], 'details': ['details'], 'datasource': {'sourcename': 'openstreetmap', 'attribution': '© OpenStreetMap contributors', 'license': 'Open Database License', 'url': 'https://www.openstreetmap.org/copyright', 'raw': {'name': 'Port Wine Guest House', 'osm_id': 4303506494, 'tourism': 'hotel', 'website': 'https://www.portwineguesthouse.com/', 'osm_type': 'n'}}, 'website': 'https://www.portwineguesthouse.com/', 'distance': 67, 'place_id': '51bb3d080179bf65c059140bf9fd40a632c0f00103f9013e4c820001000000920315506f72742057696e6520477565737420486f757365'}, 'geometry': {'type': 'Point', 'coordinates': [-173.98352099999997, -18.649429200460034]}}]}\n",
      "neiafu - nearest hotel: Port Wine Guest House\n",
      "{'type': 'FeatureCollection', 'features': [{'type': 'Feature', 'properties': {'name': 'The Empire Hotel', 'country': 'New Zealand', 'country_code': 'nz', 'state': 'Manawatū-Whanganui', 'city': 'Palmerston North', 'postcode': '4440', 'suburb': 'West End', 'street': 'Main Street', 'lon': 175.6154621, 'lat': -40.354628, 'formatted': 'The Empire Hotel, Main Street, West End, Palmerston North 4440, New Zealand', 'address_line1': 'The Empire Hotel', 'address_line2': 'Main Street, West End, Palmerston North 4440, New Zealand', 'categories': ['accommodation', 'accommodation.hotel'], 'details': ['details'], 'datasource': {'sourcename': 'openstreetmap', 'attribution': '© OpenStreetMap contributors', 'license': 'Open Database License', 'url': 'https://www.openstreetmap.org/copyright', 'raw': {'name': 'The Empire Hotel', 'osm_id': 1783189225, 'tourism': 'hotel', 'website': 'http://www.empirehotel.co.nz/', 'osm_type': 'n'}}, 'website': 'http://www.empirehotel.co.nz/', 'distance': 525, 'place_id': '51aeed92ddb1f3654059c6314973642d44c0f00103f901e94e496a0000000092031054686520456d7069726520486f74656c'}, 'geometry': {'type': 'Point', 'coordinates': [175.6154621, -40.35462800096461]}}]}\n",
      "palmerston north - nearest hotel: The Empire Hotel\n",
      "{'type': 'FeatureCollection', 'features': [{'type': 'Feature', 'properties': {'name': 'Al Muhaidab Residence Al Ahsa', 'country': 'Saudi Arabia', 'country_code': 'sa', 'state': 'Eastern Province', 'city': 'Al-Hofuf', 'postcode': '36421-6706', 'district': 'Al Salmaniyah First District', 'street': 'Riyadh Road', 'housenumber': '4068', 'lon': 49.5535728, 'lat': 25.3617527, 'formatted': 'Al Muhaidab Residence Al Ahsa, 4068 Riyadh Road, Al-Hofuf 36421-6706, Saudi Arabia', 'address_line1': 'Al Muhaidab Residence Al Ahsa', 'address_line2': '4068 Riyadh Road, Al-Hofuf 36421-6706, Saudi Arabia', 'categories': ['accommodation', 'accommodation.hotel', 'internet_access'], 'details': ['details.facilities'], 'datasource': {'sourcename': 'openstreetmap', 'attribution': '© OpenStreetMap contributors', 'license': 'Open Database License', 'url': 'https://www.openstreetmap.org/copyright', 'raw': {'name': 'Al Muhaidab Residence Al Ahsa', 'osm_id': 5812237719, 'tourism': 'hotel', 'osm_type': 'n', 'addr:city': 'الهفوف', 'addr:city:en': 'AL HUFUF', 'addr:district': 'حي السلمانية الأول', 'addr:postcode': '36421-6706', 'internet_access': 'wlan', 'addr:district:en': 'Al Salmaniyah First Dist.', 'addr:housenumber': 4068}}, 'facilities': {'internet_access': True}, 'distance': 1222, 'place_id': '5142fa3779dbc6484059ccb530d39b5c3940f00103f90197b56f5a0100000092031d416c204d75686169646162205265736964656e636520416c2041687361'}, 'geometry': {'type': 'Point', 'coordinates': [49.5535728, 25.36175270022595]}}]}\n",
      "al hufuf - nearest hotel: Al Muhaidab Residence Al Ahsa\n",
      "{'type': 'FeatureCollection', 'features': [{'type': 'Feature', 'properties': {'name': 'ANA Hotel Kushiro', 'country': 'Japan', 'country_code': 'jp', 'state': 'Kushiro Subprefecture', 'county': 'Hokkaido Prefecture', 'city': 'Kushiro', 'postcode': '085-0017', 'district': '幸町六丁目', 'street': 'National Highway Route 38', 'lon': 144.3820058, 'lat': 42.9824797, 'formatted': 'ANA Hotel Kushiro, National Highway Route 38, Kushiro, Kushiro Subprefecture 085-0017, Japan', 'address_line1': 'ANA Hotel Kushiro', 'address_line2': 'National Highway Route 38, Kushiro, Kushiro Subprefecture 085-0017, Japan', 'categories': ['accommodation', 'accommodation.hotel'], 'details': ['details.wiki_and_media'], 'datasource': {'sourcename': 'openstreetmap', 'attribution': '© OpenStreetMap contributors', 'license': 'Open Database License', 'url': 'https://www.openstreetmap.org/copyright', 'raw': {'name': 'ANA Hotel Kushiro', 'osm_id': 1971835623, 'tourism': 'hotel', 'osm_type': 'n', 'wikidata': 'Q56636278', 'wikipedia': 'ja:ANAクラウンプラザホテル釧路'}}, 'wiki_and_media': {'wikidata': 'Q56636278', 'wikipedia': 'ja:ANAクラウンプラザホテル釧路'}, 'distance': 1023, 'place_id': '513b3c3a64390c624059ab6413e5c17d4540f00103f901e7d2877500000000920311414e4120486f74656c204b75736869726f'}, 'geometry': {'type': 'Point', 'coordinates': [144.38200579999997, 42.98247970053611]}}]}\n",
      "kushiro - nearest hotel: ANA Hotel Kushiro\n",
      "{'type': 'FeatureCollection', 'features': [{'type': 'Feature', 'properties': {'name': '割烹旅館 正直亭', 'country': 'Japan', 'country_code': 'jp', 'county': 'Fukuoka Prefecture', 'city': 'Fukutsu', 'postcode': '811-3209', 'district': '津屋崎四丁目', 'street': '渡津屋崎線', 'lon': 130.46209380123577, 'lat': 33.78820485, 'formatted': '割烹旅館 正直亭, 渡津屋崎線, Fukutsu, 津屋崎四丁目 811-3209, Japan', 'address_line1': '割烹旅館 正直亭', 'address_line2': '渡津屋崎線, Fukutsu, 津屋崎四丁目 811-3209, Japan', 'categories': ['accommodation', 'accommodation.hotel', 'building', 'building.accommodation'], 'details': ['details.accommodation'], 'datasource': {'sourcename': 'openstreetmap', 'attribution': '© OpenStreetMap contributors', 'license': 'Open Database License', 'url': 'https://www.openstreetmap.org/copyright', 'raw': {'name': '割烹旅館 正直亭', 'rooms': 6, 'osm_id': 816541467, 'tourism': 'hotel', 'building': 'hotel', 'osm_type': 'w'}}, 'accommodation': {'rooms': 6}, 'building': {'type': 'hotel'}, 'distance': 2409, 'place_id': '51be7ff078c94e604059f6c781e5e3e44040f00102f9011b6fab3000000000920316e589b2e783b9e69785e9a4a820e6ada3e79bb4e4baad'}, 'geometry': {'type': 'Point', 'coordinates': [130.46209380123577, 33.788204849595715]}}]}\n",
      "nishifukuma - nearest hotel: 割烹旅館 正直亭\n",
      "{'type': 'FeatureCollection', 'features': [{'type': 'Feature', 'properties': {'name': 'Hotel España', 'country': 'Argentina', 'country_code': 'ar', 'state': 'Córdoba', 'state_district': 'Departamento Cruz del Eje', 'county': 'Pedanía Cruz del Eje', 'city': 'Cruz del Eje', 'municipality': 'Municipio de Cruz del Eje', 'postcode': 'X5280', 'street': 'Alsina', 'lon': -64.79979191546624, 'lat': -30.7279238, 'state_code': 'X', 'formatted': 'Hotel España, Alsina, X5280 Cruz del Eje, Argentina', 'address_line1': 'Hotel España', 'address_line2': 'Alsina, X5280 Cruz del Eje, Argentina', 'categories': ['accommodation', 'accommodation.hotel'], 'details': ['details.contact'], 'datasource': {'sourcename': 'openstreetmap', 'attribution': '© OpenStreetMap contributors', 'license': 'Open Database License', 'url': 'https://www.openstreetmap.org/copyright', 'raw': {'name': 'Hotel España', 'phone': '(03549) 422702', 'osm_id': 237984825, 'tourism': 'hotel', 'osm_type': 'w'}}, 'contact': {'phone': '(03549) 422702'}, 'distance': 406, 'place_id': '5117226eca2f3350c0592c1ad03659ba3ec0f00102f901395c2f0e0000000092030d486f74656c2045737061c3b161'}, 'geometry': {'type': 'Point', 'coordinates': [-64.79979191546623, -30.727923799329957]}}]}\n",
      "cruz del eje - nearest hotel: Hotel España\n",
      "{'type': 'FeatureCollection', 'features': [{'type': 'Feature', 'properties': {'name': 'Hotel Jasmine Jayapura', 'country': 'Indonesia', 'country_code': 'id', 'region': 'Western New Guinea', 'state': 'Papua', 'city': 'Jayapura', 'village': 'Ardipura', 'postcode': '99111', 'suburb': 'Imbi', 'street': 'Jalan Percetakan', 'housenumber': '8', 'lon': 140.7047042, 'lat': -2.5402563, 'formatted': 'Hotel Jasmine Jayapura, Jalan Percetakan 8, Imbi, Jayapura 99111, Papua, Indonesia', 'address_line1': 'Hotel Jasmine Jayapura', 'address_line2': 'Jalan Percetakan 8, Imbi, Jayapura 99111, Papua, Indonesia', 'categories': ['accommodation', 'accommodation.hotel', 'internet_access'], 'details': ['details.accommodation', 'details.facilities'], 'datasource': {'sourcename': 'openstreetmap', 'attribution': '© OpenStreetMap contributors', 'license': 'Open Database License', 'url': 'https://www.openstreetmap.org/copyright', 'raw': {'name': 'Hotel Jasmine Jayapura', 'rooms': 82, 'osm_id': 6361744655, 'tourism': 'hotel', 'osm_type': 'n', 'addr:city': 'Jayapura', 'addr:street': 'Jalan Percetakan', 'addr:postcode': 99111, 'internet_access': 'yes', 'addr:housenumber': 8}}, 'facilities': {'internet_access': True}, 'accommodation': {'rooms': 82}, 'distance': 930, 'place_id': '51538bd2ef8c96614059841218e5715204c0f00103f9010f85307b01000000920316486f74656c204a61736d696e65204a61796170757261'}, 'geometry': {'type': 'Point', 'coordinates': [140.7047042, -2.5402562997790614]}}]}\n",
      "jayapura - nearest hotel: Hotel Jasmine Jayapura\n",
      "{'type': 'FeatureCollection', 'features': [{'type': 'Feature', 'properties': {'name': 'Hospedaje El Aypate', 'country': 'Peru', 'country_code': 'pe', 'region': 'Province of Talara', 'state': 'Piura', 'city': 'Talara', 'district': 'Lucy de Villanueva', 'suburb': 'San Pedro', 'street': 'Avenida Del Ejercito', 'lon': -81.2701468, 'lat': -4.5745673, 'state_code': 'PIU', 'formatted': 'Hospedaje El Aypate, Avenida Del Ejercito, San Pedro, Talara, Peru', 'address_line1': 'Hospedaje El Aypate', 'address_line2': 'Avenida Del Ejercito, San Pedro, Talara, Peru', 'categories': ['accommodation', 'accommodation.hotel'], 'details': [], 'datasource': {'sourcename': 'openstreetmap', 'attribution': '© OpenStreetMap contributors', 'license': 'Open Database License', 'url': 'https://www.openstreetmap.org/copyright', 'raw': {'name': 'Hospedaje El Aypate', 'osm_id': 9823208217, 'tourism': 'hotel', 'osm_type': 'n', 'addr:street': 'Avenida Del Ejercito'}}, 'distance': 350, 'place_id': '519fc7cd154a5154c059ed0ec65e5b4c12c0f00103f9011943824902000000920313486f73706564616a6520456c20417970617465'}, 'geometry': {'type': 'Point', 'coordinates': [-81.2701468, -4.574567299688835]}}]}\n",
      "talara - nearest hotel: Hospedaje El Aypate\n"
     ]
    },
    {
     "name": "stderr",
     "output_type": "stream",
     "text": [
      "ERROR:root:Error message:\n",
      "Traceback (most recent call last):\n",
      "  File \"C:\\Users\\Moburu\\AppData\\Local\\Temp\\ipykernel_26060\\1195407018.py\", line 36, in <module>\n",
      "    hotel_df.loc[index, \"Hotel Name\"] = name_address[\"features\"][0][\"properties\"][\"name\"]\n",
      "                                        ~~~~~~~~~~~~~~~~~~~~~~~~^^^\n",
      "IndexError: list index out of range\n"
     ]
    },
    {
     "name": "stdout",
     "output_type": "stream",
     "text": [
      "{'type': 'FeatureCollection', 'features': []}\n",
      "ohara - nearest hotel: No hotel found\n"
     ]
    },
    {
     "name": "stderr",
     "output_type": "stream",
     "text": [
      "ERROR:root:Error message:\n",
      "Traceback (most recent call last):\n",
      "  File \"C:\\Users\\Moburu\\AppData\\Local\\Temp\\ipykernel_26060\\1195407018.py\", line 36, in <module>\n",
      "    hotel_df.loc[index, \"Hotel Name\"] = name_address[\"features\"][0][\"properties\"][\"name\"]\n",
      "                                        ~~~~~~~~~~~~~~~~~~~~~~~~~~~~~~~~~~~~~~~~~^^^^^^^^\n",
      "KeyError: 'name'\n"
     ]
    },
    {
     "name": "stdout",
     "output_type": "stream",
     "text": [
      "{'type': 'FeatureCollection', 'features': [{'type': 'Feature', 'properties': {'country': 'Brazil', 'country_code': 'br', 'region': 'North Region', 'state': 'Pará', 'county': 'Região Geográfica Intermediária de Santarém', 'city': 'Alenquer', 'municipality': 'Região Geográfica Imediata de Santarém', 'postcode': '68200-000', 'district': 'Alenquer', 'street': 'Estrada Paes de Carvalho', 'lon': -54.7375183, 'lat': -1.9453353, 'state_code': 'PA', 'formatted': 'Estrada Paes de Carvalho, Alenquer - PA, 68200-000, Brazil', 'address_line1': 'Estrada Paes de Carvalho', 'address_line2': 'Alenquer - PA, 68200-000, Brazil', 'categories': ['accommodation', 'accommodation.hotel'], 'details': [], 'datasource': {'sourcename': 'openstreetmap', 'attribution': '© OpenStreetMap contributors', 'license': 'Open Database License', 'url': 'https://www.openstreetmap.org/copyright', 'raw': {'osm_id': 8071946217, 'tourism': 'hotel', 'osm_type': 'n'}}, 'distance': 411, 'place_id': '51cb59e9ff665e4bc05925d547e81720ffbff00103f901e91f20e101000000'}, 'geometry': {'type': 'Point', 'coordinates': [-54.7375183, -1.9453352998219284]}}]}\n",
      "alenquer - nearest hotel: No hotel found\n",
      "{'type': 'FeatureCollection', 'features': [{'type': 'Feature', 'properties': {'name': 'Brosundet', 'country': 'Norway', 'country_code': 'no', 'county': 'Møre og Romsdal', 'city': 'Ålesund', 'postcode': '6004', 'suburb': 'Slinningen', 'street': 'Apotekergata', 'lon': 6.1521871, 'lat': 62.4725261, 'formatted': 'Brosundet, Apotekergata, 6004 Ålesund, Norway', 'address_line1': 'Brosundet', 'address_line2': 'Apotekergata, 6004 Ålesund, Norway', 'categories': ['accommodation', 'accommodation.hotel'], 'details': [], 'datasource': {'sourcename': 'openstreetmap', 'attribution': '© OpenStreetMap contributors', 'license': 'Open Database License', 'url': 'https://www.openstreetmap.org/copyright', 'raw': {'name': 'Brosundet', 'osm_id': 282272129, 'tourism': 'hotel', 'osm_type': 'n'}}, 'distance': 142, 'place_id': '51087e65efd69b18405908e03bbc7b3c4f40f00103f9018121d3100000000092030942726f73756e646574'}, 'geometry': {'type': 'Point', 'coordinates': [6.152187099999999, 62.47252610133734]}}]}\n",
      "alesund - nearest hotel: Brosundet\n",
      "{'type': 'FeatureCollection', 'features': [{'type': 'Feature', 'properties': {'name': 'Durrant House Hotel', 'country': 'United Kingdom', 'country_code': 'gb', 'state': 'England', 'county': 'Devon', 'city': 'Torridge District', 'town': 'Northam', 'postcode': 'EX39 2RL', 'suburb': 'Northam', 'street': 'Durrant Lane', 'lon': -4.211917193162417, 'lat': 51.0337962, 'state_code': 'ENG', 'formatted': 'Durrant House Hotel, Durrant Lane, Torridge District, EX39 2RL, United Kingdom', 'address_line1': 'Durrant House Hotel', 'address_line2': 'Durrant Lane, Torridge District, EX39 2RL, United Kingdom', 'categories': ['accommodation', 'accommodation.hotel', 'building', 'building.accommodation'], 'details': ['details', 'details.wiki_and_media'], 'datasource': {'sourcename': 'openstreetmap', 'attribution': '© OpenStreetMap contributors', 'license': 'Open Database License', 'url': 'https://www.openstreetmap.org/copyright', 'raw': {'name': 'Durrant House Hotel', 'osm_id': 226884254, 'tourism': 'hotel', 'website': 'https://durranthousehotel.com/', 'building': 'yes', 'osm_type': 'w', 'wikidata': 'Q26462694'}}, 'website': 'https://durranthousehotel.com/', 'wiki_and_media': {'wikidata': 'Q26462694'}, 'distance': 311, 'place_id': '51025f18d200d910c059813d116f53844940f00102f9019efa850d0000000092031344757272616e7420486f75736520486f74656c'}, 'geometry': {'type': 'Point', 'coordinates': [-4.211917193162437, 51.03379619924363]}}]}\n",
      "northam - nearest hotel: Durrant House Hotel\n",
      "{'type': 'FeatureCollection', 'features': [{'type': 'Feature', 'properties': {'name': 'Hotel de Inhambane', 'country': 'Mozambique', 'country_code': 'mz', 'region': 'Zona Sul', 'state': 'Inhambane Province', 'city': 'Inhambane', 'street': 'Avenida da Independência', 'lon': 35.3825265, 'lat': -23.8659539, 'formatted': 'Hotel de Inhambane, Avenida da Independência, Inhambane, Mozambique', 'address_line1': 'Hotel de Inhambane', 'address_line2': 'Avenida da Independência, Inhambane, Mozambique', 'categories': ['accommodation', 'accommodation.hotel', 'internet_access', 'internet_access.free'], 'details': ['details', 'details.facilities'], 'datasource': {'sourcename': 'openstreetmap', 'attribution': '© OpenStreetMap contributors', 'license': 'Open Database License', 'url': 'https://www.openstreetmap.org/copyright', 'raw': {'name': 'Hotel de Inhambane', 'osm_id': 985861082, 'tourism': 'hotel', 'website': 'http://www.hotelinhambane.co.mz/', 'osm_type': 'n', 'wheelchair': 'no', 'addr:street': 'Avenida da Independência', 'internet_access': 'wlan', 'internet_access:fee': 'no'}}, 'website': 'http://www.hotelinhambane.co.mz/', 'facilities': {'internet_access': True, 'wheelchair': False}, 'distance': 132, 'place_id': '5139addba0f6b0414059161ba027afdd37c0f00103f901da0bc33a00000000920312486f74656c20646520496e68616d62616e65'}, 'geometry': {'type': 'Point', 'coordinates': [35.38252649999999, -23.86595389994462]}}]}\n",
      "inhambane - nearest hotel: Hotel de Inhambane\n",
      "{'type': 'FeatureCollection', 'features': [{'type': 'Feature', 'properties': {'name': 'بوناقة', 'country': 'Algeria', 'country_code': 'dz', 'state': 'Illizi', 'county': 'Illizi District', 'city': 'Illizi', 'village': 'Sidi Bouslah', 'postcode': '33000', 'district': 'Jules de Polignac', 'street': 'شارع الأمير عبد القادر', 'lon': 8.4753152, 'lat': 26.4981065, 'formatted': 'بوناقة, شارع الأمير عبد القادر, 33000 Illizi, Algeria', 'address_line1': 'بوناقة', 'address_line2': 'شارع الأمير عبد القادر, 33000 Illizi, Algeria', 'categories': ['accommodation', 'accommodation.hotel'], 'details': ['details'], 'datasource': {'sourcename': 'openstreetmap', 'attribution': '© OpenStreetMap contributors', 'license': 'Open Database License', 'url': 'https://www.openstreetmap.org/copyright', 'raw': {'name': 'بوناقة', 'osm_id': 3191490295, 'name:ar': 'بوناقة', 'name:fr': 'Bounaga', 'tourism': 'hotel', 'osm_type': 'n', 'addr:city': 'إليزي'}}, 'name_international': {'ar': 'بوناقة', 'fr': 'Bounaga'}, 'distance': 1852, 'place_id': '515a958e835cf320405964e857e8837f3a40f00103f901f7463abe0000000092030cd8a8d988d986d8a7d982d8a9'}, 'geometry': {'type': 'Point', 'coordinates': [8.4753152, 26.4981065001124]}}]}\n",
      "illizi - nearest hotel: بوناقة\n",
      "{'type': 'FeatureCollection', 'features': [{'type': 'Feature', 'properties': {'name': 'HOTEL SANDLEWOOD', 'country': 'Indonesia', 'country_code': 'id', 'region': 'Sumba Timur', 'state': 'East Nusa Tenggara', 'city': 'Waingapu', 'village': 'Kelurahan Matawai', 'municipality': 'Kecamatan Kota Waingapu', 'postcode': '87111', 'street': 'Jalan W.J. Lalamentik', 'lon': 120.265612, 'lat': -9.6535739, 'formatted': 'HOTEL SANDLEWOOD, Jalan W.J. Lalamentik, Waingapu 87111, East Nusa Tenggara, Indonesia', 'address_line1': 'HOTEL SANDLEWOOD', 'address_line2': 'Jalan W.J. Lalamentik, Waingapu 87111, East Nusa Tenggara, Indonesia', 'categories': ['accommodation', 'accommodation.hotel'], 'details': [], 'datasource': {'sourcename': 'openstreetmap', 'attribution': '© OpenStreetMap contributors', 'license': 'Open Database License', 'url': 'https://www.openstreetmap.org/copyright', 'raw': {'name': 'HOTEL SANDLEWOOD', 'osm_id': 1367466666, 'tourism': 'hotel', 'osm_type': 'n'}}, 'distance': 384, 'place_id': '51365b79c9ff105e4059900bfb3ca14e23c0f00103f901aae2815100000000920310484f54454c2053414e444c45574f4f44'}, 'geometry': {'type': 'Point', 'coordinates': [120.265612, -9.653573899884378]}}]}\n",
      "waingapu - nearest hotel: HOTEL SANDLEWOOD\n",
      "{'type': 'FeatureCollection', 'features': [{'type': 'Feature', 'properties': {'name': 'The Ashe Hotel', 'old_name': 'Abbey Gate Hotel', 'country': 'Ireland', 'country_code': 'ie', 'state': 'Tralee Municipal District', 'county': 'County Kerry', 'postcode': 'V92 DD5X', 'district': 'Tralee Urban ED', 'neighbourhood': 'Balloonagh', 'street': 'Maine Street', 'lon': -9.7045165, 'lat': 52.2708363, 'formatted': 'The Ashe Hotel, Maine Street, County Kerry, Ireland', 'address_line1': 'The Ashe Hotel', 'address_line2': 'Maine Street, County Kerry, Ireland', 'categories': ['accommodation', 'accommodation.hotel', 'wheelchair', 'wheelchair.yes'], 'details': ['details', 'details.contact', 'details.facilities', 'details.wiki_and_media'], 'datasource': {'sourcename': 'openstreetmap', 'attribution': '© OpenStreetMap contributors', 'license': 'Open Database License', 'url': 'https://www.openstreetmap.org/copyright', 'raw': {'name': 'The Ashe Hotel', 'phone': '00353667129888', 'osm_id': 2365226694, 'tourism': 'hotel', 'old_name': 'Abbey Gate Hotel', 'osm_type': 'n', 'wikidata': 'Q111650578', 'wheelchair': 'yes', 'addr:street': 'Maine Street'}}, 'name_other': {'old_name': 'Abbey Gate Hotel'}, 'contact': {'phone': '00353667129888'}, 'facilities': {'wheelchair': True}, 'wiki_and_media': {'wikidata': 'Q111650578'}, 'distance': 140, 'place_id': '5119fcfd62b66823c0591d998bc3aa224a40f00103f901c67efa8c0000000092030e546865204173686520486f74656c'}, 'geometry': {'type': 'Point', 'coordinates': [-9.704516499999999, 52.27083629909814]}}]}\n",
      "tralee - nearest hotel: The Ashe Hotel\n",
      "{'type': 'FeatureCollection', 'features': [{'type': 'Feature', 'properties': {'name': 'Norwalk Inn and Conference Center', 'country': 'United States', 'country_code': 'us', 'state': 'Connecticut', 'county': 'Western Connecticut Planning Region', 'city': 'Norwalk', 'hamlet': 'East Norwalk', 'postcode': '06851', 'street': 'East Avenue', 'housenumber': '99', 'lon': -73.40676184585676, 'lat': 41.1166885, 'state_code': 'CT', 'formatted': 'Norwalk Inn and Conference Center, 99 East Avenue, Norwalk, CT 06851, United States of America', 'address_line1': 'Norwalk Inn and Conference Center', 'address_line2': '99 East Avenue, Norwalk, CT 06851, United States of America', 'categories': ['accommodation', 'accommodation.hotel', 'building', 'building.accommodation'], 'details': ['details', 'details.contact'], 'datasource': {'sourcename': 'openstreetmap', 'attribution': '© OpenStreetMap contributors', 'license': 'Open Database License', 'url': 'https://www.openstreetmap.org/copyright', 'raw': {'name': 'Norwalk Inn and Conference Center', 'phone': '1-203-838-2000', 'osm_id': 588719486, 'tourism': 'hotel', 'website': 'https://norwalkinn.com/', 'building': 'yes', 'osm_type': 'w', 'addr:city': 'Norwalk', 'addr:state': 'CT', 'addr:street': 'East Avenue', 'addr:postcode': '06851', 'addr:housenumber': 99}}, 'website': 'https://norwalkinn.com/', 'contact': {'phone': '1-203-838-2000'}, 'distance': 4901, 'place_id': '51c94dd662085a52c059828716a6ef8e4440f00102f9017e251723000000009203214e6f7277616c6b20496e6e20616e6420436f6e666572656e63652043656e746572'}, 'geometry': {'type': 'Point', 'coordinates': [-73.40676184585676, 41.116688500404976]}}]}\n",
      "westport - nearest hotel: Norwalk Inn and Conference Center\n",
      "{'type': 'FeatureCollection', 'features': [{'type': 'Feature', 'properties': {'name': 'Dena Hotel', 'country': 'Indonesia', 'country_code': 'id', 'region': 'Sumatra', 'state': 'Bengkulu', 'county': 'Ratu Samban', 'city': 'Bengkulu', 'village': 'Penurunan', 'postcode': '38228', 'street': 'Jalan Fatmawati 7', 'lon': 102.2650525, 'lat': -3.8006023, 'formatted': 'Dena Hotel, Jalan Fatmawati 7, Bengkulu 38228, Bengkulu, Indonesia', 'address_line1': 'Dena Hotel', 'address_line2': 'Jalan Fatmawati 7, Bengkulu 38228, Bengkulu, Indonesia', 'categories': ['accommodation', 'accommodation.hotel'], 'details': [], 'datasource': {'sourcename': 'openstreetmap', 'attribution': '© OpenStreetMap contributors', 'license': 'Open Database License', 'url': 'https://www.openstreetmap.org/copyright', 'raw': {'name': 'Dena Hotel', 'osm_id': 5368019412, 'tourism': 'hotel', 'osm_type': 'n'}}, 'distance': 55, 'place_id': '5147cec29ef690594059cdecb22da2670ec0f00103f901d479f53f0100000092030a44656e6120486f74656c'}, 'geometry': {'type': 'Point', 'coordinates': [102.26505250000001, -3.8006022997120454]}}]}\n",
      "bengkulu - nearest hotel: Dena Hotel\n",
      "{'type': 'FeatureCollection', 'features': [{'type': 'Feature', 'properties': {'name': 'La Ronge Hotel and Suites', 'country': 'Canada', 'country_code': 'ca', 'state': 'Saskatchewan', 'county': 'Division No. 18', 'city': 'La Ronge', 'postcode': 'S0J 1L0', 'street': 'La Ronge Avenue', 'housenumber': '1120', 'lon': -105.28525796564763, 'lat': 55.103691850000004, 'state_code': 'SK', 'formatted': 'La Ronge Hotel and Suites, 1120 La Ronge Avenue, La Ronge, SK S0J 1L0, Canada', 'address_line1': 'La Ronge Hotel and Suites', 'address_line2': '1120 La Ronge Avenue, La Ronge, SK S0J 1L0, Canada', 'categories': ['accommodation', 'accommodation.hotel', 'building', 'building.accommodation'], 'details': [], 'datasource': {'sourcename': 'openstreetmap', 'attribution': '© OpenStreetMap contributors', 'license': 'Open Database License', 'url': 'https://www.openstreetmap.org/copyright', 'raw': {'name': 'La Ronge Hotel and Suites', 'osm_id': 315704628, 'tourism': 'hotel', 'building': 'hotel', 'osm_type': 'w', 'addr:city': 'La Ronge', 'addr:street': 'La Ronge Avenue', 'addr:postcode': 'S0J 1L0', 'addr:housenumber': 1120}}, 'building': {'type': 'hotel'}, 'distance': 388, 'place_id': '515558a0aa41525ac059802147c6458d4b40f00102f9013445d112000000009203194c6120526f6e676520486f74656c20616e6420537569746573'}, 'geometry': {'type': 'Point', 'coordinates': [-105.28525796564766, 55.103691849452844]}}]}\n",
      "la ronge - nearest hotel: La Ronge Hotel and Suites\n",
      "{'type': 'FeatureCollection', 'features': [{'type': 'Feature', 'properties': {'name': 'هتل پردیسان', 'country': 'Iran', 'country_code': 'ir', 'state': 'Markazi Province', 'county': 'Tafresh County', 'city': 'Tafresh', 'district': 'بخش مرکزی تفرش', 'neighbourhood': 'zaghram', 'street': 'پردیس', 'lon': 50.01481756917511, 'lat': 34.693669, 'formatted': 'Pardisan, Tafresh, پردیس, Markazi Province, Iran', 'address_line1': 'Pardisan', 'address_line2': 'Tafresh, پردیس, Markazi Province, Iran', 'categories': ['accommodation', 'accommodation.hotel', 'building', 'building.accommodation', 'wheelchair', 'wheelchair.yes'], 'details': ['details', 'details.facilities'], 'datasource': {'sourcename': 'openstreetmap', 'attribution': '© OpenStreetMap contributors', 'license': 'Open Database License', 'url': 'https://www.openstreetmap.org/copyright', 'raw': {'name': 'هتل پردیسان', 'level': 4, 'osm_id': 304658157, 'name:en': 'Pardisan', 'smoking': 'outside', 'tourism': 'hotel', 'building': 'yes', 'operator': 'mr fazli', 'osm_type': 'w', 'wheelchair': 'yes'}}, 'operator': 'mr fazli', 'name_international': {'en': 'Pardisan'}, 'facilities': {'wheelchair': True, 'smoking': True}, 'distance': 231, 'place_id': '51b381c78ae501494059e5d55125ca584140f00102f901edb6281200000000920315d987d8aad98420d9bed8b1d8afdb8cd8b3d8a7d986'}, 'geometry': {'type': 'Point', 'coordinates': [50.0148175691751, 34.6936689996326]}}]}\n",
      "tafresh - nearest hotel: هتل پردیسان\n",
      "{'type': 'FeatureCollection', 'features': [{'type': 'Feature', 'properties': {'name': 'Núpan Deluxe', 'country': 'Iceland', 'country_code': 'is', 'county': 'Southern Peninsula', 'city': 'Keflavík', 'postcode': '230', 'suburb': 'Ytri-Njarðvík', 'street': 'Aðalgata', 'housenumber': '10', 'lon': -22.5592329, 'lat': 64.0041852, 'formatted': 'Núpan Deluxe, Aðalgata 10, 230 Keflavík, Iceland', 'address_line1': 'Núpan Deluxe', 'address_line2': 'Aðalgata 10, 230 Keflavík, Iceland', 'categories': ['accommodation', 'accommodation.hotel'], 'details': ['details', 'details.contact'], 'datasource': {'sourcename': 'openstreetmap', 'attribution': '© OpenStreetMap contributors', 'license': 'Open Database License', 'url': 'https://www.openstreetmap.org/copyright', 'raw': {'name': 'Núpan Deluxe', 'phone': '+354 565 3333', 'osm_id': 8482494481, 'tourism': 'hotel', 'website': 'https://www.hotelnupan.com/', 'osm_type': 'n', 'addr:city': 'Reykjanesbær', 'addr:street': 'Aðalgata', 'addr:postcode': 230, 'addr:housenumber': 10}}, 'website': 'https://www.hotelnupan.com/', 'contact': {'phone': '+354 565 3333'}, 'distance': 174, 'place_id': '51e55828e3298f36c059ae5b009244005040f00103f901119898f90100000092030d4ec3ba70616e2044656c757865'}, 'geometry': {'type': 'Point', 'coordinates': [-22.5592329, 64.00418520007108]}}]}\n",
      "keflavik - nearest hotel: Núpan Deluxe\n",
      "{'type': 'FeatureCollection', 'features': [{'type': 'Feature', 'properties': {'name': 'Olallieberry Inn', 'country': 'United States', 'country_code': 'us', 'state': 'California', 'county': 'San Luis Obispo County', 'city': 'Cambria', 'hamlet': 'East Village', 'postcode': '93428', 'street': 'Main Street', 'housenumber': '2476', 'lon': -121.07970765252357, 'lat': 35.56542485, 'state_code': 'CA', 'formatted': 'Olallieberry Inn, 2476 Main Street, Cambria, CA 93428, United States of America', 'address_line1': 'Olallieberry Inn', 'address_line2': '2476 Main Street, Cambria, CA 93428, United States of America', 'categories': ['accommodation', 'accommodation.hotel', 'building', 'building.accommodation'], 'details': [], 'datasource': {'sourcename': 'openstreetmap', 'attribution': '© OpenStreetMap contributors', 'license': 'Open Database License', 'url': 'https://www.openstreetmap.org/copyright', 'raw': {'name': 'Olallieberry Inn', 'osm_id': 168226179, 'tourism': 'hotel', 'building': 'yes', 'osm_type': 'w', 'addr:city': 'Cambria', 'addr:full': '2476 Main Street', 'addr:state': 'CA', 'addr:street': 'Main Street', 'addr:postcode': 93428, 'addr:housenumber': 2476}}, 'distance': 165, 'place_id': '51183520ee19455ec059ace46ad75fc84140f00102f90183ed060a000000009203104f6c616c6c6965626572727920496e6e'}, 'geometry': {'type': 'Point', 'coordinates': [-121.07970765252355, 35.56542484969518]}}]}\n",
      "cambria - nearest hotel: Olallieberry Inn\n",
      "{'type': 'FeatureCollection', 'features': [{'type': 'Feature', 'properties': {'name': 'Серебряный створ', 'country': 'Russia', 'country_code': 'ru', 'region': 'Far Eastern Federal District', 'state': 'Amur Oblast', 'county': 'городской округ Зея', 'city': 'Zeya', 'postcode': '676244', 'suburb': 'Светлый микрорайон', 'street': 'улица Шохина', 'housenumber': '4', 'lon': 127.2766497, 'lat': 53.7533505, 'formatted': 'Серебряный створ, улица Шохина 4, Светлый микрорайон, Zeya, Amur Oblast, Russia, 676244', 'address_line1': 'Серебряный створ', 'address_line2': 'улица Шохина 4, Светлый микрорайон, Zeya, Amur Oblast, Russia, 676244', 'categories': ['accommodation', 'accommodation.hotel'], 'details': [], 'datasource': {'sourcename': 'openstreetmap', 'attribution': '© OpenStreetMap contributors', 'license': 'Open Database License', 'url': 'https://www.openstreetmap.org/copyright', 'raw': {'name': 'Серебряный створ', 'osm_id': 5530170268, 'tourism': 'hotel', 'osm_type': 'n'}}, 'distance': 755, 'place_id': '51ad7cf1a0b4d15f40593d2206ca6de04a40f00103f9019cb39f490100000092031fd0a1d0b5d180d0b5d0b1d180d18fd0bdd18bd0b920d181d182d0b2d0bed180'}, 'geometry': {'type': 'Point', 'coordinates': [127.27664969999996, 53.75335049914836]}}]}\n",
      "zeya - nearest hotel: Серебряный створ\n"
     ]
    },
    {
     "name": "stderr",
     "output_type": "stream",
     "text": [
      "ERROR:root:Error message:\n",
      "Traceback (most recent call last):\n",
      "  File \"C:\\Users\\Moburu\\AppData\\Local\\Temp\\ipykernel_26060\\1195407018.py\", line 36, in <module>\n",
      "    hotel_df.loc[index, \"Hotel Name\"] = name_address[\"features\"][0][\"properties\"][\"name\"]\n",
      "                                        ~~~~~~~~~~~~~~~~~~~~~~~~~~~~~~~~~~~~~~~~~^^^^^^^^\n",
      "KeyError: 'name'\n"
     ]
    },
    {
     "name": "stdout",
     "output_type": "stream",
     "text": [
      "{'type': 'FeatureCollection', 'features': [{'type': 'Feature', 'properties': {'country': 'China', 'country_code': 'cn', 'state': 'Hainan Province', 'city': 'Tianya District', 'postcode': '572012', 'street': 'Jiefang Road', 'lon': 109.5009709, 'lat': 18.2475244, 'formatted': 'Jiefang Road, 572012 Hainan Province, China', 'address_line1': 'Jiefang Road', 'address_line2': '572012 Hainan Province, China', 'categories': ['accommodation', 'accommodation.hotel', 'internet_access'], 'details': ['details', 'details.facilities'], 'datasource': {'sourcename': 'openstreetmap', 'attribution': '© OpenStreetMap contributors', 'license': 'Open Database License', 'url': 'https://www.openstreetmap.org/copyright', 'raw': {'osm_id': 6244732285, 'name:ru': 'Хубаёши', 'tourism': 'hotel', 'osm_type': 'n', 'internet_access': 'wlan'}}, 'name_international': {'ru': 'Хубаёши'}, 'facilities': {'internet_access': True}, 'distance': 649, 'place_id': '51daef3fe80f605b40596f0f54c25d3f3240f00103f9017d0d377401000000'}, 'geometry': {'type': 'Point', 'coordinates': [109.5009709, 18.24752440025571]}}]}\n",
      "sanya - nearest hotel: No hotel found\n",
      "{'type': 'FeatureCollection', 'features': [{'type': 'Feature', 'properties': {'name': 'TG Hôtel Covè', 'country': 'Benin', 'country_code': 'bj', 'state': 'Zou Department', 'county': 'Covè', 'city': 'Covè', 'street': 'RNIE 4', 'lon': 2.3267907, 'lat': 7.2197123, 'formatted': 'TG Hôtel Covè, RNIE 4, Covè, Benin', 'address_line1': 'TG Hôtel Covè', 'address_line2': 'RNIE 4, Covè, Benin', 'categories': ['accommodation', 'accommodation.hotel'], 'details': [], 'datasource': {'sourcename': 'openstreetmap', 'attribution': '© OpenStreetMap contributors', 'license': 'Open Database License', 'url': 'https://www.openstreetmap.org/copyright', 'raw': {'name': 'TG Hôtel Covè', 'osm_id': 6517728686, 'tourism': 'hotel', 'osm_type': 'n'}}, 'distance': 1488, 'place_id': '5178184971449d0240590aced142fce01c40f00103f901aea57c840100000092030f54472048c3b474656c20436f76c3a8'}, 'geometry': {'type': 'Point', 'coordinates': [2.3267907, 7.219712299399825]}}]}\n",
      "cove - nearest hotel: TG Hôtel Covè\n",
      "{'type': 'FeatureCollection', 'features': [{'type': 'Feature', 'properties': {'name': 'موقع .٢ مشروع فندق', 'country': 'Thailand', 'country_code': 'th', 'county': 'Pattani Province', 'city': 'Ban Ba Ngo', 'municipality': 'Tro Bon', 'postcode': '94110', 'street': '42', 'lon': 101.5551642, 'lat': 6.690475, 'formatted': 'موقع .٢ مشروع فندق, 42, Ban Ba Ngo, 94110, Thailand', 'address_line1': 'موقع .٢ مشروع فندق', 'address_line2': '42, Ban Ba Ngo, 94110, Thailand', 'categories': ['accommodation', 'accommodation.hotel'], 'details': ['details'], 'datasource': {'sourcename': 'openstreetmap', 'attribution': '© OpenStreetMap contributors', 'license': 'Open Database License', 'url': 'https://www.openstreetmap.org/copyright', 'raw': {'osm_id': 4497806491, 'name:en': 'موقع .٢ مشروع فندق', 'tourism': 'hotel', 'osm_type': 'n'}}, 'name_international': {'en': 'موقع .٢ مشروع فندق'}, 'distance': 6919, 'place_id': '513dba6ccf876359405989c5d4e00bc31a40f00103f9019b14170c01000000'}, 'geometry': {'type': 'Point', 'coordinates': [101.5551642, 6.690474999414968]}}]}\n",
      "sai buri - nearest hotel: موقع .٢ مشروع فندق\n",
      "{'type': 'FeatureCollection', 'features': [{'type': 'Feature', 'properties': {'name': 'Vicentina Hotel', 'country': 'Portugal', 'country_code': 'pt', 'county': 'Faro', 'city': 'Aljezur', 'postcode': '8670-001', 'district': 'Aljezur', 'neighbourhood': 'Igreja Nova', 'street': 'Avenida General Humberto Delgado', 'lon': -8.7985231, 'lat': 37.3176085, 'formatted': 'Vicentina Hotel, Avenida General Humberto Delgado, 8670-001 Aljezur, Portugal', 'address_line1': 'Vicentina Hotel', 'address_line2': 'Avenida General Humberto Delgado, 8670-001 Aljezur, Portugal', 'categories': ['accommodation', 'accommodation.hotel'], 'details': [], 'datasource': {'sourcename': 'openstreetmap', 'attribution': '© OpenStreetMap contributors', 'license': 'Open Database License', 'url': 'https://www.openstreetmap.org/copyright', 'raw': {'name': 'Vicentina Hotel', 'osm_id': 4419450079, 'tourism': 'hotel', 'osm_type': 'n', 'addr:city': 'Aljezur', 'addr:street': 'Avenida General Humberto Delgado', 'addr:postcode': '8670-001'}}, 'distance': 455, 'place_id': '517a330f05d89821c05933fa3365a7a84240f00103f901df746b070100000092030f566963656e74696e6120486f74656c'}, 'geometry': {'type': 'Point', 'coordinates': [-8.7985231, 37.317608499888955]}}]}\n",
      "aljezur - nearest hotel: Vicentina Hotel\n"
     ]
    },
    {
     "name": "stderr",
     "output_type": "stream",
     "text": [
      "ERROR:root:Error message:\n",
      "Traceback (most recent call last):\n",
      "  File \"C:\\Users\\Moburu\\AppData\\Local\\Temp\\ipykernel_26060\\1195407018.py\", line 36, in <module>\n",
      "    hotel_df.loc[index, \"Hotel Name\"] = name_address[\"features\"][0][\"properties\"][\"name\"]\n",
      "                                        ~~~~~~~~~~~~~~~~~~~~~~~~^^^\n",
      "IndexError: list index out of range\n"
     ]
    },
    {
     "name": "stdout",
     "output_type": "stream",
     "text": [
      "{'type': 'FeatureCollection', 'features': []}\n",
      "copala - nearest hotel: No hotel found\n"
     ]
    },
    {
     "name": "stderr",
     "output_type": "stream",
     "text": [
      "ERROR:root:Error message:\n",
      "Traceback (most recent call last):\n",
      "  File \"C:\\Users\\Moburu\\AppData\\Local\\Temp\\ipykernel_26060\\1195407018.py\", line 36, in <module>\n",
      "    hotel_df.loc[index, \"Hotel Name\"] = name_address[\"features\"][0][\"properties\"][\"name\"]\n",
      "                                        ~~~~~~~~~~~~~~~~~~~~~~~~~~~~~~~~~~~~~~~~~^^^^^^^^\n",
      "KeyError: 'name'\n"
     ]
    },
    {
     "name": "stdout",
     "output_type": "stream",
     "text": [
      "{'type': 'FeatureCollection', 'features': [{'type': 'Feature', 'properties': {'country': 'Saudi Arabia', 'country_code': 'sa', 'state': 'Makkah Region', 'county': 'Al Taif', 'city': 'Ash Shafa', 'postcode': '26513', 'district': 'أم العراد', 'street': 'Ash Shafa Road', 'lon': 40.2864405, 'lat': 21.0935065, 'formatted': 'Ash Shafa Road, Ash Shafa 26513, Saudi Arabia', 'address_line1': 'Ash Shafa Road', 'address_line2': 'Ash Shafa 26513, Saudi Arabia', 'categories': ['accommodation', 'accommodation.hotel'], 'details': [], 'datasource': {'sourcename': 'openstreetmap', 'attribution': '© OpenStreetMap contributors', 'license': 'Open Database License', 'url': 'https://www.openstreetmap.org/copyright', 'raw': {'osm_id': 553677720, 'tourism': 'hotel', 'osm_type': 'n'}}, 'distance': 3758, 'place_id': '51fcdf1115aa24444059f434c10af0173540f00103f9019873002100000000'}, 'geometry': {'type': 'Point', 'coordinates': [40.2864405, 21.093506500405923]}}]}\n",
      "ash shafa - nearest hotel: No hotel found\n",
      "{'type': 'FeatureCollection', 'features': [{'type': 'Feature', 'properties': {'name': 'Win', 'country': 'Madagascar', 'country_code': 'mg', 'state': 'Vatovavy', 'county': 'District de Ifanadiana', 'city': 'Ifanadiana', 'village': 'Mangarivotra', 'district': 'Mazavatakona', 'street': 'N 25', 'lon': 47.636548412287624, 'lat': -21.3030684, 'formatted': 'Win, N 25, Ifanadiana, Madagascar', 'address_line1': 'Win', 'address_line2': 'N 25, Ifanadiana, Madagascar', 'categories': ['accommodation', 'accommodation.hotel'], 'details': ['details.facilities'], 'datasource': {'sourcename': 'openstreetmap', 'attribution': '© OpenStreetMap contributors', 'license': 'Open Database License', 'url': 'https://www.openstreetmap.org/copyright', 'raw': {'name': 'Win', 'osm_id': 1184146003, 'tourism': 'hotel', 'osm_type': 'w', 'addr:city': 'Ifanadiana', 'internet_access': 'no'}}, 'facilities': {'internet_access': False}, 'distance': 446, 'place_id': '514a8c1a6b7ad147405968a203e4954d35c0f00102f90153a294460000000092030357696e'}, 'geometry': {'type': 'Point', 'coordinates': [47.63654841228761, -21.30306840027552]}}]}\n",
      "ifanadiana - nearest hotel: Win\n",
      "{'type': 'FeatureCollection', 'features': [{'type': 'Feature', 'properties': {'name': 'the Hoxton', 'old_name': 'Grove Hotel', 'country': 'United States', 'country_code': 'us', 'state': 'Oregon', 'county': 'Multnomah County', 'city': 'Portland', 'postcode': '97240', 'district': 'Chinatown', 'suburb': 'Old Town', 'street': 'West Burnside Street', 'lon': -122.67474575, 'lat': 45.5233876, 'state_code': 'OR', 'formatted': 'the Hoxton, West Burnside Street, Portland, OR 97240, United States of America', 'address_line1': 'the Hoxton', 'address_line2': 'West Burnside Street, Portland, OR 97240, United States of America', 'categories': ['accommodation', 'accommodation.hotel', 'building', 'building.accommodation'], 'details': ['details', 'details.building', 'details.wiki_and_media'], 'datasource': {'sourcename': 'openstreetmap', 'attribution': '© OpenStreetMap contributors', 'license': 'Open Database License', 'url': 'https://www.openstreetmap.org/copyright', 'raw': {'name': 'the Hoxton', 'osm_id': 685386383, 'tourism': 'hotel', 'building': 'yes', 'old_name': 'Grove Hotel', 'osm_type': 'w', 'wikidata': 'Q111394114', 'building:levels': 1}}, 'name_other': {'old_name': 'Grove Hotel'}, 'wiki_and_media': {'wikidata': 'Q111394114'}, 'building': {'levels': 1}, 'distance': 70, 'place_id': '515c57cc082fab5ec0593872695dfec24640f00102f9018f2ada280000000092030a74686520486f78746f6e'}, 'geometry': {'type': 'Point', 'coordinates': [-122.67474575, 45.523387600409876]}}]}\n",
      "portland - nearest hotel: the Hoxton\n",
      "{'type': 'FeatureCollection', 'features': [{'type': 'Feature', 'properties': {'name': 'Hotel Kasbah Azalay', 'country': 'Morocco', 'country_code': 'ma', 'state': 'Drâa-Tafilalet', 'state_district': 'Zagora Province', 'county': 'Cercle de Zagora دائرة زاكورة', 'city': \"M'Hamid El Ghizlane\", 'municipality': \"caïdat de M'Hamid\", 'postcode': '47404', 'street': 'RN9', 'lon': -5.718188, 'lat': 29.8211009, 'formatted': \"Hotel Kasbah Azalay, RN9, 47404 M'Hamid El Ghizlane, Morocco\", 'address_line1': 'Hotel Kasbah Azalay', 'address_line2': \"RN9, 47404 M'Hamid El Ghizlane, Morocco\", 'categories': ['accommodation', 'accommodation.hotel'], 'details': [], 'datasource': {'sourcename': 'openstreetmap', 'attribution': '© OpenStreetMap contributors', 'license': 'Open Database License', 'url': 'https://www.openstreetmap.org/copyright', 'raw': {'name': 'Hotel Kasbah Azalay', 'osm_id': 5506469596, 'tourism': 'hotel', 'osm_type': 'n'}}, 'distance': 213, 'place_id': '51c284d1ac6cdf16c0591c2b27ab33d23d40f00103f901dc0e364801000000920313486f74656c204b617362616820417a616c6179'}, 'geometry': {'type': 'Point', 'coordinates': [-5.718188, 29.821100899756047]}}]}\n",
      "mhamid - nearest hotel: Hotel Kasbah Azalay\n"
     ]
    },
    {
     "name": "stderr",
     "output_type": "stream",
     "text": [
      "ERROR:root:Error message:\n",
      "Traceback (most recent call last):\n",
      "  File \"C:\\Users\\Moburu\\AppData\\Local\\Temp\\ipykernel_26060\\1195407018.py\", line 36, in <module>\n",
      "    hotel_df.loc[index, \"Hotel Name\"] = name_address[\"features\"][0][\"properties\"][\"name\"]\n",
      "                                        ~~~~~~~~~~~~~~~~~~~~~~~~^^^\n",
      "IndexError: list index out of range\n"
     ]
    },
    {
     "name": "stdout",
     "output_type": "stream",
     "text": [
      "{'type': 'FeatureCollection', 'features': []}\n",
      "rongelap - nearest hotel: No hotel found\n",
      "{'type': 'FeatureCollection', 'features': [{'type': 'Feature', 'properties': {'name': 'Okanagan Royal Park Inn', 'country': 'Canada', 'country_code': 'ca', 'state': 'British Columbia', 'county': 'Regional District of North Okanagan', 'city': 'Vernon', 'postcode': 'V1T 9S3', 'street': '25 Avenue', 'housenumber': '3200', 'lon': -119.27409689882703, 'lat': 50.2602827, 'state_code': 'BC', 'formatted': 'Okanagan Royal Park Inn, 3200 25 Ave nue, Vernon, BC V1T 9S3, Canada', 'address_line1': 'Okanagan Royal Park Inn', 'address_line2': '3200 25 Ave nue, Vernon, BC V1T 9S3, Canada', 'categories': ['accommodation', 'accommodation.hotel', 'building', 'building.accommodation', 'internet_access'], 'details': ['details', 'details.contact', 'details.facilities'], 'datasource': {'sourcename': 'openstreetmap', 'attribution': '© OpenStreetMap contributors', 'license': 'Open Database License', 'url': 'https://www.openstreetmap.org/copyright', 'raw': {'name': 'Okanagan Royal Park Inn', 'phone': '+1-236-426-3500', 'osm_id': 698770002, 'tourism': 'hotel', 'website': 'https://okanaganroyalparkinn.business.site/', 'building': 'yes', 'osm_type': 'w', 'addr:street': '25 Avenue', 'internet_access': 'wlan', 'addr:housenumber': 3200}}, 'website': 'https://okanaganroyalparkinn.business.site/', 'contact': {'phone': '+1-236-426-3500'}, 'facilities': {'internet_access': True}, 'distance': 422, 'place_id': '516919b8cd8ad15dc059a0ce88f150214940f00102f9015262a629000000009203174f6b616e6167616e20526f79616c205061726b20496e6e'}, 'geometry': {'type': 'Point', 'coordinates': [-119.27409689882701, 50.260282699394565]}}]}\n",
      "vernon - nearest hotel: Okanagan Royal Park Inn\n",
      "{'type': 'FeatureCollection', 'features': [{'type': 'Feature', 'properties': {'name': 'Kapejar Hotel', 'country': 'Brazil', 'country_code': 'br', 'region': 'North Region', 'state': 'Pará', 'county': 'Região Geográfica Intermediária de Altamira', 'city': 'Almeirim', 'municipality': 'Região Geográfica Imediata de Almeirim - Porto de Moz', 'postcode': '68230-000', 'district': 'Almeirim', 'street': 'Travessa Chicaia', 'lon': -52.577352270389994, 'lat': -1.5313724, 'state_code': 'PA', 'formatted': 'Kapejar Hotel, Travessa Chicaia, Almeirim - PA, 68230-000, Brazil', 'address_line1': 'Kapejar Hotel', 'address_line2': 'Travessa Chicaia, Almeirim - PA, 68230-000, Brazil', 'categories': ['accommodation', 'accommodation.hotel', 'building', 'building.accommodation'], 'details': [], 'datasource': {'sourcename': 'openstreetmap', 'attribution': '© OpenStreetMap contributors', 'license': 'Open Database License', 'url': 'https://www.openstreetmap.org/copyright', 'raw': {'name': 'Kapejar Hotel', 'osm_id': 249796467, 'tourism': 'hotel', 'building': 'yes', 'osm_type': 'w'}}, 'distance': 997, 'place_id': '5156ccdfade6494ac059f20476588080f8bff00102f9017397e30e0000000092030d4b6170656a617220486f74656c'}, 'geometry': {'type': 'Point', 'coordinates': [-52.577352270389994, -1.5313723998554534]}}]}\n",
      "almeirim - nearest hotel: Kapejar Hotel\n",
      "{'type': 'FeatureCollection', 'features': [{'type': 'Feature', 'properties': {'name': 'Sunshine Inn Hotel', 'country': 'Canada', 'country_code': 'ca', 'state': 'British Columbia', 'county': 'Regional District of Bulkley-Nechako', 'city': 'Smithers', 'postcode': 'V0J 2N3', 'street': '4th Avenue', 'housenumber': '3880', 'lon': -127.1693475, 'lat': 54.7826461, 'state_code': 'BC', 'formatted': 'Sunshine Inn Hotel, 3880 4th Avenue, Smithers, BC V0J 2N3, Canada', 'address_line1': 'Sunshine Inn Hotel', 'address_line2': '3880 4th Avenue, Smithers, BC V0J 2N3, Canada', 'categories': ['accommodation', 'accommodation.hotel', 'internet_access', 'wheelchair', 'wheelchair.yes'], 'details': ['details', 'details.contact', 'details.facilities'], 'datasource': {'sourcename': 'openstreetmap', 'attribution': '© OpenStreetMap contributors', 'license': 'Open Database License', 'url': 'https://www.openstreetmap.org/copyright', 'raw': {'name': 'Sunshine Inn Hotel', 'email': 'smithers@sunshineinn.ca', 'phone': '+1-250-847-6668', 'osm_id': 5736538422, 'tourism': 'hotel', 'website': 'https://sunshineinn.ca/', 'osm_type': 'n', 'addr:city': 'Smithers', 'check_date': '2023-07-30', 'wheelchair': 'yes', 'addr:street': '4th Avenue', 'addr:postcode': 'V0J 2N3', 'internet_access': 'wlan', 'addr:housenumber': 3880, 'toilets:wheelchair': 'yes'}}, 'website': 'https://sunshineinn.ca/', 'contact': {'phone': '+1-250-847-6668', 'email': 'smithers@sunshineinn.ca'}, 'facilities': {'internet_access': True, 'wheelchair': True, 'toilets': True}, 'distance': 405, 'place_id': '51328ae596d6ca5fc0599c8a54bf2d644b40f00103f90136a1ec550100000092031253756e7368696e6520496e6e20486f74656c'}, 'geometry': {'type': 'Point', 'coordinates': [-127.16934749999999, 54.782646099357606]}}]}\n",
      "smithers - nearest hotel: Sunshine Inn Hotel\n",
      "{'type': 'FeatureCollection', 'features': [{'type': 'Feature', 'properties': {'name': 'President Hotel', 'country': 'Fiji', 'country_code': 'fj', 'state': 'Western', 'county': 'Ba', 'city': 'Nadi', 'street': 'Andrews Road', 'housenumber': '8', 'lon': 177.41706640474, 'lat': -17.799840850000002, 'formatted': 'President Hotel, 8 Andrews Road, Nadi, Fiji', 'address_line1': 'President Hotel', 'address_line2': '8 Andrews Road, Nadi, Fiji', 'categories': ['accommodation', 'accommodation.hotel', 'building', 'building.accommodation'], 'details': ['details'], 'datasource': {'sourcename': 'openstreetmap', 'attribution': '© OpenStreetMap contributors', 'license': 'Open Database License', 'url': 'https://www.openstreetmap.org/copyright', 'raw': {'name': 'President Hotel', 'osm_id': 1082767876, 'tourism': 'hotel', 'website': 'http://the-president-hotel.hotel-fiji.com/', 'building': 'yes', 'osm_type': 'w', 'addr:city': 'Nadi', 'addr:street': 'Andrews Road', 'addr:housenumber': 8}}, 'website': 'http://the-president-hotel.hotel-fiji.com/', 'distance': 28, 'place_id': '51cc13a59b582d6640596ccbb65ec2cc31c0f00102f90104ba89400000000092030f507265736964656e7420486f74656c'}, 'geometry': {'type': 'Point', 'coordinates': [177.41706640474, -17.799840850474922]}}]}\n",
      "nadi - nearest hotel: President Hotel\n",
      "{'type': 'FeatureCollection', 'features': [{'type': 'Feature', 'properties': {'name': 'Four Points by Sheraton', 'country': 'United States', 'country_code': 'us', 'state': 'Massachusetts', 'county': 'Barnstable County', 'city': 'Eastham', 'postcode': '02642', 'street': 'State Highway', 'housenumber': '3800', 'lon': -69.98503204324129, 'lat': 41.8468457, 'state_code': 'MA', 'formatted': 'Four Points by Sheraton, 3800 State Highway, Eastham, MA 02642, United States of America', 'address_line1': 'Four Points by Sheraton', 'address_line2': '3800 State Highway, Eastham, MA 02642, United States of America', 'categories': ['accommodation', 'accommodation.hotel', 'building', 'building.accommodation'], 'details': ['details'], 'datasource': {'sourcename': 'openstreetmap', 'attribution': '© OpenStreetMap contributors', 'license': 'Open Database License', 'url': 'https://www.openstreetmap.org/copyright', 'raw': {'name': 'Four Points by Sheraton', 'brand': 'Four Points by Sheraton', 'osm_id': 212922554, 'tourism': 'hotel', 'website': 'https://www.starwoodhotels.com/fourpoints/property/overview/index.html?propertyID=786&language=en_US', 'building': 'yes', 'osm_type': 'w', 'short_name': 'Four Points', 'addr:street': 'State Highway', 'brand:wikidata': 'Q1439966', 'addr:housenumber': 3800}}, 'website': 'https://www.starwoodhotels.com/fourpoints/property/overview/index.html?propertyID=786&language=en_US', 'brand': 'Four Points by Sheraton', 'brand_details': {'wikidata': 'Q1439966'}, 'name_other': {'short_name': 'Four Points'}, 'distance': 2025, 'place_id': '51f0ced6c30a7f51c059d8259e7065ec4440f00102f901baf0b00c00000000920317466f757220506f696e7473206279205368657261746f6e'}, 'geometry': {'type': 'Point', 'coordinates': [-69.98503204324129, 41.846845700474375]}}]}\n",
      "eastham - nearest hotel: Four Points by Sheraton\n",
      "{'type': 'FeatureCollection', 'features': [{'type': 'Feature', 'properties': {'name': 'Hotel Roxy', 'country': 'Chile', 'country_code': 'cl', 'state': 'Coquimbo Region', 'county': 'Provincia de Limarí', 'city': 'Ovalle', 'postcode': '1840612', 'district': 'Villa Los Acasios', 'street': 'Libertad', 'lon': -71.2006723, 'lat': -30.6014578, 'formatted': 'Hotel Roxy, Libertad, 184 0612 Ovalle, Chile', 'address_line1': 'Hotel Roxy', 'address_line2': 'Libertad, 184 0612 Ovalle, Chile', 'categories': ['accommodation', 'accommodation.hotel'], 'details': [], 'datasource': {'sourcename': 'openstreetmap', 'attribution': '© OpenStreetMap contributors', 'license': 'Open Database License', 'url': 'https://www.openstreetmap.org/copyright', 'raw': {'name': 'Hotel Roxy', 'osm_id': 1739907469, 'tourism': 'hotel', 'osm_type': 'n'}}, 'distance': 352, 'place_id': '51a36da1d0d7cc51c059de076a23f9993ec0f00103f9018de1b4670000000092030a486f74656c20526f7879'}, 'geometry': {'type': 'Point', 'coordinates': [-71.2006723, -30.601457799326333]}}]}\n",
      "ovalle - nearest hotel: Hotel Roxy\n",
      "{'type': 'FeatureCollection', 'features': [{'type': 'Feature', 'properties': {'name': 'DoubleTree by Hilton Jefferson City', 'ref': 'JEFDTDT', 'country': 'United States', 'country_code': 'us', 'state': 'Missouri', 'county': 'Cole County', 'city': 'Jefferson City', 'postcode': '65101', 'street': 'Monroe Street', 'housenumber': '422', 'lon': -92.17231306998235, 'lat': 38.5735764, 'state_code': 'MO', 'formatted': 'DoubleTree by Hilton Jefferson City, 422 Monroe Street, Jefferson City, MO 65101, United States of America', 'address_line1': 'DoubleTree by Hilton Jefferson City', 'address_line2': '422 Monroe Street, Jefferson City, MO 65101, United States of America', 'categories': ['accommodation', 'accommodation.hotel', 'building', 'building.accommodation', 'internet_access'], 'details': ['details', 'details.facilities'], 'datasource': {'sourcename': 'openstreetmap', 'attribution': '© OpenStreetMap contributors', 'license': 'Open Database License', 'url': 'https://www.openstreetmap.org/copyright', 'raw': {'ref': 'JEFDTDT', 'name': 'DoubleTree by Hilton Jefferson City', 'brand': 'DoubleTree', 'branch': 'Hotel Jefferson City', 'osm_id': 451675893, 'smoking': 'no', 'tourism': 'hotel', 'website': 'https://www.hilton.com/en/hotels/jefdtdt-doubletree-jefferson-city/', 'building': 'yes', 'osm_type': 'w', 'addr:city': 'Jefferson City', 'addr:state': 'MO', 'addr:street': 'Monroe Street', 'description': 'Classic downtown hotel with free WiFi, plus a penthouse restaurant & an indoor pool.', 'addr:postcode': 65101, 'official_name': 'DoubleTree by Hilton', 'brand:wikidata': 'Q2504643', 'internet_access': 'wlan', 'addr:housenumber': 422}}, 'website': 'https://www.hilton.com/en/hotels/jefdtdt-doubletree-jefferson-city/', 'brand': 'DoubleTree', 'brand_details': {'wikidata': 'Q2504643'}, 'branch': 'Hotel Jefferson City', 'description': 'Classic downtown hotel with free WiFi, plus a penthouse restaurant & an indoor pool.', 'name_other': {'official_name': 'DoubleTree by Hilton'}, 'facilities': {'internet_access': True, 'smoking': False}, 'distance': 337, 'place_id': '51d90f662d070b57c0592c0494f36a494340f00102f901f506ec1a00000000920323446f75626c65547265652062792048696c746f6e204a6566666572736f6e2043697479'}, 'geometry': {'type': 'Point', 'coordinates': [-92.17231306998237, 38.57357640006407]}}]}\n",
      "jefferson city - nearest hotel: DoubleTree by Hilton Jefferson City\n"
     ]
    },
    {
     "name": "stderr",
     "output_type": "stream",
     "text": [
      "ERROR:root:Error message:\n",
      "Traceback (most recent call last):\n",
      "  File \"C:\\Users\\Moburu\\AppData\\Local\\Temp\\ipykernel_26060\\1195407018.py\", line 36, in <module>\n",
      "    hotel_df.loc[index, \"Hotel Name\"] = name_address[\"features\"][0][\"properties\"][\"name\"]\n",
      "                                        ~~~~~~~~~~~~~~~~~~~~~~~~^^^\n",
      "IndexError: list index out of range\n"
     ]
    },
    {
     "name": "stdout",
     "output_type": "stream",
     "text": [
      "{'type': 'FeatureCollection', 'features': []}\n",
      "kollo - nearest hotel: No hotel found\n",
      "{'type': 'FeatureCollection', 'features': [{'type': 'Feature', 'properties': {'name': 'Hotel Terme Colella', 'country': 'Italy', 'country_code': 'it', 'state': 'Campania', 'county': 'Napoli', 'city': 'Forio', 'postcode': '80075', 'street': 'Via Monterone', 'lon': 13.8683261, 'lat': 40.7354344, 'state_code': 'CAM', 'formatted': 'Hotel Terme Colella, Via Monterone, 80075 Forio NA, Italy', 'address_line1': 'Hotel Terme Colella', 'address_line2': 'Via Monterone, 80075 Forio NA, Italy', 'categories': ['accommodation', 'accommodation.hotel'], 'details': [], 'datasource': {'sourcename': 'openstreetmap', 'attribution': '© OpenStreetMap contributors', 'license': 'Open Database License', 'url': 'https://www.openstreetmap.org/copyright', 'raw': {'name': 'Hotel Terme Colella', 'osm_id': 4844377069, 'tourism': 'hotel', 'osm_type': 'n'}}, 'distance': 343, 'place_id': '51c586133d95bc2b4059fef3e4b6225e4440f00103f901ed53bf2001000000920313486f74656c205465726d6520436f6c656c6c61'}, 'geometry': {'type': 'Point', 'coordinates': [13.868326099999999, 40.73543440036154]}}]}\n",
      "forio - nearest hotel: Hotel Terme Colella\n",
      "{'type': 'FeatureCollection', 'features': [{'type': 'Feature', 'properties': {'name': 'Oriental', 'country': 'China', 'country_code': 'cn', 'region': 'Turpan', 'state': 'Xinjiang', 'city': 'Gaochang District', 'town': 'Putao', 'postcode': '838000', 'suburb': 'Laocheng Subdistrict', 'street': '文化中路', 'lon': 89.1753012, 'lat': 42.9420038, 'formatted': 'Oriental, 文化中路, Laocheng Subdistrict, 838000 Xinjiang, China', 'address_line1': 'Oriental', 'address_line2': '文化中路, Laocheng Subdistrict, 838000 Xinjiang, China', 'categories': ['accommodation', 'accommodation.hotel'], 'details': [], 'datasource': {'sourcename': 'openstreetmap', 'attribution': '© OpenStreetMap contributors', 'license': 'Open Database License', 'url': 'https://www.openstreetmap.org/copyright', 'raw': {'name': 'Oriental', 'osm_id': 571798456, 'tourism': 'hotel', 'osm_type': 'n'}}, 'distance': 1195, 'place_id': '51c63c8622384b564059ba009e9493784540f00103f901b8f31422000000009203084f7269656e74616c'}, 'geometry': {'type': 'Point', 'coordinates': [89.1753012, 42.94200380053503]}}]}\n",
      "turpan - nearest hotel: Oriental\n",
      "{'type': 'FeatureCollection', 'features': [{'type': 'Feature', 'properties': {'name': 'Villa Dempo Flower', 'country': 'Indonesia', 'country_code': 'id', 'region': 'Sumatra', 'state': 'South Sumatra', 'city': 'Pagar Alam', 'district': 'Pagar Alam Selatan', 'street': 'Jalan Laskar Wanita Mentarjo', 'lon': 103.1957334, 'lat': -4.0353359, 'formatted': 'Villa Dempo Flower, Jalan Laskar Wanita Mentarjo, Pagar Alam, South Sumatra, Indonesia', 'address_line1': 'Villa Dempo Flower', 'address_line2': 'Jalan Laskar Wanita Mentarjo, Pagar Alam, South Sumatra, Indonesia', 'categories': ['accommodation', 'accommodation.hotel'], 'details': [], 'datasource': {'sourcename': 'openstreetmap', 'attribution': '© OpenStreetMap contributors', 'license': 'Open Database License', 'url': 'https://www.openstreetmap.org/copyright', 'raw': {'name': 'Villa Dempo Flower', 'osm_id': 7657723950, 'tourism': 'hotel', 'osm_type': 'n'}}, 'distance': 8146, 'place_id': '5107ef61e586cc594059bb6716182f2410c0f00103f9012e986fc80100000092031256696c6c612044656d706f20466c6f776572'}, 'geometry': {'type': 'Point', 'coordinates': [103.19573339999998, -4.035335899703507]}}]}\n",
      "pagar alam - nearest hotel: Villa Dempo Flower\n"
     ]
    },
    {
     "name": "stderr",
     "output_type": "stream",
     "text": [
      "ERROR:root:Error message:\n",
      "Traceback (most recent call last):\n",
      "  File \"C:\\Users\\Moburu\\AppData\\Local\\Temp\\ipykernel_26060\\1195407018.py\", line 36, in <module>\n",
      "    hotel_df.loc[index, \"Hotel Name\"] = name_address[\"features\"][0][\"properties\"][\"name\"]\n",
      "                                        ~~~~~~~~~~~~~~~~~~~~~~~~^^^\n",
      "IndexError: list index out of range\n"
     ]
    },
    {
     "name": "stdout",
     "output_type": "stream",
     "text": [
      "{'type': 'FeatureCollection', 'features': []}\n",
      "belyy yar - nearest hotel: No hotel found\n"
     ]
    },
    {
     "name": "stderr",
     "output_type": "stream",
     "text": [
      "ERROR:root:Error message:\n",
      "Traceback (most recent call last):\n",
      "  File \"C:\\Users\\Moburu\\AppData\\Local\\Temp\\ipykernel_26060\\1195407018.py\", line 36, in <module>\n",
      "    hotel_df.loc[index, \"Hotel Name\"] = name_address[\"features\"][0][\"properties\"][\"name\"]\n",
      "                                        ~~~~~~~~~~~~~~~~~~~~~~~~^^^\n",
      "IndexError: list index out of range\n"
     ]
    },
    {
     "name": "stdout",
     "output_type": "stream",
     "text": [
      "{'type': 'FeatureCollection', 'features': []}\n",
      "tidjikja - nearest hotel: No hotel found\n",
      "{'type': 'FeatureCollection', 'features': [{'type': 'Feature', 'properties': {'name': 'The Observatory', 'country': 'Australia', 'country_code': 'au', 'state': 'New South Wales', 'city': 'Port Macquarie', 'municipality': 'Port Macquarie-Hastings Council', 'postcode': '2444', 'street': 'William Street', 'housenumber': '40', 'lon': 152.91878881661722, 'lat': -31.4309646, 'state_code': 'NSW', 'formatted': 'The Observatory, 40 William Street, Port Macquarie NSW 2444, Australia', 'address_line1': 'The Observatory', 'address_line2': '40 William Street, Port Macquarie NSW 2444, Australia', 'categories': ['accommodation', 'accommodation.hotel', 'building', 'building.accommodation', 'wheelchair', 'wheelchair.yes'], 'details': ['details', 'details.building', 'details.facilities'], 'datasource': {'sourcename': 'openstreetmap', 'attribution': '© OpenStreetMap contributors', 'license': 'Open Database License', 'url': 'https://www.openstreetmap.org/copyright', 'raw': {'name': 'The Observatory', 'osm_id': 244667782, 'tourism': 'hotel', 'website': 'https://www.mantratheobservatory.com.au', 'building': 'hotel', 'osm_type': 'w', 'roof:shape': 'flat', 'wheelchair': 'yes', 'addr:street': 'William Street', 'building:levels': 8, 'addr:housenumber': 40}}, 'website': 'https://www.mantratheobservatory.com.au', 'facilities': {'wheelchair': True}, 'building': {'levels': 8, 'type': 'hotel', 'roof': {'shape': 'flat'}}, 'distance': 299, 'place_id': '51a6e9cdb7661d634059e8002cb2536e3fc0f00102f9018655950e0000000092030f546865204f627365727661746f7279'}, 'geometry': {'type': 'Point', 'coordinates': [152.91878881661722, -31.43096459936433]}}]}\n",
      "port macquarie - nearest hotel: The Observatory\n",
      "{'type': 'FeatureCollection', 'features': [{'type': 'Feature', 'properties': {'name': 'Mantra Aqueous Port Douglas', 'country': 'Australia', 'country_code': 'au', 'state': 'Queensland', 'city': 'Port Douglas', 'municipality': 'Douglas Shire', 'postcode': '4877', 'street': 'Davidson Street', 'housenumber': '3', 'lon': 145.46587456316507, 'lat': -16.4848708, 'state_code': 'QLD', 'formatted': 'Mantra Aqueous Port Douglas, 3 Davidson Street, Port Douglas QLD 4877, Australia', 'address_line1': 'Mantra Aqueous Port Douglas', 'address_line2': '3 Davidson Street, Port Douglas QLD 4877, Australia', 'categories': ['accommodation', 'accommodation.hotel', 'building', 'building.accommodation'], 'details': ['details.accommodation', 'details.building'], 'datasource': {'sourcename': 'openstreetmap', 'attribution': '© OpenStreetMap contributors', 'license': 'Open Database License', 'url': 'https://www.openstreetmap.org/copyright', 'raw': {'name': 'Mantra Aqueous Port Douglas', 'stars': 4, 'osm_id': 260052998, 'tourism': 'hotel', 'building': 'hotel', 'osm_type': 'w', 'addr:street': 'Davidson Street', 'building:levels': 3, 'addr:housenumber': 3}}, 'accommodation': {'stars': 4}, 'building': {'levels': 3, 'type': 'hotel'}, 'distance': 176, 'place_id': '51a29ac571e82e6240594abe267e207c30c0f00102f9010618800f0000000092031b4d616e74726120417175656f757320506f727420446f75676c6173'}, 'geometry': {'type': 'Point', 'coordinates': [145.46587456316507, -16.484870800455873]}}]}\n",
      "port douglas - nearest hotel: Mantra Aqueous Port Douglas\n"
     ]
    },
    {
     "name": "stderr",
     "output_type": "stream",
     "text": [
      "ERROR:root:Error message:\n",
      "Traceback (most recent call last):\n",
      "  File \"C:\\Users\\Moburu\\AppData\\Local\\Temp\\ipykernel_26060\\1195407018.py\", line 36, in <module>\n",
      "    hotel_df.loc[index, \"Hotel Name\"] = name_address[\"features\"][0][\"properties\"][\"name\"]\n",
      "                                        ~~~~~~~~~~~~~~~~~~~~~~~~~~~~~~~~~~~~~~~~~^^^^^^^^\n",
      "KeyError: 'name'\n"
     ]
    },
    {
     "name": "stdout",
     "output_type": "stream",
     "text": [
      "{'type': 'FeatureCollection', 'features': [{'type': 'Feature', 'properties': {'country': 'Canada', 'country_code': 'ca', 'state': 'Newfoundland and Labrador', 'county': 'Newfoundland', 'city': 'Corner Brook', 'postcode': 'A2H 2W8', 'street': 'Park Street', 'lon': -57.944413091111585, 'lat': 48.95169465, 'state_code': 'NL', 'formatted': 'Park Street, Corner Brook, NL A2H 2W8, Canada', 'address_line1': 'Park Street', 'address_line2': 'Corner Brook, NL A2H 2W8, Canada', 'categories': ['accommodation', 'accommodation.hotel', 'building', 'building.accommodation'], 'details': [], 'datasource': {'sourcename': 'openstreetmap', 'attribution': '© OpenStreetMap contributors', 'license': 'Open Database License', 'url': 'https://www.openstreetmap.org/copyright', 'raw': {'osm_id': 1117677839, 'tourism': 'hotel', 'building': 'yes', 'osm_type': 'w'}}, 'distance': 1669, 'place_id': '51881e3687e2f84cc0590c215a21d1794840f00102f9010f699e4200000000'}, 'geometry': {'type': 'Point', 'coordinates': [-57.944413091111585, 48.95169464970431]}}]}\n",
      "corner brook - nearest hotel: No hotel found\n",
      "{'type': 'FeatureCollection', 'features': [{'type': 'Feature', 'properties': {'name': 'Hotel La Fonda de Taos', 'country': 'United States', 'country_code': 'us', 'state': 'New Mexico', 'county': 'Taos County', 'city': 'Taos', 'postcode': '87571', 'suburb': 'Downtown Taos', 'street': 'South Plaza', 'lon': -105.5745372, 'lat': 36.4069145, 'state_code': 'NM', 'formatted': 'Hotel La Fonda de Taos, South Plaza, Taos, NM 87571, United States of America', 'address_line1': 'Hotel La Fonda de Taos', 'address_line2': 'South Plaza, Taos, NM 87571, United States of America', 'categories': ['accommodation', 'accommodation.hotel'], 'details': [], 'datasource': {'sourcename': 'openstreetmap', 'attribution': '© OpenStreetMap contributors', 'license': 'Open Database License', 'url': 'https://www.openstreetmap.org/copyright', 'raw': {'name': 'Hotel La Fonda de Taos', 'osm_id': 4116159706, 'tourism': 'hotel', 'osm_type': 'n'}}, 'distance': 133, 'place_id': '517615ad37c5645ac05975683ac615344240f00103f901da9c57f500000000920316486f74656c204c6120466f6e64612064652054616f73'}, 'geometry': {'type': 'Point', 'coordinates': [-105.57453719999998, 36.40691449977832]}}]}\n",
      "taos - nearest hotel: Hotel La Fonda de Taos\n"
     ]
    },
    {
     "name": "stderr",
     "output_type": "stream",
     "text": [
      "ERROR:root:Error message:\n",
      "Traceback (most recent call last):\n",
      "  File \"C:\\Users\\Moburu\\AppData\\Local\\Temp\\ipykernel_26060\\1195407018.py\", line 36, in <module>\n",
      "    hotel_df.loc[index, \"Hotel Name\"] = name_address[\"features\"][0][\"properties\"][\"name\"]\n",
      "                                        ~~~~~~~~~~~~~~~~~~~~~~~~^^^\n",
      "IndexError: list index out of range\n"
     ]
    },
    {
     "name": "stdout",
     "output_type": "stream",
     "text": [
      "{'type': 'FeatureCollection', 'features': []}\n",
      "mary - nearest hotel: No hotel found\n"
     ]
    },
    {
     "name": "stderr",
     "output_type": "stream",
     "text": [
      "ERROR:root:Error message:\n",
      "Traceback (most recent call last):\n",
      "  File \"C:\\Users\\Moburu\\AppData\\Local\\Temp\\ipykernel_26060\\1195407018.py\", line 36, in <module>\n",
      "    hotel_df.loc[index, \"Hotel Name\"] = name_address[\"features\"][0][\"properties\"][\"name\"]\n",
      "                                        ~~~~~~~~~~~~~~~~~~~~~~~~^^^\n",
      "IndexError: list index out of range\n"
     ]
    },
    {
     "name": "stdout",
     "output_type": "stream",
     "text": [
      "{'type': 'FeatureCollection', 'features': []}\n",
      "az zawr - nearest hotel: No hotel found\n",
      "{'type': 'FeatureCollection', 'features': [{'type': 'Feature', 'properties': {'name': 'Pensión Panchito', 'country': 'Spain', 'country_code': 'es', 'state': 'Galicia', 'county': 'Bergantiños', 'province': 'A Coruña', 'city': 'Malpica de Bergantiños', 'postcode': '15113', 'district': 'O Campo', 'suburb': 'Malpica', 'street': 'Praza de Anselmo Villar Amigo', 'housenumber': '6', 'lon': -8.8105613, 'lat': 43.3231507, 'state_code': 'GA', 'formatted': 'Pensión Panchito, Praza de Anselmo Villar Amigo, 6, 15113 Malpica de Bergantiños, Spain', 'address_line1': 'Pensión Panchito', 'address_line2': 'Praza de Anselmo Villar Amigo, 6, 15113 Malpica de Bergantiños, Spain', 'categories': ['accommodation', 'accommodation.hotel', 'internet_access'], 'details': ['details', 'details.contact', 'details.facilities'], 'datasource': {'sourcename': 'openstreetmap', 'attribution': '© OpenStreetMap contributors', 'license': 'Open Database License', 'url': 'https://www.openstreetmap.org/copyright', 'raw': {'name': 'Pensión Panchito', 'phone': '+34 981 72 03 07', 'osm_id': 4664698189, 'name:es': 'Pensión Panchito', 'tourism': 'hotel', 'website': 'http://www.pensionpanchito.es', 'osm_type': 'n', 'addr:street': 'Praza de Anselmo Villar Amigo', 'opening_hours': 'Mo-Su 09:00-00:00', 'internet_access': 'wlan', 'addr:housenumber': 6}}, 'website': 'http://www.pensionpanchito.es', 'opening_hours': 'Mo-Su 09:00-00:00', 'name_international': {'es': 'Pensión Panchito'}, 'contact': {'phone': '+34 981 72 03 07'}, 'facilities': {'internet_access': True}, 'distance': 39, 'place_id': '5175ce05e4019f21c059bc408d005da94540f00103f9014da509160100000092031150656e7369c3b36e2050616e636869746f'}, 'geometry': {'type': 'Point', 'coordinates': [-8.810561299999998, 43.32315070054162]}}]}\n",
      "malpica - nearest hotel: Pensión Panchito\n",
      "{'type': 'FeatureCollection', 'features': [{'type': 'Feature', 'properties': {'name': 'Приморская', 'country': 'Russia', 'country_code': 'ru', 'region': 'Far Eastern Federal District', 'state': 'Sakhalin Oblast', 'county': 'Uglegorsky District', 'city': 'Uglegorsk', 'postcode': '694920', 'street': 'Приморская улица', 'housenumber': '11', 'lon': 142.03394078822544, 'lat': 49.07602505, 'formatted': 'Приморская улица 11, Uglegorsk, Sakhalin Oblast, Russia, 694920', 'address_line1': 'Приморская улица 11', 'address_line2': 'Uglegorsk, Sakhalin Oblast, Russia, 694920', 'categories': ['accommodation', 'accommodation.hotel', 'building', 'building.accommodation'], 'details': [], 'datasource': {'sourcename': 'openstreetmap', 'attribution': '© OpenStreetMap contributors', 'license': 'Open Database License', 'url': 'https://www.openstreetmap.org/copyright', 'raw': {'name': 'Приморская', 'osm_id': 668013296, 'tourism': 'hotel', 'building': 'yes', 'osm_type': 'w', 'addr:city': 'Углегорск', 'addr:street': 'Приморская улица', 'addr:housenumber': 11}}, 'distance': 798, 'place_id': '51b7edfd0a16c161405922035730bb894840f00102f901f012d12700000000920314d09fd180d0b8d0bcd0bed180d181d0bad0b0d18f'}, 'geometry': {'type': 'Point', 'coordinates': [142.0339407882254, 49.076025049673504]}}]}\n",
      "uglegorsk - nearest hotel: Приморская\n",
      "{'type': 'FeatureCollection', 'features': [{'type': 'Feature', 'properties': {'name': 'Peemos Hotel', 'country': 'Nigeria', 'country_code': 'ng', 'state': 'Delta State', 'city': 'Warri', 'postcode': '320242', 'street': 'Emaye Lane', 'lon': 5.743069769846018, 'lat': 5.515863599999999, 'formatted': 'Peemos Hotel, Emaye Lane, Warri 320242, Delta State, Nigeria', 'address_line1': 'Peemos Hotel', 'address_line2': 'Emaye Lane, Warri 320242, Delta State, Nigeria', 'categories': ['accommodation', 'accommodation.hotel', 'building', 'building.accommodation'], 'details': [], 'datasource': {'sourcename': 'openstreetmap', 'attribution': '© OpenStreetMap contributors', 'license': 'Open Database License', 'url': 'https://www.openstreetmap.org/copyright', 'raw': {'name': 'Peemos Hotel', 'layer': -1, 'osm_id': 1157070655, 'tourism': 'hotel', 'building': 'hotel', 'osm_type': 'w', 'addr:city': 'Warri GRA', 'addr:street': 'Emaye Lane', 'addr:postcode': 320242}}, 'building': {'type': 'hotel'}, 'distance': 739, 'place_id': '51278a2048e7f816405954b8238c3e101640f00102f9013f7ff7440000000092030c5065656d6f7320486f74656c'}, 'geometry': {'type': 'Point', 'coordinates': [5.743069769846023, 5.515863599472215]}}]}\n",
      "warri - nearest hotel: Peemos Hotel\n"
     ]
    },
    {
     "name": "stderr",
     "output_type": "stream",
     "text": [
      "ERROR:root:Error message:\n",
      "Traceback (most recent call last):\n",
      "  File \"C:\\Users\\Moburu\\AppData\\Local\\Temp\\ipykernel_26060\\1195407018.py\", line 36, in <module>\n",
      "    hotel_df.loc[index, \"Hotel Name\"] = name_address[\"features\"][0][\"properties\"][\"name\"]\n",
      "                                        ~~~~~~~~~~~~~~~~~~~~~~~~^^^\n",
      "IndexError: list index out of range\n"
     ]
    },
    {
     "name": "stdout",
     "output_type": "stream",
     "text": [
      "{'type': 'FeatureCollection', 'features': []}\n",
      "demidov - nearest hotel: No hotel found\n",
      "{'type': 'FeatureCollection', 'features': [{'type': 'Feature', 'properties': {'name': 'الشارقة مول للمواد الغذائية', 'country': 'Yemen', 'country_code': 'ye', 'state': \"Sa'dah Governorate\", 'city': 'Sa`dah', 'hamlet': 'Az Zubat', 'district': \"Sa'adah district\", 'street': 'Mufrat At Tahl', 'lon': 43.7547973, 'lat': 16.9379768, 'formatted': 'ALSHARIQA MOL, Mufrat At Tahl, Sa`dah, Yemen', 'address_line1': 'ALSHARIQA MOL', 'address_line2': 'Mufrat At Tahl, Sa`dah, Yemen', 'categories': ['accommodation', 'accommodation.hotel'], 'details': ['details', 'details.contact'], 'datasource': {'sourcename': 'openstreetmap', 'attribution': '© OpenStreetMap contributors', 'license': 'Open Database License', 'url': 'https://www.openstreetmap.org/copyright', 'raw': {'name': 'الشارقة مول للمواد الغذائية', 'phone': '+967751294', 'osm_id': 7015381811, 'name:en': 'ALSHARIQA MOL', 'tourism': 'hotel', 'osm_type': 'n', 'addr:street': 'Mufrat At Tahl'}}, 'name_international': {'en': 'ALSHARIQA MOL'}, 'contact': {'phone': '+967751294'}, 'distance': 1000, 'place_id': '51f74dab329de0454059c4f5603f1ff03040f00103f901333b26a201000000920333d8a7d984d8b4d8a7d8b1d982d8a920d985d988d98420d984d984d985d988d8a7d8af20d8a7d984d8bad8b0d8a7d8a6d98ad8a9'}, 'geometry': {'type': 'Point', 'coordinates': [43.7547973, 16.937976800128823]}}]}\n",
      "sa'dah - nearest hotel: الشارقة مول للمواد الغذائية\n",
      "{'type': 'FeatureCollection', 'features': [{'type': 'Feature', 'properties': {'name': 'Shahzan Inn', 'country': 'Malaysia', 'country_code': 'my', 'state': 'Pahang', 'city': 'Kuantan', 'postcode': '25000', 'district': 'Kuantan', 'street': 'Jalan Masjid', 'lon': 103.32531911981155, 'lat': 3.80678965, 'formatted': 'Shahzan Inn, Jalan Masjid, 25000 Kuantan, Pahang, Malaysia', 'address_line1': 'Shahzan Inn', 'address_line2': 'Jalan Masjid, 25000 Kuantan, Pahang, Malaysia', 'categories': ['accommodation', 'accommodation.hotel', 'building', 'building.accommodation'], 'details': [], 'datasource': {'sourcename': 'openstreetmap', 'attribution': '© OpenStreetMap contributors', 'license': 'Open Database License', 'url': 'https://www.openstreetmap.org/copyright', 'raw': {'name': 'Shahzan Inn', 'osm_id': 555718911, 'tourism': 'hotel', 'building': 'hotel', 'osm_type': 'w'}}, 'building': {'type': 'hotel'}, 'distance': 118, 'place_id': '51aa164907d2d4594059e06ebe214e740e40f00102f901ff981f210000000092030b536861687a616e20496e6e'}, 'geometry': {'type': 'Point', 'coordinates': [103.32531911981155, 3.806789649604852]}}]}\n",
      "kuantan - nearest hotel: Shahzan Inn\n",
      "{'type': 'FeatureCollection', 'features': [{'type': 'Feature', 'properties': {'name': \"Le Logis d'Elbée\", 'country': 'France', 'country_code': 'fr', 'region': 'Metropolitan France', 'state': 'Pays de la Loire', 'county': 'Maine-et-Loire', 'city': 'Beaupréau-en-Mauges', 'hamlet': 'La Voie', 'municipality': 'Cholet', 'postcode': '49600', 'district': 'Beaupréau', 'street': 'Rue de Versailles', 'lon': -0.9792782, 'lat': 47.2086912, 'state_code': 'PDL', 'state_COG': '52', 'formatted': \"Le Logis d'Elbée, Rue de Versailles, 49600 Beaupréau-en-Mauges, France\", 'address_line1': \"Le Logis d'Elbée\", 'address_line2': 'Rue de Versailles, 49600 Beaupréau-en-Mauges, France', 'categories': ['accommodation', 'accommodation.hotel', 'catering', 'catering.restaurant'], 'details': ['details', 'details.accommodation', 'details.contact'], 'datasource': {'sourcename': 'openstreetmap', 'attribution': '© OpenStreetMap contributors', 'license': 'Open Database License', 'url': 'https://www.openstreetmap.org/copyright', 'raw': {'name': \"Le Logis d'Elbée\", 'phone': '+33 2 41 75 63 75', 'stars': 2, 'osm_id': 7340887813, 'amenity': 'restaurant', 'tourism': 'hotel', 'osm_type': 'n', 'opening_hours': 'Mo-Fr 06:30-23:00; Sa 08:00-23:00; Su 08:00-17:00'}}, 'opening_hours': 'Mo-Fr 06:30-23:00; Sa 08:00-23:00; Su 08:00-17:00', 'contact': {'phone': '+33 2 41 75 63 75'}, 'accommodation': {'stars': 2}, 'catering': {'stars': 2}, 'distance': 4925, 'place_id': '51a3f1553c3f56efbf59ddbbab64b69a4740f00103f901050f8db5010000009203114c65204c6f676973206427456c62c3a965'}, 'geometry': {'type': 'Point', 'coordinates': [-0.9792781999999999, 47.20869120011751]}}]}\n",
      "cholet - nearest hotel: Le Logis d'Elbée\n",
      "{'type': 'FeatureCollection', 'features': [{'type': 'Feature', 'properties': {'name': 'Auberge WSD Kër Gan', 'country': 'Senegal', 'country_code': 'sn', 'state': 'Louga Region', 'county': 'Département de Linguère', 'city': 'Dahra Djoloff', 'district': 'Som', 'street': 'N 3', 'lon': -15.4678378, 'lat': 15.3483311, 'formatted': 'Auberge WSD Kër Gan, N 3, Dahra Djoloff, Senegal', 'address_line1': 'Auberge WSD Kër Gan', 'address_line2': 'N 3, Dahra Djoloff, Senegal', 'categories': ['accommodation', 'accommodation.hotel'], 'details': [], 'datasource': {'sourcename': 'openstreetmap', 'attribution': '© OpenStreetMap contributors', 'license': 'Open Database License', 'url': 'https://www.openstreetmap.org/copyright', 'raw': {'name': 'Auberge WSD Kër Gan', 'osm_id': 11371507269, 'tourism': 'hotel', 'osm_type': 'n'}}, 'distance': 1863, 'place_id': '5149aaa56f88ef2ec05998ea347458b22e40f00103f901456ecba5020000009203144175626572676520575344204bc3ab722047616e'}, 'geometry': {'type': 'Point', 'coordinates': [-15.4678378, 15.348331099948425]}}]}\n",
      "ndibene dahra - nearest hotel: Auberge WSD Kër Gan\n",
      "{'type': 'FeatureCollection', 'features': [{'type': 'Feature', 'properties': {'name': 'Hotel Maria Teres', 'country': 'Angola', 'country_code': 'ao', 'state': 'Zaire Province', 'city': 'Soyo', 'street': \"Soyo/N'zeto\", 'lon': 12.3707489, 'lat': -6.1369242, 'formatted': \"Hotel Maria Teresa, Soyo/N'zeto, Soyo, Angola\", 'address_line1': 'Hotel Maria Teresa', 'address_line2': \"Soyo/N'zeto, Soyo, Angola\", 'categories': ['accommodation', 'accommodation.hotel'], 'details': ['details'], 'datasource': {'sourcename': 'openstreetmap', 'attribution': '© OpenStreetMap contributors', 'license': 'Open Database License', 'url': 'https://www.openstreetmap.org/copyright', 'raw': {'name': 'Hotel Maria Teres', 'osm_id': 6443506487, 'name:en': 'Hotel Maria Teresa', 'name:pt': 'Hotel Maria Teresa', 'tourism': 'hotel', 'osm_type': 'n'}}, 'name_international': {'en': 'Hotel Maria Teresa', 'pt': 'Hotel Maria Teresa'}, 'distance': 303, 'place_id': '51520ec1ccd2bd284059e7bd7edb358c18c0f00103f901371b108001000000920311486f74656c204d61726961205465726573'}, 'geometry': {'type': 'Point', 'coordinates': [12.370748899999999, -6.136924199686724]}}]}\n",
      "soio - nearest hotel: Hotel Maria Teres\n",
      "{'type': 'FeatureCollection', 'features': [{'type': 'Feature', 'properties': {'name': 'Les Palmiers', 'country': 'Madagascar', 'country_code': 'mg', 'state': 'Analanjirofo', 'county': 'District de Nosy Boraha', 'city': 'Ambodifotatra', 'hamlet': 'Andabatoara', 'street': 'N 21', 'lon': 49.8527824, 'lat': -16.99209, 'formatted': 'Les Palmiers, N 21, Ambodifotatra, Madagascar', 'address_line1': 'Les Palmiers', 'address_line2': 'N 21, Ambodifotatra, Madagascar', 'categories': ['accommodation', 'accommodation.hotel'], 'details': [], 'datasource': {'sourcename': 'openstreetmap', 'attribution': '© OpenStreetMap contributors', 'license': 'Open Database License', 'url': 'https://www.openstreetmap.org/copyright', 'raw': {'name': 'Les Palmiers', 'osm_id': 678839296, 'tourism': 'hotel', 'osm_type': 'n'}}, 'distance': 1017, 'place_id': '515c4d43f927ed48405908b43a9cf9fd30c0f00103f901004476280000000092030c4c65732050616c6d69657273'}, 'geometry': {'type': 'Point', 'coordinates': [49.852782399999995, -16.992090000469062]}}]}\n",
      "ambodifotatra - nearest hotel: Les Palmiers\n",
      "{'type': 'FeatureCollection', 'features': [{'type': 'Feature', 'properties': {'name': 'LAL NIWAS', 'country': 'India', 'country_code': 'in', 'state': 'Rajasthan', 'state_district': 'Phalodi District', 'county': 'Phalodi Tehsil', 'city': 'Kolu Rathoran', 'postcode': '342314', 'street': 'SH28', 'lon': 72.3595582, 'lat': 27.1318809, 'state_code': 'RJ', 'formatted': 'LAL NIWAS, SH28, Kolu Rathoran - 342314, Rajasthan, India', 'address_line1': 'LAL NIWAS', 'address_line2': 'SH28, Kolu Rathoran - 342314, Rajasthan, India', 'categories': ['accommodation', 'accommodation.hotel'], 'details': ['details'], 'datasource': {'sourcename': 'openstreetmap', 'attribution': '© OpenStreetMap contributors', 'license': 'Open Database License', 'url': 'https://www.openstreetmap.org/copyright', 'raw': {'ele': 225.793701, 'name': 'LAL NIWAS', 'osm_id': 300033902, 'tourism': 'hotel', 'osm_type': 'n'}}, 'ele': 225.793701, 'distance': 725, 'place_id': '518c806500031752405927a758f2c2213b40f00103f9016e27e211000000009203094c414c204e49574153'}, 'geometry': {'type': 'Point', 'coordinates': [72.35955819999998, 27.13188090004328]}}]}\n",
      "phalodi - nearest hotel: LAL NIWAS\n",
      "{'type': 'FeatureCollection', 'features': [{'type': 'Feature', 'properties': {'name': 'Yoyo', 'country': 'Indonesia', 'country_code': 'id', 'region': 'Western New Guinea', 'state': 'Papua', 'city': 'Jayapura', 'town': 'Waena', 'postcode': '99351', 'street': 'Jalan Raya', 'lon': 140.6370515, 'lat': -2.6005698, 'formatted': 'Yoyo, Jalan Raya, Jayapura 99351, Papua, Indonesia', 'address_line1': 'Yoyo', 'address_line2': 'Jalan Raya, Jayapura 99351, Papua, Indonesia', 'categories': ['accommodation', 'accommodation.hotel'], 'details': [], 'datasource': {'sourcename': 'openstreetmap', 'attribution': '© OpenStreetMap contributors', 'license': 'Open Database License', 'url': 'https://www.openstreetmap.org/copyright', 'raw': {'name': 'Yoyo', 'osm_id': 6683938101, 'tourism': 'hotel', 'osm_type': 'n'}}, 'distance': 6988, 'place_id': '51c5cbd3b962946140598ffe078af7cd04c0f00103f90135cd648e01000000920304596f796f'}, 'geometry': {'type': 'Point', 'coordinates': [140.6370515, -2.600569799775094]}}]}\n",
      "abepura - nearest hotel: Yoyo\n",
      "{'type': 'FeatureCollection', 'features': [{'type': 'Feature', 'properties': {'name': 'Геолог', 'country': 'Russia', 'country_code': 'ru', 'region': 'Ural Federal District', 'state': 'Yamalo-Nenets Autonomous Okrug', 'county': 'Purovsky Rayon', 'city': 'Urengoy', 'district': '2-й микрорайон', 'street': 'улица Геологов', 'housenumber': '36А', 'lon': 78.3631080342413, 'lat': 65.95888645, 'formatted': 'улица Геологов 36А, Urengoy, Yamalo-Nenets Autonomous Okrug, Russia', 'address_line1': 'улица Геологов 36А', 'address_line2': 'Urengoy, Yamalo-Nenets Autonomous Okrug, Russia', 'categories': ['accommodation', 'accommodation.hotel', 'building', 'building.accommodation'], 'details': ['details.facilities'], 'datasource': {'sourcename': 'openstreetmap', 'attribution': '© OpenStreetMap contributors', 'license': 'Open Database License', 'url': 'https://www.openstreetmap.org/copyright', 'raw': {'name': 'Геолог', 'osm_id': 293547727, 'smoking': 'outside', 'tourism': 'hotel', 'building': 'hotel', 'osm_type': 'w', 'addr:city': 'Уренгой', 'addr:street': 'улица Геологов', 'addr:country': 'RU', 'addr:housenumber': '36А'}}, 'facilities': {'smoking': True}, 'building': {'type': 'hotel'}, 'distance': 878, 'place_id': '51cbfe7a293d975340598a7843655e7d5040f00102f901cf2e7f110000000092030cd093d0b5d0bed0bbd0bed0b3'}, 'geometry': {'type': 'Point', 'coordinates': [78.36310803424128, 65.95888644780112]}}]}\n",
      "urengoy - nearest hotel: Геолог\n",
      "{'type': 'FeatureCollection', 'features': [{'type': 'Feature', 'properties': {'name': 'Семь лиственниц', 'country': 'Russia', 'country_code': 'ru', 'region': 'Ural Federal District', 'state': 'Yamalo-Nenets Autonomous Okrug', 'county': 'городской округ Лабытнанги', 'city': 'Labytnangi', 'postcode': '629400', 'street': 'улица Гагарина', 'housenumber': '34', 'lon': 66.38177194274162, 'lat': 66.65787925000001, 'formatted': 'Семь лиственниц, улица Гагарина 34, Labytnangi, Yamalo-Nenets Autonomous Okrug, Russia, 629400', 'address_line1': 'Семь лиственниц', 'address_line2': 'улица Гагарина 34, Labytnangi, Yamalo-Nenets Autonomous Okrug, Russia, 629400', 'categories': ['accommodation', 'accommodation.hotel', 'building', 'building.accommodation'], 'details': ['details.building'], 'datasource': {'sourcename': 'openstreetmap', 'attribution': '© OpenStreetMap contributors', 'license': 'Open Database License', 'url': 'https://www.openstreetmap.org/copyright', 'raw': {'name': 'Семь лиственниц', 'osm_id': 105223144, 'tourism': 'hotel', 'building': 'hotel', 'osm_type': 'w', 'addr:street': 'улица Гагарина', 'addr:postcode': 629400, 'building:levels': 4, 'addr:housenumber': 34}}, 'building': {'levels': 4, 'type': 'hotel'}, 'distance': 1551, 'place_id': '51c62696f36e9850405967cc8eb11aaa5040f00102f901e89345060000000092031dd0a1d0b5d0bcd18c20d0bbd0b8d181d182d0b2d0b5d0bdd0bdd0b8d186'}, 'geometry': {'type': 'Point', 'coordinates': [66.38177194274166, 66.65787924714242]}}]}\n",
      "labytnangi - nearest hotel: Семь лиственниц\n"
     ]
    },
    {
     "name": "stderr",
     "output_type": "stream",
     "text": [
      "ERROR:root:Error message:\n",
      "Traceback (most recent call last):\n",
      "  File \"C:\\Users\\Moburu\\AppData\\Local\\Temp\\ipykernel_26060\\1195407018.py\", line 36, in <module>\n",
      "    hotel_df.loc[index, \"Hotel Name\"] = name_address[\"features\"][0][\"properties\"][\"name\"]\n",
      "                                        ~~~~~~~~~~~~~~~~~~~~~~~~^^^\n",
      "IndexError: list index out of range\n"
     ]
    },
    {
     "name": "stdout",
     "output_type": "stream",
     "text": [
      "{'type': 'FeatureCollection', 'features': []}\n",
      "carauari - nearest hotel: No hotel found\n",
      "{'type': 'FeatureCollection', 'features': [{'type': 'Feature', 'properties': {'name': 'Apart Diagonal', 'country': 'Argentina', 'country_code': 'ar', 'state': 'Chaco', 'county': 'Departamento Primero de Mayo', 'city': 'Municipio de Margarita Belén', 'postcode': '3505', 'district': 'Margarita Belén', 'street': 'Néstor Kirchner', 'lon': -58.97138229230296, 'lat': -27.26497945, 'state_code': 'H', 'formatted': 'Apart Diagonal, Néstor Kirchner, Margarita Belén, 3505 Municipio de Margarita Belén, Argentina', 'address_line1': 'Apart Diagonal', 'address_line2': 'Néstor Kirchner, Margarita Belén, 3505 Municipio de Margarita Belén, Argentina', 'categories': ['accommodation', 'accommodation.hotel', 'building', 'building.accommodation', 'building.residential'], 'details': ['details.accommodation', 'details.contact', 'details.facilities'], 'datasource': {'sourcename': 'openstreetmap', 'attribution': '© OpenStreetMap contributors', 'license': 'Open Database License', 'url': 'https://www.openstreetmap.org/copyright', 'raw': {'name': 'Apart Diagonal', 'email': 'apartdiagonal@gmail.com', 'rooms': 4, 'stars': 3, 'osm_id': 1250966736, 'tourism': 'hotel', 'building': 'apartments', 'osm_type': 'w', 'addr:city': 'Margarita Belen', 'addr:state': 'Chaco', 'wheelchair': 'no', 'addr:street': 'Néstor Kirchner', 'addr:postcode': 3505, 'internet_access': 'no'}}, 'contact': {'email': 'apartdiagonal@gmail.com'}, 'facilities': {'internet_access': False, 'wheelchair': False}, 'accommodation': {'stars': 3, 'rooms': 4}, 'building': {'type': 'apartments'}, 'distance': 373, 'place_id': '5166ad4441567c4dc059eda475b1d5433bc0f00102f901d03c904a0000000092030e417061727420446961676f6e616c'}, 'geometry': {'type': 'Point', 'coordinates': [-58.97138229230295, -27.264979449483622]}}]}\n",
      "margarita belen - nearest hotel: Apart Diagonal\n",
      "{'type': 'FeatureCollection', 'features': [{'type': 'Feature', 'properties': {'name': 'Hotel Castelo', 'country': 'Brazil', 'country_code': 'br', 'region': 'South Region', 'state': 'Rio Grande do Sul', 'state_district': 'Região Geográfica Intermediária de Porto Alegre', 'county': 'Aglomeração Urbana do Litoral Norte', 'city': 'Cidreira', 'municipality': 'Região Geográfica Imediata de Tramandaí - Osório', 'postcode': '95595-000', 'district': 'Cidreira', 'street': 'Rua Osvaldo Aranha', 'lon': -50.2034734, 'lat': -30.1779575, 'state_code': 'RS', 'formatted': 'Hotel Castelo, Rua Osvaldo Aranha, Cidreira - RS, 95595-000, Brazil', 'address_line1': 'Hotel Castelo', 'address_line2': 'Rua Osvaldo Aranha, Cidreira - RS, 95595-000, Brazil', 'categories': ['accommodation', 'accommodation.hotel'], 'details': [], 'datasource': {'sourcename': 'openstreetmap', 'attribution': '© OpenStreetMap contributors', 'license': 'Open Database License', 'url': 'https://www.openstreetmap.org/copyright', 'raw': {'name': 'Hotel Castelo', 'osm_id': 6853728295, 'tourism': 'hotel', 'osm_type': 'n'}}, 'distance': 404, 'place_id': '518f4d976a0b1a49c0592da8679f8e2d3ec0f00103f901279883980100000092030d486f74656c2043617374656c6f'}, 'geometry': {'type': 'Point', 'coordinates': [-50.2034734, -30.177957499319906]}}]}\n",
      "cidreira - nearest hotel: Hotel Castelo\n",
      "{'type': 'FeatureCollection', 'features': [{'type': 'Feature', 'properties': {'name': 'Березка', 'country': 'Russia', 'country_code': 'ru', 'region': 'Siberian Federal District', 'state': 'Altai Krai', 'county': 'Troitsky District', 'city': 'Troitskoye', 'municipality': 'Троицкий сельсовет', 'postcode': '659840', 'street': 'улица 60 лет Октября', 'housenumber': '37', 'lon': 84.6754857, 'lat': 52.9819797, 'formatted': 'Березка, улица 60 лет Октября 37, Troitskoye, Altai Krai, Russia, 659840', 'address_line1': 'Березка', 'address_line2': 'улица 60 лет Октября 37, Troitskoye, Altai Krai, Russia, 659840', 'categories': ['accommodation', 'accommodation.hotel'], 'details': [], 'datasource': {'sourcename': 'openstreetmap', 'attribution': '© OpenStreetMap contributors', 'license': 'Open Database License', 'url': 'https://www.openstreetmap.org/copyright', 'raw': {'name': 'Березка', 'osm_id': 8781408617, 'tourism': 'hotel', 'osm_type': 'n', 'addr:street': 'улица 60 лет Октября', 'addr:housenumber': 37}}, 'distance': 20, 'place_id': '51999a5f283b2b5540594175c282b17d4a40f00103f90169a9690b0200000092030ed091d0b5d180d0b5d0b7d0bad0b0'}, 'geometry': {'type': 'Point', 'coordinates': [84.67548569999998, 52.98197969908734]}}]}\n",
      "troitskoye - nearest hotel: Березка\n",
      "{'type': 'FeatureCollection', 'features': [{'type': 'Feature', 'properties': {'name': 'Pono Kai Resort', 'country': 'United States', 'country_code': 'us', 'state': 'Hawaii', 'county': 'Kauaʻi County', 'city': 'Kapaa', 'postcode': '96746', 'street': 'Inia Street', 'lon': -159.31842972400895, 'lat': 22.0725604, 'state_code': 'HI', 'formatted': 'Pono Kai Resort, Inia Street, Kapaa, HI 96746, United States of America', 'address_line1': 'Pono Kai Resort', 'address_line2': 'Inia Street, Kapaa, HI 96746, United States of America', 'categories': ['accommodation', 'accommodation.hotel'], 'details': ['details'], 'datasource': {'sourcename': 'openstreetmap', 'attribution': '© OpenStreetMap contributors', 'license': 'Open Database License', 'url': 'https://www.openstreetmap.org/copyright', 'raw': {'name': 'Pono Kai Resort', 'osm_id': 389146078, 'landuse': 'commercial', 'tourism': 'hotel', 'website': 'http://ponokairesort.com/', 'osm_type': 'w'}}, 'website': 'http://ponokairesort.com/', 'distance': 157, 'place_id': '512b56889330ea63c05926bc825193123640f00102f901dee531170000000092030f506f6e6f204b6169205265736f7274'}, 'geometry': {'type': 'Point', 'coordinates': [-159.31842972400895, 22.072560400407518]}}]}\n",
      "kapa'a - nearest hotel: Pono Kai Resort\n",
      "{'type': 'FeatureCollection', 'features': [{'type': 'Feature', 'properties': {'name': 'Khovd hotel', 'country': 'Mongolia', 'country_code': 'mn', 'state': 'Khovd', 'county': 'Jargalant', 'city': 'Khovd', 'postcode': '84000', 'street': 'Duut Road', 'lon': 91.642082, 'lat': 48.0046235, 'formatted': 'Khovd hotel, Duut Road, 84000, Khovd, Mongolia', 'address_line1': 'Khovd hotel', 'address_line2': 'Duut Road, 84000, Khovd, Mongolia', 'categories': ['accommodation', 'accommodation.hotel'], 'details': ['details'], 'datasource': {'sourcename': 'openstreetmap', 'attribution': '© OpenStreetMap contributors', 'license': 'Open Database License', 'url': 'https://www.openstreetmap.org/copyright', 'raw': {'osm_id': 4501559152, 'name:en': 'Khovd hotel', 'tourism': 'hotel', 'osm_type': 'n'}}, 'name_international': {'en': 'Khovd hotel'}, 'distance': 109, 'place_id': '516ad619df17e9564059a582ba8097004840f00103f9017057500c01000000'}, 'geometry': {'type': 'Point', 'coordinates': [91.64208199999999, 48.00462349993658]}}]}\n",
      "khovd - nearest hotel: Khovd hotel\n"
     ]
    },
    {
     "name": "stderr",
     "output_type": "stream",
     "text": [
      "ERROR:root:Error message:\n",
      "Traceback (most recent call last):\n",
      "  File \"C:\\Users\\Moburu\\AppData\\Local\\Temp\\ipykernel_26060\\1195407018.py\", line 36, in <module>\n",
      "    hotel_df.loc[index, \"Hotel Name\"] = name_address[\"features\"][0][\"properties\"][\"name\"]\n",
      "                                        ~~~~~~~~~~~~~~~~~~~~~~~~^^^\n",
      "IndexError: list index out of range\n"
     ]
    },
    {
     "name": "stdout",
     "output_type": "stream",
     "text": [
      "{'type': 'FeatureCollection', 'features': []}\n",
      "okhotsk - nearest hotel: No hotel found\n",
      "{'type': 'FeatureCollection', 'features': [{'type': 'Feature', 'properties': {'name': 'Собь', 'country': 'Russia', 'country_code': 'ru', 'region': 'Ural Federal District', 'state': 'Yamalo-Nenets Autonomous Okrug', 'county': 'городской округ Лабытнанги', 'city': 'Kharp', 'postcode': '629420', 'street': 'улица Гагарина', 'housenumber': '6А', 'lon': 65.7928052, 'lat': 66.8167439, 'formatted': 'Собь, улица Гагарина 6А, Kharp, Yamalo-Nenets Autonomous Okrug, Russia, 629420', 'address_line1': 'Собь', 'address_line2': 'улица Гагарина 6А, Kharp, Yamalo-Nenets Autonomous Okrug, Russia, 629420', 'categories': ['accommodation', 'accommodation.hotel', 'building', 'building.accommodation'], 'details': [], 'datasource': {'sourcename': 'openstreetmap', 'attribution': '© OpenStreetMap contributors', 'license': 'Open Database License', 'url': 'https://www.openstreetmap.org/copyright', 'raw': {'name': 'Собь', 'osm_id': 147165280, 'tourism': 'hotel', 'building': 'yes', 'osm_type': 'w', 'addr:street': 'улица Гагарина', 'addr:housenumber': '6А'}}, 'distance': 1818, 'place_id': '5152860552bd7250405902bc318845b45040f00102f9016090c50800000000920308d0a1d0bed0b1d18c'}, 'geometry': {'type': 'Point', 'coordinates': [65.7928052, 66.81674389702678]}}]}\n",
      "kharp - nearest hotel: Собь\n"
     ]
    },
    {
     "name": "stderr",
     "output_type": "stream",
     "text": [
      "ERROR:root:Error message:\n",
      "Traceback (most recent call last):\n",
      "  File \"C:\\Users\\Moburu\\AppData\\Local\\Temp\\ipykernel_26060\\1195407018.py\", line 36, in <module>\n",
      "    hotel_df.loc[index, \"Hotel Name\"] = name_address[\"features\"][0][\"properties\"][\"name\"]\n",
      "                                        ~~~~~~~~~~~~~~~~~~~~~~~~^^^\n",
      "IndexError: list index out of range\n"
     ]
    },
    {
     "name": "stdout",
     "output_type": "stream",
     "text": [
      "{'type': 'FeatureCollection', 'features': []}\n",
      "tarashcha - nearest hotel: No hotel found\n",
      "{'type': 'FeatureCollection', 'features': [{'type': 'Feature', 'properties': {'name': 'hotel palaima', 'country': 'Colombia', 'country_code': 'co', 'region': 'RAP Caribe', 'state': 'La Guajira', 'county': 'Manaure', 'city': 'Manaure', 'street': 'Calle 8', 'lon': -72.44453334350473, 'lat': 11.77500655, 'state_code': 'LAG', 'formatted': 'hotel palaima, Calle 8, Manaure, LAG, Colombia', 'address_line1': 'hotel palaima', 'address_line2': 'Calle 8, Manaure, LAG, Colombia', 'categories': ['accommodation', 'accommodation.hotel'], 'details': [], 'datasource': {'sourcename': 'openstreetmap', 'attribution': '© OpenStreetMap contributors', 'license': 'Open Database License', 'url': 'https://www.openstreetmap.org/copyright', 'raw': {'name': 'hotel palaima', 'osm_id': 441651365, 'tourism': 'hotel', 'osm_type': 'w'}}, 'distance': 4, 'place_id': '516615fb3b731c52c0594c1891a8cd8c2740f00102f901a510531a0000000092030d686f74656c2070616c61696d61'}, 'geometry': {'type': 'Point', 'coordinates': [-72.44453334350473, 11.775006549560338]}}]}\n",
      "manaure - nearest hotel: hotel palaima\n",
      "{'type': 'FeatureCollection', 'features': [{'type': 'Feature', 'properties': {'name': 'ホテル アイランド', 'country': 'Japan', 'country_code': 'jp', 'county': 'Kochi Prefecture', 'city': 'Shimanto', 'postcode': '787-0014', 'district': 'Gudotaguro 3-chome', 'street': 'National Highway Route 56', 'lon': 132.9251279, 'lat': 32.98101445, 'formatted': 'ホテル アイランド, National Highway Route 56, Shimanto, Gudotaguro 3-chome 787-0014, Japan', 'address_line1': 'ホテル アイランド', 'address_line2': 'National Highway Route 56, Shimanto, Gudotaguro 3-chome 787-0014, Japan', 'categories': ['accommodation', 'accommodation.hotel'], 'details': [], 'datasource': {'sourcename': 'openstreetmap', 'attribution': '© OpenStreetMap contributors', 'license': 'Open Database License', 'url': 'https://www.openstreetmap.org/copyright', 'raw': {'name': 'ホテル アイランド', 'layer': -1, 'osm_id': 1132122997, 'amenity': 'love_hotel', 'tourism': 'hotel', 'osm_type': 'w'}}, 'distance': 779, 'place_id': '51c063d3a59a9d604059fcf0a8e1917d4040f00102f90175d37a4300000000920319e3839be38386e383ab20e382a2e382a4e383a9e383b3e38389'}, 'geometry': {'type': 'Point', 'coordinates': [132.9251279, 32.98101444958772]}}]}\n",
      "nakamura - nearest hotel: ホテル アイランド\n",
      "{'type': 'FeatureCollection', 'features': [{'type': 'Feature', 'properties': {'name': 'санаторий-профилакторий \"Градостроитель\"', 'country': 'Russia', 'country_code': 'ru', 'region': 'Ural Federal District', 'state': 'Tyumen Oblast', 'county': 'Tyumensky District', 'city': 'Богандинское', 'municipality': 'Винзилинское сельское поселение', 'postcode': '625530', 'street': 'Совхозная улица', 'lon': 65.83047940211782, 'lat': 56.97052535, 'formatted': 'санаторий-профилакторий \"Градостроитель\", Совхозная улица, Богандинское, Tyumen Oblast, Russia, 625530', 'address_line1': 'санаторий-профилакторий \"Градостроитель\"', 'address_line2': 'Совхозная улица, Богандинское, Tyumen Oblast, Russia, 625530', 'categories': ['access_limited', 'access_limited.customers', 'accommodation', 'accommodation.hotel', 'healthcare.hospital'], 'details': ['details', 'details.contact'], 'datasource': {'sourcename': 'openstreetmap', 'attribution': '© OpenStreetMap contributors', 'license': 'Open Database License', 'url': 'https://www.openstreetmap.org/copyright', 'raw': {'name': 'санаторий-профилакторий \"Градостроитель\"', 'email': 'mail@gradcenter.ru', 'phone': '+7(3452)29-03-83', 'access': 'customers', 'osm_id': 308764744, 'amenity': 'hospital', 'leisure': 'resort', 'tourism': 'hotel', 'website': 'https://www.gradcenter.ru/', 'osm_type': 'w'}}, 'website': 'https://www.gradcenter.ru/', 'contact': {'phone': '+7(3452)29-03-83', 'email': 'mail@gradcenter.ru'}, 'restrictions': {'access': 'customers'}, 'distance': 9088, 'place_id': '51410614932675504059e29db72c3a7c4c40f00102f901486067120000000092034cd181d0b0d0bdd0b0d182d0bed180d0b8d0b92dd0bfd180d0bed184d0b8d0bbd0b0d0bad182d0bed180d0b8d0b92022d093d180d0b0d0b4d0bed181d182d180d0bed0b8d182d0b5d0bbd18c22'}, 'geometry': {'type': 'Point', 'coordinates': [65.83047940211783, 56.97052535024319]}}]}\n",
      "bogandinskiy - nearest hotel: санаторий-профилакторий \"Градостроитель\"\n",
      "{'type': 'FeatureCollection', 'features': [{'type': 'Feature', 'properties': {'name': 'PALM Hotel & Spa', 'country': 'France', 'country_code': 'fr', 'state': 'Réunion', 'city': 'Petite-Île', 'municipality': 'Saint-Pierre', 'postcode': '97429', 'street': 'Rue des Mascarins', 'housenumber': '43', 'lon': 55.55064529528414, 'lat': -21.3668547, 'state_code': 'RE', 'state_COG': '04', 'formatted': 'PALM Hotel & Spa, 43 Rue des Mascarins, 97429 Petite-Île, France', 'address_line1': 'PALM Hotel & Spa', 'address_line2': '43 Rue des Mascarins, 97429 Petite-Île, France', 'categories': ['accommodation', 'accommodation.hotel', 'building', 'building.accommodation', 'internet_access', 'internet_access.for_customers'], 'details': ['details.accommodation', 'details.facilities', 'details.wiki_and_media'], 'datasource': {'sourcename': 'openstreetmap', 'attribution': '© OpenStreetMap contributors', 'license': 'Open Database License', 'url': 'https://www.openstreetmap.org/copyright', 'raw': {'name': 'PALM Hotel & Spa', 'rooms': 65, 'stars': 5, 'osm_id': 229890396, 'tourism': 'hotel', 'building': 'yes', 'osm_type': 'w', 'wikidata': 'Q3361552', 'addr:city': 'Petite-Île', 'wikipedia': 'fr:Palm Hotel & Spa', 'addr:street': 'Rue des Mascarins', 'addr:postcode': 97429, 'internet_access': 'yes', 'addr:housenumber': 43, 'internet_access:fee': 'customers'}}, 'facilities': {'internet_access': True}, 'wiki_and_media': {'wikidata': 'Q3361552', 'wikipedia': 'fr:Palm Hotel & Spa'}, 'accommodation': {'stars': 5, 'rooms': 65}, 'distance': 6836, 'place_id': '518878878b7bc64b4059c2098c30ea5d35c0f00102f9015cd9b30d0000000092031050414c4d20486f74656c202620537061'}, 'geometry': {'type': 'Point', 'coordinates': [55.55064529528414, -21.36685470026874]}}]}\n",
      "saint-joseph - nearest hotel: PALM Hotel & Spa\n",
      "{'type': 'FeatureCollection', 'features': [{'type': 'Feature', 'properties': {'name': 'hôtel le rochet', 'country': \"Côte d'Ivoire\", 'country_code': 'ci', 'state': 'Bas-Sassandra', 'county': 'San Pedro', 'city': 'Tabou', 'street': 'A7', 'lon': -7.3591827, 'lat': 4.4217467, 'state_code': 'BS', 'formatted': \"hôtel le rochet, A7, Tabou, Côte d'Ivoire\", 'address_line1': 'hôtel le rochet', 'address_line2': \"A7, Tabou, Côte d'Ivoire\", 'categories': ['accommodation', 'accommodation.hotel'], 'details': [], 'datasource': {'sourcename': 'openstreetmap', 'attribution': '© OpenStreetMap contributors', 'license': 'Open Database License', 'url': 'https://www.openstreetmap.org/copyright', 'raw': {'name': 'hôtel le rochet', 'osm_id': 4256925229, 'tourism': 'hotel', 'osm_type': 'n'}}, 'distance': 722, 'place_id': '51ea27f796cd6f1dc0599b13e75ddeaf1140f00103f9012d86bbfd0000000092031068c3b474656c206c6520726f63686574'}, 'geometry': {'type': 'Point', 'coordinates': [-7.3591827, 4.421746699551387]}}]}\n",
      "tabou - nearest hotel: hôtel le rochet\n",
      "{'type': 'FeatureCollection', 'features': [{'type': 'Feature', 'properties': {'name': 'Hotel La Fontaine', 'country': 'Portugal', 'country_code': 'pt', 'county': 'Aveiro', 'city': 'Esmoriz', 'hamlet': 'Matosinhos de Baixo', 'postcode': '3885-550', 'district': 'Bairro de Santa Luzia', 'street': 'Rua dos Bombeiros Voluntários', 'housenumber': '80', 'lon': -8.625276925833852, 'lat': 40.95707715, 'formatted': 'Hotel La Fontaine, Rua dos Bombeiros Voluntários 80, 3885-550 Esmoriz, Portugal', 'address_line1': 'Hotel La Fontaine', 'address_line2': 'Rua dos Bombeiros Voluntários 80, 3885-550 Esmoriz, Portugal', 'categories': ['accommodation', 'accommodation.hotel', 'internet_access'], 'details': ['details', 'details.accommodation', 'details.contact', 'details.facilities'], 'datasource': {'sourcename': 'openstreetmap', 'attribution': '© OpenStreetMap contributors', 'license': 'Open Database License', 'url': 'https://www.openstreetmap.org/copyright', 'raw': {'name': 'Hotel La Fontaine', 'rooms': 34, 'stars': 3, 'osm_id': 414165872, 'tourism': 'hotel', 'osm_type': 'w', 'addr:city': 'Esmoriz', 'start_date': 2005, 'addr:street': 'Rua dos Bombeiros Voluntários', 'contact:fax': '+351 256 387 208', 'addr:country': 'PT', 'addr:postcode': '3885-550', 'contact:email': 'reservas@lafontaine-hotel.com', 'contact:phone': '+351 256 185 482', 'contact:website': 'www.lafontaine-hotel.com', 'internet_access': 'wlan', 'addr:housenumber': 80, 'contact:facebook': 'www.facebook.com/hotellafontaine.esmoriz'}}, 'website': 'www.lafontaine-hotel.com', 'contact': {'phone': '+351 256 185 482', 'email': 'reservas@lafontaine-hotel.com', 'fax': '+351 256 387 208'}, 'facilities': {'internet_access': True}, 'accommodation': {'stars': 3, 'rooms': 34}, 'distance': 159, 'place_id': '51b3cc164c244021c059ca540a81817a4440f00102f90170abaf1800000000920311486f74656c204c6120466f6e7461696e65'}, 'geometry': {'type': 'Point', 'coordinates': [-8.62527692583385, 40.95707715038732]}}]}\n",
      "esmoriz - nearest hotel: Hotel La Fontaine\n",
      "{'type': 'FeatureCollection', 'features': [{'type': 'Feature', 'properties': {'name': 'Fia fia', 'country': 'France', 'country_code': 'fr', 'state': 'Wallis and Futuna', 'city': 'Sigave', 'village': 'Nuku', 'postcode': '98620', 'street': 'RT1', 'lon': -178.1635039, 'lat': -14.2922116, 'formatted': 'Fia fia, RT1, 98620 Sigave, France', 'address_line1': 'Fia fia', 'address_line2': 'RT1, 98620 Sigave, France', 'categories': ['accommodation', 'accommodation.hotel'], 'details': [], 'datasource': {'sourcename': 'openstreetmap', 'attribution': '© OpenStreetMap contributors', 'license': 'Open Database License', 'url': 'https://www.openstreetmap.org/copyright', 'raw': {'name': 'Fia fia', 'osm_id': 5423398424, 'tourism': 'hotel', 'osm_type': 'n'}}, 'distance': 928, 'place_id': '5196e8876c3b4566c0593bd545c29c952cc0f00103f901187e42430100000092030746696120666961'}, 'geometry': {'type': 'Point', 'coordinates': [-178.16350389999997, -14.292211600327041]}}]}\n",
      "leava - nearest hotel: Fia fia\n"
     ]
    },
    {
     "name": "stderr",
     "output_type": "stream",
     "text": [
      "ERROR:root:Error message:\n",
      "Traceback (most recent call last):\n",
      "  File \"C:\\Users\\Moburu\\AppData\\Local\\Temp\\ipykernel_26060\\1195407018.py\", line 36, in <module>\n",
      "    hotel_df.loc[index, \"Hotel Name\"] = name_address[\"features\"][0][\"properties\"][\"name\"]\n",
      "                                        ~~~~~~~~~~~~~~~~~~~~~~~~^^^\n",
      "IndexError: list index out of range\n"
     ]
    },
    {
     "name": "stdout",
     "output_type": "stream",
     "text": [
      "{'type': 'FeatureCollection', 'features': []}\n",
      "curanilahue - nearest hotel: No hotel found\n",
      "{'type': 'FeatureCollection', 'features': [{'type': 'Feature', 'properties': {'name': 'Travelodge Mammoth Lakes', 'country': 'United States', 'country_code': 'us', 'state': 'California', 'county': 'Mono County', 'city': 'Mammoth Lakes', 'postcode': '93546', 'street': 'Sierra Boulevard', 'housenumber': '54', 'lon': -118.9741727885345, 'lat': 37.64940625, 'state_code': 'CA', 'formatted': 'Travelodge Mammoth Lakes, 54 Sierra Boulevard, Mammoth Lakes, CA 93546, United States of America', 'address_line1': 'Travelodge Mammoth Lakes', 'address_line2': '54 Sierra Boulevard, Mammoth Lakes, CA 93546, United States of America', 'categories': ['accommodation', 'accommodation.hotel', 'building', 'building.accommodation'], 'details': ['details'], 'datasource': {'sourcename': 'openstreetmap', 'attribution': '© OpenStreetMap contributors', 'license': 'Open Database License', 'url': 'https://www.openstreetmap.org/copyright', 'raw': {'name': 'Travelodge Mammoth Lakes', 'brand': 'Travelodge', 'osm_id': 42192133, 'tourism': 'hotel', 'building': 'hotel', 'osm_type': 'w', 'addr:city': 'Mammoth Lakes', 'addr:street': 'Sierra Boulevard', 'brand:wikidata': 'Q7836087', 'contact:website': 'http://www.travelodge.com', 'addr:housenumber': 54}}, 'website': 'http://www.travelodge.com', 'brand': 'Travelodge', 'brand_details': {'wikidata': 'Q7836087'}, 'building': {'type': 'hotel'}, 'distance': 187, 'place_id': '512adad2d858be5dc05910a476be1fd34240f00102f90105cd83020000000092031854726176656c6f646765204d616d6d6f7468204c616b6573'}, 'geometry': {'type': 'Point', 'coordinates': [-118.9741727885345, 37.64940624993335]}}]}\n",
      "mammoth lakes - nearest hotel: Travelodge Mammoth Lakes\n",
      "{'type': 'FeatureCollection', 'features': [{'type': 'Feature', 'properties': {'name': 'Ibis Hotel', 'country': 'Brazil', 'country_code': 'br', 'region': 'Southeast Region', 'state': 'São Paulo', 'state_district': 'Região Geográfica Intermediária de São José dos Campos', 'county': 'Região Metropolitana do Vale do Paraíba e Litoral Norte', 'city': 'Jacareí', 'municipality': 'Região Imediata de São José dos Campos', 'postcode': '12308-470', 'district': 'Jacareí', 'suburb': 'Centro', 'quarter': 'Jardim Bela Vista', 'street': 'Rua Tiradentes', 'housenumber': '299', 'lon': -45.96214702450226, 'lat': -23.3061767, 'state_code': 'SP', 'formatted': 'Ibis Hotel, Rua Tiradentes 299, Centro, Jacareí - SP, 12308-470, Brazil', 'address_line1': 'Ibis Hotel', 'address_line2': 'Rua Tiradentes 299, Centro, Jacareí - SP, 12308-470, Brazil', 'categories': ['accommodation', 'accommodation.hotel', 'building', 'building.accommodation'], 'details': ['details', 'details.accommodation', 'details.building'], 'datasource': {'sourcename': 'openstreetmap', 'attribution': '© OpenStreetMap contributors', 'license': 'Open Database License', 'url': 'https://www.openstreetmap.org/copyright', 'raw': {'name': 'Ibis Hotel', 'brand': 'Ibis', 'rooms': 130, 'height': 27, 'osm_id': 1235823677, 'tourism': 'hotel', 'building': 'yes', 'osm_type': 'w', 'addr:city': 'Jacareí', 'addr:street': 'Rua Tiradentes', 'addr:suburb': 'Centro', 'addr:postcode': '12308-470', 'brand:wikidata': 'Q920166', 'building:levels': 10, 'addr:housenumber': 299}}, 'brand': 'Ibis', 'brand_details': {'wikidata': 'Q920166'}, 'accommodation': {'rooms': 130}, 'building': {'levels': 10, 'height': 27}, 'distance': 374, 'place_id': '5128173aa227fb46c0592167a198614e37c0f00102f9013d2ca9490000000092030a4962697320486f74656c'}, 'geometry': {'type': 'Point', 'coordinates': [-45.96214702450226, -23.306176700024597]}}]}\n",
      "jacarei - nearest hotel: Ibis Hotel\n",
      "{'type': 'FeatureCollection', 'features': [{'type': 'Feature', 'properties': {'name': 'Apollon Hotel', 'country': 'Greece', 'country_code': 'gr', 'state': 'Peloponnese, Western Greece and the Ionian', 'state_district': 'Peloponnese Region', 'county': 'Argolis Regional Unit', 'city': 'Argos', 'municipality': 'Municipality of Argos and Mykines', 'postcode': '212 00', 'district': 'Αγία Αικατερίνη', 'street': 'Γρηγορίου Παπαφλέσσα', 'housenumber': '13', 'lon': 22.730187728511698, 'lat': 37.63443625, 'formatted': 'Apollon Hotel, Γρηγορίου Παπαφλέσσα 13, 212 00 Argos, Greece', 'address_line1': 'Apollon Hotel', 'address_line2': 'Γρηγορίου Παπαφλέσσα 13, 212 00 Argos, Greece', 'categories': ['accommodation', 'accommodation.hotel', 'building', 'building.accommodation'], 'details': ['details', 'details.contact'], 'datasource': {'sourcename': 'openstreetmap', 'attribution': '© OpenStreetMap contributors', 'license': 'Open Database License', 'url': 'https://www.openstreetmap.org/copyright', 'raw': {'name': 'Apollon Hotel', 'email': 'hotelapollonargos@yahoo.gr', 'phone': '+30 27510 68065', 'osm_id': 802141603, 'tourism': 'hotel', 'website': 'http://www.hotel-apollon-argos.gr/', 'building': 'yes', 'osm_type': 'w', 'addr:city': 'Άργος', 'addr:street': 'Γρηγορίου Παπαφλέσσα', 'addr:postcode': 21200, 'addr:housenumber': 13}}, 'website': 'http://www.hotel-apollon-argos.gr/', 'contact': {'phone': '+30 27510 68065', 'email': 'hotelapollonargos@yahoo.gr'}, 'distance': 294, 'place_id': '51f4e53d95edba3640590a6d003535d14240f00102f901a3b5cf2f0000000092030d41706f6c6c6f6e20486f74656c'}, 'geometry': {'type': 'Point', 'coordinates': [22.730187728511694, 37.63443624993131]}}]}\n",
      "argos - nearest hotel: Apollon Hotel\n",
      "{'type': 'FeatureCollection', 'features': [{'type': 'Feature', 'properties': {'name': 'Nelsal Pensao', 'country': 'Angola', 'country_code': 'ao', 'state': 'Namibe Province', 'city': 'Moçâmedes', 'suburb': 'Centro', 'street': 'Rua Kahumba', 'lon': 12.1503414, 'lat': -15.192916, 'formatted': 'Nelsal Pensao, Rua Kahumba, Moçâmedes, Angola', 'address_line1': 'Nelsal Pensao', 'address_line2': 'Rua Kahumba, Moçâmedes, Angola', 'categories': ['accommodation', 'accommodation.hotel'], 'details': ['details'], 'datasource': {'sourcename': 'openstreetmap', 'attribution': '© OpenStreetMap contributors', 'license': 'Open Database License', 'url': 'https://www.openstreetmap.org/copyright', 'raw': {'osm_id': 11384319669, 'name:en': 'Nelsal Pensao', 'tourism': 'hotel', 'osm_type': 'n'}}, 'name_international': {'en': 'Nelsal Pensao'}, 'distance': 405, 'place_id': '513f78488cf94c2840593a1fd1e2c5622ec0f00103f901b5ee8ea602000000'}, 'geometry': {'type': 'Point', 'coordinates': [12.1503414, -15.192916000392518]}}]}\n",
      "namibe - nearest hotel: Nelsal Pensao\n",
      "{'type': 'FeatureCollection', 'features': [{'type': 'Feature', 'properties': {'name': 'Cobblestone Inn & Suites', 'country': 'United States', 'country_code': 'us', 'state': 'Wisconsin', 'county': 'Dunn County', 'city': 'Menomonie', 'postcode': '54751', 'street': 'Main Street East', 'housenumber': '149', 'lon': -91.92880350583727, 'lat': 44.876696949999996, 'state_code': 'WI', 'formatted': 'Cobblestone Inn & Suites, 149 Main Street East, Menomonie, WI 54751, United States of America', 'address_line1': 'Cobblestone Inn & Suites', 'address_line2': '149 Main Street East, Menomonie, WI 54751, United States of America', 'categories': ['accommodation', 'accommodation.hotel', 'building', 'building.accommodation', 'building.commercial', 'internet_access'], 'details': ['details', 'details.building', 'details.contact', 'details.facilities'], 'datasource': {'sourcename': 'openstreetmap', 'attribution': '© OpenStreetMap contributors', 'license': 'Open Database License', 'url': 'https://www.openstreetmap.org/copyright', 'raw': {'fax': '+1 715 233 0277', 'name': 'Cobblestone Inn & Suites', 'brand': 'Cobblestone Inn & Suites', 'phone': '+1 715 233 0211', 'osm_id': 426703508, 'smoking': 'no', 'tourism': 'hotel', 'website': 'https://www.staycobblestone.com/wi/menomonie/', 'building': 'commercial', 'osm_type': 'w', 'roof:shape': 'flat', 'start_date': 2017, 'addr:street': 'Main Street East', 'roof:colour': 'white', 'brand:wikidata': 'Q20711084', 'internet_access': 'wlan', 'addr:housenumber': 149}}, 'website': 'https://www.staycobblestone.com/wi/menomonie/', 'brand': 'Cobblestone Inn & Suites', 'brand_details': {'wikidata': 'Q20711084'}, 'contact': {'phone': '+1 715 233 0211', 'fax': '+1 715 233 0277'}, 'facilities': {'internet_access': True, 'smoking': False}, 'building': {'type': 'commercial', 'start_date': 2017, 'roof': {'shape': 'flat', 'color': 'white'}}, 'distance': 743, 'place_id': '51cb7e428471fb56c05902680d9b37704640f00102f90194fa6e1900000000920318436f62626c6573746f6e6520496e6e202620537569746573'}, 'geometry': {'type': 'Point', 'coordinates': [-91.92880350583725, 44.87669695047954]}}]}\n",
      "menomonie - nearest hotel: Cobblestone Inn & Suites\n",
      "{'type': 'FeatureCollection', 'features': [{'type': 'Feature', 'properties': {'name': 'Libre Inn', 'country': 'Philippines', 'country_code': 'ph', 'region': 'Northern Mindanao', 'state': 'Bukidnon', 'city': 'Quezon', 'village': 'Libertad', 'postcode': '8715', 'district': 'Purok 2', 'street': 'J. A. Fortich Road', 'lon': 125.0997814, 'lat': 7.7313539, 'formatted': 'Libre Inn, J. A. Fortich Road, Quezon, 8715 Bukidnon, Philippines', 'address_line1': 'Libre Inn', 'address_line2': 'J. A. Fortich Road, Quezon, 8715 Bukidnon, Philippines', 'categories': ['accommodation', 'accommodation.hotel'], 'details': [], 'datasource': {'sourcename': 'openstreetmap', 'attribution': '© OpenStreetMap contributors', 'license': 'Open Database License', 'url': 'https://www.openstreetmap.org/copyright', 'raw': {'name': 'Libre Inn', 'osm_id': 11578355011, 'tourism': 'hotel', 'osm_type': 'n'}}, 'distance': 152, 'place_id': '51f16f86d162465f4059d2c25e09e8ec1e40f00103f90143ad1fb2020000009203094c6962726520496e6e'}, 'geometry': {'type': 'Point', 'coordinates': [125.0997814, 7.731353899391893]}}]}\n",
      "quezon - nearest hotel: Libre Inn\n",
      "{'type': 'FeatureCollection', 'features': [{'type': 'Feature', 'properties': {'name': '華國商務飯店', 'country': 'Taiwan', 'country_code': 'tw', 'city': 'Keelung', 'village': 'Yizhongding', 'postcode': '200001', 'district': 'Rende Village', 'suburb': \"Ren'ai\", 'street': '愛三路49巷', 'lon': 121.7423547, 'lat': 25.1283015, 'formatted': \"華國商務飯店, 愛三路49巷, Ren'ai, Keelung 200001, Taiwan\", 'address_line1': '華國商務飯店', 'address_line2': \"愛三路49巷, Ren'ai, Keelung 200001, Taiwan\", 'categories': ['accommodation', 'accommodation.hotel'], 'details': [], 'datasource': {'sourcename': 'openstreetmap', 'attribution': '© OpenStreetMap contributors', 'license': 'Open Database License', 'url': 'https://www.openstreetmap.org/copyright', 'raw': {'name': '華國商務飯店', 'osm_id': 4348315990, 'tourism': 'hotel', 'osm_type': 'n'}}, 'distance': 46, 'place_id': '510ca249bd826f5e40599096fb5dd8203940f00103f90156092e0301000000920312e88fafe59c8be59586e58b99e9a3afe5ba97'}, 'geometry': {'type': 'Point', 'coordinates': [121.74235470000002, 25.12830150024689]}}]}\n",
      "keelung - nearest hotel: 華國商務飯店\n",
      "{'type': 'FeatureCollection', 'features': [{'type': 'Feature', 'properties': {'name': 'Lagi resort', 'country': 'Vietnam', 'country_code': 'vn', 'state': 'Bình Thuận Province', 'city': 'La Gi', 'postcode': '77650', 'suburb': 'Phường Phước Hội', 'street': 'Đường Hoàng Hoa Thám', 'lon': 107.7885289, 'lat': 10.6684258, 'formatted': 'Lagi resort, Đường Hoàng Hoa Thám, Phường Phước Hội, La Gi, Bình Thuận Province 77650, Vietnam', 'address_line1': 'Lagi resort', 'address_line2': 'Đường Hoàng Hoa Thám, Phường Phước Hội, La Gi, Bình Thuận Province 77650, Vietnam', 'categories': ['accommodation', 'accommodation.hotel'], 'details': [], 'datasource': {'sourcename': 'openstreetmap', 'attribution': '© OpenStreetMap contributors', 'license': 'Open Database License', 'url': 'https://www.openstreetmap.org/copyright', 'raw': {'name': 'Lagi resort', 'osm_id': 4584393635, 'tourism': 'hotel', 'osm_type': 'n', 'addr:street': 'Tống Duy Tân'}}, 'distance': 603, 'place_id': '51db5ceb4177f25a4059af1a09e83b562540f00103f901a34b40110100000092030b4c616769207265736f7274'}, 'geometry': {'type': 'Point', 'coordinates': [107.7885289, 10.66842579947601]}}]}\n",
      "la gi - nearest hotel: Lagi resort\n",
      "{'type': 'FeatureCollection', 'features': [{'type': 'Feature', 'properties': {'name': 'Karratha International Hotel', 'country': 'Australia', 'country_code': 'au', 'state': 'Western Australia', 'city': 'Karratha', 'municipality': 'City Of Karratha', 'postcode': '6714', 'suburb': 'Pegs Creek', 'street': 'Hillview Road', 'lon': 116.84217715592082, 'lat': -20.73733225, 'state_code': 'WA', 'formatted': 'Karratha International Hotel, Hillview Road, Pegs Creek WA 6714, Australia', 'address_line1': 'Karratha International Hotel', 'address_line2': 'Hillview Road, Pegs Creek WA 6714, Australia', 'categories': ['accommodation', 'accommodation.hotel', 'building', 'building.accommodation'], 'details': ['details', 'details.contact'], 'datasource': {'sourcename': 'openstreetmap', 'attribution': '© OpenStreetMap contributors', 'license': 'Open Database License', 'url': 'https://www.openstreetmap.org/copyright', 'raw': {'name': 'Karratha International Hotel', 'phone': '+61 8 9187 3333', 'osm_id': 385192260, 'tourism': 'hotel', 'website': 'https://www.karrathainternational.com.au/', 'building': 'yes', 'osm_type': 'w', 'addr:city': 'Karratha', 'addr:street': 'Hillview Road', 'addr:country': 'AU', 'addr:postcode': 6714}}, 'website': 'https://www.karrathainternational.com.au/', 'contact': {'phone': '+61 8 9187 3333'}, 'distance': 368, 'place_id': '519187033be6355d40597c756dcec1bc34c0f00102f9014491f5160000000092031c4b6172726174686120496e7465726e6174696f6e616c20486f74656c'}, 'geometry': {'type': 'Point', 'coordinates': [116.84217715592082, -20.737332250331278]}}]}\n",
      "karratha - nearest hotel: Karratha International Hotel\n"
     ]
    },
    {
     "name": "stderr",
     "output_type": "stream",
     "text": [
      "ERROR:root:Error message:\n",
      "Traceback (most recent call last):\n",
      "  File \"C:\\Users\\Moburu\\AppData\\Local\\Temp\\ipykernel_26060\\1195407018.py\", line 36, in <module>\n",
      "    hotel_df.loc[index, \"Hotel Name\"] = name_address[\"features\"][0][\"properties\"][\"name\"]\n",
      "                                        ~~~~~~~~~~~~~~~~~~~~~~~~^^^\n",
      "IndexError: list index out of range\n"
     ]
    },
    {
     "name": "stdout",
     "output_type": "stream",
     "text": [
      "{'type': 'FeatureCollection', 'features': []}\n",
      "crane - nearest hotel: No hotel found\n",
      "{'type': 'FeatureCollection', 'features': [{'type': 'Feature', 'properties': {'name': 'Vila da Santa', 'country': 'Brazil', 'country_code': 'br', 'region': 'Southeast Region', 'state': 'Rio de Janeiro', 'county': 'Região Geográfica Intermediária de Macaé-Rio das Ostras-Cabo Frio', 'city': 'Armação dos Búzios', 'municipality': 'Região Geográfica Imediata de Cabo Frio', 'postcode': '28950-019', 'suburb': 'Centro', 'quarter': 'Ossos', 'street': 'Praça dos Ossos', 'housenumber': '175', 'lon': -41.8810314, 'lat': -22.7472266, 'state_code': 'RJ', 'formatted': 'Vila da Santa, Praça dos Ossos 175, Centro, Armação dos Búzios - RJ, 28950-019, Brazil', 'address_line1': 'Vila da Santa', 'address_line2': 'Praça dos Ossos 175, Centro, Armação dos Búzios - RJ, 28950-019, Brazil', 'categories': ['accommodation', 'accommodation.hotel'], 'details': [], 'datasource': {'sourcename': 'openstreetmap', 'attribution': '© OpenStreetMap contributors', 'license': 'Open Database License', 'url': 'https://www.openstreetmap.org/copyright', 'raw': {'name': 'Vila da Santa', 'osm_id': 7925865287, 'tourism': 'hotel', 'osm_type': 'n', 'addr:street': 'Praça dos Ossos', 'addr:housenumber': 175}}, 'distance': 78, 'place_id': '51e2df0ca3c5f044c059e522123e4abf36c0f00103f901471b6bd80100000092030d56696c612064612053616e7461'}, 'geometry': {'type': 'Point', 'coordinates': [-41.8810314, -22.74722660010129]}}]}\n",
      "armacao de buzios - nearest hotel: Vila da Santa\n",
      "{'type': 'FeatureCollection', 'features': [{'type': 'Feature', 'properties': {'name': 'City Hotel', 'country': 'Tonga', 'country_code': 'to', 'state': 'Tongatapu', 'county': \"Vahe Kolofo'ou\", 'city': \"Nuku'alofa\", 'district': \"'Amaile\", 'suburb': \"Kolofo'ou\", 'street': 'Hala Fatefehi', 'lon': -175.19791705199367, 'lat': -21.1353329, 'formatted': \"City Hotel, Hala Fatefehi, Nuku'alofa, Tonga\", 'address_line1': 'City Hotel', 'address_line2': \"Hala Fatefehi, Nuku'alofa, Tonga\", 'categories': ['accommodation', 'accommodation.hotel', 'building', 'building.accommodation'], 'details': [], 'datasource': {'sourcename': 'openstreetmap', 'attribution': '© OpenStreetMap contributors', 'license': 'Open Database License', 'url': 'https://www.openstreetmap.org/copyright', 'raw': {'name': 'City Hotel', 'osm_id': 314371933, 'tourism': 'hotel', 'building': 'yes', 'osm_type': 'w'}}, 'distance': 299, 'place_id': '514634245655e665c059acd44c2da52235c0f00102f9015defbc120000000092030a4369747920486f74656c'}, 'geometry': {'type': 'Point', 'coordinates': [-175.19791705199367, -21.13533290029288]}}]}\n",
      "nuku'alofa - nearest hotel: City Hotel\n"
     ]
    },
    {
     "name": "stderr",
     "output_type": "stream",
     "text": [
      "ERROR:root:Error message:\n",
      "Traceback (most recent call last):\n",
      "  File \"C:\\Users\\Moburu\\AppData\\Local\\Temp\\ipykernel_26060\\1195407018.py\", line 36, in <module>\n",
      "    hotel_df.loc[index, \"Hotel Name\"] = name_address[\"features\"][0][\"properties\"][\"name\"]\n",
      "                                        ~~~~~~~~~~~~~~~~~~~~~~~~~~~~~~~~~~~~~~~~~^^^^^^^^\n",
      "KeyError: 'name'\n"
     ]
    },
    {
     "name": "stdout",
     "output_type": "stream",
     "text": [
      "{'type': 'FeatureCollection', 'features': [{'type': 'Feature', 'properties': {'country': 'Mexico', 'country_code': 'mx', 'state': 'Zacatecas', 'county': 'Sombrerete', 'city': 'Sombrerete', 'postcode': '99100', 'street': 'Aréchiga del Rebote', 'lon': -103.64230482616381, 'lat': 23.6367528, 'state_code': 'ZAC', 'formatted': 'Aréchiga del Rebote, 99100 Sombrerete, ZAC, Mexico', 'address_line1': 'Aréchiga del Rebote', 'address_line2': '99100 Sombrerete, ZAC, Mexico', 'categories': ['accommodation', 'accommodation.hotel', 'building', 'building.accommodation'], 'details': [], 'datasource': {'sourcename': 'openstreetmap', 'attribution': '© OpenStreetMap contributors', 'license': 'Open Database License', 'url': 'https://www.openstreetmap.org/copyright', 'raw': {'osm_id': 953120142, 'tourism': 'hotel', 'building': 'yes', 'osm_type': 'w'}}, 'distance': 843, 'place_id': '51ef9bb3851be959c0599428453b02a33740f00102f9018e75cf3800000000'}, 'geometry': {'type': 'Point', 'coordinates': [-103.6423048261638, 23.636752800354387]}}]}\n",
      "sombrerete - nearest hotel: No hotel found\n",
      "{'type': 'FeatureCollection', 'features': [{'type': 'Feature', 'properties': {'name': 'Holiday Inn', 'country': 'Finland', 'country_code': 'fi', 'state': 'Mainland Finland', 'county': 'Uusimaa', 'city': 'Helsinki', 'municipality': 'Helsinki sub-region', 'postcode': '00180', 'district': 'Southern major district', 'suburb': 'Ruoholahti', 'quarter': 'Salmisaari', 'street': 'Sulhasenkuja', 'housenumber': '3', 'lon': 24.910066546285357, 'lat': 60.165244, 'formatted': 'Holiday Inn, Sulhasenkuja 3, 00180 Helsinki, Finland', 'address_line1': 'Holiday Inn', 'address_line2': 'Sulhasenkuja 3, 00180 Helsinki, Finland', 'categories': ['accommodation', 'accommodation.hotel', 'building', 'building.accommodation', 'internet_access', 'internet_access.free', 'wheelchair', 'wheelchair.yes'], 'details': ['details', 'details.accommodation', 'details.building', 'details.facilities'], 'datasource': {'sourcename': 'openstreetmap', 'attribution': '© OpenStreetMap contributors', 'license': 'Open Database License', 'url': 'https://www.openstreetmap.org/copyright', 'raw': {'name': 'Holiday Inn', 'brand': 'Holiday Inn', 'rooms': 256, 'stars': 4, 'osm_id': 91630171, 'tourism': 'hotel', 'website': 'https://www.ihg.com/', 'building': 'yes', 'operator': 'Restel Oy', 'osm_type': 'w', 'addr:city': 'Helsinki', 'wheelchair': 'yes', 'addr:street': 'Sulhasenkuja', 'addr:postcode': '00180', 'brand:wikidata': 'Q2717882', 'building:levels': 9, 'internet_access': 'wlan', 'addr:housenumber': 3, 'internet_access:fee': 'no'}}, 'website': 'https://www.ihg.com/', 'brand': 'Holiday Inn', 'brand_details': {'wikidata': 'Q2717882'}, 'operator': 'Restel Oy', 'facilities': {'internet_access': True, 'wheelchair': True}, 'accommodation': {'stars': 4, 'rooms': 256}, 'building': {'levels': 9}, 'distance': 2002, 'place_id': '51b27a051ffae8384059c87f27b726154e40f00102f9015b2a76050000000092030b486f6c6964617920496e6e'}, 'geometry': {'type': 'Point', 'coordinates': [24.910066546285357, 60.16524400166196]}}]}\n",
      "lauttasaari - nearest hotel: Holiday Inn\n",
      "{'type': 'FeatureCollection', 'features': [{'type': 'Feature', 'properties': {'name': 'Hotel Quime Quipán', 'country': 'Argentina', 'country_code': 'ar', 'state': 'Santa Fe', 'county': 'Departamento General López', 'city': 'Rufino', 'postcode': '6100', 'district': 'Rufino', 'neighbourhood': 'Centro', 'street': 'Santa Fe', 'housenumber': '59', 'lon': -62.712410566912766, 'lat': -34.2637214, 'state_code': 'S', 'formatted': 'Hotel Quime Quipán, Santa Fe 59, Rufino, 6100 Rufino, Argentina', 'address_line1': 'Hotel Quime Quipán', 'address_line2': 'Santa Fe 59, Rufino, 6100 Rufino, Argentina', 'categories': ['accommodation', 'accommodation.hotel', 'building', 'building.accommodation'], 'details': ['details.building', 'details.contact'], 'datasource': {'sourcename': 'openstreetmap', 'attribution': '© OpenStreetMap contributors', 'license': 'Open Database License', 'url': 'https://www.openstreetmap.org/copyright', 'raw': {'name': 'Hotel Quime Quipán', 'height': 6, 'osm_id': 1017410274, 'tourism': 'hotel', 'building': 'hotel', 'osm_type': 'w', 'addr:city': 'Rufino', 'addr:street': 'Santa Fe', 'roof:colour': '#d5d5d5', 'addr:country': 'AR', 'addr:postcode': 6100, 'addr:province': 'Santa Fe', 'contact:phone': '03382 429808', 'building:colour': '#DAD8C4', 'addr:housenumber': 59}}, 'contact': {'phone': '03382 429808'}, 'building': {'type': 'hotel', 'color': '#DAD8C4', 'height': 6, 'roof': {'color': '#d5d5d5'}}, 'distance': 492, 'place_id': '518b1bfb44305b4fc0598691719fc12141c0f00102f901e272a43c00000000920313486f74656c205175696d652051756970c3a16e'}, 'geometry': {'type': 'Point', 'coordinates': [-62.71241056691277, -34.263721399739595]}}]}\n",
      "rufino - nearest hotel: Hotel Quime Quipán\n",
      "{'type': 'FeatureCollection', 'features': [{'type': 'Feature', 'properties': {'name': 'Copamarina Beach Resort', 'country': 'United States', 'country_code': 'us', 'state': 'Puerto Rico', 'city': 'Guánica', 'postcode': '00653', 'district': 'Carenero', 'street': 'Corredor Janice Montalvo Loyola / Carretera Caña Gorda', 'lon': -66.8797982, 'lat': 17.9530501, 'state_code': 'PR', 'formatted': 'Copamarina Beach Resort, Corredor Janice Montalvo Loyola / Carretera Caña Gorda, Guánica, PR 00653, United States of America', 'address_line1': 'Copamarina Beach Resort', 'address_line2': 'Corredor Janice Montalvo Loyola / Carretera Caña Gorda, Guánica, PR 00653, United States of America', 'categories': ['accommodation', 'accommodation.hotel'], 'details': ['details', 'details.contact'], 'datasource': {'sourcename': 'openstreetmap', 'attribution': '© OpenStreetMap contributors', 'license': 'Open Database License', 'url': 'https://www.openstreetmap.org/copyright', 'raw': {'name': 'Copamarina Beach Resort', 'phone': '787-821-0505', 'osm_id': 1002415297, 'tourism': 'hotel', 'website': 'https://www.copamarina.com/', 'operator': 'Independent', 'osm_type': 'n', 'addr:city': 'Guánica', 'addr:state': 'PR', 'addr:street': 'Road 333 Km 6.5', 'addr:postcode': '00653'}}, 'website': 'https://www.copamarina.com/', 'operator': 'Independent', 'contact': {'phone': '787-821-0505'}, 'distance': 3625, 'place_id': '5119051c9d4eb850c05991ef6317fbf33140f00103f901c1a4bf3b00000000920317436f70616d6172696e61204265616368205265736f7274'}, 'geometry': {'type': 'Point', 'coordinates': [-66.8797982, 17.953050100229635]}}]}\n",
      "guanica - nearest hotel: Copamarina Beach Resort\n",
      "{'type': 'FeatureCollection', 'features': [{'type': 'Feature', 'properties': {'name': 'Holiday Inn Express', 'country': 'Canada', 'country_code': 'ca', 'state': 'Saskatchewan', 'county': 'Division No. 9', 'city': 'Yorkton', 'postcode': 'S3N 3Z2', 'street': '7 Avenue North', 'lon': -102.4537971, 'lat': 51.2127155, 'state_code': 'SK', 'formatted': 'Holiday Inn Express, 7 Avenue North, Yorkton, SK S3N 3Z2, Canada', 'address_line1': 'Holiday Inn Express', 'address_line2': '7 Avenue North, Yorkton, SK S3N 3Z2, Canada', 'categories': ['accommodation', 'accommodation.hotel'], 'details': ['details'], 'datasource': {'sourcename': 'openstreetmap', 'attribution': '© OpenStreetMap contributors', 'license': 'Open Database License', 'url': 'https://www.openstreetmap.org/copyright', 'raw': {'name': 'Holiday Inn Express', 'brand': 'Holiday Inn Express', 'osm_id': 11184185138, 'tourism': 'hotel', 'osm_type': 'n', 'brand:wikidata': 'Q5880423'}}, 'brand': 'Holiday Inn Express', 'brand_details': {'wikidata': 'Q5880423'}, 'distance': 1068, 'place_id': '5142e1fd020b9d59c059273df0423a9b4940f00103f901321fa19a02000000920313486f6c6964617920496e6e2045787072657373'}, 'geometry': {'type': 'Point', 'coordinates': [-102.4537971, 51.212715499214305]}}]}\n",
      "yorkton - nearest hotel: Holiday Inn Express\n",
      "{'type': 'FeatureCollection', 'features': [{'type': 'Feature', 'properties': {'name': 'Vaiaku Lagi Hotel', 'country': 'Tuvalu', 'country_code': 'tv', 'city': 'Funafuti', 'village': 'Alapi', 'street': 'Fongafale Road', 'lon': 179.1945431, 'lat': -8.5236536, 'formatted': 'Funafuti Lagoon Hotel, Fongafale Road, Funafuti, Tuvalu', 'address_line1': 'Funafuti Lagoon Hotel', 'address_line2': 'Fongafale Road, Funafuti, Tuvalu', 'categories': ['accommodation', 'accommodation.hotel', 'internet_access'], 'details': ['details', 'details.contact', 'details.facilities', 'details.wiki_and_media'], 'datasource': {'sourcename': 'openstreetmap', 'attribution': '© OpenStreetMap contributors', 'license': 'Open Database License', 'url': 'https://www.openstreetmap.org/copyright', 'raw': {'name': 'Vaiaku Lagi Hotel', 'email': 'funafutilagoonhotel@gmail.com', 'osm_id': 2989175491, 'name:en': 'Funafuti Lagoon Hotel', 'tourism': 'hotel', 'osm_type': 'n', 'wikidata': 'Q897362', 'internet_access': 'wlan'}}, 'name_international': {'en': 'Funafuti Lagoon Hotel'}, 'contact': {'email': 'funafutilagoonhotel@gmail.com'}, 'facilities': {'internet_access': True}, 'wiki_and_media': {'wikidata': 'Q897362'}, 'distance': 81, 'place_id': '51338573b23966664059481a1b531c0c21c0f00103f901c3322bb200000000920311566169616b75204c61676920486f74656c'}, 'geometry': {'type': 'Point', 'coordinates': [179.1945431, -8.523653599794798]}}]}\n",
      "funafuti - nearest hotel: Vaiaku Lagi Hotel\n",
      "{'type': 'FeatureCollection', 'features': [{'type': 'Feature', 'properties': {'name': 'Сфера', 'country': 'Russia', 'country_code': 'ru', 'region': 'Far Eastern Federal District', 'state': 'Sakhalin Oblast', 'county': 'Okhinsky District', 'city': 'Okha', 'postcode': '694490', 'street': 'улица Дзержинского', 'housenumber': '23', 'lon': 142.94221197515887, 'lat': 53.58733995, 'formatted': 'Сфера, улица Дзержинского 23, Okha, Sakhalin Oblast, Russia, 694490', 'address_line1': 'Сфера', 'address_line2': 'улица Дзержинского 23, Okha, Sakhalin Oblast, Russia, 694490', 'categories': ['accommodation', 'accommodation.hotel', 'building', 'building.accommodation', 'building.residential'], 'details': ['details.building'], 'datasource': {'sourcename': 'openstreetmap', 'attribution': '© OpenStreetMap contributors', 'license': 'Open Database License', 'url': 'https://www.openstreetmap.org/copyright', 'raw': {'name': 'Сфера', 'osm_id': 129075998, 'tourism': 'hotel', 'building': 'residential', 'osm_type': 'w', 'addr:city': 'Оха', 'roof:shape': 'flat', 'addr:street': 'улица Дзержинского', 'roof:colour': 'grey', 'building:levels': 5, 'addr:housenumber': 23}}, 'building': {'levels': 5, 'type': 'residential', 'roof': {'shape': 'flat', 'color': 'grey'}}, 'distance': 1530, 'place_id': '519e66ba9926de6140590e9298f42dcb4a40f00102f9011e8bb1070000000092030ad0a1d184d0b5d180d0b0'}, 'geometry': {'type': 'Point', 'coordinates': [142.94221197515884, 53.58733994912846]}}]}\n",
      "okha - nearest hotel: Сфера\n",
      "{'type': 'FeatureCollection', 'features': [{'type': 'Feature', 'properties': {'name': 'Atlantic', 'country': 'Namibia', 'country_code': 'na', 'state': 'Erongo Region', 'city': 'Walvis Bay', 'postcode': '13013', 'street': 'Sam Nujoma Avenue', 'lon': 14.5012482, 'lat': -22.9566597, 'formatted': 'Atlantic, Sam Nujoma Avenue, Walvis Bay 13013, Namibia', 'address_line1': 'Atlantic', 'address_line2': 'Sam Nujoma Avenue, Walvis Bay 13013, Namibia', 'categories': ['accommodation', 'accommodation.hotel'], 'details': ['details'], 'datasource': {'sourcename': 'openstreetmap', 'attribution': '© OpenStreetMap contributors', 'license': 'Open Database License', 'url': 'https://www.openstreetmap.org/copyright', 'raw': {'name': 'Atlantic', 'osm_id': 4490047989, 'name:en': 'Atlantic', 'tourism': 'hotel', 'osm_type': 'n'}}, 'name_international': {'en': 'Atlantic'}, 'distance': 426, 'place_id': '51945ba49aa3002d4059fb366da6e7f436c0f00103f901f5b1a00b0100000092030841746c616e746963'}, 'geometry': {'type': 'Point', 'coordinates': [14.5012482, -22.956659700073015]}}]}\n",
      "walvis bay - nearest hotel: Atlantic\n",
      "{'type': 'FeatureCollection', 'features': [{'type': 'Feature', 'properties': {'name': 'Hotel Residencial Bitty', 'country': 'Argentina', 'country_code': 'ar', 'state': 'Entre Ríos Province', 'state_district': 'Departamento Federación', 'county': 'Distrito Mandisoví', 'city': 'Chajarí', 'postcode': '3228', 'district': 'Centro', 'street': 'Pablo Stampa', 'housenumber': '2788', 'lon': -57.984317, 'lat': -30.7561433, 'formatted': 'Hotel Residencial Bitty, Pablo Stampa 2788, Centro, 3228 Chajarí, Argentina', 'address_line1': 'Hotel Residencial Bitty', 'address_line2': 'Pablo Stampa 2788, Centro, 3228 Chajarí, Argentina', 'categories': ['accommodation', 'accommodation.hotel'], 'details': ['details', 'details.contact'], 'datasource': {'sourcename': 'openstreetmap', 'attribution': '© OpenStreetMap contributors', 'license': 'Open Database License', 'url': 'https://www.openstreetmap.org/copyright', 'raw': {'name': 'Hotel Residencial Bitty', 'phone': '+54 3456 420397', 'osm_id': 5541516555, 'tourism': 'hotel', 'website': 'https://www.turismoentrerios.com/residencialbitty/', 'osm_type': 'n', 'addr:city': 'Chajarí', 'addr:street': 'Pablo Stampa', 'addr:postcode': 3228, 'addr:housenumber': 2788}}, 'website': 'https://www.turismoentrerios.com/residencialbitty/', 'contact': {'phone': '+54 3456 420397'}, 'distance': 772, 'place_id': '51ccf27519fefd4cc05932b7759b92c13ec0f00103f9010bd54c4a01000000920317486f74656c205265736964656e6369616c204269747479'}, 'geometry': {'type': 'Point', 'coordinates': [-57.984317000000004, -30.756143299330866]}}]}\n",
      "chajari - nearest hotel: Hotel Residencial Bitty\n"
     ]
    },
    {
     "name": "stderr",
     "output_type": "stream",
     "text": [
      "ERROR:root:Error message:\n",
      "Traceback (most recent call last):\n",
      "  File \"C:\\Users\\Moburu\\AppData\\Local\\Temp\\ipykernel_26060\\1195407018.py\", line 36, in <module>\n",
      "    hotel_df.loc[index, \"Hotel Name\"] = name_address[\"features\"][0][\"properties\"][\"name\"]\n",
      "                                        ~~~~~~~~~~~~~~~~~~~~~~~~^^^\n",
      "IndexError: list index out of range\n"
     ]
    },
    {
     "name": "stdout",
     "output_type": "stream",
     "text": [
      "{'type': 'FeatureCollection', 'features': []}\n",
      "burang - nearest hotel: No hotel found\n",
      "{'type': 'FeatureCollection', 'features': [{'type': 'Feature', 'properties': {'name': 'Hotel SØMA', 'country': 'Greenland', 'country_code': 'gl', 'city': 'Sisimiut', 'municipality': 'Qeqqata', 'postcode': '3911', 'suburb': 'Qiviarfik', 'street': \"Kong Frederik IX's Plads\", 'housenumber': '5', 'lon': -53.6740188, 'lat': 66.93834, 'formatted': \"Hotel SØMA, Kong Frederik IX's Plads 5, 3911 Sisimiut, Greenland\", 'address_line1': 'Hotel SØMA', 'address_line2': \"Kong Frederik IX's Plads 5, 3911 Sisimiut, Greenland\", 'categories': ['accommodation', 'accommodation.hotel'], 'details': ['details', 'details.contact'], 'datasource': {'sourcename': 'openstreetmap', 'attribution': '© OpenStreetMap contributors', 'license': 'Open Database License', 'url': 'https://www.openstreetmap.org/copyright', 'raw': {'name': 'Hotel SØMA', 'email': 'sisimiut@hotelsoma.gl', 'phone': '+299 864150', 'osm_id': 1920838888, 'tourism': 'hotel', 'website': 'https://hotelsoma.gl/sisimiut/', 'osm_type': 'n', 'addr:city': 'Sisimiut', 'addr:street': \"Kong Frederik IX's Plads\", 'addr:postcode': 3911, 'addr:housenumber': 5}}, 'website': 'https://hotelsoma.gl/sisimiut/', 'contact': {'phone': '+299 864150', 'email': 'sisimiut@hotelsoma.gl'}, 'distance': 131, 'place_id': '51cf717f3f46d64ac0592cdb33c30dbc5040f00103f901e8ac7d720000000092030b486f74656c2053c3984d41'}, 'geometry': {'type': 'Point', 'coordinates': [-53.67401879999999, 66.93833999694897]}}]}\n",
      "sisimiut - nearest hotel: Hotel SØMA\n"
     ]
    },
    {
     "name": "stderr",
     "output_type": "stream",
     "text": [
      "ERROR:root:Error message:\n",
      "Traceback (most recent call last):\n",
      "  File \"C:\\Users\\Moburu\\AppData\\Local\\Temp\\ipykernel_26060\\1195407018.py\", line 36, in <module>\n",
      "    hotel_df.loc[index, \"Hotel Name\"] = name_address[\"features\"][0][\"properties\"][\"name\"]\n",
      "                                        ~~~~~~~~~~~~~~~~~~~~~~~~^^^\n",
      "IndexError: list index out of range\n"
     ]
    },
    {
     "name": "stdout",
     "output_type": "stream",
     "text": [
      "{'type': 'FeatureCollection', 'features': []}\n",
      "sao paulo de olivenca - nearest hotel: No hotel found\n",
      "{'type': 'FeatureCollection', 'features': [{'type': 'Feature', 'properties': {'name': 'Hotel Panarama Inn', 'country': 'Paraguay', 'country_code': 'py', 'region': 'Región Oriental', 'state': 'Alto Paraná', 'city': 'Ciudad del Este', 'postcode': '100151', 'suburb': 'Microcentro', 'street': 'Alejo García', 'housenumber': '360', 'lon': -54.6139882, 'lat': -25.5157516, 'formatted': 'Hotel Panarama Inn, Alejo García 360, 100151 Ciudad del Este, Paraguay', 'address_line1': 'Hotel Panarama Inn', 'address_line2': 'Alejo García 360, 100151 Ciudad del Este, Paraguay', 'categories': ['accommodation', 'accommodation.hotel'], 'details': ['details'], 'datasource': {'sourcename': 'openstreetmap', 'attribution': '© OpenStreetMap contributors', 'license': 'Open Database License', 'url': 'https://www.openstreetmap.org/copyright', 'raw': {'name': 'Hotel Panarama Inn', 'osm_id': 1515916337, 'tourism': 'hotel', 'website': 'http://www.hotelpanoramainn.com.py/', 'osm_type': 'n', 'addr:city': 'Ciudad del Este', 'addr:street': 'Avenida Pampliega', 'addr:postcode': 7000, 'addr:housenumber': 360}}, 'website': 'http://www.hotelpanoramainn.com.py/', 'distance': 292, 'place_id': '51a090532a974e4bc0592298fd4b088439c0f00103f901310c5b5a00000000920312486f74656c2050616e6172616d6120496e6e'}, 'geometry': {'type': 'Point', 'coordinates': [-54.613988199999994, -25.515751599705375]}}]}\n",
      "ciudad del este - nearest hotel: Hotel Panarama Inn\n"
     ]
    },
    {
     "name": "stderr",
     "output_type": "stream",
     "text": [
      "ERROR:root:Error message:\n",
      "Traceback (most recent call last):\n",
      "  File \"C:\\Users\\Moburu\\AppData\\Local\\Temp\\ipykernel_26060\\1195407018.py\", line 36, in <module>\n",
      "    hotel_df.loc[index, \"Hotel Name\"] = name_address[\"features\"][0][\"properties\"][\"name\"]\n",
      "                                        ~~~~~~~~~~~~~~~~~~~~~~~~^^^\n",
      "IndexError: list index out of range\n"
     ]
    },
    {
     "name": "stdout",
     "output_type": "stream",
     "text": [
      "{'type': 'FeatureCollection', 'features': []}\n",
      "bardai - nearest hotel: No hotel found\n",
      "{'type': 'FeatureCollection', 'features': [{'type': 'Feature', 'properties': {'name': 'B&B Orzu', 'country': 'Uzbekistan', 'country_code': 'uz', 'state': 'Xorazm Region', 'county': 'Khiva', 'city': 'Khiva', 'postcode': '220900', 'street': \"M. Bobojonov ko'chasi\", 'lon': 60.3621686, 'lat': 41.3788582, 'formatted': \"B&B Orzu, M. Bobojonov ko'chasi, Khiva, Xorazm Region, Uzbekistan, 220900\", 'address_line1': 'B&B Orzu', 'address_line2': \"M. Bobojonov ko'chasi, Khiva, Xorazm Region, Uzbekistan, 220900\", 'categories': ['accommodation', 'accommodation.hotel'], 'details': ['details.payment'], 'datasource': {'sourcename': 'openstreetmap', 'attribution': '© OpenStreetMap contributors', 'license': 'Open Database License', 'url': 'https://www.openstreetmap.org/copyright', 'raw': {'name': 'B&B Orzu', 'osm_id': 5137695551, 'tourism': 'hotel', 'osm_type': 'n', 'check_date': '2023-07-01', 'payment:cards': 'no', 'payment:debit_cards': 'no', 'payment:credit_cards': 'no'}}, 'payment_options': {'cards': False, 'debit_cards': False, 'credit_cards': False}, 'distance': 158, 'place_id': '51ad516a8a5b2e4e4059ba56ee6c7eb04440f00103f9013f033b3201000000920308422642204f727a75'}, 'geometry': {'type': 'Point', 'coordinates': [60.3621686, 41.37885820043216]}}]}\n",
      "xiva - nearest hotel: B&B Orzu\n"
     ]
    },
    {
     "name": "stderr",
     "output_type": "stream",
     "text": [
      "ERROR:root:Error message:\n",
      "Traceback (most recent call last):\n",
      "  File \"C:\\Users\\Moburu\\AppData\\Local\\Temp\\ipykernel_26060\\1195407018.py\", line 36, in <module>\n",
      "    hotel_df.loc[index, \"Hotel Name\"] = name_address[\"features\"][0][\"properties\"][\"name\"]\n",
      "                                        ~~~~~~~~~~~~~~~~~~~~~~~~^^^\n",
      "IndexError: list index out of range\n"
     ]
    },
    {
     "name": "stdout",
     "output_type": "stream",
     "text": [
      "{'type': 'FeatureCollection', 'features': []}\n",
      "xai-xai - nearest hotel: No hotel found\n",
      "{'type': 'FeatureCollection', 'features': [{'type': 'Feature', 'properties': {'name': 'Portside Hotel', 'country': 'New Zealand', 'country_code': 'nz', 'state': 'Gisborne', 'county': 'Gisborne District', 'city': 'Gisborne', 'postcode': '4010', 'suburb': 'Victoria', 'street': 'Reads Quay', 'housenumber': '2', 'lon': 178.02669938525247, 'lat': -38.67172805, 'state_code': 'GIS', 'formatted': 'Portside Hotel, 2 Reads Quay, Victoria, Gisborne 4010, New Zealand', 'address_line1': 'Portside Hotel', 'address_line2': '2 Reads Quay, Victoria, Gisborne 4010, New Zealand', 'categories': ['accommodation', 'accommodation.hotel', 'building', 'building.accommodation'], 'details': ['details.building'], 'datasource': {'sourcename': 'openstreetmap', 'attribution': '© OpenStreetMap contributors', 'license': 'Open Database License', 'url': 'https://www.openstreetmap.org/copyright', 'raw': {'name': 'Portside Hotel', 'osm_id': 911416104, 'tourism': 'hotel', 'building': 'yes', 'osm_type': 'w', 'addr:city': 'Gisborne', 'addr:street': 'Reads Quay', 'addr:suburb': 'Gisborne', 'addr:postcode': 4010, 'building:levels': 3, 'addr:housenumber': 2, 'ref:linz:address_id': 1382369}}, 'building': {'levels': 3}, 'distance': 2804, 'place_id': '51724fabb8da406640593ecd4c2ffb5543c0f00102f901281b53360000000092030e506f72747369646520486f74656c'}, 'geometry': {'type': 'Point', 'coordinates': [178.02669938525247, -38.671728050709575]}}]}\n",
      "gisborne - nearest hotel: Portside Hotel\n",
      "{'type': 'FeatureCollection', 'features': [{'type': 'Feature', 'properties': {'name': 'Hotel Brasil', 'country': 'Brazil', 'country_code': 'br', 'region': 'South Region', 'state': 'Rio Grande do Sul', 'county': 'Região Geográfica Intermediária de Pelotas', 'city': 'Santa Vitória do Palmar', 'municipality': 'Região Geográfica Imediata de Pelotas', 'postcode': '96230-000', 'district': 'Santa Vitória do Palmar', 'neighbourhood': 'Centro', 'street': 'Rua Barão do Rio Branco', 'housenumber': '703', 'lon': -53.3658395, 'lat': -33.5219953, 'state_code': 'RS', 'formatted': 'Hotel Brasil, Rua Barão do Rio Branco 703, Santa Vitória do Palmar - RS, 96230-000, Brazil', 'address_line1': 'Hotel Brasil', 'address_line2': 'Rua Barão do Rio Branco 703, Santa Vitória do Palmar - RS, 96230-000, Brazil', 'categories': ['accommodation', 'accommodation.hotel', 'wheelchair', 'wheelchair.limited'], 'details': ['details.facilities'], 'datasource': {'sourcename': 'openstreetmap', 'attribution': '© OpenStreetMap contributors', 'license': 'Open Database License', 'url': 'https://www.openstreetmap.org/copyright', 'raw': {'name': 'Hotel Brasil', 'osm_id': 7229063415, 'tourism': 'hotel', 'osm_type': 'n', 'wheelchair': 'limited', 'addr:street': 'Rua Barão do Rio Branco', 'addr:housenumber': 703}}, 'facilities': {'wheelchair': True, 'wheelchair_details': {'condition': 'limited'}}, 'distance': 402, 'place_id': '51e10a28d4d3ae4ac0598a3df2bdd0c240c0f00103f901f7c0e2ae0100000092030c486f74656c2042726173696c'}, 'geometry': {'type': 'Point', 'coordinates': [-53.3658395, -33.521995299607696]}}]}\n",
      "santa vitoria do palmar - nearest hotel: Hotel Brasil\n"
     ]
    },
    {
     "name": "stderr",
     "output_type": "stream",
     "text": [
      "ERROR:root:Error message:\n",
      "Traceback (most recent call last):\n",
      "  File \"C:\\Users\\Moburu\\AppData\\Local\\Temp\\ipykernel_26060\\1195407018.py\", line 36, in <module>\n",
      "    hotel_df.loc[index, \"Hotel Name\"] = name_address[\"features\"][0][\"properties\"][\"name\"]\n",
      "                                        ~~~~~~~~~~~~~~~~~~~~~~~~^^^\n",
      "IndexError: list index out of range\n"
     ]
    },
    {
     "name": "stdout",
     "output_type": "stream",
     "text": [
      "{'type': 'FeatureCollection', 'features': []}\n",
      "laojunmiao - nearest hotel: No hotel found\n",
      "{'type': 'FeatureCollection', 'features': [{'type': 'Feature', 'properties': {'name': 'Kerihovi', 'country': 'Finland', 'country_code': 'fi', 'state': 'Mainland Finland', 'county': 'South Savo', 'city': 'Savonlinna', 'municipality': 'Savonlinna sub-region', 'postcode': '58200', 'district': 'Kerimäki', 'street': 'Jouhenniementie', 'lon': 29.2865008, 'lat': 61.9111061, 'formatted': 'Kerihovi, Jouhenniementie, 58200 Savonlinna, Finland', 'address_line1': 'Kerihovi', 'address_line2': 'Jouhenniementie, 58200 Savonlinna, Finland', 'categories': ['accommodation', 'accommodation.hotel'], 'details': [], 'datasource': {'sourcename': 'openstreetmap', 'attribution': '© OpenStreetMap contributors', 'license': 'Open Database License', 'url': 'https://www.openstreetmap.org/copyright', 'raw': {'name': 'Kerihovi', 'osm_id': 10250788407, 'tourism': 'hotel', 'osm_type': 'n', 'addr:city': 'Kerimäki'}}, 'distance': 646, 'place_id': '512147ce1d58493d405941c1ee1f9ff44e40f00103f901379efe62020000009203084b657269686f7669'}, 'geometry': {'type': 'Point', 'coordinates': [29.286500800000002, 61.911106101588764]}}]}\n",
      "kerimaki - nearest hotel: Kerihovi\n",
      "{'type': 'FeatureCollection', 'features': [{'type': 'Feature', 'properties': {'name': 'Casa de Piedra', 'country': 'Argentina', 'country_code': 'ar', 'state': 'Chubut Province', 'county': 'Departamento Futaleufú', 'city': 'Trevelin', 'postcode': '9203', 'street': 'Guillermo Brown', 'lon': -71.46246824708942, 'lat': -43.080076000000005, 'formatted': 'Casa de Piedra, Guillermo Brown, 9203 Trevelin, Argentina', 'address_line1': 'Casa de Piedra', 'address_line2': 'Guillermo Brown, 9203 Trevelin, Argentina', 'categories': ['accommodation', 'accommodation.hotel', 'building', 'building.accommodation', 'internet_access', 'internet_access.free'], 'details': ['details.facilities', 'details.payment'], 'datasource': {'sourcename': 'openstreetmap', 'attribution': '© OpenStreetMap contributors', 'license': 'Open Database License', 'url': 'https://www.openstreetmap.org/copyright', 'raw': {'name': 'Casa de Piedra', 'osm_id': 661826372, 'tourism': 'hotel', 'building': 'hotel', 'osm_type': 'w', 'payment:visa': 'yes', 'internet_access': 'wlan', 'payment:mastercard': 'yes', 'internet_access:fee': 'no'}}, 'facilities': {'internet_access': True}, 'payment_options': {'visa': True, 'mastercard': True}, 'building': {'type': 'hotel'}, 'distance': 633, 'place_id': '51fe2b6b1499dd51c0598e9a2eee3f8a45c0f00102f90144ab72270000000092030e4361736120646520506965647261'}, 'geometry': {'type': 'Point', 'coordinates': [-71.46246824708939, -43.08007600093434]}}]}\n",
      "trevelin - nearest hotel: Casa de Piedra\n"
     ]
    },
    {
     "name": "stderr",
     "output_type": "stream",
     "text": [
      "ERROR:root:Error message:\n",
      "Traceback (most recent call last):\n",
      "  File \"C:\\Users\\Moburu\\AppData\\Local\\Temp\\ipykernel_26060\\1195407018.py\", line 36, in <module>\n",
      "    hotel_df.loc[index, \"Hotel Name\"] = name_address[\"features\"][0][\"properties\"][\"name\"]\n",
      "                                        ~~~~~~~~~~~~~~~~~~~~~~~~^^^\n",
      "IndexError: list index out of range\n"
     ]
    },
    {
     "name": "stdout",
     "output_type": "stream",
     "text": [
      "{'type': 'FeatureCollection', 'features': []}\n",
      "moyynkum - nearest hotel: No hotel found\n",
      "{'type': 'FeatureCollection', 'features': [{'type': 'Feature', 'properties': {'name': 'Fazenda Bonfim', 'country': 'Brazil', 'country_code': 'br', 'region': 'Northeast Region', 'state': 'Rio Grande do Norte', 'county': 'Região Geográfica Intermediária de Natal', 'city': 'São José de Mipibu', 'municipality': 'Região Geográfica Imediata de Natal', 'district': 'São José de Mipibu', 'street': 'SJM-220', 'lon': -35.213425331564785, 'lat': -6.034439, 'state_code': 'RN', 'formatted': 'Fazenda Bonfim, SJM-220, São José de Mipibu - RN, Brazil', 'address_line1': 'Fazenda Bonfim', 'address_line2': 'SJM-220, São José de Mipibu - RN, Brazil', 'categories': ['accommodation', 'accommodation.hotel'], 'details': [], 'datasource': {'sourcename': 'openstreetmap', 'attribution': '© OpenStreetMap contributors', 'license': 'Open Database License', 'url': 'https://www.openstreetmap.org/copyright', 'raw': {'name': 'Fazenda Bonfim', 'osm_id': 616028911, 'tourism': 'hotel', 'osm_type': 'w'}}, 'distance': 6231, 'place_id': '51b79a7185519b41c059946a25fa432318c0f00102f901efdab7240000000092030e46617a656e646120426f6e66696d'}, 'geometry': {'type': 'Point', 'coordinates': [-35.213425331564785, -6.034438999685012]}}]}\n",
      "nisia floresta - nearest hotel: Fazenda Bonfim\n"
     ]
    },
    {
     "name": "stderr",
     "output_type": "stream",
     "text": [
      "ERROR:root:Error message:\n",
      "Traceback (most recent call last):\n",
      "  File \"C:\\Users\\Moburu\\AppData\\Local\\Temp\\ipykernel_26060\\1195407018.py\", line 36, in <module>\n",
      "    hotel_df.loc[index, \"Hotel Name\"] = name_address[\"features\"][0][\"properties\"][\"name\"]\n",
      "                                        ~~~~~~~~~~~~~~~~~~~~~~~~^^^\n",
      "IndexError: list index out of range\n"
     ]
    },
    {
     "name": "stdout",
     "output_type": "stream",
     "text": [
      "{'type': 'FeatureCollection', 'features': []}\n",
      "kavaratti - nearest hotel: No hotel found\n"
     ]
    },
    {
     "name": "stderr",
     "output_type": "stream",
     "text": [
      "ERROR:root:Error message:\n",
      "Traceback (most recent call last):\n",
      "  File \"C:\\Users\\Moburu\\AppData\\Local\\Temp\\ipykernel_26060\\1195407018.py\", line 36, in <module>\n",
      "    hotel_df.loc[index, \"Hotel Name\"] = name_address[\"features\"][0][\"properties\"][\"name\"]\n",
      "                                        ~~~~~~~~~~~~~~~~~~~~~~~~^^^\n",
      "IndexError: list index out of range\n"
     ]
    },
    {
     "name": "stdout",
     "output_type": "stream",
     "text": [
      "{'type': 'FeatureCollection', 'features': []}\n",
      "santo antonio do ica - nearest hotel: No hotel found\n",
      "{'type': 'FeatureCollection', 'features': [{'type': 'Feature', 'properties': {'name': 'ホチルいのう', 'country': 'Japan', 'country_code': 'jp', 'state': 'Shiribeshi Subprefecture', 'county': 'Iwanai County', 'province': 'Hokkaido Prefecture', 'city': 'Iwanai', 'postcode': '045-0003', 'suburb': '字高台', 'street': 'Iwanai Toya Line', 'lon': 140.52118214871206, 'lat': 42.97961535, 'formatted': 'Hotel Ions, Iwanai Toya Line, 字高台, Iwanai, Shiribeshi Subprefecture 045-0003, Japan', 'address_line1': 'Hotel Ions', 'address_line2': 'Iwanai Toya Line, 字高台, Iwanai, Shiribeshi Subprefecture 045-0003, Japan', 'categories': ['accommodation', 'accommodation.hotel', 'building', 'building.accommodation'], 'details': ['details'], 'datasource': {'sourcename': 'openstreetmap', 'attribution': '© OpenStreetMap contributors', 'license': 'Open Database License', 'url': 'https://www.openstreetmap.org/copyright', 'raw': {'name': 'ホチルいのう', 'osm_id': 896872455, 'name:en': 'Hotel Ions', 'tourism': 'hotel', 'website': 'https://www.h-inou.jp', 'building': 'yes', 'osm_type': 'w'}}, 'website': 'https://www.h-inou.jp', 'name_international': {'en': 'Hotel Ions'}, 'distance': 1138, 'place_id': '51467f2f86ad906140591e9b2a09647d4540f00102f9010730753500000000920312e3839be38381e383abe38184e381aee38186'}, 'geometry': {'type': 'Point', 'coordinates': [140.52118214871206, 42.97961535053604]}}]}\n",
      "iwanai - nearest hotel: ホチルいのう\n"
     ]
    },
    {
     "name": "stderr",
     "output_type": "stream",
     "text": [
      "ERROR:root:Error message:\n",
      "Traceback (most recent call last):\n",
      "  File \"C:\\Users\\Moburu\\AppData\\Local\\Temp\\ipykernel_26060\\1195407018.py\", line 36, in <module>\n",
      "    hotel_df.loc[index, \"Hotel Name\"] = name_address[\"features\"][0][\"properties\"][\"name\"]\n",
      "                                        ~~~~~~~~~~~~~~~~~~~~~~~~^^^\n",
      "IndexError: list index out of range\n"
     ]
    },
    {
     "name": "stdout",
     "output_type": "stream",
     "text": [
      "{'type': 'FeatureCollection', 'features': []}\n",
      "sinop - nearest hotel: No hotel found\n",
      "{'type': 'FeatureCollection', 'features': [{'type': 'Feature', 'properties': {'name': 'Nuevo Hotel Rivadavia', 'country': 'Argentina', 'country_code': 'ar', 'state': 'Córdoba', 'state_district': 'Departamento Marcos Juárez', 'county': 'Pedanía Las Tunas', 'city': 'Arias', 'municipality': 'Municipio de Arias', 'postcode': 'X2624', 'street': 'Avenida Rivadavia', 'lon': -62.399081, 'lat': -33.6464151, 'state_code': 'X', 'formatted': 'Nuevo Hotel Rivadavia, Avenida Rivadavia, X2624 Arias, Argentina', 'address_line1': 'Nuevo Hotel Rivadavia', 'address_line2': 'Avenida Rivadavia, X2624 Arias, Argentina', 'categories': ['accommodation', 'accommodation.hotel'], 'details': [], 'datasource': {'sourcename': 'openstreetmap', 'attribution': '© OpenStreetMap contributors', 'license': 'Open Database License', 'url': 'https://www.openstreetmap.org/copyright', 'raw': {'name': 'Nuevo Hotel Rivadavia', 'osm_id': 3593509745, 'tourism': 'hotel', 'osm_type': 'n', 'addr:city': 'Arias', 'addr:street': 'Avenida Rivadavia', 'addr:postcode': 'X2624'}}, 'distance': 423, 'place_id': '513dba111615334fc059ad45e0babdd240c0f00103f901719b30d6000000009203154e7565766f20486f74656c20526976616461766961'}, 'geometry': {'type': 'Point', 'coordinates': [-62.399081, -33.64641509962835]}}]}\n",
      "arias - nearest hotel: Nuevo Hotel Rivadavia\n",
      "{'type': 'FeatureCollection', 'features': [{'type': 'Feature', 'properties': {'name': 'Los Corceles', 'country': 'Colombia', 'country_code': 'co', 'region': 'RAP Amazonía', 'state': 'Caquetá', 'city': 'Cartagena del Chairá', 'street': 'Carrera 6', 'lon': -74.8431963, 'lat': 1.3338601, 'state_code': 'CAQ', 'formatted': 'Los Corceles, Carrera 6, Cartagena del Chairá, CAQ, Colombia', 'address_line1': 'Los Corceles', 'address_line2': 'Carrera 6, Cartagena del Chairá, CAQ, Colombia', 'categories': ['accommodation', 'accommodation.hotel'], 'details': [], 'datasource': {'sourcename': 'openstreetmap', 'attribution': '© OpenStreetMap contributors', 'license': 'Open Database License', 'url': 'https://www.openstreetmap.org/copyright', 'raw': {'name': 'Los Corceles', 'osm_id': 6728225775, 'tourism': 'hotel', 'osm_type': 'n'}}, 'distance': 120, 'place_id': '51ec269dedf6b552c0596d4d25b07d57f53ff00103f901ef9308910100000092030c4c6f7320436f7263656c6573'}, 'geometry': {'type': 'Point', 'coordinates': [-74.84319629999999, 1.3338600998584653]}}]}\n",
      "cartagena del chaira - nearest hotel: Los Corceles\n",
      "{'type': 'FeatureCollection', 'features': [{'type': 'Feature', 'properties': {'name': 'Temple Gardens Mineral Spa Resort', 'country': 'Canada', 'country_code': 'ca', 'state': 'Saskatchewan', 'county': 'Division No. 7', 'city': 'Moose Jaw', 'postcode': 'S6H 3K1', 'street': 'Fairford Street E', 'lon': -105.53343437001016, 'lat': 50.392979249999996, 'state_code': 'SK', 'formatted': 'Temple Gardens Mineral Spa Resort, Fairford Street E, Moose Jaw, SK S6H 3K1, Canada', 'address_line1': 'Temple Gardens Mineral Spa Resort', 'address_line2': 'Fairford Street E, Moose Jaw, SK S6H 3K1, Canada', 'categories': ['accommodation', 'accommodation.hotel', 'building', 'building.accommodation'], 'details': [], 'datasource': {'sourcename': 'openstreetmap', 'attribution': '© OpenStreetMap contributors', 'license': 'Open Database License', 'url': 'https://www.openstreetmap.org/copyright', 'raw': {'name': 'Temple Gardens Mineral Spa Resort', 'osm_id': 156153589, 'tourism': 'hotel', 'building': 'yes', 'osm_type': 'w'}}, 'distance': 756, 'place_id': '516170e9c923625ac0597604e0244d324940f00102f901f5b64e090000000092032154656d706c652047617264656e73204d696e6572616c20537061205265736f7274'}, 'geometry': {'type': 'Point', 'coordinates': [-105.53343437001014, 50.39297924936629]}}]}\n",
      "moose jaw - nearest hotel: Temple Gardens Mineral Spa Resort\n",
      "{'type': 'FeatureCollection', 'features': [{'type': 'Feature', 'properties': {'name': 'Travelodge', 'country': 'Canada', 'country_code': 'ca', 'state': 'Ontario', 'state_district': 'Northeastern Ontario', 'county': 'Cochrane District', 'city': 'Kapuskasing', 'postcode': 'P5N 1E4', 'street': 'Kolb Avenue', 'housenumber': '25', 'lon': -82.4204146, 'lat': 49.41539005, 'state_code': 'ON', 'formatted': 'Travelodge, 25 Kolb Avenue, Kapuskasing, ON P5N 1E4, Canada', 'address_line1': 'Travelodge', 'address_line2': '25 Kolb Avenue, Kapuskasing, ON P5N 1E4, Canada', 'categories': ['accommodation', 'accommodation.hotel', 'building', 'building.accommodation'], 'details': ['details', 'details.contact'], 'datasource': {'sourcename': 'openstreetmap', 'attribution': '© OpenStreetMap contributors', 'license': 'Open Database License', 'url': 'https://www.openstreetmap.org/copyright', 'raw': {'name': 'Travelodge', 'brand': 'Travelodge', 'phone': '+1-888-527-6683', 'osm_id': 517342358, 'tourism': 'hotel', 'building': 'yes', 'osm_type': 'w', 'addr:city': 'Kapuskasing', 'addr:street': 'Kolb Avenue', 'brand:wikidata': 'Q7836087', 'brand:wikipedia': 'en:Travelodge', 'addr:housenumber': 25}}, 'brand': 'Travelodge', 'brand_details': {'wikidata': 'Q7836087', 'wikipedia': 'en:Travelodge'}, 'contact': {'phone': '+1-888-527-6683'}, 'distance': 901, 'place_id': '51b470a312e89a54c05975094b802bb54840f00102f9019604d61e0000000092030a54726176656c6f646765'}, 'geometry': {'type': 'Point', 'coordinates': [-82.42041460000002, 49.415390049590236]}}]}\n",
      "kapuskasing - nearest hotel: Travelodge\n",
      "{'type': 'FeatureCollection', 'features': [{'type': 'Feature', 'properties': {'name': 'Hotel El Massira', 'country': 'Morocco', 'country_code': 'ma', 'state': 'Dakhla-Oued Ed-Dahab', 'county': 'Pachalik de Dakhla باشوية الداخلة', 'city': 'Dakhla', 'street': 'شارع المسجد', 'lon': -15.9406993, 'lat': 23.6907922, 'formatted': 'Hotel El Massira, شارع المسجد, Dakhla, Morocco', 'address_line1': 'Hotel El Massira', 'address_line2': 'شارع المسجد, Dakhla, Morocco', 'categories': ['accommodation', 'accommodation.hotel'], 'details': [], 'datasource': {'sourcename': 'openstreetmap', 'attribution': '© OpenStreetMap contributors', 'license': 'Open Database License', 'url': 'https://www.openstreetmap.org/copyright', 'raw': {'name': 'Hotel El Massira', 'osm_id': 5312225816, 'tourism': 'hotel', 'osm_type': 'n'}}, 'distance': 1885, 'place_id': '517dbdb156a3e12fc0594ed7f4c1d7b03740f00103f9011822a23c01000000920310486f74656c20456c204d617373697261'}, 'geometry': {'type': 'Point', 'coordinates': [-15.9406993, 23.690792200351375]}}]}\n",
      "dakhla - nearest hotel: Hotel El Massira\n",
      "{'type': 'FeatureCollection', 'features': [{'type': 'Feature', 'properties': {'name': '惠州天悦（嘉柏）大酒店', 'country': 'China', 'country_code': 'cn', 'state': 'Guangdong Province', 'city': 'Huizhou', 'postcode': '516001', 'district': 'Huicheng District', 'suburb': 'Qiaoxi Subdistrict', 'street': '麦地路', 'housenumber': '22号', 'lon': 114.400058878366, 'lat': 23.07680175, 'formatted': '惠州天悦（嘉柏）大酒店, 22号 麦地路, Qiaoxi Subdistrict, 516001 Guangdong Province, China', 'address_line1': '惠州天悦（嘉柏）大酒店', 'address_line2': '22号 麦地路, Qiaoxi Subdistrict, 516001 Guangdong Province, China', 'categories': ['accommodation', 'accommodation.hotel', 'building', 'building.accommodation', 'internet_access', 'wheelchair', 'wheelchair.yes'], 'details': ['details', 'details.accommodation', 'details.building', 'details.contact', 'details.facilities'], 'datasource': {'sourcename': 'openstreetmap', 'attribution': '© OpenStreetMap contributors', 'license': 'Open Database License', 'url': 'https://www.openstreetmap.org/copyright', 'raw': {'name': '惠州天悦（嘉柏）大酒店', 'brand': '嘉柏', 'phone': '+86 752 226 6288', 'rooms': 325, 'stars': 5, 'osm_id': 1056261496, 'tourism': 'hotel', 'building': 'yes', 'operator': '惠州国际金融大厦天悦大酒店', 'osm_type': 'w', 'addr:city': '惠州市', 'wheelchair': 'yes', 'addr:street': '麦地路', 'addr:district': '惠城区', 'addr:postcode': 516001, 'addr:province': '广东省', 'building:levels': 33, 'internet_access': 'yes', 'addr:housenumber': '22号', 'air_conditioning': 'yes'}}, 'brand': '嘉柏', 'operator': '惠州国际金融大厦天悦大酒店', 'contact': {'phone': '+86 752 226 6288'}, 'facilities': {'internet_access': True, 'wheelchair': True, 'air_conditioning': True}, 'accommodation': {'stars': 5, 'rooms': 325}, 'building': {'levels': 33}, 'distance': 693, 'place_id': '519bc38d909a995c40597a298e47a9133740f00102f9017845f53e00000000920321e683a0e5b79ee5a4a9e682a6efbc88e59889e69f8fefbc89e5a4a7e98592e5ba97'}, 'geometry': {'type': 'Point', 'coordinates': [114.40005887836598, 23.076801750381016]}}]}\n",
      "huizhou - nearest hotel: 惠州天悦（嘉柏）大酒店\n",
      "{'type': 'FeatureCollection', 'features': [{'type': 'Feature', 'properties': {'name': 'The Mill Casino Hotel', 'country': 'United States', 'country_code': 'us', 'state': 'Oregon', 'county': 'Coos County', 'city': 'North Bend', 'postcode': '97420', 'street': 'Tremont Avenue', 'lon': -124.2186557, 'lat': 43.3932677, 'state_code': 'OR', 'formatted': 'The Mill Casino Hotel, Tremont Avenue, North Bend, OR 97420, United States of America', 'address_line1': 'The Mill Casino Hotel', 'address_line2': 'Tremont Avenue, North Bend, OR 97420, United States of America', 'categories': ['accommodation', 'accommodation.hotel'], 'details': [], 'datasource': {'sourcename': 'openstreetmap', 'attribution': '© OpenStreetMap contributors', 'license': 'Open Database License', 'url': 'https://www.openstreetmap.org/copyright', 'raw': {'name': 'The Mill Casino Hotel', 'osm_id': 5936918293, 'tourism': 'hotel', 'osm_type': 'n'}}, 'distance': 1540, 'place_id': '515e257a74fe0d5fc0594d33949856b24540f00103f901152fde6101000000920315546865204d696c6c20436173696e6f20486f74656c'}, 'geometry': {'type': 'Point', 'coordinates': [-124.21865569999997, 43.39326770054195]}}]}\n",
      "north bend - nearest hotel: The Mill Casino Hotel\n"
     ]
    },
    {
     "name": "stderr",
     "output_type": "stream",
     "text": [
      "ERROR:root:Error message:\n",
      "Traceback (most recent call last):\n",
      "  File \"C:\\Users\\Moburu\\AppData\\Local\\Temp\\ipykernel_26060\\1195407018.py\", line 36, in <module>\n",
      "    hotel_df.loc[index, \"Hotel Name\"] = name_address[\"features\"][0][\"properties\"][\"name\"]\n",
      "                                        ~~~~~~~~~~~~~~~~~~~~~~~~^^^\n",
      "IndexError: list index out of range\n"
     ]
    },
    {
     "name": "stdout",
     "output_type": "stream",
     "text": [
      "{'type': 'FeatureCollection', 'features': []}\n",
      "tokar - nearest hotel: No hotel found\n",
      "{'type': 'FeatureCollection', 'features': [{'type': 'Feature', 'properties': {'name': 'The Inn on the Lake', 'country': 'United States', 'country_code': 'us', 'state': 'New York', 'county': 'Ontario County', 'city': 'City of Canandaigua', 'postcode': '14424', 'street': 'South Main Street', 'housenumber': '770', 'lon': -77.27414520727584, 'lat': 42.874766050000005, 'state_code': 'NY', 'formatted': 'The Inn on the Lake, 770 South Main Street, City of Canandaigua, NY 14424, United States of America', 'address_line1': 'The Inn on the Lake', 'address_line2': '770 South Main Street, City of Canandaigua, NY 14424, United States of America', 'categories': ['accommodation', 'accommodation.hotel', 'building', 'building.accommodation'], 'details': ['details', 'details.contact'], 'datasource': {'sourcename': 'openstreetmap', 'attribution': '© OpenStreetMap contributors', 'license': 'Open Database License', 'url': 'https://www.openstreetmap.org/copyright', 'raw': {'name': 'The Inn on the Lake', 'osm_id': 89611763, 'tourism': 'hotel', 'building': 'yes', 'osm_type': 'w', 'addr:city': 'Canandaigua', 'addr:state': 'NY', 'addr:street': 'South Main Street', 'addr:country': 'US', 'addr:postcode': 14424, 'contact:email': 'theinnonthelake@hudsonhotels.com', 'contact:phone': '585 394 7800', 'contact:website': 'http://www.theinnonthelake.com', 'addr:housenumber': 770}}, 'website': 'http://www.theinnonthelake.com', 'contact': {'phone': '585 394 7800', 'email': 'theinnonthelake@hudsonhotels.com'}, 'distance': 988, 'place_id': '51b6e656988b5153c05962587d55f86f4540f00102f901f35d57050000000092031354686520496e6e206f6e20746865204c616b65'}, 'geometry': {'type': 'Point', 'coordinates': [-77.27414520727584, 42.87476605053304]}}]}\n",
      "canandaigua - nearest hotel: The Inn on the Lake\n"
     ]
    },
    {
     "name": "stderr",
     "output_type": "stream",
     "text": [
      "ERROR:root:Error message:\n",
      "Traceback (most recent call last):\n",
      "  File \"C:\\Users\\Moburu\\AppData\\Local\\Temp\\ipykernel_26060\\1195407018.py\", line 36, in <module>\n",
      "    hotel_df.loc[index, \"Hotel Name\"] = name_address[\"features\"][0][\"properties\"][\"name\"]\n",
      "                                        ~~~~~~~~~~~~~~~~~~~~~~~~^^^\n",
      "IndexError: list index out of range\n"
     ]
    },
    {
     "name": "stdout",
     "output_type": "stream",
     "text": [
      "{'type': 'FeatureCollection', 'features': []}\n",
      "princeville - nearest hotel: No hotel found\n",
      "{'type': 'FeatureCollection', 'features': [{'type': 'Feature', 'properties': {'name': 'Best Western Plus Caldwell Inn & Suites', 'country': 'United States', 'country_code': 'us', 'state': 'Idaho', 'county': 'Canyon County', 'city': 'Caldwell', 'postcode': '83605', 'street': 'Specht Avenue', 'housenumber': '908', 'lon': -116.66433746489902, 'lat': 43.661587, 'state_code': 'ID', 'formatted': 'Best Western Plus Caldwell Inn & Suites, 908 Specht Avenue, Caldwell, ID 83605, United States of America', 'address_line1': 'Best Western Plus Caldwell Inn & Suites', 'address_line2': '908 Specht Avenue, Caldwell, ID 83605, United States of America', 'categories': ['accommodation', 'accommodation.hotel', 'building', 'building.accommodation'], 'details': [], 'datasource': {'sourcename': 'openstreetmap', 'attribution': '© OpenStreetMap contributors', 'license': 'Open Database License', 'url': 'https://www.openstreetmap.org/copyright', 'raw': {'name': 'Best Western Plus Caldwell Inn & Suites', 'osm_id': 753642634, 'tourism': 'hotel', 'building': 'yes', 'osm_type': 'w', 'addr:city': 'Caldwell', 'addr:state': 'ID', 'addr:street': 'Specht Avenue', 'addr:postcode': 83605, 'addr:housenumber': 908}}, 'distance': 1829, 'place_id': '51ee4f4981842a5dc059e46301e2aed44540f00102f9018aaceb2c0000000092032742657374205765737465726e20506c75732043616c6477656c6c20496e6e202620537569746573'}, 'geometry': {'type': 'Point', 'coordinates': [-116.66433746489903, 43.66158700054055]}}]}\n",
      "caldwell - nearest hotel: Best Western Plus Caldwell Inn & Suites\n",
      "{'type': 'FeatureCollection', 'features': [{'type': 'Feature', 'properties': {'name': 'Hotel Archipelago villa bed and breakfast', 'country': 'Kenya', 'country_code': 'ke', 'region': 'Coast', 'state': 'Lamu', 'county': 'Lamu West', 'city': 'Mkomami ward', 'street': 'Corniche Path', 'lon': 40.9033165, 'lat': -2.2711766, 'formatted': 'Hotel Archipelago villa bed and breakfast, Corniche Path, Mkomami ward, Kenya', 'address_line1': 'Hotel Archipelago villa bed and breakfast', 'address_line2': 'Corniche Path, Mkomami ward, Kenya', 'categories': ['accommodation', 'accommodation.hotel'], 'details': [], 'datasource': {'sourcename': 'openstreetmap', 'attribution': '© OpenStreetMap contributors', 'license': 'Open Database License', 'url': 'https://www.openstreetmap.org/copyright', 'raw': {'name': 'Hotel Archipelago villa bed and breakfast', 'osm_id': 2618414049, 'tourism': 'hotel', 'osm_type': 'n'}}, 'distance': 157, 'place_id': '51f6b704e09f7344405929921ca35e2b02c0f00103f901e1d3119c00000000920329486f74656c20417263686970656c61676f2076696c6c612062656420616e6420627265616b66617374'}, 'geometry': {'type': 'Point', 'coordinates': [40.9033165, -2.2711765997976454]}}]}\n",
      "lamu - nearest hotel: Hotel Archipelago villa bed and breakfast\n",
      "{'type': 'FeatureCollection', 'features': [{'type': 'Feature', 'properties': {'name': 'Brit Hotel Montpellier Parc Expo', 'country': 'France', 'country_code': 'fr', 'region': 'Metropolitan France', 'state': 'Occitania', 'county': 'Hérault', 'city': 'Pérols', 'municipality': 'Montpellier', 'postcode': '34470', 'district': 'Les Galines', 'street': 'Avenue Georges Frêche', 'lon': 3.944842812885576, 'lat': 43.5741196, 'state_code': 'OCC', 'state_COG': '76', 'formatted': 'Brit Hotel Montpellier Parc Expo, Avenue Georges Frêche, 34470 Pérols, France', 'address_line1': 'Brit Hotel Montpellier Parc Expo', 'address_line2': 'Avenue Georges Frêche, 34470 Pérols, France', 'categories': ['accommodation', 'accommodation.hotel', 'building', 'building.accommodation', 'internet_access'], 'details': ['details', 'details.accommodation', 'details.facilities'], 'datasource': {'sourcename': 'openstreetmap', 'attribution': '© OpenStreetMap contributors', 'license': 'Open Database License', 'url': 'https://www.openstreetmap.org/copyright', 'raw': {'name': 'Brit Hotel Montpellier Parc Expo', 'brand': 'Brit Hotel', 'rooms': 74, 'stars': 2, 'osm_id': 109119534, 'tourism': 'hotel', 'website': 'https://www.brithotel.fr/occitanie/montpellier', 'building': 'hotel', 'operator': 'Brit Hotels', 'osm_type': 'w', 'addr:city': 'Pérols', 'addr:street': 'Avenue Georges Frêche', 'addr:postcode': 34470, 'brand:wikidata': 'Q2925673', 'brand:wikipedia': 'fr:Brit Hotel', 'internet_access': 'wlan', 'air_conditioning': 'yes'}}, 'website': 'https://www.brithotel.fr/occitanie/montpellier', 'brand': 'Brit Hotel', 'brand_details': {'wikidata': 'Q2925673', 'wikipedia': 'fr:Brit Hotel'}, 'operator': 'Brit Hotels', 'facilities': {'internet_access': True, 'air_conditioning': True}, 'accommodation': {'stars': 2, 'rooms': 74}, 'building': {'type': 'hotel'}, 'distance': 1325, 'place_id': '512ea2a9bf098f0f4059ba2846c07cc94540f00102f9012e088106000000009203204272697420486f74656c204d6f6e7470656c6c6965722050617263204578706f'}, 'geometry': {'type': 'Point', 'coordinates': [3.9448428128855744, 43.574119600541465]}}]}\n",
      "perols - nearest hotel: Brit Hotel Montpellier Parc Expo\n",
      "{'type': 'FeatureCollection', 'features': [{'type': 'Feature', 'properties': {'name': 'Le Normandy', 'country': 'France', 'country_code': 'fr', 'region': 'Metropolitan France', 'state': 'Normandy', 'county': 'Seine-Maritime', 'city': 'Fécamp', 'municipality': 'Le Havre', 'postcode': '76400', 'street': 'Avenue Gambetta', 'lon': 0.3768758175081044, 'lat': 49.75862675, 'state_code': 'NOR', 'state_COG': '28', 'formatted': 'Le Normandy, Avenue Gambetta, 76400 Fécamp, France', 'address_line1': 'Le Normandy', 'address_line2': 'Avenue Gambetta, 76400 Fécamp, France', 'categories': ['accommodation', 'accommodation.hotel', 'building', 'building.accommodation'], 'details': [], 'datasource': {'sourcename': 'openstreetmap', 'attribution': '© OpenStreetMap contributors', 'license': 'Open Database License', 'url': 'https://www.openstreetmap.org/copyright', 'raw': {'name': 'Le Normandy', 'osm_id': 135938420, 'tourism': 'hotel', 'building': 'yes', 'osm_type': 'w'}}, 'distance': 155, 'place_id': '510c6fb6bfbb1ed83f5909816bae1ae14840f00102f90174411a080000000092030b4c65204e6f726d616e6479'}, 'geometry': {'type': 'Point', 'coordinates': [0.37687581750809396, 49.7586267495081]}}]}\n",
      "fecamp - nearest hotel: Le Normandy\n",
      "{'type': 'FeatureCollection', 'features': [{'type': 'Feature', 'properties': {'name': 'Abhirami Farm Resort', 'country': 'India', 'country_code': 'in', 'state': 'Kerala', 'state_district': 'Wayanad District', 'county': 'Mananthavady', 'city': 'Thonichal', 'postcode': '670605', 'district': 'Kuvvamoolakkunnu Colony', 'street': 'Mananthavady- Kalpetta road', 'lon': 76.001699, 'lat': 11.7706571, 'state_code': 'KL', 'formatted': 'Abhirami Farm Resort, Mananthavady- Kalpetta road, Kuvvamoolakkunnu Colony, Thonichal - 670605, Kerala, India', 'address_line1': 'Abhirami Farm Resort', 'address_line2': 'Mananthavady- Kalpetta road, Kuvvamoolakkunnu Colony, Thonichal - 670605, Kerala, India', 'categories': ['accommodation', 'accommodation.hotel'], 'details': [], 'datasource': {'sourcename': 'openstreetmap', 'attribution': '© OpenStreetMap contributors', 'license': 'Open Database License', 'url': 'https://www.openstreetmap.org/copyright', 'raw': {'name': 'Abhirami Farm Resort', 'osm_id': 3259281721, 'tourism': 'hotel', 'osm_type': 'n', 'addr:city': 'Thonichal'}}, 'distance': 8542, 'place_id': '51e55b1fd61b0053405999143e91938a2740f00103f90139b144c2000000009203144162686972616d69204661726d205265736f7274'}, 'geometry': {'type': 'Point', 'coordinates': [76.00169899999999, 11.770657099559957]}}]}\n",
      "panamaram - nearest hotel: Abhirami Farm Resort\n"
     ]
    },
    {
     "name": "stderr",
     "output_type": "stream",
     "text": [
      "ERROR:root:Error message:\n",
      "Traceback (most recent call last):\n",
      "  File \"C:\\Users\\Moburu\\AppData\\Local\\Temp\\ipykernel_26060\\1195407018.py\", line 36, in <module>\n",
      "    hotel_df.loc[index, \"Hotel Name\"] = name_address[\"features\"][0][\"properties\"][\"name\"]\n",
      "                                        ~~~~~~~~~~~~~~~~~~~~~~~~^^^\n",
      "IndexError: list index out of range\n"
     ]
    },
    {
     "name": "stdout",
     "output_type": "stream",
     "text": [
      "{'type': 'FeatureCollection', 'features': []}\n",
      "schrozberg - nearest hotel: No hotel found\n",
      "{'type': 'FeatureCollection', 'features': [{'type': 'Feature', 'properties': {'name': 'Hotelli-ravintola Kurenkoski', 'country': 'Finland', 'country_code': 'fi', 'state': 'Mainland Finland', 'county': 'North Ostrobothnia', 'city': 'Pudasjärvi', 'village': 'Kurenalus', 'municipality': 'Oulunkaari sub-region', 'postcode': '93100', 'street': 'Kauppatie', 'housenumber': '7', 'lon': 26.99439808264664, 'lat': 65.36098000000001, 'formatted': 'Hotelli-ravintola Kurenkoski, Kauppatie 7, 93100 Pudasjärvi, Finland', 'address_line1': 'Hotelli-ravintola Kurenkoski', 'address_line2': 'Kauppatie 7, 93100 Pudasjärvi, Finland', 'categories': ['accommodation', 'accommodation.hotel'], 'details': ['details', 'details.accommodation'], 'datasource': {'sourcename': 'openstreetmap', 'attribution': '© OpenStreetMap contributors', 'license': 'Open Database License', 'url': 'https://www.openstreetmap.org/copyright', 'raw': {'name': 'Hotelli-ravintola Kurenkoski', 'rooms': 13, 'osm_id': 1110341388, 'tourism': 'hotel', 'website': 'https://www.kurenkoski.fi/', 'osm_type': 'w', 'addr:city': 'Pudasjärvi', 'addr:street': 'Kauppatie', 'addr:postcode': 93100, 'addr:housenumber': 7}}, 'website': 'https://www.kurenkoski.fi/', 'accommodation': {'rooms': 13}, 'distance': 4348, 'place_id': '51282c6cdf90fe3a4059a800da4b1a575040f00102f9010c772e420000000092031c486f74656c6c692d726176696e746f6c61204b7572656e6b6f736b69'}, 'geometry': {'type': 'Point', 'coordinates': [26.994398082646654, 65.36097999848664]}}]}\n",
      "pudasjarvi - nearest hotel: Hotelli-ravintola Kurenkoski\n",
      "{'type': 'FeatureCollection', 'features': [{'type': 'Feature', 'properties': {'name': 'Recreation Hotel', 'country': 'New Zealand', 'country_code': 'nz', 'state': 'West Coast', 'county': 'Grey District', 'city': 'Greymouth', 'postcode': '7085', 'suburb': 'Wharemoa', 'street': 'High Street', 'lon': 171.20048084602323, 'lat': -42.46006355, 'state_code': 'WTC', 'formatted': 'Recreation Hotel, High Street, Wharemoa, Greymouth 7085, New Zealand', 'address_line1': 'Recreation Hotel', 'address_line2': 'High Street, Wharemoa, Greymouth 7085, New Zealand', 'categories': ['accommodation', 'accommodation.hotel', 'building', 'building.accommodation'], 'details': [], 'datasource': {'sourcename': 'openstreetmap', 'attribution': '© OpenStreetMap contributors', 'license': 'Open Database License', 'url': 'https://www.openstreetmap.org/copyright', 'raw': {'name': 'Recreation Hotel', 'osm_id': 239382464, 'tourism': 'hotel', 'building': 'yes', 'osm_type': 'w'}}, 'distance': 717, 'place_id': '519ca4ce566a66654059e8cfc85ce33a45c0f00102f901c0af440e0000000092031052656372656174696f6e20486f74656c'}, 'geometry': {'type': 'Point', 'coordinates': [171.2004808460232, -42.46006355099945]}}]}\n",
      "greymouth - nearest hotel: Recreation Hotel\n"
     ]
    },
    {
     "name": "stderr",
     "output_type": "stream",
     "text": [
      "ERROR:root:Error message:\n",
      "Traceback (most recent call last):\n",
      "  File \"C:\\Users\\Moburu\\AppData\\Local\\Temp\\ipykernel_26060\\1195407018.py\", line 36, in <module>\n",
      "    hotel_df.loc[index, \"Hotel Name\"] = name_address[\"features\"][0][\"properties\"][\"name\"]\n",
      "                                        ~~~~~~~~~~~~~~~~~~~~~~~~^^^\n",
      "IndexError: list index out of range\n"
     ]
    },
    {
     "name": "stdout",
     "output_type": "stream",
     "text": [
      "{'type': 'FeatureCollection', 'features': []}\n",
      "augusto correa - nearest hotel: No hotel found\n",
      "{'type': 'FeatureCollection', 'features': [{'type': 'Feature', 'properties': {'name': 'Hotel Santo Antonio', 'country': 'Brazil', 'country_code': 'br', 'region': 'North Region', 'state': 'Amazonas', 'county': 'Região Geográfica Intermediária de Manaus', 'city': 'Rio Preto da Eva', 'municipality': 'Região Geográfica Imediata de Manaus', 'postcode': '69117-000', 'district': 'Rio Preto da Eva', 'street': 'Rua Barão de São Domingos', 'lon': -59.700316700906484, 'lat': -2.69784195, 'state_code': 'AM', 'formatted': 'Hotel Santo Antonio, Rua Barão de São Domingos, Rio Preto da Eva - AM, 69117-000, Brazil', 'address_line1': 'Hotel Santo Antonio', 'address_line2': 'Rua Barão de São Domingos, Rio Preto da Eva - AM, 69117-000, Brazil', 'categories': ['accommodation', 'accommodation.hotel', 'building', 'building.accommodation'], 'details': [], 'datasource': {'sourcename': 'openstreetmap', 'attribution': '© OpenStreetMap contributors', 'license': 'Open Database License', 'url': 'https://www.openstreetmap.org/copyright', 'raw': {'name': 'Hotel Santo Antonio', 'osm_id': 612770821, 'tourism': 'hotel', 'building': 'yes', 'osm_type': 'w'}}, 'distance': 172, 'place_id': '51349e47faa3d94dc059c64500292e9505c0f00102f9010524862400000000920313486f74656c2053616e746f20416e746f6e696f'}, 'geometry': {'type': 'Point', 'coordinates': [-59.700316700906484, -2.697841949768846]}}]}\n",
      "rio preto da eva - nearest hotel: Hotel Santo Antonio\n"
     ]
    },
    {
     "name": "stderr",
     "output_type": "stream",
     "text": [
      "ERROR:root:Error message:\n",
      "Traceback (most recent call last):\n",
      "  File \"C:\\Users\\Moburu\\AppData\\Local\\Temp\\ipykernel_26060\\1195407018.py\", line 36, in <module>\n",
      "    hotel_df.loc[index, \"Hotel Name\"] = name_address[\"features\"][0][\"properties\"][\"name\"]\n",
      "                                        ~~~~~~~~~~~~~~~~~~~~~~~~~~~~~~~~~~~~~~~~~^^^^^^^^\n",
      "KeyError: 'name'\n"
     ]
    },
    {
     "name": "stdout",
     "output_type": "stream",
     "text": [
      "{'type': 'FeatureCollection', 'features': [{'type': 'Feature', 'properties': {'country': 'Japan', 'country_code': 'jp', 'county': 'Okinawa Prefecture', 'city': 'Itoman', 'postcode': '901-0306', 'district': 'Nishizakicho 1-chome', 'street': 'Event Square', 'lon': 127.65292560131385, 'lat': 26.13220135, 'formatted': 'Event Square, Itoman, Nishizakicho 1-chome 901-0306, Japan', 'address_line1': 'Event Square', 'address_line2': 'Itoman, Nishizakicho 1-chome 901-0306, Japan', 'categories': ['accommodation', 'accommodation.hotel', 'building', 'building.accommodation'], 'details': ['details.building'], 'datasource': {'sourcename': 'openstreetmap', 'attribution': '© OpenStreetMap contributors', 'license': 'Open Database License', 'url': 'https://www.openstreetmap.org/copyright', 'raw': {'osm_id': 359283626, 'tourism': 'hotel', 'building': 'yes', 'osm_type': 'w', 'building:levels': 2}}, 'building': {'levels': 2}, 'distance': 1762, 'place_id': '514e177688c9e95f405971629bf2d7213a40f00102f901aa3b6a1500000000'}, 'geometry': {'type': 'Point', 'coordinates': [127.65292560131385, 26.132201350150755]}}]}\n",
      "itoman - nearest hotel: No hotel found\n",
      "{'type': 'FeatureCollection', 'features': [{'type': 'Feature', 'properties': {'name': 'Hotel Plaza', 'country': 'Argentina', 'country_code': 'ar', 'state': 'Santa Fe', 'county': 'Departamento General López', 'city': 'Municipio de Firmat', 'postcode': '2630', 'district': 'Firmat', 'street': 'Entre Ríos', 'lon': -61.4895193, 'lat': -33.458648, 'state_code': 'S', 'formatted': 'Hotel Plaza, Entre Ríos, Firmat, 2630 Municipio de Firmat, Argentina', 'address_line1': 'Hotel Plaza', 'address_line2': 'Entre Ríos, Firmat, 2630 Municipio de Firmat, Argentina', 'categories': ['accommodation', 'accommodation.hotel'], 'details': [], 'datasource': {'sourcename': 'openstreetmap', 'attribution': '© OpenStreetMap contributors', 'license': 'Open Database License', 'url': 'https://www.openstreetmap.org/copyright', 'raw': {'name': 'Hotel Plaza', 'osm_id': 1892996238, 'tourism': 'hotel', 'osm_type': 'n'}}, 'distance': 593, 'place_id': '5163218491a8be4ec059c55247fab4ba40c0f00103f9018ed4d4700000000092030b486f74656c20506c617a61'}, 'geometry': {'type': 'Point', 'coordinates': [-61.489519300000005, -33.458647999597396]}}]}\n",
      "firmat - nearest hotel: Hotel Plaza\n",
      "{'type': 'FeatureCollection', 'features': [{'type': 'Feature', 'properties': {'name': 'Aliwen', 'country': 'Chile', 'country_code': 'cl', 'state': 'Los Lagos Region', 'county': 'Provincia de Chiloé', 'city': 'Quellón', 'postcode': '5790000', 'street': 'Juan Ladrillero', 'lon': -73.6127065, 'lat': -43.1176059, 'formatted': 'Aliwen, Juan Ladrillero, 579 0000 Quellón, Chile', 'address_line1': 'Aliwen', 'address_line2': 'Juan Ladrillero, 579 0000 Quellón, Chile', 'categories': ['accommodation', 'accommodation.hotel'], 'details': [], 'datasource': {'sourcename': 'openstreetmap', 'attribution': '© OpenStreetMap contributors', 'license': 'Open Database License', 'url': 'https://www.openstreetmap.org/copyright', 'raw': {'name': 'Aliwen', 'osm_id': 6604097092, 'tourism': 'hotel', 'osm_type': 'n'}}, 'distance': 340, 'place_id': '51fbe25295366752c0596427cdb50d8f45c0f00103f9014486a28901000000920306416c6977656e'}, 'geometry': {'type': 'Point', 'coordinates': [-73.61270649999999, -43.11760590092925]}}]}\n",
      "quellon - nearest hotel: Aliwen\n",
      "{'type': 'FeatureCollection', 'features': [{'type': 'Feature', 'properties': {'name': 'Hôtel Florida', 'country': 'Madagascar', 'country_code': 'mg', 'state': 'Sava', 'city': 'Antalaha', 'district': 'Tanambao', 'suburb': 'Ville Basse', 'street': 'Rue de Tananarive', 'lon': 50.2788304, 'lat': -14.900306, 'formatted': 'Hôtel Florida, Rue de Tananarive, Ville Basse, Antalaha, Madagascar', 'address_line1': 'Hôtel Florida', 'address_line2': 'Rue de Tananarive, Ville Basse, Antalaha, Madagascar', 'categories': ['accommodation', 'accommodation.hotel'], 'details': [], 'datasource': {'sourcename': 'openstreetmap', 'attribution': '© OpenStreetMap contributors', 'license': 'Open Database License', 'url': 'https://www.openstreetmap.org/copyright', 'raw': {'name': 'Hôtel Florida', 'osm_id': 1927204242, 'tourism': 'hotel', 'osm_type': 'n'}}, 'distance': 3, 'place_id': '51b790ecb6b02349405914fd77e8f4cc2dc0f00103f90192cdde720000000092030e48c3b474656c20466c6f72696461'}, 'geometry': {'type': 'Point', 'coordinates': [50.2788304, -14.900306000372929]}}]}\n",
      "antalaha - nearest hotel: Hôtel Florida\n",
      "{'type': 'FeatureCollection', 'features': [{'type': 'Feature', 'properties': {'name': 'Hotel Sun Village', 'country': 'India', 'country_code': 'in', 'state': 'Odisha', 'state_district': 'Puri District', 'county': 'Konark', 'city': 'Konark', 'postcode': '752111', 'street': 'NH316', 'lon': 86.1002445, 'lat': 19.8904844, 'state_code': 'OR', 'formatted': 'Hotel Sun Village, NH316, Konark - 752111, Odisha, India', 'address_line1': 'Hotel Sun Village', 'address_line2': 'NH316, Konark - 752111, Odisha, India', 'categories': ['accommodation', 'accommodation.hotel'], 'details': [], 'datasource': {'sourcename': 'openstreetmap', 'attribution': '© OpenStreetMap contributors', 'license': 'Open Database License', 'url': 'https://www.openstreetmap.org/copyright', 'raw': {'name': 'Hotel Sun Village', 'osm_id': 4183313091, 'tourism': 'hotel', 'osm_type': 'n'}}, 'distance': 2020, 'place_id': '51a646e8676a86554059f42c21c9f6e33340f00103f901c34a58f900000000920311486f74656c2053756e2056696c6c616765'}, 'geometry': {'type': 'Point', 'coordinates': [86.1002445, 19.89048440036727]}}]}\n",
      "konarka - nearest hotel: Hotel Sun Village\n",
      "{'type': 'FeatureCollection', 'features': [{'type': 'Feature', 'properties': {'name': 'Hotel Leiva', 'country': 'Honduras', 'country_code': 'hn', 'state': 'Cortés', 'county': 'Villanueva', 'city': 'Villanueva', 'district': 'Residencial Buena Vista', 'street': 'Carretera del Norte', 'lon': -87.99018655, 'lat': 15.31625605, 'state_code': 'CR', 'formatted': 'Hotel Leiva, Carretera del Norte, Villanueva, Honduras', 'address_line1': 'Hotel Leiva', 'address_line2': 'Carretera del Norte, Villanueva, Honduras', 'categories': ['accommodation', 'accommodation.hotel', 'building', 'building.accommodation'], 'details': [], 'datasource': {'sourcename': 'openstreetmap', 'attribution': '© OpenStreetMap contributors', 'license': 'Open Database License', 'url': 'https://www.openstreetmap.org/copyright', 'raw': {'name': 'Hotel Leiva', 'osm_id': 417702410, 'tourism': 'hotel', 'building': 'yes', 'osm_type': 'w'}}, 'distance': 1045, 'place_id': '511a4c68375fff55c0594d591f50eca12e40f00102f9010aa2e5180000000092030b486f74656c204c65697661'}, 'geometry': {'type': 'Point', 'coordinates': [-87.99018655, 15.31625604994465]}}]}\n",
      "villanueva - nearest hotel: Hotel Leiva\n"
     ]
    },
    {
     "name": "stderr",
     "output_type": "stream",
     "text": [
      "ERROR:root:Error message:\n",
      "Traceback (most recent call last):\n",
      "  File \"C:\\Users\\Moburu\\AppData\\Local\\Temp\\ipykernel_26060\\1195407018.py\", line 36, in <module>\n",
      "    hotel_df.loc[index, \"Hotel Name\"] = name_address[\"features\"][0][\"properties\"][\"name\"]\n",
      "                                        ~~~~~~~~~~~~~~~~~~~~~~~~^^^\n",
      "IndexError: list index out of range\n"
     ]
    },
    {
     "name": "stdout",
     "output_type": "stream",
     "text": [
      "{'type': 'FeatureCollection', 'features': []}\n",
      "dusti - nearest hotel: No hotel found\n",
      "{'type': 'FeatureCollection', 'features': [{'type': 'Feature', 'properties': {'name': 'County Hotel', 'country': 'United Kingdom', 'country_code': 'gb', 'state': 'Scotland', 'county': 'Western Isles', 'city': 'Stornoway', 'postcode': 'HS1 2XB', 'district': 'Town Centre', 'street': 'Francis Street', 'housenumber': '12-14', 'lon': -6.386871355458609, 'lat': 58.20873709999999, 'state_code': 'SCT', 'formatted': 'County Hotel, 12-14 Francis Street, Stornoway, HS1 2XB, United Kingdom', 'address_line1': 'County Hotel', 'address_line2': '12-14 Francis Street, Stornoway, HS1 2XB, United Kingdom', 'categories': ['accommodation', 'accommodation.hotel', 'building', 'building.accommodation'], 'details': ['details', 'details.contact'], 'datasource': {'sourcename': 'openstreetmap', 'attribution': '© OpenStreetMap contributors', 'license': 'Open Database License', 'url': 'https://www.openstreetmap.org/copyright', 'raw': {'name': 'County Hotel', 'phone': '+44 1851 703250', 'osm_id': 112847235, 'tourism': 'hotel', 'website': 'https://www.countyhotelstornoway.co.uk/', 'building': 'yes', 'osm_type': 'w', 'addr:city': 'Steòrnabhagh', 'addr:street': 'Sràid Fhrangain', 'addr:city:en': 'Stornoway', 'addr:country': 'GB', 'addr:postcode': 'HS1 2XB', 'addr:housenumber': '12-14'}}, 'website': 'https://www.countyhotelstornoway.co.uk/', 'contact': {'phone': '+44 1851 703250'}, 'distance': 55, 'place_id': '51d0d02d01288c19c059bee0b6e5b71a4d40f00102f90183e9b9060000000092030c436f756e747920486f74656c'}, 'geometry': {'type': 'Point', 'coordinates': [-6.386871355458609, 58.20873710088334]}}]}\n",
      "stornoway - nearest hotel: County Hotel\n"
     ]
    },
    {
     "name": "stderr",
     "output_type": "stream",
     "text": [
      "ERROR:root:Error message:\n",
      "Traceback (most recent call last):\n",
      "  File \"C:\\Users\\Moburu\\AppData\\Local\\Temp\\ipykernel_26060\\1195407018.py\", line 36, in <module>\n",
      "    hotel_df.loc[index, \"Hotel Name\"] = name_address[\"features\"][0][\"properties\"][\"name\"]\n",
      "                                        ~~~~~~~~~~~~~~~~~~~~~~~~^^^\n",
      "IndexError: list index out of range\n"
     ]
    },
    {
     "name": "stdout",
     "output_type": "stream",
     "text": [
      "{'type': 'FeatureCollection', 'features': []}\n",
      "tavas - nearest hotel: No hotel found\n",
      "{'type': 'FeatureCollection', 'features': [{'type': 'Feature', 'properties': {'name': 'Гостиница Кедр', 'country': 'Russia', 'country_code': 'ru', 'region': 'Siberian Federal District', 'state': 'Republic of Khakassia', 'county': 'Abaza', 'city': 'Abaza', 'postcode': '665750', 'street': 'Парковая улица', 'housenumber': '4', 'lon': 90.103508, 'lat': 52.6469078, 'formatted': 'Гостиница Кедр, Парковая улица 4, Abaza, Republic of Khakassia, Russia, 665750', 'address_line1': 'Гостиница Кедр', 'address_line2': 'Парковая улица 4, Abaza, Republic of Khakassia, Russia, 665750', 'categories': ['accommodation', 'accommodation.hotel'], 'details': [], 'datasource': {'sourcename': 'openstreetmap', 'attribution': '© OpenStreetMap contributors', 'license': 'Open Database License', 'url': 'https://www.openstreetmap.org/copyright', 'raw': {'name': 'Гостиница Кедр', 'osm_id': 4905766897, 'tourism': 'hotel', 'osm_type': 'n', 'addr:street': 'Парковая улица', 'addr:housenumber': 4}}, 'distance': 1156, 'place_id': '51f5b704e09f86564059674cf0dfcd524a40f00103f901f10f68240100000092031bd093d0bed181d182d0b8d0bdd0b8d186d0b020d09ad0b5d0b4d180'}, 'geometry': {'type': 'Point', 'coordinates': [90.10350799999999, 52.64690779908488]}}]}\n",
      "abaza - nearest hotel: Гостиница Кедр\n",
      "{'type': 'FeatureCollection', 'features': [{'type': 'Feature', 'properties': {'name': 'Fort St. John Motor Inn', 'country': 'Canada', 'country_code': 'ca', 'state': 'British Columbia', 'county': 'Peace River Regional District', 'city': 'Fort St. John', 'postcode': 'V1J 4X7', 'street': '102 Street', 'housenumber': '10707', 'lon': -120.8505428, 'lat': 56.2531198, 'state_code': 'BC', 'formatted': 'Fort St. John Motor Inn, 10707 102 Street, Fort St. John, BC V1J 4X7, Canada', 'address_line1': 'Fort St. John Motor Inn', 'address_line2': '10707 102 Street, Fort St. John, BC V1J 4X7, Canada', 'categories': ['accommodation', 'accommodation.hotel', 'internet_access'], 'details': ['details', 'details.contact', 'details.facilities'], 'datasource': {'sourcename': 'openstreetmap', 'attribution': '© OpenStreetMap contributors', 'license': 'Open Database License', 'url': 'https://www.openstreetmap.org/copyright', 'raw': {'name': 'Fort St. John Motor Inn', 'email': 'info@fsjmotorinn.com', 'phone': '+1-250-787-0411', 'osm_id': 9198462136, 'tourism': 'hotel', 'website': 'https://fsjmotorinn.com/', 'alt_name': 'Fort St John Motor Inn', 'osm_type': 'n', 'addr:street': '102 Street', 'internet_access': 'wlan', 'addr:housenumber': 10707}}, 'website': 'https://fsjmotorinn.com/', 'name_other': {'alt_name': 'Fort St John Motor Inn'}, 'contact': {'phone': '+1-250-787-0411', 'email': 'info@fsjmotorinn.com'}, 'facilities': {'internet_access': True}, 'distance': 387, 'place_id': '514a76114b6f365ec059a744c73a66204c40f00103f901b864452402000000920317466f72742053742e204a6f686e204d6f746f7220496e6e'}, 'geometry': {'type': 'Point', 'coordinates': [-120.8505428, 56.25311979989902]}}]}\n",
      "fort st. john - nearest hotel: Fort St. John Motor Inn\n",
      "{'type': 'FeatureCollection', 'features': [{'type': 'Feature', 'properties': {'name': 'гостиница Ивдель', 'country': 'Russia', 'country_code': 'ru', 'region': 'Ural Federal District', 'state': 'Sverdlovsk Oblast', 'county': 'Ивдельский городской округ', 'city': 'Ivdel', 'postcode': '624595', 'street': 'улица Ворошилова', 'housenumber': '8', 'lon': 60.42179305780707, 'lat': 60.6978568, 'formatted': 'гостиница Ивдель, улица Ворошилова 8, Ivdel, Sverdlovsk Oblast, Russia, 624595', 'address_line1': 'гостиница Ивдель', 'address_line2': 'улица Ворошилова 8, Ivdel, Sverdlovsk Oblast, Russia, 624595', 'categories': ['accommodation', 'accommodation.hotel', 'building', 'building.accommodation'], 'details': ['details', 'details.building'], 'datasource': {'sourcename': 'openstreetmap', 'attribution': '© OpenStreetMap contributors', 'license': 'Open Database License', 'url': 'https://www.openstreetmap.org/copyright', 'raw': {'name': 'гостиница Ивдель', 'osm_id': 62073715, 'name:ja': 'イーヴジェリ', 'tourism': 'hotel', 'building': 'yes', 'osm_type': 'w', 'addr:city': 'Ивдель', 'addr:street': 'улица Ворошилова', 'building:levels': 3, 'addr:housenumber': 8}}, 'name_international': {'ja': 'イーヴジェリ'}, 'building': {'levels': 3}, 'distance': 745, 'place_id': '51097b9e50fd354e4059c062265f53594e40f00102f901732bb3030000000092031fd0b3d0bed181d182d0b8d0bdd0b8d186d0b020d098d0b2d0b4d0b5d0bbd18c'}, 'geometry': {'type': 'Point', 'coordinates': [60.42179305780707, 60.697856801741636]}}]}\n",
      "ivdel' - nearest hotel: гостиница Ивдель\n",
      "{'type': 'FeatureCollection', 'features': [{'type': 'Feature', 'properties': {'name': 'Residence Inn Marriott', 'ref': 'GRRRD', 'country': 'United States', 'country_code': 'us', 'state': 'Michigan', 'county': 'Kent County', 'city': 'Grand Rapids', 'postcode': '49503', 'street': 'Louis Street Northwest', 'housenumber': '40', 'lon': -85.66994869025143, 'lat': 42.96350885, 'state_code': 'MI', 'formatted': 'Residence Inn Marriott, 40 Louis Street Northwest, Grand Rapids, MI 49503, United States of America', 'address_line1': 'Residence Inn Marriott', 'address_line2': '40 Louis Street Northwest, Grand Rapids, MI 49503, United States of America', 'categories': ['accommodation', 'accommodation.hotel', 'building', 'building.accommodation'], 'details': ['details', 'details.contact'], 'datasource': {'sourcename': 'openstreetmap', 'attribution': '© OpenStreetMap contributors', 'license': 'Open Database License', 'url': 'https://www.openstreetmap.org/copyright', 'raw': {'ref': 'GRRRD', 'name': 'Residence Inn Marriott', 'brand': 'Residence Inn', 'phone': '+1 616-776-5905', 'branch': 'Grand Rapids Downtown', 'osm_id': 775268591, 'tourism': 'hotel', 'website': 'https://www.marriott.com/grrrd', 'building': 'hotel', 'osm_type': 'w', 'addr:city': 'Grand Rapids', 'addr:state': 'MI', 'addr:street': 'Louis Street Northwest', 'addr:postcode': 49503, 'official_name': 'Residence Inn by Marriott', 'brand:wikidata': 'Q7315394', 'addr:housenumber': 40}}, 'website': 'https://www.marriott.com/grrrd', 'brand': 'Residence Inn', 'brand_details': {'wikidata': 'Q7315394'}, 'branch': 'Grand Rapids Downtown', 'name_other': {'official_name': 'Residence Inn by Marriott'}, 'contact': {'phone': '+1 616-776-5905'}, 'building': {'type': 'hotel'}, 'distance': 122, 'place_id': '5130a87870e06a55c059803a0d42547b4540f00102f901efa8352e000000009203165265736964656e636520496e6e204d617272696f7474'}, 'geometry': {'type': 'Point', 'coordinates': [-85.66994869025143, 42.96350885053562]}}]}\n",
      "grand rapids - nearest hotel: Residence Inn Marriott\n",
      "{'type': 'FeatureCollection', 'features': [{'type': 'Feature', 'properties': {'name': 'Tourism Hotel', 'country': 'Iran', 'country_code': 'ir', 'state': 'Isfahan Province', 'county': 'Ardestan County', 'city': 'Ardestan', 'district': 'بخش مرکزی شهرستان اردستان', 'neighbourhood': 'ابالی', 'suburb': 'محال', 'street': 'امام خمینی', 'lon': 52.3678516, 'lat': 33.368984, 'formatted': 'Tourism Hotel, Ardestan, محال, امام خمینی, Isfahan Province, Iran', 'address_line1': 'Tourism Hotel', 'address_line2': 'Ardestan, محال, امام خمینی, Isfahan Province, Iran', 'categories': ['accommodation', 'accommodation.hotel'], 'details': [], 'datasource': {'sourcename': 'openstreetmap', 'attribution': '© OpenStreetMap contributors', 'license': 'Open Database License', 'url': 'https://www.openstreetmap.org/copyright', 'raw': {'name': 'Tourism Hotel', 'osm_id': 6421635252, 'tourism': 'hotel', 'osm_type': 'n'}}, 'distance': 802, 'place_id': '5101e4dfc2152f4a4059827d21de3aaf4040f00103f901b460c27e0100000092030d546f757269736d20486f74656c'}, 'geometry': {'type': 'Point', 'coordinates': [52.3678516, 33.36898399958865]}}]}\n",
      "ardestan - nearest hotel: Tourism Hotel\n"
     ]
    },
    {
     "name": "stderr",
     "output_type": "stream",
     "text": [
      "ERROR:root:Error message:\n",
      "Traceback (most recent call last):\n",
      "  File \"C:\\Users\\Moburu\\AppData\\Local\\Temp\\ipykernel_26060\\1195407018.py\", line 36, in <module>\n",
      "    hotel_df.loc[index, \"Hotel Name\"] = name_address[\"features\"][0][\"properties\"][\"name\"]\n",
      "                                        ~~~~~~~~~~~~~~~~~~~~~~~~^^^\n",
      "IndexError: list index out of range\n"
     ]
    },
    {
     "name": "stdout",
     "output_type": "stream",
     "text": [
      "{'type': 'FeatureCollection', 'features': []}\n",
      "mar de espanha - nearest hotel: No hotel found\n"
     ]
    },
    {
     "name": "stderr",
     "output_type": "stream",
     "text": [
      "ERROR:root:Error message:\n",
      "Traceback (most recent call last):\n",
      "  File \"C:\\Users\\Moburu\\AppData\\Local\\Temp\\ipykernel_26060\\1195407018.py\", line 36, in <module>\n",
      "    hotel_df.loc[index, \"Hotel Name\"] = name_address[\"features\"][0][\"properties\"][\"name\"]\n",
      "                                        ~~~~~~~~~~~~~~~~~~~~~~~~^^^\n",
      "IndexError: list index out of range\n"
     ]
    },
    {
     "name": "stdout",
     "output_type": "stream",
     "text": [
      "{'type': 'FeatureCollection', 'features': []}\n",
      "strelka - nearest hotel: No hotel found\n",
      "{'type': 'FeatureCollection', 'features': [{'type': 'Feature', 'properties': {'name': 'The Inn At Cape Cod', 'country': 'United States', 'country_code': 'us', 'state': 'Massachusetts', 'county': 'Barnstable County', 'city': 'Yarmouth', 'hamlet': 'Yarmouth Port', 'postcode': '02675', 'street': 'Summer Street', 'housenumber': '4', 'lon': -70.24570962816435, 'lat': 41.703301350000004, 'state_code': 'MA', 'formatted': 'The Inn At Cape Cod, 4 Summer Street, Yarmouth, MA 02675, United States of America', 'address_line1': 'The Inn At Cape Cod', 'address_line2': '4 Summer Street, Yarmouth, MA 02675, United States of America', 'categories': ['accommodation', 'accommodation.hotel', 'building', 'building.accommodation'], 'details': [], 'datasource': {'sourcename': 'openstreetmap', 'attribution': '© OpenStreetMap contributors', 'license': 'Open Database License', 'url': 'https://www.openstreetmap.org/copyright', 'raw': {'name': 'The Inn At Cape Cod', 'osm_id': 214268586, 'tourism': 'hotel', 'building': 'yes', 'osm_type': 'w', 'addr:street': 'Summer Street', 'addr:housenumber': 4}}, 'distance': 1434, 'place_id': '51cc51e0b4b98f51c059f4bb55c705da4440f00102f901aa7ac50c0000000092031354686520496e6e204174204361706520436f64'}, 'geometry': {'type': 'Point', 'coordinates': [-70.24570962816432, 41.70330135046234]}}]}\n",
      "yarmouth - nearest hotel: The Inn At Cape Cod\n"
     ]
    },
    {
     "name": "stderr",
     "output_type": "stream",
     "text": [
      "ERROR:root:Error message:\n",
      "Traceback (most recent call last):\n",
      "  File \"C:\\Users\\Moburu\\AppData\\Local\\Temp\\ipykernel_26060\\1195407018.py\", line 36, in <module>\n",
      "    hotel_df.loc[index, \"Hotel Name\"] = name_address[\"features\"][0][\"properties\"][\"name\"]\n",
      "                                        ~~~~~~~~~~~~~~~~~~~~~~~~~~~~~~~~~~~~~~~~~^^^^^^^^\n",
      "KeyError: 'name'\n"
     ]
    },
    {
     "name": "stdout",
     "output_type": "stream",
     "text": [
      "{'type': 'FeatureCollection', 'features': [{'type': 'Feature', 'properties': {'country': 'Peru', 'country_code': 'pe', 'region': 'Province of Huancayo', 'state': 'Junín', 'city': 'San Jerónimo de Tunán', 'postcode': '12125', 'street': 'JU-1087', 'lon': -75.26972814404465, 'lat': -11.95113915, 'state_code': 'JUN', 'formatted': 'JU-1087, San Jerónimo de Tunán 12125, Peru', 'address_line1': 'JU-1087', 'address_line2': 'San Jerónimo de Tunán 12125, Peru', 'categories': ['accommodation', 'accommodation.hotel', 'building', 'building.accommodation'], 'details': [], 'datasource': {'sourcename': 'openstreetmap', 'attribution': '© OpenStreetMap contributors', 'license': 'Open Database License', 'url': 'https://www.openstreetmap.org/copyright', 'raw': {'osm_id': 1024705551, 'tourism': 'hotel', 'building': 'yes', 'osm_type': 'w'}}, 'distance': 1486, 'place_id': '51e25ed53943d152c059e24fefb5fbe627c0f00102f9010fc4133d00000000'}, 'geometry': {'type': 'Point', 'coordinates': [-75.26972814404465, -11.951139150107284]}}]}\n",
      "san jeronimo - nearest hotel: No hotel found\n",
      "{'type': 'FeatureCollection', 'features': [{'type': 'Feature', 'properties': {'name': 'Coco del Mar', 'country': 'Panama', 'country_code': 'pa', 'state': 'Chiriquí', 'county': 'Distrito Barú', 'city': 'El Palmar', 'village': 'San Bartolo', 'postcode': '0406', 'district': 'Barriada Puerto Armuelles', 'street': 'Paso Canoas-Puerto Armuelles', 'lon': -82.8471677, 'lat': 8.2923497, 'formatted': 'Coco del Mar, Paso Canoas-Puerto Armuelles, 0406, El Palmar, Chiriquí, Panama', 'address_line1': 'Coco del Mar', 'address_line2': 'Paso Canoas-Puerto Armuelles, 0406, El Palmar, Chiriquí, Panama', 'categories': ['accommodation', 'accommodation.hotel'], 'details': [], 'datasource': {'sourcename': 'openstreetmap', 'attribution': '© OpenStreetMap contributors', 'license': 'Open Database License', 'url': 'https://www.openstreetmap.org/copyright', 'raw': {'name': 'Coco del Mar', 'osm_id': 2235402927, 'tourism': 'hotel', 'osm_type': 'n'}}, 'distance': 2373, 'place_id': '518f6edffe37b654c05951c21bdcae952040f00103f901af8a3d850000000092030c436f636f2064656c204d6172'}, 'geometry': {'type': 'Point', 'coordinates': [-82.84716769999999, 8.292349699390941]}}]}\n",
      "puerto armuelles - nearest hotel: Coco del Mar\n",
      "{'type': 'FeatureCollection', 'features': [{'type': 'Feature', 'properties': {'name': 'Noor Aleman', 'country': 'Sudan', 'country_code': 'sd', 'state': 'North Darfur State', 'county': 'Al Fasher', 'city': 'Al-Fashir', 'lon': 25.3327429, 'lat': 13.628496, 'formatted': 'Noor Aleman, Al-Fashir, Al Fasher, Sudan', 'address_line1': 'Noor Aleman', 'address_line2': 'Al-Fashir, Al Fasher, Sudan', 'categories': ['accommodation', 'accommodation.hotel'], 'details': ['details', 'details.contact'], 'datasource': {'sourcename': 'openstreetmap', 'attribution': '© OpenStreetMap contributors', 'license': 'Open Database License', 'url': 'https://www.openstreetmap.org/copyright', 'raw': {'name': 'Noor Aleman', 'phone': '+249123006034', 'osm_id': 7308261685, 'name:ar': 'نةر الإيمان', 'tourism': 'hotel', 'osm_type': 'n', 'opening_hours': '24/7'}}, 'opening_hours': '24/7', 'name_international': {'ar': 'نةر الإيمان'}, 'contact': {'phone': '+249123006034'}, 'distance': 1804, 'place_id': '51e87981a32e55394059f82a493aca412b40f00103f90135399bb30100000092030b4e6f6f7220416c656d616e'}, 'geometry': {'type': 'Point', 'coordinates': [25.3327429, 13.62849599974787]}}]}\n",
      "el fasher - nearest hotel: Noor Aleman\n"
     ]
    },
    {
     "name": "stderr",
     "output_type": "stream",
     "text": [
      "ERROR:root:Error message:\n",
      "Traceback (most recent call last):\n",
      "  File \"C:\\Users\\Moburu\\AppData\\Local\\Temp\\ipykernel_26060\\1195407018.py\", line 36, in <module>\n",
      "    hotel_df.loc[index, \"Hotel Name\"] = name_address[\"features\"][0][\"properties\"][\"name\"]\n",
      "                                        ~~~~~~~~~~~~~~~~~~~~~~~~^^^\n",
      "IndexError: list index out of range\n"
     ]
    },
    {
     "name": "stdout",
     "output_type": "stream",
     "text": [
      "{'type': 'FeatureCollection', 'features': []}\n",
      "xinyuan - nearest hotel: No hotel found\n",
      "{'type': 'FeatureCollection', 'features': [{'type': 'Feature', 'properties': {'name': 'Hotel Kokopo', 'country': 'Papua New Guinea', 'country_code': 'pg', 'region': 'Islands Region', 'state': 'East New Britain', 'city': 'Kokopo', 'suburb': 'Kenabot', 'street': 'Kurur Street', 'lon': 152.27029265, 'lat': -4.3419327, 'state_code': 'EBR', 'formatted': 'Hotel Kokopo, Kurur Street, Kokopo East New Britain, Papua New Guinea', 'address_line1': 'Hotel Kokopo', 'address_line2': 'Kurur Street, Kokopo East New Britain, Papua New Guinea', 'categories': ['accommodation', 'accommodation.hotel', 'building', 'building.accommodation'], 'details': [], 'datasource': {'sourcename': 'openstreetmap', 'attribution': '© OpenStreetMap contributors', 'license': 'Open Database License', 'url': 'https://www.openstreetmap.org/copyright', 'raw': {'name': 'Hotel Kokopo', 'osm_id': 606347160, 'tourism': 'hotel', 'building': 'yes', 'osm_type': 'w'}}, 'distance': 1344, 'place_id': '512c83c53ca608634059e87a0a9b235e11c0f00102f901981f24240000000092030c486f74656c204b6f6b6f706f'}, 'geometry': {'type': 'Point', 'coordinates': [152.27029265, -4.341932699694304]}}]}\n",
      "kokopo - nearest hotel: Hotel Kokopo\n"
     ]
    },
    {
     "name": "stderr",
     "output_type": "stream",
     "text": [
      "ERROR:root:Error message:\n",
      "Traceback (most recent call last):\n",
      "  File \"C:\\Users\\Moburu\\AppData\\Local\\Temp\\ipykernel_26060\\1195407018.py\", line 36, in <module>\n",
      "    hotel_df.loc[index, \"Hotel Name\"] = name_address[\"features\"][0][\"properties\"][\"name\"]\n",
      "                                        ~~~~~~~~~~~~~~~~~~~~~~~~^^^\n",
      "IndexError: list index out of range\n"
     ]
    },
    {
     "name": "stdout",
     "output_type": "stream",
     "text": [
      "{'type': 'FeatureCollection', 'features': []}\n",
      "kybartai - nearest hotel: No hotel found\n",
      "{'type': 'FeatureCollection', 'features': [{'type': 'Feature', 'properties': {'name': 'Kiburu Lodge', 'country': 'Papua New Guinea', 'country_code': 'pg', 'region': 'Highlands Region', 'state': 'Southern Highlands', 'county': 'Mendi District', 'city': 'Oiyarip', 'street': 'Tari Highway', 'lon': 143.6640505, 'lat': -6.171735, 'state_code': 'SHM', 'formatted': 'Kiburu Lodge, Tari Highway, Oiyarip Southern Highlands, Papua New Guinea', 'address_line1': 'Kiburu Lodge', 'address_line2': 'Tari Highway, Oiyarip Southern Highlands, Papua New Guinea', 'categories': ['accommodation', 'accommodation.hotel'], 'details': [], 'datasource': {'sourcename': 'openstreetmap', 'attribution': '© OpenStreetMap contributors', 'license': 'Open Database License', 'url': 'https://www.openstreetmap.org/copyright', 'raw': {'name': 'Kiburu Lodge', 'osm_id': 3365354586, 'tourism': 'hotel', 'osm_type': 'n'}}, 'distance': 1491, 'place_id': '518e8cd5e63ff561405976f1bc4cdbaf18c0f00103f9015a3c97c80000000092030c4b6962757275204c6f646765'}, 'geometry': {'type': 'Point', 'coordinates': [143.66405049999997, -6.171734999687365]}}]}\n",
      "mendi - nearest hotel: Kiburu Lodge\n"
     ]
    },
    {
     "name": "stderr",
     "output_type": "stream",
     "text": [
      "ERROR:root:Error message:\n",
      "Traceback (most recent call last):\n",
      "  File \"C:\\Users\\Moburu\\AppData\\Local\\Temp\\ipykernel_26060\\1195407018.py\", line 36, in <module>\n",
      "    hotel_df.loc[index, \"Hotel Name\"] = name_address[\"features\"][0][\"properties\"][\"name\"]\n",
      "                                        ~~~~~~~~~~~~~~~~~~~~~~~~^^^\n",
      "IndexError: list index out of range\n"
     ]
    },
    {
     "name": "stdout",
     "output_type": "stream",
     "text": [
      "{'type': 'FeatureCollection', 'features': []}\n",
      "sinan - nearest hotel: No hotel found\n",
      "{'type': 'FeatureCollection', 'features': [{'type': 'Feature', 'properties': {'name': 'Harborside Hotel & Marina', 'country': 'United States', 'country_code': 'us', 'state': 'Florida', 'county': 'Monroe County', 'city': 'Key West', 'postcode': '33040', 'district': 'The Meadows', 'street': 'Eisenhower Drive', 'lon': -81.78833255670557, 'lat': 24.5589758, 'state_code': 'FL', 'formatted': 'Harborside Hotel & Marina, Eisenhower Drive, Key West, FL 33040, United States of America', 'address_line1': 'Harborside Hotel & Marina', 'address_line2': 'Eisenhower Drive, Key West, FL 33040, United States of America', 'categories': ['accommodation', 'accommodation.hotel'], 'details': [], 'datasource': {'sourcename': 'openstreetmap', 'attribution': '© OpenStreetMap contributors', 'license': 'Open Database License', 'url': 'https://www.openstreetmap.org/copyright', 'raw': {'name': 'Harborside Hotel & Marina', 'osm_id': 337037423, 'tourism': 'hotel', 'osm_type': 'w'}}, 'distance': 653, 'place_id': '510a5b650a747254c0594184bd09198f3840f00102f9016fc8161400000000920319486172626f727369646520486f74656c2026204d6172696e61'}, 'geometry': {'type': 'Point', 'coordinates': [-81.78833255670557, 24.55897580029364]}}]}\n",
      "key west - nearest hotel: Harborside Hotel & Marina\n",
      "{'type': 'FeatureCollection', 'features': [{'type': 'Feature', 'properties': {'name': 'HOTEL KADO', 'country': 'Niger', 'country_code': 'ne', 'state': 'Tahoua Region', 'county': \"Birni N'Konni\", 'city': \"Birni N'Konni\", 'street': 'N9', 'lon': 5.2528814, 'lat': 13.7968325, 'formatted': \"HOTEL KADO, N9, Birni N'Konni, Niger\", 'address_line1': 'HOTEL KADO', 'address_line2': \"N9, Birni N'Konni, Niger\", 'categories': ['accommodation', 'accommodation.hotel'], 'details': [], 'datasource': {'sourcename': 'openstreetmap', 'attribution': '© OpenStreetMap contributors', 'license': 'Open Database License', 'url': 'https://www.openstreetmap.org/copyright', 'raw': {'name': 'HOTEL KADO', 'osm_id': 3709911768, 'tourism': 'hotel', 'osm_type': 'n'}}, 'distance': 295, 'place_id': '5117117b57f30215405900c7ed6dfa972b40f00103f901d8c220dd0000000092030a484f54454c204b41444f'}, 'geometry': {'type': 'Point', 'coordinates': [5.252881399999999, 13.796832499766879]}}]}\n",
      "birni n konni - nearest hotel: HOTEL KADO\n",
      "{'type': 'FeatureCollection', 'features': [{'type': 'Feature', 'properties': {'name': 'Mariner Days Inn & Suites', 'country': 'United States', 'country_code': 'us', 'state': 'North Carolina', 'county': 'Dare County', 'city': 'Kill Devil Hills', 'postcode': '27948', 'street': 'North Virginia Dare Trail', 'lon': -75.67099065035967, 'lat': 36.03530595, 'state_code': 'NC', 'formatted': 'Mariner Days Inn & Suites, North Virginia Dare Trail, Kill Devil Hills, NC 27948, United States of America', 'address_line1': 'Mariner Days Inn & Suites', 'address_line2': 'North Virginia Dare Trail, Kill Devil Hills, NC 27948, United States of America', 'categories': ['accommodation', 'accommodation.hotel', 'building', 'building.accommodation'], 'details': [], 'datasource': {'sourcename': 'openstreetmap', 'attribution': '© OpenStreetMap contributors', 'license': 'Open Database License', 'url': 'https://www.openstreetmap.org/copyright', 'raw': {'name': 'Mariner Days Inn & Suites', 'osm_id': 409137863, 'tourism': 'hotel', 'building': 'yes', 'osm_type': 'w'}}, 'distance': 670, 'place_id': '51dccdc482f1ea52c059e4bdc5e784044240f00102f901c7f26218000000009203194d6172696e6572204461797320496e6e202620537569746573'}, 'geometry': {'type': 'Point', 'coordinates': [-75.67099065035967, 36.03530594973907]}}]}\n",
      "kill devil hills - nearest hotel: Mariner Days Inn & Suites\n",
      "{'type': 'FeatureCollection', 'features': [{'type': 'Feature', 'properties': {'name': 'Quetta Agha Hotel', 'country': 'Pakistan', 'country_code': 'pk', 'state': 'Sindh', 'city': 'Karachi Division', 'town': 'Gulshan-e-Iqbal Town', 'postcode': '75300', 'district': 'Karachi East District', 'neighbourhood': 'Gulshan-e-Iqbal Block 13 C', 'street': 'University Road', 'lon': 67.0826155, 'lat': 24.9090597, 'state_code': 'SD', 'formatted': 'Quetta Agha Hotel, University Road, Karachi Division 75300, Pakistan', 'address_line1': 'Quetta Agha Hotel', 'address_line2': 'University Road, Karachi Division 75300, Pakistan', 'categories': ['accommodation', 'accommodation.hotel'], 'details': [], 'datasource': {'sourcename': 'openstreetmap', 'attribution': '© OpenStreetMap contributors', 'license': 'Open Database License', 'url': 'https://www.openstreetmap.org/copyright', 'raw': {'name': 'Quetta Agha Hotel', 'osm_id': 4762522276, 'tourism': 'hotel', 'osm_type': 'n', 'addr:city': 'Karachi', 'addr:street': 'University Road'}}, 'distance': 386, 'place_id': '5122a9859249c5504059a9c0f222b8e83840f00103f901a452de1b01000000920311517565747461204167686120486f74656c'}, 'geometry': {'type': 'Point', 'coordinates': [67.0826155, 24.90905970026566]}}]}\n",
      "karachi - nearest hotel: Quetta Agha Hotel\n",
      "{'type': 'FeatureCollection', 'features': [{'type': 'Feature', 'properties': {'name': 'Ноглики', 'country': 'Russia', 'country_code': 'ru', 'region': 'Far Eastern Federal District', 'state': 'Sakhalin Oblast', 'county': 'Nogliksky District', 'city': 'Nogliki', 'postcode': '694440', 'street': 'Советская улица', 'housenumber': '6', 'lon': 143.1517104, 'lat': 51.8118398, 'formatted': 'Ноглики, Советская улица 6, Nogliki, Sakhalin Oblast, Russia, 694440', 'address_line1': 'Ноглики', 'address_line2': 'Советская улица 6, Nogliki, Sakhalin Oblast, Russia, 694440', 'categories': ['accommodation', 'accommodation.hotel'], 'details': [], 'datasource': {'sourcename': 'openstreetmap', 'attribution': '© OpenStreetMap contributors', 'license': 'Open Database License', 'url': 'https://www.openstreetmap.org/copyright', 'raw': {'name': 'Ноглики', 'osm_id': 1955240524, 'tourism': 'hotel', 'osm_type': 'n'}}, 'distance': 2602, 'place_id': '51d1cec4cfdae46140595370d55deae74940f00103f9014c9a8a740000000092030ed09dd0bed0b3d0bbd0b8d0bad0b8'}, 'geometry': {'type': 'Point', 'coordinates': [143.15171039999998, 51.81183979913535]}}]}\n",
      "nogliki - nearest hotel: Ноглики\n",
      "{'type': 'FeatureCollection', 'features': [{'type': 'Feature', 'properties': {'name': 'Hotel Atalaia', 'country': 'Brazil', 'country_code': 'br', 'region': 'Southeast Region', 'state': 'Minas Gerais', 'county': 'Região Geográfica Intermediária de Montes Claros', 'city': 'São Francisco', 'municipality': 'Região Geográfica Imediata de São Francisco', 'postcode': '39300-000', 'street': 'Rua Padre Paraíso', 'lon': -44.867364036603995, 'lat': -15.9505916, 'state_code': 'MG', 'formatted': 'Hotel Atalaia, Rua Padre Paraíso, São Francisco - MG, 39300-000, Brazil', 'address_line1': 'Hotel Atalaia', 'address_line2': 'Rua Padre Paraíso, São Francisco - MG, 39300-000, Brazil', 'categories': ['accommodation', 'accommodation.hotel', 'building', 'building.accommodation'], 'details': [], 'datasource': {'sourcename': 'openstreetmap', 'attribution': '© OpenStreetMap contributors', 'license': 'Open Database License', 'url': 'https://www.openstreetmap.org/copyright', 'raw': {'name': 'Hotel Atalaia', 'osm_id': 449357861, 'tourism': 'hotel', 'building': 'hotel', 'osm_type': 'w'}}, 'building': {'type': 'hotel'}, 'distance': 371, 'place_id': '516878e5c8056f46c059067037f1b3e62fc0f00102f90125a8c81a0000000092030d486f74656c204174616c616961'}, 'geometry': {'type': 'Point', 'coordinates': [-44.86736403660399, -15.950591600434574]}}]}\n",
      "sao francisco - nearest hotel: Hotel Atalaia\n",
      "{'type': 'FeatureCollection', 'features': [{'type': 'Feature', 'properties': {'name': 'Hotel Guaimaro', 'country': 'Cuba', 'country_code': 'cu', 'state': 'Camagüey', 'city': 'Guáimaro', 'postcode': '72600', 'district': 'Ciudad de Guaimaro', 'neighbourhood': 'Microdistrito', 'suburb': 'Guáimaro Norte', 'street': 'Carretera Central', 'lon': -77.3367360192097, 'lat': 21.052989699999998, 'formatted': 'Hotel Guaimaro, Carretera Central, Guáimaro, 72600, Cuba', 'address_line1': 'Hotel Guaimaro', 'address_line2': 'Carretera Central, Guáimaro, 72600, Cuba', 'categories': ['accommodation', 'accommodation.hotel'], 'details': ['details'], 'datasource': {'sourcename': 'openstreetmap', 'attribution': '© OpenStreetMap contributors', 'license': 'Open Database License', 'url': 'https://www.openstreetmap.org/copyright', 'raw': {'name': 'Hotel Guaimaro', 'osm_id': 458824090, 'name:es': 'Hotel Guaimaro', 'tourism': 'hotel', 'osm_type': 'w'}}, 'name_international': {'es': 'Hotel Guaimaro'}, 'distance': 1356, 'place_id': '5103793b158d5553c059f643a6bb900d3540f00102f9019a19591b0000000092030e486f74656c20477561696d61726f'}, 'geometry': {'type': 'Point', 'coordinates': [-77.33673601920968, 21.05298970040527]}}]}\n",
      "guaimaro - nearest hotel: Hotel Guaimaro\n",
      "{'type': 'FeatureCollection', 'features': [{'type': 'Feature', 'properties': {'name': 'First Hotel Statt', 'country': 'Sweden', 'country_code': 'se', 'county': 'Blekinge County', 'city': 'Karlskrona', 'municipality': 'Karlskrona kommun', 'postcode': '371 13', 'district': 'Västerudd', 'suburb': 'Trossö', 'street': 'Ronnebygatan', 'lon': 15.5881706, 'lat': 56.161998, 'formatted': 'First Hotel Statt, Ronnebygatan, 371 13 Karlskrona, Sweden', 'address_line1': 'First Hotel Statt', 'address_line2': 'Ronnebygatan, 371 13 Karlskrona, Sweden', 'categories': ['accommodation', 'accommodation.hotel'], 'details': ['details', 'details.contact'], 'datasource': {'sourcename': 'openstreetmap', 'attribution': '© OpenStreetMap contributors', 'license': 'Open Database License', 'url': 'https://www.openstreetmap.org/copyright', 'raw': {'name': 'First Hotel Statt', 'brand': 'First Hotels', 'phone': '+46 455 55550', 'osm_id': 1125474011, 'tourism': 'hotel', 'website': 'https://www.firsthotels.se/Vara-Hotell/Hotell-i-Sverige/Karlskrona/First-Hotel-Statt-Karlskrona/', 'osm_type': 'n', 'website:da': 'https://www.firsthotels.dk/hoteller/sverige/karlskrona/first-hotel-statt/', 'website:en': 'https://www.firsthotels.com/hotels/sweden/karlskrona/first-hotel-statt/', 'website:no': 'https://www.firsthotels.no/hoteller/sverige/karlskrona/first-hotel-statt/', 'website:sv': 'https://www.firsthotels.se/hotell/sverige/karlskrona/first-hotel-statt/', 'brand:wikidata': 'Q11969007'}}, 'website': 'https://www.firsthotels.se/Vara-Hotell/Hotell-i-Sverige/Karlskrona/First-Hotel-Statt-Karlskrona/', 'website_international': {'da': 'https://www.firsthotels.dk/hoteller/sverige/karlskrona/first-hotel-statt/', 'en': 'https://www.firsthotels.com/hotels/sweden/karlskrona/first-hotel-statt/', 'no': 'https://www.firsthotels.no/hoteller/sverige/karlskrona/first-hotel-statt/', 'sv': 'https://www.firsthotels.se/hotell/sverige/karlskrona/first-hotel-statt/'}, 'brand': 'First Hotels', 'brand_details': {'wikidata': 'Q11969007'}, 'contact': {'phone': '+46 455 55550'}, 'distance': 107, 'place_id': '51f9ef66b2242d2f405958b4b759bc144c40f00103f901db5e154300000000920311466972737420486f74656c205374617474'}, 'geometry': {'type': 'Point', 'coordinates': [15.5881706, 56.16199799985833]}}]}\n",
      "karlskrona - nearest hotel: First Hotel Statt\n",
      "{'type': 'FeatureCollection', 'features': [{'type': 'Feature', 'properties': {'name': 'AMC', 'country': 'Algeria', 'country_code': 'dz', 'state': 'Ouargla', 'county': 'Hassi Messaoud District', 'city': 'Hassi Messaoud', 'postcode': '30001', 'district': 'Fadila Saadane', 'street': 'RN 3', 'lon': 6.0650537, 'lat': 31.68398, 'formatted': 'AMC, RN 3, 30001 Hassi Messaoud, Algeria', 'address_line1': 'AMC', 'address_line2': 'RN 3, 30001 Hassi Messaoud, Algeria', 'categories': ['accommodation', 'accommodation.hotel'], 'details': [], 'datasource': {'sourcename': 'openstreetmap', 'attribution': '© OpenStreetMap contributors', 'license': 'Open Database License', 'url': 'https://www.openstreetmap.org/copyright', 'raw': {'name': 'AMC', 'osm_id': 5636046331, 'tourism': 'hotel', 'osm_type': 'n'}}, 'distance': 843, 'place_id': '5168efe76f9d421840599c7e315019af3f40f00103f901fb3def4f01000000920303414d43'}, 'geometry': {'type': 'Point', 'coordinates': [6.0650537, 31.683979999621997]}}]}\n",
      "hassi messaoud - nearest hotel: AMC\n",
      "{'type': 'FeatureCollection', 'features': [{'type': 'Feature', 'properties': {'name': 'Чорон', 'country': 'Russia', 'country_code': 'ru', 'region': 'Far Eastern Federal District', 'state': 'Sakha Republic', 'county': 'Neryungrinsky Municipal District', 'city': 'Chulman', 'municipality': 'городское поселение Чульман', 'postcode': '678980', 'street': 'Гаражная улица', 'lon': 124.90312010539687, 'lat': 56.84139075, 'formatted': 'Чорон, Гаражная улица, Chulman, Sakha Republic, Russia, 678980', 'address_line1': 'Чорон', 'address_line2': 'Гаражная улица, Chulman, Sakha Republic, Russia, 678980', 'categories': ['accommodation', 'accommodation.hotel', 'building', 'building.accommodation'], 'details': [], 'datasource': {'sourcename': 'openstreetmap', 'attribution': '© OpenStreetMap contributors', 'license': 'Open Database License', 'url': 'https://www.openstreetmap.org/copyright', 'raw': {'name': 'Чорон', 'osm_id': 129923573, 'tourism': 'hotel', 'building': 'yes', 'osm_type': 'w'}}, 'distance': 835, 'place_id': '51884245b8cc395f405946962db1b26b4c40f00102f901f579be070000000092030ad0a7d0bed180d0bed0bd'}, 'geometry': {'type': 'Point', 'coordinates': [124.90312010539685, 56.841390750178604]}}]}\n",
      "chul'man - nearest hotel: Чорон\n"
     ]
    },
    {
     "name": "stderr",
     "output_type": "stream",
     "text": [
      "ERROR:root:Error message:\n",
      "Traceback (most recent call last):\n",
      "  File \"C:\\Users\\Moburu\\AppData\\Local\\Temp\\ipykernel_26060\\1195407018.py\", line 36, in <module>\n",
      "    hotel_df.loc[index, \"Hotel Name\"] = name_address[\"features\"][0][\"properties\"][\"name\"]\n",
      "                                        ~~~~~~~~~~~~~~~~~~~~~~~~~~~~~~~~~~~~~~~~~^^^^^^^^\n",
      "KeyError: 'name'\n"
     ]
    },
    {
     "name": "stdout",
     "output_type": "stream",
     "text": [
      "{'type': 'FeatureCollection', 'features': [{'type': 'Feature', 'properties': {'country': 'United States', 'country_code': 'us', 'state': 'Texas', 'county': 'Nacogdoches County', 'city': 'Nacogdoches', 'postcode': '75961', 'street': 'East Hospital Street', 'lon': -94.65295879922327, 'lat': 31.604606599999997, 'state_code': 'TX', 'formatted': 'East Hospital Street, Nacogdoches, TX 75961, United States of America', 'address_line1': 'East Hospital Street', 'address_line2': 'Nacogdoches, TX 75961, United States of America', 'categories': ['accommodation', 'accommodation.hotel', 'building', 'building.accommodation'], 'details': ['details.building'], 'datasource': {'sourcename': 'openstreetmap', 'attribution': '© OpenStreetMap contributors', 'license': 'Open Database License', 'url': 'https://www.openstreetmap.org/copyright', 'raw': {'osm_id': -9037183, 'tourism': 'hotel', 'building': 'yes', 'osm_type': 'r', 'building:levels': 1}}, 'building': {'levels': 1}, 'distance': 1874, 'place_id': '512713b413caa957c059bc56847fc79a3f40f00101f9017fe5890000000000'}, 'geometry': {'type': 'Point', 'coordinates': [-94.65295879922324, 31.604606599625853]}}]}\n",
      "nacogdoches - nearest hotel: No hotel found\n",
      "{'type': 'FeatureCollection', 'features': [{'type': 'Feature', 'properties': {'name': 'Ямская', 'country': 'Russia', 'country_code': 'ru', 'region': 'Ural Federal District', 'state': 'Tyumen Oblast', 'county': 'городской округ Тобольск', 'city': 'Tobolsk', 'postcode': '626152', 'district': '1-й микрорайон', 'street': 'Большая Сибирская улица', 'housenumber': '40', 'lon': 68.2637028862069, 'lat': 58.2025455, 'formatted': 'Ямская, Большая Сибирская улица 40, Tobolsk, Tyumen Oblast, Russia, 626152', 'address_line1': 'Ямская', 'address_line2': 'Большая Сибирская улица 40, Tobolsk, Tyumen Oblast, Russia, 626152', 'categories': ['accommodation', 'accommodation.hotel', 'building', 'building.accommodation'], 'details': ['details', 'details.contact'], 'datasource': {'sourcename': 'openstreetmap', 'attribution': '© OpenStreetMap contributors', 'license': 'Open Database License', 'url': 'https://www.openstreetmap.org/copyright', 'raw': {'name': 'Ямская', 'email': 'yamskaya-tobolsk@mail.ru', 'phone': '+7 3456 226177', 'osm_id': 178122233, 'tourism': 'hotel', 'website': 'ямская-тобольск.рф', 'building': 'hotel', 'osm_type': 'w', 'addr:street': 'Большая Сибирская улица', 'addr:housenumber': 40}}, 'website': 'ямская-тобольск.рф', 'contact': {'phone': '+7 3456 226177', 'email': 'yamskaya-tobolsk@mail.ru'}, 'building': {'type': 'hotel'}, 'distance': 323, 'place_id': '51a4071282e010514059c01dcf02ed194d40f00102f901f9ed9d0a0000000092030cd0afd0bcd181d0bad0b0d18f'}, 'geometry': {'type': 'Point', 'coordinates': [68.26370288620689, 58.202545500880206]}}]}\n",
      "tobol'sk - nearest hotel: Ямская\n",
      "{'type': 'FeatureCollection', 'features': [{'type': 'Feature', 'properties': {'name': 'Holiday Inn Resort Vanuatu', 'country': 'Vanuatu', 'country_code': 'vu', 'state': 'Shefa Province', 'city': 'Port Vila', 'district': 'Tasiriki', 'street': 'Holiday Inn Resort', 'lon': 168.32480010177892, 'lat': -17.73992825, 'formatted': 'Holiday Inn Resort Vanuatu, Holiday Inn Resort, Port Vila, Vanuatu', 'address_line1': 'Holiday Inn Resort Vanuatu', 'address_line2': 'Holiday Inn Resort, Port Vila, Vanuatu', 'categories': ['accommodation', 'accommodation.hotel', 'building', 'building.accommodation'], 'details': ['details'], 'datasource': {'sourcename': 'openstreetmap', 'attribution': '© OpenStreetMap contributors', 'license': 'Open Database License', 'url': 'https://www.openstreetmap.org/copyright', 'raw': {'name': 'Holiday Inn Resort Vanuatu', 'brand': 'Holiday Inn', 'osm_id': 333026276, 'tourism': 'hotel', 'building': 'yes', 'osm_type': 'w', 'brand:wikidata': 'Q2717882', 'brand:wikipedia': 'en:Holiday Inn'}}, 'brand': 'Holiday Inn', 'brand_details': {'wikidata': 'Q2717882', 'wikipedia': 'en:Holiday Inn'}, 'distance': 721, 'place_id': '5116dc2ec3640a654059612d15f06bbd31c0f00102f901e493d9130000000092031a486f6c6964617920496e6e205265736f72742056616e75617475'}, 'geometry': {'type': 'Point', 'coordinates': [168.32480010177886, -17.73992825047515]}}]}\n",
      "port-vila - nearest hotel: Holiday Inn Resort Vanuatu\n",
      "{'type': 'FeatureCollection', 'features': [{'type': 'Feature', 'properties': {'name': 'Hotel Anggrek', 'country': 'Indonesia', 'country_code': 'id', 'region': 'Western New Guinea', 'state': 'Central Papua', 'county': 'Kabupaten Nabire', 'city': 'Nabire', 'postcode': '98815', 'street': 'Jalan Pepera', 'lon': 135.5003142, 'lat': -3.3661666, 'formatted': 'Hotel Anggrek, Jalan Pepera, Nabire 98815, Central Papua, Indonesia', 'address_line1': 'Hotel Anggrek', 'address_line2': 'Jalan Pepera, Nabire 98815, Central Papua, Indonesia', 'categories': ['accommodation', 'accommodation.hotel'], 'details': [], 'datasource': {'sourcename': 'openstreetmap', 'attribution': '© OpenStreetMap contributors', 'license': 'Open Database License', 'url': 'https://www.openstreetmap.org/copyright', 'raw': {'name': 'Hotel Anggrek', 'osm_id': 798848824, 'tourism': 'hotel', 'osm_type': 'n'}}, 'distance': 1892, 'place_id': '512ed7ec9202f06040597fdd15c1e8ed0ac0f00103f90138779d2f0000000092030d486f74656c20416e676772656b'}, 'geometry': {'type': 'Point', 'coordinates': [135.5003142, -3.3661665997312293]}}]}\n",
      "nabire - nearest hotel: Hotel Anggrek\n"
     ]
    },
    {
     "name": "stderr",
     "output_type": "stream",
     "text": [
      "ERROR:root:Error message:\n",
      "Traceback (most recent call last):\n",
      "  File \"C:\\Users\\Moburu\\AppData\\Local\\Temp\\ipykernel_26060\\1195407018.py\", line 36, in <module>\n",
      "    hotel_df.loc[index, \"Hotel Name\"] = name_address[\"features\"][0][\"properties\"][\"name\"]\n",
      "                                        ~~~~~~~~~~~~~~~~~~~~~~~~^^^\n",
      "IndexError: list index out of range\n"
     ]
    },
    {
     "name": "stdout",
     "output_type": "stream",
     "text": [
      "{'type': 'FeatureCollection', 'features': []}\n",
      "wanning - nearest hotel: No hotel found\n"
     ]
    },
    {
     "name": "stderr",
     "output_type": "stream",
     "text": [
      "ERROR:root:Error message:\n",
      "Traceback (most recent call last):\n",
      "  File \"C:\\Users\\Moburu\\AppData\\Local\\Temp\\ipykernel_26060\\1195407018.py\", line 36, in <module>\n",
      "    hotel_df.loc[index, \"Hotel Name\"] = name_address[\"features\"][0][\"properties\"][\"name\"]\n",
      "                                        ~~~~~~~~~~~~~~~~~~~~~~~~^^^\n",
      "IndexError: list index out of range\n"
     ]
    },
    {
     "name": "stdout",
     "output_type": "stream",
     "text": [
      "{'type': 'FeatureCollection', 'features': []}\n",
      "yardimli - nearest hotel: No hotel found\n"
     ]
    },
    {
     "data": {
      "text/html": [
       "<div>\n",
       "<style scoped>\n",
       "    .dataframe tbody tr th:only-of-type {\n",
       "        vertical-align: middle;\n",
       "    }\n",
       "\n",
       "    .dataframe tbody tr th {\n",
       "        vertical-align: top;\n",
       "    }\n",
       "\n",
       "    .dataframe thead th {\n",
       "        text-align: right;\n",
       "    }\n",
       "</style>\n",
       "<table border=\"1\" class=\"dataframe\">\n",
       "  <thead>\n",
       "    <tr style=\"text-align: right;\">\n",
       "      <th></th>\n",
       "      <th>City</th>\n",
       "      <th>Country</th>\n",
       "      <th>Lat</th>\n",
       "      <th>Lng</th>\n",
       "      <th>Humidity</th>\n",
       "      <th>Hotel Name</th>\n",
       "    </tr>\n",
       "  </thead>\n",
       "  <tbody>\n",
       "    <tr>\n",
       "      <th>0</th>\n",
       "      <td>punta arenas</td>\n",
       "      <td>CL</td>\n",
       "      <td>-53.1500</td>\n",
       "      <td>-70.9167</td>\n",
       "      <td>86</td>\n",
       "      <td>Hotel Lacolet</td>\n",
       "    </tr>\n",
       "    <tr>\n",
       "      <th>1</th>\n",
       "      <td>pyapon</td>\n",
       "      <td>MM</td>\n",
       "      <td>16.2833</td>\n",
       "      <td>95.6833</td>\n",
       "      <td>87</td>\n",
       "      <td>No hotel found</td>\n",
       "    </tr>\n",
       "    <tr>\n",
       "      <th>2</th>\n",
       "      <td>puerto deseado</td>\n",
       "      <td>AR</td>\n",
       "      <td>-47.7503</td>\n",
       "      <td>-65.8938</td>\n",
       "      <td>68</td>\n",
       "      <td>Los Olmos</td>\n",
       "    </tr>\n",
       "    <tr>\n",
       "      <th>3</th>\n",
       "      <td>hithadhoo</td>\n",
       "      <td>MV</td>\n",
       "      <td>-0.6000</td>\n",
       "      <td>73.0833</td>\n",
       "      <td>71</td>\n",
       "      <td>Pebbles Inn</td>\n",
       "    </tr>\n",
       "    <tr>\n",
       "      <th>4</th>\n",
       "      <td>grytviken</td>\n",
       "      <td>GS</td>\n",
       "      <td>-54.2811</td>\n",
       "      <td>-36.5092</td>\n",
       "      <td>81</td>\n",
       "      <td>No hotel found</td>\n",
       "    </tr>\n",
       "    <tr>\n",
       "      <th>...</th>\n",
       "      <td>...</td>\n",
       "      <td>...</td>\n",
       "      <td>...</td>\n",
       "      <td>...</td>\n",
       "      <td>...</td>\n",
       "      <td>...</td>\n",
       "    </tr>\n",
       "    <tr>\n",
       "      <th>573</th>\n",
       "      <td>tobol'sk</td>\n",
       "      <td>RU</td>\n",
       "      <td>58.2000</td>\n",
       "      <td>68.2667</td>\n",
       "      <td>67</td>\n",
       "      <td>Ямская</td>\n",
       "    </tr>\n",
       "    <tr>\n",
       "      <th>574</th>\n",
       "      <td>port-vila</td>\n",
       "      <td>VU</td>\n",
       "      <td>-17.7338</td>\n",
       "      <td>168.3219</td>\n",
       "      <td>57</td>\n",
       "      <td>Holiday Inn Resort Vanuatu</td>\n",
       "    </tr>\n",
       "    <tr>\n",
       "      <th>575</th>\n",
       "      <td>nabire</td>\n",
       "      <td>ID</td>\n",
       "      <td>-3.3667</td>\n",
       "      <td>135.4833</td>\n",
       "      <td>69</td>\n",
       "      <td>Hotel Anggrek</td>\n",
       "    </tr>\n",
       "    <tr>\n",
       "      <th>576</th>\n",
       "      <td>wanning</td>\n",
       "      <td>CN</td>\n",
       "      <td>18.8003</td>\n",
       "      <td>110.3967</td>\n",
       "      <td>85</td>\n",
       "      <td>No hotel found</td>\n",
       "    </tr>\n",
       "    <tr>\n",
       "      <th>577</th>\n",
       "      <td>yardimli</td>\n",
       "      <td>AZ</td>\n",
       "      <td>38.9206</td>\n",
       "      <td>48.2372</td>\n",
       "      <td>84</td>\n",
       "      <td>No hotel found</td>\n",
       "    </tr>\n",
       "  </tbody>\n",
       "</table>\n",
       "<p>578 rows × 6 columns</p>\n",
       "</div>"
      ],
      "text/plain": [
       "               City Country      Lat       Lng  Humidity  \\\n",
       "0      punta arenas      CL -53.1500  -70.9167        86   \n",
       "1            pyapon      MM  16.2833   95.6833        87   \n",
       "2    puerto deseado      AR -47.7503  -65.8938        68   \n",
       "3         hithadhoo      MV  -0.6000   73.0833        71   \n",
       "4         grytviken      GS -54.2811  -36.5092        81   \n",
       "..              ...     ...      ...       ...       ...   \n",
       "573        tobol'sk      RU  58.2000   68.2667        67   \n",
       "574       port-vila      VU -17.7338  168.3219        57   \n",
       "575          nabire      ID  -3.3667  135.4833        69   \n",
       "576         wanning      CN  18.8003  110.3967        85   \n",
       "577        yardimli      AZ  38.9206   48.2372        84   \n",
       "\n",
       "                     Hotel Name  \n",
       "0                 Hotel Lacolet  \n",
       "1                No hotel found  \n",
       "2                     Los Olmos  \n",
       "3                   Pebbles Inn  \n",
       "4                No hotel found  \n",
       "..                          ...  \n",
       "573                      Ямская  \n",
       "574  Holiday Inn Resort Vanuatu  \n",
       "575               Hotel Anggrek  \n",
       "576              No hotel found  \n",
       "577              No hotel found  \n",
       "\n",
       "[578 rows x 6 columns]"
      ]
     },
     "execution_count": 15,
     "metadata": {},
     "output_type": "execute_result"
    }
   ],
   "source": [
    "# Set parameters to search for a hotel\n",
    "radius = 10000\n",
    "params = {\n",
    "    'categories': 'accommodation.hotel',\n",
    "    'limit': 1,\n",
    "    'filter': [],\n",
    "    'bias': [],\n",
    "    'apiKey': geoapify_key\n",
    "}\n",
    "\n",
    "# Print a message to follow up the hotel search\n",
    "print(\"Starting hotel search\")\n",
    "\n",
    "# Iterate through the hotel_df DataFrame\n",
    "for index, row in hotel_df.iterrows():\n",
    "    # get latitude, longitude from the DataFrame\n",
    "    lat = row['Lat']\n",
    "    lng = row['Lng']\n",
    "\n",
    "    # Add the current city's latitude and longitude to the params dictionary\n",
    "    params[\"filter\"] = f'circle:{lng},{lat},{radius}'\n",
    "    params[\"bias\"] = f'proximity:{lng},{lat}'\n",
    "\n",
    "    # Set base URL\n",
    "    base_url = \"https://api.geoapify.com/v2/places\"\n",
    "\n",
    "    # Make and API request using the params dictionary\n",
    "    response = requests.get(base_url, params=params)\n",
    "\n",
    "    # Convert the API response to JSON format\n",
    "    name_address = response.json()\n",
    "    print(name_address)\n",
    "\n",
    "    # Grab the first hotel from the results and store the name in the hotel_df DataFrame\n",
    "    try:\n",
    "        hotel_df.loc[index, \"Hotel Name\"] = name_address[\"features\"][0][\"properties\"][\"name\"]\n",
    "    except Exception as Argument:\n",
    "        # If no hotel is found, set the hotel name as \"No hotel found\".\n",
    "        hotel_df.loc[index, \"Hotel Name\"] = \"No hotel found\"\n",
    "        logging.exception('Error message:')\n",
    "\n",
    "    # Log the search results\n",
    "    print(f\"{hotel_df.loc[index, 'City']} - nearest hotel: {hotel_df.loc[index, 'Hotel Name']}\")\n",
    "\n",
    "# Display sample data\n",
    "hotel_df"
   ]
  },
  {
   "cell_type": "markdown",
   "metadata": {},
   "source": [
    "### Step 5: Add the hotel name and the country as additional information in the hover message for each city in the map."
   ]
  },
  {
   "cell_type": "code",
   "execution_count": 16,
   "metadata": {},
   "outputs": [
    {
     "data": {},
     "metadata": {},
     "output_type": "display_data"
    },
    {
     "data": {
      "application/vnd.holoviews_exec.v0+json": "",
      "text/html": [
       "<div id='p1221'>\n",
       "  <div id=\"abec90e3-6224-40b6-ae92-7fc88c3e2018\" data-root-id=\"p1221\" style=\"display: contents;\"></div>\n",
       "</div>\n",
       "<script type=\"application/javascript\">(function(root) {\n",
       "  var docs_json = {\"8f88e4ca-b9fd-4544-bc09-bfcc4d523f5a\":{\"version\":\"3.4.2\",\"title\":\"Bokeh Application\",\"roots\":[{\"type\":\"object\",\"name\":\"Row\",\"id\":\"p1221\",\"attributes\":{\"name\":\"Row01959\",\"tags\":[\"embedded\"],\"stylesheets\":[\"\\n:host(.pn-loading):before, .pn-loading:before {\\n  background-color: #c3c3c3;\\n  mask-size: auto calc(min(50%, 400px));\\n  -webkit-mask-size: auto calc(min(50%, 400px));\\n}\",{\"type\":\"object\",\"name\":\"ImportedStyleSheet\",\"id\":\"p1224\",\"attributes\":{\"url\":\"https://cdn.holoviz.org/panel/1.4.4/dist/css/loading.css\"}},{\"type\":\"object\",\"name\":\"ImportedStyleSheet\",\"id\":\"p1323\",\"attributes\":{\"url\":\"https://cdn.holoviz.org/panel/1.4.4/dist/css/listpanel.css\"}},{\"type\":\"object\",\"name\":\"ImportedStyleSheet\",\"id\":\"p1222\",\"attributes\":{\"url\":\"https://cdn.holoviz.org/panel/1.4.4/dist/bundled/theme/default.css\"}},{\"type\":\"object\",\"name\":\"ImportedStyleSheet\",\"id\":\"p1223\",\"attributes\":{\"url\":\"https://cdn.holoviz.org/panel/1.4.4/dist/bundled/theme/native.css\"}}],\"margin\":0,\"sizing_mode\":\"stretch_width\",\"align\":\"start\",\"children\":[{\"type\":\"object\",\"name\":\"Spacer\",\"id\":\"p1225\",\"attributes\":{\"name\":\"HSpacer01965\",\"stylesheets\":[\"\\n:host(.pn-loading):before, .pn-loading:before {\\n  background-color: #c3c3c3;\\n  mask-size: auto calc(min(50%, 400px));\\n  -webkit-mask-size: auto calc(min(50%, 400px));\\n}\",{\"id\":\"p1224\"},{\"id\":\"p1222\"},{\"id\":\"p1223\"}],\"margin\":0,\"sizing_mode\":\"stretch_width\",\"align\":\"start\"}},{\"type\":\"object\",\"name\":\"Figure\",\"id\":\"p1264\",\"attributes\":{\"width\":null,\"height\":null,\"margin\":[5,10],\"sizing_mode\":\"fixed\",\"align\":\"start\",\"x_range\":{\"type\":\"object\",\"name\":\"Range1d\",\"id\":\"p1235\",\"attributes\":{\"tags\":[[[\"Longitude\",null]],[]],\"start\":-23811549.528477233,\"end\":23925930.305267327,\"reset_start\":-23811549.528477233,\"reset_end\":23925930.305267327,\"min_interval\":5}},\"y_range\":{\"type\":\"object\",\"name\":\"Range1d\",\"id\":\"p1236\",\"attributes\":{\"tags\":[[[\"Latitude\",null]],{\"type\":\"map\",\"entries\":[[\"invert_yaxis\",false],[\"autorange\",false]]}],\"start\":-8518869.205865927,\"end\":15682512.245061398,\"reset_start\":-8518869.205865927,\"reset_end\":15682512.245061398,\"min_interval\":5}},\"x_scale\":{\"type\":\"object\",\"name\":\"LinearScale\",\"id\":\"p1274\"},\"y_scale\":{\"type\":\"object\",\"name\":\"LinearScale\",\"id\":\"p1275\"},\"title\":{\"type\":\"object\",\"name\":\"Title\",\"id\":\"p1267\",\"attributes\":{\"text_color\":\"black\",\"text_font_size\":\"12pt\"}},\"renderers\":[{\"type\":\"object\",\"name\":\"TileRenderer\",\"id\":\"p1297\",\"attributes\":{\"level\":\"underlay\",\"tile_source\":{\"type\":\"object\",\"name\":\"WMTSTileSource\",\"id\":\"p1293\",\"attributes\":{\"url\":\"https://c.tile.openstreetmap.org/{Z}/{X}/{Y}.png\",\"attribution\":\"&copy; <a href=\\\"https://www.openstreetmap.org/copyright\\\">OpenStreetMap</a> contributors\"}}}},{\"type\":\"object\",\"name\":\"GlyphRenderer\",\"id\":\"p1313\",\"attributes\":{\"name\":\"color\",\"data_source\":{\"type\":\"object\",\"name\":\"ColumnDataSource\",\"id\":\"p1302\",\"attributes\":{\"selected\":{\"type\":\"object\",\"name\":\"Selection\",\"id\":\"p1303\",\"attributes\":{\"indices\":[],\"line_indices\":[]}},\"selection_policy\":{\"type\":\"object\",\"name\":\"UnionRenderers\",\"id\":\"p1304\"},\"data\":{\"type\":\"map\",\"entries\":[[\"Lng\",{\"type\":\"ndarray\",\"array\":{\"type\":\"bytes\",\"data\":\"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\"},\"shape\":[578],\"dtype\":\"float64\",\"order\":\"little\"}],[\"Lat\",{\"type\":\"ndarray\",\"array\":{\"type\":\"bytes\",\"data\":\"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\"},\"shape\":[578],\"dtype\":\"float64\",\"order\":\"little\"}],[\"City\",[\"punta arenas\",\"pyapon\",\"puerto deseado\",\"hithadhoo\",\"grytviken\",\"leh\",\"kayangel\",\"adamstown\",\"bethel\",\"broome\",\"blackmans bay\",\"hermanus\",\"isafjordur\",\"zambezi\",\"trinity\",\"uturoa\",\"vorkuta\",\"edinburgh of the seven seas\",\"caninde de sao francisco\",\"waitangi\",\"surhuisterveen\",\"lebu\",\"tiksi\",\"paoua\",\"west island\",\"ulladulla\",\"bredasdorp\",\"constantia\",\"badger\",\"remire-montjoly\",\"port-aux-francais\",\"iqaluit\",\"sitka\",\"atafu village\",\"linxia chengguanzhen\",\"berdigestyakh\",\"lihue\",\"kone\",\"la palma\",\"la passe\",\"paradip garh\",\"urangan\",\"atyashevo\",\"iskateley\",\"virginia beach\",\"puerto ayora\",\"san luis de la loma\",\"utrik\",\"abiramam\",\"sofifi\",\"ramnagar\",\"puerto natales\",\"udachny\",\"albany\",\"marsh harbour\",\"mugia\",\"bilibino\",\"nagina\",\"zhangye\",\"carnarvon\",\"yellowknife\",\"gorom-gorom\",\"kodiak\",\"nigde\",\"armidale\",\"invercargill\",\"nuuk\",\"naracoorte\",\"flying fish cove\",\"awjilah\",\"nemuro\",\"luderitz\",\"enewetak\",\"port elizabeth\",\"san antonio de pale\",\"happy valley-goose bay\",\"selfoss\",\"debre tabor\",\"hanceville\",\"anadyr\",\"lompoc\",\"saipan\",\"wauchope\",\"port mathurin\",\"pacific grove\",\"stanley\",\"susuman\",\"labrador city\",\"mount isa\",\"praia da vitoria\",\"huarmey\",\"barra de santo antonio\",\"el jadid\",\"sinabang\",\"ta`u\",\"cassilandia\",\"borogontsy\",\"kashgar\",\"thompson\",\"saudarkrokur\",\"ujae\",\"vila franca do campo\",\"papatowai\",\"waraseoni\",\"avarua\",\"miandrivazo\",\"guerrero negro\",\"margaret river\",\"nadym\",\"selty\",\"yuzhno-kurilsk\",\"yamada\",\"seorinarayan\",\"mount pearl\",\"ancud\",\"georgetown\",\"geraldton\",\"tongouson\",\"shimoda\",\"canutama\",\"broken hill\",\"tongliao\",\"klyuchi\",\"aasiaat\",\"tazacorte\",\"howard springs\",\"blackwater\",\"yangambi\",\"san patricio\",\"newman\",\"whitehorse\",\"lospalos\",\"wailua homesteads\",\"prince rupert\",\"ushuaia\",\"reggane\",\"khandyga\",\"new norfolk\",\"dudinka\",\"pazar\",\"petropavlovsk-kamchatsky\",\"hobyo\",\"ribeira grande\",\"kalispell\",\"kaitong\",\"east london\",\"shetpe\",\"ingleby greenhow\",\"aurillac\",\"saint-philippe\",\"tashir\",\"vilyuysk\",\"tolanaro\",\"nizhneudinsk\",\"longyearbyen\",\"moab\",\"zubin potok\",\"seka\",\"cabo san lucas\",\"olonkinbyen\",\"maun\",\"lazaro cardenas\",\"eraan\",\"nikolayevsk-on-amure\",\"huanren\",\"jamestown\",\"byumba\",\"laascaanood\",\"oranjemund\",\"burutu\",\"haikou\",\"n'zeto\",\"mahanoro\",\"sinaia\",\"masterton\",\"egilsstadir\",\"polyarnyy\",\"cockburn town\",\"st. john's\",\"kavieng\",\"hawaiian paradise park\",\"zaozersk\",\"lethbridge\",\"sumbawanga\",\"greifswald\",\"olinda\",\"choyr\",\"akureyri\",\"carlisle\",\"suya\",\"impfondo\",\"minas de marcona\",\"warrenton\",\"dukhovnitskoye\",\"al ghayzah\",\"ciudad lazaro cardenas\",\"coahuayana de hidalgo\",\"pisco\",\"prado\",\"port alfred\",\"gushu\",\"ditrau\",\"lubang\",\"paraiso\",\"guaiba\",\"cradock\",\"vilyuchinsk\",\"arraial do cabo\",\"talnakh\",\"natal\",\"brigantine\",\"usogorsk\",\"queenstown\",\"richards bay\",\"kismayo\",\"rikaze\",\"tura\",\"howrah\",\"bodo\",\"qamdo\",\"afaahiti\",\"konstantinovka\",\"benjamin aceval\",\"great bend\",\"kalmunai\",\"nova sintra\",\"bandarbeyla\",\"balnearia\",\"al artawiyah\",\"sidi merouane\",\"yucca valley\",\"motygino\",\"i-n-salah\",\"alice springs\",\"brisas de zicatela\",\"fort mcmurray\",\"vorgashor\",\"ibimirim\",\"holualoa\",\"cabedelo\",\"kruisfontein\",\"malanje\",\"punta cardon\",\"sol'-iletsk\",\"taroa\",\"kiunga\",\"ouallam\",\"port shepstone\",\"kailua-kona\",\"korla\",\"ndende\",\"kingston\",\"ugoofaaru\",\"chichawatni\",\"hennebont\",\"taghazout\",\"moscow\",\"puerto baquerizo moreno\",\"lesosibirsk\",\"rio grande\",\"kresttsy\",\"jinchang\",\"pimentel\",\"abaetetuba\",\"mata-utu\",\"ad dilam\",\"qaqortoq\",\"zheleznodorozhnyy\",\"aripuana\",\"ketchikan\",\"ust-nera\",\"lerwick\",\"maua\",\"rodolfo sanchez taboada\",\"brookings\",\"planaltina\",\"salta\",\"kokpekty\",\"ilhabela\",\"roi et\",\"tromso\",\"devoto\",\"bechar\",\"zakamensk\",\"an nuhud\",\"sangkhla buri\",\"kijang\",\"patong\",\"ilulissat\",\"capitao poco\",\"usinsk\",\"felipe carrillo puerto\",\"tarhuna\",\"angra do heroismo\",\"mersing\",\"progreso\",\"mont-dore\",\"svoge\",\"wynyard\",\"balakhta\",\"neryungri\",\"arno\",\"saqqez\",\"fayroz koh\",\"corry\",\"ouadda\",\"miles city\",\"choibalsan\",\"katabu\",\"island harbour\",\"santa ana\",\"new mirpur\",\"nongpoh\",\"podporozh'ye\",\"vredendal\",\"bubaque\",\"guardo\",\"port saint john's\",\"gore\",\"yerofey pavlovich\",\"magadan\",\"abalak\",\"adh dhibiyah\",\"elizabeth city\",\"sawakin\",\"chopinzinho\",\"lethem\",\"bashmakovo\",\"kerikeri\",\"gadzhiyevo\",\"urzhar\",\"alice\",\"port moresby\",\"mukalla\",\"west end\",\"veraval\",\"slave lake\",\"pathein\",\"hamilton\",\"sao jose da coroa grande\",\"guarapari\",\"ikwiriri\",\"las tablas\",\"tuy hoa\",\"mirny\",\"mantua\",\"tarawa\",\"tazovsky\",\"mulayjah\",\"villa bruzual\",\"chibougamau\",\"zholymbet\",\"tchintabaraden\",\"mil'kovo\",\"basco\",\"arkhangel'sk\",\"iringa\",\"suhbaatar\",\"nagqu\",\"niafunke\",\"mundybash\",\"songjiang\",\"lhasa\",\"san isidro de curuguaty\",\"weno\",\"thap than\",\"colonia menno\",\"fale old settlement\",\"la asuncion\",\"aykhal\",\"floro\",\"hede\",\"sarikei\",\"haiku-pauwela\",\"serhiyivka\",\"samfya\",\"tanumah\",\"rizhao\",\"alofi\",\"caleta de carquin\",\"macheng\",\"kapit\",\"san pedro pochutla\",\"qarauyl\",\"lorengau\",\"lancut\",\"saint-pierre\",\"hargeysa\",\"college\",\"peace river\",\"razole\",\"sao bento do sul\",\"cannonvale\",\"oneida\",\"mount gambier\",\"neiafu\",\"palmerston north\",\"al hufuf\",\"kushiro\",\"nishifukuma\",\"cruz del eje\",\"jayapura\",\"talara\",\"ohara\",\"alenquer\",\"alesund\",\"northam\",\"inhambane\",\"illizi\",\"waingapu\",\"tralee\",\"westport\",\"bengkulu\",\"la ronge\",\"tafresh\",\"keflavik\",\"cambria\",\"zeya\",\"sanya\",\"cove\",\"sai buri\",\"aljezur\",\"copala\",\"ash shafa\",\"ifanadiana\",\"portland\",\"mhamid\",\"rongelap\",\"vernon\",\"almeirim\",\"smithers\",\"nadi\",\"eastham\",\"ovalle\",\"jefferson city\",\"kollo\",\"forio\",\"turpan\",\"pagar alam\",\"belyy yar\",\"tidjikja\",\"port macquarie\",\"port douglas\",\"corner brook\",\"taos\",\"mary\",\"az zawr\",\"malpica\",\"uglegorsk\",\"warri\",\"demidov\",\"sa'dah\",\"kuantan\",\"cholet\",\"ndibene dahra\",\"soio\",\"ambodifotatra\",\"phalodi\",\"abepura\",\"urengoy\",\"labytnangi\",\"carauari\",\"margarita belen\",\"cidreira\",\"troitskoye\",\"kapa'a\",\"khovd\",\"okhotsk\",\"kharp\",\"tarashcha\",\"manaure\",\"nakamura\",\"bogandinskiy\",\"saint-joseph\",\"tabou\",\"esmoriz\",\"leava\",\"curanilahue\",\"mammoth lakes\",\"jacarei\",\"argos\",\"namibe\",\"menomonie\",\"quezon\",\"keelung\",\"la gi\",\"karratha\",\"crane\",\"armacao de buzios\",\"nuku'alofa\",\"sombrerete\",\"lauttasaari\",\"rufino\",\"guanica\",\"yorkton\",\"funafuti\",\"okha\",\"walvis bay\",\"chajari\",\"burang\",\"sisimiut\",\"sao paulo de olivenca\",\"ciudad del este\",\"bardai\",\"xiva\",\"xai-xai\",\"gisborne\",\"santa vitoria do palmar\",\"laojunmiao\",\"kerimaki\",\"trevelin\",\"moyynkum\",\"nisia floresta\",\"kavaratti\",\"santo antonio do ica\",\"iwanai\",\"sinop\",\"arias\",\"cartagena del chaira\",\"moose jaw\",\"kapuskasing\",\"dakhla\",\"huizhou\",\"north bend\",\"tokar\",\"canandaigua\",\"princeville\",\"caldwell\",\"lamu\",\"perols\",\"fecamp\",\"panamaram\",\"schrozberg\",\"pudasjarvi\",\"greymouth\",\"augusto correa\",\"rio preto da eva\",\"itoman\",\"firmat\",\"quellon\",\"antalaha\",\"konarka\",\"villanueva\",\"dusti\",\"stornoway\",\"tavas\",\"abaza\",\"fort st. john\",\"ivdel'\",\"grand rapids\",\"ardestan\",\"mar de espanha\",\"strelka\",\"yarmouth\",\"san jeronimo\",\"puerto armuelles\",\"el fasher\",\"xinyuan\",\"kokopo\",\"kybartai\",\"mendi\",\"sinan\",\"key west\",\"birni n konni\",\"kill devil hills\",\"karachi\",\"nogliki\",\"sao francisco\",\"guaimaro\",\"karlskrona\",\"hassi messaoud\",\"chul'man\",\"nacogdoches\",\"tobol'sk\",\"port-vila\",\"nabire\",\"wanning\",\"yardimli\"]],[\"Humidity\",{\"type\":\"ndarray\",\"array\":{\"type\":\"bytes\",\"data\":\"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\"},\"shape\":[578],\"dtype\":\"int32\",\"order\":\"little\"}],[\"Country\",[\"CL\",\"MM\",\"AR\",\"MV\",\"GS\",\"IN\",\"PW\",\"PN\",\"US\",\"US\",\"AU\",\"ZA\",\"IS\",\"ZM\",\"US\",\"PF\",\"RU\",\"SH\",\"BR\",\"NZ\",\"NL\",\"CL\",\"RU\",\"CF\",\"CC\",\"AU\",\"ZA\",\"RO\",\"US\",\"GF\",\"TF\",\"CA\",\"US\",\"TK\",\"CN\",\"RU\",\"US\",\"NC\",\"US\",\"FR\",\"IN\",\"AU\",\"RU\",\"RU\",\"US\",\"EC\",\"MX\",\"MH\",\"IN\",\"ID\",\"IN\",\"CL\",\"RU\",\"US\",\"BS\",\"ES\",\"RU\",\"IN\",\"CN\",\"AU\",\"CA\",\"BF\",\"US\",\"TR\",\"AU\",\"NZ\",\"GL\",\"AU\",\"CX\",\"LY\",\"JP\",\"nan\",\"MH\",\"ZA\",\"GQ\",\"CA\",\"IS\",\"ET\",\"US\",\"RU\",\"US\",\"MP\",\"AU\",\"MU\",\"US\",\"GB\",\"RU\",\"CA\",\"AU\",\"PT\",\"PE\",\"BR\",\"MA\",\"ID\",\"AS\",\"BR\",\"RU\",\"CN\",\"CA\",\"IS\",\"MH\",\"PT\",\"NZ\",\"IN\",\"CK\",\"MG\",\"MX\",\"AU\",\"RU\",\"RU\",\"RU\",\"JP\",\"IN\",\"CA\",\"CL\",\"MY\",\"AU\",\"PH\",\"JP\",\"BR\",\"AU\",\"CN\",\"RU\",\"GL\",\"ES\",\"AU\",\"AU\",\"CD\",\"US\",\"US\",\"CA\",\"TL\",\"US\",\"CA\",\"AR\",\"DZ\",\"RU\",\"AU\",\"RU\",\"TR\",\"RU\",\"SO\",\"PT\",\"US\",\"CN\",\"ZA\",\"KZ\",\"GB\",\"FR\",\"RE\",\"AM\",\"RU\",\"MG\",\"RU\",\"SJ\",\"US\",\"XK\",\"TH\",\"MX\",\"SJ\",\"BW\",\"MX\",\"PH\",\"RU\",\"CN\",\"US\",\"RW\",\"SO\",\"nan\",\"NG\",\"CN\",\"AO\",\"MG\",\"RO\",\"NZ\",\"IS\",\"RU\",\"TC\",\"CA\",\"PG\",\"US\",\"RU\",\"CA\",\"TZ\",\"DE\",\"BR\",\"MN\",\"IS\",\"US\",\"NG\",\"CG\",\"PE\",\"ZA\",\"RU\",\"YE\",\"MX\",\"MX\",\"PE\",\"BR\",\"ZA\",\"CN\",\"RO\",\"PH\",\"CR\",\"BR\",\"ZA\",\"RU\",\"BR\",\"RU\",\"BR\",\"US\",\"RU\",\"ZA\",\"ZA\",\"SO\",\"CN\",\"IN\",\"IN\",\"NO\",\"CN\",\"PF\",\"RU\",\"PY\",\"US\",\"LK\",\"CV\",\"SO\",\"AR\",\"SA\",\"DZ\",\"US\",\"RU\",\"DZ\",\"AU\",\"MX\",\"CA\",\"RU\",\"BR\",\"US\",\"BR\",\"ZA\",\"AO\",\"VE\",\"RU\",\"MH\",\"PG\",\"NE\",\"ZA\",\"US\",\"CN\",\"GA\",\"JM\",\"MV\",\"PK\",\"FR\",\"MA\",\"RU\",\"EC\",\"RU\",\"BR\",\"RU\",\"CN\",\"PE\",\"BR\",\"WF\",\"SA\",\"GL\",\"RU\",\"BR\",\"US\",\"RU\",\"GB\",\"BR\",\"MX\",\"US\",\"BR\",\"AR\",\"KZ\",\"BR\",\"TH\",\"NO\",\"AR\",\"DZ\",\"RU\",\"SD\",\"TH\",\"KR\",\"TH\",\"GL\",\"BR\",\"RU\",\"MX\",\"LY\",\"PT\",\"MY\",\"MX\",\"NC\",\"BG\",\"AU\",\"RU\",\"RU\",\"SE\",\"IR\",\"AF\",\"US\",\"CF\",\"US\",\"MN\",\"ID\",\"GB\",\"US\",\"PK\",\"IN\",\"RU\",\"ZA\",\"GW\",\"ES\",\"ZA\",\"NZ\",\"RU\",\"RU\",\"RU\",\"SA\",\"US\",\"SD\",\"BR\",\"GY\",\"RU\",\"NZ\",\"RU\",\"KZ\",\"US\",\"PG\",\"YE\",\"BS\",\"IN\",\"CA\",\"MM\",\"US\",\"BR\",\"BR\",\"TZ\",\"PA\",\"VN\",\"RU\",\"IT\",\"KI\",\"RU\",\"SA\",\"VE\",\"CA\",\"KZ\",\"NE\",\"RU\",\"PH\",\"RU\",\"TZ\",\"MN\",\"CN\",\"ML\",\"RU\",\"CN\",\"CN\",\"PY\",\"FM\",\"TH\",\"PY\",\"TK\",\"VE\",\"RU\",\"NO\",\"CN\",\"MY\",\"US\",\"UA\",\"ZM\",\"SA\",\"CN\",\"NU\",\"PE\",\"CN\",\"MY\",\"MX\",\"KZ\",\"PG\",\"PL\",\"RE\",\"SO\",\"US\",\"CA\",\"IN\",\"BR\",\"AU\",\"US\",\"AU\",\"TO\",\"NZ\",\"SA\",\"JP\",\"JP\",\"AR\",\"ID\",\"PE\",\"JP\",\"BR\",\"NO\",\"GB\",\"MZ\",\"DZ\",\"ID\",\"IE\",\"US\",\"ID\",\"CA\",\"IR\",\"IS\",\"US\",\"RU\",\"CN\",\"BJ\",\"TH\",\"PT\",\"MX\",\"SA\",\"MG\",\"US\",\"MA\",\"MH\",\"CA\",\"BR\",\"CA\",\"FJ\",\"US\",\"CL\",\"US\",\"NE\",\"IT\",\"CN\",\"ID\",\"RU\",\"MR\",\"AU\",\"AU\",\"CA\",\"US\",\"TM\",\"KW\",\"ES\",\"RU\",\"NG\",\"RU\",\"YE\",\"MY\",\"FR\",\"SN\",\"AO\",\"MG\",\"IN\",\"ID\",\"RU\",\"RU\",\"BR\",\"AR\",\"BR\",\"RU\",\"US\",\"MN\",\"RU\",\"RU\",\"UA\",\"CO\",\"JP\",\"RU\",\"RE\",\"CI\",\"PT\",\"WF\",\"CL\",\"US\",\"BR\",\"GR\",\"AO\",\"US\",\"PH\",\"TW\",\"VN\",\"AU\",\"US\",\"BR\",\"TO\",\"MX\",\"FI\",\"AR\",\"PR\",\"CA\",\"TV\",\"RU\",\"nan\",\"AR\",\"CN\",\"GL\",\"BR\",\"PY\",\"NG\",\"UZ\",\"MZ\",\"NZ\",\"BR\",\"CN\",\"FI\",\"AR\",\"KZ\",\"BR\",\"IN\",\"BR\",\"JP\",\"TR\",\"AR\",\"CO\",\"CA\",\"CA\",\"EH\",\"CN\",\"US\",\"SD\",\"US\",\"CA\",\"US\",\"KE\",\"FR\",\"FR\",\"IN\",\"DE\",\"FI\",\"NZ\",\"BR\",\"BR\",\"JP\",\"AR\",\"CL\",\"MG\",\"IN\",\"HN\",\"TJ\",\"GB\",\"TR\",\"RU\",\"CA\",\"RU\",\"US\",\"IR\",\"BR\",\"RU\",\"US\",\"PE\",\"PA\",\"SD\",\"CN\",\"PG\",\"LT\",\"PG\",\"KR\",\"US\",\"NE\",\"US\",\"PK\",\"RU\",\"BR\",\"CU\",\"SE\",\"DZ\",\"RU\",\"US\",\"RU\",\"VU\",\"ID\",\"CN\",\"AZ\"]],[\"Hotel_Name\",[\"Hotel Lacolet\",\"No hotel found\",\"Los Olmos\",\"Pebbles Inn\",\"No hotel found\",\"Kang Lha Chen\",\"No hotel found\",\"No hotel found\",\"Hampton Inn Danbury\",\"No hotel found\",\"Villa Howden\",\"Aloe guest house\",\"H\\u00f3tel Horn\",\"No hotel found\",\"Holiday Inn Express & Suites Trinity\",\"Hawaiki Nui hotel\",\"\\\"\\u041c\\u0435\\u0433\\u0430\\u043f\\u043e\\u043b\\u0438\\u0441\\\"\",\"No hotel found\",\"Hotel do China\",\"Hotel Chathams\",\"Herberg van Smallingerland\",\"No hotel found\",\"\\u0410\\u0440\\u043a\\u0442\\u0438\\u043a\\u0430\",\"No hotel found\",\"Cocos Village Bungalows\",\"Hotel Marlin\",\"Victoria Hotel\",\"Hotel Dali\",\"Clarion Hotel & Suites\",\"Complexe Belova\",\"Keravel\",\"Frobisher Inn\",\"Aspen Suites Hotel\",\"No hotel found\",\"\\u5982\\u5bb6\\u9152\\u5e97\",\"No hotel found\",\"Kauai Palms\",\"Pacifik Appartels\",\"La Quinta Inn & Suites Buena Park\",\"L'Estuaire\",\"Hotel Sea Pearl\",\"Ramada\",\"\\u0413\\u043e\\u0441\\u0442\\u0438\\u043d\\u0438\\u0446\\u0430 \\u0414\\u0440\\u0443\\u0436\\u0431\\u0430\",\"\\u0410\\u0432\\u0430\\u043d\\u0442\\u0430\\u0436\",\"Beach Spa Bed & Breakfast\",\"Hostal La Mirada De Solitario George\",\"No hotel found\",\"No hotel found\",\"No hotel found\",\"No hotel found\",\"Hotel Corbett Kingdom\",\"Dorotea Patagonia Hostel\",\"\\u0412\\u0438\\u043b\\u044e\\u0439\",\"No hotel found\",\"Lofty Fig Villas\",\"Solpor do Co\\u00eddo\",\"No hotel found\",\"No hotel found\",\"Zhangye Hotel \\u5f20\\u6396\\u996d\\u5e97\",\"No hotel found\",\"No hotel found\",\"No hotel found\",\"No hotel found\",\"No hotel found\",\"Lindsay House\",\"The Grand\",\"Nordbo\",\"Kincraig Hotel /Smith & Jones Cafe\",\"Christmas Island Lodge\",\"No hotel found\",\"\\u304a\\u5bbf\\u30a8\\u30af\\u30cf\\u30b7\",\"Seaview Hotel Zum Sperrgebiet\",\"No hotel found\",\"Waterford Hotel\",\"No hotel found\",\"Hotel North Two\",\"Mi\\u00f0gar\\u00f0ur\",\"Kise alemayehu\",\"No hotel found\",\"\\u0413\\u043e\\u0441\\u0442\\u0435\\u0432\\u043e\\u0439 \\u0434\\u043e\\u043c\",\"Red Roof Inn Lompoc\",\"Chalan Kanoa Beach Hotel\",\"No hotel found\",\"Escale Vacances\",\"Pacific Grove Inn\",\"Hotel 52\",\"No hotel found\",\"Carol Inn\",\"Ibis Styles\",\"Salles\",\"Hostal Santa Rosa\",\"Resort Fazenda Fiore\",\"Hotel El Jadida\",\"No hotel found\",\"No hotel found\",\"No hotel found\",\"No hotel found\",\"\\u6df1\\u822a\\u56fd\\u9645\\u9152\\u5e97\",\"Thompson Inn\",\"Mikligar\\u00f0ur\",\"No hotel found\",\"Vinha d'Areia Beach Hotel\",\"No hotel found\",\"No hotel found\",\"Paradise Inn\",\"Baobab\",\"Plaza sal paraiso\",\"Margaret River Hotel\",\"\\u042f\\u043d\\u0442\\u0430\\u0440\\u043d\\u0430\\u044f\",\"No hotel found\",\"\\u0410\\u0439\\u0441\\u0431\\u0435\\u0440\\u0433\",\"No hotel found\",\"No hotel found\",\"Sandman Signature St. John's Hotel\",\"Caba\\u00f1as\",\"Page 63 hostel\",\"Ocean Centre Hotel\",\"No hotel found\",\"\\u30db\\u30c6\\u30eb\\u30a6\\u30e9\\u30ac\",\"No hotel found\",\"Ibis Styles\",\"No hotel found\",\"No hotel found\",\"S\\u00d8MA\",\"App Leyma\",\"Rydges Palmerston\",\"No hotel found\",\"No hotel found\",\"No hotel found\",\"No hotel found\",\"Town & Mountain Hotel\",\"Hotel Roberto Carlos\",\"Hilton Garden Inn Kauai Wailua Bay\",\"Crest Hotel\",\"Apart Hotel Aires del Beagle\",\"No hotel found\",\"\\u0410\\u043f\\u0435\\u043b\\u044c\\u0441\\u0438\\u043d\",\"Woodbridge on the Derwent\",\"\\u0412\\u0438\\u043a\\u0442\\u043e\\u0440\\u0438\\u044f\",\"No hotel found\",\"\\u041e\\u041e\\u041e \\u041f\\u043e\\u0441\\u0442\\u043e\\u044f\\u043b\\u044b\\u0439 \\u0434\\u0432\\u043e\\u0440\",\"Iftin Hotel Hobyo\",\"Hospedaria JSF\",\"Kalispell Grand Hotel\",\"No hotel found\",\"No hotel found\",\"\\u0411\\u0430\\u043b\\u0443\\u043c\\u0438\\u0442\",\"The Wainstones Hotel\",\"Campanile\",\"Le Baril\",\"Voroncovk\",\"\\u041c\\u0430\\u0440\\u0438\\u044f\",\"H\\u00f4tel Mahavokey\",\"\\u041f\\u043e\\u043b\\u044e\\u0441\",\"The Vault\",\"Kokopelli Inn\",\"No hotel found\",\"No hotel found\",\"Comfort Rooms\",\"No hotel found\",\"Center Lodge Conference Center\",\"Hotel Sol del Pac\\u00edfico\",\"Trucut Travellers Inn\",\"\\u0421\\u0435\\u0432\\u0435\\u0440\",\"No hotel found\",\"DoubleTree Jamestown\",\"No hotel found\",\"Warsame Hotel mnesta\",\"Op My Stoep\",\"No hotel found\",\"\\u6d77\\u53e3\\u884c\\u9752\\u5e74\\u65c5\",\"Longe LUVUVAMO\",\"Vanilla Bungalow\",\"Hotel Bucegi\",\"Copthorne Hotel Solway Park\",\"Valaskj\\u00e1lf\",\"No hotel found\",\"The Salt Raker Inn\",\"Alt Hotel\",\"Kavieng Hotel\",\"No hotel found\",\"\\u0421\\u0435\\u0432\\u0435\\u0440\\u043d\\u043e\\u0435 \\u0441\\u0438\\u044f\\u043d\\u0438\\u0435\",\"Sandman Hotel\",\"Moravian Conference Centre\",\"Alter Speicher\",\"Fidji Motel\",\"\\u0421\\u0430\\u043d\\u0441\\u0430\\u0440 \\u0425\\u0430\\u0439\\u0440\\u0445\\u0430\\u043d \\u0437\\u043e\\u0447\\u0438\\u0434 \\u0431\\u0443\\u0443\\u0434\\u0430\\u043b\",\"H\\u00f3tel Nor\\u00f0urland\",\"Comfort Suites Hotel\",\"No hotel found\",\"Tropicana\",\"No hotel found\",\"No hotel found\",\"\\u0412\\u043e\\u043b\\u0433\\u0430\",\"\\u0641\\u0646\\u062f\\u0642 \\u062a\\u0627\\u062c \\u0627\\u0644\\u0639\\u0631\\u0628\",\"Hotel Sol del Pac\\u00edfico\",\"No hotel found\",\"La Portada\",\"Pousada Recanto do Prado\",\"No hotel found\",\"No hotel found\",\"Erd\\u0151s Panzi\\u00f3\",\"No hotel found\",\"Cabinas\",\"Ibis Gua\\u00edba\",\"Die Tuishuise and Victoria Manor\",\"\\u041f\\u043e\\u0431\\u0435\\u0434\\u0430\",\"No hotel found\",\"\\u0422\\u0430\\u043b\\u043d\\u0430\\u0445\",\"Natal Palace Hotel\",\"La Sammana\",\"\\u0415\\u0434\\u0438\\u043d\\u0441\\u0442\\u0432\\u0435\\u043d\\u043d\\u0430\\u044f\",\"Queens Hotel\",\"SUN1 Richards Bay\",\"Kismayo Hotel\",\"Gesar Hotel\",\"Hotel Polo Orchid\",\"Sun India Guest House\",\"Zefyr hotell\",\"\\u94f6\\u674f\\u5546\\u52a1\\u5bbe\\u9986\",\"Omati Lodge\",\"No hotel found\",\"No hotel found\",\"Best Western\",\"Saji new food\",\"Resid\\u00eancia Ka Dencho\",\"No hotel found\",\"No hotel found\",\"No hotel found\",\"H\\u00f4tel Salam\",\"Travelodge Inn and Suites Yucca Valley/Joshua Tree National Park\",\"No hotel found\",\"\\u0628\\u0627\\u062c\\u0648\\u062f\\u0629\",\"Aurora Alice Springs\",\"Casa de Olas\",\"Nomad Hotel and Suites\",\"\\u0421\\u043e\\u0444\\u0438\\u044f\",\"No hotel found\",\"Kona Hotel\",\"No hotel found\",\"No hotel found\",\"Hotel PORTVGALIA\",\"Hotel Bijou Amethyste Punto Fijo Paraguana\",\"Konnov hotel\",\"No hotel found\",\"No hotel found\",\"No hotel found\",\"The Spot Backpackers'\",\"Kona Seaside Hotel\",\"Silver Star Hotel\",\"Divive\",\"Aphrodite Hotel\",\"No hotel found\",\"No hotel found\",\"Ibis Budget\",\"Riad Taghazout\",\"\\u041c\\u0418\\u0420\\u0420\\u041e\\u0421 \\u2014 \\u041c\\u043e\\u0441\\u043a\\u0432\\u0430 \\u041a\\u0440\\u0435\\u043c\\u043b\\u044c\",\"Dory's House\",\"No hotel found\",\"Hotel Vila Moura Executivo\",\"No hotel found\",\"No hotel found\",\"Hospedaje Calle del Sol\",\"Hotel Jarum\\u00e3\",\"G\\u00eete Oceania\",\"No hotel found\",\"Hotel Qaqortoq\",\"No hotel found\",\"No hotel found\",\"Cape Fox Lodge\",\"\\u0433\\u043e\\u0441\\u0442\\u0438\\u043d\\u0438\\u0446\\u0430 \\\"\\u0421\\u043e\\u043b\\u043d\\u0435\\u0447\\u043d\\u0430\\u044f\\\"\",\"Grand Hotel\",\"Go Inn Santo Andr\\u00e9\",\"Estero Beach Resort\",\"Quality Inn\",\"Condom\\u00ednio Residencial Sonho Real\",\"Ayres de Salta Hotel\",\"No hotel found\",\"Vila Kebaya\",\"No hotel found\",\"Clarion Collection Hotel Aurora\",\"Devoto Gran Hotel\",\"H\\u00f4tel Madania\",\"\\u0421\\u043e\\u043d\\u0430\",\"No hotel found\",\"\\u0e28\\u0e23\\u0e35\\u0e41\\u0e14\\u0e07 \\u0e42\\u0e2e\\u0e40\\u0e15\\u0e47\\u0e25\",\"\\ud790\\ud2bc\\ud638\\ud154 \\ubd80\\uc0b0\",\"Thara Patong Beach Resort & Spa\",\"Best Western Plus Hotel Ilulissat\",\"No hotel found\",\"\\u043e\\u0431\\u0449\\u0435\\u0436\\u0438\\u0442\\u0438\\u0435 \\u041b\\u0443\\u043a\\u043e\\u0439\\u043b-\\u041a\\u043e\\u043c\\u0438\",\"Hotel Mar\\u00eda Jos\\u00e9\",\"\\u0641\\u0646\\u062f\\u0642 \\u062a\\u0631\\u0647\\u0648\\u0646\\u0629 \\u0627\\u0644\\u0628\\u0644\\u062f\\u064a\",\"Angra Marina Hotel & Spa 5*\",\"Mersing Inn Hotel\",\"Centro Vacacional Obrero CTM\",\"Les Cases de Plum\",\"Kolos\",\"Wynyard Hotel\",\"\\u041c\\u0438\\u0440\\u0430\\u0436\",\"DeLuxe\",\"Pensionat Grisslehamns\",\"\\u0647\\u062a\\u0644 \\u0633\\u0642\\u0632\",\"No hotel found\",\"The Victoria on Main\",\"No hotel found\",\"Historic Olive Hotel\",\"\\u0417\\u04af\\u04af\\u043d \\u041e\\u0440\\u0434\\u043e\\u043d \\u0417\\u043e\\u0447\\u0438\\u0434 \\u0411\\u0443\\u0443\\u0434\\u0430\\u043b\",\"No hotel found\",\"Premier Inn\",\"Holiday Inn Express\",\"Al-Janat Hotel\",\"No hotel found\",\"No hotel found\",\"No hotel found\",\"Chez Julio\",\"Hotel Don Edmundo\",\"Outback Inn\",\"No hotel found\",\"No hotel found\",\"\\u0413\\u043e\\u0441\\u0442\\u0438\\u043d\\u0438\\u0446\\u0430 \\u00ab\\u0412\\u041c-\\u0426\\u0435\\u043d\\u0442\\u0440\\u00bb\",\"No hotel found\",\"No hotel found\",\"Quality Inn\",\"Hotel Halfa\",\"No hotel found\",\"Hotel Amazonas\",\"\\u0418\\u041f \\u041c\\u0430\\u043a\\u0430\\u0440\\u043e\\u0432 \\u0412. \\u0412.\",\"Avalon Resort\",\"\\u041e\\u0430\\u0437\\u0438\\u0441\",\"\\u0413\\u043e\\u0441\\u0442\\u0438\\u043d\\u0438\\u0446\\u0430 \\u0428\\u0430\\u043d\\u044b\\u0440\\u0430\\u043a\",\"La Quinta Inn & Suites\",\"The Sanctuary Hotel and Spa\",\"\\u0641\\u0646\\u062f\\u0642 \\u0627\\u0644\\u062c\\u0627\\u0628\\u0631\\u064a\",\"The Inn at Old Bahama Bay\",\"Shyam\",\"Northwest Inn\",\"Taan Taan Ta\",\"North Vista Manor\",\"Hotel do Sol\",\"Osmar Hotel\",\"No hotel found\",\"Hotel Don Jesus\",\"Nhu Y Hotel\",\"\\u0417\\u0430\\u0440\\u043d\\u0438\\u0446\\u0430\",\"No hotel found\",\"Betio Lodge\",\"\\u0422\\u0430\\u0437\\u043e\\u0432\\u0447\\u0430\\u043d\\u043a\\u0430\",\"No hotel found\",\"Hotel Tur\\u00edstico Sol de Arichuna\",\"No hotel found\",\"No hotel found\",\"No hotel found\",\"\\u0414\\u0440\\u043e\\u0437\\u0434\\u044b\",\"Tawsen Hotel\",\"\\u0421\\u0435\\u0440\\u0430\\u0444\\u0438\\u043c\\u0430\",\"Zakinn\",\"Selenge Hotel\",\"Naqu Hotel\",\"No hotel found\",\"No hotel found\",\"\\u4e0a\\u6d77\\u677e\\u6c5f\\u5f00\\u5143\\u540d\\u90fd\\u5927\\u9152\\u5e97\",\"Shangri-la Hotel Lhasa\",\"Hospedaje El Sol\",\"High Tide Hotel\",\"Cheang Resort Sweet Hotel\",\"Hotel Mora\",\"No hotel found\",\"Hotel La Ciudad\",\"\\u0423\\u044e\\u0442\",\"Comfort Hotel Victoria Flor\\u00f8\",\"No hotel found\",\"No hotel found\",\"Inn At Mama's Fish House\",\"\\u041f\\u0430\\u043d\\u0441\\u0456\\u043e\\u043d\\u0430\\u0442 \\\"\\u041a\\u0430\\u043b\\u0438\\u043d\\u0430\\\"\",\"Twemu Guest house\",\"No hotel found\",\"\\u82cf\\u5b81\\u8bfa\\u5bcc\\u7279\\u9152\\u5e97\",\"Matavai Resort\",\"Hotel Mi Choacan\",\"No hotel found\",\"Hotel Haip Choing\",\"Olimpia\",\"No hotel found\",\"Seeadler Bay Hotel\",\"Alfred Palace\",\"Tropic Hotel\",\"No hotel found\",\"BEST WESTERN PLUS Pioneer Park Inn\",\"New Ridge Inn\",\"No hotel found\",\"Arauc\\u00e1ria Hostel\",\"Whitsundays Rainforest Retreat\",\"Wingate by Wyndham Rome\",\"The Old Mount Gambier Gaol\",\"Port Wine Guest House\",\"The Empire Hotel\",\"Al Muhaidab Residence Al Ahsa\",\"ANA Hotel Kushiro\",\"\\u5272\\u70f9\\u65c5\\u9928 \\u6b63\\u76f4\\u4ead\",\"Hotel Espa\\u00f1a\",\"Hotel Jasmine Jayapura\",\"Hospedaje El Aypate\",\"No hotel found\",\"No hotel found\",\"Brosundet\",\"Durrant House Hotel\",\"Hotel de Inhambane\",\"\\u0628\\u0648\\u0646\\u0627\\u0642\\u0629\",\"HOTEL SANDLEWOOD\",\"The Ashe Hotel\",\"Norwalk Inn and Conference Center\",\"Dena Hotel\",\"La Ronge Hotel and Suites\",\"\\u0647\\u062a\\u0644 \\u067e\\u0631\\u062f\\u06cc\\u0633\\u0627\\u0646\",\"N\\u00fapan Deluxe\",\"Olallieberry Inn\",\"\\u0421\\u0435\\u0440\\u0435\\u0431\\u0440\\u044f\\u043d\\u044b\\u0439 \\u0441\\u0442\\u0432\\u043e\\u0440\",\"No hotel found\",\"TG H\\u00f4tel Cov\\u00e8\",\"\\u0645\\u0648\\u0642\\u0639 .\\u0662 \\u0645\\u0634\\u0631\\u0648\\u0639 \\u0641\\u0646\\u062f\\u0642\",\"Vicentina Hotel\",\"No hotel found\",\"No hotel found\",\"Win\",\"the Hoxton\",\"Hotel Kasbah Azalay\",\"No hotel found\",\"Okanagan Royal Park Inn\",\"Kapejar Hotel\",\"Sunshine Inn Hotel\",\"President Hotel\",\"Four Points by Sheraton\",\"Hotel Roxy\",\"DoubleTree by Hilton Jefferson City\",\"No hotel found\",\"Hotel Terme Colella\",\"Oriental\",\"Villa Dempo Flower\",\"No hotel found\",\"No hotel found\",\"The Observatory\",\"Mantra Aqueous Port Douglas\",\"No hotel found\",\"Hotel La Fonda de Taos\",\"No hotel found\",\"No hotel found\",\"Pensi\\u00f3n Panchito\",\"\\u041f\\u0440\\u0438\\u043c\\u043e\\u0440\\u0441\\u043a\\u0430\\u044f\",\"Peemos Hotel\",\"No hotel found\",\"\\u0627\\u0644\\u0634\\u0627\\u0631\\u0642\\u0629 \\u0645\\u0648\\u0644 \\u0644\\u0644\\u0645\\u0648\\u0627\\u062f \\u0627\\u0644\\u063a\\u0630\\u0627\\u0626\\u064a\\u0629\",\"Shahzan Inn\",\"Le Logis d'Elb\\u00e9e\",\"Auberge WSD K\\u00ebr Gan\",\"Hotel Maria Teres\",\"Les Palmiers\",\"LAL NIWAS\",\"Yoyo\",\"\\u0413\\u0435\\u043e\\u043b\\u043e\\u0433\",\"\\u0421\\u0435\\u043c\\u044c \\u043b\\u0438\\u0441\\u0442\\u0432\\u0435\\u043d\\u043d\\u0438\\u0446\",\"No hotel found\",\"Apart Diagonal\",\"Hotel Castelo\",\"\\u0411\\u0435\\u0440\\u0435\\u0437\\u043a\\u0430\",\"Pono Kai Resort\",\"Khovd hotel\",\"No hotel found\",\"\\u0421\\u043e\\u0431\\u044c\",\"No hotel found\",\"hotel palaima\",\"\\u30db\\u30c6\\u30eb \\u30a2\\u30a4\\u30e9\\u30f3\\u30c9\",\"\\u0441\\u0430\\u043d\\u0430\\u0442\\u043e\\u0440\\u0438\\u0439-\\u043f\\u0440\\u043e\\u0444\\u0438\\u043b\\u0430\\u043a\\u0442\\u043e\\u0440\\u0438\\u0439 \\\"\\u0413\\u0440\\u0430\\u0434\\u043e\\u0441\\u0442\\u0440\\u043e\\u0438\\u0442\\u0435\\u043b\\u044c\\\"\",\"PALM Hotel & Spa\",\"h\\u00f4tel le rochet\",\"Hotel La Fontaine\",\"Fia fia\",\"No hotel found\",\"Travelodge Mammoth Lakes\",\"Ibis Hotel\",\"Apollon Hotel\",\"Nelsal Pensao\",\"Cobblestone Inn & Suites\",\"Libre Inn\",\"\\u83ef\\u570b\\u5546\\u52d9\\u98ef\\u5e97\",\"Lagi resort\",\"Karratha International Hotel\",\"No hotel found\",\"Vila da Santa\",\"City Hotel\",\"No hotel found\",\"Holiday Inn\",\"Hotel Quime Quip\\u00e1n\",\"Copamarina Beach Resort\",\"Holiday Inn Express\",\"Vaiaku Lagi Hotel\",\"\\u0421\\u0444\\u0435\\u0440\\u0430\",\"Atlantic\",\"Hotel Residencial Bitty\",\"No hotel found\",\"Hotel S\\u00d8MA\",\"No hotel found\",\"Hotel Panarama Inn\",\"No hotel found\",\"B&B Orzu\",\"No hotel found\",\"Portside Hotel\",\"Hotel Brasil\",\"No hotel found\",\"Kerihovi\",\"Casa de Piedra\",\"No hotel found\",\"Fazenda Bonfim\",\"No hotel found\",\"No hotel found\",\"\\u30db\\u30c1\\u30eb\\u3044\\u306e\\u3046\",\"No hotel found\",\"Nuevo Hotel Rivadavia\",\"Los Corceles\",\"Temple Gardens Mineral Spa Resort\",\"Travelodge\",\"Hotel El Massira\",\"\\u60e0\\u5dde\\u5929\\u60a6\\uff08\\u5609\\u67cf\\uff09\\u5927\\u9152\\u5e97\",\"The Mill Casino Hotel\",\"No hotel found\",\"The Inn on the Lake\",\"No hotel found\",\"Best Western Plus Caldwell Inn & Suites\",\"Hotel Archipelago villa bed and breakfast\",\"Brit Hotel Montpellier Parc Expo\",\"Le Normandy\",\"Abhirami Farm Resort\",\"No hotel found\",\"Hotelli-ravintola Kurenkoski\",\"Recreation Hotel\",\"No hotel found\",\"Hotel Santo Antonio\",\"No hotel found\",\"Hotel Plaza\",\"Aliwen\",\"H\\u00f4tel Florida\",\"Hotel Sun Village\",\"Hotel Leiva\",\"No hotel found\",\"County Hotel\",\"No hotel found\",\"\\u0413\\u043e\\u0441\\u0442\\u0438\\u043d\\u0438\\u0446\\u0430 \\u041a\\u0435\\u0434\\u0440\",\"Fort St. John Motor Inn\",\"\\u0433\\u043e\\u0441\\u0442\\u0438\\u043d\\u0438\\u0446\\u0430 \\u0418\\u0432\\u0434\\u0435\\u043b\\u044c\",\"Residence Inn Marriott\",\"Tourism Hotel\",\"No hotel found\",\"No hotel found\",\"The Inn At Cape Cod\",\"No hotel found\",\"Coco del Mar\",\"Noor Aleman\",\"No hotel found\",\"Hotel Kokopo\",\"No hotel found\",\"Kiburu Lodge\",\"No hotel found\",\"Harborside Hotel & Marina\",\"HOTEL KADO\",\"Mariner Days Inn & Suites\",\"Quetta Agha Hotel\",\"\\u041d\\u043e\\u0433\\u043b\\u0438\\u043a\\u0438\",\"Hotel Atalaia\",\"Hotel Guaimaro\",\"First Hotel Statt\",\"AMC\",\"\\u0427\\u043e\\u0440\\u043e\\u043d\",\"No hotel found\",\"\\u042f\\u043c\\u0441\\u043a\\u0430\\u044f\",\"Holiday Inn Resort Vanuatu\",\"Hotel Anggrek\",\"No hotel found\",\"No hotel found\"]],[\"color\",[\"punta arenas\",\"pyapon\",\"puerto deseado\",\"hithadhoo\",\"grytviken\",\"leh\",\"kayangel\",\"adamstown\",\"bethel\",\"broome\",\"blackmans bay\",\"hermanus\",\"isafjordur\",\"zambezi\",\"trinity\",\"uturoa\",\"vorkuta\",\"edinburgh of the seven seas\",\"caninde de sao francisco\",\"waitangi\",\"surhuisterveen\",\"lebu\",\"tiksi\",\"paoua\",\"west island\",\"ulladulla\",\"bredasdorp\",\"constantia\",\"badger\",\"remire-montjoly\",\"port-aux-francais\",\"iqaluit\",\"sitka\",\"atafu village\",\"linxia chengguanzhen\",\"berdigestyakh\",\"lihue\",\"kone\",\"la palma\",\"la passe\",\"paradip garh\",\"urangan\",\"atyashevo\",\"iskateley\",\"virginia beach\",\"puerto ayora\",\"san luis de la loma\",\"utrik\",\"abiramam\",\"sofifi\",\"ramnagar\",\"puerto natales\",\"udachny\",\"albany\",\"marsh harbour\",\"mugia\",\"bilibino\",\"nagina\",\"zhangye\",\"carnarvon\",\"yellowknife\",\"gorom-gorom\",\"kodiak\",\"nigde\",\"armidale\",\"invercargill\",\"nuuk\",\"naracoorte\",\"flying fish cove\",\"awjilah\",\"nemuro\",\"luderitz\",\"enewetak\",\"port elizabeth\",\"san antonio de pale\",\"happy valley-goose bay\",\"selfoss\",\"debre tabor\",\"hanceville\",\"anadyr\",\"lompoc\",\"saipan\",\"wauchope\",\"port mathurin\",\"pacific grove\",\"stanley\",\"susuman\",\"labrador city\",\"mount isa\",\"praia da vitoria\",\"huarmey\",\"barra de santo antonio\",\"el jadid\",\"sinabang\",\"ta`u\",\"cassilandia\",\"borogontsy\",\"kashgar\",\"thompson\",\"saudarkrokur\",\"ujae\",\"vila franca do campo\",\"papatowai\",\"waraseoni\",\"avarua\",\"miandrivazo\",\"guerrero negro\",\"margaret river\",\"nadym\",\"selty\",\"yuzhno-kurilsk\",\"yamada\",\"seorinarayan\",\"mount pearl\",\"ancud\",\"georgetown\",\"geraldton\",\"tongouson\",\"shimoda\",\"canutama\",\"broken hill\",\"tongliao\",\"klyuchi\",\"aasiaat\",\"tazacorte\",\"howard springs\",\"blackwater\",\"yangambi\",\"san patricio\",\"newman\",\"whitehorse\",\"lospalos\",\"wailua homesteads\",\"prince rupert\",\"ushuaia\",\"reggane\",\"khandyga\",\"new norfolk\",\"dudinka\",\"pazar\",\"petropavlovsk-kamchatsky\",\"hobyo\",\"ribeira grande\",\"kalispell\",\"kaitong\",\"east london\",\"shetpe\",\"ingleby greenhow\",\"aurillac\",\"saint-philippe\",\"tashir\",\"vilyuysk\",\"tolanaro\",\"nizhneudinsk\",\"longyearbyen\",\"moab\",\"zubin potok\",\"seka\",\"cabo san lucas\",\"olonkinbyen\",\"maun\",\"lazaro cardenas\",\"eraan\",\"nikolayevsk-on-amure\",\"huanren\",\"jamestown\",\"byumba\",\"laascaanood\",\"oranjemund\",\"burutu\",\"haikou\",\"n'zeto\",\"mahanoro\",\"sinaia\",\"masterton\",\"egilsstadir\",\"polyarnyy\",\"cockburn town\",\"st. john's\",\"kavieng\",\"hawaiian paradise park\",\"zaozersk\",\"lethbridge\",\"sumbawanga\",\"greifswald\",\"olinda\",\"choyr\",\"akureyri\",\"carlisle\",\"suya\",\"impfondo\",\"minas de marcona\",\"warrenton\",\"dukhovnitskoye\",\"al ghayzah\",\"ciudad lazaro cardenas\",\"coahuayana de hidalgo\",\"pisco\",\"prado\",\"port alfred\",\"gushu\",\"ditrau\",\"lubang\",\"paraiso\",\"guaiba\",\"cradock\",\"vilyuchinsk\",\"arraial do cabo\",\"talnakh\",\"natal\",\"brigantine\",\"usogorsk\",\"queenstown\",\"richards bay\",\"kismayo\",\"rikaze\",\"tura\",\"howrah\",\"bodo\",\"qamdo\",\"afaahiti\",\"konstantinovka\",\"benjamin aceval\",\"great bend\",\"kalmunai\",\"nova sintra\",\"bandarbeyla\",\"balnearia\",\"al artawiyah\",\"sidi merouane\",\"yucca valley\",\"motygino\",\"i-n-salah\",\"alice springs\",\"brisas de zicatela\",\"fort mcmurray\",\"vorgashor\",\"ibimirim\",\"holualoa\",\"cabedelo\",\"kruisfontein\",\"malanje\",\"punta cardon\",\"sol'-iletsk\",\"taroa\",\"kiunga\",\"ouallam\",\"port shepstone\",\"kailua-kona\",\"korla\",\"ndende\",\"kingston\",\"ugoofaaru\",\"chichawatni\",\"hennebont\",\"taghazout\",\"moscow\",\"puerto baquerizo moreno\",\"lesosibirsk\",\"rio grande\",\"kresttsy\",\"jinchang\",\"pimentel\",\"abaetetuba\",\"mata-utu\",\"ad dilam\",\"qaqortoq\",\"zheleznodorozhnyy\",\"aripuana\",\"ketchikan\",\"ust-nera\",\"lerwick\",\"maua\",\"rodolfo sanchez taboada\",\"brookings\",\"planaltina\",\"salta\",\"kokpekty\",\"ilhabela\",\"roi et\",\"tromso\",\"devoto\",\"bechar\",\"zakamensk\",\"an nuhud\",\"sangkhla buri\",\"kijang\",\"patong\",\"ilulissat\",\"capitao poco\",\"usinsk\",\"felipe carrillo puerto\",\"tarhuna\",\"angra do heroismo\",\"mersing\",\"progreso\",\"mont-dore\",\"svoge\",\"wynyard\",\"balakhta\",\"neryungri\",\"arno\",\"saqqez\",\"fayroz koh\",\"corry\",\"ouadda\",\"miles city\",\"choibalsan\",\"katabu\",\"island harbour\",\"santa ana\",\"new mirpur\",\"nongpoh\",\"podporozh'ye\",\"vredendal\",\"bubaque\",\"guardo\",\"port saint john's\",\"gore\",\"yerofey pavlovich\",\"magadan\",\"abalak\",\"adh dhibiyah\",\"elizabeth city\",\"sawakin\",\"chopinzinho\",\"lethem\",\"bashmakovo\",\"kerikeri\",\"gadzhiyevo\",\"urzhar\",\"alice\",\"port moresby\",\"mukalla\",\"west end\",\"veraval\",\"slave lake\",\"pathein\",\"hamilton\",\"sao jose da coroa grande\",\"guarapari\",\"ikwiriri\",\"las tablas\",\"tuy hoa\",\"mirny\",\"mantua\",\"tarawa\",\"tazovsky\",\"mulayjah\",\"villa bruzual\",\"chibougamau\",\"zholymbet\",\"tchintabaraden\",\"mil'kovo\",\"basco\",\"arkhangel'sk\",\"iringa\",\"suhbaatar\",\"nagqu\",\"niafunke\",\"mundybash\",\"songjiang\",\"lhasa\",\"san isidro de curuguaty\",\"weno\",\"thap than\",\"colonia menno\",\"fale old settlement\",\"la asuncion\",\"aykhal\",\"floro\",\"hede\",\"sarikei\",\"haiku-pauwela\",\"serhiyivka\",\"samfya\",\"tanumah\",\"rizhao\",\"alofi\",\"caleta de carquin\",\"macheng\",\"kapit\",\"san pedro pochutla\",\"qarauyl\",\"lorengau\",\"lancut\",\"saint-pierre\",\"hargeysa\",\"college\",\"peace river\",\"razole\",\"sao bento do sul\",\"cannonvale\",\"oneida\",\"mount gambier\",\"neiafu\",\"palmerston north\",\"al hufuf\",\"kushiro\",\"nishifukuma\",\"cruz del eje\",\"jayapura\",\"talara\",\"ohara\",\"alenquer\",\"alesund\",\"northam\",\"inhambane\",\"illizi\",\"waingapu\",\"tralee\",\"westport\",\"bengkulu\",\"la ronge\",\"tafresh\",\"keflavik\",\"cambria\",\"zeya\",\"sanya\",\"cove\",\"sai buri\",\"aljezur\",\"copala\",\"ash shafa\",\"ifanadiana\",\"portland\",\"mhamid\",\"rongelap\",\"vernon\",\"almeirim\",\"smithers\",\"nadi\",\"eastham\",\"ovalle\",\"jefferson city\",\"kollo\",\"forio\",\"turpan\",\"pagar alam\",\"belyy yar\",\"tidjikja\",\"port macquarie\",\"port douglas\",\"corner brook\",\"taos\",\"mary\",\"az zawr\",\"malpica\",\"uglegorsk\",\"warri\",\"demidov\",\"sa'dah\",\"kuantan\",\"cholet\",\"ndibene dahra\",\"soio\",\"ambodifotatra\",\"phalodi\",\"abepura\",\"urengoy\",\"labytnangi\",\"carauari\",\"margarita belen\",\"cidreira\",\"troitskoye\",\"kapa'a\",\"khovd\",\"okhotsk\",\"kharp\",\"tarashcha\",\"manaure\",\"nakamura\",\"bogandinskiy\",\"saint-joseph\",\"tabou\",\"esmoriz\",\"leava\",\"curanilahue\",\"mammoth lakes\",\"jacarei\",\"argos\",\"namibe\",\"menomonie\",\"quezon\",\"keelung\",\"la gi\",\"karratha\",\"crane\",\"armacao de buzios\",\"nuku'alofa\",\"sombrerete\",\"lauttasaari\",\"rufino\",\"guanica\",\"yorkton\",\"funafuti\",\"okha\",\"walvis bay\",\"chajari\",\"burang\",\"sisimiut\",\"sao paulo de olivenca\",\"ciudad del este\",\"bardai\",\"xiva\",\"xai-xai\",\"gisborne\",\"santa vitoria do palmar\",\"laojunmiao\",\"kerimaki\",\"trevelin\",\"moyynkum\",\"nisia floresta\",\"kavaratti\",\"santo antonio do ica\",\"iwanai\",\"sinop\",\"arias\",\"cartagena del chaira\",\"moose jaw\",\"kapuskasing\",\"dakhla\",\"huizhou\",\"north bend\",\"tokar\",\"canandaigua\",\"princeville\",\"caldwell\",\"lamu\",\"perols\",\"fecamp\",\"panamaram\",\"schrozberg\",\"pudasjarvi\",\"greymouth\",\"augusto correa\",\"rio preto da eva\",\"itoman\",\"firmat\",\"quellon\",\"antalaha\",\"konarka\",\"villanueva\",\"dusti\",\"stornoway\",\"tavas\",\"abaza\",\"fort st. john\",\"ivdel'\",\"grand rapids\",\"ardestan\",\"mar de espanha\",\"strelka\",\"yarmouth\",\"san jeronimo\",\"puerto armuelles\",\"el fasher\",\"xinyuan\",\"kokopo\",\"kybartai\",\"mendi\",\"sinan\",\"key west\",\"birni n konni\",\"kill devil hills\",\"karachi\",\"nogliki\",\"sao francisco\",\"guaimaro\",\"karlskrona\",\"hassi messaoud\",\"chul'man\",\"nacogdoches\",\"tobol'sk\",\"port-vila\",\"nabire\",\"wanning\",\"yardimli\"]],[\"size\",{\"type\":\"ndarray\",\"array\":{\"type\":\"bytes\",\"data\":\"NHgzuReMIkDm0iw6nqciQAftr2YPfiBABvuVTTDaIEAAAAAAAAAiQPYvEl9lZRRABvuVTTDaIEDrLzfRDFIhQIUeFbmOVCJABPFtj9ypIUAAAAAAAAAgQOsvN9EMUiFALiEJFI6YI0AAAAAAAAAUQH7EIyxC+SJAmi6QIWhwIkDZbN/MdvggQC4hCRSOmCNAU1SvmYrMI0BABbGXjEkjQKGVD9RbfiNACdCOzf2cIECnVlRZ/MIiQFNUr5mKzCNA0LphP+AfIEDACh8AxkgcQAAAAAAAACJA5pM1uDBsG0CL1PqO5l4gQKdWVFn8wiJAoxSuqIcWIUA0eDO5F4wiQNls38x2+CBA49PWIciMIUDY4arvL6odQBJPjev7fh9A6y830QxSIUDbnltFfrkeQAy4NvaBPyBAmi6QIWhwIkAGU0QwBmQjQI+lNtKt6BVA49PWIciMIUAJ0I7N/ZwgQObSLDqepyJAp1ZUWfzCIkDm0iw6nqciQEAFsZeMSSNAYKEdKtE6GkAAAAAAAAAgQF91vH6/vx9A49PWIciMIUBodE4Xsj0fQEGHYsYy3iJAoxSuqIcWIUB+xCMsQvkiQDR4M7kXjCJA0LphP+AfIEAuIQkUjpgTQOn7diDVHh1AqPSXm3fjIUBwuC1rwcYhQAAAAAAAACRA0LphP+AfIEBZBvckXKgYQFNUr5mKzCNAQAWxl4xJI0DaTk+x3vseQAnQjs39nCBAYKEdKtE6GkBnE/7uVeYjQIvU+o7mXiBA6y830QxSIUDQumE/4B8gQOsvN9EMUiFAAAAAAAAAIEChlQ/UW34jQFNUr5mKzCNAoZUP1Ft+I0A0b/2TcogaQKj0l5t34yFATgE3+mM0IUAj0HAcGyEbQPlNZDSDbyFA5tIsOp6nIkChlQ/UW34jQM07f2aeoBZA5tIsOp6nIkDq+NKpfyoVQAZTRDAGZCNANHgzuReMIkCaLpAhaHAiQH7EIyxC+SJACdCOzf2cIEDQumE/4B8gQFNb2jpYTBlAAAAAAAAAHEAWBHd17i4TQCT42XBbHCJAqympMCsUI0BwuC1rwcYhQKspqTArFCNAU1SvmYrMI0AGU0QwBmQjQAftr2YPfiBA0LphP+AfIECFHhW5jlQiQE4BN/pjNCFA6y830QxSIUCaLpAhaHAiQGcT/u5V5iNAcLgta8HGIUCFHhW5jlQiQKdWVFn8wiJANHgzuReMIkBwxJ05jXYeQAZTRDAGZCNATgE3+mM0IUAMuDb2gT8gQMAKHwDGSBxALcKT0RCqF0A0b/2TcogaQKpMWOh6thtAU1SvmYrMI0CrKakwKxQjQEk/aBHq7h1AAAAAAAAAEECaLpAhaHAiQCicBcCKOCJAI9BwHBshG0Aj0HAcGyEbQAftr2YPfiBAcLgta8HGIUBiVmN9nbIjQNpOT7He+x5AST9oEeruDUCK01rB4PoYQDRv/ZNyiBpAZBImSkfsGUAk+NlwWxwiQPlNZDSDbyFAKJwFwIo4IkAWBHd17i4jQAD/n5nMnBlAxrENHtVkHUDACh8AxkgcQOn7diDVHh1AAAAAAAAAIkAWBHd17i4jQNls38x2+CBANHgzuReMIkBcz1bMBzMeQKdWVFn8wiJA6ft2INUeHUBABbGXjEkjQFNb2jpYTAlAEk+N6/t+H0AuIQkUjpgjQNls38x2+CBAZxP+7lXmI0CPpTbSregVQCicBcCKOCJAcMSdOY12HkBwuC1rwcYhQAftr2YPfiBAB+2vZg9+IEBfdbx+v78fQGh0TheyPR9A26+sB7O7IEBBh2LGMt4iQHC4LWvBxiFAQYdixjLeIkCnVlRZ/MIiQF91vH6/vx9AoxSuqIcWIUCL1PqO5l4gQAAAAAAAACJAKJwFwIo4IkCnVlRZ/MIiQKMUrqiHFiFABPFtj9ypIUAonAXAijgiQKKjsw3lUhdAAAAAAAAAGEAAAAAAAAAkQCicBcCKOCJAitNaweD6GED5TWQ0g28hQIvU+o7mXiBAYlZjfZ2yI0Dm0iw6nqciQBYEd3XuLiNATgE3+mM0IUCL1PqO5l4gQEGHYsYy3iJAKJwFwIo4IkBBh2LGMt4iQKdWVFn8wiJAcLgta8HGIUDbr6wHs7sgQM5DLZ3SkBxAhR4VuY5UIkBOATf6YzQhQAAAAAAAACRAQAWxl4xJI0DrLzfRDFIhQKdWVFn8wiJAqympMCsUI0BZBvckXKgYQAZTRDAGZCNAKJwFwIo4IkAuIQkUjpgjQAftr2YPfiBAAAAAAAAAHEAk+NlwWxwiQOr40ql/KhVAoxSuqIcWIUBwuC1rwcYhQAZTRDAGZCNAAAAAAAAAHEAk+NlwWxwiQKj0l5t34yFALiEJFI6YI0CqTFjoerYbQCPQcBwbIRtAcLgta8HGIUAH7a9mD34gQOaTNbgwbBtA2WzfzHb4EEDNO39mnqAWQIA5Qi7cyBRAU1vaOlhMGUBJP2gR6u4NQIA5Qi7cyBRAmi6QIWhwIkDaTk+x3vseQAnQjs39nCBAQAWxl4xJI0AAAAAAAAAiQKdWVFn8wiJADLg29oE/IEDj09YhyIwhQJoukCFocCJAYKEdKtE6GkAWBHd17i4jQCicBcCKOCJA49PWIciMIUDmkzW4MGwbQCT42XBbHCJAAAAAAAAAEECrKakwKxQjQE4BN/pjNCFAJPjZcFscIkCK01rB4PoYQAAAAAAAACJAqympMCsUI0AJ0I7N/ZwgQIUeFbmOVCJAI9BwHBshG0CjFK6ohxYhQEAFsZeMSSNAj6U20q3oFUAk+NlwWxwiQCT42XBbHCJAcMSdOY12HkDaTk+x3vsOQJoukCFocCJAmi6QIWhwIkCqTFjoerYbQCT42XBbHCJAAAAAAAAAGEA0eDO5F4wiQBJPjev7fh9A26+sB7O7IEBABbGXjEkjQPNZYUQr2BxAB+2vZg9+IECAOUIu3MgUQAAAAAAAACBAqympMCsUI0BABbGXjEkjQCPQcBwbIRtANG/9k3KICkBTW9o6WEwZQKMUrqiHFiFAZxP+7lXmI0DaTk+x3vseQKdWVFn8wiJA+U1kNINvIUBABbGXjEkjQAAAAAAAACJAZxP+7lXmI0AAAAAAAAAiQFNUr5mKzCNATgE3+mM0IUDm0iw6nqciQGcT/u5V5iNAzkMtndKQHEBwxJ05jXYeQKMUrqiHFiFAI9BwHBshG0BOATf6YzQhQAAAAAAAACBAAAAAAAAAFEA0eDO5F4wiQFNUr5mKzCNAYKEdKtE6GkDmkzW4MGwbQAb7lU0w2iBA26+sB7O7IEAST43r+34fQH7EIyxC+SJAAAAAAAAAIkA0eDO5F4wiQCT42XBbHCJAKJwFwIo4IkDmkzW4MGwbQAAAAAAAABhAYlZjfZ2yI0CAOUIu3MgUQAAAAAAAACBA26+sB7O7IEAAAAAAAAAQQEGHYsYy3iJANG/9k3KIGkAWBHd17i4jQEGHYsYy3iJAB+2vZg9+IECrKakwKxQjQCicBcCKOCJA89mopGiKFUAGU0QwBmQjQBJPjev7fh9A6ft2INUeHUAJ0I7N/ZwgQEAFsZeMSSNAB+2vZg9+IEB+xCMsQvkiQEAFsZeMSSNA5tIsOp6nIkA0eDO5F4wiQC4hCRSOmCNAZxP+7lXmI0A0b/2TcogaQPNZYUQr2BxAfsQjLEL5IkAMuDb2gT8gQHDEnTmNdh5A81lhRCvYDEBiVmN9nbIjQAAAAAAAACBANG/9k3KIGkAAAAAAAAAgQAnQjs39nCBAoxSuqIcWIUAAAAAAAAAkQF91vH6/vx9AST9oEeruHUA53GOzv1QYQNC6YT/gHyBAhR4VuY5UIkBodE4Xsj0fQKKjsw3lUhdA26+sB7O7IEDrLzfRDFIhQIvU+o7mXiBAoxSuqIcWIUDj09YhyIwhQAAAAAAAACRACdCOzf2cIEDj09YhyIwhQF91vH6/vx9A/O5jaTPVGkAH7a9mD34gQMaxDR7VZB1AoqOzDeVSF0DZbN/MdvgQQPlNZDSDbyFA2k5Psd77HkCaLpAhaHAiQBJPjev7fh9A5pM1uDBsG0BABbGXjEkjQGQSJkpH7BlABvuVTTDaIECnVlRZ/MIiQEk/aBHq7h1Ai9T6juZeIEDbr6wHs7sgQCT42XBbHCJADLg29oE/IEChlQ/UW34jQGChHSrROhpAmi6QIWhwIkDzWWFEK9gcQNpOT7He+x5A49PWIciMIUDaTk+x3vsOQAAAAAAAACRA+U1kNINvIUCK01rB4PoYQAftr2YPfiBAQYdixjLeIkAE8W2P3KkhQNpOT7He+x5ATgE3+mM0IUAk+NlwWxwiQAZTRDAGZCNAhR4VuY5UEkCL1PqO5l4gQEGHYsYy3iJABPFtj9ypIUAH7a9mD34gQOPT1iHIjCFAwAofAMZIHEAAAAAAAAAkQAZTRDAGZCNA/O5jaTPVGkBOATf6YzQhQKspqTArFCNAJPjZcFscIkBOATf6YzQhQAAAAAAAACJAgDlCLtzIFEAAAAAAAAAiQAnQjs39nCBAST9oEeruDUCjFK6ohxYhQAD/n5nMnBlA49PWIciMIUAAAAAAAAAkQOn7diDVHh1ALiEJFI6YI0BJP2gR6u4dQEGHYsYy3iJA49PWIciMIUA0eDO5F4wiQDRv/ZNyiApA81lhRCvYHEDQumE/4B8gQFkG9yRcqBhAI9BwHBshG0DZbN/MdvggQAZTRDAGZCNAoqOzDeVSF0AH7a9mD34QQFNb2jpYTBlAZxP+7lXmI0BTVK+ZiswjQEAFsZeMSSNAfsQjLEL5IkAAAAAAAAAgQNuvrAezuyBA49PWIciMIUD5TWQ0g28hQDR4M7kXjCJAJPjZcFscIkDGsQ0e1WQdQHDEnTmNdh5AAAAAAAAAHEAk+NlwWxwiQAAAAAAAACBAFgR3de4uI0BTVK+ZiswjQGh0TheyPR9A6y830QxSIUD2LxJfZWUUQF91vH6/vx9A49PWIciMIUDZbN/MdvggQPlNZDSDbyFAAAAAAAAAGECjFK6ohxYhQAftr2YPfiBAp1ZUWfzCIkCo9Jebd+MhQFzPVswHMx5AzkMtndKQHEA53GOzv1QYQNpOT7He+x5AZBImSkfsGUBBh2LGMt4iQAAAAAAAACRAB+2vZg9+IEAG+5VNMNogQE4BN/pjNCFA2WzfzHb4EECqTFjoerYbQAZTRDAGZCNA2k5Psd77HkBwxJ05jXYeQATxbY/cqSFAAP+fmcycGUAJ0I7N/ZwgQNls38x2+CBATgE3+mM0IUB+xCMsQvkiQAAAAAAAACRA2k5Psd77HkBJP2gR6u4dQC4hCRSOmCNA6y830QxSIUAGU0QwBmQjQC4hCRSOmCNA+U1kNINvEUDZbN/MdvggQNls38x2+CBA2WzfzHb4IEAWBHd17i4TQAZTRDAGZCNAmi6QIWhwIkDZbN/MdvgQQKGVD9RbfiNAKJwFwIo4IkDj09YhyIwhQGcT/u5V5iNAST9oEeruHUBTW9o6WEwZQGcT/u5V5iNA2WzfzHb4IEAAAAAAAAAgQKGVD9RbfiNAqPSXm3fjIUAuIQkUjpgjQDRv/ZNyiBpAAAAAAAAAIkCjFK6ohxYhQFNb2jpYTBlAmi6QIWhwIkAH7a9mD34gQH7EIyxC+SJAZxP+7lXmI0BBh2LGMt4iQIUeFbmOVCJAQAWxl4xJI0BTVK+ZiswjQNC6YT/gHyBA26+sB7O7IEA0b/2TcogaQHC4LWvBxiFA49PWIciMIUChlQ/UW34jQKdWVFn8wiJA2k5Psd77DkA0eDO5F4wiQCPQcBwbIRtA2OGq7y+qHUBJP2gR6u4dQEAFsZeMSSNAfsQjLEL5IkA53GOzv1QYQF91vH6/vx9A/O5jaTPVGkChlQ/UW34jQOsvN9EMUiFAoxSuqIcWIUDZbN/MdvggQFNb2jpYTBlABvuVTTDaIECnVlRZ/MIiQKdWVFn8wiJAYlZjfZ2yI0BOATf6YzQhQKj0l5t34yFABPFtj9ypIUBOATf6YzQhQDR4M7kXjCJA5pM1uDBsG0BTVK+ZiswjQPlNZDSDbyFAOdxjs79UGEAAAAAAAAAcQC4hCRSOmCNAi9T6juZeIEBcz1bMBzMeQAnQjs39nCBAmi6QIWhwIkCFHhW5jlQiQA==\"},\"shape\":[578],\"dtype\":\"float64\",\"order\":\"little\"}]]}}},\"view\":{\"type\":\"object\",\"name\":\"CDSView\",\"id\":\"p1314\",\"attributes\":{\"filter\":{\"type\":\"object\",\"name\":\"AllIndices\",\"id\":\"p1315\"}}},\"glyph\":{\"type\":\"object\",\"name\":\"Scatter\",\"id\":\"p1308\",\"attributes\":{\"tags\":[\"apply_ranges\"],\"x\":{\"type\":\"field\",\"field\":\"Lng\"},\"y\":{\"type\":\"field\",\"field\":\"Lat\"},\"size\":{\"type\":\"field\",\"field\":\"size\"},\"line_color\":{\"type\":\"field\",\"field\":\"color\",\"transform\":{\"type\":\"object\",\"name\":\"CategoricalColorMapper\",\"id\":\"p1301\",\"attributes\":{\"palette\":[\"#1f77b3\",\"#ff7e0e\",\"#2ba02b\",\"#d62628\",\"#9367bc\",\"#8c564b\",\"#e277c1\",\"#7e7e7e\",\"#bcbc21\",\"#16bdcf\",\"#3a0182\",\"#004201\",\"#0fffa8\",\"#5d003f\",\"#bcbcff\",\"#d8afa1\",\"#b80080\",\"#004d52\",\"#6b6400\",\"#7c0100\",\"#6026ff\",\"#ffff9a\",\"#564964\",\"#8cb893\",\"#93fbff\",\"#018267\",\"#90ff00\",\"#8200a0\",\"#ac8944\",\"#5b3400\",\"#ffbff2\",\"#ff6e75\",\"#798cff\",\"#dd00ff\",\"#505646\",\"#004489\",\"#ffbf60\",\"#ff018c\",\"#bdc8cf\",\"#af97b5\",\"#b65600\",\"#017000\",\"#cd87ff\",\"#1cd646\",\"#bfebc3\",\"#7997b5\",\"#a56089\",\"#6e8956\",\"#bc7c75\",\"#8a2844\",\"#00acff\",\"#8ed4ff\",\"#4b6d77\",\"#00d4b1\",\"#9300f2\",\"#8a9500\",\"#5d5b9e\",\"#fddfba\",\"#00939e\",\"#ffdb00\",\"#00aa79\",\"#520067\",\"#000091\",\"#0a5d3d\",\"#a5e275\",\"#623b41\",\"#c6c689\",\"#ff9eb5\",\"#cd4f6b\",\"#ff07d6\",\"#8a3a05\",\"#7e3d70\",\"#ff4901\",\"#602ba5\",\"#1c00ff\",\"#e6dfff\",\"#aa3baf\",\"#d89c00\",\"#a3a39e\",\"#3f69ff\",\"#46490c\",\"#7b6985\",\"#6b978c\",\"#ff9a75\",\"#835bff\",\"#7c6b46\",\"#80b654\",\"#bc0049\",\"#fd93ff\",\"#5d0018\",\"#89d1d1\",\"#9c8cd3\",\"#da6d42\",\"#8a5700\",\"#3b5069\",\"#4b6b3b\",\"#edcfd8\",\"#cfedff\",\"#aa1500\",\"#dfff4f\",\"#ff2a56\",\"#d1499e\",\"#707cb8\",\"#598000\",\"#00e4fd\",\"#774b95\",\"#67d48c\",\"#3d3a72\",\"#ac413f\",\"#d6a166\",\"#c169cd\",\"#69595d\",\"#87aced\",\"#a0a569\",\"#d1aae6\",\"#870062\",\"#00fddb\",\"#672818\",\"#b342ff\",\"#0e59c4\",\"#168742\",\"#90d300\",\"#cd7900\",\"#f959ff\",\"#5b7466\",\"#8eaeb3\",\"#9c7c8c\",\"#4600c6\",\"#6b4d2d\",\"#a56d46\",\"#9e8972\",\"#a8afca\",\"#cd8ca7\",\"#00fd64\",\"#917900\",\"#ff62a1\",\"#f4ffd8\",\"#018cf0\",\"#13aca0\",\"#5b2d59\",\"#89859e\",\"#cfccba\",\"#d4afc4\",\"#dbdd6d\",\"#cffff4\",\"#006485\",\"#006962\",\"#a84167\",\"#2d97c4\",\"#a874ff\",\"#26ba5d\",\"#57b600\",\"#caffa7\",\"#a379aa\",\"#ffbc93\",\"#89e2c1\",\"#0fc8ff\",\"#d400c4\",\"#626d89\",\"#69858e\",\"#4b4d52\",\"#aa6067\",\"#79b5d4\",\"#2b5916\",\"#9a0024\",\"#bdd1f2\",\"#896e67\",\"#69a56b\",\"#855467\",\"#aecdba\",\"#87997e\",\"#cadb00\",\"#9a0390\",\"#ebbc1a\",\"#eb9cd1\",\"#70006e\",\"#b1a131\",\"#ca6b93\",\"#4146a3\",\"#e48c89\",\"#d44400\",\"#c68aca\",\"#b69597\",\"#d41f75\",\"#724bcc\",\"#674d00\",\"#672138\",\"#38564f\",\"#6ebaaa\",\"#853a31\",\"#a5d397\",\"#b8af8e\",\"#d8e4df\",\"#aa00df\",\"#cac1db\",\"#ffdf8c\",\"#e2524d\",\"#66696e\",\"#ff001c\",\"#522d72\",\"#4d906b\",\"#a86d11\",\"#ff9e26\",\"#5ea3af\",\"#c88556\",\"#915997\",\"#a3a1ff\",\"#fdbaba\",\"#242a87\",\"#dbe6a8\",\"#97f2a7\",\"#6793d6\",\"#ba5b3f\",\"#3a5d91\",\"#364f2f\",\"#267c95\",\"#89959a\",\"#cfb356\",\"#004664\",\"#5e5d2f\",\"#8e8e41\",\"#ac3f13\",\"#69953b\",\"#a13d85\",\"#bfb6ba\",\"#acc667\",\"#6469cf\",\"#91af00\",\"#2be2da\",\"#016e36\",\"#ff7952\",\"#42807e\",\"#4fe800\",\"#995428\",\"#5d0a00\",\"#a30057\",\"#0c8700\",\"#5982a7\",\"#ffebfb\",\"#4b6901\",\"#8775d4\",\"#e6c6ff\",\"#a5ffda\",\"#d86e77\",\"#df014b\",\"#69675b\",\"#776ba1\",\"#7e8067\",\"#594685\",\"#0000ca\",\"#7c002a\",\"#97ff72\",\"#b5e2e1\",\"#db52c8\",\"#777734\",\"#57bd8e\",\"#1f77b3\",\"#ff7e0e\",\"#2ba02b\",\"#d62628\",\"#9367bc\",\"#8c564b\",\"#e277c1\",\"#7e7e7e\",\"#bcbc21\",\"#16bdcf\",\"#3a0182\",\"#004201\",\"#0fffa8\",\"#5d003f\",\"#bcbcff\",\"#d8afa1\",\"#b80080\",\"#004d52\",\"#6b6400\",\"#7c0100\",\"#6026ff\",\"#ffff9a\",\"#564964\",\"#8cb893\",\"#93fbff\",\"#018267\",\"#90ff00\",\"#8200a0\",\"#ac8944\",\"#5b3400\",\"#ffbff2\",\"#ff6e75\",\"#798cff\",\"#dd00ff\",\"#505646\",\"#004489\",\"#ffbf60\",\"#ff018c\",\"#bdc8cf\",\"#af97b5\",\"#b65600\",\"#017000\",\"#cd87ff\",\"#1cd646\",\"#bfebc3\",\"#7997b5\",\"#a56089\",\"#6e8956\",\"#bc7c75\",\"#8a2844\",\"#00acff\",\"#8ed4ff\",\"#4b6d77\",\"#00d4b1\",\"#9300f2\",\"#8a9500\",\"#5d5b9e\",\"#fddfba\",\"#00939e\",\"#ffdb00\",\"#00aa79\",\"#520067\",\"#000091\",\"#0a5d3d\",\"#a5e275\",\"#623b41\",\"#c6c689\",\"#ff9eb5\",\"#cd4f6b\",\"#ff07d6\",\"#8a3a05\",\"#7e3d70\",\"#ff4901\",\"#602ba5\",\"#1c00ff\",\"#e6dfff\",\"#aa3baf\",\"#d89c00\",\"#a3a39e\",\"#3f69ff\",\"#46490c\",\"#7b6985\",\"#6b978c\",\"#ff9a75\",\"#835bff\",\"#7c6b46\",\"#80b654\",\"#bc0049\",\"#fd93ff\",\"#5d0018\",\"#89d1d1\",\"#9c8cd3\",\"#da6d42\",\"#8a5700\",\"#3b5069\",\"#4b6b3b\",\"#edcfd8\",\"#cfedff\",\"#aa1500\",\"#dfff4f\",\"#ff2a56\",\"#d1499e\",\"#707cb8\",\"#598000\",\"#00e4fd\",\"#774b95\",\"#67d48c\",\"#3d3a72\",\"#ac413f\",\"#d6a166\",\"#c169cd\",\"#69595d\",\"#87aced\",\"#a0a569\",\"#d1aae6\",\"#870062\",\"#00fddb\",\"#672818\",\"#b342ff\",\"#0e59c4\",\"#168742\",\"#90d300\",\"#cd7900\",\"#f959ff\",\"#5b7466\",\"#8eaeb3\",\"#9c7c8c\",\"#4600c6\",\"#6b4d2d\",\"#a56d46\",\"#9e8972\",\"#a8afca\",\"#cd8ca7\",\"#00fd64\",\"#917900\",\"#ff62a1\",\"#f4ffd8\",\"#018cf0\",\"#13aca0\",\"#5b2d59\",\"#89859e\",\"#cfccba\",\"#d4afc4\",\"#dbdd6d\",\"#cffff4\",\"#006485\",\"#006962\",\"#a84167\",\"#2d97c4\",\"#a874ff\",\"#26ba5d\",\"#57b600\",\"#caffa7\",\"#a379aa\",\"#ffbc93\",\"#89e2c1\",\"#0fc8ff\",\"#d400c4\",\"#626d89\",\"#69858e\",\"#4b4d52\",\"#aa6067\",\"#79b5d4\",\"#2b5916\",\"#9a0024\",\"#bdd1f2\",\"#896e67\",\"#69a56b\",\"#855467\",\"#aecdba\",\"#87997e\",\"#cadb00\",\"#9a0390\",\"#ebbc1a\",\"#eb9cd1\",\"#70006e\",\"#b1a131\",\"#ca6b93\",\"#4146a3\",\"#e48c89\",\"#d44400\",\"#c68aca\",\"#b69597\",\"#d41f75\",\"#724bcc\",\"#674d00\",\"#672138\",\"#38564f\",\"#6ebaaa\",\"#853a31\",\"#a5d397\",\"#b8af8e\",\"#d8e4df\",\"#aa00df\",\"#cac1db\",\"#ffdf8c\",\"#e2524d\",\"#66696e\",\"#ff001c\",\"#522d72\",\"#4d906b\",\"#a86d11\",\"#ff9e26\",\"#5ea3af\",\"#c88556\",\"#915997\",\"#a3a1ff\",\"#fdbaba\",\"#242a87\",\"#dbe6a8\",\"#97f2a7\",\"#6793d6\",\"#ba5b3f\",\"#3a5d91\",\"#364f2f\",\"#267c95\",\"#89959a\",\"#cfb356\",\"#004664\",\"#5e5d2f\",\"#8e8e41\",\"#ac3f13\",\"#69953b\",\"#a13d85\",\"#bfb6ba\",\"#acc667\",\"#6469cf\",\"#91af00\",\"#2be2da\",\"#016e36\",\"#ff7952\",\"#42807e\",\"#4fe800\",\"#995428\",\"#5d0a00\",\"#a30057\",\"#0c8700\",\"#5982a7\",\"#ffebfb\",\"#4b6901\",\"#8775d4\",\"#e6c6ff\",\"#a5ffda\",\"#d86e77\",\"#df014b\",\"#69675b\",\"#776ba1\",\"#7e8067\",\"#594685\",\"#0000ca\",\"#7c002a\",\"#97ff72\",\"#b5e2e1\",\"#db52c8\",\"#777734\",\"#57bd8e\",\"#1f77b3\",\"#ff7e0e\",\"#2ba02b\",\"#d62628\",\"#9367bc\",\"#8c564b\",\"#e277c1\",\"#7e7e7e\",\"#bcbc21\",\"#16bdcf\",\"#3a0182\",\"#004201\",\"#0fffa8\",\"#5d003f\",\"#bcbcff\",\"#d8afa1\",\"#b80080\",\"#004d52\",\"#6b6400\",\"#7c0100\",\"#6026ff\",\"#ffff9a\",\"#564964\",\"#8cb893\",\"#93fbff\",\"#018267\",\"#90ff00\",\"#8200a0\",\"#ac8944\",\"#5b3400\",\"#ffbff2\",\"#ff6e75\",\"#798cff\",\"#dd00ff\",\"#505646\",\"#004489\",\"#ffbf60\",\"#ff018c\",\"#bdc8cf\",\"#af97b5\",\"#b65600\",\"#017000\",\"#cd87ff\",\"#1cd646\",\"#bfebc3\",\"#7997b5\",\"#a56089\",\"#6e8956\",\"#bc7c75\",\"#8a2844\",\"#00acff\",\"#8ed4ff\",\"#4b6d77\",\"#00d4b1\",\"#9300f2\",\"#8a9500\",\"#5d5b9e\",\"#fddfba\",\"#00939e\",\"#ffdb00\",\"#00aa79\",\"#520067\",\"#000091\",\"#0a5d3d\",\"#a5e275\",\"#623b41\"],\"factors\":[\"punta arenas\",\"pyapon\",\"puerto deseado\",\"hithadhoo\",\"grytviken\",\"leh\",\"kayangel\",\"adamstown\",\"bethel\",\"broome\",\"blackmans bay\",\"hermanus\",\"isafjordur\",\"zambezi\",\"trinity\",\"uturoa\",\"vorkuta\",\"edinburgh of the seven seas\",\"caninde de sao francisco\",\"waitangi\",\"surhuisterveen\",\"lebu\",\"tiksi\",\"paoua\",\"west island\",\"ulladulla\",\"bredasdorp\",\"constantia\",\"badger\",\"remire-montjoly\",\"port-aux-francais\",\"iqaluit\",\"sitka\",\"atafu village\",\"linxia chengguanzhen\",\"berdigestyakh\",\"lihue\",\"kone\",\"la palma\",\"la passe\",\"paradip garh\",\"urangan\",\"atyashevo\",\"iskateley\",\"virginia beach\",\"puerto ayora\",\"san luis de la loma\",\"utrik\",\"abiramam\",\"sofifi\",\"ramnagar\",\"puerto natales\",\"udachny\",\"albany\",\"marsh harbour\",\"mugia\",\"bilibino\",\"nagina\",\"zhangye\",\"carnarvon\",\"yellowknife\",\"gorom-gorom\",\"kodiak\",\"nigde\",\"armidale\",\"invercargill\",\"nuuk\",\"naracoorte\",\"flying fish cove\",\"awjilah\",\"nemuro\",\"luderitz\",\"enewetak\",\"port elizabeth\",\"san antonio de pale\",\"happy valley-goose bay\",\"selfoss\",\"debre tabor\",\"hanceville\",\"anadyr\",\"lompoc\",\"saipan\",\"wauchope\",\"port mathurin\",\"pacific grove\",\"stanley\",\"susuman\",\"labrador city\",\"mount isa\",\"praia da vitoria\",\"huarmey\",\"barra de santo antonio\",\"el jadid\",\"sinabang\",\"ta`u\",\"cassilandia\",\"borogontsy\",\"kashgar\",\"thompson\",\"saudarkrokur\",\"ujae\",\"vila franca do campo\",\"papatowai\",\"waraseoni\",\"avarua\",\"miandrivazo\",\"guerrero negro\",\"margaret river\",\"nadym\",\"selty\",\"yuzhno-kurilsk\",\"yamada\",\"seorinarayan\",\"mount pearl\",\"ancud\",\"georgetown\",\"geraldton\",\"tongouson\",\"shimoda\",\"canutama\",\"broken hill\",\"tongliao\",\"klyuchi\",\"aasiaat\",\"tazacorte\",\"howard springs\",\"blackwater\",\"yangambi\",\"san patricio\",\"newman\",\"whitehorse\",\"lospalos\",\"wailua homesteads\",\"prince rupert\",\"ushuaia\",\"reggane\",\"khandyga\",\"new norfolk\",\"dudinka\",\"pazar\",\"petropavlovsk-kamchatsky\",\"hobyo\",\"ribeira grande\",\"kalispell\",\"kaitong\",\"east london\",\"shetpe\",\"ingleby greenhow\",\"aurillac\",\"saint-philippe\",\"tashir\",\"vilyuysk\",\"tolanaro\",\"nizhneudinsk\",\"longyearbyen\",\"moab\",\"zubin potok\",\"seka\",\"cabo san lucas\",\"olonkinbyen\",\"maun\",\"lazaro cardenas\",\"eraan\",\"nikolayevsk-on-amure\",\"huanren\",\"jamestown\",\"byumba\",\"laascaanood\",\"oranjemund\",\"burutu\",\"haikou\",\"n'zeto\",\"mahanoro\",\"sinaia\",\"masterton\",\"egilsstadir\",\"polyarnyy\",\"cockburn town\",\"st. john's\",\"kavieng\",\"hawaiian paradise park\",\"zaozersk\",\"lethbridge\",\"sumbawanga\",\"greifswald\",\"olinda\",\"choyr\",\"akureyri\",\"carlisle\",\"suya\",\"impfondo\",\"minas de marcona\",\"warrenton\",\"dukhovnitskoye\",\"al ghayzah\",\"ciudad lazaro cardenas\",\"coahuayana de hidalgo\",\"pisco\",\"prado\",\"port alfred\",\"gushu\",\"ditrau\",\"lubang\",\"paraiso\",\"guaiba\",\"cradock\",\"vilyuchinsk\",\"arraial do cabo\",\"talnakh\",\"natal\",\"brigantine\",\"usogorsk\",\"queenstown\",\"richards bay\",\"kismayo\",\"rikaze\",\"tura\",\"howrah\",\"bodo\",\"qamdo\",\"afaahiti\",\"konstantinovka\",\"benjamin aceval\",\"great bend\",\"kalmunai\",\"nova sintra\",\"bandarbeyla\",\"balnearia\",\"al artawiyah\",\"sidi merouane\",\"yucca valley\",\"motygino\",\"i-n-salah\",\"alice springs\",\"brisas de zicatela\",\"fort mcmurray\",\"vorgashor\",\"ibimirim\",\"holualoa\",\"cabedelo\",\"kruisfontein\",\"malanje\",\"punta cardon\",\"sol'-iletsk\",\"taroa\",\"kiunga\",\"ouallam\",\"port shepstone\",\"kailua-kona\",\"korla\",\"ndende\",\"kingston\",\"ugoofaaru\",\"chichawatni\",\"hennebont\",\"taghazout\",\"moscow\",\"puerto baquerizo moreno\",\"lesosibirsk\",\"rio grande\",\"kresttsy\",\"jinchang\",\"pimentel\",\"abaetetuba\",\"mata-utu\",\"ad dilam\",\"qaqortoq\",\"zheleznodorozhnyy\",\"aripuana\",\"ketchikan\",\"ust-nera\",\"lerwick\",\"maua\",\"rodolfo sanchez taboada\",\"brookings\",\"planaltina\",\"salta\",\"kokpekty\",\"ilhabela\",\"roi et\",\"tromso\",\"devoto\",\"bechar\",\"zakamensk\",\"an nuhud\",\"sangkhla buri\",\"kijang\",\"patong\",\"ilulissat\",\"capitao poco\",\"usinsk\",\"felipe carrillo puerto\",\"tarhuna\",\"angra do heroismo\",\"mersing\",\"progreso\",\"mont-dore\",\"svoge\",\"wynyard\",\"balakhta\",\"neryungri\",\"arno\",\"saqqez\",\"fayroz koh\",\"corry\",\"ouadda\",\"miles city\",\"choibalsan\",\"katabu\",\"island harbour\",\"santa ana\",\"new mirpur\",\"nongpoh\",\"podporozh'ye\",\"vredendal\",\"bubaque\",\"guardo\",\"port saint john's\",\"gore\",\"yerofey pavlovich\",\"magadan\",\"abalak\",\"adh dhibiyah\",\"elizabeth city\",\"sawakin\",\"chopinzinho\",\"lethem\",\"bashmakovo\",\"kerikeri\",\"gadzhiyevo\",\"urzhar\",\"alice\",\"port moresby\",\"mukalla\",\"west end\",\"veraval\",\"slave lake\",\"pathein\",\"hamilton\",\"sao jose da coroa grande\",\"guarapari\",\"ikwiriri\",\"las tablas\",\"tuy hoa\",\"mirny\",\"mantua\",\"tarawa\",\"tazovsky\",\"mulayjah\",\"villa bruzual\",\"chibougamau\",\"zholymbet\",\"tchintabaraden\",\"mil'kovo\",\"basco\",\"arkhangel'sk\",\"iringa\",\"suhbaatar\",\"nagqu\",\"niafunke\",\"mundybash\",\"songjiang\",\"lhasa\",\"san isidro de curuguaty\",\"weno\",\"thap than\",\"colonia menno\",\"fale old settlement\",\"la asuncion\",\"aykhal\",\"floro\",\"hede\",\"sarikei\",\"haiku-pauwela\",\"serhiyivka\",\"samfya\",\"tanumah\",\"rizhao\",\"alofi\",\"caleta de carquin\",\"macheng\",\"kapit\",\"san pedro pochutla\",\"qarauyl\",\"lorengau\",\"lancut\",\"saint-pierre\",\"hargeysa\",\"college\",\"peace river\",\"razole\",\"sao bento do sul\",\"cannonvale\",\"oneida\",\"mount gambier\",\"neiafu\",\"palmerston north\",\"al hufuf\",\"kushiro\",\"nishifukuma\",\"cruz del eje\",\"jayapura\",\"talara\",\"ohara\",\"alenquer\",\"alesund\",\"northam\",\"inhambane\",\"illizi\",\"waingapu\",\"tralee\",\"westport\",\"bengkulu\",\"la ronge\",\"tafresh\",\"keflavik\",\"cambria\",\"zeya\",\"sanya\",\"cove\",\"sai buri\",\"aljezur\",\"copala\",\"ash shafa\",\"ifanadiana\",\"portland\",\"mhamid\",\"rongelap\",\"vernon\",\"almeirim\",\"smithers\",\"nadi\",\"eastham\",\"ovalle\",\"jefferson city\",\"kollo\",\"forio\",\"turpan\",\"pagar alam\",\"belyy yar\",\"tidjikja\",\"port macquarie\",\"port douglas\",\"corner brook\",\"taos\",\"mary\",\"az zawr\",\"malpica\",\"uglegorsk\",\"warri\",\"demidov\",\"sa'dah\",\"kuantan\",\"cholet\",\"ndibene dahra\",\"soio\",\"ambodifotatra\",\"phalodi\",\"abepura\",\"urengoy\",\"labytnangi\",\"carauari\",\"margarita belen\",\"cidreira\",\"troitskoye\",\"kapa'a\",\"khovd\",\"okhotsk\",\"kharp\",\"tarashcha\",\"manaure\",\"nakamura\",\"bogandinskiy\",\"saint-joseph\",\"tabou\",\"esmoriz\",\"leava\",\"curanilahue\",\"mammoth lakes\",\"jacarei\",\"argos\",\"namibe\",\"menomonie\",\"quezon\",\"keelung\",\"la gi\",\"karratha\",\"crane\",\"armacao de buzios\",\"nuku'alofa\",\"sombrerete\",\"lauttasaari\",\"rufino\",\"guanica\",\"yorkton\",\"funafuti\",\"okha\",\"walvis bay\",\"chajari\",\"burang\",\"sisimiut\",\"sao paulo de olivenca\",\"ciudad del este\",\"bardai\",\"xiva\",\"xai-xai\",\"gisborne\",\"santa vitoria do palmar\",\"laojunmiao\",\"kerimaki\",\"trevelin\",\"moyynkum\",\"nisia floresta\",\"kavaratti\",\"santo antonio do ica\",\"iwanai\",\"sinop\",\"arias\",\"cartagena del chaira\",\"moose jaw\",\"kapuskasing\",\"dakhla\",\"huizhou\",\"north bend\",\"tokar\",\"canandaigua\",\"princeville\",\"caldwell\",\"lamu\",\"perols\",\"fecamp\",\"panamaram\",\"schrozberg\",\"pudasjarvi\",\"greymouth\",\"augusto correa\",\"rio preto da eva\",\"itoman\",\"firmat\",\"quellon\",\"antalaha\",\"konarka\",\"villanueva\",\"dusti\",\"stornoway\",\"tavas\",\"abaza\",\"fort st. john\",\"ivdel'\",\"grand rapids\",\"ardestan\",\"mar de espanha\",\"strelka\",\"yarmouth\",\"san jeronimo\",\"puerto armuelles\",\"el fasher\",\"xinyuan\",\"kokopo\",\"kybartai\",\"mendi\",\"sinan\",\"key west\",\"birni n konni\",\"kill devil hills\",\"karachi\",\"nogliki\",\"sao francisco\",\"guaimaro\",\"karlskrona\",\"hassi messaoud\",\"chul'man\",\"nacogdoches\",\"tobol'sk\",\"port-vila\",\"nabire\",\"wanning\",\"yardimli\"]}}},\"fill_color\":{\"type\":\"field\",\"field\":\"color\",\"transform\":{\"id\":\"p1301\"}},\"hatch_color\":{\"type\":\"field\",\"field\":\"color\",\"transform\":{\"id\":\"p1301\"}}}},\"selection_glyph\":{\"type\":\"object\",\"name\":\"Scatter\",\"id\":\"p1310\",\"attributes\":{\"tags\":[\"apply_ranges\"],\"x\":{\"type\":\"field\",\"field\":\"Lng\"},\"y\":{\"type\":\"field\",\"field\":\"Lat\"},\"size\":{\"type\":\"field\",\"field\":\"size\"},\"line_color\":{\"type\":\"field\",\"field\":\"color\",\"transform\":{\"id\":\"p1301\"}},\"fill_color\":{\"type\":\"field\",\"field\":\"color\",\"transform\":{\"id\":\"p1301\"}},\"hatch_color\":{\"type\":\"field\",\"field\":\"color\",\"transform\":{\"id\":\"p1301\"}}}},\"nonselection_glyph\":{\"type\":\"object\",\"name\":\"Scatter\",\"id\":\"p1309\",\"attributes\":{\"tags\":[\"apply_ranges\"],\"x\":{\"type\":\"field\",\"field\":\"Lng\"},\"y\":{\"type\":\"field\",\"field\":\"Lat\"},\"size\":{\"type\":\"field\",\"field\":\"size\"},\"line_color\":{\"type\":\"field\",\"field\":\"color\",\"transform\":{\"id\":\"p1301\"}},\"line_alpha\":{\"type\":\"value\",\"value\":0.1},\"fill_color\":{\"type\":\"field\",\"field\":\"color\",\"transform\":{\"id\":\"p1301\"}},\"fill_alpha\":{\"type\":\"value\",\"value\":0.1},\"hatch_color\":{\"type\":\"field\",\"field\":\"color\",\"transform\":{\"id\":\"p1301\"}},\"hatch_alpha\":{\"type\":\"value\",\"value\":0.1}}},\"hover_glyph\":{\"type\":\"object\",\"name\":\"Scatter\",\"id\":\"p1311\",\"attributes\":{\"tags\":[\"apply_ranges\"],\"x\":{\"type\":\"field\",\"field\":\"Lng\"},\"y\":{\"type\":\"field\",\"field\":\"Lat\"},\"size\":{\"type\":\"field\",\"field\":\"size\"},\"line_color\":{\"type\":\"field\",\"field\":\"color\",\"transform\":{\"id\":\"p1301\"}},\"fill_color\":{\"type\":\"field\",\"field\":\"color\",\"transform\":{\"id\":\"p1301\"}},\"hatch_color\":{\"type\":\"field\",\"field\":\"color\",\"transform\":{\"id\":\"p1301\"}}}},\"muted_glyph\":{\"type\":\"object\",\"name\":\"Scatter\",\"id\":\"p1312\",\"attributes\":{\"tags\":[\"apply_ranges\"],\"x\":{\"type\":\"field\",\"field\":\"Lng\"},\"y\":{\"type\":\"field\",\"field\":\"Lat\"},\"size\":{\"type\":\"field\",\"field\":\"size\"},\"line_color\":{\"type\":\"field\",\"field\":\"color\",\"transform\":{\"id\":\"p1301\"}},\"line_alpha\":{\"type\":\"value\",\"value\":0.2},\"fill_color\":{\"type\":\"field\",\"field\":\"color\",\"transform\":{\"id\":\"p1301\"}},\"fill_alpha\":{\"type\":\"value\",\"value\":0.2},\"hatch_color\":{\"type\":\"field\",\"field\":\"color\",\"transform\":{\"id\":\"p1301\"}},\"hatch_alpha\":{\"type\":\"value\",\"value\":0.2}}}}}],\"toolbar\":{\"type\":\"object\",\"name\":\"Toolbar\",\"id\":\"p1273\",\"attributes\":{\"tools\":[{\"type\":\"object\",\"name\":\"WheelZoomTool\",\"id\":\"p1239\",\"attributes\":{\"renderers\":\"auto\",\"zoom_on_axis\":false}},{\"type\":\"object\",\"name\":\"BoxZoomTool\",\"id\":\"p1245\",\"attributes\":{\"overlay\":{\"type\":\"object\",\"name\":\"BoxAnnotation\",\"id\":\"p1240\",\"attributes\":{\"syncable\":false,\"level\":\"overlay\",\"visible\":false,\"left\":{\"type\":\"number\",\"value\":\"nan\"},\"right\":{\"type\":\"number\",\"value\":\"nan\"},\"top\":{\"type\":\"number\",\"value\":\"nan\"},\"bottom\":{\"type\":\"number\",\"value\":\"nan\"},\"left_units\":\"canvas\",\"right_units\":\"canvas\",\"top_units\":\"canvas\",\"bottom_units\":\"canvas\",\"line_color\":\"black\",\"line_alpha\":1.0,\"line_width\":2,\"line_dash\":[4,4],\"fill_color\":\"lightgrey\",\"fill_alpha\":0.5}},\"match_aspect\":true}},{\"type\":\"object\",\"name\":\"HoverTool\",\"id\":\"p1263\",\"attributes\":{\"tags\":[\"hv_created\"],\"renderers\":[{\"id\":\"p1313\"}],\"tooltips\":[[\"Lng\",\"$x{custom}\"],[\"Lat\",\"$y{custom}\"],[\"City\",\"@{City}\"],[\"Humidity\",\"@{Humidity}\"],[\"Country\",\"@{Country}\"],[\"Hotel Name\",\"@{Hotel_Name}\"]],\"formatters\":{\"type\":\"map\",\"entries\":[[\"$x\",{\"type\":\"object\",\"name\":\"CustomJSHover\",\"id\":\"p1318\",\"attributes\":{\"code\":\"\\n        const projections = Bokeh.require(\\\"core/util/projections\\\");\\n        const {snap_x, snap_y} = special_vars\\n        const coords = projections.wgs84_mercator.invert(snap_x, snap_y)\\n        return \\\"\\\" + (coords[0]).toFixed(4)\\n    \"}}],[\"$y\",{\"type\":\"object\",\"name\":\"CustomJSHover\",\"id\":\"p1319\",\"attributes\":{\"code\":\"\\n        const projections = Bokeh.require(\\\"core/util/projections\\\");\\n        const {snap_x, snap_y} = special_vars\\n        const coords = projections.wgs84_mercator.invert(snap_x, snap_y)\\n        return \\\"\\\" + (coords[1]).toFixed(4)\\n    \"}}]]}}},{\"type\":\"object\",\"name\":\"PanTool\",\"id\":\"p1287\"},{\"type\":\"object\",\"name\":\"ResetTool\",\"id\":\"p1288\"}],\"active_drag\":{\"id\":\"p1287\"}}},\"left\":[{\"type\":\"object\",\"name\":\"LinearAxis\",\"id\":\"p1281\",\"attributes\":{\"ticker\":{\"type\":\"object\",\"name\":\"MercatorTicker\",\"id\":\"p1291\",\"attributes\":{\"mantissas\":[1,2,5],\"dimension\":\"lat\"}},\"formatter\":{\"type\":\"object\",\"name\":\"MercatorTickFormatter\",\"id\":\"p1292\",\"attributes\":{\"dimension\":\"lat\"}},\"axis_label\":\"Latitude\",\"major_label_policy\":{\"type\":\"object\",\"name\":\"AllLabels\",\"id\":\"p1284\"}}}],\"right\":[{\"type\":\"object\",\"name\":\"Legend\",\"id\":\"p1316\",\"attributes\":{\"location\":[0,0],\"click_policy\":\"mute\",\"items\":[{\"type\":\"object\",\"name\":\"LegendItem\",\"id\":\"p1317\",\"attributes\":{\"label\":{\"type\":\"field\",\"field\":\"color\"},\"renderers\":[{\"id\":\"p1313\"}]}}]}}],\"below\":[{\"type\":\"object\",\"name\":\"LinearAxis\",\"id\":\"p1276\",\"attributes\":{\"ticker\":{\"type\":\"object\",\"name\":\"MercatorTicker\",\"id\":\"p1289\",\"attributes\":{\"mantissas\":[1,2,5],\"dimension\":\"lon\"}},\"formatter\":{\"type\":\"object\",\"name\":\"MercatorTickFormatter\",\"id\":\"p1290\",\"attributes\":{\"dimension\":\"lon\"}},\"axis_label\":\"Longitude\",\"major_label_policy\":{\"type\":\"object\",\"name\":\"AllLabels\",\"id\":\"p1279\"}}}],\"center\":[{\"type\":\"object\",\"name\":\"Grid\",\"id\":\"p1280\",\"attributes\":{\"axis\":{\"id\":\"p1276\"},\"grid_line_color\":null}},{\"type\":\"object\",\"name\":\"Grid\",\"id\":\"p1285\",\"attributes\":{\"dimension\":1,\"axis\":{\"id\":\"p1281\"},\"grid_line_color\":null}}],\"frame_width\":591,\"frame_height\":300,\"min_border_top\":10,\"min_border_bottom\":10,\"min_border_left\":10,\"min_border_right\":10,\"output_backend\":\"webgl\",\"match_aspect\":true}},{\"type\":\"object\",\"name\":\"Spacer\",\"id\":\"p1321\",\"attributes\":{\"name\":\"HSpacer01966\",\"stylesheets\":[\"\\n:host(.pn-loading):before, .pn-loading:before {\\n  background-color: #c3c3c3;\\n  mask-size: auto calc(min(50%, 400px));\\n  -webkit-mask-size: auto calc(min(50%, 400px));\\n}\",{\"id\":\"p1224\"},{\"id\":\"p1222\"},{\"id\":\"p1223\"}],\"margin\":0,\"sizing_mode\":\"stretch_width\",\"align\":\"start\"}}]}}],\"defs\":[{\"type\":\"model\",\"name\":\"ReactiveHTML1\"},{\"type\":\"model\",\"name\":\"FlexBox1\",\"properties\":[{\"name\":\"align_content\",\"kind\":\"Any\",\"default\":\"flex-start\"},{\"name\":\"align_items\",\"kind\":\"Any\",\"default\":\"flex-start\"},{\"name\":\"flex_direction\",\"kind\":\"Any\",\"default\":\"row\"},{\"name\":\"flex_wrap\",\"kind\":\"Any\",\"default\":\"wrap\"},{\"name\":\"gap\",\"kind\":\"Any\",\"default\":\"\"},{\"name\":\"justify_content\",\"kind\":\"Any\",\"default\":\"flex-start\"}]},{\"type\":\"model\",\"name\":\"FloatPanel1\",\"properties\":[{\"name\":\"config\",\"kind\":\"Any\",\"default\":{\"type\":\"map\"}},{\"name\":\"contained\",\"kind\":\"Any\",\"default\":true},{\"name\":\"position\",\"kind\":\"Any\",\"default\":\"right-top\"},{\"name\":\"offsetx\",\"kind\":\"Any\",\"default\":null},{\"name\":\"offsety\",\"kind\":\"Any\",\"default\":null},{\"name\":\"theme\",\"kind\":\"Any\",\"default\":\"primary\"},{\"name\":\"status\",\"kind\":\"Any\",\"default\":\"normalized\"}]},{\"type\":\"model\",\"name\":\"GridStack1\",\"properties\":[{\"name\":\"mode\",\"kind\":\"Any\",\"default\":\"warn\"},{\"name\":\"ncols\",\"kind\":\"Any\",\"default\":null},{\"name\":\"nrows\",\"kind\":\"Any\",\"default\":null},{\"name\":\"allow_resize\",\"kind\":\"Any\",\"default\":true},{\"name\":\"allow_drag\",\"kind\":\"Any\",\"default\":true},{\"name\":\"state\",\"kind\":\"Any\",\"default\":[]}]},{\"type\":\"model\",\"name\":\"drag1\",\"properties\":[{\"name\":\"slider_width\",\"kind\":\"Any\",\"default\":5},{\"name\":\"slider_color\",\"kind\":\"Any\",\"default\":\"black\"},{\"name\":\"value\",\"kind\":\"Any\",\"default\":50}]},{\"type\":\"model\",\"name\":\"click1\",\"properties\":[{\"name\":\"terminal_output\",\"kind\":\"Any\",\"default\":\"\"},{\"name\":\"debug_name\",\"kind\":\"Any\",\"default\":\"\"},{\"name\":\"clears\",\"kind\":\"Any\",\"default\":0}]},{\"type\":\"model\",\"name\":\"FastWrapper1\",\"properties\":[{\"name\":\"object\",\"kind\":\"Any\",\"default\":null},{\"name\":\"style\",\"kind\":\"Any\",\"default\":null}]},{\"type\":\"model\",\"name\":\"NotificationAreaBase1\",\"properties\":[{\"name\":\"js_events\",\"kind\":\"Any\",\"default\":{\"type\":\"map\"}},{\"name\":\"position\",\"kind\":\"Any\",\"default\":\"bottom-right\"},{\"name\":\"_clear\",\"kind\":\"Any\",\"default\":0}]},{\"type\":\"model\",\"name\":\"NotificationArea1\",\"properties\":[{\"name\":\"js_events\",\"kind\":\"Any\",\"default\":{\"type\":\"map\"}},{\"name\":\"notifications\",\"kind\":\"Any\",\"default\":[]},{\"name\":\"position\",\"kind\":\"Any\",\"default\":\"bottom-right\"},{\"name\":\"_clear\",\"kind\":\"Any\",\"default\":0},{\"name\":\"types\",\"kind\":\"Any\",\"default\":[{\"type\":\"map\",\"entries\":[[\"type\",\"warning\"],[\"background\",\"#ffc107\"],[\"icon\",{\"type\":\"map\",\"entries\":[[\"className\",\"fas fa-exclamation-triangle\"],[\"tagName\",\"i\"],[\"color\",\"white\"]]}]]},{\"type\":\"map\",\"entries\":[[\"type\",\"info\"],[\"background\",\"#007bff\"],[\"icon\",{\"type\":\"map\",\"entries\":[[\"className\",\"fas fa-info-circle\"],[\"tagName\",\"i\"],[\"color\",\"white\"]]}]]}]}]},{\"type\":\"model\",\"name\":\"Notification\",\"properties\":[{\"name\":\"background\",\"kind\":\"Any\",\"default\":null},{\"name\":\"duration\",\"kind\":\"Any\",\"default\":3000},{\"name\":\"icon\",\"kind\":\"Any\",\"default\":null},{\"name\":\"message\",\"kind\":\"Any\",\"default\":\"\"},{\"name\":\"notification_type\",\"kind\":\"Any\",\"default\":null},{\"name\":\"_destroyed\",\"kind\":\"Any\",\"default\":false}]},{\"type\":\"model\",\"name\":\"TemplateActions1\",\"properties\":[{\"name\":\"open_modal\",\"kind\":\"Any\",\"default\":0},{\"name\":\"close_modal\",\"kind\":\"Any\",\"default\":0}]},{\"type\":\"model\",\"name\":\"BootstrapTemplateActions1\",\"properties\":[{\"name\":\"open_modal\",\"kind\":\"Any\",\"default\":0},{\"name\":\"close_modal\",\"kind\":\"Any\",\"default\":0}]},{\"type\":\"model\",\"name\":\"TemplateEditor1\",\"properties\":[{\"name\":\"layout\",\"kind\":\"Any\",\"default\":[]}]},{\"type\":\"model\",\"name\":\"MaterialTemplateActions1\",\"properties\":[{\"name\":\"open_modal\",\"kind\":\"Any\",\"default\":0},{\"name\":\"close_modal\",\"kind\":\"Any\",\"default\":0}]},{\"type\":\"model\",\"name\":\"copy_to_clipboard1\",\"properties\":[{\"name\":\"fill\",\"kind\":\"Any\",\"default\":\"none\"},{\"name\":\"value\",\"kind\":\"Any\",\"default\":null}]}]}};\n",
       "  var render_items = [{\"docid\":\"8f88e4ca-b9fd-4544-bc09-bfcc4d523f5a\",\"roots\":{\"p1221\":\"abec90e3-6224-40b6-ae92-7fc88c3e2018\"},\"root_ids\":[\"p1221\"]}];\n",
       "  var docs = Object.values(docs_json)\n",
       "  if (!docs) {\n",
       "    return\n",
       "  }\n",
       "  const py_version = docs[0].version.replace('rc', '-rc.').replace('.dev', '-dev.')\n",
       "  async function embed_document(root) {\n",
       "    var Bokeh = get_bokeh(root)\n",
       "    await Bokeh.embed.embed_items_notebook(docs_json, render_items);\n",
       "    for (const render_item of render_items) {\n",
       "      for (const root_id of render_item.root_ids) {\n",
       "\tconst id_el = document.getElementById(root_id)\n",
       "\tif (id_el.children.length && id_el.children[0].hasAttribute('data-root-id')) {\n",
       "\t  const root_el = id_el.children[0]\n",
       "\t  root_el.id = root_el.id + '-rendered'\n",
       "\t  for (const child of root_el.children) {\n",
       "            // Ensure JupyterLab does not capture keyboard shortcuts\n",
       "            // see: https://jupyterlab.readthedocs.io/en/4.1.x/extension/notebook.html#keyboard-interaction-model\n",
       "\t    child.setAttribute('data-lm-suppress-shortcuts', 'true')\n",
       "\t  }\n",
       "\t}\n",
       "      }\n",
       "    }\n",
       "  }\n",
       "  function get_bokeh(root) {\n",
       "    if (root.Bokeh === undefined) {\n",
       "      return null\n",
       "    } else if (root.Bokeh.version !== py_version) {\n",
       "      if (root.Bokeh.versions === undefined || !root.Bokeh.versions.has(py_version)) {\n",
       "\treturn null\n",
       "      }\n",
       "      return root.Bokeh.versions.get(py_version);\n",
       "    } else if (root.Bokeh.version === py_version) {\n",
       "      return root.Bokeh\n",
       "    }\n",
       "    return null\n",
       "  }\n",
       "  function is_loaded(root) {\n",
       "    var Bokeh = get_bokeh(root)\n",
       "    return (Bokeh != null && Bokeh.Panel !== undefined)\n",
       "  }\n",
       "  if (is_loaded(root)) {\n",
       "    embed_document(root);\n",
       "  } else {\n",
       "    var attempts = 0;\n",
       "    var timer = setInterval(function(root) {\n",
       "      if (is_loaded(root)) {\n",
       "        clearInterval(timer);\n",
       "        embed_document(root);\n",
       "      } else if (document.readyState == \"complete\") {\n",
       "        attempts++;\n",
       "        if (attempts > 200) {\n",
       "          clearInterval(timer);\n",
       "\t  var Bokeh = get_bokeh(root)\n",
       "\t  if (Bokeh == null || Bokeh.Panel == null) {\n",
       "            console.warn(\"Panel: ERROR: Unable to run Panel code because Bokeh or Panel library is missing\");\n",
       "\t  } else {\n",
       "\t    console.warn(\"Panel: WARNING: Attempting to render but not all required libraries could be resolved.\")\n",
       "\t    embed_document(root)\n",
       "\t  }\n",
       "        }\n",
       "      }\n",
       "    }, 25, root)\n",
       "  }\n",
       "})(window);</script>"
      ],
      "text/plain": [
       ":Overlay\n",
       "   .WMTS.I   :WMTS   [Longitude,Latitude]\n",
       "   .Points.I :Points   [Lng,Lat]   (City,Humidity,Country,Hotel Name)"
      ]
     },
     "execution_count": 16,
     "metadata": {
      "application/vnd.holoviews_exec.v0+json": {
       "id": "p1221"
      }
     },
     "output_type": "execute_result"
    }
   ],
   "source": [
    "%%capture --no-display\n",
    "\n",
    "map_plot = hotel_df.hvplot.points(\n",
    "    \"Lng\",\n",
    "    \"Lat\",\n",
    "    geo = True,\n",
    "    tiles = \"OSM\",\n",
    "    size = 'Humidity',\n",
    "    color = 'City',\n",
    "    hover = True,\n",
    "    hover_cols = ['Country', 'Hotel Name']\n",
    "\n",
    ")\n",
    "\n",
    "# Display the map\n",
    "map_plot"
   ]
  },
  {
   "cell_type": "code",
   "execution_count": null,
   "metadata": {},
   "outputs": [],
   "source": []
  }
 ],
 "metadata": {
  "kernelspec": {
   "display_name": "Python 3 (ipykernel)",
   "language": "python",
   "name": "python3"
  },
  "language_info": {
   "codemirror_mode": {
    "name": "ipython",
    "version": 3
   },
   "file_extension": ".py",
   "mimetype": "text/x-python",
   "name": "python",
   "nbconvert_exporter": "python",
   "pygments_lexer": "ipython3",
   "version": "3.11.4"
  },
  "latex_envs": {
   "LaTeX_envs_menu_present": true,
   "autoclose": false,
   "autocomplete": true,
   "bibliofile": "biblio.bib",
   "cite_by": "apalike",
   "current_citInitial": 1,
   "eqLabelWithNumbers": true,
   "eqNumInitial": 1,
   "hotkeys": {
    "equation": "Ctrl-E",
    "itemize": "Ctrl-I"
   },
   "labels_anchors": false,
   "latex_user_defs": false,
   "report_style_numbering": false,
   "user_envs_cfg": false
  }
 },
 "nbformat": 4,
 "nbformat_minor": 4
}
